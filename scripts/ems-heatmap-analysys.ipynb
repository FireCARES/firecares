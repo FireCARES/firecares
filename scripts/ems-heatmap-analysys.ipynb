{
 "cells": [
  {
   "cell_type": "markdown",
   "metadata": {},
   "source": [
    "# EMS Data Analysis"
   ]
  },
  {
   "cell_type": "code",
   "execution_count": 4,
   "metadata": {},
   "outputs": [
    {
     "data": {
      "text/html": [
       "\n",
       "    <div class=\"bk-root\">\n",
       "        <a href=\"https://bokeh.pydata.org\" target=\"_blank\" class=\"bk-logo bk-logo-small bk-logo-notebook\"></a>\n",
       "        <span id=\"1258\">Loading BokehJS ...</span>\n",
       "    </div>"
      ]
     },
     "metadata": {},
     "output_type": "display_data"
    },
    {
     "data": {
      "application/javascript": [
       "\n",
       "(function(root) {\n",
       "  function now() {\n",
       "    return new Date();\n",
       "  }\n",
       "\n",
       "  var force = true;\n",
       "\n",
       "  if (typeof (root._bokeh_onload_callbacks) === \"undefined\" || force === true) {\n",
       "    root._bokeh_onload_callbacks = [];\n",
       "    root._bokeh_is_loading = undefined;\n",
       "  }\n",
       "\n",
       "  var JS_MIME_TYPE = 'application/javascript';\n",
       "  var HTML_MIME_TYPE = 'text/html';\n",
       "  var EXEC_MIME_TYPE = 'application/vnd.bokehjs_exec.v0+json';\n",
       "  var CLASS_NAME = 'output_bokeh rendered_html';\n",
       "\n",
       "  /**\n",
       "   * Render data to the DOM node\n",
       "   */\n",
       "  function render(props, node) {\n",
       "    var script = document.createElement(\"script\");\n",
       "    node.appendChild(script);\n",
       "  }\n",
       "\n",
       "  /**\n",
       "   * Handle when an output is cleared or removed\n",
       "   */\n",
       "  function handleClearOutput(event, handle) {\n",
       "    var cell = handle.cell;\n",
       "\n",
       "    var id = cell.output_area._bokeh_element_id;\n",
       "    var server_id = cell.output_area._bokeh_server_id;\n",
       "    // Clean up Bokeh references\n",
       "    if (id != null && id in Bokeh.index) {\n",
       "      Bokeh.index[id].model.document.clear();\n",
       "      delete Bokeh.index[id];\n",
       "    }\n",
       "\n",
       "    if (server_id !== undefined) {\n",
       "      // Clean up Bokeh references\n",
       "      var cmd = \"from bokeh.io.state import curstate; print(curstate().uuid_to_server['\" + server_id + \"'].get_sessions()[0].document.roots[0]._id)\";\n",
       "      cell.notebook.kernel.execute(cmd, {\n",
       "        iopub: {\n",
       "          output: function(msg) {\n",
       "            var id = msg.content.text.trim();\n",
       "            if (id in Bokeh.index) {\n",
       "              Bokeh.index[id].model.document.clear();\n",
       "              delete Bokeh.index[id];\n",
       "            }\n",
       "          }\n",
       "        }\n",
       "      });\n",
       "      // Destroy server and session\n",
       "      var cmd = \"import bokeh.io.notebook as ion; ion.destroy_server('\" + server_id + \"')\";\n",
       "      cell.notebook.kernel.execute(cmd);\n",
       "    }\n",
       "  }\n",
       "\n",
       "  /**\n",
       "   * Handle when a new output is added\n",
       "   */\n",
       "  function handleAddOutput(event, handle) {\n",
       "    var output_area = handle.output_area;\n",
       "    var output = handle.output;\n",
       "\n",
       "    // limit handleAddOutput to display_data with EXEC_MIME_TYPE content only\n",
       "    if ((output.output_type != \"display_data\") || (!output.data.hasOwnProperty(EXEC_MIME_TYPE))) {\n",
       "      return\n",
       "    }\n",
       "\n",
       "    var toinsert = output_area.element.find(\".\" + CLASS_NAME.split(' ')[0]);\n",
       "\n",
       "    if (output.metadata[EXEC_MIME_TYPE][\"id\"] !== undefined) {\n",
       "      toinsert[toinsert.length - 1].firstChild.textContent = output.data[JS_MIME_TYPE];\n",
       "      // store reference to embed id on output_area\n",
       "      output_area._bokeh_element_id = output.metadata[EXEC_MIME_TYPE][\"id\"];\n",
       "    }\n",
       "    if (output.metadata[EXEC_MIME_TYPE][\"server_id\"] !== undefined) {\n",
       "      var bk_div = document.createElement(\"div\");\n",
       "      bk_div.innerHTML = output.data[HTML_MIME_TYPE];\n",
       "      var script_attrs = bk_div.children[0].attributes;\n",
       "      for (var i = 0; i < script_attrs.length; i++) {\n",
       "        toinsert[toinsert.length - 1].firstChild.setAttribute(script_attrs[i].name, script_attrs[i].value);\n",
       "      }\n",
       "      // store reference to server id on output_area\n",
       "      output_area._bokeh_server_id = output.metadata[EXEC_MIME_TYPE][\"server_id\"];\n",
       "    }\n",
       "  }\n",
       "\n",
       "  function register_renderer(events, OutputArea) {\n",
       "\n",
       "    function append_mime(data, metadata, element) {\n",
       "      // create a DOM node to render to\n",
       "      var toinsert = this.create_output_subarea(\n",
       "        metadata,\n",
       "        CLASS_NAME,\n",
       "        EXEC_MIME_TYPE\n",
       "      );\n",
       "      this.keyboard_manager.register_events(toinsert);\n",
       "      // Render to node\n",
       "      var props = {data: data, metadata: metadata[EXEC_MIME_TYPE]};\n",
       "      render(props, toinsert[toinsert.length - 1]);\n",
       "      element.append(toinsert);\n",
       "      return toinsert\n",
       "    }\n",
       "\n",
       "    /* Handle when an output is cleared or removed */\n",
       "    events.on('clear_output.CodeCell', handleClearOutput);\n",
       "    events.on('delete.Cell', handleClearOutput);\n",
       "\n",
       "    /* Handle when a new output is added */\n",
       "    events.on('output_added.OutputArea', handleAddOutput);\n",
       "\n",
       "    /**\n",
       "     * Register the mime type and append_mime function with output_area\n",
       "     */\n",
       "    OutputArea.prototype.register_mime_type(EXEC_MIME_TYPE, append_mime, {\n",
       "      /* Is output safe? */\n",
       "      safe: true,\n",
       "      /* Index of renderer in `output_area.display_order` */\n",
       "      index: 0\n",
       "    });\n",
       "  }\n",
       "\n",
       "  // register the mime type if in Jupyter Notebook environment and previously unregistered\n",
       "  if (root.Jupyter !== undefined) {\n",
       "    var events = require('base/js/events');\n",
       "    var OutputArea = require('notebook/js/outputarea').OutputArea;\n",
       "\n",
       "    if (OutputArea.prototype.mime_types().indexOf(EXEC_MIME_TYPE) == -1) {\n",
       "      register_renderer(events, OutputArea);\n",
       "    }\n",
       "  }\n",
       "\n",
       "  \n",
       "  if (typeof (root._bokeh_timeout) === \"undefined\" || force === true) {\n",
       "    root._bokeh_timeout = Date.now() + 5000;\n",
       "    root._bokeh_failed_load = false;\n",
       "  }\n",
       "\n",
       "  var NB_LOAD_WARNING = {'data': {'text/html':\n",
       "     \"<div style='background-color: #fdd'>\\n\"+\n",
       "     \"<p>\\n\"+\n",
       "     \"BokehJS does not appear to have successfully loaded. If loading BokehJS from CDN, this \\n\"+\n",
       "     \"may be due to a slow or bad network connection. Possible fixes:\\n\"+\n",
       "     \"</p>\\n\"+\n",
       "     \"<ul>\\n\"+\n",
       "     \"<li>re-rerun `output_notebook()` to attempt to load from CDN again, or</li>\\n\"+\n",
       "     \"<li>use INLINE resources instead, as so:</li>\\n\"+\n",
       "     \"</ul>\\n\"+\n",
       "     \"<code>\\n\"+\n",
       "     \"from bokeh.resources import INLINE\\n\"+\n",
       "     \"output_notebook(resources=INLINE)\\n\"+\n",
       "     \"</code>\\n\"+\n",
       "     \"</div>\"}};\n",
       "\n",
       "  function display_loaded() {\n",
       "    var el = document.getElementById(\"1258\");\n",
       "    if (el != null) {\n",
       "      el.textContent = \"BokehJS is loading...\";\n",
       "    }\n",
       "    if (root.Bokeh !== undefined) {\n",
       "      if (el != null) {\n",
       "        el.textContent = \"BokehJS \" + root.Bokeh.version + \" successfully loaded.\";\n",
       "      }\n",
       "    } else if (Date.now() < root._bokeh_timeout) {\n",
       "      setTimeout(display_loaded, 100)\n",
       "    }\n",
       "  }\n",
       "\n",
       "\n",
       "  function run_callbacks() {\n",
       "    try {\n",
       "      root._bokeh_onload_callbacks.forEach(function(callback) { callback() });\n",
       "    }\n",
       "    finally {\n",
       "      delete root._bokeh_onload_callbacks\n",
       "    }\n",
       "    console.info(\"Bokeh: all callbacks have finished\");\n",
       "  }\n",
       "\n",
       "  function load_libs(js_urls, callback) {\n",
       "    root._bokeh_onload_callbacks.push(callback);\n",
       "    if (root._bokeh_is_loading > 0) {\n",
       "      console.log(\"Bokeh: BokehJS is being loaded, scheduling callback at\", now());\n",
       "      return null;\n",
       "    }\n",
       "    if (js_urls == null || js_urls.length === 0) {\n",
       "      run_callbacks();\n",
       "      return null;\n",
       "    }\n",
       "    console.log(\"Bokeh: BokehJS not loaded, scheduling load and callback at\", now());\n",
       "    root._bokeh_is_loading = js_urls.length;\n",
       "    for (var i = 0; i < js_urls.length; i++) {\n",
       "      var url = js_urls[i];\n",
       "      var s = document.createElement('script');\n",
       "      s.src = url;\n",
       "      s.async = false;\n",
       "      s.onreadystatechange = s.onload = function() {\n",
       "        root._bokeh_is_loading--;\n",
       "        if (root._bokeh_is_loading === 0) {\n",
       "          console.log(\"Bokeh: all BokehJS libraries loaded\");\n",
       "          run_callbacks()\n",
       "        }\n",
       "      };\n",
       "      s.onerror = function() {\n",
       "        console.warn(\"failed to load library \" + url);\n",
       "      };\n",
       "      console.log(\"Bokeh: injecting script tag for BokehJS library: \", url);\n",
       "      document.getElementsByTagName(\"head\")[0].appendChild(s);\n",
       "    }\n",
       "  };var element = document.getElementById(\"1258\");\n",
       "  if (element == null) {\n",
       "    console.log(\"Bokeh: ERROR: autoload.js configured with elementid '1258' but no matching script tag was found. \")\n",
       "    return false;\n",
       "  }\n",
       "\n",
       "  var js_urls = [\"https://cdn.pydata.org/bokeh/release/bokeh-1.0.0.min.js\", \"https://cdn.pydata.org/bokeh/release/bokeh-widgets-1.0.0.min.js\", \"https://cdn.pydata.org/bokeh/release/bokeh-tables-1.0.0.min.js\", \"https://cdn.pydata.org/bokeh/release/bokeh-gl-1.0.0.min.js\"];\n",
       "\n",
       "  var inline_js = [\n",
       "    function(Bokeh) {\n",
       "      Bokeh.set_log_level(\"info\");\n",
       "    },\n",
       "    \n",
       "    function(Bokeh) {\n",
       "      \n",
       "    },\n",
       "    function(Bokeh) {\n",
       "      console.log(\"Bokeh: injecting CSS: https://cdn.pydata.org/bokeh/release/bokeh-1.0.0.min.css\");\n",
       "      Bokeh.embed.inject_css(\"https://cdn.pydata.org/bokeh/release/bokeh-1.0.0.min.css\");\n",
       "      console.log(\"Bokeh: injecting CSS: https://cdn.pydata.org/bokeh/release/bokeh-widgets-1.0.0.min.css\");\n",
       "      Bokeh.embed.inject_css(\"https://cdn.pydata.org/bokeh/release/bokeh-widgets-1.0.0.min.css\");\n",
       "      console.log(\"Bokeh: injecting CSS: https://cdn.pydata.org/bokeh/release/bokeh-tables-1.0.0.min.css\");\n",
       "      Bokeh.embed.inject_css(\"https://cdn.pydata.org/bokeh/release/bokeh-tables-1.0.0.min.css\");\n",
       "    }\n",
       "  ];\n",
       "\n",
       "  function run_inline_js() {\n",
       "    \n",
       "    if ((root.Bokeh !== undefined) || (force === true)) {\n",
       "      for (var i = 0; i < inline_js.length; i++) {\n",
       "        inline_js[i].call(root, root.Bokeh);\n",
       "      }if (force === true) {\n",
       "        display_loaded();\n",
       "      }} else if (Date.now() < root._bokeh_timeout) {\n",
       "      setTimeout(run_inline_js, 100);\n",
       "    } else if (!root._bokeh_failed_load) {\n",
       "      console.log(\"Bokeh: BokehJS failed to load within specified timeout.\");\n",
       "      root._bokeh_failed_load = true;\n",
       "    } else if (force !== true) {\n",
       "      var cell = $(document.getElementById(\"1258\")).parents('.cell').data().cell;\n",
       "      cell.output_area.append_execute_result(NB_LOAD_WARNING)\n",
       "    }\n",
       "\n",
       "  }\n",
       "\n",
       "  if (root._bokeh_is_loading === 0) {\n",
       "    console.log(\"Bokeh: BokehJS loaded, going straight to plotting\");\n",
       "    run_inline_js();\n",
       "  } else {\n",
       "    load_libs(js_urls, function() {\n",
       "      console.log(\"Bokeh: BokehJS plotting callback run at\", now());\n",
       "      run_inline_js();\n",
       "    });\n",
       "  }\n",
       "}(window));"
      ],
      "application/vnd.bokehjs_load.v0+json": "\n(function(root) {\n  function now() {\n    return new Date();\n  }\n\n  var force = true;\n\n  if (typeof (root._bokeh_onload_callbacks) === \"undefined\" || force === true) {\n    root._bokeh_onload_callbacks = [];\n    root._bokeh_is_loading = undefined;\n  }\n\n  \n\n  \n  if (typeof (root._bokeh_timeout) === \"undefined\" || force === true) {\n    root._bokeh_timeout = Date.now() + 5000;\n    root._bokeh_failed_load = false;\n  }\n\n  var NB_LOAD_WARNING = {'data': {'text/html':\n     \"<div style='background-color: #fdd'>\\n\"+\n     \"<p>\\n\"+\n     \"BokehJS does not appear to have successfully loaded. If loading BokehJS from CDN, this \\n\"+\n     \"may be due to a slow or bad network connection. Possible fixes:\\n\"+\n     \"</p>\\n\"+\n     \"<ul>\\n\"+\n     \"<li>re-rerun `output_notebook()` to attempt to load from CDN again, or</li>\\n\"+\n     \"<li>use INLINE resources instead, as so:</li>\\n\"+\n     \"</ul>\\n\"+\n     \"<code>\\n\"+\n     \"from bokeh.resources import INLINE\\n\"+\n     \"output_notebook(resources=INLINE)\\n\"+\n     \"</code>\\n\"+\n     \"</div>\"}};\n\n  function display_loaded() {\n    var el = document.getElementById(\"1258\");\n    if (el != null) {\n      el.textContent = \"BokehJS is loading...\";\n    }\n    if (root.Bokeh !== undefined) {\n      if (el != null) {\n        el.textContent = \"BokehJS \" + root.Bokeh.version + \" successfully loaded.\";\n      }\n    } else if (Date.now() < root._bokeh_timeout) {\n      setTimeout(display_loaded, 100)\n    }\n  }\n\n\n  function run_callbacks() {\n    try {\n      root._bokeh_onload_callbacks.forEach(function(callback) { callback() });\n    }\n    finally {\n      delete root._bokeh_onload_callbacks\n    }\n    console.info(\"Bokeh: all callbacks have finished\");\n  }\n\n  function load_libs(js_urls, callback) {\n    root._bokeh_onload_callbacks.push(callback);\n    if (root._bokeh_is_loading > 0) {\n      console.log(\"Bokeh: BokehJS is being loaded, scheduling callback at\", now());\n      return null;\n    }\n    if (js_urls == null || js_urls.length === 0) {\n      run_callbacks();\n      return null;\n    }\n    console.log(\"Bokeh: BokehJS not loaded, scheduling load and callback at\", now());\n    root._bokeh_is_loading = js_urls.length;\n    for (var i = 0; i < js_urls.length; i++) {\n      var url = js_urls[i];\n      var s = document.createElement('script');\n      s.src = url;\n      s.async = false;\n      s.onreadystatechange = s.onload = function() {\n        root._bokeh_is_loading--;\n        if (root._bokeh_is_loading === 0) {\n          console.log(\"Bokeh: all BokehJS libraries loaded\");\n          run_callbacks()\n        }\n      };\n      s.onerror = function() {\n        console.warn(\"failed to load library \" + url);\n      };\n      console.log(\"Bokeh: injecting script tag for BokehJS library: \", url);\n      document.getElementsByTagName(\"head\")[0].appendChild(s);\n    }\n  };var element = document.getElementById(\"1258\");\n  if (element == null) {\n    console.log(\"Bokeh: ERROR: autoload.js configured with elementid '1258' but no matching script tag was found. \")\n    return false;\n  }\n\n  var js_urls = [\"https://cdn.pydata.org/bokeh/release/bokeh-1.0.0.min.js\", \"https://cdn.pydata.org/bokeh/release/bokeh-widgets-1.0.0.min.js\", \"https://cdn.pydata.org/bokeh/release/bokeh-tables-1.0.0.min.js\", \"https://cdn.pydata.org/bokeh/release/bokeh-gl-1.0.0.min.js\"];\n\n  var inline_js = [\n    function(Bokeh) {\n      Bokeh.set_log_level(\"info\");\n    },\n    \n    function(Bokeh) {\n      \n    },\n    function(Bokeh) {\n      console.log(\"Bokeh: injecting CSS: https://cdn.pydata.org/bokeh/release/bokeh-1.0.0.min.css\");\n      Bokeh.embed.inject_css(\"https://cdn.pydata.org/bokeh/release/bokeh-1.0.0.min.css\");\n      console.log(\"Bokeh: injecting CSS: https://cdn.pydata.org/bokeh/release/bokeh-widgets-1.0.0.min.css\");\n      Bokeh.embed.inject_css(\"https://cdn.pydata.org/bokeh/release/bokeh-widgets-1.0.0.min.css\");\n      console.log(\"Bokeh: injecting CSS: https://cdn.pydata.org/bokeh/release/bokeh-tables-1.0.0.min.css\");\n      Bokeh.embed.inject_css(\"https://cdn.pydata.org/bokeh/release/bokeh-tables-1.0.0.min.css\");\n    }\n  ];\n\n  function run_inline_js() {\n    \n    if ((root.Bokeh !== undefined) || (force === true)) {\n      for (var i = 0; i < inline_js.length; i++) {\n        inline_js[i].call(root, root.Bokeh);\n      }if (force === true) {\n        display_loaded();\n      }} else if (Date.now() < root._bokeh_timeout) {\n      setTimeout(run_inline_js, 100);\n    } else if (!root._bokeh_failed_load) {\n      console.log(\"Bokeh: BokehJS failed to load within specified timeout.\");\n      root._bokeh_failed_load = true;\n    } else if (force !== true) {\n      var cell = $(document.getElementById(\"1258\")).parents('.cell').data().cell;\n      cell.output_area.append_execute_result(NB_LOAD_WARNING)\n    }\n\n  }\n\n  if (root._bokeh_is_loading === 0) {\n    console.log(\"Bokeh: BokehJS loaded, going straight to plotting\");\n    run_inline_js();\n  } else {\n    load_libs(js_urls, function() {\n      console.log(\"Bokeh: BokehJS plotting callback run at\", now());\n      run_inline_js();\n    });\n  }\n}(window));"
     },
     "metadata": {},
     "output_type": "display_data"
    }
   ],
   "source": [
    "import os.path\n",
    "import pandas as pd\n",
    "from bokeh.core.properties import value\n",
    "from bokeh.io import show, output_file, output_notebook\n",
    "from bokeh.plotting import figure\n",
    "from bokeh.io import export_png\n",
    "\n",
    "output_notebook()\n",
    "\n",
    "def plot_incidents(data, name):\n",
    "    year_names = [str(x) for x in data.index.values]\n",
    "    years =  year_names\n",
    "    y_axis = [\"geom\", \"no-geo\", \"bi\"]\n",
    "    colors = [\"#5CC9F5\", \"#e84d60\", \"#cccccc\"]\n",
    "    \n",
    "    # Count number without geometry\n",
    "    data['no-geo'] = data['count'] - data['geom']\n",
    "    data['bi'] = data['count'] - data['bi_count']\n",
    "\n",
    "\n",
    "    parsed = {\n",
    "        'years': years,\n",
    "        'geom': data['geom'],\n",
    "        'no-geo': data['no-geo'],\n",
    "        'bi': data['bi']\n",
    "    }\n",
    "\n",
    "    p = figure(x_range=years, plot_height=250, title=name,\n",
    "               toolbar_location=None)\n",
    "\n",
    "    p.vbar_stack(y_axis, x='years', width=0.9, color=colors, source=parsed,\n",
    "                 legend=[value(x) for x in y_axis])\n",
    "\n",
    "    p.y_range.start = 0\n",
    "    p.x_range.range_padding = 0.1\n",
    "    p.xgrid.grid_line_color = None\n",
    "    p.axis.minor_tick_line_color = None\n",
    "    p.outline_line_color = None\n",
    "    p.legend.location = \"top_left\"\n",
    "    p.legend.orientation = \"horizontal\"\n",
    "\n",
    "    show(p)\n",
    "#     export_png(p, filename=\"figures/%s.png\" % (name,))\n",
    "\n",
    "def plot_state_incidents(name):\n",
    "    data = states[name]\n",
    "    plot_incidents(data, name)\n",
    "    \n"
   ]
  },
  {
   "cell_type": "markdown",
   "metadata": {},
   "source": [
    "## Incidents by year"
   ]
  },
  {
   "cell_type": "markdown",
   "metadata": {},
   "source": [
    "# SQL Queries\n",
    "\n",
    "`\n",
    "select count(1), sum(case when exp_no = 0 then 1 else 0 end), extract(year from inc_date) as year \n",
    "from ems.ems group by year;\n",
    "`\n",
    "\n",
    "`\n",
    "SELECT count(1), extract(year from alarm) as year\n",
    "FROM ems.basicincident a\n",
    "WHERE a.state = 'DC'\n",
    "GROUP by year\n",
    "`"
   ]
  },
  {
   "cell_type": "markdown",
   "metadata": {},
   "source": [
    "## Incidents by state"
   ]
  },
  {
   "cell_type": "code",
   "execution_count": 6,
   "metadata": {},
   "outputs": [
    {
     "data": {
      "text/html": [
       "\n",
       "\n",
       "\n",
       "\n",
       "\n",
       "\n",
       "  <div class=\"bk-root\" id=\"32cef792-51a9-4f6b-8fa6-c477062915f6\"></div>\n"
      ]
     },
     "metadata": {},
     "output_type": "display_data"
    },
    {
     "data": {
      "application/javascript": [
       "(function(root) {\n",
       "  function embed_document(root) {\n",
       "    \n",
       "  var docs_json = {\"bbe9aa63-d235-45b9-aabf-72d70c47f448\":{\"roots\":{\"references\":[{\"attributes\":{\"below\":[{\"id\":\"25903\",\"type\":\"CategoricalAxis\"}],\"left\":[{\"id\":\"25907\",\"type\":\"LinearAxis\"}],\"outline_line_color\":{\"value\":null},\"plot_height\":250,\"renderers\":[{\"id\":\"25903\",\"type\":\"CategoricalAxis\"},{\"id\":\"25906\",\"type\":\"Grid\"},{\"id\":\"25907\",\"type\":\"LinearAxis\"},{\"id\":\"25911\",\"type\":\"Grid\"},{\"id\":\"25920\",\"type\":\"BoxAnnotation\"},{\"id\":\"25945\",\"type\":\"Legend\"},{\"id\":\"25937\",\"type\":\"GlyphRenderer\"},{\"id\":\"25951\",\"type\":\"GlyphRenderer\"},{\"id\":\"25966\",\"type\":\"GlyphRenderer\"}],\"title\":{\"id\":\"25892\",\"type\":\"Title\"},\"toolbar\":{\"id\":\"25918\",\"type\":\"Toolbar\"},\"toolbar_location\":null,\"x_range\":{\"id\":\"25895\",\"type\":\"FactorRange\"},\"x_scale\":{\"id\":\"25899\",\"type\":\"CategoricalScale\"},\"y_range\":{\"id\":\"25897\",\"type\":\"DataRange1d\"},\"y_scale\":{\"id\":\"25901\",\"type\":\"LinearScale\"}},\"id\":\"25893\",\"subtype\":\"Figure\",\"type\":\"Plot\"},{\"attributes\":{\"bottom\":{\"expr\":{\"id\":\"25927\",\"type\":\"Stack\"}},\"fill_alpha\":{\"value\":0.1},\"fill_color\":{\"value\":\"#1f77b4\"},\"line_alpha\":{\"value\":0.1},\"line_color\":{\"value\":\"#1f77b4\"},\"top\":{\"expr\":{\"id\":\"25928\",\"type\":\"Stack\"}},\"width\":{\"value\":0.9},\"x\":{\"field\":\"years\"}},\"id\":\"25936\",\"type\":\"VBar\"},{\"attributes\":{\"bottom\":{\"expr\":{\"id\":\"25929\",\"type\":\"Stack\"}},\"fill_alpha\":{\"value\":0.1},\"fill_color\":{\"value\":\"#1f77b4\"},\"line_alpha\":{\"value\":0.1},\"line_color\":{\"value\":\"#1f77b4\"},\"top\":{\"expr\":{\"id\":\"25930\",\"type\":\"Stack\"}},\"width\":{\"value\":0.9},\"x\":{\"field\":\"years\"}},\"id\":\"25950\",\"type\":\"VBar\"},{\"attributes\":{},\"id\":\"25904\",\"type\":\"CategoricalTicker\"},{\"attributes\":{\"fields\":[]},\"id\":\"25927\",\"type\":\"Stack\"},{\"attributes\":{},\"id\":\"25977\",\"type\":\"UnionRenderers\"},{\"attributes\":{\"fields\":[\"geom\"]},\"id\":\"25928\",\"type\":\"Stack\"},{\"attributes\":{\"fields\":[\"geom\",\"no-geo\",\"bi\"]},\"id\":\"25932\",\"type\":\"Stack\"},{\"attributes\":{},\"id\":\"26614\",\"type\":\"UnionRenderers\"},{\"attributes\":{\"grid_line_color\":{\"value\":null},\"plot\":{\"id\":\"25893\",\"subtype\":\"Figure\",\"type\":\"Plot\"},\"ticker\":{\"id\":\"25904\",\"type\":\"CategoricalTicker\"}},\"id\":\"25906\",\"type\":\"Grid\"},{\"attributes\":{\"bottom\":{\"expr\":{\"id\":\"25931\",\"type\":\"Stack\"}},\"fill_color\":{\"value\":\"#cccccc\"},\"line_color\":{\"value\":\"#cccccc\"},\"top\":{\"expr\":{\"id\":\"25932\",\"type\":\"Stack\"}},\"width\":{\"value\":0.9},\"x\":{\"field\":\"years\"}},\"id\":\"25964\",\"type\":\"VBar\"},{\"attributes\":{\"fields\":[\"geom\",\"no-geo\"]},\"id\":\"25931\",\"type\":\"Stack\"},{\"attributes\":{\"formatter\":{\"id\":\"25940\",\"type\":\"BasicTickFormatter\"},\"minor_tick_line_color\":{\"value\":null},\"plot\":{\"id\":\"25893\",\"subtype\":\"Figure\",\"type\":\"Plot\"},\"ticker\":{\"id\":\"25908\",\"type\":\"BasicTicker\"}},\"id\":\"25907\",\"type\":\"LinearAxis\"},{\"attributes\":{\"label\":{\"value\":\"bi\"},\"renderers\":[{\"id\":\"25966\",\"type\":\"GlyphRenderer\"}]},\"id\":\"25978\",\"type\":\"LegendItem\"},{\"attributes\":{\"label\":{\"value\":\"no-geo\"},\"renderers\":[{\"id\":\"25951\",\"type\":\"GlyphRenderer\"}]},\"id\":\"25961\",\"type\":\"LegendItem\"},{\"attributes\":{},\"id\":\"25908\",\"type\":\"BasicTicker\"},{\"attributes\":{\"dimension\":1,\"plot\":{\"id\":\"25893\",\"subtype\":\"Figure\",\"type\":\"Plot\"},\"ticker\":{\"id\":\"25908\",\"type\":\"BasicTicker\"}},\"id\":\"25911\",\"type\":\"Grid\"},{\"attributes\":{\"source\":{\"id\":\"25947\",\"type\":\"ColumnDataSource\"}},\"id\":\"25952\",\"type\":\"CDSView\"},{\"attributes\":{\"label\":{\"value\":\"geom\"},\"renderers\":[{\"id\":\"25937\",\"type\":\"GlyphRenderer\"}]},\"id\":\"25946\",\"type\":\"LegendItem\"},{\"attributes\":{\"bottom\":{\"expr\":{\"id\":\"25927\",\"type\":\"Stack\"}},\"fill_color\":{\"value\":\"#5CC9F5\"},\"line_color\":{\"value\":\"#5CC9F5\"},\"top\":{\"expr\":{\"id\":\"25928\",\"type\":\"Stack\"}},\"width\":{\"value\":0.9},\"x\":{\"field\":\"years\"}},\"id\":\"25935\",\"type\":\"VBar\"},{\"attributes\":{\"data_source\":{\"id\":\"25962\",\"type\":\"ColumnDataSource\"},\"glyph\":{\"id\":\"25964\",\"type\":\"VBar\"},\"hover_glyph\":null,\"muted_glyph\":null,\"name\":\"bi\",\"nonselection_glyph\":{\"id\":\"25965\",\"type\":\"VBar\"},\"selection_glyph\":null,\"view\":{\"id\":\"25967\",\"type\":\"CDSView\"}},\"id\":\"25966\",\"type\":\"GlyphRenderer\"},{\"attributes\":{\"callback\":null,\"data\":{\"bi\":[0,0,0,0,0],\"geom\":[0,0,0,322579,0],\"no-geo\":[249674,209036,260470,2,344077],\"years\":[\"2012\",\"2013\",\"2014\",\"2015\",\"2016\"]},\"selected\":{\"id\":\"26613\",\"type\":\"Selection\"},\"selection_policy\":{\"id\":\"26614\",\"type\":\"UnionRenderers\"}},\"id\":\"25962\",\"type\":\"ColumnDataSource\"},{\"attributes\":{\"bottom\":{\"expr\":{\"id\":\"25931\",\"type\":\"Stack\"}},\"fill_alpha\":{\"value\":0.1},\"fill_color\":{\"value\":\"#1f77b4\"},\"line_alpha\":{\"value\":0.1},\"line_color\":{\"value\":\"#1f77b4\"},\"top\":{\"expr\":{\"id\":\"25932\",\"type\":\"Stack\"}},\"width\":{\"value\":0.9},\"x\":{\"field\":\"years\"}},\"id\":\"25965\",\"type\":\"VBar\"},{\"attributes\":{\"fields\":[\"geom\"]},\"id\":\"25929\",\"type\":\"Stack\"},{\"attributes\":{\"data_source\":{\"id\":\"25933\",\"type\":\"ColumnDataSource\"},\"glyph\":{\"id\":\"25935\",\"type\":\"VBar\"},\"hover_glyph\":null,\"muted_glyph\":null,\"name\":\"geom\",\"nonselection_glyph\":{\"id\":\"25936\",\"type\":\"VBar\"},\"selection_glyph\":null,\"view\":{\"id\":\"25938\",\"type\":\"CDSView\"}},\"id\":\"25937\",\"type\":\"GlyphRenderer\"},{\"attributes\":{\"callback\":null,\"data\":{\"bi\":[0,0,0,0,0],\"geom\":[0,0,0,322579,0],\"no-geo\":[249674,209036,260470,2,344077],\"years\":[\"2012\",\"2013\",\"2014\",\"2015\",\"2016\"]},\"selected\":{\"id\":\"25959\",\"type\":\"Selection\"},\"selection_policy\":{\"id\":\"25960\",\"type\":\"UnionRenderers\"}},\"id\":\"25933\",\"type\":\"ColumnDataSource\"},{\"attributes\":{\"callback\":null,\"data\":{\"bi\":[0,0,0,0,0],\"geom\":[0,0,0,322579,0],\"no-geo\":[249674,209036,260470,2,344077],\"years\":[\"2012\",\"2013\",\"2014\",\"2015\",\"2016\"]},\"selected\":{\"id\":\"25976\",\"type\":\"Selection\"},\"selection_policy\":{\"id\":\"25977\",\"type\":\"UnionRenderers\"}},\"id\":\"25947\",\"type\":\"ColumnDataSource\"},{\"attributes\":{},\"id\":\"25976\",\"type\":\"Selection\"},{\"attributes\":{},\"id\":\"25912\",\"type\":\"PanTool\"},{\"attributes\":{\"fields\":[\"geom\",\"no-geo\"]},\"id\":\"25930\",\"type\":\"Stack\"},{\"attributes\":{},\"id\":\"25913\",\"type\":\"WheelZoomTool\"},{\"attributes\":{},\"id\":\"25960\",\"type\":\"UnionRenderers\"},{\"attributes\":{\"items\":[{\"id\":\"25946\",\"type\":\"LegendItem\"},{\"id\":\"25961\",\"type\":\"LegendItem\"},{\"id\":\"25978\",\"type\":\"LegendItem\"}],\"location\":\"top_left\",\"orientation\":\"horizontal\",\"plot\":{\"id\":\"25893\",\"subtype\":\"Figure\",\"type\":\"Plot\"}},\"id\":\"25945\",\"type\":\"Legend\"},{\"attributes\":{\"overlay\":{\"id\":\"25920\",\"type\":\"BoxAnnotation\"}},\"id\":\"25914\",\"type\":\"BoxZoomTool\"},{\"attributes\":{},\"id\":\"25915\",\"type\":\"SaveTool\"},{\"attributes\":{\"source\":{\"id\":\"25962\",\"type\":\"ColumnDataSource\"}},\"id\":\"25967\",\"type\":\"CDSView\"},{\"attributes\":{},\"id\":\"25916\",\"type\":\"ResetTool\"},{\"attributes\":{\"plot\":null,\"text\":\"AL\"},\"id\":\"25892\",\"type\":\"Title\"},{\"attributes\":{},\"id\":\"25959\",\"type\":\"Selection\"},{\"attributes\":{\"source\":{\"id\":\"25933\",\"type\":\"ColumnDataSource\"}},\"id\":\"25938\",\"type\":\"CDSView\"},{\"attributes\":{},\"id\":\"25917\",\"type\":\"HelpTool\"},{\"attributes\":{\"data_source\":{\"id\":\"25947\",\"type\":\"ColumnDataSource\"},\"glyph\":{\"id\":\"25949\",\"type\":\"VBar\"},\"hover_glyph\":null,\"muted_glyph\":null,\"name\":\"no-geo\",\"nonselection_glyph\":{\"id\":\"25950\",\"type\":\"VBar\"},\"selection_glyph\":null,\"view\":{\"id\":\"25952\",\"type\":\"CDSView\"}},\"id\":\"25951\",\"type\":\"GlyphRenderer\"},{\"attributes\":{\"callback\":null,\"factors\":[\"2012\",\"2013\",\"2014\",\"2015\",\"2016\"],\"range_padding\":0.1},\"id\":\"25895\",\"type\":\"FactorRange\"},{\"attributes\":{\"active_drag\":\"auto\",\"active_inspect\":\"auto\",\"active_multi\":null,\"active_scroll\":\"auto\",\"active_tap\":\"auto\",\"tools\":[{\"id\":\"25912\",\"type\":\"PanTool\"},{\"id\":\"25913\",\"type\":\"WheelZoomTool\"},{\"id\":\"25914\",\"type\":\"BoxZoomTool\"},{\"id\":\"25915\",\"type\":\"SaveTool\"},{\"id\":\"25916\",\"type\":\"ResetTool\"},{\"id\":\"25917\",\"type\":\"HelpTool\"}]},\"id\":\"25918\",\"type\":\"Toolbar\"},{\"attributes\":{},\"id\":\"25942\",\"type\":\"CategoricalTickFormatter\"},{\"attributes\":{\"callback\":null,\"start\":0},\"id\":\"25897\",\"type\":\"DataRange1d\"},{\"attributes\":{\"bottom_units\":\"screen\",\"fill_alpha\":{\"value\":0.5},\"fill_color\":{\"value\":\"lightgrey\"},\"left_units\":\"screen\",\"level\":\"overlay\",\"line_alpha\":{\"value\":1.0},\"line_color\":{\"value\":\"black\"},\"line_dash\":[4,4],\"line_width\":{\"value\":2},\"plot\":null,\"render_mode\":\"css\",\"right_units\":\"screen\",\"top_units\":\"screen\"},\"id\":\"25920\",\"type\":\"BoxAnnotation\"},{\"attributes\":{},\"id\":\"25899\",\"type\":\"CategoricalScale\"},{\"attributes\":{},\"id\":\"25940\",\"type\":\"BasicTickFormatter\"},{\"attributes\":{},\"id\":\"25901\",\"type\":\"LinearScale\"},{\"attributes\":{},\"id\":\"26613\",\"type\":\"Selection\"},{\"attributes\":{\"bottom\":{\"expr\":{\"id\":\"25929\",\"type\":\"Stack\"}},\"fill_color\":{\"value\":\"#e84d60\"},\"line_color\":{\"value\":\"#e84d60\"},\"top\":{\"expr\":{\"id\":\"25930\",\"type\":\"Stack\"}},\"width\":{\"value\":0.9},\"x\":{\"field\":\"years\"}},\"id\":\"25949\",\"type\":\"VBar\"},{\"attributes\":{\"formatter\":{\"id\":\"25942\",\"type\":\"CategoricalTickFormatter\"},\"minor_tick_line_color\":{\"value\":null},\"plot\":{\"id\":\"25893\",\"subtype\":\"Figure\",\"type\":\"Plot\"},\"ticker\":{\"id\":\"25904\",\"type\":\"CategoricalTicker\"}},\"id\":\"25903\",\"type\":\"CategoricalAxis\"}],\"root_ids\":[\"25893\"]},\"title\":\"Bokeh Application\",\"version\":\"1.0.0\"}};\n",
       "  var render_items = [{\"docid\":\"bbe9aa63-d235-45b9-aabf-72d70c47f448\",\"roots\":{\"25893\":\"32cef792-51a9-4f6b-8fa6-c477062915f6\"}}];\n",
       "  root.Bokeh.embed.embed_items_notebook(docs_json, render_items);\n",
       "\n",
       "  }\n",
       "  if (root.Bokeh !== undefined) {\n",
       "    embed_document(root);\n",
       "  } else {\n",
       "    var attempts = 0;\n",
       "    var timer = setInterval(function(root) {\n",
       "      if (root.Bokeh !== undefined) {\n",
       "        embed_document(root);\n",
       "        clearInterval(timer);\n",
       "      }\n",
       "      attempts++;\n",
       "      if (attempts > 100) {\n",
       "        console.log(\"Bokeh: ERROR: Unable to run BokehJS code because BokehJS library is missing\");\n",
       "        clearInterval(timer);\n",
       "      }\n",
       "    }, 10, root)\n",
       "  }\n",
       "})(window);"
      ],
      "application/vnd.bokehjs_exec.v0+json": ""
     },
     "metadata": {
      "application/vnd.bokehjs_exec.v0+json": {
       "id": "25893"
      }
     },
     "output_type": "display_data"
    },
    {
     "data": {
      "text/html": [
       "\n",
       "\n",
       "\n",
       "\n",
       "\n",
       "\n",
       "  <div class=\"bk-root\" id=\"728651a9-7964-4b0d-911f-7bc048339d2e\"></div>\n"
      ]
     },
     "metadata": {},
     "output_type": "display_data"
    },
    {
     "data": {
      "application/javascript": [
       "(function(root) {\n",
       "  function embed_document(root) {\n",
       "    \n",
       "  var docs_json = {\"02676df7-d91c-483d-afcf-4e3702146674\":{\"roots\":{\"references\":[{\"attributes\":{\"below\":[{\"id\":\"26698\",\"type\":\"CategoricalAxis\"}],\"left\":[{\"id\":\"26702\",\"type\":\"LinearAxis\"}],\"outline_line_color\":{\"value\":null},\"plot_height\":250,\"renderers\":[{\"id\":\"26698\",\"type\":\"CategoricalAxis\"},{\"id\":\"26701\",\"type\":\"Grid\"},{\"id\":\"26702\",\"type\":\"LinearAxis\"},{\"id\":\"26706\",\"type\":\"Grid\"},{\"id\":\"26715\",\"type\":\"BoxAnnotation\"},{\"id\":\"26740\",\"type\":\"Legend\"},{\"id\":\"26732\",\"type\":\"GlyphRenderer\"},{\"id\":\"26746\",\"type\":\"GlyphRenderer\"},{\"id\":\"26761\",\"type\":\"GlyphRenderer\"}],\"title\":{\"id\":\"26687\",\"type\":\"Title\"},\"toolbar\":{\"id\":\"26713\",\"type\":\"Toolbar\"},\"toolbar_location\":null,\"x_range\":{\"id\":\"26690\",\"type\":\"FactorRange\"},\"x_scale\":{\"id\":\"26694\",\"type\":\"CategoricalScale\"},\"y_range\":{\"id\":\"26692\",\"type\":\"DataRange1d\"},\"y_scale\":{\"id\":\"26696\",\"type\":\"LinearScale\"}},\"id\":\"26688\",\"subtype\":\"Figure\",\"type\":\"Plot\"},{\"attributes\":{\"source\":{\"id\":\"26757\",\"type\":\"ColumnDataSource\"}},\"id\":\"26762\",\"type\":\"CDSView\"},{\"attributes\":{},\"id\":\"26754\",\"type\":\"Selection\"},{\"attributes\":{},\"id\":\"26735\",\"type\":\"BasicTickFormatter\"},{\"attributes\":{\"label\":{\"value\":\"bi\"},\"renderers\":[{\"id\":\"26761\",\"type\":\"GlyphRenderer\"}]},\"id\":\"26773\",\"type\":\"LegendItem\"},{\"attributes\":{},\"id\":\"26737\",\"type\":\"CategoricalTickFormatter\"},{\"attributes\":{\"data_source\":{\"id\":\"26728\",\"type\":\"ColumnDataSource\"},\"glyph\":{\"id\":\"26730\",\"type\":\"VBar\"},\"hover_glyph\":null,\"muted_glyph\":null,\"name\":\"geom\",\"nonselection_glyph\":{\"id\":\"26731\",\"type\":\"VBar\"},\"selection_glyph\":null,\"view\":{\"id\":\"26733\",\"type\":\"CDSView\"}},\"id\":\"26732\",\"type\":\"GlyphRenderer\"},{\"attributes\":{\"dimension\":1,\"plot\":{\"id\":\"26688\",\"subtype\":\"Figure\",\"type\":\"Plot\"},\"ticker\":{\"id\":\"26703\",\"type\":\"BasicTicker\"}},\"id\":\"26706\",\"type\":\"Grid\"},{\"attributes\":{\"items\":[{\"id\":\"26741\",\"type\":\"LegendItem\"},{\"id\":\"26756\",\"type\":\"LegendItem\"},{\"id\":\"26773\",\"type\":\"LegendItem\"}],\"location\":\"top_left\",\"orientation\":\"horizontal\",\"plot\":{\"id\":\"26688\",\"subtype\":\"Figure\",\"type\":\"Plot\"}},\"id\":\"26740\",\"type\":\"Legend\"},{\"attributes\":{\"label\":{\"value\":\"geom\"},\"renderers\":[{\"id\":\"26732\",\"type\":\"GlyphRenderer\"}]},\"id\":\"26741\",\"type\":\"LegendItem\"},{\"attributes\":{},\"id\":\"26710\",\"type\":\"SaveTool\"},{\"attributes\":{},\"id\":\"26694\",\"type\":\"CategoricalScale\"},{\"attributes\":{},\"id\":\"26703\",\"type\":\"BasicTicker\"},{\"attributes\":{\"overlay\":{\"id\":\"26715\",\"type\":\"BoxAnnotation\"}},\"id\":\"26709\",\"type\":\"BoxZoomTool\"},{\"attributes\":{\"callback\":null,\"data\":{\"bi\":[4,0,0,0,0],\"geom\":[58597,61501,0,64571,0],\"no-geo\":[47,1,60638,0,67415],\"years\":[\"2012\",\"2013\",\"2014\",\"2015\",\"2016\"]},\"selected\":{\"id\":\"26771\",\"type\":\"Selection\"},\"selection_policy\":{\"id\":\"26772\",\"type\":\"UnionRenderers\"}},\"id\":\"26742\",\"type\":\"ColumnDataSource\"},{\"attributes\":{\"formatter\":{\"id\":\"26735\",\"type\":\"BasicTickFormatter\"},\"minor_tick_line_color\":{\"value\":null},\"plot\":{\"id\":\"26688\",\"subtype\":\"Figure\",\"type\":\"Plot\"},\"ticker\":{\"id\":\"26703\",\"type\":\"BasicTicker\"}},\"id\":\"26702\",\"type\":\"LinearAxis\"},{\"attributes\":{},\"id\":\"26708\",\"type\":\"WheelZoomTool\"},{\"attributes\":{},\"id\":\"27421\",\"type\":\"UnionRenderers\"},{\"attributes\":{\"callback\":null,\"start\":0},\"id\":\"26692\",\"type\":\"DataRange1d\"},{\"attributes\":{},\"id\":\"26707\",\"type\":\"PanTool\"},{\"attributes\":{\"bottom\":{\"expr\":{\"id\":\"26724\",\"type\":\"Stack\"}},\"fill_color\":{\"value\":\"#e84d60\"},\"line_color\":{\"value\":\"#e84d60\"},\"top\":{\"expr\":{\"id\":\"26725\",\"type\":\"Stack\"}},\"width\":{\"value\":0.9},\"x\":{\"field\":\"years\"}},\"id\":\"26744\",\"type\":\"VBar\"},{\"attributes\":{\"bottom\":{\"expr\":{\"id\":\"26724\",\"type\":\"Stack\"}},\"fill_alpha\":{\"value\":0.1},\"fill_color\":{\"value\":\"#1f77b4\"},\"line_alpha\":{\"value\":0.1},\"line_color\":{\"value\":\"#1f77b4\"},\"top\":{\"expr\":{\"id\":\"26725\",\"type\":\"Stack\"}},\"width\":{\"value\":0.9},\"x\":{\"field\":\"years\"}},\"id\":\"26745\",\"type\":\"VBar\"},{\"attributes\":{\"fields\":[]},\"id\":\"26722\",\"type\":\"Stack\"},{\"attributes\":{},\"id\":\"26696\",\"type\":\"LinearScale\"},{\"attributes\":{\"data_source\":{\"id\":\"26742\",\"type\":\"ColumnDataSource\"},\"glyph\":{\"id\":\"26744\",\"type\":\"VBar\"},\"hover_glyph\":null,\"muted_glyph\":null,\"name\":\"no-geo\",\"nonselection_glyph\":{\"id\":\"26745\",\"type\":\"VBar\"},\"selection_glyph\":null,\"view\":{\"id\":\"26747\",\"type\":\"CDSView\"}},\"id\":\"26746\",\"type\":\"GlyphRenderer\"},{\"attributes\":{\"fields\":[\"geom\"]},\"id\":\"26723\",\"type\":\"Stack\"},{\"attributes\":{\"formatter\":{\"id\":\"26737\",\"type\":\"CategoricalTickFormatter\"},\"minor_tick_line_color\":{\"value\":null},\"plot\":{\"id\":\"26688\",\"subtype\":\"Figure\",\"type\":\"Plot\"},\"ticker\":{\"id\":\"26699\",\"type\":\"CategoricalTicker\"}},\"id\":\"26698\",\"type\":\"CategoricalAxis\"},{\"attributes\":{},\"id\":\"26699\",\"type\":\"CategoricalTicker\"},{\"attributes\":{\"source\":{\"id\":\"26742\",\"type\":\"ColumnDataSource\"}},\"id\":\"26747\",\"type\":\"CDSView\"},{\"attributes\":{},\"id\":\"26772\",\"type\":\"UnionRenderers\"},{\"attributes\":{\"bottom_units\":\"screen\",\"fill_alpha\":{\"value\":0.5},\"fill_color\":{\"value\":\"lightgrey\"},\"left_units\":\"screen\",\"level\":\"overlay\",\"line_alpha\":{\"value\":1.0},\"line_color\":{\"value\":\"black\"},\"line_dash\":[4,4],\"line_width\":{\"value\":2},\"plot\":null,\"render_mode\":\"css\",\"right_units\":\"screen\",\"top_units\":\"screen\"},\"id\":\"26715\",\"type\":\"BoxAnnotation\"},{\"attributes\":{\"source\":{\"id\":\"26728\",\"type\":\"ColumnDataSource\"}},\"id\":\"26733\",\"type\":\"CDSView\"},{\"attributes\":{\"fields\":[\"geom\",\"no-geo\"]},\"id\":\"26726\",\"type\":\"Stack\"},{\"attributes\":{\"grid_line_color\":{\"value\":null},\"plot\":{\"id\":\"26688\",\"subtype\":\"Figure\",\"type\":\"Plot\"},\"ticker\":{\"id\":\"26699\",\"type\":\"CategoricalTicker\"}},\"id\":\"26701\",\"type\":\"Grid\"},{\"attributes\":{},\"id\":\"26755\",\"type\":\"UnionRenderers\"},{\"attributes\":{\"fields\":[\"geom\"]},\"id\":\"26724\",\"type\":\"Stack\"},{\"attributes\":{\"active_drag\":\"auto\",\"active_inspect\":\"auto\",\"active_multi\":null,\"active_scroll\":\"auto\",\"active_tap\":\"auto\",\"tools\":[{\"id\":\"26707\",\"type\":\"PanTool\"},{\"id\":\"26708\",\"type\":\"WheelZoomTool\"},{\"id\":\"26709\",\"type\":\"BoxZoomTool\"},{\"id\":\"26710\",\"type\":\"SaveTool\"},{\"id\":\"26711\",\"type\":\"ResetTool\"},{\"id\":\"26712\",\"type\":\"HelpTool\"}]},\"id\":\"26713\",\"type\":\"Toolbar\"},{\"attributes\":{\"label\":{\"value\":\"no-geo\"},\"renderers\":[{\"id\":\"26746\",\"type\":\"GlyphRenderer\"}]},\"id\":\"26756\",\"type\":\"LegendItem\"},{\"attributes\":{},\"id\":\"26712\",\"type\":\"HelpTool\"},{\"attributes\":{\"callback\":null,\"factors\":[\"2012\",\"2013\",\"2014\",\"2015\",\"2016\"],\"range_padding\":0.1},\"id\":\"26690\",\"type\":\"FactorRange\"},{\"attributes\":{\"bottom\":{\"expr\":{\"id\":\"26722\",\"type\":\"Stack\"}},\"fill_color\":{\"value\":\"#5CC9F5\"},\"line_color\":{\"value\":\"#5CC9F5\"},\"top\":{\"expr\":{\"id\":\"26723\",\"type\":\"Stack\"}},\"width\":{\"value\":0.9},\"x\":{\"field\":\"years\"}},\"id\":\"26730\",\"type\":\"VBar\"},{\"attributes\":{},\"id\":\"26711\",\"type\":\"ResetTool\"},{\"attributes\":{\"callback\":null,\"data\":{\"bi\":[4,0,0,0,0],\"geom\":[58597,61501,0,64571,0],\"no-geo\":[47,1,60638,0,67415],\"years\":[\"2012\",\"2013\",\"2014\",\"2015\",\"2016\"]},\"selected\":{\"id\":\"27420\",\"type\":\"Selection\"},\"selection_policy\":{\"id\":\"27421\",\"type\":\"UnionRenderers\"}},\"id\":\"26757\",\"type\":\"ColumnDataSource\"},{\"attributes\":{\"fields\":[\"geom\",\"no-geo\"]},\"id\":\"26725\",\"type\":\"Stack\"},{\"attributes\":{},\"id\":\"27420\",\"type\":\"Selection\"},{\"attributes\":{\"callback\":null,\"data\":{\"bi\":[4,0,0,0,0],\"geom\":[58597,61501,0,64571,0],\"no-geo\":[47,1,60638,0,67415],\"years\":[\"2012\",\"2013\",\"2014\",\"2015\",\"2016\"]},\"selected\":{\"id\":\"26754\",\"type\":\"Selection\"},\"selection_policy\":{\"id\":\"26755\",\"type\":\"UnionRenderers\"}},\"id\":\"26728\",\"type\":\"ColumnDataSource\"},{\"attributes\":{\"plot\":null,\"text\":\"AK\"},\"id\":\"26687\",\"type\":\"Title\"},{\"attributes\":{\"bottom\":{\"expr\":{\"id\":\"26726\",\"type\":\"Stack\"}},\"fill_color\":{\"value\":\"#cccccc\"},\"line_color\":{\"value\":\"#cccccc\"},\"top\":{\"expr\":{\"id\":\"26727\",\"type\":\"Stack\"}},\"width\":{\"value\":0.9},\"x\":{\"field\":\"years\"}},\"id\":\"26759\",\"type\":\"VBar\"},{\"attributes\":{\"fields\":[\"geom\",\"no-geo\",\"bi\"]},\"id\":\"26727\",\"type\":\"Stack\"},{\"attributes\":{},\"id\":\"26771\",\"type\":\"Selection\"},{\"attributes\":{\"bottom\":{\"expr\":{\"id\":\"26726\",\"type\":\"Stack\"}},\"fill_alpha\":{\"value\":0.1},\"fill_color\":{\"value\":\"#1f77b4\"},\"line_alpha\":{\"value\":0.1},\"line_color\":{\"value\":\"#1f77b4\"},\"top\":{\"expr\":{\"id\":\"26727\",\"type\":\"Stack\"}},\"width\":{\"value\":0.9},\"x\":{\"field\":\"years\"}},\"id\":\"26760\",\"type\":\"VBar\"},{\"attributes\":{\"bottom\":{\"expr\":{\"id\":\"26722\",\"type\":\"Stack\"}},\"fill_alpha\":{\"value\":0.1},\"fill_color\":{\"value\":\"#1f77b4\"},\"line_alpha\":{\"value\":0.1},\"line_color\":{\"value\":\"#1f77b4\"},\"top\":{\"expr\":{\"id\":\"26723\",\"type\":\"Stack\"}},\"width\":{\"value\":0.9},\"x\":{\"field\":\"years\"}},\"id\":\"26731\",\"type\":\"VBar\"},{\"attributes\":{\"data_source\":{\"id\":\"26757\",\"type\":\"ColumnDataSource\"},\"glyph\":{\"id\":\"26759\",\"type\":\"VBar\"},\"hover_glyph\":null,\"muted_glyph\":null,\"name\":\"bi\",\"nonselection_glyph\":{\"id\":\"26760\",\"type\":\"VBar\"},\"selection_glyph\":null,\"view\":{\"id\":\"26762\",\"type\":\"CDSView\"}},\"id\":\"26761\",\"type\":\"GlyphRenderer\"}],\"root_ids\":[\"26688\"]},\"title\":\"Bokeh Application\",\"version\":\"1.0.0\"}};\n",
       "  var render_items = [{\"docid\":\"02676df7-d91c-483d-afcf-4e3702146674\",\"roots\":{\"26688\":\"728651a9-7964-4b0d-911f-7bc048339d2e\"}}];\n",
       "  root.Bokeh.embed.embed_items_notebook(docs_json, render_items);\n",
       "\n",
       "  }\n",
       "  if (root.Bokeh !== undefined) {\n",
       "    embed_document(root);\n",
       "  } else {\n",
       "    var attempts = 0;\n",
       "    var timer = setInterval(function(root) {\n",
       "      if (root.Bokeh !== undefined) {\n",
       "        embed_document(root);\n",
       "        clearInterval(timer);\n",
       "      }\n",
       "      attempts++;\n",
       "      if (attempts > 100) {\n",
       "        console.log(\"Bokeh: ERROR: Unable to run BokehJS code because BokehJS library is missing\");\n",
       "        clearInterval(timer);\n",
       "      }\n",
       "    }, 10, root)\n",
       "  }\n",
       "})(window);"
      ],
      "application/vnd.bokehjs_exec.v0+json": ""
     },
     "metadata": {
      "application/vnd.bokehjs_exec.v0+json": {
       "id": "26688"
      }
     },
     "output_type": "display_data"
    },
    {
     "data": {
      "text/html": [
       "\n",
       "\n",
       "\n",
       "\n",
       "\n",
       "\n",
       "  <div class=\"bk-root\" id=\"76e05394-095f-4c49-8447-83342410a822\"></div>\n"
      ]
     },
     "metadata": {},
     "output_type": "display_data"
    },
    {
     "data": {
      "application/javascript": [
       "(function(root) {\n",
       "  function embed_document(root) {\n",
       "    \n",
       "  var docs_json = {\"74052af7-0d55-4e81-b680-bb42efc71a84\":{\"roots\":{\"references\":[{\"attributes\":{\"below\":[{\"id\":\"27505\",\"type\":\"CategoricalAxis\"}],\"left\":[{\"id\":\"27509\",\"type\":\"LinearAxis\"}],\"outline_line_color\":{\"value\":null},\"plot_height\":250,\"renderers\":[{\"id\":\"27505\",\"type\":\"CategoricalAxis\"},{\"id\":\"27508\",\"type\":\"Grid\"},{\"id\":\"27509\",\"type\":\"LinearAxis\"},{\"id\":\"27513\",\"type\":\"Grid\"},{\"id\":\"27522\",\"type\":\"BoxAnnotation\"},{\"id\":\"27547\",\"type\":\"Legend\"},{\"id\":\"27539\",\"type\":\"GlyphRenderer\"},{\"id\":\"27553\",\"type\":\"GlyphRenderer\"},{\"id\":\"27568\",\"type\":\"GlyphRenderer\"}],\"title\":{\"id\":\"27494\",\"type\":\"Title\"},\"toolbar\":{\"id\":\"27520\",\"type\":\"Toolbar\"},\"toolbar_location\":null,\"x_range\":{\"id\":\"27497\",\"type\":\"FactorRange\"},\"x_scale\":{\"id\":\"27501\",\"type\":\"CategoricalScale\"},\"y_range\":{\"id\":\"27499\",\"type\":\"DataRange1d\"},\"y_scale\":{\"id\":\"27503\",\"type\":\"LinearScale\"}},\"id\":\"27495\",\"subtype\":\"Figure\",\"type\":\"Plot\"},{\"attributes\":{\"bottom\":{\"expr\":{\"id\":\"27533\",\"type\":\"Stack\"}},\"fill_alpha\":{\"value\":0.1},\"fill_color\":{\"value\":\"#1f77b4\"},\"line_alpha\":{\"value\":0.1},\"line_color\":{\"value\":\"#1f77b4\"},\"top\":{\"expr\":{\"id\":\"27534\",\"type\":\"Stack\"}},\"width\":{\"value\":0.9},\"x\":{\"field\":\"years\"}},\"id\":\"27567\",\"type\":\"VBar\"},{\"attributes\":{\"bottom\":{\"expr\":{\"id\":\"27529\",\"type\":\"Stack\"}},\"fill_color\":{\"value\":\"#5CC9F5\"},\"line_color\":{\"value\":\"#5CC9F5\"},\"top\":{\"expr\":{\"id\":\"27530\",\"type\":\"Stack\"}},\"width\":{\"value\":0.9},\"x\":{\"field\":\"years\"}},\"id\":\"27537\",\"type\":\"VBar\"},{\"attributes\":{\"formatter\":{\"id\":\"27542\",\"type\":\"BasicTickFormatter\"},\"minor_tick_line_color\":{\"value\":null},\"plot\":{\"id\":\"27495\",\"subtype\":\"Figure\",\"type\":\"Plot\"},\"ticker\":{\"id\":\"27510\",\"type\":\"BasicTicker\"}},\"id\":\"27509\",\"type\":\"LinearAxis\"},{\"attributes\":{\"data_source\":{\"id\":\"27564\",\"type\":\"ColumnDataSource\"},\"glyph\":{\"id\":\"27566\",\"type\":\"VBar\"},\"hover_glyph\":null,\"muted_glyph\":null,\"name\":\"bi\",\"nonselection_glyph\":{\"id\":\"27567\",\"type\":\"VBar\"},\"selection_glyph\":null,\"view\":{\"id\":\"27569\",\"type\":\"CDSView\"}},\"id\":\"27568\",\"type\":\"GlyphRenderer\"},{\"attributes\":{\"bottom\":{\"expr\":{\"id\":\"27529\",\"type\":\"Stack\"}},\"fill_alpha\":{\"value\":0.1},\"fill_color\":{\"value\":\"#1f77b4\"},\"line_alpha\":{\"value\":0.1},\"line_color\":{\"value\":\"#1f77b4\"},\"top\":{\"expr\":{\"id\":\"27530\",\"type\":\"Stack\"}},\"width\":{\"value\":0.9},\"x\":{\"field\":\"years\"}},\"id\":\"27538\",\"type\":\"VBar\"},{\"attributes\":{},\"id\":\"27510\",\"type\":\"BasicTicker\"},{\"attributes\":{\"source\":{\"id\":\"27564\",\"type\":\"ColumnDataSource\"}},\"id\":\"27569\",\"type\":\"CDSView\"},{\"attributes\":{\"data_source\":{\"id\":\"27535\",\"type\":\"ColumnDataSource\"},\"glyph\":{\"id\":\"27537\",\"type\":\"VBar\"},\"hover_glyph\":null,\"muted_glyph\":null,\"name\":\"geom\",\"nonselection_glyph\":{\"id\":\"27538\",\"type\":\"VBar\"},\"selection_glyph\":null,\"view\":{\"id\":\"27540\",\"type\":\"CDSView\"}},\"id\":\"27539\",\"type\":\"GlyphRenderer\"},{\"attributes\":{},\"id\":\"28239\",\"type\":\"Selection\"},{\"attributes\":{\"dimension\":1,\"plot\":{\"id\":\"27495\",\"subtype\":\"Figure\",\"type\":\"Plot\"},\"ticker\":{\"id\":\"27510\",\"type\":\"BasicTicker\"}},\"id\":\"27513\",\"type\":\"Grid\"},{\"attributes\":{},\"id\":\"27578\",\"type\":\"Selection\"},{\"attributes\":{\"source\":{\"id\":\"27535\",\"type\":\"ColumnDataSource\"}},\"id\":\"27540\",\"type\":\"CDSView\"},{\"attributes\":{\"fields\":[\"geom\"]},\"id\":\"27531\",\"type\":\"Stack\"},{\"attributes\":{},\"id\":\"27579\",\"type\":\"UnionRenderers\"},{\"attributes\":{},\"id\":\"27542\",\"type\":\"BasicTickFormatter\"},{\"attributes\":{\"label\":{\"value\":\"bi\"},\"renderers\":[{\"id\":\"27568\",\"type\":\"GlyphRenderer\"}]},\"id\":\"27580\",\"type\":\"LegendItem\"},{\"attributes\":{\"fields\":[\"geom\"]},\"id\":\"27530\",\"type\":\"Stack\"},{\"attributes\":{},\"id\":\"27544\",\"type\":\"CategoricalTickFormatter\"},{\"attributes\":{\"fields\":[\"geom\",\"no-geo\"]},\"id\":\"27532\",\"type\":\"Stack\"},{\"attributes\":{},\"id\":\"27514\",\"type\":\"PanTool\"},{\"attributes\":{},\"id\":\"28240\",\"type\":\"UnionRenderers\"},{\"attributes\":{},\"id\":\"27503\",\"type\":\"LinearScale\"},{\"attributes\":{\"items\":[{\"id\":\"27548\",\"type\":\"LegendItem\"},{\"id\":\"27563\",\"type\":\"LegendItem\"},{\"id\":\"27580\",\"type\":\"LegendItem\"}],\"location\":\"top_left\",\"orientation\":\"horizontal\",\"plot\":{\"id\":\"27495\",\"subtype\":\"Figure\",\"type\":\"Plot\"}},\"id\":\"27547\",\"type\":\"Legend\"},{\"attributes\":{\"formatter\":{\"id\":\"27544\",\"type\":\"CategoricalTickFormatter\"},\"minor_tick_line_color\":{\"value\":null},\"plot\":{\"id\":\"27495\",\"subtype\":\"Figure\",\"type\":\"Plot\"},\"ticker\":{\"id\":\"27506\",\"type\":\"CategoricalTicker\"}},\"id\":\"27505\",\"type\":\"CategoricalAxis\"},{\"attributes\":{},\"id\":\"27515\",\"type\":\"WheelZoomTool\"},{\"attributes\":{\"label\":{\"value\":\"geom\"},\"renderers\":[{\"id\":\"27539\",\"type\":\"GlyphRenderer\"}]},\"id\":\"27548\",\"type\":\"LegendItem\"},{\"attributes\":{\"source\":{\"id\":\"27549\",\"type\":\"ColumnDataSource\"}},\"id\":\"27554\",\"type\":\"CDSView\"},{\"attributes\":{\"callback\":null,\"data\":{\"bi\":[0,0,0,12,0],\"geom\":[87963,138399,453354,509051,0],\"no-geo\":[270160,295495,0,1,538248],\"years\":[\"2012\",\"2013\",\"2014\",\"2015\",\"2016\"]},\"selected\":{\"id\":\"27561\",\"type\":\"Selection\"},\"selection_policy\":{\"id\":\"27562\",\"type\":\"UnionRenderers\"}},\"id\":\"27535\",\"type\":\"ColumnDataSource\"},{\"attributes\":{\"overlay\":{\"id\":\"27522\",\"type\":\"BoxAnnotation\"}},\"id\":\"27516\",\"type\":\"BoxZoomTool\"},{\"attributes\":{\"callback\":null,\"data\":{\"bi\":[0,0,0,12,0],\"geom\":[87963,138399,453354,509051,0],\"no-geo\":[270160,295495,0,1,538248],\"years\":[\"2012\",\"2013\",\"2014\",\"2015\",\"2016\"]},\"selected\":{\"id\":\"27578\",\"type\":\"Selection\"},\"selection_policy\":{\"id\":\"27579\",\"type\":\"UnionRenderers\"}},\"id\":\"27549\",\"type\":\"ColumnDataSource\"},{\"attributes\":{\"grid_line_color\":{\"value\":null},\"plot\":{\"id\":\"27495\",\"subtype\":\"Figure\",\"type\":\"Plot\"},\"ticker\":{\"id\":\"27506\",\"type\":\"CategoricalTicker\"}},\"id\":\"27508\",\"type\":\"Grid\"},{\"attributes\":{},\"id\":\"27517\",\"type\":\"SaveTool\"},{\"attributes\":{},\"id\":\"27562\",\"type\":\"UnionRenderers\"},{\"attributes\":{},\"id\":\"27518\",\"type\":\"ResetTool\"},{\"attributes\":{\"bottom\":{\"expr\":{\"id\":\"27531\",\"type\":\"Stack\"}},\"fill_color\":{\"value\":\"#e84d60\"},\"line_color\":{\"value\":\"#e84d60\"},\"top\":{\"expr\":{\"id\":\"27532\",\"type\":\"Stack\"}},\"width\":{\"value\":0.9},\"x\":{\"field\":\"years\"}},\"id\":\"27551\",\"type\":\"VBar\"},{\"attributes\":{\"fields\":[]},\"id\":\"27529\",\"type\":\"Stack\"},{\"attributes\":{},\"id\":\"27519\",\"type\":\"HelpTool\"},{\"attributes\":{\"bottom\":{\"expr\":{\"id\":\"27531\",\"type\":\"Stack\"}},\"fill_alpha\":{\"value\":0.1},\"fill_color\":{\"value\":\"#1f77b4\"},\"line_alpha\":{\"value\":0.1},\"line_color\":{\"value\":\"#1f77b4\"},\"top\":{\"expr\":{\"id\":\"27532\",\"type\":\"Stack\"}},\"width\":{\"value\":0.9},\"x\":{\"field\":\"years\"}},\"id\":\"27552\",\"type\":\"VBar\"},{\"attributes\":{\"plot\":null,\"text\":\"AZ\"},\"id\":\"27494\",\"type\":\"Title\"},{\"attributes\":{\"active_drag\":\"auto\",\"active_inspect\":\"auto\",\"active_multi\":null,\"active_scroll\":\"auto\",\"active_tap\":\"auto\",\"tools\":[{\"id\":\"27514\",\"type\":\"PanTool\"},{\"id\":\"27515\",\"type\":\"WheelZoomTool\"},{\"id\":\"27516\",\"type\":\"BoxZoomTool\"},{\"id\":\"27517\",\"type\":\"SaveTool\"},{\"id\":\"27518\",\"type\":\"ResetTool\"},{\"id\":\"27519\",\"type\":\"HelpTool\"}]},\"id\":\"27520\",\"type\":\"Toolbar\"},{\"attributes\":{\"data_source\":{\"id\":\"27549\",\"type\":\"ColumnDataSource\"},\"glyph\":{\"id\":\"27551\",\"type\":\"VBar\"},\"hover_glyph\":null,\"muted_glyph\":null,\"name\":\"no-geo\",\"nonselection_glyph\":{\"id\":\"27552\",\"type\":\"VBar\"},\"selection_glyph\":null,\"view\":{\"id\":\"27554\",\"type\":\"CDSView\"}},\"id\":\"27553\",\"type\":\"GlyphRenderer\"},{\"attributes\":{\"callback\":null,\"factors\":[\"2012\",\"2013\",\"2014\",\"2015\",\"2016\"],\"range_padding\":0.1},\"id\":\"27497\",\"type\":\"FactorRange\"},{\"attributes\":{},\"id\":\"27561\",\"type\":\"Selection\"},{\"attributes\":{\"bottom_units\":\"screen\",\"fill_alpha\":{\"value\":0.5},\"fill_color\":{\"value\":\"lightgrey\"},\"left_units\":\"screen\",\"level\":\"overlay\",\"line_alpha\":{\"value\":1.0},\"line_color\":{\"value\":\"black\"},\"line_dash\":[4,4],\"line_width\":{\"value\":2},\"plot\":null,\"render_mode\":\"css\",\"right_units\":\"screen\",\"top_units\":\"screen\"},\"id\":\"27522\",\"type\":\"BoxAnnotation\"},{\"attributes\":{\"callback\":null,\"start\":0},\"id\":\"27499\",\"type\":\"DataRange1d\"},{\"attributes\":{\"label\":{\"value\":\"no-geo\"},\"renderers\":[{\"id\":\"27553\",\"type\":\"GlyphRenderer\"}]},\"id\":\"27563\",\"type\":\"LegendItem\"},{\"attributes\":{},\"id\":\"27501\",\"type\":\"CategoricalScale\"},{\"attributes\":{\"callback\":null,\"data\":{\"bi\":[0,0,0,12,0],\"geom\":[87963,138399,453354,509051,0],\"no-geo\":[270160,295495,0,1,538248],\"years\":[\"2012\",\"2013\",\"2014\",\"2015\",\"2016\"]},\"selected\":{\"id\":\"28239\",\"type\":\"Selection\"},\"selection_policy\":{\"id\":\"28240\",\"type\":\"UnionRenderers\"}},\"id\":\"27564\",\"type\":\"ColumnDataSource\"},{\"attributes\":{\"fields\":[\"geom\",\"no-geo\"]},\"id\":\"27533\",\"type\":\"Stack\"},{\"attributes\":{\"fields\":[\"geom\",\"no-geo\",\"bi\"]},\"id\":\"27534\",\"type\":\"Stack\"},{\"attributes\":{\"bottom\":{\"expr\":{\"id\":\"27533\",\"type\":\"Stack\"}},\"fill_color\":{\"value\":\"#cccccc\"},\"line_color\":{\"value\":\"#cccccc\"},\"top\":{\"expr\":{\"id\":\"27534\",\"type\":\"Stack\"}},\"width\":{\"value\":0.9},\"x\":{\"field\":\"years\"}},\"id\":\"27566\",\"type\":\"VBar\"},{\"attributes\":{},\"id\":\"27506\",\"type\":\"CategoricalTicker\"}],\"root_ids\":[\"27495\"]},\"title\":\"Bokeh Application\",\"version\":\"1.0.0\"}};\n",
       "  var render_items = [{\"docid\":\"74052af7-0d55-4e81-b680-bb42efc71a84\",\"roots\":{\"27495\":\"76e05394-095f-4c49-8447-83342410a822\"}}];\n",
       "  root.Bokeh.embed.embed_items_notebook(docs_json, render_items);\n",
       "\n",
       "  }\n",
       "  if (root.Bokeh !== undefined) {\n",
       "    embed_document(root);\n",
       "  } else {\n",
       "    var attempts = 0;\n",
       "    var timer = setInterval(function(root) {\n",
       "      if (root.Bokeh !== undefined) {\n",
       "        embed_document(root);\n",
       "        clearInterval(timer);\n",
       "      }\n",
       "      attempts++;\n",
       "      if (attempts > 100) {\n",
       "        console.log(\"Bokeh: ERROR: Unable to run BokehJS code because BokehJS library is missing\");\n",
       "        clearInterval(timer);\n",
       "      }\n",
       "    }, 10, root)\n",
       "  }\n",
       "})(window);"
      ],
      "application/vnd.bokehjs_exec.v0+json": ""
     },
     "metadata": {
      "application/vnd.bokehjs_exec.v0+json": {
       "id": "27495"
      }
     },
     "output_type": "display_data"
    },
    {
     "data": {
      "text/html": [
       "\n",
       "\n",
       "\n",
       "\n",
       "\n",
       "\n",
       "  <div class=\"bk-root\" id=\"15120118-02ce-4a35-93a9-18455dfe55e3\"></div>\n"
      ]
     },
     "metadata": {},
     "output_type": "display_data"
    },
    {
     "data": {
      "application/javascript": [
       "(function(root) {\n",
       "  function embed_document(root) {\n",
       "    \n",
       "  var docs_json = {\"6ede61b9-b438-4ee2-9fdb-d3f2c5f7f1ab\":{\"roots\":{\"references\":[{\"attributes\":{\"below\":[{\"id\":\"28324\",\"type\":\"CategoricalAxis\"}],\"left\":[{\"id\":\"28328\",\"type\":\"LinearAxis\"}],\"outline_line_color\":{\"value\":null},\"plot_height\":250,\"renderers\":[{\"id\":\"28324\",\"type\":\"CategoricalAxis\"},{\"id\":\"28327\",\"type\":\"Grid\"},{\"id\":\"28328\",\"type\":\"LinearAxis\"},{\"id\":\"28332\",\"type\":\"Grid\"},{\"id\":\"28341\",\"type\":\"BoxAnnotation\"},{\"id\":\"28366\",\"type\":\"Legend\"},{\"id\":\"28358\",\"type\":\"GlyphRenderer\"},{\"id\":\"28372\",\"type\":\"GlyphRenderer\"},{\"id\":\"28387\",\"type\":\"GlyphRenderer\"}],\"title\":{\"id\":\"28313\",\"type\":\"Title\"},\"toolbar\":{\"id\":\"28339\",\"type\":\"Toolbar\"},\"toolbar_location\":null,\"x_range\":{\"id\":\"28316\",\"type\":\"FactorRange\"},\"x_scale\":{\"id\":\"28320\",\"type\":\"CategoricalScale\"},\"y_range\":{\"id\":\"28318\",\"type\":\"DataRange1d\"},\"y_scale\":{\"id\":\"28322\",\"type\":\"LinearScale\"}},\"id\":\"28314\",\"subtype\":\"Figure\",\"type\":\"Plot\"},{\"attributes\":{\"formatter\":{\"id\":\"28363\",\"type\":\"CategoricalTickFormatter\"},\"minor_tick_line_color\":{\"value\":null},\"plot\":{\"id\":\"28314\",\"subtype\":\"Figure\",\"type\":\"Plot\"},\"ticker\":{\"id\":\"28325\",\"type\":\"CategoricalTicker\"}},\"id\":\"28324\",\"type\":\"CategoricalAxis\"},{\"attributes\":{\"bottom_units\":\"screen\",\"fill_alpha\":{\"value\":0.5},\"fill_color\":{\"value\":\"lightgrey\"},\"left_units\":\"screen\",\"level\":\"overlay\",\"line_alpha\":{\"value\":1.0},\"line_color\":{\"value\":\"black\"},\"line_dash\":[4,4],\"line_width\":{\"value\":2},\"plot\":null,\"render_mode\":\"css\",\"right_units\":\"screen\",\"top_units\":\"screen\"},\"id\":\"28341\",\"type\":\"BoxAnnotation\"},{\"attributes\":{},\"id\":\"28325\",\"type\":\"CategoricalTicker\"},{\"attributes\":{\"callback\":null,\"data\":{\"bi\":[0,0,0,2,0],\"geom\":[160542,158853,27108,199760,0],\"no-geo\":[28080,28167,178892,4,213748],\"years\":[\"2012\",\"2013\",\"2014\",\"2015\",\"2016\"]},\"selected\":{\"id\":\"29070\",\"type\":\"Selection\"},\"selection_policy\":{\"id\":\"29071\",\"type\":\"UnionRenderers\"}},\"id\":\"28383\",\"type\":\"ColumnDataSource\"},{\"attributes\":{\"grid_line_color\":{\"value\":null},\"plot\":{\"id\":\"28314\",\"subtype\":\"Figure\",\"type\":\"Plot\"},\"ticker\":{\"id\":\"28325\",\"type\":\"CategoricalTicker\"}},\"id\":\"28327\",\"type\":\"Grid\"},{\"attributes\":{\"fields\":[\"geom\",\"no-geo\"]},\"id\":\"28352\",\"type\":\"Stack\"},{\"attributes\":{\"callback\":null,\"factors\":[\"2012\",\"2013\",\"2014\",\"2015\",\"2016\"],\"range_padding\":0.1},\"id\":\"28316\",\"type\":\"FactorRange\"},{\"attributes\":{\"fields\":[\"geom\",\"no-geo\",\"bi\"]},\"id\":\"28353\",\"type\":\"Stack\"},{\"attributes\":{\"bottom\":{\"expr\":{\"id\":\"28352\",\"type\":\"Stack\"}},\"fill_color\":{\"value\":\"#cccccc\"},\"line_color\":{\"value\":\"#cccccc\"},\"top\":{\"expr\":{\"id\":\"28353\",\"type\":\"Stack\"}},\"width\":{\"value\":0.9},\"x\":{\"field\":\"years\"}},\"id\":\"28385\",\"type\":\"VBar\"},{\"attributes\":{\"callback\":null,\"data\":{\"bi\":[0,0,0,2,0],\"geom\":[160542,158853,27108,199760,0],\"no-geo\":[28080,28167,178892,4,213748],\"years\":[\"2012\",\"2013\",\"2014\",\"2015\",\"2016\"]},\"selected\":{\"id\":\"28380\",\"type\":\"Selection\"},\"selection_policy\":{\"id\":\"28381\",\"type\":\"UnionRenderers\"}},\"id\":\"28354\",\"type\":\"ColumnDataSource\"},{\"attributes\":{\"plot\":null,\"text\":\"AR\"},\"id\":\"28313\",\"type\":\"Title\"},{\"attributes\":{\"bottom\":{\"expr\":{\"id\":\"28352\",\"type\":\"Stack\"}},\"fill_alpha\":{\"value\":0.1},\"fill_color\":{\"value\":\"#1f77b4\"},\"line_alpha\":{\"value\":0.1},\"line_color\":{\"value\":\"#1f77b4\"},\"top\":{\"expr\":{\"id\":\"28353\",\"type\":\"Stack\"}},\"width\":{\"value\":0.9},\"x\":{\"field\":\"years\"}},\"id\":\"28386\",\"type\":\"VBar\"},{\"attributes\":{\"fields\":[\"geom\"]},\"id\":\"28350\",\"type\":\"Stack\"},{\"attributes\":{\"data_source\":{\"id\":\"28383\",\"type\":\"ColumnDataSource\"},\"glyph\":{\"id\":\"28385\",\"type\":\"VBar\"},\"hover_glyph\":null,\"muted_glyph\":null,\"name\":\"bi\",\"nonselection_glyph\":{\"id\":\"28386\",\"type\":\"VBar\"},\"selection_glyph\":null,\"view\":{\"id\":\"28388\",\"type\":\"CDSView\"}},\"id\":\"28387\",\"type\":\"GlyphRenderer\"},{\"attributes\":{\"bottom\":{\"expr\":{\"id\":\"28348\",\"type\":\"Stack\"}},\"fill_color\":{\"value\":\"#5CC9F5\"},\"line_color\":{\"value\":\"#5CC9F5\"},\"top\":{\"expr\":{\"id\":\"28349\",\"type\":\"Stack\"}},\"width\":{\"value\":0.9},\"x\":{\"field\":\"years\"}},\"id\":\"28356\",\"type\":\"VBar\"},{\"attributes\":{\"fields\":[\"geom\",\"no-geo\"]},\"id\":\"28351\",\"type\":\"Stack\"},{\"attributes\":{\"source\":{\"id\":\"28383\",\"type\":\"ColumnDataSource\"}},\"id\":\"28388\",\"type\":\"CDSView\"},{\"attributes\":{\"bottom\":{\"expr\":{\"id\":\"28348\",\"type\":\"Stack\"}},\"fill_alpha\":{\"value\":0.1},\"fill_color\":{\"value\":\"#1f77b4\"},\"line_alpha\":{\"value\":0.1},\"line_color\":{\"value\":\"#1f77b4\"},\"top\":{\"expr\":{\"id\":\"28349\",\"type\":\"Stack\"}},\"width\":{\"value\":0.9},\"x\":{\"field\":\"years\"}},\"id\":\"28357\",\"type\":\"VBar\"},{\"attributes\":{},\"id\":\"28397\",\"type\":\"Selection\"},{\"attributes\":{\"items\":[{\"id\":\"28367\",\"type\":\"LegendItem\"},{\"id\":\"28382\",\"type\":\"LegendItem\"},{\"id\":\"28399\",\"type\":\"LegendItem\"}],\"location\":\"top_left\",\"orientation\":\"horizontal\",\"plot\":{\"id\":\"28314\",\"subtype\":\"Figure\",\"type\":\"Plot\"}},\"id\":\"28366\",\"type\":\"Legend\"},{\"attributes\":{\"data_source\":{\"id\":\"28354\",\"type\":\"ColumnDataSource\"},\"glyph\":{\"id\":\"28356\",\"type\":\"VBar\"},\"hover_glyph\":null,\"muted_glyph\":null,\"name\":\"geom\",\"nonselection_glyph\":{\"id\":\"28357\",\"type\":\"VBar\"},\"selection_glyph\":null,\"view\":{\"id\":\"28359\",\"type\":\"CDSView\"}},\"id\":\"28358\",\"type\":\"GlyphRenderer\"},{\"attributes\":{},\"id\":\"28398\",\"type\":\"UnionRenderers\"},{\"attributes\":{\"source\":{\"id\":\"28354\",\"type\":\"ColumnDataSource\"}},\"id\":\"28359\",\"type\":\"CDSView\"},{\"attributes\":{\"label\":{\"value\":\"bi\"},\"renderers\":[{\"id\":\"28387\",\"type\":\"GlyphRenderer\"}]},\"id\":\"28399\",\"type\":\"LegendItem\"},{\"attributes\":{},\"id\":\"28337\",\"type\":\"ResetTool\"},{\"attributes\":{},\"id\":\"28361\",\"type\":\"BasicTickFormatter\"},{\"attributes\":{\"callback\":null,\"data\":{\"bi\":[0,0,0,2,0],\"geom\":[160542,158853,27108,199760,0],\"no-geo\":[28080,28167,178892,4,213748],\"years\":[\"2012\",\"2013\",\"2014\",\"2015\",\"2016\"]},\"selected\":{\"id\":\"28397\",\"type\":\"Selection\"},\"selection_policy\":{\"id\":\"28398\",\"type\":\"UnionRenderers\"}},\"id\":\"28368\",\"type\":\"ColumnDataSource\"},{\"attributes\":{},\"id\":\"28363\",\"type\":\"CategoricalTickFormatter\"},{\"attributes\":{},\"id\":\"29071\",\"type\":\"UnionRenderers\"},{\"attributes\":{},\"id\":\"29070\",\"type\":\"Selection\"},{\"attributes\":{},\"id\":\"28336\",\"type\":\"SaveTool\"},{\"attributes\":{\"formatter\":{\"id\":\"28361\",\"type\":\"BasicTickFormatter\"},\"minor_tick_line_color\":{\"value\":null},\"plot\":{\"id\":\"28314\",\"subtype\":\"Figure\",\"type\":\"Plot\"},\"ticker\":{\"id\":\"28329\",\"type\":\"BasicTicker\"}},\"id\":\"28328\",\"type\":\"LinearAxis\"},{\"attributes\":{\"label\":{\"value\":\"no-geo\"},\"renderers\":[{\"id\":\"28372\",\"type\":\"GlyphRenderer\"}]},\"id\":\"28382\",\"type\":\"LegendItem\"},{\"attributes\":{},\"id\":\"28333\",\"type\":\"PanTool\"},{\"attributes\":{},\"id\":\"28329\",\"type\":\"BasicTicker\"},{\"attributes\":{},\"id\":\"28338\",\"type\":\"HelpTool\"},{\"attributes\":{\"bottom\":{\"expr\":{\"id\":\"28350\",\"type\":\"Stack\"}},\"fill_color\":{\"value\":\"#e84d60\"},\"line_color\":{\"value\":\"#e84d60\"},\"top\":{\"expr\":{\"id\":\"28351\",\"type\":\"Stack\"}},\"width\":{\"value\":0.9},\"x\":{\"field\":\"years\"}},\"id\":\"28370\",\"type\":\"VBar\"},{\"attributes\":{},\"id\":\"28320\",\"type\":\"CategoricalScale\"},{\"attributes\":{},\"id\":\"28334\",\"type\":\"WheelZoomTool\"},{\"attributes\":{\"bottom\":{\"expr\":{\"id\":\"28350\",\"type\":\"Stack\"}},\"fill_alpha\":{\"value\":0.1},\"fill_color\":{\"value\":\"#1f77b4\"},\"line_alpha\":{\"value\":0.1},\"line_color\":{\"value\":\"#1f77b4\"},\"top\":{\"expr\":{\"id\":\"28351\",\"type\":\"Stack\"}},\"width\":{\"value\":0.9},\"x\":{\"field\":\"years\"}},\"id\":\"28371\",\"type\":\"VBar\"},{\"attributes\":{\"data_source\":{\"id\":\"28368\",\"type\":\"ColumnDataSource\"},\"glyph\":{\"id\":\"28370\",\"type\":\"VBar\"},\"hover_glyph\":null,\"muted_glyph\":null,\"name\":\"no-geo\",\"nonselection_glyph\":{\"id\":\"28371\",\"type\":\"VBar\"},\"selection_glyph\":null,\"view\":{\"id\":\"28373\",\"type\":\"CDSView\"}},\"id\":\"28372\",\"type\":\"GlyphRenderer\"},{\"attributes\":{\"fields\":[]},\"id\":\"28348\",\"type\":\"Stack\"},{\"attributes\":{\"callback\":null,\"start\":0},\"id\":\"28318\",\"type\":\"DataRange1d\"},{\"attributes\":{\"overlay\":{\"id\":\"28341\",\"type\":\"BoxAnnotation\"}},\"id\":\"28335\",\"type\":\"BoxZoomTool\"},{\"attributes\":{\"source\":{\"id\":\"28368\",\"type\":\"ColumnDataSource\"}},\"id\":\"28373\",\"type\":\"CDSView\"},{\"attributes\":{\"fields\":[\"geom\"]},\"id\":\"28349\",\"type\":\"Stack\"},{\"attributes\":{},\"id\":\"28322\",\"type\":\"LinearScale\"},{\"attributes\":{\"active_drag\":\"auto\",\"active_inspect\":\"auto\",\"active_multi\":null,\"active_scroll\":\"auto\",\"active_tap\":\"auto\",\"tools\":[{\"id\":\"28333\",\"type\":\"PanTool\"},{\"id\":\"28334\",\"type\":\"WheelZoomTool\"},{\"id\":\"28335\",\"type\":\"BoxZoomTool\"},{\"id\":\"28336\",\"type\":\"SaveTool\"},{\"id\":\"28337\",\"type\":\"ResetTool\"},{\"id\":\"28338\",\"type\":\"HelpTool\"}]},\"id\":\"28339\",\"type\":\"Toolbar\"},{\"attributes\":{\"label\":{\"value\":\"geom\"},\"renderers\":[{\"id\":\"28358\",\"type\":\"GlyphRenderer\"}]},\"id\":\"28367\",\"type\":\"LegendItem\"},{\"attributes\":{},\"id\":\"28380\",\"type\":\"Selection\"},{\"attributes\":{\"dimension\":1,\"plot\":{\"id\":\"28314\",\"subtype\":\"Figure\",\"type\":\"Plot\"},\"ticker\":{\"id\":\"28329\",\"type\":\"BasicTicker\"}},\"id\":\"28332\",\"type\":\"Grid\"},{\"attributes\":{},\"id\":\"28381\",\"type\":\"UnionRenderers\"}],\"root_ids\":[\"28314\"]},\"title\":\"Bokeh Application\",\"version\":\"1.0.0\"}};\n",
       "  var render_items = [{\"docid\":\"6ede61b9-b438-4ee2-9fdb-d3f2c5f7f1ab\",\"roots\":{\"28314\":\"15120118-02ce-4a35-93a9-18455dfe55e3\"}}];\n",
       "  root.Bokeh.embed.embed_items_notebook(docs_json, render_items);\n",
       "\n",
       "  }\n",
       "  if (root.Bokeh !== undefined) {\n",
       "    embed_document(root);\n",
       "  } else {\n",
       "    var attempts = 0;\n",
       "    var timer = setInterval(function(root) {\n",
       "      if (root.Bokeh !== undefined) {\n",
       "        embed_document(root);\n",
       "        clearInterval(timer);\n",
       "      }\n",
       "      attempts++;\n",
       "      if (attempts > 100) {\n",
       "        console.log(\"Bokeh: ERROR: Unable to run BokehJS code because BokehJS library is missing\");\n",
       "        clearInterval(timer);\n",
       "      }\n",
       "    }, 10, root)\n",
       "  }\n",
       "})(window);"
      ],
      "application/vnd.bokehjs_exec.v0+json": ""
     },
     "metadata": {
      "application/vnd.bokehjs_exec.v0+json": {
       "id": "28314"
      }
     },
     "output_type": "display_data"
    },
    {
     "data": {
      "text/html": [
       "\n",
       "\n",
       "\n",
       "\n",
       "\n",
       "\n",
       "  <div class=\"bk-root\" id=\"a7673db8-c739-414b-a172-fc89faacccd4\"></div>\n"
      ]
     },
     "metadata": {},
     "output_type": "display_data"
    },
    {
     "data": {
      "application/javascript": [
       "(function(root) {\n",
       "  function embed_document(root) {\n",
       "    \n",
       "  var docs_json = {\"bf743621-14c7-40e5-957a-2fd111d0bf80\":{\"roots\":{\"references\":[{\"attributes\":{\"below\":[{\"id\":\"29155\",\"type\":\"CategoricalAxis\"}],\"left\":[{\"id\":\"29159\",\"type\":\"LinearAxis\"}],\"outline_line_color\":{\"value\":null},\"plot_height\":250,\"renderers\":[{\"id\":\"29155\",\"type\":\"CategoricalAxis\"},{\"id\":\"29158\",\"type\":\"Grid\"},{\"id\":\"29159\",\"type\":\"LinearAxis\"},{\"id\":\"29163\",\"type\":\"Grid\"},{\"id\":\"29172\",\"type\":\"BoxAnnotation\"},{\"id\":\"29197\",\"type\":\"Legend\"},{\"id\":\"29189\",\"type\":\"GlyphRenderer\"},{\"id\":\"29203\",\"type\":\"GlyphRenderer\"},{\"id\":\"29218\",\"type\":\"GlyphRenderer\"}],\"title\":{\"id\":\"29144\",\"type\":\"Title\"},\"toolbar\":{\"id\":\"29170\",\"type\":\"Toolbar\"},\"toolbar_location\":null,\"x_range\":{\"id\":\"29147\",\"type\":\"FactorRange\"},\"x_scale\":{\"id\":\"29151\",\"type\":\"CategoricalScale\"},\"y_range\":{\"id\":\"29149\",\"type\":\"DataRange1d\"},\"y_scale\":{\"id\":\"29153\",\"type\":\"LinearScale\"}},\"id\":\"29145\",\"subtype\":\"Figure\",\"type\":\"Plot\"},{\"attributes\":{},\"id\":\"29169\",\"type\":\"HelpTool\"},{\"attributes\":{\"callback\":null,\"factors\":[\"2012\",\"2013\",\"2014\",\"2015\",\"2016\"],\"range_padding\":0.1},\"id\":\"29147\",\"type\":\"FactorRange\"},{\"attributes\":{\"active_drag\":\"auto\",\"active_inspect\":\"auto\",\"active_multi\":null,\"active_scroll\":\"auto\",\"active_tap\":\"auto\",\"tools\":[{\"id\":\"29164\",\"type\":\"PanTool\"},{\"id\":\"29165\",\"type\":\"WheelZoomTool\"},{\"id\":\"29166\",\"type\":\"BoxZoomTool\"},{\"id\":\"29167\",\"type\":\"SaveTool\"},{\"id\":\"29168\",\"type\":\"ResetTool\"},{\"id\":\"29169\",\"type\":\"HelpTool\"}]},\"id\":\"29170\",\"type\":\"Toolbar\"},{\"attributes\":{\"bottom\":{\"expr\":{\"id\":\"29181\",\"type\":\"Stack\"}},\"fill_alpha\":{\"value\":0.1},\"fill_color\":{\"value\":\"#1f77b4\"},\"line_alpha\":{\"value\":0.1},\"line_color\":{\"value\":\"#1f77b4\"},\"top\":{\"expr\":{\"id\":\"29182\",\"type\":\"Stack\"}},\"width\":{\"value\":0.9},\"x\":{\"field\":\"years\"}},\"id\":\"29202\",\"type\":\"VBar\"},{\"attributes\":{\"callback\":null,\"start\":0},\"id\":\"29149\",\"type\":\"DataRange1d\"},{\"attributes\":{\"plot\":null,\"text\":\"CA\"},\"id\":\"29144\",\"type\":\"Title\"},{\"attributes\":{\"bottom\":{\"expr\":{\"id\":\"29181\",\"type\":\"Stack\"}},\"fill_color\":{\"value\":\"#e84d60\"},\"line_color\":{\"value\":\"#e84d60\"},\"top\":{\"expr\":{\"id\":\"29182\",\"type\":\"Stack\"}},\"width\":{\"value\":0.9},\"x\":{\"field\":\"years\"}},\"id\":\"29201\",\"type\":\"VBar\"},{\"attributes\":{\"bottom_units\":\"screen\",\"fill_alpha\":{\"value\":0.5},\"fill_color\":{\"value\":\"lightgrey\"},\"left_units\":\"screen\",\"level\":\"overlay\",\"line_alpha\":{\"value\":1.0},\"line_color\":{\"value\":\"black\"},\"line_dash\":[4,4],\"line_width\":{\"value\":2},\"plot\":null,\"render_mode\":\"css\",\"right_units\":\"screen\",\"top_units\":\"screen\"},\"id\":\"29172\",\"type\":\"BoxAnnotation\"},{\"attributes\":{},\"id\":\"29151\",\"type\":\"CategoricalScale\"},{\"attributes\":{\"label\":{\"value\":\"bi\"},\"renderers\":[{\"id\":\"29218\",\"type\":\"GlyphRenderer\"}]},\"id\":\"29230\",\"type\":\"LegendItem\"},{\"attributes\":{},\"id\":\"29153\",\"type\":\"LinearScale\"},{\"attributes\":{\"fields\":[\"geom\",\"no-geo\"]},\"id\":\"29183\",\"type\":\"Stack\"},{\"attributes\":{\"data_source\":{\"id\":\"29199\",\"type\":\"ColumnDataSource\"},\"glyph\":{\"id\":\"29201\",\"type\":\"VBar\"},\"hover_glyph\":null,\"muted_glyph\":null,\"name\":\"no-geo\",\"nonselection_glyph\":{\"id\":\"29202\",\"type\":\"VBar\"},\"selection_glyph\":null,\"view\":{\"id\":\"29204\",\"type\":\"CDSView\"}},\"id\":\"29203\",\"type\":\"GlyphRenderer\"},{\"attributes\":{\"formatter\":{\"id\":\"29194\",\"type\":\"CategoricalTickFormatter\"},\"minor_tick_line_color\":{\"value\":null},\"plot\":{\"id\":\"29145\",\"subtype\":\"Figure\",\"type\":\"Plot\"},\"ticker\":{\"id\":\"29156\",\"type\":\"CategoricalTicker\"}},\"id\":\"29155\",\"type\":\"CategoricalAxis\"},{\"attributes\":{\"fields\":[\"geom\",\"no-geo\",\"bi\"]},\"id\":\"29184\",\"type\":\"Stack\"},{\"attributes\":{\"source\":{\"id\":\"29199\",\"type\":\"ColumnDataSource\"}},\"id\":\"29204\",\"type\":\"CDSView\"},{\"attributes\":{},\"id\":\"29156\",\"type\":\"CategoricalTicker\"},{\"attributes\":{\"callback\":null,\"data\":{\"bi\":[0,0,0,26,0],\"geom\":[1292220,2022739,2162710,2275298,0],\"no-geo\":[112369,103399,5,4,2589083],\"years\":[\"2012\",\"2013\",\"2014\",\"2015\",\"2016\"]},\"selected\":{\"id\":\"29211\",\"type\":\"Selection\"},\"selection_policy\":{\"id\":\"29212\",\"type\":\"UnionRenderers\"}},\"id\":\"29185\",\"type\":\"ColumnDataSource\"},{\"attributes\":{},\"id\":\"29211\",\"type\":\"Selection\"},{\"attributes\":{\"grid_line_color\":{\"value\":null},\"plot\":{\"id\":\"29145\",\"subtype\":\"Figure\",\"type\":\"Plot\"},\"ticker\":{\"id\":\"29156\",\"type\":\"CategoricalTicker\"}},\"id\":\"29158\",\"type\":\"Grid\"},{\"attributes\":{},\"id\":\"29229\",\"type\":\"UnionRenderers\"},{\"attributes\":{\"bottom\":{\"expr\":{\"id\":\"29179\",\"type\":\"Stack\"}},\"fill_color\":{\"value\":\"#5CC9F5\"},\"line_color\":{\"value\":\"#5CC9F5\"},\"top\":{\"expr\":{\"id\":\"29180\",\"type\":\"Stack\"}},\"width\":{\"value\":0.9},\"x\":{\"field\":\"years\"}},\"id\":\"29187\",\"type\":\"VBar\"},{\"attributes\":{\"formatter\":{\"id\":\"29192\",\"type\":\"BasicTickFormatter\"},\"minor_tick_line_color\":{\"value\":null},\"plot\":{\"id\":\"29145\",\"subtype\":\"Figure\",\"type\":\"Plot\"},\"ticker\":{\"id\":\"29160\",\"type\":\"BasicTicker\"}},\"id\":\"29159\",\"type\":\"LinearAxis\"},{\"attributes\":{},\"id\":\"29212\",\"type\":\"UnionRenderers\"},{\"attributes\":{\"label\":{\"value\":\"no-geo\"},\"renderers\":[{\"id\":\"29203\",\"type\":\"GlyphRenderer\"}]},\"id\":\"29213\",\"type\":\"LegendItem\"},{\"attributes\":{\"bottom\":{\"expr\":{\"id\":\"29179\",\"type\":\"Stack\"}},\"fill_alpha\":{\"value\":0.1},\"fill_color\":{\"value\":\"#1f77b4\"},\"line_alpha\":{\"value\":0.1},\"line_color\":{\"value\":\"#1f77b4\"},\"top\":{\"expr\":{\"id\":\"29180\",\"type\":\"Stack\"}},\"width\":{\"value\":0.9},\"x\":{\"field\":\"years\"}},\"id\":\"29188\",\"type\":\"VBar\"},{\"attributes\":{},\"id\":\"29160\",\"type\":\"BasicTicker\"},{\"attributes\":{\"callback\":null,\"data\":{\"bi\":[0,0,0,26,0],\"geom\":[1292220,2022739,2162710,2275298,0],\"no-geo\":[112369,103399,5,4,2589083],\"years\":[\"2012\",\"2013\",\"2014\",\"2015\",\"2016\"]},\"selected\":{\"id\":\"29913\",\"type\":\"Selection\"},\"selection_policy\":{\"id\":\"29914\",\"type\":\"UnionRenderers\"}},\"id\":\"29214\",\"type\":\"ColumnDataSource\"},{\"attributes\":{\"data_source\":{\"id\":\"29185\",\"type\":\"ColumnDataSource\"},\"glyph\":{\"id\":\"29187\",\"type\":\"VBar\"},\"hover_glyph\":null,\"muted_glyph\":null,\"name\":\"geom\",\"nonselection_glyph\":{\"id\":\"29188\",\"type\":\"VBar\"},\"selection_glyph\":null,\"view\":{\"id\":\"29190\",\"type\":\"CDSView\"}},\"id\":\"29189\",\"type\":\"GlyphRenderer\"},{\"attributes\":{\"dimension\":1,\"plot\":{\"id\":\"29145\",\"subtype\":\"Figure\",\"type\":\"Plot\"},\"ticker\":{\"id\":\"29160\",\"type\":\"BasicTicker\"}},\"id\":\"29163\",\"type\":\"Grid\"},{\"attributes\":{},\"id\":\"29914\",\"type\":\"UnionRenderers\"},{\"attributes\":{\"source\":{\"id\":\"29185\",\"type\":\"ColumnDataSource\"}},\"id\":\"29190\",\"type\":\"CDSView\"},{\"attributes\":{\"bottom\":{\"expr\":{\"id\":\"29183\",\"type\":\"Stack\"}},\"fill_color\":{\"value\":\"#cccccc\"},\"line_color\":{\"value\":\"#cccccc\"},\"top\":{\"expr\":{\"id\":\"29184\",\"type\":\"Stack\"}},\"width\":{\"value\":0.9},\"x\":{\"field\":\"years\"}},\"id\":\"29216\",\"type\":\"VBar\"},{\"attributes\":{\"fields\":[\"geom\"]},\"id\":\"29181\",\"type\":\"Stack\"},{\"attributes\":{},\"id\":\"29192\",\"type\":\"BasicTickFormatter\"},{\"attributes\":{\"fields\":[\"geom\"]},\"id\":\"29180\",\"type\":\"Stack\"},{\"attributes\":{},\"id\":\"29194\",\"type\":\"CategoricalTickFormatter\"},{\"attributes\":{\"bottom\":{\"expr\":{\"id\":\"29183\",\"type\":\"Stack\"}},\"fill_alpha\":{\"value\":0.1},\"fill_color\":{\"value\":\"#1f77b4\"},\"line_alpha\":{\"value\":0.1},\"line_color\":{\"value\":\"#1f77b4\"},\"top\":{\"expr\":{\"id\":\"29184\",\"type\":\"Stack\"}},\"width\":{\"value\":0.9},\"x\":{\"field\":\"years\"}},\"id\":\"29217\",\"type\":\"VBar\"},{\"attributes\":{\"fields\":[]},\"id\":\"29179\",\"type\":\"Stack\"},{\"attributes\":{\"fields\":[\"geom\",\"no-geo\"]},\"id\":\"29182\",\"type\":\"Stack\"},{\"attributes\":{},\"id\":\"29164\",\"type\":\"PanTool\"},{\"attributes\":{\"data_source\":{\"id\":\"29214\",\"type\":\"ColumnDataSource\"},\"glyph\":{\"id\":\"29216\",\"type\":\"VBar\"},\"hover_glyph\":null,\"muted_glyph\":null,\"name\":\"bi\",\"nonselection_glyph\":{\"id\":\"29217\",\"type\":\"VBar\"},\"selection_glyph\":null,\"view\":{\"id\":\"29219\",\"type\":\"CDSView\"}},\"id\":\"29218\",\"type\":\"GlyphRenderer\"},{\"attributes\":{},\"id\":\"29913\",\"type\":\"Selection\"},{\"attributes\":{},\"id\":\"29165\",\"type\":\"WheelZoomTool\"},{\"attributes\":{\"items\":[{\"id\":\"29198\",\"type\":\"LegendItem\"},{\"id\":\"29213\",\"type\":\"LegendItem\"},{\"id\":\"29230\",\"type\":\"LegendItem\"}],\"location\":\"top_left\",\"orientation\":\"horizontal\",\"plot\":{\"id\":\"29145\",\"subtype\":\"Figure\",\"type\":\"Plot\"}},\"id\":\"29197\",\"type\":\"Legend\"},{\"attributes\":{},\"id\":\"29228\",\"type\":\"Selection\"},{\"attributes\":{\"source\":{\"id\":\"29214\",\"type\":\"ColumnDataSource\"}},\"id\":\"29219\",\"type\":\"CDSView\"},{\"attributes\":{\"overlay\":{\"id\":\"29172\",\"type\":\"BoxAnnotation\"}},\"id\":\"29166\",\"type\":\"BoxZoomTool\"},{\"attributes\":{\"label\":{\"value\":\"geom\"},\"renderers\":[{\"id\":\"29189\",\"type\":\"GlyphRenderer\"}]},\"id\":\"29198\",\"type\":\"LegendItem\"},{\"attributes\":{},\"id\":\"29167\",\"type\":\"SaveTool\"},{\"attributes\":{\"callback\":null,\"data\":{\"bi\":[0,0,0,26,0],\"geom\":[1292220,2022739,2162710,2275298,0],\"no-geo\":[112369,103399,5,4,2589083],\"years\":[\"2012\",\"2013\",\"2014\",\"2015\",\"2016\"]},\"selected\":{\"id\":\"29228\",\"type\":\"Selection\"},\"selection_policy\":{\"id\":\"29229\",\"type\":\"UnionRenderers\"}},\"id\":\"29199\",\"type\":\"ColumnDataSource\"},{\"attributes\":{},\"id\":\"29168\",\"type\":\"ResetTool\"}],\"root_ids\":[\"29145\"]},\"title\":\"Bokeh Application\",\"version\":\"1.0.0\"}};\n",
       "  var render_items = [{\"docid\":\"bf743621-14c7-40e5-957a-2fd111d0bf80\",\"roots\":{\"29145\":\"a7673db8-c739-414b-a172-fc89faacccd4\"}}];\n",
       "  root.Bokeh.embed.embed_items_notebook(docs_json, render_items);\n",
       "\n",
       "  }\n",
       "  if (root.Bokeh !== undefined) {\n",
       "    embed_document(root);\n",
       "  } else {\n",
       "    var attempts = 0;\n",
       "    var timer = setInterval(function(root) {\n",
       "      if (root.Bokeh !== undefined) {\n",
       "        embed_document(root);\n",
       "        clearInterval(timer);\n",
       "      }\n",
       "      attempts++;\n",
       "      if (attempts > 100) {\n",
       "        console.log(\"Bokeh: ERROR: Unable to run BokehJS code because BokehJS library is missing\");\n",
       "        clearInterval(timer);\n",
       "      }\n",
       "    }, 10, root)\n",
       "  }\n",
       "})(window);"
      ],
      "application/vnd.bokehjs_exec.v0+json": ""
     },
     "metadata": {
      "application/vnd.bokehjs_exec.v0+json": {
       "id": "29145"
      }
     },
     "output_type": "display_data"
    },
    {
     "data": {
      "text/html": [
       "\n",
       "\n",
       "\n",
       "\n",
       "\n",
       "\n",
       "  <div class=\"bk-root\" id=\"aab37466-5828-44ea-af4b-382f20c761be\"></div>\n"
      ]
     },
     "metadata": {},
     "output_type": "display_data"
    },
    {
     "data": {
      "application/javascript": [
       "(function(root) {\n",
       "  function embed_document(root) {\n",
       "    \n",
       "  var docs_json = {\"58168db3-eb5e-437a-a2aa-7d6b256ddd72\":{\"roots\":{\"references\":[{\"attributes\":{\"below\":[{\"id\":\"29998\",\"type\":\"CategoricalAxis\"}],\"left\":[{\"id\":\"30002\",\"type\":\"LinearAxis\"}],\"outline_line_color\":{\"value\":null},\"plot_height\":250,\"renderers\":[{\"id\":\"29998\",\"type\":\"CategoricalAxis\"},{\"id\":\"30001\",\"type\":\"Grid\"},{\"id\":\"30002\",\"type\":\"LinearAxis\"},{\"id\":\"30006\",\"type\":\"Grid\"},{\"id\":\"30015\",\"type\":\"BoxAnnotation\"},{\"id\":\"30040\",\"type\":\"Legend\"},{\"id\":\"30032\",\"type\":\"GlyphRenderer\"},{\"id\":\"30046\",\"type\":\"GlyphRenderer\"},{\"id\":\"30061\",\"type\":\"GlyphRenderer\"}],\"title\":{\"id\":\"29987\",\"type\":\"Title\"},\"toolbar\":{\"id\":\"30013\",\"type\":\"Toolbar\"},\"toolbar_location\":null,\"x_range\":{\"id\":\"29990\",\"type\":\"FactorRange\"},\"x_scale\":{\"id\":\"29994\",\"type\":\"CategoricalScale\"},\"y_range\":{\"id\":\"29992\",\"type\":\"DataRange1d\"},\"y_scale\":{\"id\":\"29996\",\"type\":\"LinearScale\"}},\"id\":\"29988\",\"subtype\":\"Figure\",\"type\":\"Plot\"},{\"attributes\":{},\"id\":\"30037\",\"type\":\"CategoricalTickFormatter\"},{\"attributes\":{},\"id\":\"30008\",\"type\":\"WheelZoomTool\"},{\"attributes\":{\"items\":[{\"id\":\"30041\",\"type\":\"LegendItem\"},{\"id\":\"30056\",\"type\":\"LegendItem\"},{\"id\":\"30073\",\"type\":\"LegendItem\"}],\"location\":\"top_left\",\"orientation\":\"horizontal\",\"plot\":{\"id\":\"29988\",\"subtype\":\"Figure\",\"type\":\"Plot\"}},\"id\":\"30040\",\"type\":\"Legend\"},{\"attributes\":{},\"id\":\"30055\",\"type\":\"UnionRenderers\"},{\"attributes\":{\"overlay\":{\"id\":\"30015\",\"type\":\"BoxAnnotation\"}},\"id\":\"30009\",\"type\":\"BoxZoomTool\"},{\"attributes\":{\"label\":{\"value\":\"geom\"},\"renderers\":[{\"id\":\"30032\",\"type\":\"GlyphRenderer\"}]},\"id\":\"30041\",\"type\":\"LegendItem\"},{\"attributes\":{},\"id\":\"30010\",\"type\":\"SaveTool\"},{\"attributes\":{},\"id\":\"29994\",\"type\":\"CategoricalScale\"},{\"attributes\":{\"callback\":null,\"data\":{\"bi\":[0,0,80,0,0],\"geom\":[37267,52778,520306,560927,0],\"no-geo\":[422826,437447,1,1,615939],\"years\":[\"2012\",\"2013\",\"2014\",\"2015\",\"2016\"]},\"selected\":{\"id\":\"30071\",\"type\":\"Selection\"},\"selection_policy\":{\"id\":\"30072\",\"type\":\"UnionRenderers\"}},\"id\":\"30042\",\"type\":\"ColumnDataSource\"},{\"attributes\":{},\"id\":\"30007\",\"type\":\"PanTool\"},{\"attributes\":{},\"id\":\"30768\",\"type\":\"Selection\"},{\"attributes\":{},\"id\":\"30011\",\"type\":\"ResetTool\"},{\"attributes\":{\"callback\":null,\"data\":{\"bi\":[0,0,80,0,0],\"geom\":[37267,52778,520306,560927,0],\"no-geo\":[422826,437447,1,1,615939],\"years\":[\"2012\",\"2013\",\"2014\",\"2015\",\"2016\"]},\"selected\":{\"id\":\"30768\",\"type\":\"Selection\"},\"selection_policy\":{\"id\":\"30769\",\"type\":\"UnionRenderers\"}},\"id\":\"30057\",\"type\":\"ColumnDataSource\"},{\"attributes\":{},\"id\":\"30012\",\"type\":\"HelpTool\"},{\"attributes\":{\"bottom\":{\"expr\":{\"id\":\"30024\",\"type\":\"Stack\"}},\"fill_color\":{\"value\":\"#e84d60\"},\"line_color\":{\"value\":\"#e84d60\"},\"top\":{\"expr\":{\"id\":\"30025\",\"type\":\"Stack\"}},\"width\":{\"value\":0.9},\"x\":{\"field\":\"years\"}},\"id\":\"30044\",\"type\":\"VBar\"},{\"attributes\":{\"active_drag\":\"auto\",\"active_inspect\":\"auto\",\"active_multi\":null,\"active_scroll\":\"auto\",\"active_tap\":\"auto\",\"tools\":[{\"id\":\"30007\",\"type\":\"PanTool\"},{\"id\":\"30008\",\"type\":\"WheelZoomTool\"},{\"id\":\"30009\",\"type\":\"BoxZoomTool\"},{\"id\":\"30010\",\"type\":\"SaveTool\"},{\"id\":\"30011\",\"type\":\"ResetTool\"},{\"id\":\"30012\",\"type\":\"HelpTool\"}]},\"id\":\"30013\",\"type\":\"Toolbar\"},{\"attributes\":{\"callback\":null,\"start\":0},\"id\":\"29992\",\"type\":\"DataRange1d\"},{\"attributes\":{\"bottom\":{\"expr\":{\"id\":\"30024\",\"type\":\"Stack\"}},\"fill_alpha\":{\"value\":0.1},\"fill_color\":{\"value\":\"#1f77b4\"},\"line_alpha\":{\"value\":0.1},\"line_color\":{\"value\":\"#1f77b4\"},\"top\":{\"expr\":{\"id\":\"30025\",\"type\":\"Stack\"}},\"width\":{\"value\":0.9},\"x\":{\"field\":\"years\"}},\"id\":\"30045\",\"type\":\"VBar\"},{\"attributes\":{\"fields\":[\"geom\",\"no-geo\"]},\"id\":\"30025\",\"type\":\"Stack\"},{\"attributes\":{\"dimension\":1,\"plot\":{\"id\":\"29988\",\"subtype\":\"Figure\",\"type\":\"Plot\"},\"ticker\":{\"id\":\"30003\",\"type\":\"BasicTicker\"}},\"id\":\"30006\",\"type\":\"Grid\"},{\"attributes\":{},\"id\":\"29996\",\"type\":\"LinearScale\"},{\"attributes\":{\"data_source\":{\"id\":\"30042\",\"type\":\"ColumnDataSource\"},\"glyph\":{\"id\":\"30044\",\"type\":\"VBar\"},\"hover_glyph\":null,\"muted_glyph\":null,\"name\":\"no-geo\",\"nonselection_glyph\":{\"id\":\"30045\",\"type\":\"VBar\"},\"selection_glyph\":null,\"view\":{\"id\":\"30047\",\"type\":\"CDSView\"}},\"id\":\"30046\",\"type\":\"GlyphRenderer\"},{\"attributes\":{\"bottom_units\":\"screen\",\"fill_alpha\":{\"value\":0.5},\"fill_color\":{\"value\":\"lightgrey\"},\"left_units\":\"screen\",\"level\":\"overlay\",\"line_alpha\":{\"value\":1.0},\"line_color\":{\"value\":\"black\"},\"line_dash\":[4,4],\"line_width\":{\"value\":2},\"plot\":null,\"render_mode\":\"css\",\"right_units\":\"screen\",\"top_units\":\"screen\"},\"id\":\"30015\",\"type\":\"BoxAnnotation\"},{\"attributes\":{},\"id\":\"30769\",\"type\":\"UnionRenderers\"},{\"attributes\":{\"source\":{\"id\":\"30042\",\"type\":\"ColumnDataSource\"}},\"id\":\"30047\",\"type\":\"CDSView\"},{\"attributes\":{\"fields\":[\"geom\",\"no-geo\"]},\"id\":\"30026\",\"type\":\"Stack\"},{\"attributes\":{\"label\":{\"value\":\"no-geo\"},\"renderers\":[{\"id\":\"30046\",\"type\":\"GlyphRenderer\"}]},\"id\":\"30056\",\"type\":\"LegendItem\"},{\"attributes\":{\"grid_line_color\":{\"value\":null},\"plot\":{\"id\":\"29988\",\"subtype\":\"Figure\",\"type\":\"Plot\"},\"ticker\":{\"id\":\"29999\",\"type\":\"CategoricalTicker\"}},\"id\":\"30001\",\"type\":\"Grid\"},{\"attributes\":{\"fields\":[\"geom\",\"no-geo\",\"bi\"]},\"id\":\"30027\",\"type\":\"Stack\"},{\"attributes\":{\"callback\":null,\"factors\":[\"2012\",\"2013\",\"2014\",\"2015\",\"2016\"],\"range_padding\":0.1},\"id\":\"29990\",\"type\":\"FactorRange\"},{\"attributes\":{\"bottom\":{\"expr\":{\"id\":\"30026\",\"type\":\"Stack\"}},\"fill_color\":{\"value\":\"#cccccc\"},\"line_color\":{\"value\":\"#cccccc\"},\"top\":{\"expr\":{\"id\":\"30027\",\"type\":\"Stack\"}},\"width\":{\"value\":0.9},\"x\":{\"field\":\"years\"}},\"id\":\"30059\",\"type\":\"VBar\"},{\"attributes\":{\"callback\":null,\"data\":{\"bi\":[0,0,80,0,0],\"geom\":[37267,52778,520306,560927,0],\"no-geo\":[422826,437447,1,1,615939],\"years\":[\"2012\",\"2013\",\"2014\",\"2015\",\"2016\"]},\"selected\":{\"id\":\"30054\",\"type\":\"Selection\"},\"selection_policy\":{\"id\":\"30055\",\"type\":\"UnionRenderers\"}},\"id\":\"30028\",\"type\":\"ColumnDataSource\"},{\"attributes\":{\"formatter\":{\"id\":\"30037\",\"type\":\"CategoricalTickFormatter\"},\"minor_tick_line_color\":{\"value\":null},\"plot\":{\"id\":\"29988\",\"subtype\":\"Figure\",\"type\":\"Plot\"},\"ticker\":{\"id\":\"29999\",\"type\":\"CategoricalTicker\"}},\"id\":\"29998\",\"type\":\"CategoricalAxis\"},{\"attributes\":{\"bottom\":{\"expr\":{\"id\":\"30026\",\"type\":\"Stack\"}},\"fill_alpha\":{\"value\":0.1},\"fill_color\":{\"value\":\"#1f77b4\"},\"line_alpha\":{\"value\":0.1},\"line_color\":{\"value\":\"#1f77b4\"},\"top\":{\"expr\":{\"id\":\"30027\",\"type\":\"Stack\"}},\"width\":{\"value\":0.9},\"x\":{\"field\":\"years\"}},\"id\":\"30060\",\"type\":\"VBar\"},{\"attributes\":{\"plot\":null,\"text\":\"CO\"},\"id\":\"29987\",\"type\":\"Title\"},{\"attributes\":{},\"id\":\"29999\",\"type\":\"CategoricalTicker\"},{\"attributes\":{\"bottom\":{\"expr\":{\"id\":\"30022\",\"type\":\"Stack\"}},\"fill_color\":{\"value\":\"#5CC9F5\"},\"line_color\":{\"value\":\"#5CC9F5\"},\"top\":{\"expr\":{\"id\":\"30023\",\"type\":\"Stack\"}},\"width\":{\"value\":0.9},\"x\":{\"field\":\"years\"}},\"id\":\"30030\",\"type\":\"VBar\"},{\"attributes\":{\"data_source\":{\"id\":\"30057\",\"type\":\"ColumnDataSource\"},\"glyph\":{\"id\":\"30059\",\"type\":\"VBar\"},\"hover_glyph\":null,\"muted_glyph\":null,\"name\":\"bi\",\"nonselection_glyph\":{\"id\":\"30060\",\"type\":\"VBar\"},\"selection_glyph\":null,\"view\":{\"id\":\"30062\",\"type\":\"CDSView\"}},\"id\":\"30061\",\"type\":\"GlyphRenderer\"},{\"attributes\":{\"fields\":[\"geom\"]},\"id\":\"30024\",\"type\":\"Stack\"},{\"attributes\":{\"bottom\":{\"expr\":{\"id\":\"30022\",\"type\":\"Stack\"}},\"fill_alpha\":{\"value\":0.1},\"fill_color\":{\"value\":\"#1f77b4\"},\"line_alpha\":{\"value\":0.1},\"line_color\":{\"value\":\"#1f77b4\"},\"top\":{\"expr\":{\"id\":\"30023\",\"type\":\"Stack\"}},\"width\":{\"value\":0.9},\"x\":{\"field\":\"years\"}},\"id\":\"30031\",\"type\":\"VBar\"},{\"attributes\":{\"source\":{\"id\":\"30057\",\"type\":\"ColumnDataSource\"}},\"id\":\"30062\",\"type\":\"CDSView\"},{\"attributes\":{\"data_source\":{\"id\":\"30028\",\"type\":\"ColumnDataSource\"},\"glyph\":{\"id\":\"30030\",\"type\":\"VBar\"},\"hover_glyph\":null,\"muted_glyph\":null,\"name\":\"geom\",\"nonselection_glyph\":{\"id\":\"30031\",\"type\":\"VBar\"},\"selection_glyph\":null,\"view\":{\"id\":\"30033\",\"type\":\"CDSView\"}},\"id\":\"30032\",\"type\":\"GlyphRenderer\"},{\"attributes\":{},\"id\":\"30071\",\"type\":\"Selection\"},{\"attributes\":{},\"id\":\"30003\",\"type\":\"BasicTicker\"},{\"attributes\":{\"fields\":[]},\"id\":\"30022\",\"type\":\"Stack\"},{\"attributes\":{\"source\":{\"id\":\"30028\",\"type\":\"ColumnDataSource\"}},\"id\":\"30033\",\"type\":\"CDSView\"},{\"attributes\":{},\"id\":\"30072\",\"type\":\"UnionRenderers\"},{\"attributes\":{\"formatter\":{\"id\":\"30035\",\"type\":\"BasicTickFormatter\"},\"minor_tick_line_color\":{\"value\":null},\"plot\":{\"id\":\"29988\",\"subtype\":\"Figure\",\"type\":\"Plot\"},\"ticker\":{\"id\":\"30003\",\"type\":\"BasicTicker\"}},\"id\":\"30002\",\"type\":\"LinearAxis\"},{\"attributes\":{\"label\":{\"value\":\"bi\"},\"renderers\":[{\"id\":\"30061\",\"type\":\"GlyphRenderer\"}]},\"id\":\"30073\",\"type\":\"LegendItem\"},{\"attributes\":{\"fields\":[\"geom\"]},\"id\":\"30023\",\"type\":\"Stack\"},{\"attributes\":{},\"id\":\"30035\",\"type\":\"BasicTickFormatter\"},{\"attributes\":{},\"id\":\"30054\",\"type\":\"Selection\"}],\"root_ids\":[\"29988\"]},\"title\":\"Bokeh Application\",\"version\":\"1.0.0\"}};\n",
       "  var render_items = [{\"docid\":\"58168db3-eb5e-437a-a2aa-7d6b256ddd72\",\"roots\":{\"29988\":\"aab37466-5828-44ea-af4b-382f20c761be\"}}];\n",
       "  root.Bokeh.embed.embed_items_notebook(docs_json, render_items);\n",
       "\n",
       "  }\n",
       "  if (root.Bokeh !== undefined) {\n",
       "    embed_document(root);\n",
       "  } else {\n",
       "    var attempts = 0;\n",
       "    var timer = setInterval(function(root) {\n",
       "      if (root.Bokeh !== undefined) {\n",
       "        embed_document(root);\n",
       "        clearInterval(timer);\n",
       "      }\n",
       "      attempts++;\n",
       "      if (attempts > 100) {\n",
       "        console.log(\"Bokeh: ERROR: Unable to run BokehJS code because BokehJS library is missing\");\n",
       "        clearInterval(timer);\n",
       "      }\n",
       "    }, 10, root)\n",
       "  }\n",
       "})(window);"
      ],
      "application/vnd.bokehjs_exec.v0+json": ""
     },
     "metadata": {
      "application/vnd.bokehjs_exec.v0+json": {
       "id": "29988"
      }
     },
     "output_type": "display_data"
    },
    {
     "data": {
      "text/html": [
       "\n",
       "\n",
       "\n",
       "\n",
       "\n",
       "\n",
       "  <div class=\"bk-root\" id=\"2a709f07-2b7e-4290-a241-4771910fc15c\"></div>\n"
      ]
     },
     "metadata": {},
     "output_type": "display_data"
    },
    {
     "data": {
      "application/javascript": [
       "(function(root) {\n",
       "  function embed_document(root) {\n",
       "    \n",
       "  var docs_json = {\"93e9068f-ab18-479c-811b-b82a7f9698b9\":{\"roots\":{\"references\":[{\"attributes\":{\"below\":[{\"id\":\"30853\",\"type\":\"CategoricalAxis\"}],\"left\":[{\"id\":\"30857\",\"type\":\"LinearAxis\"}],\"outline_line_color\":{\"value\":null},\"plot_height\":250,\"renderers\":[{\"id\":\"30853\",\"type\":\"CategoricalAxis\"},{\"id\":\"30856\",\"type\":\"Grid\"},{\"id\":\"30857\",\"type\":\"LinearAxis\"},{\"id\":\"30861\",\"type\":\"Grid\"},{\"id\":\"30870\",\"type\":\"BoxAnnotation\"},{\"id\":\"30895\",\"type\":\"Legend\"},{\"id\":\"30887\",\"type\":\"GlyphRenderer\"},{\"id\":\"30901\",\"type\":\"GlyphRenderer\"},{\"id\":\"30916\",\"type\":\"GlyphRenderer\"}],\"title\":{\"id\":\"30842\",\"type\":\"Title\"},\"toolbar\":{\"id\":\"30868\",\"type\":\"Toolbar\"},\"toolbar_location\":null,\"x_range\":{\"id\":\"30845\",\"type\":\"FactorRange\"},\"x_scale\":{\"id\":\"30849\",\"type\":\"CategoricalScale\"},\"y_range\":{\"id\":\"30847\",\"type\":\"DataRange1d\"},\"y_scale\":{\"id\":\"30851\",\"type\":\"LinearScale\"}},\"id\":\"30843\",\"subtype\":\"Figure\",\"type\":\"Plot\"},{\"attributes\":{\"label\":{\"value\":\"geom\"},\"renderers\":[{\"id\":\"30887\",\"type\":\"GlyphRenderer\"}]},\"id\":\"30896\",\"type\":\"LegendItem\"},{\"attributes\":{},\"id\":\"30909\",\"type\":\"Selection\"},{\"attributes\":{\"bottom\":{\"expr\":{\"id\":\"30877\",\"type\":\"Stack\"}},\"fill_alpha\":{\"value\":0.1},\"fill_color\":{\"value\":\"#1f77b4\"},\"line_alpha\":{\"value\":0.1},\"line_color\":{\"value\":\"#1f77b4\"},\"top\":{\"expr\":{\"id\":\"30878\",\"type\":\"Stack\"}},\"width\":{\"value\":0.9},\"x\":{\"field\":\"years\"}},\"id\":\"30886\",\"type\":\"VBar\"},{\"attributes\":{\"callback\":null,\"data\":{\"bi\":[0,0,0,12,0],\"geom\":[0,0,304682,338600,0],\"no-geo\":[306206,335965,0,1,362522],\"years\":[\"2012\",\"2013\",\"2014\",\"2015\",\"2016\"]},\"selected\":{\"id\":\"30926\",\"type\":\"Selection\"},\"selection_policy\":{\"id\":\"30927\",\"type\":\"UnionRenderers\"}},\"id\":\"30897\",\"type\":\"ColumnDataSource\"},{\"attributes\":{},\"id\":\"31635\",\"type\":\"Selection\"},{\"attributes\":{\"bottom\":{\"expr\":{\"id\":\"30879\",\"type\":\"Stack\"}},\"fill_alpha\":{\"value\":0.1},\"fill_color\":{\"value\":\"#1f77b4\"},\"line_alpha\":{\"value\":0.1},\"line_color\":{\"value\":\"#1f77b4\"},\"top\":{\"expr\":{\"id\":\"30880\",\"type\":\"Stack\"}},\"width\":{\"value\":0.9},\"x\":{\"field\":\"years\"}},\"id\":\"30900\",\"type\":\"VBar\"},{\"attributes\":{\"data_source\":{\"id\":\"30883\",\"type\":\"ColumnDataSource\"},\"glyph\":{\"id\":\"30885\",\"type\":\"VBar\"},\"hover_glyph\":null,\"muted_glyph\":null,\"name\":\"geom\",\"nonselection_glyph\":{\"id\":\"30886\",\"type\":\"VBar\"},\"selection_glyph\":null,\"view\":{\"id\":\"30888\",\"type\":\"CDSView\"}},\"id\":\"30887\",\"type\":\"GlyphRenderer\"},{\"attributes\":{\"fields\":[\"geom\",\"no-geo\"]},\"id\":\"30881\",\"type\":\"Stack\"},{\"attributes\":{\"data_source\":{\"id\":\"30897\",\"type\":\"ColumnDataSource\"},\"glyph\":{\"id\":\"30899\",\"type\":\"VBar\"},\"hover_glyph\":null,\"muted_glyph\":null,\"name\":\"no-geo\",\"nonselection_glyph\":{\"id\":\"30900\",\"type\":\"VBar\"},\"selection_glyph\":null,\"view\":{\"id\":\"30902\",\"type\":\"CDSView\"}},\"id\":\"30901\",\"type\":\"GlyphRenderer\"},{\"attributes\":{\"source\":{\"id\":\"30883\",\"type\":\"ColumnDataSource\"}},\"id\":\"30888\",\"type\":\"CDSView\"},{\"attributes\":{\"fields\":[\"geom\",\"no-geo\"]},\"id\":\"30880\",\"type\":\"Stack\"},{\"attributes\":{\"source\":{\"id\":\"30897\",\"type\":\"ColumnDataSource\"}},\"id\":\"30902\",\"type\":\"CDSView\"},{\"attributes\":{},\"id\":\"30890\",\"type\":\"BasicTickFormatter\"},{\"attributes\":{},\"id\":\"30910\",\"type\":\"UnionRenderers\"},{\"attributes\":{\"dimension\":1,\"plot\":{\"id\":\"30843\",\"subtype\":\"Figure\",\"type\":\"Plot\"},\"ticker\":{\"id\":\"30858\",\"type\":\"BasicTicker\"}},\"id\":\"30861\",\"type\":\"Grid\"},{\"attributes\":{\"formatter\":{\"id\":\"30890\",\"type\":\"BasicTickFormatter\"},\"minor_tick_line_color\":{\"value\":null},\"plot\":{\"id\":\"30843\",\"subtype\":\"Figure\",\"type\":\"Plot\"},\"ticker\":{\"id\":\"30858\",\"type\":\"BasicTicker\"}},\"id\":\"30857\",\"type\":\"LinearAxis\"},{\"attributes\":{},\"id\":\"30858\",\"type\":\"BasicTicker\"},{\"attributes\":{\"overlay\":{\"id\":\"30870\",\"type\":\"BoxAnnotation\"}},\"id\":\"30864\",\"type\":\"BoxZoomTool\"},{\"attributes\":{},\"id\":\"30892\",\"type\":\"CategoricalTickFormatter\"},{\"attributes\":{\"label\":{\"value\":\"no-geo\"},\"renderers\":[{\"id\":\"30901\",\"type\":\"GlyphRenderer\"}]},\"id\":\"30911\",\"type\":\"LegendItem\"},{\"attributes\":{\"callback\":null,\"data\":{\"bi\":[0,0,0,12,0],\"geom\":[0,0,304682,338600,0],\"no-geo\":[306206,335965,0,1,362522],\"years\":[\"2012\",\"2013\",\"2014\",\"2015\",\"2016\"]},\"selected\":{\"id\":\"30909\",\"type\":\"Selection\"},\"selection_policy\":{\"id\":\"30910\",\"type\":\"UnionRenderers\"}},\"id\":\"30883\",\"type\":\"ColumnDataSource\"},{\"attributes\":{\"callback\":null,\"data\":{\"bi\":[0,0,0,12,0],\"geom\":[0,0,304682,338600,0],\"no-geo\":[306206,335965,0,1,362522],\"years\":[\"2012\",\"2013\",\"2014\",\"2015\",\"2016\"]},\"selected\":{\"id\":\"31635\",\"type\":\"Selection\"},\"selection_policy\":{\"id\":\"31636\",\"type\":\"UnionRenderers\"}},\"id\":\"30912\",\"type\":\"ColumnDataSource\"},{\"attributes\":{},\"id\":\"30863\",\"type\":\"WheelZoomTool\"},{\"attributes\":{},\"id\":\"30849\",\"type\":\"CategoricalScale\"},{\"attributes\":{\"bottom\":{\"expr\":{\"id\":\"30881\",\"type\":\"Stack\"}},\"fill_alpha\":{\"value\":0.1},\"fill_color\":{\"value\":\"#1f77b4\"},\"line_alpha\":{\"value\":0.1},\"line_color\":{\"value\":\"#1f77b4\"},\"top\":{\"expr\":{\"id\":\"30882\",\"type\":\"Stack\"}},\"width\":{\"value\":0.9},\"x\":{\"field\":\"years\"}},\"id\":\"30915\",\"type\":\"VBar\"},{\"attributes\":{\"data_source\":{\"id\":\"30912\",\"type\":\"ColumnDataSource\"},\"glyph\":{\"id\":\"30914\",\"type\":\"VBar\"},\"hover_glyph\":null,\"muted_glyph\":null,\"name\":\"bi\",\"nonselection_glyph\":{\"id\":\"30915\",\"type\":\"VBar\"},\"selection_glyph\":null,\"view\":{\"id\":\"30917\",\"type\":\"CDSView\"}},\"id\":\"30916\",\"type\":\"GlyphRenderer\"},{\"attributes\":{},\"id\":\"30862\",\"type\":\"PanTool\"},{\"attributes\":{\"source\":{\"id\":\"30912\",\"type\":\"ColumnDataSource\"}},\"id\":\"30917\",\"type\":\"CDSView\"},{\"attributes\":{\"callback\":null,\"start\":0},\"id\":\"30847\",\"type\":\"DataRange1d\"},{\"attributes\":{\"fields\":[]},\"id\":\"30877\",\"type\":\"Stack\"},{\"attributes\":{},\"id\":\"30926\",\"type\":\"Selection\"},{\"attributes\":{},\"id\":\"30851\",\"type\":\"LinearScale\"},{\"attributes\":{\"fields\":[\"geom\"]},\"id\":\"30878\",\"type\":\"Stack\"},{\"attributes\":{},\"id\":\"30927\",\"type\":\"UnionRenderers\"},{\"attributes\":{},\"id\":\"30866\",\"type\":\"ResetTool\"},{\"attributes\":{\"label\":{\"value\":\"bi\"},\"renderers\":[{\"id\":\"30916\",\"type\":\"GlyphRenderer\"}]},\"id\":\"30928\",\"type\":\"LegendItem\"},{\"attributes\":{\"formatter\":{\"id\":\"30892\",\"type\":\"CategoricalTickFormatter\"},\"minor_tick_line_color\":{\"value\":null},\"plot\":{\"id\":\"30843\",\"subtype\":\"Figure\",\"type\":\"Plot\"},\"ticker\":{\"id\":\"30854\",\"type\":\"CategoricalTicker\"}},\"id\":\"30853\",\"type\":\"CategoricalAxis\"},{\"attributes\":{},\"id\":\"30865\",\"type\":\"SaveTool\"},{\"attributes\":{\"bottom\":{\"expr\":{\"id\":\"30879\",\"type\":\"Stack\"}},\"fill_color\":{\"value\":\"#e84d60\"},\"line_color\":{\"value\":\"#e84d60\"},\"top\":{\"expr\":{\"id\":\"30880\",\"type\":\"Stack\"}},\"width\":{\"value\":0.9},\"x\":{\"field\":\"years\"}},\"id\":\"30899\",\"type\":\"VBar\"},{\"attributes\":{},\"id\":\"30854\",\"type\":\"CategoricalTicker\"},{\"attributes\":{},\"id\":\"31636\",\"type\":\"UnionRenderers\"},{\"attributes\":{\"active_drag\":\"auto\",\"active_inspect\":\"auto\",\"active_multi\":null,\"active_scroll\":\"auto\",\"active_tap\":\"auto\",\"tools\":[{\"id\":\"30862\",\"type\":\"PanTool\"},{\"id\":\"30863\",\"type\":\"WheelZoomTool\"},{\"id\":\"30864\",\"type\":\"BoxZoomTool\"},{\"id\":\"30865\",\"type\":\"SaveTool\"},{\"id\":\"30866\",\"type\":\"ResetTool\"},{\"id\":\"30867\",\"type\":\"HelpTool\"}]},\"id\":\"30868\",\"type\":\"Toolbar\"},{\"attributes\":{\"grid_line_color\":{\"value\":null},\"plot\":{\"id\":\"30843\",\"subtype\":\"Figure\",\"type\":\"Plot\"},\"ticker\":{\"id\":\"30854\",\"type\":\"CategoricalTicker\"}},\"id\":\"30856\",\"type\":\"Grid\"},{\"attributes\":{},\"id\":\"30867\",\"type\":\"HelpTool\"},{\"attributes\":{\"bottom\":{\"expr\":{\"id\":\"30877\",\"type\":\"Stack\"}},\"fill_color\":{\"value\":\"#5CC9F5\"},\"line_color\":{\"value\":\"#5CC9F5\"},\"top\":{\"expr\":{\"id\":\"30878\",\"type\":\"Stack\"}},\"width\":{\"value\":0.9},\"x\":{\"field\":\"years\"}},\"id\":\"30885\",\"type\":\"VBar\"},{\"attributes\":{\"callback\":null,\"factors\":[\"2012\",\"2013\",\"2014\",\"2015\",\"2016\"],\"range_padding\":0.1},\"id\":\"30845\",\"type\":\"FactorRange\"},{\"attributes\":{\"fields\":[\"geom\"]},\"id\":\"30879\",\"type\":\"Stack\"},{\"attributes\":{\"items\":[{\"id\":\"30896\",\"type\":\"LegendItem\"},{\"id\":\"30911\",\"type\":\"LegendItem\"},{\"id\":\"30928\",\"type\":\"LegendItem\"}],\"location\":\"top_left\",\"orientation\":\"horizontal\",\"plot\":{\"id\":\"30843\",\"subtype\":\"Figure\",\"type\":\"Plot\"}},\"id\":\"30895\",\"type\":\"Legend\"},{\"attributes\":{\"bottom\":{\"expr\":{\"id\":\"30881\",\"type\":\"Stack\"}},\"fill_color\":{\"value\":\"#cccccc\"},\"line_color\":{\"value\":\"#cccccc\"},\"top\":{\"expr\":{\"id\":\"30882\",\"type\":\"Stack\"}},\"width\":{\"value\":0.9},\"x\":{\"field\":\"years\"}},\"id\":\"30914\",\"type\":\"VBar\"},{\"attributes\":{\"plot\":null,\"text\":\"CT\"},\"id\":\"30842\",\"type\":\"Title\"},{\"attributes\":{\"fields\":[\"geom\",\"no-geo\",\"bi\"]},\"id\":\"30882\",\"type\":\"Stack\"},{\"attributes\":{\"bottom_units\":\"screen\",\"fill_alpha\":{\"value\":0.5},\"fill_color\":{\"value\":\"lightgrey\"},\"left_units\":\"screen\",\"level\":\"overlay\",\"line_alpha\":{\"value\":1.0},\"line_color\":{\"value\":\"black\"},\"line_dash\":[4,4],\"line_width\":{\"value\":2},\"plot\":null,\"render_mode\":\"css\",\"right_units\":\"screen\",\"top_units\":\"screen\"},\"id\":\"30870\",\"type\":\"BoxAnnotation\"}],\"root_ids\":[\"30843\"]},\"title\":\"Bokeh Application\",\"version\":\"1.0.0\"}};\n",
       "  var render_items = [{\"docid\":\"93e9068f-ab18-479c-811b-b82a7f9698b9\",\"roots\":{\"30843\":\"2a709f07-2b7e-4290-a241-4771910fc15c\"}}];\n",
       "  root.Bokeh.embed.embed_items_notebook(docs_json, render_items);\n",
       "\n",
       "  }\n",
       "  if (root.Bokeh !== undefined) {\n",
       "    embed_document(root);\n",
       "  } else {\n",
       "    var attempts = 0;\n",
       "    var timer = setInterval(function(root) {\n",
       "      if (root.Bokeh !== undefined) {\n",
       "        embed_document(root);\n",
       "        clearInterval(timer);\n",
       "      }\n",
       "      attempts++;\n",
       "      if (attempts > 100) {\n",
       "        console.log(\"Bokeh: ERROR: Unable to run BokehJS code because BokehJS library is missing\");\n",
       "        clearInterval(timer);\n",
       "      }\n",
       "    }, 10, root)\n",
       "  }\n",
       "})(window);"
      ],
      "application/vnd.bokehjs_exec.v0+json": ""
     },
     "metadata": {
      "application/vnd.bokehjs_exec.v0+json": {
       "id": "30843"
      }
     },
     "output_type": "display_data"
    },
    {
     "data": {
      "text/html": [
       "\n",
       "\n",
       "\n",
       "\n",
       "\n",
       "\n",
       "  <div class=\"bk-root\" id=\"109d06d7-30fd-4d4d-abf4-55075e958ae4\"></div>\n"
      ]
     },
     "metadata": {},
     "output_type": "display_data"
    },
    {
     "data": {
      "application/javascript": [
       "(function(root) {\n",
       "  function embed_document(root) {\n",
       "    \n",
       "  var docs_json = {\"26b5fbc6-fc39-4a75-b742-d70a69f8cadd\":{\"roots\":{\"references\":[{\"attributes\":{\"below\":[{\"id\":\"31720\",\"type\":\"CategoricalAxis\"}],\"left\":[{\"id\":\"31724\",\"type\":\"LinearAxis\"}],\"outline_line_color\":{\"value\":null},\"plot_height\":250,\"renderers\":[{\"id\":\"31720\",\"type\":\"CategoricalAxis\"},{\"id\":\"31723\",\"type\":\"Grid\"},{\"id\":\"31724\",\"type\":\"LinearAxis\"},{\"id\":\"31728\",\"type\":\"Grid\"},{\"id\":\"31737\",\"type\":\"BoxAnnotation\"},{\"id\":\"31762\",\"type\":\"Legend\"},{\"id\":\"31754\",\"type\":\"GlyphRenderer\"},{\"id\":\"31768\",\"type\":\"GlyphRenderer\"},{\"id\":\"31783\",\"type\":\"GlyphRenderer\"}],\"title\":{\"id\":\"31709\",\"type\":\"Title\"},\"toolbar\":{\"id\":\"31735\",\"type\":\"Toolbar\"},\"toolbar_location\":null,\"x_range\":{\"id\":\"31712\",\"type\":\"FactorRange\"},\"x_scale\":{\"id\":\"31716\",\"type\":\"CategoricalScale\"},\"y_range\":{\"id\":\"31714\",\"type\":\"DataRange1d\"},\"y_scale\":{\"id\":\"31718\",\"type\":\"LinearScale\"}},\"id\":\"31710\",\"subtype\":\"Figure\",\"type\":\"Plot\"},{\"attributes\":{\"bottom\":{\"expr\":{\"id\":\"31746\",\"type\":\"Stack\"}},\"fill_color\":{\"value\":\"#e84d60\"},\"line_color\":{\"value\":\"#e84d60\"},\"top\":{\"expr\":{\"id\":\"31747\",\"type\":\"Stack\"}},\"width\":{\"value\":0.9},\"x\":{\"field\":\"years\"}},\"id\":\"31766\",\"type\":\"VBar\"},{\"attributes\":{},\"id\":\"31729\",\"type\":\"PanTool\"},{\"attributes\":{\"overlay\":{\"id\":\"31737\",\"type\":\"BoxAnnotation\"}},\"id\":\"31731\",\"type\":\"BoxZoomTool\"},{\"attributes\":{},\"id\":\"31716\",\"type\":\"CategoricalScale\"},{\"attributes\":{\"bottom\":{\"expr\":{\"id\":\"31746\",\"type\":\"Stack\"}},\"fill_alpha\":{\"value\":0.1},\"fill_color\":{\"value\":\"#1f77b4\"},\"line_alpha\":{\"value\":0.1},\"line_color\":{\"value\":\"#1f77b4\"},\"top\":{\"expr\":{\"id\":\"31747\",\"type\":\"Stack\"}},\"width\":{\"value\":0.9},\"x\":{\"field\":\"years\"}},\"id\":\"31767\",\"type\":\"VBar\"},{\"attributes\":{},\"id\":\"31732\",\"type\":\"SaveTool\"},{\"attributes\":{\"data_source\":{\"id\":\"31764\",\"type\":\"ColumnDataSource\"},\"glyph\":{\"id\":\"31766\",\"type\":\"VBar\"},\"hover_glyph\":null,\"muted_glyph\":null,\"name\":\"no-geo\",\"nonselection_glyph\":{\"id\":\"31767\",\"type\":\"VBar\"},\"selection_glyph\":null,\"view\":{\"id\":\"31769\",\"type\":\"CDSView\"}},\"id\":\"31768\",\"type\":\"GlyphRenderer\"},{\"attributes\":{},\"id\":\"31733\",\"type\":\"ResetTool\"},{\"attributes\":{\"callback\":null,\"start\":0},\"id\":\"31714\",\"type\":\"DataRange1d\"},{\"attributes\":{\"source\":{\"id\":\"31764\",\"type\":\"ColumnDataSource\"}},\"id\":\"31769\",\"type\":\"CDSView\"},{\"attributes\":{},\"id\":\"31734\",\"type\":\"HelpTool\"},{\"attributes\":{},\"id\":\"31718\",\"type\":\"LinearScale\"},{\"attributes\":{},\"id\":\"31777\",\"type\":\"UnionRenderers\"},{\"attributes\":{\"active_drag\":\"auto\",\"active_inspect\":\"auto\",\"active_multi\":null,\"active_scroll\":\"auto\",\"active_tap\":\"auto\",\"tools\":[{\"id\":\"31729\",\"type\":\"PanTool\"},{\"id\":\"31730\",\"type\":\"WheelZoomTool\"},{\"id\":\"31731\",\"type\":\"BoxZoomTool\"},{\"id\":\"31732\",\"type\":\"SaveTool\"},{\"id\":\"31733\",\"type\":\"ResetTool\"},{\"id\":\"31734\",\"type\":\"HelpTool\"}]},\"id\":\"31735\",\"type\":\"Toolbar\"},{\"attributes\":{},\"id\":\"31776\",\"type\":\"Selection\"},{\"attributes\":{\"callback\":null,\"data\":{\"bi\":[0,0,6,0,0],\"geom\":[44947,47245,50707,37555,0],\"no-geo\":[0,0,0,0,50275],\"years\":[\"2012\",\"2013\",\"2014\",\"2015\",\"2016\"]},\"selected\":{\"id\":\"31776\",\"type\":\"Selection\"},\"selection_policy\":{\"id\":\"31777\",\"type\":\"UnionRenderers\"}},\"id\":\"31750\",\"type\":\"ColumnDataSource\"},{\"attributes\":{\"label\":{\"value\":\"no-geo\"},\"renderers\":[{\"id\":\"31768\",\"type\":\"GlyphRenderer\"}]},\"id\":\"31778\",\"type\":\"LegendItem\"},{\"attributes\":{\"formatter\":{\"id\":\"31759\",\"type\":\"CategoricalTickFormatter\"},\"minor_tick_line_color\":{\"value\":null},\"plot\":{\"id\":\"31710\",\"subtype\":\"Figure\",\"type\":\"Plot\"},\"ticker\":{\"id\":\"31721\",\"type\":\"CategoricalTicker\"}},\"id\":\"31720\",\"type\":\"CategoricalAxis\"},{\"attributes\":{\"bottom_units\":\"screen\",\"fill_alpha\":{\"value\":0.5},\"fill_color\":{\"value\":\"lightgrey\"},\"left_units\":\"screen\",\"level\":\"overlay\",\"line_alpha\":{\"value\":1.0},\"line_color\":{\"value\":\"black\"},\"line_dash\":[4,4],\"line_width\":{\"value\":2},\"plot\":null,\"render_mode\":\"css\",\"right_units\":\"screen\",\"top_units\":\"screen\"},\"id\":\"31737\",\"type\":\"BoxAnnotation\"},{\"attributes\":{},\"id\":\"31721\",\"type\":\"CategoricalTicker\"},{\"attributes\":{\"callback\":null,\"data\":{\"bi\":[0,0,6,0,0],\"geom\":[44947,47245,50707,37555,0],\"no-geo\":[0,0,0,0,50275],\"years\":[\"2012\",\"2013\",\"2014\",\"2015\",\"2016\"]},\"selected\":{\"id\":\"32514\",\"type\":\"Selection\"},\"selection_policy\":{\"id\":\"32515\",\"type\":\"UnionRenderers\"}},\"id\":\"31779\",\"type\":\"ColumnDataSource\"},{\"attributes\":{\"grid_line_color\":{\"value\":null},\"plot\":{\"id\":\"31710\",\"subtype\":\"Figure\",\"type\":\"Plot\"},\"ticker\":{\"id\":\"31721\",\"type\":\"CategoricalTicker\"}},\"id\":\"31723\",\"type\":\"Grid\"},{\"attributes\":{\"bottom\":{\"expr\":{\"id\":\"31744\",\"type\":\"Stack\"}},\"fill_color\":{\"value\":\"#5CC9F5\"},\"line_color\":{\"value\":\"#5CC9F5\"},\"top\":{\"expr\":{\"id\":\"31745\",\"type\":\"Stack\"}},\"width\":{\"value\":0.9},\"x\":{\"field\":\"years\"}},\"id\":\"31752\",\"type\":\"VBar\"},{\"attributes\":{\"callback\":null,\"factors\":[\"2012\",\"2013\",\"2014\",\"2015\",\"2016\"],\"range_padding\":0.1},\"id\":\"31712\",\"type\":\"FactorRange\"},{\"attributes\":{\"bottom\":{\"expr\":{\"id\":\"31748\",\"type\":\"Stack\"}},\"fill_color\":{\"value\":\"#cccccc\"},\"line_color\":{\"value\":\"#cccccc\"},\"top\":{\"expr\":{\"id\":\"31749\",\"type\":\"Stack\"}},\"width\":{\"value\":0.9},\"x\":{\"field\":\"years\"}},\"id\":\"31781\",\"type\":\"VBar\"},{\"attributes\":{\"bottom\":{\"expr\":{\"id\":\"31744\",\"type\":\"Stack\"}},\"fill_alpha\":{\"value\":0.1},\"fill_color\":{\"value\":\"#1f77b4\"},\"line_alpha\":{\"value\":0.1},\"line_color\":{\"value\":\"#1f77b4\"},\"top\":{\"expr\":{\"id\":\"31745\",\"type\":\"Stack\"}},\"width\":{\"value\":0.9},\"x\":{\"field\":\"years\"}},\"id\":\"31753\",\"type\":\"VBar\"},{\"attributes\":{\"bottom\":{\"expr\":{\"id\":\"31748\",\"type\":\"Stack\"}},\"fill_alpha\":{\"value\":0.1},\"fill_color\":{\"value\":\"#1f77b4\"},\"line_alpha\":{\"value\":0.1},\"line_color\":{\"value\":\"#1f77b4\"},\"top\":{\"expr\":{\"id\":\"31749\",\"type\":\"Stack\"}},\"width\":{\"value\":0.9},\"x\":{\"field\":\"years\"}},\"id\":\"31782\",\"type\":\"VBar\"},{\"attributes\":{\"plot\":null,\"text\":\"DE\"},\"id\":\"31709\",\"type\":\"Title\"},{\"attributes\":{\"data_source\":{\"id\":\"31750\",\"type\":\"ColumnDataSource\"},\"glyph\":{\"id\":\"31752\",\"type\":\"VBar\"},\"hover_glyph\":null,\"muted_glyph\":null,\"name\":\"geom\",\"nonselection_glyph\":{\"id\":\"31753\",\"type\":\"VBar\"},\"selection_glyph\":null,\"view\":{\"id\":\"31755\",\"type\":\"CDSView\"}},\"id\":\"31754\",\"type\":\"GlyphRenderer\"},{\"attributes\":{\"data_source\":{\"id\":\"31779\",\"type\":\"ColumnDataSource\"},\"glyph\":{\"id\":\"31781\",\"type\":\"VBar\"},\"hover_glyph\":null,\"muted_glyph\":null,\"name\":\"bi\",\"nonselection_glyph\":{\"id\":\"31782\",\"type\":\"VBar\"},\"selection_glyph\":null,\"view\":{\"id\":\"31784\",\"type\":\"CDSView\"}},\"id\":\"31783\",\"type\":\"GlyphRenderer\"},{\"attributes\":{\"source\":{\"id\":\"31750\",\"type\":\"ColumnDataSource\"}},\"id\":\"31755\",\"type\":\"CDSView\"},{\"attributes\":{\"source\":{\"id\":\"31779\",\"type\":\"ColumnDataSource\"}},\"id\":\"31784\",\"type\":\"CDSView\"},{\"attributes\":{\"fields\":[\"geom\",\"no-geo\",\"bi\"]},\"id\":\"31749\",\"type\":\"Stack\"},{\"attributes\":{},\"id\":\"31757\",\"type\":\"BasicTickFormatter\"},{\"attributes\":{\"fields\":[\"geom\",\"no-geo\"]},\"id\":\"31747\",\"type\":\"Stack\"},{\"attributes\":{},\"id\":\"31793\",\"type\":\"Selection\"},{\"attributes\":{},\"id\":\"31759\",\"type\":\"CategoricalTickFormatter\"},{\"attributes\":{},\"id\":\"31794\",\"type\":\"UnionRenderers\"},{\"attributes\":{\"fields\":[\"geom\",\"no-geo\"]},\"id\":\"31748\",\"type\":\"Stack\"},{\"attributes\":{\"items\":[{\"id\":\"31763\",\"type\":\"LegendItem\"},{\"id\":\"31778\",\"type\":\"LegendItem\"},{\"id\":\"31795\",\"type\":\"LegendItem\"}],\"location\":\"top_left\",\"orientation\":\"horizontal\",\"plot\":{\"id\":\"31710\",\"subtype\":\"Figure\",\"type\":\"Plot\"}},\"id\":\"31762\",\"type\":\"Legend\"},{\"attributes\":{\"label\":{\"value\":\"bi\"},\"renderers\":[{\"id\":\"31783\",\"type\":\"GlyphRenderer\"}]},\"id\":\"31795\",\"type\":\"LegendItem\"},{\"attributes\":{\"label\":{\"value\":\"geom\"},\"renderers\":[{\"id\":\"31754\",\"type\":\"GlyphRenderer\"}]},\"id\":\"31763\",\"type\":\"LegendItem\"},{\"attributes\":{\"fields\":[\"geom\"]},\"id\":\"31746\",\"type\":\"Stack\"},{\"attributes\":{},\"id\":\"32514\",\"type\":\"Selection\"},{\"attributes\":{\"fields\":[]},\"id\":\"31744\",\"type\":\"Stack\"},{\"attributes\":{\"dimension\":1,\"plot\":{\"id\":\"31710\",\"subtype\":\"Figure\",\"type\":\"Plot\"},\"ticker\":{\"id\":\"31725\",\"type\":\"BasicTicker\"}},\"id\":\"31728\",\"type\":\"Grid\"},{\"attributes\":{\"callback\":null,\"data\":{\"bi\":[0,0,6,0,0],\"geom\":[44947,47245,50707,37555,0],\"no-geo\":[0,0,0,0,50275],\"years\":[\"2012\",\"2013\",\"2014\",\"2015\",\"2016\"]},\"selected\":{\"id\":\"31793\",\"type\":\"Selection\"},\"selection_policy\":{\"id\":\"31794\",\"type\":\"UnionRenderers\"}},\"id\":\"31764\",\"type\":\"ColumnDataSource\"},{\"attributes\":{},\"id\":\"32515\",\"type\":\"UnionRenderers\"},{\"attributes\":{},\"id\":\"31730\",\"type\":\"WheelZoomTool\"},{\"attributes\":{\"formatter\":{\"id\":\"31757\",\"type\":\"BasicTickFormatter\"},\"minor_tick_line_color\":{\"value\":null},\"plot\":{\"id\":\"31710\",\"subtype\":\"Figure\",\"type\":\"Plot\"},\"ticker\":{\"id\":\"31725\",\"type\":\"BasicTicker\"}},\"id\":\"31724\",\"type\":\"LinearAxis\"},{\"attributes\":{\"fields\":[\"geom\"]},\"id\":\"31745\",\"type\":\"Stack\"},{\"attributes\":{},\"id\":\"31725\",\"type\":\"BasicTicker\"}],\"root_ids\":[\"31710\"]},\"title\":\"Bokeh Application\",\"version\":\"1.0.0\"}};\n",
       "  var render_items = [{\"docid\":\"26b5fbc6-fc39-4a75-b742-d70a69f8cadd\",\"roots\":{\"31710\":\"109d06d7-30fd-4d4d-abf4-55075e958ae4\"}}];\n",
       "  root.Bokeh.embed.embed_items_notebook(docs_json, render_items);\n",
       "\n",
       "  }\n",
       "  if (root.Bokeh !== undefined) {\n",
       "    embed_document(root);\n",
       "  } else {\n",
       "    var attempts = 0;\n",
       "    var timer = setInterval(function(root) {\n",
       "      if (root.Bokeh !== undefined) {\n",
       "        embed_document(root);\n",
       "        clearInterval(timer);\n",
       "      }\n",
       "      attempts++;\n",
       "      if (attempts > 100) {\n",
       "        console.log(\"Bokeh: ERROR: Unable to run BokehJS code because BokehJS library is missing\");\n",
       "        clearInterval(timer);\n",
       "      }\n",
       "    }, 10, root)\n",
       "  }\n",
       "})(window);"
      ],
      "application/vnd.bokehjs_exec.v0+json": ""
     },
     "metadata": {
      "application/vnd.bokehjs_exec.v0+json": {
       "id": "31710"
      }
     },
     "output_type": "display_data"
    },
    {
     "data": {
      "text/html": [
       "\n",
       "\n",
       "\n",
       "\n",
       "\n",
       "\n",
       "  <div class=\"bk-root\" id=\"924628da-d14c-45a9-bdc6-5296f794711d\"></div>\n"
      ]
     },
     "metadata": {},
     "output_type": "display_data"
    },
    {
     "data": {
      "application/javascript": [
       "(function(root) {\n",
       "  function embed_document(root) {\n",
       "    \n",
       "  var docs_json = {\"f4223ec4-7ee9-40e3-8773-9d6ed48dd53f\":{\"roots\":{\"references\":[{\"attributes\":{\"below\":[{\"id\":\"32599\",\"type\":\"CategoricalAxis\"}],\"left\":[{\"id\":\"32603\",\"type\":\"LinearAxis\"}],\"outline_line_color\":{\"value\":null},\"plot_height\":250,\"renderers\":[{\"id\":\"32599\",\"type\":\"CategoricalAxis\"},{\"id\":\"32602\",\"type\":\"Grid\"},{\"id\":\"32603\",\"type\":\"LinearAxis\"},{\"id\":\"32607\",\"type\":\"Grid\"},{\"id\":\"32616\",\"type\":\"BoxAnnotation\"},{\"id\":\"32641\",\"type\":\"Legend\"},{\"id\":\"32633\",\"type\":\"GlyphRenderer\"},{\"id\":\"32647\",\"type\":\"GlyphRenderer\"},{\"id\":\"32662\",\"type\":\"GlyphRenderer\"}],\"title\":{\"id\":\"32588\",\"type\":\"Title\"},\"toolbar\":{\"id\":\"32614\",\"type\":\"Toolbar\"},\"toolbar_location\":null,\"x_range\":{\"id\":\"32591\",\"type\":\"FactorRange\"},\"x_scale\":{\"id\":\"32595\",\"type\":\"CategoricalScale\"},\"y_range\":{\"id\":\"32593\",\"type\":\"DataRange1d\"},\"y_scale\":{\"id\":\"32597\",\"type\":\"LinearScale\"}},\"id\":\"32589\",\"subtype\":\"Figure\",\"type\":\"Plot\"},{\"attributes\":{},\"id\":\"33405\",\"type\":\"Selection\"},{\"attributes\":{\"items\":[{\"id\":\"32642\",\"type\":\"LegendItem\"},{\"id\":\"32657\",\"type\":\"LegendItem\"},{\"id\":\"32674\",\"type\":\"LegendItem\"}],\"location\":\"top_left\",\"orientation\":\"horizontal\",\"plot\":{\"id\":\"32589\",\"subtype\":\"Figure\",\"type\":\"Plot\"}},\"id\":\"32641\",\"type\":\"Legend\"},{\"attributes\":{},\"id\":\"33406\",\"type\":\"UnionRenderers\"},{\"attributes\":{},\"id\":\"32608\",\"type\":\"PanTool\"},{\"attributes\":{\"data_source\":{\"id\":\"32629\",\"type\":\"ColumnDataSource\"},\"glyph\":{\"id\":\"32631\",\"type\":\"VBar\"},\"hover_glyph\":null,\"muted_glyph\":null,\"name\":\"geom\",\"nonselection_glyph\":{\"id\":\"32632\",\"type\":\"VBar\"},\"selection_glyph\":null,\"view\":{\"id\":\"32634\",\"type\":\"CDSView\"}},\"id\":\"32633\",\"type\":\"GlyphRenderer\"},{\"attributes\":{\"label\":{\"value\":\"geom\"},\"renderers\":[{\"id\":\"32633\",\"type\":\"GlyphRenderer\"}]},\"id\":\"32642\",\"type\":\"LegendItem\"},{\"attributes\":{},\"id\":\"32612\",\"type\":\"ResetTool\"},{\"attributes\":{\"callback\":null,\"data\":{\"bi\":[0,0,7186,5134,0],\"geom\":[1318534,1291834,2742623,2757142,0],\"no-geo\":[1291232,1290350,12,12,2681566],\"years\":[\"2012\",\"2013\",\"2014\",\"2015\",\"2016\"]},\"selected\":{\"id\":\"32672\",\"type\":\"Selection\"},\"selection_policy\":{\"id\":\"32673\",\"type\":\"UnionRenderers\"}},\"id\":\"32643\",\"type\":\"ColumnDataSource\"},{\"attributes\":{\"fields\":[\"geom\"]},\"id\":\"32625\",\"type\":\"Stack\"},{\"attributes\":{\"active_drag\":\"auto\",\"active_inspect\":\"auto\",\"active_multi\":null,\"active_scroll\":\"auto\",\"active_tap\":\"auto\",\"tools\":[{\"id\":\"32608\",\"type\":\"PanTool\"},{\"id\":\"32609\",\"type\":\"WheelZoomTool\"},{\"id\":\"32610\",\"type\":\"BoxZoomTool\"},{\"id\":\"32611\",\"type\":\"SaveTool\"},{\"id\":\"32612\",\"type\":\"ResetTool\"},{\"id\":\"32613\",\"type\":\"HelpTool\"}]},\"id\":\"32614\",\"type\":\"Toolbar\"},{\"attributes\":{\"data_source\":{\"id\":\"32658\",\"type\":\"ColumnDataSource\"},\"glyph\":{\"id\":\"32660\",\"type\":\"VBar\"},\"hover_glyph\":null,\"muted_glyph\":null,\"name\":\"bi\",\"nonselection_glyph\":{\"id\":\"32661\",\"type\":\"VBar\"},\"selection_glyph\":null,\"view\":{\"id\":\"32663\",\"type\":\"CDSView\"}},\"id\":\"32662\",\"type\":\"GlyphRenderer\"},{\"attributes\":{\"fields\":[]},\"id\":\"32623\",\"type\":\"Stack\"},{\"attributes\":{},\"id\":\"32613\",\"type\":\"HelpTool\"},{\"attributes\":{\"bottom\":{\"expr\":{\"id\":\"32625\",\"type\":\"Stack\"}},\"fill_color\":{\"value\":\"#e84d60\"},\"line_color\":{\"value\":\"#e84d60\"},\"top\":{\"expr\":{\"id\":\"32626\",\"type\":\"Stack\"}},\"width\":{\"value\":0.9},\"x\":{\"field\":\"years\"}},\"id\":\"32645\",\"type\":\"VBar\"},{\"attributes\":{\"bottom\":{\"expr\":{\"id\":\"32625\",\"type\":\"Stack\"}},\"fill_alpha\":{\"value\":0.1},\"fill_color\":{\"value\":\"#1f77b4\"},\"line_alpha\":{\"value\":0.1},\"line_color\":{\"value\":\"#1f77b4\"},\"top\":{\"expr\":{\"id\":\"32626\",\"type\":\"Stack\"}},\"width\":{\"value\":0.9},\"x\":{\"field\":\"years\"}},\"id\":\"32646\",\"type\":\"VBar\"},{\"attributes\":{},\"id\":\"32611\",\"type\":\"SaveTool\"},{\"attributes\":{},\"id\":\"32600\",\"type\":\"CategoricalTicker\"},{\"attributes\":{\"grid_line_color\":{\"value\":null},\"plot\":{\"id\":\"32589\",\"subtype\":\"Figure\",\"type\":\"Plot\"},\"ticker\":{\"id\":\"32600\",\"type\":\"CategoricalTicker\"}},\"id\":\"32602\",\"type\":\"Grid\"},{\"attributes\":{\"data_source\":{\"id\":\"32643\",\"type\":\"ColumnDataSource\"},\"glyph\":{\"id\":\"32645\",\"type\":\"VBar\"},\"hover_glyph\":null,\"muted_glyph\":null,\"name\":\"no-geo\",\"nonselection_glyph\":{\"id\":\"32646\",\"type\":\"VBar\"},\"selection_glyph\":null,\"view\":{\"id\":\"32648\",\"type\":\"CDSView\"}},\"id\":\"32647\",\"type\":\"GlyphRenderer\"},{\"attributes\":{\"overlay\":{\"id\":\"32616\",\"type\":\"BoxAnnotation\"}},\"id\":\"32610\",\"type\":\"BoxZoomTool\"},{\"attributes\":{\"formatter\":{\"id\":\"32636\",\"type\":\"BasicTickFormatter\"},\"minor_tick_line_color\":{\"value\":null},\"plot\":{\"id\":\"32589\",\"subtype\":\"Figure\",\"type\":\"Plot\"},\"ticker\":{\"id\":\"32604\",\"type\":\"BasicTicker\"}},\"id\":\"32603\",\"type\":\"LinearAxis\"},{\"attributes\":{\"source\":{\"id\":\"32643\",\"type\":\"ColumnDataSource\"}},\"id\":\"32648\",\"type\":\"CDSView\"},{\"attributes\":{},\"id\":\"32609\",\"type\":\"WheelZoomTool\"},{\"attributes\":{},\"id\":\"32638\",\"type\":\"CategoricalTickFormatter\"},{\"attributes\":{},\"id\":\"32655\",\"type\":\"Selection\"},{\"attributes\":{},\"id\":\"32604\",\"type\":\"BasicTicker\"},{\"attributes\":{\"bottom_units\":\"screen\",\"fill_alpha\":{\"value\":0.5},\"fill_color\":{\"value\":\"lightgrey\"},\"left_units\":\"screen\",\"level\":\"overlay\",\"line_alpha\":{\"value\":1.0},\"line_color\":{\"value\":\"black\"},\"line_dash\":[4,4],\"line_width\":{\"value\":2},\"plot\":null,\"render_mode\":\"css\",\"right_units\":\"screen\",\"top_units\":\"screen\"},\"id\":\"32616\",\"type\":\"BoxAnnotation\"},{\"attributes\":{\"dimension\":1,\"plot\":{\"id\":\"32589\",\"subtype\":\"Figure\",\"type\":\"Plot\"},\"ticker\":{\"id\":\"32604\",\"type\":\"BasicTicker\"}},\"id\":\"32607\",\"type\":\"Grid\"},{\"attributes\":{},\"id\":\"32656\",\"type\":\"UnionRenderers\"},{\"attributes\":{\"fields\":[\"geom\",\"no-geo\"]},\"id\":\"32627\",\"type\":\"Stack\"},{\"attributes\":{\"label\":{\"value\":\"no-geo\"},\"renderers\":[{\"id\":\"32647\",\"type\":\"GlyphRenderer\"}]},\"id\":\"32657\",\"type\":\"LegendItem\"},{\"attributes\":{\"fields\":[\"geom\"]},\"id\":\"32624\",\"type\":\"Stack\"},{\"attributes\":{\"fields\":[\"geom\",\"no-geo\"]},\"id\":\"32626\",\"type\":\"Stack\"},{\"attributes\":{\"fields\":[\"geom\",\"no-geo\",\"bi\"]},\"id\":\"32628\",\"type\":\"Stack\"},{\"attributes\":{\"formatter\":{\"id\":\"32638\",\"type\":\"CategoricalTickFormatter\"},\"minor_tick_line_color\":{\"value\":null},\"plot\":{\"id\":\"32589\",\"subtype\":\"Figure\",\"type\":\"Plot\"},\"ticker\":{\"id\":\"32600\",\"type\":\"CategoricalTicker\"}},\"id\":\"32599\",\"type\":\"CategoricalAxis\"},{\"attributes\":{\"callback\":null,\"data\":{\"bi\":[0,0,7186,5134,0],\"geom\":[1318534,1291834,2742623,2757142,0],\"no-geo\":[1291232,1290350,12,12,2681566],\"years\":[\"2012\",\"2013\",\"2014\",\"2015\",\"2016\"]},\"selected\":{\"id\":\"33405\",\"type\":\"Selection\"},\"selection_policy\":{\"id\":\"33406\",\"type\":\"UnionRenderers\"}},\"id\":\"32658\",\"type\":\"ColumnDataSource\"},{\"attributes\":{\"bottom\":{\"expr\":{\"id\":\"32623\",\"type\":\"Stack\"}},\"fill_alpha\":{\"value\":0.1},\"fill_color\":{\"value\":\"#1f77b4\"},\"line_alpha\":{\"value\":0.1},\"line_color\":{\"value\":\"#1f77b4\"},\"top\":{\"expr\":{\"id\":\"32624\",\"type\":\"Stack\"}},\"width\":{\"value\":0.9},\"x\":{\"field\":\"years\"}},\"id\":\"32632\",\"type\":\"VBar\"},{\"attributes\":{},\"id\":\"32597\",\"type\":\"LinearScale\"},{\"attributes\":{\"source\":{\"id\":\"32629\",\"type\":\"ColumnDataSource\"}},\"id\":\"32634\",\"type\":\"CDSView\"},{\"attributes\":{\"bottom\":{\"expr\":{\"id\":\"32627\",\"type\":\"Stack\"}},\"fill_alpha\":{\"value\":0.1},\"fill_color\":{\"value\":\"#1f77b4\"},\"line_alpha\":{\"value\":0.1},\"line_color\":{\"value\":\"#1f77b4\"},\"top\":{\"expr\":{\"id\":\"32628\",\"type\":\"Stack\"}},\"width\":{\"value\":0.9},\"x\":{\"field\":\"years\"}},\"id\":\"32661\",\"type\":\"VBar\"},{\"attributes\":{\"bottom\":{\"expr\":{\"id\":\"32627\",\"type\":\"Stack\"}},\"fill_color\":{\"value\":\"#cccccc\"},\"line_color\":{\"value\":\"#cccccc\"},\"top\":{\"expr\":{\"id\":\"32628\",\"type\":\"Stack\"}},\"width\":{\"value\":0.9},\"x\":{\"field\":\"years\"}},\"id\":\"32660\",\"type\":\"VBar\"},{\"attributes\":{},\"id\":\"32636\",\"type\":\"BasicTickFormatter\"},{\"attributes\":{},\"id\":\"32595\",\"type\":\"CategoricalScale\"},{\"attributes\":{\"source\":{\"id\":\"32658\",\"type\":\"ColumnDataSource\"}},\"id\":\"32663\",\"type\":\"CDSView\"},{\"attributes\":{\"callback\":null,\"start\":0},\"id\":\"32593\",\"type\":\"DataRange1d\"},{\"attributes\":{\"label\":{\"value\":\"bi\"},\"renderers\":[{\"id\":\"32662\",\"type\":\"GlyphRenderer\"}]},\"id\":\"32674\",\"type\":\"LegendItem\"},{\"attributes\":{\"bottom\":{\"expr\":{\"id\":\"32623\",\"type\":\"Stack\"}},\"fill_color\":{\"value\":\"#5CC9F5\"},\"line_color\":{\"value\":\"#5CC9F5\"},\"top\":{\"expr\":{\"id\":\"32624\",\"type\":\"Stack\"}},\"width\":{\"value\":0.9},\"x\":{\"field\":\"years\"}},\"id\":\"32631\",\"type\":\"VBar\"},{\"attributes\":{},\"id\":\"32672\",\"type\":\"Selection\"},{\"attributes\":{\"callback\":null,\"factors\":[\"2012\",\"2013\",\"2014\",\"2015\",\"2016\"],\"range_padding\":0.1},\"id\":\"32591\",\"type\":\"FactorRange\"},{\"attributes\":{},\"id\":\"32673\",\"type\":\"UnionRenderers\"},{\"attributes\":{\"callback\":null,\"data\":{\"bi\":[0,0,7186,5134,0],\"geom\":[1318534,1291834,2742623,2757142,0],\"no-geo\":[1291232,1290350,12,12,2681566],\"years\":[\"2012\",\"2013\",\"2014\",\"2015\",\"2016\"]},\"selected\":{\"id\":\"32655\",\"type\":\"Selection\"},\"selection_policy\":{\"id\":\"32656\",\"type\":\"UnionRenderers\"}},\"id\":\"32629\",\"type\":\"ColumnDataSource\"},{\"attributes\":{\"plot\":null,\"text\":\"FL\"},\"id\":\"32588\",\"type\":\"Title\"}],\"root_ids\":[\"32589\"]},\"title\":\"Bokeh Application\",\"version\":\"1.0.0\"}};\n",
       "  var render_items = [{\"docid\":\"f4223ec4-7ee9-40e3-8773-9d6ed48dd53f\",\"roots\":{\"32589\":\"924628da-d14c-45a9-bdc6-5296f794711d\"}}];\n",
       "  root.Bokeh.embed.embed_items_notebook(docs_json, render_items);\n",
       "\n",
       "  }\n",
       "  if (root.Bokeh !== undefined) {\n",
       "    embed_document(root);\n",
       "  } else {\n",
       "    var attempts = 0;\n",
       "    var timer = setInterval(function(root) {\n",
       "      if (root.Bokeh !== undefined) {\n",
       "        embed_document(root);\n",
       "        clearInterval(timer);\n",
       "      }\n",
       "      attempts++;\n",
       "      if (attempts > 100) {\n",
       "        console.log(\"Bokeh: ERROR: Unable to run BokehJS code because BokehJS library is missing\");\n",
       "        clearInterval(timer);\n",
       "      }\n",
       "    }, 10, root)\n",
       "  }\n",
       "})(window);"
      ],
      "application/vnd.bokehjs_exec.v0+json": ""
     },
     "metadata": {
      "application/vnd.bokehjs_exec.v0+json": {
       "id": "32589"
      }
     },
     "output_type": "display_data"
    },
    {
     "data": {
      "text/html": [
       "\n",
       "\n",
       "\n",
       "\n",
       "\n",
       "\n",
       "  <div class=\"bk-root\" id=\"7afdcfb5-10b0-4d3e-a580-832b270e1035\"></div>\n"
      ]
     },
     "metadata": {},
     "output_type": "display_data"
    },
    {
     "data": {
      "application/javascript": [
       "(function(root) {\n",
       "  function embed_document(root) {\n",
       "    \n",
       "  var docs_json = {\"e90ff94e-225f-4594-8319-bc7feeaf4f9e\":{\"roots\":{\"references\":[{\"attributes\":{\"below\":[{\"id\":\"33490\",\"type\":\"CategoricalAxis\"}],\"left\":[{\"id\":\"33494\",\"type\":\"LinearAxis\"}],\"outline_line_color\":{\"value\":null},\"plot_height\":250,\"renderers\":[{\"id\":\"33490\",\"type\":\"CategoricalAxis\"},{\"id\":\"33493\",\"type\":\"Grid\"},{\"id\":\"33494\",\"type\":\"LinearAxis\"},{\"id\":\"33498\",\"type\":\"Grid\"},{\"id\":\"33507\",\"type\":\"BoxAnnotation\"},{\"id\":\"33532\",\"type\":\"Legend\"},{\"id\":\"33524\",\"type\":\"GlyphRenderer\"},{\"id\":\"33538\",\"type\":\"GlyphRenderer\"},{\"id\":\"33553\",\"type\":\"GlyphRenderer\"}],\"title\":{\"id\":\"33479\",\"type\":\"Title\"},\"toolbar\":{\"id\":\"33505\",\"type\":\"Toolbar\"},\"toolbar_location\":null,\"x_range\":{\"id\":\"33482\",\"type\":\"FactorRange\"},\"x_scale\":{\"id\":\"33486\",\"type\":\"CategoricalScale\"},\"y_range\":{\"id\":\"33484\",\"type\":\"DataRange1d\"},\"y_scale\":{\"id\":\"33488\",\"type\":\"LinearScale\"}},\"id\":\"33480\",\"subtype\":\"Figure\",\"type\":\"Plot\"},{\"attributes\":{\"formatter\":{\"id\":\"33527\",\"type\":\"BasicTickFormatter\"},\"minor_tick_line_color\":{\"value\":null},\"plot\":{\"id\":\"33480\",\"subtype\":\"Figure\",\"type\":\"Plot\"},\"ticker\":{\"id\":\"33495\",\"type\":\"BasicTicker\"}},\"id\":\"33494\",\"type\":\"LinearAxis\"},{\"attributes\":{\"data_source\":{\"id\":\"33549\",\"type\":\"ColumnDataSource\"},\"glyph\":{\"id\":\"33551\",\"type\":\"VBar\"},\"hover_glyph\":null,\"muted_glyph\":null,\"name\":\"bi\",\"nonselection_glyph\":{\"id\":\"33552\",\"type\":\"VBar\"},\"selection_glyph\":null,\"view\":{\"id\":\"33554\",\"type\":\"CDSView\"}},\"id\":\"33553\",\"type\":\"GlyphRenderer\"},{\"attributes\":{\"bottom\":{\"expr\":{\"id\":\"33514\",\"type\":\"Stack\"}},\"fill_color\":{\"value\":\"#5CC9F5\"},\"line_color\":{\"value\":\"#5CC9F5\"},\"top\":{\"expr\":{\"id\":\"33515\",\"type\":\"Stack\"}},\"width\":{\"value\":0.9},\"x\":{\"field\":\"years\"}},\"id\":\"33522\",\"type\":\"VBar\"},{\"attributes\":{},\"id\":\"33495\",\"type\":\"BasicTicker\"},{\"attributes\":{\"source\":{\"id\":\"33549\",\"type\":\"ColumnDataSource\"}},\"id\":\"33554\",\"type\":\"CDSView\"},{\"attributes\":{\"bottom\":{\"expr\":{\"id\":\"33514\",\"type\":\"Stack\"}},\"fill_alpha\":{\"value\":0.1},\"fill_color\":{\"value\":\"#1f77b4\"},\"line_alpha\":{\"value\":0.1},\"line_color\":{\"value\":\"#1f77b4\"},\"top\":{\"expr\":{\"id\":\"33515\",\"type\":\"Stack\"}},\"width\":{\"value\":0.9},\"x\":{\"field\":\"years\"}},\"id\":\"33523\",\"type\":\"VBar\"},{\"attributes\":{\"dimension\":1,\"plot\":{\"id\":\"33480\",\"subtype\":\"Figure\",\"type\":\"Plot\"},\"ticker\":{\"id\":\"33495\",\"type\":\"BasicTicker\"}},\"id\":\"33498\",\"type\":\"Grid\"},{\"attributes\":{\"label\":{\"value\":\"geom\"},\"renderers\":[{\"id\":\"33524\",\"type\":\"GlyphRenderer\"}]},\"id\":\"33533\",\"type\":\"LegendItem\"},{\"attributes\":{},\"id\":\"33563\",\"type\":\"Selection\"},{\"attributes\":{\"data_source\":{\"id\":\"33520\",\"type\":\"ColumnDataSource\"},\"glyph\":{\"id\":\"33522\",\"type\":\"VBar\"},\"hover_glyph\":null,\"muted_glyph\":null,\"name\":\"geom\",\"nonselection_glyph\":{\"id\":\"33523\",\"type\":\"VBar\"},\"selection_glyph\":null,\"view\":{\"id\":\"33525\",\"type\":\"CDSView\"}},\"id\":\"33524\",\"type\":\"GlyphRenderer\"},{\"attributes\":{\"fields\":[\"geom\"]},\"id\":\"33516\",\"type\":\"Stack\"},{\"attributes\":{},\"id\":\"33564\",\"type\":\"UnionRenderers\"},{\"attributes\":{\"source\":{\"id\":\"33520\",\"type\":\"ColumnDataSource\"}},\"id\":\"33525\",\"type\":\"CDSView\"},{\"attributes\":{\"fields\":[\"geom\"]},\"id\":\"33515\",\"type\":\"Stack\"},{\"attributes\":{},\"id\":\"33546\",\"type\":\"Selection\"},{\"attributes\":{\"label\":{\"value\":\"bi\"},\"renderers\":[{\"id\":\"33553\",\"type\":\"GlyphRenderer\"}]},\"id\":\"33565\",\"type\":\"LegendItem\"},{\"attributes\":{\"fields\":[\"geom\",\"no-geo\"]},\"id\":\"33517\",\"type\":\"Stack\"},{\"attributes\":{},\"id\":\"33527\",\"type\":\"BasicTickFormatter\"},{\"attributes\":{},\"id\":\"33499\",\"type\":\"PanTool\"},{\"attributes\":{\"formatter\":{\"id\":\"33529\",\"type\":\"CategoricalTickFormatter\"},\"minor_tick_line_color\":{\"value\":null},\"plot\":{\"id\":\"33480\",\"subtype\":\"Figure\",\"type\":\"Plot\"},\"ticker\":{\"id\":\"33491\",\"type\":\"CategoricalTicker\"}},\"id\":\"33490\",\"type\":\"CategoricalAxis\"},{\"attributes\":{},\"id\":\"34308\",\"type\":\"Selection\"},{\"attributes\":{},\"id\":\"33529\",\"type\":\"CategoricalTickFormatter\"},{\"attributes\":{},\"id\":\"33491\",\"type\":\"CategoricalTicker\"},{\"attributes\":{},\"id\":\"33500\",\"type\":\"WheelZoomTool\"},{\"attributes\":{\"items\":[{\"id\":\"33533\",\"type\":\"LegendItem\"},{\"id\":\"33548\",\"type\":\"LegendItem\"},{\"id\":\"33565\",\"type\":\"LegendItem\"}],\"location\":\"top_left\",\"orientation\":\"horizontal\",\"plot\":{\"id\":\"33480\",\"subtype\":\"Figure\",\"type\":\"Plot\"}},\"id\":\"33532\",\"type\":\"Legend\"},{\"attributes\":{},\"id\":\"34309\",\"type\":\"UnionRenderers\"},{\"attributes\":{\"overlay\":{\"id\":\"33507\",\"type\":\"BoxAnnotation\"}},\"id\":\"33501\",\"type\":\"BoxZoomTool\"},{\"attributes\":{\"bottom\":{\"expr\":{\"id\":\"33516\",\"type\":\"Stack\"}},\"fill_color\":{\"value\":\"#e84d60\"},\"line_color\":{\"value\":\"#e84d60\"},\"top\":{\"expr\":{\"id\":\"33517\",\"type\":\"Stack\"}},\"width\":{\"value\":0.9},\"x\":{\"field\":\"years\"}},\"id\":\"33536\",\"type\":\"VBar\"},{\"attributes\":{},\"id\":\"33502\",\"type\":\"SaveTool\"},{\"attributes\":{\"bottom\":{\"expr\":{\"id\":\"33516\",\"type\":\"Stack\"}},\"fill_alpha\":{\"value\":0.1},\"fill_color\":{\"value\":\"#1f77b4\"},\"line_alpha\":{\"value\":0.1},\"line_color\":{\"value\":\"#1f77b4\"},\"top\":{\"expr\":{\"id\":\"33517\",\"type\":\"Stack\"}},\"width\":{\"value\":0.9},\"x\":{\"field\":\"years\"}},\"id\":\"33537\",\"type\":\"VBar\"},{\"attributes\":{\"plot\":null,\"text\":\"GA\"},\"id\":\"33479\",\"type\":\"Title\"},{\"attributes\":{},\"id\":\"33503\",\"type\":\"ResetTool\"},{\"attributes\":{\"data_source\":{\"id\":\"33534\",\"type\":\"ColumnDataSource\"},\"glyph\":{\"id\":\"33536\",\"type\":\"VBar\"},\"hover_glyph\":null,\"muted_glyph\":null,\"name\":\"no-geo\",\"nonselection_glyph\":{\"id\":\"33537\",\"type\":\"VBar\"},\"selection_glyph\":null,\"view\":{\"id\":\"33539\",\"type\":\"CDSView\"}},\"id\":\"33538\",\"type\":\"GlyphRenderer\"},{\"attributes\":{},\"id\":\"33504\",\"type\":\"HelpTool\"},{\"attributes\":{\"callback\":null,\"factors\":[\"2012\",\"2013\",\"2014\",\"2015\",\"2016\"],\"range_padding\":0.1},\"id\":\"33482\",\"type\":\"FactorRange\"},{\"attributes\":{\"source\":{\"id\":\"33534\",\"type\":\"ColumnDataSource\"}},\"id\":\"33539\",\"type\":\"CDSView\"},{\"attributes\":{\"active_drag\":\"auto\",\"active_inspect\":\"auto\",\"active_multi\":null,\"active_scroll\":\"auto\",\"active_tap\":\"auto\",\"tools\":[{\"id\":\"33499\",\"type\":\"PanTool\"},{\"id\":\"33500\",\"type\":\"WheelZoomTool\"},{\"id\":\"33501\",\"type\":\"BoxZoomTool\"},{\"id\":\"33502\",\"type\":\"SaveTool\"},{\"id\":\"33503\",\"type\":\"ResetTool\"},{\"id\":\"33504\",\"type\":\"HelpTool\"}]},\"id\":\"33505\",\"type\":\"Toolbar\"},{\"attributes\":{},\"id\":\"33547\",\"type\":\"UnionRenderers\"},{\"attributes\":{\"callback\":null,\"start\":0},\"id\":\"33484\",\"type\":\"DataRange1d\"},{\"attributes\":{\"bottom_units\":\"screen\",\"fill_alpha\":{\"value\":0.5},\"fill_color\":{\"value\":\"lightgrey\"},\"left_units\":\"screen\",\"level\":\"overlay\",\"line_alpha\":{\"value\":1.0},\"line_color\":{\"value\":\"black\"},\"line_dash\":[4,4],\"line_width\":{\"value\":2},\"plot\":null,\"render_mode\":\"css\",\"right_units\":\"screen\",\"top_units\":\"screen\"},\"id\":\"33507\",\"type\":\"BoxAnnotation\"},{\"attributes\":{},\"id\":\"33486\",\"type\":\"CategoricalScale\"},{\"attributes\":{\"label\":{\"value\":\"no-geo\"},\"renderers\":[{\"id\":\"33538\",\"type\":\"GlyphRenderer\"}]},\"id\":\"33548\",\"type\":\"LegendItem\"},{\"attributes\":{},\"id\":\"33488\",\"type\":\"LinearScale\"},{\"attributes\":{\"callback\":null,\"data\":{\"bi\":[0,0,0,2,0],\"geom\":[124264,135979,859759,938409,0],\"no-geo\":[669757,703379,2,3,941214],\"years\":[\"2012\",\"2013\",\"2014\",\"2015\",\"2016\"]},\"selected\":{\"id\":\"34308\",\"type\":\"Selection\"},\"selection_policy\":{\"id\":\"34309\",\"type\":\"UnionRenderers\"}},\"id\":\"33549\",\"type\":\"ColumnDataSource\"},{\"attributes\":{\"fields\":[\"geom\",\"no-geo\"]},\"id\":\"33518\",\"type\":\"Stack\"},{\"attributes\":{\"callback\":null,\"data\":{\"bi\":[0,0,0,2,0],\"geom\":[124264,135979,859759,938409,0],\"no-geo\":[669757,703379,2,3,941214],\"years\":[\"2012\",\"2013\",\"2014\",\"2015\",\"2016\"]},\"selected\":{\"id\":\"33563\",\"type\":\"Selection\"},\"selection_policy\":{\"id\":\"33564\",\"type\":\"UnionRenderers\"}},\"id\":\"33534\",\"type\":\"ColumnDataSource\"},{\"attributes\":{\"fields\":[]},\"id\":\"33514\",\"type\":\"Stack\"},{\"attributes\":{\"fields\":[\"geom\",\"no-geo\",\"bi\"]},\"id\":\"33519\",\"type\":\"Stack\"},{\"attributes\":{\"bottom\":{\"expr\":{\"id\":\"33518\",\"type\":\"Stack\"}},\"fill_color\":{\"value\":\"#cccccc\"},\"line_color\":{\"value\":\"#cccccc\"},\"top\":{\"expr\":{\"id\":\"33519\",\"type\":\"Stack\"}},\"width\":{\"value\":0.9},\"x\":{\"field\":\"years\"}},\"id\":\"33551\",\"type\":\"VBar\"},{\"attributes\":{\"callback\":null,\"data\":{\"bi\":[0,0,0,2,0],\"geom\":[124264,135979,859759,938409,0],\"no-geo\":[669757,703379,2,3,941214],\"years\":[\"2012\",\"2013\",\"2014\",\"2015\",\"2016\"]},\"selected\":{\"id\":\"33546\",\"type\":\"Selection\"},\"selection_policy\":{\"id\":\"33547\",\"type\":\"UnionRenderers\"}},\"id\":\"33520\",\"type\":\"ColumnDataSource\"},{\"attributes\":{\"bottom\":{\"expr\":{\"id\":\"33518\",\"type\":\"Stack\"}},\"fill_alpha\":{\"value\":0.1},\"fill_color\":{\"value\":\"#1f77b4\"},\"line_alpha\":{\"value\":0.1},\"line_color\":{\"value\":\"#1f77b4\"},\"top\":{\"expr\":{\"id\":\"33519\",\"type\":\"Stack\"}},\"width\":{\"value\":0.9},\"x\":{\"field\":\"years\"}},\"id\":\"33552\",\"type\":\"VBar\"},{\"attributes\":{\"grid_line_color\":{\"value\":null},\"plot\":{\"id\":\"33480\",\"subtype\":\"Figure\",\"type\":\"Plot\"},\"ticker\":{\"id\":\"33491\",\"type\":\"CategoricalTicker\"}},\"id\":\"33493\",\"type\":\"Grid\"}],\"root_ids\":[\"33480\"]},\"title\":\"Bokeh Application\",\"version\":\"1.0.0\"}};\n",
       "  var render_items = [{\"docid\":\"e90ff94e-225f-4594-8319-bc7feeaf4f9e\",\"roots\":{\"33480\":\"7afdcfb5-10b0-4d3e-a580-832b270e1035\"}}];\n",
       "  root.Bokeh.embed.embed_items_notebook(docs_json, render_items);\n",
       "\n",
       "  }\n",
       "  if (root.Bokeh !== undefined) {\n",
       "    embed_document(root);\n",
       "  } else {\n",
       "    var attempts = 0;\n",
       "    var timer = setInterval(function(root) {\n",
       "      if (root.Bokeh !== undefined) {\n",
       "        embed_document(root);\n",
       "        clearInterval(timer);\n",
       "      }\n",
       "      attempts++;\n",
       "      if (attempts > 100) {\n",
       "        console.log(\"Bokeh: ERROR: Unable to run BokehJS code because BokehJS library is missing\");\n",
       "        clearInterval(timer);\n",
       "      }\n",
       "    }, 10, root)\n",
       "  }\n",
       "})(window);"
      ],
      "application/vnd.bokehjs_exec.v0+json": ""
     },
     "metadata": {
      "application/vnd.bokehjs_exec.v0+json": {
       "id": "33480"
      }
     },
     "output_type": "display_data"
    },
    {
     "data": {
      "text/html": [
       "\n",
       "\n",
       "\n",
       "\n",
       "\n",
       "\n",
       "  <div class=\"bk-root\" id=\"b72af2bd-fa59-445b-9f28-5600a316dfac\"></div>\n"
      ]
     },
     "metadata": {},
     "output_type": "display_data"
    },
    {
     "data": {
      "application/javascript": [
       "(function(root) {\n",
       "  function embed_document(root) {\n",
       "    \n",
       "  var docs_json = {\"8a4ef46b-5fb0-4d9c-8271-e1fd03c194fc\":{\"roots\":{\"references\":[{\"attributes\":{\"below\":[{\"id\":\"34393\",\"type\":\"CategoricalAxis\"}],\"left\":[{\"id\":\"34397\",\"type\":\"LinearAxis\"}],\"outline_line_color\":{\"value\":null},\"plot_height\":250,\"renderers\":[{\"id\":\"34393\",\"type\":\"CategoricalAxis\"},{\"id\":\"34396\",\"type\":\"Grid\"},{\"id\":\"34397\",\"type\":\"LinearAxis\"},{\"id\":\"34401\",\"type\":\"Grid\"},{\"id\":\"34410\",\"type\":\"BoxAnnotation\"},{\"id\":\"34435\",\"type\":\"Legend\"},{\"id\":\"34427\",\"type\":\"GlyphRenderer\"},{\"id\":\"34441\",\"type\":\"GlyphRenderer\"},{\"id\":\"34456\",\"type\":\"GlyphRenderer\"}],\"title\":{\"id\":\"34382\",\"type\":\"Title\"},\"toolbar\":{\"id\":\"34408\",\"type\":\"Toolbar\"},\"toolbar_location\":null,\"x_range\":{\"id\":\"34385\",\"type\":\"FactorRange\"},\"x_scale\":{\"id\":\"34389\",\"type\":\"CategoricalScale\"},\"y_range\":{\"id\":\"34387\",\"type\":\"DataRange1d\"},\"y_scale\":{\"id\":\"34391\",\"type\":\"LinearScale\"}},\"id\":\"34383\",\"subtype\":\"Figure\",\"type\":\"Plot\"},{\"attributes\":{\"fields\":[\"geom\",\"no-geo\"]},\"id\":\"34421\",\"type\":\"Stack\"},{\"attributes\":{\"grid_line_color\":{\"value\":null},\"plot\":{\"id\":\"34383\",\"subtype\":\"Figure\",\"type\":\"Plot\"},\"ticker\":{\"id\":\"34394\",\"type\":\"CategoricalTicker\"}},\"id\":\"34396\",\"type\":\"Grid\"},{\"attributes\":{\"data_source\":{\"id\":\"34437\",\"type\":\"ColumnDataSource\"},\"glyph\":{\"id\":\"34439\",\"type\":\"VBar\"},\"hover_glyph\":null,\"muted_glyph\":null,\"name\":\"no-geo\",\"nonselection_glyph\":{\"id\":\"34440\",\"type\":\"VBar\"},\"selection_glyph\":null,\"view\":{\"id\":\"34442\",\"type\":\"CDSView\"}},\"id\":\"34441\",\"type\":\"GlyphRenderer\"},{\"attributes\":{\"fields\":[\"geom\",\"no-geo\",\"bi\"]},\"id\":\"34422\",\"type\":\"Stack\"},{\"attributes\":{\"callback\":null,\"factors\":[\"2012\",\"2013\",\"2014\",\"2015\",\"2016\"],\"range_padding\":0.1},\"id\":\"34385\",\"type\":\"FactorRange\"},{\"attributes\":{\"source\":{\"id\":\"34437\",\"type\":\"ColumnDataSource\"}},\"id\":\"34442\",\"type\":\"CDSView\"},{\"attributes\":{\"callback\":null,\"data\":{\"bi\":[0,0,0,0,0],\"geom\":[86585,87321,89414,94113,0],\"no-geo\":[0,0,0,0,93902],\"years\":[\"2012\",\"2013\",\"2014\",\"2015\",\"2016\"]},\"selected\":{\"id\":\"34449\",\"type\":\"Selection\"},\"selection_policy\":{\"id\":\"34450\",\"type\":\"UnionRenderers\"}},\"id\":\"34423\",\"type\":\"ColumnDataSource\"},{\"attributes\":{},\"id\":\"34449\",\"type\":\"Selection\"},{\"attributes\":{\"plot\":null,\"text\":\"HI\"},\"id\":\"34382\",\"type\":\"Title\"},{\"attributes\":{},\"id\":\"34450\",\"type\":\"UnionRenderers\"},{\"attributes\":{\"fields\":[]},\"id\":\"34417\",\"type\":\"Stack\"},{\"attributes\":{\"bottom\":{\"expr\":{\"id\":\"34421\",\"type\":\"Stack\"}},\"fill_color\":{\"value\":\"#cccccc\"},\"line_color\":{\"value\":\"#cccccc\"},\"top\":{\"expr\":{\"id\":\"34422\",\"type\":\"Stack\"}},\"width\":{\"value\":0.9},\"x\":{\"field\":\"years\"}},\"id\":\"34454\",\"type\":\"VBar\"},{\"attributes\":{\"bottom\":{\"expr\":{\"id\":\"34417\",\"type\":\"Stack\"}},\"fill_color\":{\"value\":\"#5CC9F5\"},\"line_color\":{\"value\":\"#5CC9F5\"},\"top\":{\"expr\":{\"id\":\"34418\",\"type\":\"Stack\"}},\"width\":{\"value\":0.9},\"x\":{\"field\":\"years\"}},\"id\":\"34425\",\"type\":\"VBar\"},{\"attributes\":{\"bottom\":{\"expr\":{\"id\":\"34421\",\"type\":\"Stack\"}},\"fill_alpha\":{\"value\":0.1},\"fill_color\":{\"value\":\"#1f77b4\"},\"line_alpha\":{\"value\":0.1},\"line_color\":{\"value\":\"#1f77b4\"},\"top\":{\"expr\":{\"id\":\"34422\",\"type\":\"Stack\"}},\"width\":{\"value\":0.9},\"x\":{\"field\":\"years\"}},\"id\":\"34455\",\"type\":\"VBar\"},{\"attributes\":{\"bottom\":{\"expr\":{\"id\":\"34417\",\"type\":\"Stack\"}},\"fill_alpha\":{\"value\":0.1},\"fill_color\":{\"value\":\"#1f77b4\"},\"line_alpha\":{\"value\":0.1},\"line_color\":{\"value\":\"#1f77b4\"},\"top\":{\"expr\":{\"id\":\"34418\",\"type\":\"Stack\"}},\"width\":{\"value\":0.9},\"x\":{\"field\":\"years\"}},\"id\":\"34426\",\"type\":\"VBar\"},{\"attributes\":{\"data_source\":{\"id\":\"34452\",\"type\":\"ColumnDataSource\"},\"glyph\":{\"id\":\"34454\",\"type\":\"VBar\"},\"hover_glyph\":null,\"muted_glyph\":null,\"name\":\"bi\",\"nonselection_glyph\":{\"id\":\"34455\",\"type\":\"VBar\"},\"selection_glyph\":null,\"view\":{\"id\":\"34457\",\"type\":\"CDSView\"}},\"id\":\"34456\",\"type\":\"GlyphRenderer\"},{\"attributes\":{\"data_source\":{\"id\":\"34423\",\"type\":\"ColumnDataSource\"},\"glyph\":{\"id\":\"34425\",\"type\":\"VBar\"},\"hover_glyph\":null,\"muted_glyph\":null,\"name\":\"geom\",\"nonselection_glyph\":{\"id\":\"34426\",\"type\":\"VBar\"},\"selection_glyph\":null,\"view\":{\"id\":\"34428\",\"type\":\"CDSView\"}},\"id\":\"34427\",\"type\":\"GlyphRenderer\"},{\"attributes\":{\"source\":{\"id\":\"34452\",\"type\":\"ColumnDataSource\"}},\"id\":\"34457\",\"type\":\"CDSView\"},{\"attributes\":{\"source\":{\"id\":\"34423\",\"type\":\"ColumnDataSource\"}},\"id\":\"34428\",\"type\":\"CDSView\"},{\"attributes\":{},\"id\":\"34466\",\"type\":\"Selection\"},{\"attributes\":{},\"id\":\"34403\",\"type\":\"WheelZoomTool\"},{\"attributes\":{},\"id\":\"34430\",\"type\":\"BasicTickFormatter\"},{\"attributes\":{\"label\":{\"value\":\"no-geo\"},\"renderers\":[{\"id\":\"34441\",\"type\":\"GlyphRenderer\"}]},\"id\":\"34451\",\"type\":\"LegendItem\"},{\"attributes\":{},\"id\":\"34467\",\"type\":\"UnionRenderers\"},{\"attributes\":{},\"id\":\"34402\",\"type\":\"PanTool\"},{\"attributes\":{},\"id\":\"34432\",\"type\":\"CategoricalTickFormatter\"},{\"attributes\":{\"label\":{\"value\":\"bi\"},\"renderers\":[{\"id\":\"34456\",\"type\":\"GlyphRenderer\"}]},\"id\":\"34468\",\"type\":\"LegendItem\"},{\"attributes\":{\"fields\":[\"geom\",\"no-geo\"]},\"id\":\"34420\",\"type\":\"Stack\"},{\"attributes\":{},\"id\":\"34398\",\"type\":\"BasicTicker\"},{\"attributes\":{\"fields\":[\"geom\"]},\"id\":\"34418\",\"type\":\"Stack\"},{\"attributes\":{},\"id\":\"35223\",\"type\":\"Selection\"},{\"attributes\":{\"callback\":null,\"start\":0},\"id\":\"34387\",\"type\":\"DataRange1d\"},{\"attributes\":{\"items\":[{\"id\":\"34436\",\"type\":\"LegendItem\"},{\"id\":\"34451\",\"type\":\"LegendItem\"},{\"id\":\"34468\",\"type\":\"LegendItem\"}],\"location\":\"top_left\",\"orientation\":\"horizontal\",\"plot\":{\"id\":\"34383\",\"subtype\":\"Figure\",\"type\":\"Plot\"}},\"id\":\"34435\",\"type\":\"Legend\"},{\"attributes\":{\"formatter\":{\"id\":\"34430\",\"type\":\"BasicTickFormatter\"},\"minor_tick_line_color\":{\"value\":null},\"plot\":{\"id\":\"34383\",\"subtype\":\"Figure\",\"type\":\"Plot\"},\"ticker\":{\"id\":\"34398\",\"type\":\"BasicTicker\"}},\"id\":\"34397\",\"type\":\"LinearAxis\"},{\"attributes\":{\"fields\":[\"geom\"]},\"id\":\"34419\",\"type\":\"Stack\"},{\"attributes\":{},\"id\":\"35224\",\"type\":\"UnionRenderers\"},{\"attributes\":{\"label\":{\"value\":\"geom\"},\"renderers\":[{\"id\":\"34427\",\"type\":\"GlyphRenderer\"}]},\"id\":\"34436\",\"type\":\"LegendItem\"},{\"attributes\":{\"dimension\":1,\"plot\":{\"id\":\"34383\",\"subtype\":\"Figure\",\"type\":\"Plot\"},\"ticker\":{\"id\":\"34398\",\"type\":\"BasicTicker\"}},\"id\":\"34401\",\"type\":\"Grid\"},{\"attributes\":{\"callback\":null,\"data\":{\"bi\":[0,0,0,0,0],\"geom\":[86585,87321,89414,94113,0],\"no-geo\":[0,0,0,0,93902],\"years\":[\"2012\",\"2013\",\"2014\",\"2015\",\"2016\"]},\"selected\":{\"id\":\"34466\",\"type\":\"Selection\"},\"selection_policy\":{\"id\":\"34467\",\"type\":\"UnionRenderers\"}},\"id\":\"34437\",\"type\":\"ColumnDataSource\"},{\"attributes\":{},\"id\":\"34407\",\"type\":\"HelpTool\"},{\"attributes\":{\"bottom\":{\"expr\":{\"id\":\"34419\",\"type\":\"Stack\"}},\"fill_alpha\":{\"value\":0.1},\"fill_color\":{\"value\":\"#1f77b4\"},\"line_alpha\":{\"value\":0.1},\"line_color\":{\"value\":\"#1f77b4\"},\"top\":{\"expr\":{\"id\":\"34420\",\"type\":\"Stack\"}},\"width\":{\"value\":0.9},\"x\":{\"field\":\"years\"}},\"id\":\"34440\",\"type\":\"VBar\"},{\"attributes\":{},\"id\":\"34389\",\"type\":\"CategoricalScale\"},{\"attributes\":{},\"id\":\"34406\",\"type\":\"ResetTool\"},{\"attributes\":{},\"id\":\"34391\",\"type\":\"LinearScale\"},{\"attributes\":{\"active_drag\":\"auto\",\"active_inspect\":\"auto\",\"active_multi\":null,\"active_scroll\":\"auto\",\"active_tap\":\"auto\",\"tools\":[{\"id\":\"34402\",\"type\":\"PanTool\"},{\"id\":\"34403\",\"type\":\"WheelZoomTool\"},{\"id\":\"34404\",\"type\":\"BoxZoomTool\"},{\"id\":\"34405\",\"type\":\"SaveTool\"},{\"id\":\"34406\",\"type\":\"ResetTool\"},{\"id\":\"34407\",\"type\":\"HelpTool\"}]},\"id\":\"34408\",\"type\":\"Toolbar\"},{\"attributes\":{\"callback\":null,\"data\":{\"bi\":[0,0,0,0,0],\"geom\":[86585,87321,89414,94113,0],\"no-geo\":[0,0,0,0,93902],\"years\":[\"2012\",\"2013\",\"2014\",\"2015\",\"2016\"]},\"selected\":{\"id\":\"35223\",\"type\":\"Selection\"},\"selection_policy\":{\"id\":\"35224\",\"type\":\"UnionRenderers\"}},\"id\":\"34452\",\"type\":\"ColumnDataSource\"},{\"attributes\":{},\"id\":\"34405\",\"type\":\"SaveTool\"},{\"attributes\":{\"bottom_units\":\"screen\",\"fill_alpha\":{\"value\":0.5},\"fill_color\":{\"value\":\"lightgrey\"},\"left_units\":\"screen\",\"level\":\"overlay\",\"line_alpha\":{\"value\":1.0},\"line_color\":{\"value\":\"black\"},\"line_dash\":[4,4],\"line_width\":{\"value\":2},\"plot\":null,\"render_mode\":\"css\",\"right_units\":\"screen\",\"top_units\":\"screen\"},\"id\":\"34410\",\"type\":\"BoxAnnotation\"},{\"attributes\":{\"bottom\":{\"expr\":{\"id\":\"34419\",\"type\":\"Stack\"}},\"fill_color\":{\"value\":\"#e84d60\"},\"line_color\":{\"value\":\"#e84d60\"},\"top\":{\"expr\":{\"id\":\"34420\",\"type\":\"Stack\"}},\"width\":{\"value\":0.9},\"x\":{\"field\":\"years\"}},\"id\":\"34439\",\"type\":\"VBar\"},{\"attributes\":{\"overlay\":{\"id\":\"34410\",\"type\":\"BoxAnnotation\"}},\"id\":\"34404\",\"type\":\"BoxZoomTool\"},{\"attributes\":{\"formatter\":{\"id\":\"34432\",\"type\":\"CategoricalTickFormatter\"},\"minor_tick_line_color\":{\"value\":null},\"plot\":{\"id\":\"34383\",\"subtype\":\"Figure\",\"type\":\"Plot\"},\"ticker\":{\"id\":\"34394\",\"type\":\"CategoricalTicker\"}},\"id\":\"34393\",\"type\":\"CategoricalAxis\"},{\"attributes\":{},\"id\":\"34394\",\"type\":\"CategoricalTicker\"}],\"root_ids\":[\"34383\"]},\"title\":\"Bokeh Application\",\"version\":\"1.0.0\"}};\n",
       "  var render_items = [{\"docid\":\"8a4ef46b-5fb0-4d9c-8271-e1fd03c194fc\",\"roots\":{\"34383\":\"b72af2bd-fa59-445b-9f28-5600a316dfac\"}}];\n",
       "  root.Bokeh.embed.embed_items_notebook(docs_json, render_items);\n",
       "\n",
       "  }\n",
       "  if (root.Bokeh !== undefined) {\n",
       "    embed_document(root);\n",
       "  } else {\n",
       "    var attempts = 0;\n",
       "    var timer = setInterval(function(root) {\n",
       "      if (root.Bokeh !== undefined) {\n",
       "        embed_document(root);\n",
       "        clearInterval(timer);\n",
       "      }\n",
       "      attempts++;\n",
       "      if (attempts > 100) {\n",
       "        console.log(\"Bokeh: ERROR: Unable to run BokehJS code because BokehJS library is missing\");\n",
       "        clearInterval(timer);\n",
       "      }\n",
       "    }, 10, root)\n",
       "  }\n",
       "})(window);"
      ],
      "application/vnd.bokehjs_exec.v0+json": ""
     },
     "metadata": {
      "application/vnd.bokehjs_exec.v0+json": {
       "id": "34383"
      }
     },
     "output_type": "display_data"
    },
    {
     "data": {
      "text/html": [
       "\n",
       "\n",
       "\n",
       "\n",
       "\n",
       "\n",
       "  <div class=\"bk-root\" id=\"883b53df-8064-4a2a-88ee-dddc175a3a4d\"></div>\n"
      ]
     },
     "metadata": {},
     "output_type": "display_data"
    },
    {
     "data": {
      "application/javascript": [
       "(function(root) {\n",
       "  function embed_document(root) {\n",
       "    \n",
       "  var docs_json = {\"0f2cc654-2891-4a1e-afc8-3fe0be4b2b94\":{\"roots\":{\"references\":[{\"attributes\":{\"below\":[{\"id\":\"35308\",\"type\":\"CategoricalAxis\"}],\"left\":[{\"id\":\"35312\",\"type\":\"LinearAxis\"}],\"outline_line_color\":{\"value\":null},\"plot_height\":250,\"renderers\":[{\"id\":\"35308\",\"type\":\"CategoricalAxis\"},{\"id\":\"35311\",\"type\":\"Grid\"},{\"id\":\"35312\",\"type\":\"LinearAxis\"},{\"id\":\"35316\",\"type\":\"Grid\"},{\"id\":\"35325\",\"type\":\"BoxAnnotation\"},{\"id\":\"35350\",\"type\":\"Legend\"},{\"id\":\"35342\",\"type\":\"GlyphRenderer\"},{\"id\":\"35356\",\"type\":\"GlyphRenderer\"},{\"id\":\"35371\",\"type\":\"GlyphRenderer\"}],\"title\":{\"id\":\"35297\",\"type\":\"Title\"},\"toolbar\":{\"id\":\"35323\",\"type\":\"Toolbar\"},\"toolbar_location\":null,\"x_range\":{\"id\":\"35300\",\"type\":\"FactorRange\"},\"x_scale\":{\"id\":\"35304\",\"type\":\"CategoricalScale\"},\"y_range\":{\"id\":\"35302\",\"type\":\"DataRange1d\"},\"y_scale\":{\"id\":\"35306\",\"type\":\"LinearScale\"}},\"id\":\"35298\",\"subtype\":\"Figure\",\"type\":\"Plot\"},{\"attributes\":{},\"id\":\"35318\",\"type\":\"WheelZoomTool\"},{\"attributes\":{\"overlay\":{\"id\":\"35325\",\"type\":\"BoxAnnotation\"}},\"id\":\"35319\",\"type\":\"BoxZoomTool\"},{\"attributes\":{\"bottom\":{\"expr\":{\"id\":\"35334\",\"type\":\"Stack\"}},\"fill_color\":{\"value\":\"#e84d60\"},\"line_color\":{\"value\":\"#e84d60\"},\"top\":{\"expr\":{\"id\":\"35335\",\"type\":\"Stack\"}},\"width\":{\"value\":0.9},\"x\":{\"field\":\"years\"}},\"id\":\"35354\",\"type\":\"VBar\"},{\"attributes\":{},\"id\":\"35320\",\"type\":\"SaveTool\"},{\"attributes\":{\"bottom\":{\"expr\":{\"id\":\"35334\",\"type\":\"Stack\"}},\"fill_alpha\":{\"value\":0.1},\"fill_color\":{\"value\":\"#1f77b4\"},\"line_alpha\":{\"value\":0.1},\"line_color\":{\"value\":\"#1f77b4\"},\"top\":{\"expr\":{\"id\":\"35335\",\"type\":\"Stack\"}},\"width\":{\"value\":0.9},\"x\":{\"field\":\"years\"}},\"id\":\"35355\",\"type\":\"VBar\"},{\"attributes\":{},\"id\":\"35321\",\"type\":\"ResetTool\"},{\"attributes\":{\"data_source\":{\"id\":\"35352\",\"type\":\"ColumnDataSource\"},\"glyph\":{\"id\":\"35354\",\"type\":\"VBar\"},\"hover_glyph\":null,\"muted_glyph\":null,\"name\":\"no-geo\",\"nonselection_glyph\":{\"id\":\"35355\",\"type\":\"VBar\"},\"selection_glyph\":null,\"view\":{\"id\":\"35357\",\"type\":\"CDSView\"}},\"id\":\"35356\",\"type\":\"GlyphRenderer\"},{\"attributes\":{\"plot\":null,\"text\":\"ID\"},\"id\":\"35297\",\"type\":\"Title\"},{\"attributes\":{},\"id\":\"35322\",\"type\":\"HelpTool\"},{\"attributes\":{\"source\":{\"id\":\"35352\",\"type\":\"ColumnDataSource\"}},\"id\":\"35357\",\"type\":\"CDSView\"},{\"attributes\":{\"callback\":null,\"factors\":[\"2012\",\"2013\",\"2014\",\"2015\",\"2016\"],\"range_padding\":0.1},\"id\":\"35300\",\"type\":\"FactorRange\"},{\"attributes\":{\"active_drag\":\"auto\",\"active_inspect\":\"auto\",\"active_multi\":null,\"active_scroll\":\"auto\",\"active_tap\":\"auto\",\"tools\":[{\"id\":\"35317\",\"type\":\"PanTool\"},{\"id\":\"35318\",\"type\":\"WheelZoomTool\"},{\"id\":\"35319\",\"type\":\"BoxZoomTool\"},{\"id\":\"35320\",\"type\":\"SaveTool\"},{\"id\":\"35321\",\"type\":\"ResetTool\"},{\"id\":\"35322\",\"type\":\"HelpTool\"}]},\"id\":\"35323\",\"type\":\"Toolbar\"},{\"attributes\":{},\"id\":\"35365\",\"type\":\"UnionRenderers\"},{\"attributes\":{\"fields\":[\"geom\"]},\"id\":\"35334\",\"type\":\"Stack\"},{\"attributes\":{\"callback\":null,\"start\":0},\"id\":\"35302\",\"type\":\"DataRange1d\"},{\"attributes\":{},\"id\":\"35382\",\"type\":\"UnionRenderers\"},{\"attributes\":{\"callback\":null,\"data\":{\"bi\":[0,0,0,0,0],\"geom\":[58830,64743,107032,115198,0],\"no-geo\":[34084,36204,1,0,114977],\"years\":[\"2012\",\"2013\",\"2014\",\"2015\",\"2016\"]},\"selected\":{\"id\":\"36150\",\"type\":\"Selection\"},\"selection_policy\":{\"id\":\"36151\",\"type\":\"UnionRenderers\"}},\"id\":\"35367\",\"type\":\"ColumnDataSource\"},{\"attributes\":{\"bottom_units\":\"screen\",\"fill_alpha\":{\"value\":0.5},\"fill_color\":{\"value\":\"lightgrey\"},\"left_units\":\"screen\",\"level\":\"overlay\",\"line_alpha\":{\"value\":1.0},\"line_color\":{\"value\":\"black\"},\"line_dash\":[4,4],\"line_width\":{\"value\":2},\"plot\":null,\"render_mode\":\"css\",\"right_units\":\"screen\",\"top_units\":\"screen\"},\"id\":\"35325\",\"type\":\"BoxAnnotation\"},{\"attributes\":{},\"id\":\"35304\",\"type\":\"CategoricalScale\"},{\"attributes\":{},\"id\":\"36151\",\"type\":\"UnionRenderers\"},{\"attributes\":{\"label\":{\"value\":\"no-geo\"},\"renderers\":[{\"id\":\"35356\",\"type\":\"GlyphRenderer\"}]},\"id\":\"35366\",\"type\":\"LegendItem\"},{\"attributes\":{\"fields\":[\"geom\",\"no-geo\"]},\"id\":\"35335\",\"type\":\"Stack\"},{\"attributes\":{},\"id\":\"35306\",\"type\":\"LinearScale\"},{\"attributes\":{\"fields\":[\"geom\",\"no-geo\"]},\"id\":\"35336\",\"type\":\"Stack\"},{\"attributes\":{\"formatter\":{\"id\":\"35347\",\"type\":\"CategoricalTickFormatter\"},\"minor_tick_line_color\":{\"value\":null},\"plot\":{\"id\":\"35298\",\"subtype\":\"Figure\",\"type\":\"Plot\"},\"ticker\":{\"id\":\"35309\",\"type\":\"CategoricalTicker\"}},\"id\":\"35308\",\"type\":\"CategoricalAxis\"},{\"attributes\":{\"fields\":[\"geom\",\"no-geo\",\"bi\"]},\"id\":\"35337\",\"type\":\"Stack\"},{\"attributes\":{},\"id\":\"35309\",\"type\":\"CategoricalTicker\"},{\"attributes\":{\"callback\":null,\"data\":{\"bi\":[0,0,0,0,0],\"geom\":[58830,64743,107032,115198,0],\"no-geo\":[34084,36204,1,0,114977],\"years\":[\"2012\",\"2013\",\"2014\",\"2015\",\"2016\"]},\"selected\":{\"id\":\"35364\",\"type\":\"Selection\"},\"selection_policy\":{\"id\":\"35365\",\"type\":\"UnionRenderers\"}},\"id\":\"35338\",\"type\":\"ColumnDataSource\"},{\"attributes\":{\"bottom\":{\"expr\":{\"id\":\"35336\",\"type\":\"Stack\"}},\"fill_color\":{\"value\":\"#cccccc\"},\"line_color\":{\"value\":\"#cccccc\"},\"top\":{\"expr\":{\"id\":\"35337\",\"type\":\"Stack\"}},\"width\":{\"value\":0.9},\"x\":{\"field\":\"years\"}},\"id\":\"35369\",\"type\":\"VBar\"},{\"attributes\":{\"label\":{\"value\":\"geom\"},\"renderers\":[{\"id\":\"35342\",\"type\":\"GlyphRenderer\"}]},\"id\":\"35351\",\"type\":\"LegendItem\"},{\"attributes\":{\"grid_line_color\":{\"value\":null},\"plot\":{\"id\":\"35298\",\"subtype\":\"Figure\",\"type\":\"Plot\"},\"ticker\":{\"id\":\"35309\",\"type\":\"CategoricalTicker\"}},\"id\":\"35311\",\"type\":\"Grid\"},{\"attributes\":{\"items\":[{\"id\":\"35351\",\"type\":\"LegendItem\"},{\"id\":\"35366\",\"type\":\"LegendItem\"},{\"id\":\"35383\",\"type\":\"LegendItem\"}],\"location\":\"top_left\",\"orientation\":\"horizontal\",\"plot\":{\"id\":\"35298\",\"subtype\":\"Figure\",\"type\":\"Plot\"}},\"id\":\"35350\",\"type\":\"Legend\"},{\"attributes\":{\"source\":{\"id\":\"35367\",\"type\":\"ColumnDataSource\"}},\"id\":\"35372\",\"type\":\"CDSView\"},{\"attributes\":{\"bottom\":{\"expr\":{\"id\":\"35336\",\"type\":\"Stack\"}},\"fill_alpha\":{\"value\":0.1},\"fill_color\":{\"value\":\"#1f77b4\"},\"line_alpha\":{\"value\":0.1},\"line_color\":{\"value\":\"#1f77b4\"},\"top\":{\"expr\":{\"id\":\"35337\",\"type\":\"Stack\"}},\"width\":{\"value\":0.9},\"x\":{\"field\":\"years\"}},\"id\":\"35370\",\"type\":\"VBar\"},{\"attributes\":{\"bottom\":{\"expr\":{\"id\":\"35332\",\"type\":\"Stack\"}},\"fill_color\":{\"value\":\"#5CC9F5\"},\"line_color\":{\"value\":\"#5CC9F5\"},\"top\":{\"expr\":{\"id\":\"35333\",\"type\":\"Stack\"}},\"width\":{\"value\":0.9},\"x\":{\"field\":\"years\"}},\"id\":\"35340\",\"type\":\"VBar\"},{\"attributes\":{\"formatter\":{\"id\":\"35345\",\"type\":\"BasicTickFormatter\"},\"minor_tick_line_color\":{\"value\":null},\"plot\":{\"id\":\"35298\",\"subtype\":\"Figure\",\"type\":\"Plot\"},\"ticker\":{\"id\":\"35313\",\"type\":\"BasicTicker\"}},\"id\":\"35312\",\"type\":\"LinearAxis\"},{\"attributes\":{\"data_source\":{\"id\":\"35367\",\"type\":\"ColumnDataSource\"},\"glyph\":{\"id\":\"35369\",\"type\":\"VBar\"},\"hover_glyph\":null,\"muted_glyph\":null,\"name\":\"bi\",\"nonselection_glyph\":{\"id\":\"35370\",\"type\":\"VBar\"},\"selection_glyph\":null,\"view\":{\"id\":\"35372\",\"type\":\"CDSView\"}},\"id\":\"35371\",\"type\":\"GlyphRenderer\"},{\"attributes\":{\"bottom\":{\"expr\":{\"id\":\"35332\",\"type\":\"Stack\"}},\"fill_alpha\":{\"value\":0.1},\"fill_color\":{\"value\":\"#1f77b4\"},\"line_alpha\":{\"value\":0.1},\"line_color\":{\"value\":\"#1f77b4\"},\"top\":{\"expr\":{\"id\":\"35333\",\"type\":\"Stack\"}},\"width\":{\"value\":0.9},\"x\":{\"field\":\"years\"}},\"id\":\"35341\",\"type\":\"VBar\"},{\"attributes\":{},\"id\":\"35313\",\"type\":\"BasicTicker\"},{\"attributes\":{\"data_source\":{\"id\":\"35338\",\"type\":\"ColumnDataSource\"},\"glyph\":{\"id\":\"35340\",\"type\":\"VBar\"},\"hover_glyph\":null,\"muted_glyph\":null,\"name\":\"geom\",\"nonselection_glyph\":{\"id\":\"35341\",\"type\":\"VBar\"},\"selection_glyph\":null,\"view\":{\"id\":\"35343\",\"type\":\"CDSView\"}},\"id\":\"35342\",\"type\":\"GlyphRenderer\"},{\"attributes\":{\"dimension\":1,\"plot\":{\"id\":\"35298\",\"subtype\":\"Figure\",\"type\":\"Plot\"},\"ticker\":{\"id\":\"35313\",\"type\":\"BasicTicker\"}},\"id\":\"35316\",\"type\":\"Grid\"},{\"attributes\":{\"callback\":null,\"data\":{\"bi\":[0,0,0,0,0],\"geom\":[58830,64743,107032,115198,0],\"no-geo\":[34084,36204,1,0,114977],\"years\":[\"2012\",\"2013\",\"2014\",\"2015\",\"2016\"]},\"selected\":{\"id\":\"35381\",\"type\":\"Selection\"},\"selection_policy\":{\"id\":\"35382\",\"type\":\"UnionRenderers\"}},\"id\":\"35352\",\"type\":\"ColumnDataSource\"},{\"attributes\":{},\"id\":\"35381\",\"type\":\"Selection\"},{\"attributes\":{\"source\":{\"id\":\"35338\",\"type\":\"ColumnDataSource\"}},\"id\":\"35343\",\"type\":\"CDSView\"},{\"attributes\":{\"fields\":[\"geom\"]},\"id\":\"35333\",\"type\":\"Stack\"},{\"attributes\":{\"label\":{\"value\":\"bi\"},\"renderers\":[{\"id\":\"35371\",\"type\":\"GlyphRenderer\"}]},\"id\":\"35383\",\"type\":\"LegendItem\"},{\"attributes\":{},\"id\":\"35364\",\"type\":\"Selection\"},{\"attributes\":{\"fields\":[]},\"id\":\"35332\",\"type\":\"Stack\"},{\"attributes\":{},\"id\":\"35345\",\"type\":\"BasicTickFormatter\"},{\"attributes\":{},\"id\":\"36150\",\"type\":\"Selection\"},{\"attributes\":{},\"id\":\"35347\",\"type\":\"CategoricalTickFormatter\"},{\"attributes\":{},\"id\":\"35317\",\"type\":\"PanTool\"}],\"root_ids\":[\"35298\"]},\"title\":\"Bokeh Application\",\"version\":\"1.0.0\"}};\n",
       "  var render_items = [{\"docid\":\"0f2cc654-2891-4a1e-afc8-3fe0be4b2b94\",\"roots\":{\"35298\":\"883b53df-8064-4a2a-88ee-dddc175a3a4d\"}}];\n",
       "  root.Bokeh.embed.embed_items_notebook(docs_json, render_items);\n",
       "\n",
       "  }\n",
       "  if (root.Bokeh !== undefined) {\n",
       "    embed_document(root);\n",
       "  } else {\n",
       "    var attempts = 0;\n",
       "    var timer = setInterval(function(root) {\n",
       "      if (root.Bokeh !== undefined) {\n",
       "        embed_document(root);\n",
       "        clearInterval(timer);\n",
       "      }\n",
       "      attempts++;\n",
       "      if (attempts > 100) {\n",
       "        console.log(\"Bokeh: ERROR: Unable to run BokehJS code because BokehJS library is missing\");\n",
       "        clearInterval(timer);\n",
       "      }\n",
       "    }, 10, root)\n",
       "  }\n",
       "})(window);"
      ],
      "application/vnd.bokehjs_exec.v0+json": ""
     },
     "metadata": {
      "application/vnd.bokehjs_exec.v0+json": {
       "id": "35298"
      }
     },
     "output_type": "display_data"
    },
    {
     "data": {
      "text/html": [
       "\n",
       "\n",
       "\n",
       "\n",
       "\n",
       "\n",
       "  <div class=\"bk-root\" id=\"ef02fed8-8136-426e-96ee-e97580d5c5a9\"></div>\n"
      ]
     },
     "metadata": {},
     "output_type": "display_data"
    },
    {
     "data": {
      "application/javascript": [
       "(function(root) {\n",
       "  function embed_document(root) {\n",
       "    \n",
       "  var docs_json = {\"7e70497a-6b10-4ef6-bfd3-23b266a9a92f\":{\"roots\":{\"references\":[{\"attributes\":{\"below\":[{\"id\":\"36235\",\"type\":\"CategoricalAxis\"}],\"left\":[{\"id\":\"36239\",\"type\":\"LinearAxis\"}],\"outline_line_color\":{\"value\":null},\"plot_height\":250,\"renderers\":[{\"id\":\"36235\",\"type\":\"CategoricalAxis\"},{\"id\":\"36238\",\"type\":\"Grid\"},{\"id\":\"36239\",\"type\":\"LinearAxis\"},{\"id\":\"36243\",\"type\":\"Grid\"},{\"id\":\"36252\",\"type\":\"BoxAnnotation\"},{\"id\":\"36277\",\"type\":\"Legend\"},{\"id\":\"36269\",\"type\":\"GlyphRenderer\"},{\"id\":\"36283\",\"type\":\"GlyphRenderer\"},{\"id\":\"36298\",\"type\":\"GlyphRenderer\"}],\"title\":{\"id\":\"36224\",\"type\":\"Title\"},\"toolbar\":{\"id\":\"36250\",\"type\":\"Toolbar\"},\"toolbar_location\":null,\"x_range\":{\"id\":\"36227\",\"type\":\"FactorRange\"},\"x_scale\":{\"id\":\"36231\",\"type\":\"CategoricalScale\"},\"y_range\":{\"id\":\"36229\",\"type\":\"DataRange1d\"},\"y_scale\":{\"id\":\"36233\",\"type\":\"LinearScale\"}},\"id\":\"36225\",\"subtype\":\"Figure\",\"type\":\"Plot\"},{\"attributes\":{\"fields\":[\"geom\"]},\"id\":\"36261\",\"type\":\"Stack\"},{\"attributes\":{\"data_source\":{\"id\":\"36265\",\"type\":\"ColumnDataSource\"},\"glyph\":{\"id\":\"36267\",\"type\":\"VBar\"},\"hover_glyph\":null,\"muted_glyph\":null,\"name\":\"geom\",\"nonselection_glyph\":{\"id\":\"36268\",\"type\":\"VBar\"},\"selection_glyph\":null,\"view\":{\"id\":\"36270\",\"type\":\"CDSView\"}},\"id\":\"36269\",\"type\":\"GlyphRenderer\"},{\"attributes\":{\"fields\":[\"geom\"]},\"id\":\"36260\",\"type\":\"Stack\"},{\"attributes\":{\"source\":{\"id\":\"36265\",\"type\":\"ColumnDataSource\"}},\"id\":\"36270\",\"type\":\"CDSView\"},{\"attributes\":{\"bottom\":{\"expr\":{\"id\":\"36263\",\"type\":\"Stack\"}},\"fill_alpha\":{\"value\":0.1},\"fill_color\":{\"value\":\"#1f77b4\"},\"line_alpha\":{\"value\":0.1},\"line_color\":{\"value\":\"#1f77b4\"},\"top\":{\"expr\":{\"id\":\"36264\",\"type\":\"Stack\"}},\"width\":{\"value\":0.9},\"x\":{\"field\":\"years\"}},\"id\":\"36297\",\"type\":\"VBar\"},{\"attributes\":{\"dimension\":1,\"plot\":{\"id\":\"36225\",\"subtype\":\"Figure\",\"type\":\"Plot\"},\"ticker\":{\"id\":\"36240\",\"type\":\"BasicTicker\"}},\"id\":\"36243\",\"type\":\"Grid\"},{\"attributes\":{},\"id\":\"36244\",\"type\":\"PanTool\"},{\"attributes\":{},\"id\":\"36272\",\"type\":\"BasicTickFormatter\"},{\"attributes\":{},\"id\":\"36240\",\"type\":\"BasicTicker\"},{\"attributes\":{\"data_source\":{\"id\":\"36294\",\"type\":\"ColumnDataSource\"},\"glyph\":{\"id\":\"36296\",\"type\":\"VBar\"},\"hover_glyph\":null,\"muted_glyph\":null,\"name\":\"bi\",\"nonselection_glyph\":{\"id\":\"36297\",\"type\":\"VBar\"},\"selection_glyph\":null,\"view\":{\"id\":\"36299\",\"type\":\"CDSView\"}},\"id\":\"36298\",\"type\":\"GlyphRenderer\"},{\"attributes\":{},\"id\":\"36245\",\"type\":\"WheelZoomTool\"},{\"attributes\":{},\"id\":\"36309\",\"type\":\"UnionRenderers\"},{\"attributes\":{},\"id\":\"37089\",\"type\":\"Selection\"},{\"attributes\":{\"source\":{\"id\":\"36294\",\"type\":\"ColumnDataSource\"}},\"id\":\"36299\",\"type\":\"CDSView\"},{\"attributes\":{\"overlay\":{\"id\":\"36252\",\"type\":\"BoxAnnotation\"}},\"id\":\"36246\",\"type\":\"BoxZoomTool\"},{\"attributes\":{},\"id\":\"36308\",\"type\":\"Selection\"},{\"attributes\":{},\"id\":\"36274\",\"type\":\"CategoricalTickFormatter\"},{\"attributes\":{},\"id\":\"36247\",\"type\":\"SaveTool\"},{\"attributes\":{\"formatter\":{\"id\":\"36272\",\"type\":\"BasicTickFormatter\"},\"minor_tick_line_color\":{\"value\":null},\"plot\":{\"id\":\"36225\",\"subtype\":\"Figure\",\"type\":\"Plot\"},\"ticker\":{\"id\":\"36240\",\"type\":\"BasicTicker\"}},\"id\":\"36239\",\"type\":\"LinearAxis\"},{\"attributes\":{\"items\":[{\"id\":\"36278\",\"type\":\"LegendItem\"},{\"id\":\"36293\",\"type\":\"LegendItem\"},{\"id\":\"36310\",\"type\":\"LegendItem\"}],\"location\":\"top_left\",\"orientation\":\"horizontal\",\"plot\":{\"id\":\"36225\",\"subtype\":\"Figure\",\"type\":\"Plot\"}},\"id\":\"36277\",\"type\":\"Legend\"},{\"attributes\":{},\"id\":\"36248\",\"type\":\"ResetTool\"},{\"attributes\":{\"callback\":null,\"start\":0},\"id\":\"36229\",\"type\":\"DataRange1d\"},{\"attributes\":{\"label\":{\"value\":\"bi\"},\"renderers\":[{\"id\":\"36298\",\"type\":\"GlyphRenderer\"}]},\"id\":\"36310\",\"type\":\"LegendItem\"},{\"attributes\":{},\"id\":\"36231\",\"type\":\"CategoricalScale\"},{\"attributes\":{\"label\":{\"value\":\"geom\"},\"renderers\":[{\"id\":\"36269\",\"type\":\"GlyphRenderer\"}]},\"id\":\"36278\",\"type\":\"LegendItem\"},{\"attributes\":{},\"id\":\"36249\",\"type\":\"HelpTool\"},{\"attributes\":{},\"id\":\"37090\",\"type\":\"UnionRenderers\"},{\"attributes\":{\"callback\":null,\"data\":{\"bi\":[0,0,4,0,0],\"geom\":[1193353,1229065,1287477,1292851,0],\"no-geo\":[23,48,4,5,1334620],\"years\":[\"2012\",\"2013\",\"2014\",\"2015\",\"2016\"]},\"selected\":{\"id\":\"36308\",\"type\":\"Selection\"},\"selection_policy\":{\"id\":\"36309\",\"type\":\"UnionRenderers\"}},\"id\":\"36279\",\"type\":\"ColumnDataSource\"},{\"attributes\":{\"active_drag\":\"auto\",\"active_inspect\":\"auto\",\"active_multi\":null,\"active_scroll\":\"auto\",\"active_tap\":\"auto\",\"tools\":[{\"id\":\"36244\",\"type\":\"PanTool\"},{\"id\":\"36245\",\"type\":\"WheelZoomTool\"},{\"id\":\"36246\",\"type\":\"BoxZoomTool\"},{\"id\":\"36247\",\"type\":\"SaveTool\"},{\"id\":\"36248\",\"type\":\"ResetTool\"},{\"id\":\"36249\",\"type\":\"HelpTool\"}]},\"id\":\"36250\",\"type\":\"Toolbar\"},{\"attributes\":{},\"id\":\"36233\",\"type\":\"LinearScale\"},{\"attributes\":{\"formatter\":{\"id\":\"36274\",\"type\":\"CategoricalTickFormatter\"},\"minor_tick_line_color\":{\"value\":null},\"plot\":{\"id\":\"36225\",\"subtype\":\"Figure\",\"type\":\"Plot\"},\"ticker\":{\"id\":\"36236\",\"type\":\"CategoricalTicker\"}},\"id\":\"36235\",\"type\":\"CategoricalAxis\"},{\"attributes\":{\"bottom_units\":\"screen\",\"fill_alpha\":{\"value\":0.5},\"fill_color\":{\"value\":\"lightgrey\"},\"left_units\":\"screen\",\"level\":\"overlay\",\"line_alpha\":{\"value\":1.0},\"line_color\":{\"value\":\"black\"},\"line_dash\":[4,4],\"line_width\":{\"value\":2},\"plot\":null,\"render_mode\":\"css\",\"right_units\":\"screen\",\"top_units\":\"screen\"},\"id\":\"36252\",\"type\":\"BoxAnnotation\"},{\"attributes\":{},\"id\":\"36236\",\"type\":\"CategoricalTicker\"},{\"attributes\":{\"label\":{\"value\":\"no-geo\"},\"renderers\":[{\"id\":\"36283\",\"type\":\"GlyphRenderer\"}]},\"id\":\"36293\",\"type\":\"LegendItem\"},{\"attributes\":{\"callback\":null,\"data\":{\"bi\":[0,0,4,0,0],\"geom\":[1193353,1229065,1287477,1292851,0],\"no-geo\":[23,48,4,5,1334620],\"years\":[\"2012\",\"2013\",\"2014\",\"2015\",\"2016\"]},\"selected\":{\"id\":\"37089\",\"type\":\"Selection\"},\"selection_policy\":{\"id\":\"37090\",\"type\":\"UnionRenderers\"}},\"id\":\"36294\",\"type\":\"ColumnDataSource\"},{\"attributes\":{\"fields\":[\"geom\",\"no-geo\"]},\"id\":\"36262\",\"type\":\"Stack\"},{\"attributes\":{\"bottom\":{\"expr\":{\"id\":\"36261\",\"type\":\"Stack\"}},\"fill_color\":{\"value\":\"#e84d60\"},\"line_color\":{\"value\":\"#e84d60\"},\"top\":{\"expr\":{\"id\":\"36262\",\"type\":\"Stack\"}},\"width\":{\"value\":0.9},\"x\":{\"field\":\"years\"}},\"id\":\"36281\",\"type\":\"VBar\"},{\"attributes\":{\"grid_line_color\":{\"value\":null},\"plot\":{\"id\":\"36225\",\"subtype\":\"Figure\",\"type\":\"Plot\"},\"ticker\":{\"id\":\"36236\",\"type\":\"CategoricalTicker\"}},\"id\":\"36238\",\"type\":\"Grid\"},{\"attributes\":{\"fields\":[\"geom\",\"no-geo\"]},\"id\":\"36263\",\"type\":\"Stack\"},{\"attributes\":{\"bottom\":{\"expr\":{\"id\":\"36261\",\"type\":\"Stack\"}},\"fill_alpha\":{\"value\":0.1},\"fill_color\":{\"value\":\"#1f77b4\"},\"line_alpha\":{\"value\":0.1},\"line_color\":{\"value\":\"#1f77b4\"},\"top\":{\"expr\":{\"id\":\"36262\",\"type\":\"Stack\"}},\"width\":{\"value\":0.9},\"x\":{\"field\":\"years\"}},\"id\":\"36282\",\"type\":\"VBar\"},{\"attributes\":{\"fields\":[\"geom\",\"no-geo\",\"bi\"]},\"id\":\"36264\",\"type\":\"Stack\"},{\"attributes\":{\"data_source\":{\"id\":\"36279\",\"type\":\"ColumnDataSource\"},\"glyph\":{\"id\":\"36281\",\"type\":\"VBar\"},\"hover_glyph\":null,\"muted_glyph\":null,\"name\":\"no-geo\",\"nonselection_glyph\":{\"id\":\"36282\",\"type\":\"VBar\"},\"selection_glyph\":null,\"view\":{\"id\":\"36284\",\"type\":\"CDSView\"}},\"id\":\"36283\",\"type\":\"GlyphRenderer\"},{\"attributes\":{\"callback\":null,\"factors\":[\"2012\",\"2013\",\"2014\",\"2015\",\"2016\"],\"range_padding\":0.1},\"id\":\"36227\",\"type\":\"FactorRange\"},{\"attributes\":{\"callback\":null,\"data\":{\"bi\":[0,0,4,0,0],\"geom\":[1193353,1229065,1287477,1292851,0],\"no-geo\":[23,48,4,5,1334620],\"years\":[\"2012\",\"2013\",\"2014\",\"2015\",\"2016\"]},\"selected\":{\"id\":\"36291\",\"type\":\"Selection\"},\"selection_policy\":{\"id\":\"36292\",\"type\":\"UnionRenderers\"}},\"id\":\"36265\",\"type\":\"ColumnDataSource\"},{\"attributes\":{\"source\":{\"id\":\"36279\",\"type\":\"ColumnDataSource\"}},\"id\":\"36284\",\"type\":\"CDSView\"},{\"attributes\":{\"plot\":null,\"text\":\"IL\"},\"id\":\"36224\",\"type\":\"Title\"},{\"attributes\":{},\"id\":\"36291\",\"type\":\"Selection\"},{\"attributes\":{\"fields\":[]},\"id\":\"36259\",\"type\":\"Stack\"},{\"attributes\":{},\"id\":\"36292\",\"type\":\"UnionRenderers\"},{\"attributes\":{\"bottom\":{\"expr\":{\"id\":\"36259\",\"type\":\"Stack\"}},\"fill_color\":{\"value\":\"#5CC9F5\"},\"line_color\":{\"value\":\"#5CC9F5\"},\"top\":{\"expr\":{\"id\":\"36260\",\"type\":\"Stack\"}},\"width\":{\"value\":0.9},\"x\":{\"field\":\"years\"}},\"id\":\"36267\",\"type\":\"VBar\"},{\"attributes\":{\"bottom\":{\"expr\":{\"id\":\"36263\",\"type\":\"Stack\"}},\"fill_color\":{\"value\":\"#cccccc\"},\"line_color\":{\"value\":\"#cccccc\"},\"top\":{\"expr\":{\"id\":\"36264\",\"type\":\"Stack\"}},\"width\":{\"value\":0.9},\"x\":{\"field\":\"years\"}},\"id\":\"36296\",\"type\":\"VBar\"},{\"attributes\":{\"bottom\":{\"expr\":{\"id\":\"36259\",\"type\":\"Stack\"}},\"fill_alpha\":{\"value\":0.1},\"fill_color\":{\"value\":\"#1f77b4\"},\"line_alpha\":{\"value\":0.1},\"line_color\":{\"value\":\"#1f77b4\"},\"top\":{\"expr\":{\"id\":\"36260\",\"type\":\"Stack\"}},\"width\":{\"value\":0.9},\"x\":{\"field\":\"years\"}},\"id\":\"36268\",\"type\":\"VBar\"}],\"root_ids\":[\"36225\"]},\"title\":\"Bokeh Application\",\"version\":\"1.0.0\"}};\n",
       "  var render_items = [{\"docid\":\"7e70497a-6b10-4ef6-bfd3-23b266a9a92f\",\"roots\":{\"36225\":\"ef02fed8-8136-426e-96ee-e97580d5c5a9\"}}];\n",
       "  root.Bokeh.embed.embed_items_notebook(docs_json, render_items);\n",
       "\n",
       "  }\n",
       "  if (root.Bokeh !== undefined) {\n",
       "    embed_document(root);\n",
       "  } else {\n",
       "    var attempts = 0;\n",
       "    var timer = setInterval(function(root) {\n",
       "      if (root.Bokeh !== undefined) {\n",
       "        embed_document(root);\n",
       "        clearInterval(timer);\n",
       "      }\n",
       "      attempts++;\n",
       "      if (attempts > 100) {\n",
       "        console.log(\"Bokeh: ERROR: Unable to run BokehJS code because BokehJS library is missing\");\n",
       "        clearInterval(timer);\n",
       "      }\n",
       "    }, 10, root)\n",
       "  }\n",
       "})(window);"
      ],
      "application/vnd.bokehjs_exec.v0+json": ""
     },
     "metadata": {
      "application/vnd.bokehjs_exec.v0+json": {
       "id": "36225"
      }
     },
     "output_type": "display_data"
    },
    {
     "data": {
      "text/html": [
       "\n",
       "\n",
       "\n",
       "\n",
       "\n",
       "\n",
       "  <div class=\"bk-root\" id=\"b0ad6a11-7cec-4c0d-be60-01c03255c9af\"></div>\n"
      ]
     },
     "metadata": {},
     "output_type": "display_data"
    },
    {
     "data": {
      "application/javascript": [
       "(function(root) {\n",
       "  function embed_document(root) {\n",
       "    \n",
       "  var docs_json = {\"c7591717-2896-456d-addf-d722c9658fc1\":{\"roots\":{\"references\":[{\"attributes\":{\"below\":[{\"id\":\"37174\",\"type\":\"CategoricalAxis\"}],\"left\":[{\"id\":\"37178\",\"type\":\"LinearAxis\"}],\"outline_line_color\":{\"value\":null},\"plot_height\":250,\"renderers\":[{\"id\":\"37174\",\"type\":\"CategoricalAxis\"},{\"id\":\"37177\",\"type\":\"Grid\"},{\"id\":\"37178\",\"type\":\"LinearAxis\"},{\"id\":\"37182\",\"type\":\"Grid\"},{\"id\":\"37191\",\"type\":\"BoxAnnotation\"},{\"id\":\"37216\",\"type\":\"Legend\"},{\"id\":\"37208\",\"type\":\"GlyphRenderer\"},{\"id\":\"37222\",\"type\":\"GlyphRenderer\"},{\"id\":\"37237\",\"type\":\"GlyphRenderer\"}],\"title\":{\"id\":\"37163\",\"type\":\"Title\"},\"toolbar\":{\"id\":\"37189\",\"type\":\"Toolbar\"},\"toolbar_location\":null,\"x_range\":{\"id\":\"37166\",\"type\":\"FactorRange\"},\"x_scale\":{\"id\":\"37170\",\"type\":\"CategoricalScale\"},\"y_range\":{\"id\":\"37168\",\"type\":\"DataRange1d\"},\"y_scale\":{\"id\":\"37172\",\"type\":\"LinearScale\"}},\"id\":\"37164\",\"subtype\":\"Figure\",\"type\":\"Plot\"},{\"attributes\":{},\"id\":\"37231\",\"type\":\"UnionRenderers\"},{\"attributes\":{\"active_drag\":\"auto\",\"active_inspect\":\"auto\",\"active_multi\":null,\"active_scroll\":\"auto\",\"active_tap\":\"auto\",\"tools\":[{\"id\":\"37183\",\"type\":\"PanTool\"},{\"id\":\"37184\",\"type\":\"WheelZoomTool\"},{\"id\":\"37185\",\"type\":\"BoxZoomTool\"},{\"id\":\"37186\",\"type\":\"SaveTool\"},{\"id\":\"37187\",\"type\":\"ResetTool\"},{\"id\":\"37188\",\"type\":\"HelpTool\"}]},\"id\":\"37189\",\"type\":\"Toolbar\"},{\"attributes\":{\"bottom_units\":\"screen\",\"fill_alpha\":{\"value\":0.5},\"fill_color\":{\"value\":\"lightgrey\"},\"left_units\":\"screen\",\"level\":\"overlay\",\"line_alpha\":{\"value\":1.0},\"line_color\":{\"value\":\"black\"},\"line_dash\":[4,4],\"line_width\":{\"value\":2},\"plot\":null,\"render_mode\":\"css\",\"right_units\":\"screen\",\"top_units\":\"screen\"},\"id\":\"37191\",\"type\":\"BoxAnnotation\"},{\"attributes\":{},\"id\":\"37188\",\"type\":\"HelpTool\"},{\"attributes\":{\"label\":{\"value\":\"no-geo\"},\"renderers\":[{\"id\":\"37222\",\"type\":\"GlyphRenderer\"}]},\"id\":\"37232\",\"type\":\"LegendItem\"},{\"attributes\":{\"formatter\":{\"id\":\"37213\",\"type\":\"CategoricalTickFormatter\"},\"minor_tick_line_color\":{\"value\":null},\"plot\":{\"id\":\"37164\",\"subtype\":\"Figure\",\"type\":\"Plot\"},\"ticker\":{\"id\":\"37175\",\"type\":\"CategoricalTicker\"}},\"id\":\"37174\",\"type\":\"CategoricalAxis\"},{\"attributes\":{},\"id\":\"37175\",\"type\":\"CategoricalTicker\"},{\"attributes\":{\"callback\":null,\"data\":{\"bi\":[0,0,0,36,0],\"geom\":[386409,319494,75964,299701,0],\"no-geo\":[41520,35899,0,1,287546],\"years\":[\"2012\",\"2013\",\"2014\",\"2015\",\"2016\"]},\"selected\":{\"id\":\"38040\",\"type\":\"Selection\"},\"selection_policy\":{\"id\":\"38041\",\"type\":\"UnionRenderers\"}},\"id\":\"37233\",\"type\":\"ColumnDataSource\"},{\"attributes\":{\"fields\":[\"geom\",\"no-geo\"]},\"id\":\"37202\",\"type\":\"Stack\"},{\"attributes\":{\"grid_line_color\":{\"value\":null},\"plot\":{\"id\":\"37164\",\"subtype\":\"Figure\",\"type\":\"Plot\"},\"ticker\":{\"id\":\"37175\",\"type\":\"CategoricalTicker\"}},\"id\":\"37177\",\"type\":\"Grid\"},{\"attributes\":{\"fields\":[\"geom\",\"no-geo\",\"bi\"]},\"id\":\"37203\",\"type\":\"Stack\"},{\"attributes\":{\"callback\":null,\"factors\":[\"2012\",\"2013\",\"2014\",\"2015\",\"2016\"],\"range_padding\":0.1},\"id\":\"37166\",\"type\":\"FactorRange\"},{\"attributes\":{\"bottom\":{\"expr\":{\"id\":\"37202\",\"type\":\"Stack\"}},\"fill_color\":{\"value\":\"#cccccc\"},\"line_color\":{\"value\":\"#cccccc\"},\"top\":{\"expr\":{\"id\":\"37203\",\"type\":\"Stack\"}},\"width\":{\"value\":0.9},\"x\":{\"field\":\"years\"}},\"id\":\"37235\",\"type\":\"VBar\"},{\"attributes\":{\"callback\":null,\"data\":{\"bi\":[0,0,0,36,0],\"geom\":[386409,319494,75964,299701,0],\"no-geo\":[41520,35899,0,1,287546],\"years\":[\"2012\",\"2013\",\"2014\",\"2015\",\"2016\"]},\"selected\":{\"id\":\"37230\",\"type\":\"Selection\"},\"selection_policy\":{\"id\":\"37231\",\"type\":\"UnionRenderers\"}},\"id\":\"37204\",\"type\":\"ColumnDataSource\"},{\"attributes\":{\"bottom\":{\"expr\":{\"id\":\"37202\",\"type\":\"Stack\"}},\"fill_alpha\":{\"value\":0.1},\"fill_color\":{\"value\":\"#1f77b4\"},\"line_alpha\":{\"value\":0.1},\"line_color\":{\"value\":\"#1f77b4\"},\"top\":{\"expr\":{\"id\":\"37203\",\"type\":\"Stack\"}},\"width\":{\"value\":0.9},\"x\":{\"field\":\"years\"}},\"id\":\"37236\",\"type\":\"VBar\"},{\"attributes\":{\"plot\":null,\"text\":\"IN\"},\"id\":\"37163\",\"type\":\"Title\"},{\"attributes\":{\"bottom\":{\"expr\":{\"id\":\"37198\",\"type\":\"Stack\"}},\"fill_color\":{\"value\":\"#5CC9F5\"},\"line_color\":{\"value\":\"#5CC9F5\"},\"top\":{\"expr\":{\"id\":\"37199\",\"type\":\"Stack\"}},\"width\":{\"value\":0.9},\"x\":{\"field\":\"years\"}},\"id\":\"37206\",\"type\":\"VBar\"},{\"attributes\":{\"data_source\":{\"id\":\"37233\",\"type\":\"ColumnDataSource\"},\"glyph\":{\"id\":\"37235\",\"type\":\"VBar\"},\"hover_glyph\":null,\"muted_glyph\":null,\"name\":\"bi\",\"nonselection_glyph\":{\"id\":\"37236\",\"type\":\"VBar\"},\"selection_glyph\":null,\"view\":{\"id\":\"37238\",\"type\":\"CDSView\"}},\"id\":\"37237\",\"type\":\"GlyphRenderer\"},{\"attributes\":{\"fields\":[\"geom\"]},\"id\":\"37200\",\"type\":\"Stack\"},{\"attributes\":{\"label\":{\"value\":\"geom\"},\"renderers\":[{\"id\":\"37208\",\"type\":\"GlyphRenderer\"}]},\"id\":\"37217\",\"type\":\"LegendItem\"},{\"attributes\":{\"bottom\":{\"expr\":{\"id\":\"37198\",\"type\":\"Stack\"}},\"fill_alpha\":{\"value\":0.1},\"fill_color\":{\"value\":\"#1f77b4\"},\"line_alpha\":{\"value\":0.1},\"line_color\":{\"value\":\"#1f77b4\"},\"top\":{\"expr\":{\"id\":\"37199\",\"type\":\"Stack\"}},\"width\":{\"value\":0.9},\"x\":{\"field\":\"years\"}},\"id\":\"37207\",\"type\":\"VBar\"},{\"attributes\":{\"source\":{\"id\":\"37233\",\"type\":\"ColumnDataSource\"}},\"id\":\"37238\",\"type\":\"CDSView\"},{\"attributes\":{\"fields\":[\"geom\",\"no-geo\"]},\"id\":\"37201\",\"type\":\"Stack\"},{\"attributes\":{\"data_source\":{\"id\":\"37204\",\"type\":\"ColumnDataSource\"},\"glyph\":{\"id\":\"37206\",\"type\":\"VBar\"},\"hover_glyph\":null,\"muted_glyph\":null,\"name\":\"geom\",\"nonselection_glyph\":{\"id\":\"37207\",\"type\":\"VBar\"},\"selection_glyph\":null,\"view\":{\"id\":\"37209\",\"type\":\"CDSView\"}},\"id\":\"37208\",\"type\":\"GlyphRenderer\"},{\"attributes\":{},\"id\":\"37247\",\"type\":\"Selection\"},{\"attributes\":{\"source\":{\"id\":\"37204\",\"type\":\"ColumnDataSource\"}},\"id\":\"37209\",\"type\":\"CDSView\"},{\"attributes\":{},\"id\":\"37248\",\"type\":\"UnionRenderers\"},{\"attributes\":{},\"id\":\"37211\",\"type\":\"BasicTickFormatter\"},{\"attributes\":{\"label\":{\"value\":\"bi\"},\"renderers\":[{\"id\":\"37237\",\"type\":\"GlyphRenderer\"}]},\"id\":\"37249\",\"type\":\"LegendItem\"},{\"attributes\":{},\"id\":\"38040\",\"type\":\"Selection\"},{\"attributes\":{\"callback\":null,\"start\":0},\"id\":\"37168\",\"type\":\"DataRange1d\"},{\"attributes\":{},\"id\":\"38041\",\"type\":\"UnionRenderers\"},{\"attributes\":{},\"id\":\"37213\",\"type\":\"CategoricalTickFormatter\"},{\"attributes\":{\"items\":[{\"id\":\"37217\",\"type\":\"LegendItem\"},{\"id\":\"37232\",\"type\":\"LegendItem\"},{\"id\":\"37249\",\"type\":\"LegendItem\"}],\"location\":\"top_left\",\"orientation\":\"horizontal\",\"plot\":{\"id\":\"37164\",\"subtype\":\"Figure\",\"type\":\"Plot\"}},\"id\":\"37216\",\"type\":\"Legend\"},{\"attributes\":{\"formatter\":{\"id\":\"37211\",\"type\":\"BasicTickFormatter\"},\"minor_tick_line_color\":{\"value\":null},\"plot\":{\"id\":\"37164\",\"subtype\":\"Figure\",\"type\":\"Plot\"},\"ticker\":{\"id\":\"37179\",\"type\":\"BasicTicker\"}},\"id\":\"37178\",\"type\":\"LinearAxis\"},{\"attributes\":{\"fields\":[\"geom\"]},\"id\":\"37199\",\"type\":\"Stack\"},{\"attributes\":{\"dimension\":1,\"plot\":{\"id\":\"37164\",\"subtype\":\"Figure\",\"type\":\"Plot\"},\"ticker\":{\"id\":\"37179\",\"type\":\"BasicTicker\"}},\"id\":\"37182\",\"type\":\"Grid\"},{\"attributes\":{},\"id\":\"37179\",\"type\":\"BasicTicker\"},{\"attributes\":{\"bottom\":{\"expr\":{\"id\":\"37200\",\"type\":\"Stack\"}},\"fill_color\":{\"value\":\"#e84d60\"},\"line_color\":{\"value\":\"#e84d60\"},\"top\":{\"expr\":{\"id\":\"37201\",\"type\":\"Stack\"}},\"width\":{\"value\":0.9},\"x\":{\"field\":\"years\"}},\"id\":\"37220\",\"type\":\"VBar\"},{\"attributes\":{\"fields\":[]},\"id\":\"37198\",\"type\":\"Stack\"},{\"attributes\":{\"bottom\":{\"expr\":{\"id\":\"37200\",\"type\":\"Stack\"}},\"fill_alpha\":{\"value\":0.1},\"fill_color\":{\"value\":\"#1f77b4\"},\"line_alpha\":{\"value\":0.1},\"line_color\":{\"value\":\"#1f77b4\"},\"top\":{\"expr\":{\"id\":\"37201\",\"type\":\"Stack\"}},\"width\":{\"value\":0.9},\"x\":{\"field\":\"years\"}},\"id\":\"37221\",\"type\":\"VBar\"},{\"attributes\":{},\"id\":\"37187\",\"type\":\"ResetTool\"},{\"attributes\":{},\"id\":\"37170\",\"type\":\"CategoricalScale\"},{\"attributes\":{\"data_source\":{\"id\":\"37218\",\"type\":\"ColumnDataSource\"},\"glyph\":{\"id\":\"37220\",\"type\":\"VBar\"},\"hover_glyph\":null,\"muted_glyph\":null,\"name\":\"no-geo\",\"nonselection_glyph\":{\"id\":\"37221\",\"type\":\"VBar\"},\"selection_glyph\":null,\"view\":{\"id\":\"37223\",\"type\":\"CDSView\"}},\"id\":\"37222\",\"type\":\"GlyphRenderer\"},{\"attributes\":{\"overlay\":{\"id\":\"37191\",\"type\":\"BoxAnnotation\"}},\"id\":\"37185\",\"type\":\"BoxZoomTool\"},{\"attributes\":{\"source\":{\"id\":\"37218\",\"type\":\"ColumnDataSource\"}},\"id\":\"37223\",\"type\":\"CDSView\"},{\"attributes\":{},\"id\":\"37184\",\"type\":\"WheelZoomTool\"},{\"attributes\":{},\"id\":\"37172\",\"type\":\"LinearScale\"},{\"attributes\":{\"callback\":null,\"data\":{\"bi\":[0,0,0,36,0],\"geom\":[386409,319494,75964,299701,0],\"no-geo\":[41520,35899,0,1,287546],\"years\":[\"2012\",\"2013\",\"2014\",\"2015\",\"2016\"]},\"selected\":{\"id\":\"37247\",\"type\":\"Selection\"},\"selection_policy\":{\"id\":\"37248\",\"type\":\"UnionRenderers\"}},\"id\":\"37218\",\"type\":\"ColumnDataSource\"},{\"attributes\":{},\"id\":\"37230\",\"type\":\"Selection\"},{\"attributes\":{},\"id\":\"37183\",\"type\":\"PanTool\"},{\"attributes\":{},\"id\":\"37186\",\"type\":\"SaveTool\"}],\"root_ids\":[\"37164\"]},\"title\":\"Bokeh Application\",\"version\":\"1.0.0\"}};\n",
       "  var render_items = [{\"docid\":\"c7591717-2896-456d-addf-d722c9658fc1\",\"roots\":{\"37164\":\"b0ad6a11-7cec-4c0d-be60-01c03255c9af\"}}];\n",
       "  root.Bokeh.embed.embed_items_notebook(docs_json, render_items);\n",
       "\n",
       "  }\n",
       "  if (root.Bokeh !== undefined) {\n",
       "    embed_document(root);\n",
       "  } else {\n",
       "    var attempts = 0;\n",
       "    var timer = setInterval(function(root) {\n",
       "      if (root.Bokeh !== undefined) {\n",
       "        embed_document(root);\n",
       "        clearInterval(timer);\n",
       "      }\n",
       "      attempts++;\n",
       "      if (attempts > 100) {\n",
       "        console.log(\"Bokeh: ERROR: Unable to run BokehJS code because BokehJS library is missing\");\n",
       "        clearInterval(timer);\n",
       "      }\n",
       "    }, 10, root)\n",
       "  }\n",
       "})(window);"
      ],
      "application/vnd.bokehjs_exec.v0+json": ""
     },
     "metadata": {
      "application/vnd.bokehjs_exec.v0+json": {
       "id": "37164"
      }
     },
     "output_type": "display_data"
    },
    {
     "data": {
      "text/html": [
       "\n",
       "\n",
       "\n",
       "\n",
       "\n",
       "\n",
       "  <div class=\"bk-root\" id=\"cc055788-774e-4c9b-90fb-d76f60265a4e\"></div>\n"
      ]
     },
     "metadata": {},
     "output_type": "display_data"
    },
    {
     "data": {
      "application/javascript": [
       "(function(root) {\n",
       "  function embed_document(root) {\n",
       "    \n",
       "  var docs_json = {\"bc7a8dfd-1726-492a-88e0-e4bd30997cb3\":{\"roots\":{\"references\":[{\"attributes\":{\"below\":[{\"id\":\"38125\",\"type\":\"CategoricalAxis\"}],\"left\":[{\"id\":\"38129\",\"type\":\"LinearAxis\"}],\"outline_line_color\":{\"value\":null},\"plot_height\":250,\"renderers\":[{\"id\":\"38125\",\"type\":\"CategoricalAxis\"},{\"id\":\"38128\",\"type\":\"Grid\"},{\"id\":\"38129\",\"type\":\"LinearAxis\"},{\"id\":\"38133\",\"type\":\"Grid\"},{\"id\":\"38142\",\"type\":\"BoxAnnotation\"},{\"id\":\"38167\",\"type\":\"Legend\"},{\"id\":\"38159\",\"type\":\"GlyphRenderer\"},{\"id\":\"38173\",\"type\":\"GlyphRenderer\"},{\"id\":\"38188\",\"type\":\"GlyphRenderer\"}],\"title\":{\"id\":\"38114\",\"type\":\"Title\"},\"toolbar\":{\"id\":\"38140\",\"type\":\"Toolbar\"},\"toolbar_location\":null,\"x_range\":{\"id\":\"38117\",\"type\":\"FactorRange\"},\"x_scale\":{\"id\":\"38121\",\"type\":\"CategoricalScale\"},\"y_range\":{\"id\":\"38119\",\"type\":\"DataRange1d\"},\"y_scale\":{\"id\":\"38123\",\"type\":\"LinearScale\"}},\"id\":\"38115\",\"subtype\":\"Figure\",\"type\":\"Plot\"},{\"attributes\":{\"callback\":null,\"data\":{\"bi\":[0,0,0,0,0],\"geom\":[152366,157978,176167,140317,0],\"no-geo\":[9204,8337,0,2,171869],\"years\":[\"2012\",\"2013\",\"2014\",\"2015\",\"2016\"]},\"selected\":{\"id\":\"38198\",\"type\":\"Selection\"},\"selection_policy\":{\"id\":\"38199\",\"type\":\"UnionRenderers\"}},\"id\":\"38169\",\"type\":\"ColumnDataSource\"},{\"attributes\":{\"source\":{\"id\":\"38184\",\"type\":\"ColumnDataSource\"}},\"id\":\"38189\",\"type\":\"CDSView\"},{\"attributes\":{},\"id\":\"38139\",\"type\":\"HelpTool\"},{\"attributes\":{\"bottom\":{\"expr\":{\"id\":\"38153\",\"type\":\"Stack\"}},\"fill_alpha\":{\"value\":0.1},\"fill_color\":{\"value\":\"#1f77b4\"},\"line_alpha\":{\"value\":0.1},\"line_color\":{\"value\":\"#1f77b4\"},\"top\":{\"expr\":{\"id\":\"38154\",\"type\":\"Stack\"}},\"width\":{\"value\":0.9},\"x\":{\"field\":\"years\"}},\"id\":\"38187\",\"type\":\"VBar\"},{\"attributes\":{\"callback\":null,\"factors\":[\"2012\",\"2013\",\"2014\",\"2015\",\"2016\"],\"range_padding\":0.1},\"id\":\"38117\",\"type\":\"FactorRange\"},{\"attributes\":{\"active_drag\":\"auto\",\"active_inspect\":\"auto\",\"active_multi\":null,\"active_scroll\":\"auto\",\"active_tap\":\"auto\",\"tools\":[{\"id\":\"38134\",\"type\":\"PanTool\"},{\"id\":\"38135\",\"type\":\"WheelZoomTool\"},{\"id\":\"38136\",\"type\":\"BoxZoomTool\"},{\"id\":\"38137\",\"type\":\"SaveTool\"},{\"id\":\"38138\",\"type\":\"ResetTool\"},{\"id\":\"38139\",\"type\":\"HelpTool\"}]},\"id\":\"38140\",\"type\":\"Toolbar\"},{\"attributes\":{\"callback\":null,\"start\":0},\"id\":\"38119\",\"type\":\"DataRange1d\"},{\"attributes\":{},\"id\":\"38199\",\"type\":\"UnionRenderers\"},{\"attributes\":{\"bottom_units\":\"screen\",\"fill_alpha\":{\"value\":0.5},\"fill_color\":{\"value\":\"lightgrey\"},\"left_units\":\"screen\",\"level\":\"overlay\",\"line_alpha\":{\"value\":1.0},\"line_color\":{\"value\":\"black\"},\"line_dash\":[4,4],\"line_width\":{\"value\":2},\"plot\":null,\"render_mode\":\"css\",\"right_units\":\"screen\",\"top_units\":\"screen\"},\"id\":\"38142\",\"type\":\"BoxAnnotation\"},{\"attributes\":{},\"id\":\"38121\",\"type\":\"CategoricalScale\"},{\"attributes\":{\"bottom\":{\"expr\":{\"id\":\"38151\",\"type\":\"Stack\"}},\"fill_color\":{\"value\":\"#e84d60\"},\"line_color\":{\"value\":\"#e84d60\"},\"top\":{\"expr\":{\"id\":\"38152\",\"type\":\"Stack\"}},\"width\":{\"value\":0.9},\"x\":{\"field\":\"years\"}},\"id\":\"38171\",\"type\":\"VBar\"},{\"attributes\":{},\"id\":\"38123\",\"type\":\"LinearScale\"},{\"attributes\":{\"bottom\":{\"expr\":{\"id\":\"38151\",\"type\":\"Stack\"}},\"fill_alpha\":{\"value\":0.1},\"fill_color\":{\"value\":\"#1f77b4\"},\"line_alpha\":{\"value\":0.1},\"line_color\":{\"value\":\"#1f77b4\"},\"top\":{\"expr\":{\"id\":\"38152\",\"type\":\"Stack\"}},\"width\":{\"value\":0.9},\"x\":{\"field\":\"years\"}},\"id\":\"38172\",\"type\":\"VBar\"},{\"attributes\":{\"fields\":[\"geom\",\"no-geo\"]},\"id\":\"38153\",\"type\":\"Stack\"},{\"attributes\":{\"formatter\":{\"id\":\"38164\",\"type\":\"CategoricalTickFormatter\"},\"minor_tick_line_color\":{\"value\":null},\"plot\":{\"id\":\"38115\",\"subtype\":\"Figure\",\"type\":\"Plot\"},\"ticker\":{\"id\":\"38126\",\"type\":\"CategoricalTicker\"}},\"id\":\"38125\",\"type\":\"CategoricalAxis\"},{\"attributes\":{\"data_source\":{\"id\":\"38169\",\"type\":\"ColumnDataSource\"},\"glyph\":{\"id\":\"38171\",\"type\":\"VBar\"},\"hover_glyph\":null,\"muted_glyph\":null,\"name\":\"no-geo\",\"nonselection_glyph\":{\"id\":\"38172\",\"type\":\"VBar\"},\"selection_glyph\":null,\"view\":{\"id\":\"38174\",\"type\":\"CDSView\"}},\"id\":\"38173\",\"type\":\"GlyphRenderer\"},{\"attributes\":{\"fields\":[\"geom\",\"no-geo\",\"bi\"]},\"id\":\"38154\",\"type\":\"Stack\"},{\"attributes\":{},\"id\":\"38126\",\"type\":\"CategoricalTicker\"},{\"attributes\":{\"source\":{\"id\":\"38169\",\"type\":\"ColumnDataSource\"}},\"id\":\"38174\",\"type\":\"CDSView\"},{\"attributes\":{\"callback\":null,\"data\":{\"bi\":[0,0,0,0,0],\"geom\":[152366,157978,176167,140317,0],\"no-geo\":[9204,8337,0,2,171869],\"years\":[\"2012\",\"2013\",\"2014\",\"2015\",\"2016\"]},\"selected\":{\"id\":\"38181\",\"type\":\"Selection\"},\"selection_policy\":{\"id\":\"38182\",\"type\":\"UnionRenderers\"}},\"id\":\"38155\",\"type\":\"ColumnDataSource\"},{\"attributes\":{\"grid_line_color\":{\"value\":null},\"plot\":{\"id\":\"38115\",\"subtype\":\"Figure\",\"type\":\"Plot\"},\"ticker\":{\"id\":\"38126\",\"type\":\"CategoricalTicker\"}},\"id\":\"38128\",\"type\":\"Grid\"},{\"attributes\":{\"callback\":null,\"data\":{\"bi\":[0,0,0,0,0],\"geom\":[152366,157978,176167,140317,0],\"no-geo\":[9204,8337,0,2,171869],\"years\":[\"2012\",\"2013\",\"2014\",\"2015\",\"2016\"]},\"selected\":{\"id\":\"39003\",\"type\":\"Selection\"},\"selection_policy\":{\"id\":\"39004\",\"type\":\"UnionRenderers\"}},\"id\":\"38184\",\"type\":\"ColumnDataSource\"},{\"attributes\":{},\"id\":\"38182\",\"type\":\"UnionRenderers\"},{\"attributes\":{\"data_source\":{\"id\":\"38184\",\"type\":\"ColumnDataSource\"},\"glyph\":{\"id\":\"38186\",\"type\":\"VBar\"},\"hover_glyph\":null,\"muted_glyph\":null,\"name\":\"bi\",\"nonselection_glyph\":{\"id\":\"38187\",\"type\":\"VBar\"},\"selection_glyph\":null,\"view\":{\"id\":\"38189\",\"type\":\"CDSView\"}},\"id\":\"38188\",\"type\":\"GlyphRenderer\"},{\"attributes\":{\"formatter\":{\"id\":\"38162\",\"type\":\"BasicTickFormatter\"},\"minor_tick_line_color\":{\"value\":null},\"plot\":{\"id\":\"38115\",\"subtype\":\"Figure\",\"type\":\"Plot\"},\"ticker\":{\"id\":\"38130\",\"type\":\"BasicTicker\"}},\"id\":\"38129\",\"type\":\"LinearAxis\"},{\"attributes\":{\"bottom\":{\"expr\":{\"id\":\"38149\",\"type\":\"Stack\"}},\"fill_color\":{\"value\":\"#5CC9F5\"},\"line_color\":{\"value\":\"#5CC9F5\"},\"top\":{\"expr\":{\"id\":\"38150\",\"type\":\"Stack\"}},\"width\":{\"value\":0.9},\"x\":{\"field\":\"years\"}},\"id\":\"38157\",\"type\":\"VBar\"},{\"attributes\":{\"label\":{\"value\":\"no-geo\"},\"renderers\":[{\"id\":\"38173\",\"type\":\"GlyphRenderer\"}]},\"id\":\"38183\",\"type\":\"LegendItem\"},{\"attributes\":{},\"id\":\"38130\",\"type\":\"BasicTicker\"},{\"attributes\":{\"bottom\":{\"expr\":{\"id\":\"38149\",\"type\":\"Stack\"}},\"fill_alpha\":{\"value\":0.1},\"fill_color\":{\"value\":\"#1f77b4\"},\"line_alpha\":{\"value\":0.1},\"line_color\":{\"value\":\"#1f77b4\"},\"top\":{\"expr\":{\"id\":\"38150\",\"type\":\"Stack\"}},\"width\":{\"value\":0.9},\"x\":{\"field\":\"years\"}},\"id\":\"38158\",\"type\":\"VBar\"},{\"attributes\":{\"dimension\":1,\"plot\":{\"id\":\"38115\",\"subtype\":\"Figure\",\"type\":\"Plot\"},\"ticker\":{\"id\":\"38130\",\"type\":\"BasicTicker\"}},\"id\":\"38133\",\"type\":\"Grid\"},{\"attributes\":{},\"id\":\"38198\",\"type\":\"Selection\"},{\"attributes\":{\"data_source\":{\"id\":\"38155\",\"type\":\"ColumnDataSource\"},\"glyph\":{\"id\":\"38157\",\"type\":\"VBar\"},\"hover_glyph\":null,\"muted_glyph\":null,\"name\":\"geom\",\"nonselection_glyph\":{\"id\":\"38158\",\"type\":\"VBar\"},\"selection_glyph\":null,\"view\":{\"id\":\"38160\",\"type\":\"CDSView\"}},\"id\":\"38159\",\"type\":\"GlyphRenderer\"},{\"attributes\":{\"label\":{\"value\":\"bi\"},\"renderers\":[{\"id\":\"38188\",\"type\":\"GlyphRenderer\"}]},\"id\":\"38200\",\"type\":\"LegendItem\"},{\"attributes\":{\"fields\":[\"geom\"]},\"id\":\"38151\",\"type\":\"Stack\"},{\"attributes\":{\"source\":{\"id\":\"38155\",\"type\":\"ColumnDataSource\"}},\"id\":\"38160\",\"type\":\"CDSView\"},{\"attributes\":{\"fields\":[\"geom\"]},\"id\":\"38150\",\"type\":\"Stack\"},{\"attributes\":{},\"id\":\"39003\",\"type\":\"Selection\"},{\"attributes\":{},\"id\":\"38162\",\"type\":\"BasicTickFormatter\"},{\"attributes\":{\"bottom\":{\"expr\":{\"id\":\"38153\",\"type\":\"Stack\"}},\"fill_color\":{\"value\":\"#cccccc\"},\"line_color\":{\"value\":\"#cccccc\"},\"top\":{\"expr\":{\"id\":\"38154\",\"type\":\"Stack\"}},\"width\":{\"value\":0.9},\"x\":{\"field\":\"years\"}},\"id\":\"38186\",\"type\":\"VBar\"},{\"attributes\":{\"fields\":[\"geom\",\"no-geo\"]},\"id\":\"38152\",\"type\":\"Stack\"},{\"attributes\":{},\"id\":\"39004\",\"type\":\"UnionRenderers\"},{\"attributes\":{},\"id\":\"38164\",\"type\":\"CategoricalTickFormatter\"},{\"attributes\":{\"fields\":[]},\"id\":\"38149\",\"type\":\"Stack\"},{\"attributes\":{},\"id\":\"38134\",\"type\":\"PanTool\"},{\"attributes\":{\"items\":[{\"id\":\"38168\",\"type\":\"LegendItem\"},{\"id\":\"38183\",\"type\":\"LegendItem\"},{\"id\":\"38200\",\"type\":\"LegendItem\"}],\"location\":\"top_left\",\"orientation\":\"horizontal\",\"plot\":{\"id\":\"38115\",\"subtype\":\"Figure\",\"type\":\"Plot\"}},\"id\":\"38167\",\"type\":\"Legend\"},{\"attributes\":{},\"id\":\"38135\",\"type\":\"WheelZoomTool\"},{\"attributes\":{},\"id\":\"38181\",\"type\":\"Selection\"},{\"attributes\":{\"overlay\":{\"id\":\"38142\",\"type\":\"BoxAnnotation\"}},\"id\":\"38136\",\"type\":\"BoxZoomTool\"},{\"attributes\":{\"plot\":null,\"text\":\"IA\"},\"id\":\"38114\",\"type\":\"Title\"},{\"attributes\":{},\"id\":\"38137\",\"type\":\"SaveTool\"},{\"attributes\":{\"label\":{\"value\":\"geom\"},\"renderers\":[{\"id\":\"38159\",\"type\":\"GlyphRenderer\"}]},\"id\":\"38168\",\"type\":\"LegendItem\"},{\"attributes\":{},\"id\":\"38138\",\"type\":\"ResetTool\"}],\"root_ids\":[\"38115\"]},\"title\":\"Bokeh Application\",\"version\":\"1.0.0\"}};\n",
       "  var render_items = [{\"docid\":\"bc7a8dfd-1726-492a-88e0-e4bd30997cb3\",\"roots\":{\"38115\":\"cc055788-774e-4c9b-90fb-d76f60265a4e\"}}];\n",
       "  root.Bokeh.embed.embed_items_notebook(docs_json, render_items);\n",
       "\n",
       "  }\n",
       "  if (root.Bokeh !== undefined) {\n",
       "    embed_document(root);\n",
       "  } else {\n",
       "    var attempts = 0;\n",
       "    var timer = setInterval(function(root) {\n",
       "      if (root.Bokeh !== undefined) {\n",
       "        embed_document(root);\n",
       "        clearInterval(timer);\n",
       "      }\n",
       "      attempts++;\n",
       "      if (attempts > 100) {\n",
       "        console.log(\"Bokeh: ERROR: Unable to run BokehJS code because BokehJS library is missing\");\n",
       "        clearInterval(timer);\n",
       "      }\n",
       "    }, 10, root)\n",
       "  }\n",
       "})(window);"
      ],
      "application/vnd.bokehjs_exec.v0+json": ""
     },
     "metadata": {
      "application/vnd.bokehjs_exec.v0+json": {
       "id": "38115"
      }
     },
     "output_type": "display_data"
    },
    {
     "data": {
      "text/html": [
       "\n",
       "\n",
       "\n",
       "\n",
       "\n",
       "\n",
       "  <div class=\"bk-root\" id=\"526ba476-9b5b-4953-9fee-4a88f0e8f4f1\"></div>\n"
      ]
     },
     "metadata": {},
     "output_type": "display_data"
    },
    {
     "data": {
      "application/javascript": [
       "(function(root) {\n",
       "  function embed_document(root) {\n",
       "    \n",
       "  var docs_json = {\"645661c0-9f39-4f01-8dc6-334b2562c149\":{\"roots\":{\"references\":[{\"attributes\":{\"below\":[{\"id\":\"39088\",\"type\":\"CategoricalAxis\"}],\"left\":[{\"id\":\"39092\",\"type\":\"LinearAxis\"}],\"outline_line_color\":{\"value\":null},\"plot_height\":250,\"renderers\":[{\"id\":\"39088\",\"type\":\"CategoricalAxis\"},{\"id\":\"39091\",\"type\":\"Grid\"},{\"id\":\"39092\",\"type\":\"LinearAxis\"},{\"id\":\"39096\",\"type\":\"Grid\"},{\"id\":\"39105\",\"type\":\"BoxAnnotation\"},{\"id\":\"39130\",\"type\":\"Legend\"},{\"id\":\"39122\",\"type\":\"GlyphRenderer\"},{\"id\":\"39136\",\"type\":\"GlyphRenderer\"},{\"id\":\"39151\",\"type\":\"GlyphRenderer\"}],\"title\":{\"id\":\"39077\",\"type\":\"Title\"},\"toolbar\":{\"id\":\"39103\",\"type\":\"Toolbar\"},\"toolbar_location\":null,\"x_range\":{\"id\":\"39080\",\"type\":\"FactorRange\"},\"x_scale\":{\"id\":\"39084\",\"type\":\"CategoricalScale\"},\"y_range\":{\"id\":\"39082\",\"type\":\"DataRange1d\"},\"y_scale\":{\"id\":\"39086\",\"type\":\"LinearScale\"}},\"id\":\"39078\",\"subtype\":\"Figure\",\"type\":\"Plot\"},{\"attributes\":{\"formatter\":{\"id\":\"39125\",\"type\":\"BasicTickFormatter\"},\"minor_tick_line_color\":{\"value\":null},\"plot\":{\"id\":\"39078\",\"subtype\":\"Figure\",\"type\":\"Plot\"},\"ticker\":{\"id\":\"39093\",\"type\":\"BasicTicker\"}},\"id\":\"39092\",\"type\":\"LinearAxis\"},{\"attributes\":{},\"id\":\"39127\",\"type\":\"CategoricalTickFormatter\"},{\"attributes\":{\"label\":{\"value\":\"bi\"},\"renderers\":[{\"id\":\"39151\",\"type\":\"GlyphRenderer\"}]},\"id\":\"39163\",\"type\":\"LegendItem\"},{\"attributes\":{},\"id\":\"39093\",\"type\":\"BasicTicker\"},{\"attributes\":{},\"id\":\"39098\",\"type\":\"WheelZoomTool\"},{\"attributes\":{},\"id\":\"39979\",\"type\":\"UnionRenderers\"},{\"attributes\":{\"overlay\":{\"id\":\"39105\",\"type\":\"BoxAnnotation\"}},\"id\":\"39099\",\"type\":\"BoxZoomTool\"},{\"attributes\":{},\"id\":\"39084\",\"type\":\"CategoricalScale\"},{\"attributes\":{},\"id\":\"39100\",\"type\":\"SaveTool\"},{\"attributes\":{\"bottom\":{\"expr\":{\"id\":\"39114\",\"type\":\"Stack\"}},\"fill_color\":{\"value\":\"#e84d60\"},\"line_color\":{\"value\":\"#e84d60\"},\"top\":{\"expr\":{\"id\":\"39115\",\"type\":\"Stack\"}},\"width\":{\"value\":0.9},\"x\":{\"field\":\"years\"}},\"id\":\"39134\",\"type\":\"VBar\"},{\"attributes\":{},\"id\":\"39101\",\"type\":\"ResetTool\"},{\"attributes\":{\"callback\":null,\"start\":0},\"id\":\"39082\",\"type\":\"DataRange1d\"},{\"attributes\":{\"bottom\":{\"expr\":{\"id\":\"39114\",\"type\":\"Stack\"}},\"fill_alpha\":{\"value\":0.1},\"fill_color\":{\"value\":\"#1f77b4\"},\"line_alpha\":{\"value\":0.1},\"line_color\":{\"value\":\"#1f77b4\"},\"top\":{\"expr\":{\"id\":\"39115\",\"type\":\"Stack\"}},\"width\":{\"value\":0.9},\"x\":{\"field\":\"years\"}},\"id\":\"39135\",\"type\":\"VBar\"},{\"attributes\":{},\"id\":\"39102\",\"type\":\"HelpTool\"},{\"attributes\":{},\"id\":\"39086\",\"type\":\"LinearScale\"},{\"attributes\":{\"data_source\":{\"id\":\"39132\",\"type\":\"ColumnDataSource\"},\"glyph\":{\"id\":\"39134\",\"type\":\"VBar\"},\"hover_glyph\":null,\"muted_glyph\":null,\"name\":\"no-geo\",\"nonselection_glyph\":{\"id\":\"39135\",\"type\":\"VBar\"},\"selection_glyph\":null,\"view\":{\"id\":\"39137\",\"type\":\"CDSView\"}},\"id\":\"39136\",\"type\":\"GlyphRenderer\"},{\"attributes\":{\"active_drag\":\"auto\",\"active_inspect\":\"auto\",\"active_multi\":null,\"active_scroll\":\"auto\",\"active_tap\":\"auto\",\"tools\":[{\"id\":\"39097\",\"type\":\"PanTool\"},{\"id\":\"39098\",\"type\":\"WheelZoomTool\"},{\"id\":\"39099\",\"type\":\"BoxZoomTool\"},{\"id\":\"39100\",\"type\":\"SaveTool\"},{\"id\":\"39101\",\"type\":\"ResetTool\"},{\"id\":\"39102\",\"type\":\"HelpTool\"}]},\"id\":\"39103\",\"type\":\"Toolbar\"},{\"attributes\":{\"source\":{\"id\":\"39132\",\"type\":\"ColumnDataSource\"}},\"id\":\"39137\",\"type\":\"CDSView\"},{\"attributes\":{\"fields\":[\"geom\",\"no-geo\"]},\"id\":\"39115\",\"type\":\"Stack\"},{\"attributes\":{\"formatter\":{\"id\":\"39127\",\"type\":\"CategoricalTickFormatter\"},\"minor_tick_line_color\":{\"value\":null},\"plot\":{\"id\":\"39078\",\"subtype\":\"Figure\",\"type\":\"Plot\"},\"ticker\":{\"id\":\"39089\",\"type\":\"CategoricalTicker\"}},\"id\":\"39088\",\"type\":\"CategoricalAxis\"},{\"attributes\":{},\"id\":\"39144\",\"type\":\"Selection\"},{\"attributes\":{\"bottom_units\":\"screen\",\"fill_alpha\":{\"value\":0.5},\"fill_color\":{\"value\":\"lightgrey\"},\"left_units\":\"screen\",\"level\":\"overlay\",\"line_alpha\":{\"value\":1.0},\"line_color\":{\"value\":\"black\"},\"line_dash\":[4,4],\"line_width\":{\"value\":2},\"plot\":null,\"render_mode\":\"css\",\"right_units\":\"screen\",\"top_units\":\"screen\"},\"id\":\"39105\",\"type\":\"BoxAnnotation\"},{\"attributes\":{},\"id\":\"39089\",\"type\":\"CategoricalTicker\"},{\"attributes\":{},\"id\":\"39145\",\"type\":\"UnionRenderers\"},{\"attributes\":{\"grid_line_color\":{\"value\":null},\"plot\":{\"id\":\"39078\",\"subtype\":\"Figure\",\"type\":\"Plot\"},\"ticker\":{\"id\":\"39089\",\"type\":\"CategoricalTicker\"}},\"id\":\"39091\",\"type\":\"Grid\"},{\"attributes\":{\"fields\":[\"geom\",\"no-geo\"]},\"id\":\"39116\",\"type\":\"Stack\"},{\"attributes\":{\"label\":{\"value\":\"no-geo\"},\"renderers\":[{\"id\":\"39136\",\"type\":\"GlyphRenderer\"}]},\"id\":\"39146\",\"type\":\"LegendItem\"},{\"attributes\":{\"callback\":null,\"factors\":[\"2012\",\"2013\",\"2014\",\"2015\",\"2016\"],\"range_padding\":0.1},\"id\":\"39080\",\"type\":\"FactorRange\"},{\"attributes\":{\"fields\":[\"geom\",\"no-geo\",\"bi\"]},\"id\":\"39117\",\"type\":\"Stack\"},{\"attributes\":{\"callback\":null,\"data\":{\"bi\":[0,0,0,2,0],\"geom\":[232310,236698,257209,264502,0],\"no-geo\":[25,13,1,0,262780],\"years\":[\"2012\",\"2013\",\"2014\",\"2015\",\"2016\"]},\"selected\":{\"id\":\"39978\",\"type\":\"Selection\"},\"selection_policy\":{\"id\":\"39979\",\"type\":\"UnionRenderers\"}},\"id\":\"39147\",\"type\":\"ColumnDataSource\"},{\"attributes\":{\"callback\":null,\"data\":{\"bi\":[0,0,0,2,0],\"geom\":[232310,236698,257209,264502,0],\"no-geo\":[25,13,1,0,262780],\"years\":[\"2012\",\"2013\",\"2014\",\"2015\",\"2016\"]},\"selected\":{\"id\":\"39144\",\"type\":\"Selection\"},\"selection_policy\":{\"id\":\"39145\",\"type\":\"UnionRenderers\"}},\"id\":\"39118\",\"type\":\"ColumnDataSource\"},{\"attributes\":{\"plot\":null,\"text\":\"KS\"},\"id\":\"39077\",\"type\":\"Title\"},{\"attributes\":{\"fields\":[\"geom\"]},\"id\":\"39114\",\"type\":\"Stack\"},{\"attributes\":{\"callback\":null,\"data\":{\"bi\":[0,0,0,2,0],\"geom\":[232310,236698,257209,264502,0],\"no-geo\":[25,13,1,0,262780],\"years\":[\"2012\",\"2013\",\"2014\",\"2015\",\"2016\"]},\"selected\":{\"id\":\"39161\",\"type\":\"Selection\"},\"selection_policy\":{\"id\":\"39162\",\"type\":\"UnionRenderers\"}},\"id\":\"39132\",\"type\":\"ColumnDataSource\"},{\"attributes\":{\"bottom\":{\"expr\":{\"id\":\"39112\",\"type\":\"Stack\"}},\"fill_color\":{\"value\":\"#5CC9F5\"},\"line_color\":{\"value\":\"#5CC9F5\"},\"top\":{\"expr\":{\"id\":\"39113\",\"type\":\"Stack\"}},\"width\":{\"value\":0.9},\"x\":{\"field\":\"years\"}},\"id\":\"39120\",\"type\":\"VBar\"},{\"attributes\":{\"bottom\":{\"expr\":{\"id\":\"39116\",\"type\":\"Stack\"}},\"fill_color\":{\"value\":\"#cccccc\"},\"line_color\":{\"value\":\"#cccccc\"},\"top\":{\"expr\":{\"id\":\"39117\",\"type\":\"Stack\"}},\"width\":{\"value\":0.9},\"x\":{\"field\":\"years\"}},\"id\":\"39149\",\"type\":\"VBar\"},{\"attributes\":{\"bottom\":{\"expr\":{\"id\":\"39116\",\"type\":\"Stack\"}},\"fill_alpha\":{\"value\":0.1},\"fill_color\":{\"value\":\"#1f77b4\"},\"line_alpha\":{\"value\":0.1},\"line_color\":{\"value\":\"#1f77b4\"},\"top\":{\"expr\":{\"id\":\"39117\",\"type\":\"Stack\"}},\"width\":{\"value\":0.9},\"x\":{\"field\":\"years\"}},\"id\":\"39150\",\"type\":\"VBar\"},{\"attributes\":{\"bottom\":{\"expr\":{\"id\":\"39112\",\"type\":\"Stack\"}},\"fill_alpha\":{\"value\":0.1},\"fill_color\":{\"value\":\"#1f77b4\"},\"line_alpha\":{\"value\":0.1},\"line_color\":{\"value\":\"#1f77b4\"},\"top\":{\"expr\":{\"id\":\"39113\",\"type\":\"Stack\"}},\"width\":{\"value\":0.9},\"x\":{\"field\":\"years\"}},\"id\":\"39121\",\"type\":\"VBar\"},{\"attributes\":{\"data_source\":{\"id\":\"39147\",\"type\":\"ColumnDataSource\"},\"glyph\":{\"id\":\"39149\",\"type\":\"VBar\"},\"hover_glyph\":null,\"muted_glyph\":null,\"name\":\"bi\",\"nonselection_glyph\":{\"id\":\"39150\",\"type\":\"VBar\"},\"selection_glyph\":null,\"view\":{\"id\":\"39152\",\"type\":\"CDSView\"}},\"id\":\"39151\",\"type\":\"GlyphRenderer\"},{\"attributes\":{\"data_source\":{\"id\":\"39118\",\"type\":\"ColumnDataSource\"},\"glyph\":{\"id\":\"39120\",\"type\":\"VBar\"},\"hover_glyph\":null,\"muted_glyph\":null,\"name\":\"geom\",\"nonselection_glyph\":{\"id\":\"39121\",\"type\":\"VBar\"},\"selection_glyph\":null,\"view\":{\"id\":\"39123\",\"type\":\"CDSView\"}},\"id\":\"39122\",\"type\":\"GlyphRenderer\"},{\"attributes\":{\"label\":{\"value\":\"geom\"},\"renderers\":[{\"id\":\"39122\",\"type\":\"GlyphRenderer\"}]},\"id\":\"39131\",\"type\":\"LegendItem\"},{\"attributes\":{\"source\":{\"id\":\"39147\",\"type\":\"ColumnDataSource\"}},\"id\":\"39152\",\"type\":\"CDSView\"},{\"attributes\":{},\"id\":\"39978\",\"type\":\"Selection\"},{\"attributes\":{\"dimension\":1,\"plot\":{\"id\":\"39078\",\"subtype\":\"Figure\",\"type\":\"Plot\"},\"ticker\":{\"id\":\"39093\",\"type\":\"BasicTicker\"}},\"id\":\"39096\",\"type\":\"Grid\"},{\"attributes\":{\"source\":{\"id\":\"39118\",\"type\":\"ColumnDataSource\"}},\"id\":\"39123\",\"type\":\"CDSView\"},{\"attributes\":{\"fields\":[]},\"id\":\"39112\",\"type\":\"Stack\"},{\"attributes\":{},\"id\":\"39161\",\"type\":\"Selection\"},{\"attributes\":{},\"id\":\"39097\",\"type\":\"PanTool\"},{\"attributes\":{},\"id\":\"39125\",\"type\":\"BasicTickFormatter\"},{\"attributes\":{},\"id\":\"39162\",\"type\":\"UnionRenderers\"},{\"attributes\":{\"fields\":[\"geom\"]},\"id\":\"39113\",\"type\":\"Stack\"},{\"attributes\":{\"items\":[{\"id\":\"39131\",\"type\":\"LegendItem\"},{\"id\":\"39146\",\"type\":\"LegendItem\"},{\"id\":\"39163\",\"type\":\"LegendItem\"}],\"location\":\"top_left\",\"orientation\":\"horizontal\",\"plot\":{\"id\":\"39078\",\"subtype\":\"Figure\",\"type\":\"Plot\"}},\"id\":\"39130\",\"type\":\"Legend\"}],\"root_ids\":[\"39078\"]},\"title\":\"Bokeh Application\",\"version\":\"1.0.0\"}};\n",
       "  var render_items = [{\"docid\":\"645661c0-9f39-4f01-8dc6-334b2562c149\",\"roots\":{\"39078\":\"526ba476-9b5b-4953-9fee-4a88f0e8f4f1\"}}];\n",
       "  root.Bokeh.embed.embed_items_notebook(docs_json, render_items);\n",
       "\n",
       "  }\n",
       "  if (root.Bokeh !== undefined) {\n",
       "    embed_document(root);\n",
       "  } else {\n",
       "    var attempts = 0;\n",
       "    var timer = setInterval(function(root) {\n",
       "      if (root.Bokeh !== undefined) {\n",
       "        embed_document(root);\n",
       "        clearInterval(timer);\n",
       "      }\n",
       "      attempts++;\n",
       "      if (attempts > 100) {\n",
       "        console.log(\"Bokeh: ERROR: Unable to run BokehJS code because BokehJS library is missing\");\n",
       "        clearInterval(timer);\n",
       "      }\n",
       "    }, 10, root)\n",
       "  }\n",
       "})(window);"
      ],
      "application/vnd.bokehjs_exec.v0+json": ""
     },
     "metadata": {
      "application/vnd.bokehjs_exec.v0+json": {
       "id": "39078"
      }
     },
     "output_type": "display_data"
    },
    {
     "data": {
      "text/html": [
       "\n",
       "\n",
       "\n",
       "\n",
       "\n",
       "\n",
       "  <div class=\"bk-root\" id=\"d5810d43-33c8-4560-9d33-d376db9f340f\"></div>\n"
      ]
     },
     "metadata": {},
     "output_type": "display_data"
    },
    {
     "data": {
      "application/javascript": [
       "(function(root) {\n",
       "  function embed_document(root) {\n",
       "    \n",
       "  var docs_json = {\"87805262-5100-49e7-9837-148d119db4f5\":{\"roots\":{\"references\":[{\"attributes\":{\"below\":[{\"id\":\"40063\",\"type\":\"CategoricalAxis\"}],\"left\":[{\"id\":\"40067\",\"type\":\"LinearAxis\"}],\"outline_line_color\":{\"value\":null},\"plot_height\":250,\"renderers\":[{\"id\":\"40063\",\"type\":\"CategoricalAxis\"},{\"id\":\"40066\",\"type\":\"Grid\"},{\"id\":\"40067\",\"type\":\"LinearAxis\"},{\"id\":\"40071\",\"type\":\"Grid\"},{\"id\":\"40080\",\"type\":\"BoxAnnotation\"},{\"id\":\"40105\",\"type\":\"Legend\"},{\"id\":\"40097\",\"type\":\"GlyphRenderer\"},{\"id\":\"40111\",\"type\":\"GlyphRenderer\"},{\"id\":\"40126\",\"type\":\"GlyphRenderer\"}],\"title\":{\"id\":\"40052\",\"type\":\"Title\"},\"toolbar\":{\"id\":\"40078\",\"type\":\"Toolbar\"},\"toolbar_location\":null,\"x_range\":{\"id\":\"40055\",\"type\":\"FactorRange\"},\"x_scale\":{\"id\":\"40059\",\"type\":\"CategoricalScale\"},\"y_range\":{\"id\":\"40057\",\"type\":\"DataRange1d\"},\"y_scale\":{\"id\":\"40061\",\"type\":\"LinearScale\"}},\"id\":\"40053\",\"subtype\":\"Figure\",\"type\":\"Plot\"},{\"attributes\":{\"bottom\":{\"expr\":{\"id\":\"40091\",\"type\":\"Stack\"}},\"fill_color\":{\"value\":\"#cccccc\"},\"line_color\":{\"value\":\"#cccccc\"},\"top\":{\"expr\":{\"id\":\"40092\",\"type\":\"Stack\"}},\"width\":{\"value\":0.9},\"x\":{\"field\":\"years\"}},\"id\":\"40124\",\"type\":\"VBar\"},{\"attributes\":{\"data_source\":{\"id\":\"40093\",\"type\":\"ColumnDataSource\"},\"glyph\":{\"id\":\"40095\",\"type\":\"VBar\"},\"hover_glyph\":null,\"muted_glyph\":null,\"name\":\"geom\",\"nonselection_glyph\":{\"id\":\"40096\",\"type\":\"VBar\"},\"selection_glyph\":null,\"view\":{\"id\":\"40098\",\"type\":\"CDSView\"}},\"id\":\"40097\",\"type\":\"GlyphRenderer\"},{\"attributes\":{\"plot\":null,\"text\":\"KY\"},\"id\":\"40052\",\"type\":\"Title\"},{\"attributes\":{\"data_source\":{\"id\":\"40122\",\"type\":\"ColumnDataSource\"},\"glyph\":{\"id\":\"40124\",\"type\":\"VBar\"},\"hover_glyph\":null,\"muted_glyph\":null,\"name\":\"bi\",\"nonselection_glyph\":{\"id\":\"40125\",\"type\":\"VBar\"},\"selection_glyph\":null,\"view\":{\"id\":\"40127\",\"type\":\"CDSView\"}},\"id\":\"40126\",\"type\":\"GlyphRenderer\"},{\"attributes\":{},\"id\":\"40119\",\"type\":\"Selection\"},{\"attributes\":{\"source\":{\"id\":\"40122\",\"type\":\"ColumnDataSource\"}},\"id\":\"40127\",\"type\":\"CDSView\"},{\"attributes\":{\"source\":{\"id\":\"40093\",\"type\":\"ColumnDataSource\"}},\"id\":\"40098\",\"type\":\"CDSView\"},{\"attributes\":{},\"id\":\"40136\",\"type\":\"Selection\"},{\"attributes\":{\"bottom\":{\"expr\":{\"id\":\"40087\",\"type\":\"Stack\"}},\"fill_color\":{\"value\":\"#5CC9F5\"},\"line_color\":{\"value\":\"#5CC9F5\"},\"top\":{\"expr\":{\"id\":\"40088\",\"type\":\"Stack\"}},\"width\":{\"value\":0.9},\"x\":{\"field\":\"years\"}},\"id\":\"40095\",\"type\":\"VBar\"},{\"attributes\":{},\"id\":\"40100\",\"type\":\"BasicTickFormatter\"},{\"attributes\":{},\"id\":\"40137\",\"type\":\"UnionRenderers\"},{\"attributes\":{\"label\":{\"value\":\"no-geo\"},\"renderers\":[{\"id\":\"40111\",\"type\":\"GlyphRenderer\"}]},\"id\":\"40121\",\"type\":\"LegendItem\"},{\"attributes\":{},\"id\":\"40075\",\"type\":\"SaveTool\"},{\"attributes\":{\"label\":{\"value\":\"bi\"},\"renderers\":[{\"id\":\"40126\",\"type\":\"GlyphRenderer\"}]},\"id\":\"40138\",\"type\":\"LegendItem\"},{\"attributes\":{},\"id\":\"40102\",\"type\":\"CategoricalTickFormatter\"},{\"attributes\":{\"fields\":[\"geom\",\"no-geo\",\"bi\"]},\"id\":\"40092\",\"type\":\"Stack\"},{\"attributes\":{\"fields\":[]},\"id\":\"40087\",\"type\":\"Stack\"},{\"attributes\":{\"overlay\":{\"id\":\"40080\",\"type\":\"BoxAnnotation\"}},\"id\":\"40074\",\"type\":\"BoxZoomTool\"},{\"attributes\":{},\"id\":\"40965\",\"type\":\"Selection\"},{\"attributes\":{\"items\":[{\"id\":\"40106\",\"type\":\"LegendItem\"},{\"id\":\"40121\",\"type\":\"LegendItem\"},{\"id\":\"40138\",\"type\":\"LegendItem\"}],\"location\":\"top_left\",\"orientation\":\"horizontal\",\"plot\":{\"id\":\"40053\",\"subtype\":\"Figure\",\"type\":\"Plot\"}},\"id\":\"40105\",\"type\":\"Legend\"},{\"attributes\":{},\"id\":\"40073\",\"type\":\"WheelZoomTool\"},{\"attributes\":{},\"id\":\"40966\",\"type\":\"UnionRenderers\"},{\"attributes\":{\"label\":{\"value\":\"geom\"},\"renderers\":[{\"id\":\"40097\",\"type\":\"GlyphRenderer\"}]},\"id\":\"40106\",\"type\":\"LegendItem\"},{\"attributes\":{\"fields\":[\"geom\"]},\"id\":\"40088\",\"type\":\"Stack\"},{\"attributes\":{},\"id\":\"40072\",\"type\":\"PanTool\"},{\"attributes\":{\"callback\":null,\"data\":{\"bi\":[0,0,2,0,0],\"geom\":[153904,160453,172798,191030,0],\"no-geo\":[11783,11090,1,3,199908],\"years\":[\"2012\",\"2013\",\"2014\",\"2015\",\"2016\"]},\"selected\":{\"id\":\"40136\",\"type\":\"Selection\"},\"selection_policy\":{\"id\":\"40137\",\"type\":\"UnionRenderers\"}},\"id\":\"40107\",\"type\":\"ColumnDataSource\"},{\"attributes\":{\"formatter\":{\"id\":\"40102\",\"type\":\"CategoricalTickFormatter\"},\"minor_tick_line_color\":{\"value\":null},\"plot\":{\"id\":\"40053\",\"subtype\":\"Figure\",\"type\":\"Plot\"},\"ticker\":{\"id\":\"40064\",\"type\":\"CategoricalTicker\"}},\"id\":\"40063\",\"type\":\"CategoricalAxis\"},{\"attributes\":{},\"id\":\"40064\",\"type\":\"CategoricalTicker\"},{\"attributes\":{},\"id\":\"40077\",\"type\":\"HelpTool\"},{\"attributes\":{\"grid_line_color\":{\"value\":null},\"plot\":{\"id\":\"40053\",\"subtype\":\"Figure\",\"type\":\"Plot\"},\"ticker\":{\"id\":\"40064\",\"type\":\"CategoricalTicker\"}},\"id\":\"40066\",\"type\":\"Grid\"},{\"attributes\":{\"bottom\":{\"expr\":{\"id\":\"40091\",\"type\":\"Stack\"}},\"fill_alpha\":{\"value\":0.1},\"fill_color\":{\"value\":\"#1f77b4\"},\"line_alpha\":{\"value\":0.1},\"line_color\":{\"value\":\"#1f77b4\"},\"top\":{\"expr\":{\"id\":\"40092\",\"type\":\"Stack\"}},\"width\":{\"value\":0.9},\"x\":{\"field\":\"years\"}},\"id\":\"40125\",\"type\":\"VBar\"},{\"attributes\":{},\"id\":\"40076\",\"type\":\"ResetTool\"},{\"attributes\":{\"bottom\":{\"expr\":{\"id\":\"40089\",\"type\":\"Stack\"}},\"fill_color\":{\"value\":\"#e84d60\"},\"line_color\":{\"value\":\"#e84d60\"},\"top\":{\"expr\":{\"id\":\"40090\",\"type\":\"Stack\"}},\"width\":{\"value\":0.9},\"x\":{\"field\":\"years\"}},\"id\":\"40109\",\"type\":\"VBar\"},{\"attributes\":{\"active_drag\":\"auto\",\"active_inspect\":\"auto\",\"active_multi\":null,\"active_scroll\":\"auto\",\"active_tap\":\"auto\",\"tools\":[{\"id\":\"40072\",\"type\":\"PanTool\"},{\"id\":\"40073\",\"type\":\"WheelZoomTool\"},{\"id\":\"40074\",\"type\":\"BoxZoomTool\"},{\"id\":\"40075\",\"type\":\"SaveTool\"},{\"id\":\"40076\",\"type\":\"ResetTool\"},{\"id\":\"40077\",\"type\":\"HelpTool\"}]},\"id\":\"40078\",\"type\":\"Toolbar\"},{\"attributes\":{\"bottom\":{\"expr\":{\"id\":\"40087\",\"type\":\"Stack\"}},\"fill_alpha\":{\"value\":0.1},\"fill_color\":{\"value\":\"#1f77b4\"},\"line_alpha\":{\"value\":0.1},\"line_color\":{\"value\":\"#1f77b4\"},\"top\":{\"expr\":{\"id\":\"40088\",\"type\":\"Stack\"}},\"width\":{\"value\":0.9},\"x\":{\"field\":\"years\"}},\"id\":\"40096\",\"type\":\"VBar\"},{\"attributes\":{\"fields\":[\"geom\"]},\"id\":\"40089\",\"type\":\"Stack\"},{\"attributes\":{\"formatter\":{\"id\":\"40100\",\"type\":\"BasicTickFormatter\"},\"minor_tick_line_color\":{\"value\":null},\"plot\":{\"id\":\"40053\",\"subtype\":\"Figure\",\"type\":\"Plot\"},\"ticker\":{\"id\":\"40068\",\"type\":\"BasicTicker\"}},\"id\":\"40067\",\"type\":\"LinearAxis\"},{\"attributes\":{\"bottom\":{\"expr\":{\"id\":\"40089\",\"type\":\"Stack\"}},\"fill_alpha\":{\"value\":0.1},\"fill_color\":{\"value\":\"#1f77b4\"},\"line_alpha\":{\"value\":0.1},\"line_color\":{\"value\":\"#1f77b4\"},\"top\":{\"expr\":{\"id\":\"40090\",\"type\":\"Stack\"}},\"width\":{\"value\":0.9},\"x\":{\"field\":\"years\"}},\"id\":\"40110\",\"type\":\"VBar\"},{\"attributes\":{},\"id\":\"40068\",\"type\":\"BasicTicker\"},{\"attributes\":{\"fields\":[\"geom\",\"no-geo\"]},\"id\":\"40090\",\"type\":\"Stack\"},{\"attributes\":{\"data_source\":{\"id\":\"40107\",\"type\":\"ColumnDataSource\"},\"glyph\":{\"id\":\"40109\",\"type\":\"VBar\"},\"hover_glyph\":null,\"muted_glyph\":null,\"name\":\"no-geo\",\"nonselection_glyph\":{\"id\":\"40110\",\"type\":\"VBar\"},\"selection_glyph\":null,\"view\":{\"id\":\"40112\",\"type\":\"CDSView\"}},\"id\":\"40111\",\"type\":\"GlyphRenderer\"},{\"attributes\":{\"dimension\":1,\"plot\":{\"id\":\"40053\",\"subtype\":\"Figure\",\"type\":\"Plot\"},\"ticker\":{\"id\":\"40068\",\"type\":\"BasicTicker\"}},\"id\":\"40071\",\"type\":\"Grid\"},{\"attributes\":{\"bottom_units\":\"screen\",\"fill_alpha\":{\"value\":0.5},\"fill_color\":{\"value\":\"lightgrey\"},\"left_units\":\"screen\",\"level\":\"overlay\",\"line_alpha\":{\"value\":1.0},\"line_color\":{\"value\":\"black\"},\"line_dash\":[4,4],\"line_width\":{\"value\":2},\"plot\":null,\"render_mode\":\"css\",\"right_units\":\"screen\",\"top_units\":\"screen\"},\"id\":\"40080\",\"type\":\"BoxAnnotation\"},{\"attributes\":{\"source\":{\"id\":\"40107\",\"type\":\"ColumnDataSource\"}},\"id\":\"40112\",\"type\":\"CDSView\"},{\"attributes\":{\"fields\":[\"geom\",\"no-geo\"]},\"id\":\"40091\",\"type\":\"Stack\"},{\"attributes\":{},\"id\":\"40061\",\"type\":\"LinearScale\"},{\"attributes\":{},\"id\":\"40059\",\"type\":\"CategoricalScale\"},{\"attributes\":{\"callback\":null,\"data\":{\"bi\":[0,0,2,0,0],\"geom\":[153904,160453,172798,191030,0],\"no-geo\":[11783,11090,1,3,199908],\"years\":[\"2012\",\"2013\",\"2014\",\"2015\",\"2016\"]},\"selected\":{\"id\":\"40965\",\"type\":\"Selection\"},\"selection_policy\":{\"id\":\"40966\",\"type\":\"UnionRenderers\"}},\"id\":\"40122\",\"type\":\"ColumnDataSource\"},{\"attributes\":{},\"id\":\"40120\",\"type\":\"UnionRenderers\"},{\"attributes\":{\"callback\":null,\"start\":0},\"id\":\"40057\",\"type\":\"DataRange1d\"},{\"attributes\":{\"callback\":null,\"data\":{\"bi\":[0,0,2,0,0],\"geom\":[153904,160453,172798,191030,0],\"no-geo\":[11783,11090,1,3,199908],\"years\":[\"2012\",\"2013\",\"2014\",\"2015\",\"2016\"]},\"selected\":{\"id\":\"40119\",\"type\":\"Selection\"},\"selection_policy\":{\"id\":\"40120\",\"type\":\"UnionRenderers\"}},\"id\":\"40093\",\"type\":\"ColumnDataSource\"},{\"attributes\":{\"callback\":null,\"factors\":[\"2012\",\"2013\",\"2014\",\"2015\",\"2016\"],\"range_padding\":0.1},\"id\":\"40055\",\"type\":\"FactorRange\"}],\"root_ids\":[\"40053\"]},\"title\":\"Bokeh Application\",\"version\":\"1.0.0\"}};\n",
       "  var render_items = [{\"docid\":\"87805262-5100-49e7-9837-148d119db4f5\",\"roots\":{\"40053\":\"d5810d43-33c8-4560-9d33-d376db9f340f\"}}];\n",
       "  root.Bokeh.embed.embed_items_notebook(docs_json, render_items);\n",
       "\n",
       "  }\n",
       "  if (root.Bokeh !== undefined) {\n",
       "    embed_document(root);\n",
       "  } else {\n",
       "    var attempts = 0;\n",
       "    var timer = setInterval(function(root) {\n",
       "      if (root.Bokeh !== undefined) {\n",
       "        embed_document(root);\n",
       "        clearInterval(timer);\n",
       "      }\n",
       "      attempts++;\n",
       "      if (attempts > 100) {\n",
       "        console.log(\"Bokeh: ERROR: Unable to run BokehJS code because BokehJS library is missing\");\n",
       "        clearInterval(timer);\n",
       "      }\n",
       "    }, 10, root)\n",
       "  }\n",
       "})(window);"
      ],
      "application/vnd.bokehjs_exec.v0+json": ""
     },
     "metadata": {
      "application/vnd.bokehjs_exec.v0+json": {
       "id": "40053"
      }
     },
     "output_type": "display_data"
    },
    {
     "data": {
      "text/html": [
       "\n",
       "\n",
       "\n",
       "\n",
       "\n",
       "\n",
       "  <div class=\"bk-root\" id=\"0676feb2-ed0f-431e-bf75-18acf03868a2\"></div>\n"
      ]
     },
     "metadata": {},
     "output_type": "display_data"
    },
    {
     "data": {
      "application/javascript": [
       "(function(root) {\n",
       "  function embed_document(root) {\n",
       "    \n",
       "  var docs_json = {\"a1ed3b28-73aa-4401-a698-9d6a425639f1\":{\"roots\":{\"references\":[{\"attributes\":{\"below\":[{\"id\":\"41050\",\"type\":\"CategoricalAxis\"}],\"left\":[{\"id\":\"41054\",\"type\":\"LinearAxis\"}],\"outline_line_color\":{\"value\":null},\"plot_height\":250,\"renderers\":[{\"id\":\"41050\",\"type\":\"CategoricalAxis\"},{\"id\":\"41053\",\"type\":\"Grid\"},{\"id\":\"41054\",\"type\":\"LinearAxis\"},{\"id\":\"41058\",\"type\":\"Grid\"},{\"id\":\"41067\",\"type\":\"BoxAnnotation\"},{\"id\":\"41092\",\"type\":\"Legend\"},{\"id\":\"41084\",\"type\":\"GlyphRenderer\"},{\"id\":\"41098\",\"type\":\"GlyphRenderer\"},{\"id\":\"41113\",\"type\":\"GlyphRenderer\"}],\"title\":{\"id\":\"41039\",\"type\":\"Title\"},\"toolbar\":{\"id\":\"41065\",\"type\":\"Toolbar\"},\"toolbar_location\":null,\"x_range\":{\"id\":\"41042\",\"type\":\"FactorRange\"},\"x_scale\":{\"id\":\"41046\",\"type\":\"CategoricalScale\"},\"y_range\":{\"id\":\"41044\",\"type\":\"DataRange1d\"},\"y_scale\":{\"id\":\"41048\",\"type\":\"LinearScale\"}},\"id\":\"41040\",\"subtype\":\"Figure\",\"type\":\"Plot\"},{\"attributes\":{\"data_source\":{\"id\":\"41094\",\"type\":\"ColumnDataSource\"},\"glyph\":{\"id\":\"41096\",\"type\":\"VBar\"},\"hover_glyph\":null,\"muted_glyph\":null,\"name\":\"no-geo\",\"nonselection_glyph\":{\"id\":\"41097\",\"type\":\"VBar\"},\"selection_glyph\":null,\"view\":{\"id\":\"41099\",\"type\":\"CDSView\"}},\"id\":\"41098\",\"type\":\"GlyphRenderer\"},{\"attributes\":{},\"id\":\"41064\",\"type\":\"HelpTool\"},{\"attributes\":{\"callback\":null,\"factors\":[\"2012\",\"2013\",\"2014\",\"2015\",\"2016\"],\"range_padding\":0.1},\"id\":\"41042\",\"type\":\"FactorRange\"},{\"attributes\":{\"source\":{\"id\":\"41094\",\"type\":\"ColumnDataSource\"}},\"id\":\"41099\",\"type\":\"CDSView\"},{\"attributes\":{\"active_drag\":\"auto\",\"active_inspect\":\"auto\",\"active_multi\":null,\"active_scroll\":\"auto\",\"active_tap\":\"auto\",\"tools\":[{\"id\":\"41059\",\"type\":\"PanTool\"},{\"id\":\"41060\",\"type\":\"WheelZoomTool\"},{\"id\":\"41061\",\"type\":\"BoxZoomTool\"},{\"id\":\"41062\",\"type\":\"SaveTool\"},{\"id\":\"41063\",\"type\":\"ResetTool\"},{\"id\":\"41064\",\"type\":\"HelpTool\"}]},\"id\":\"41065\",\"type\":\"Toolbar\"},{\"attributes\":{\"callback\":null,\"start\":0},\"id\":\"41044\",\"type\":\"DataRange1d\"},{\"attributes\":{},\"id\":\"41106\",\"type\":\"Selection\"},{\"attributes\":{\"bottom_units\":\"screen\",\"fill_alpha\":{\"value\":0.5},\"fill_color\":{\"value\":\"lightgrey\"},\"left_units\":\"screen\",\"level\":\"overlay\",\"line_alpha\":{\"value\":1.0},\"line_color\":{\"value\":\"black\"},\"line_dash\":[4,4],\"line_width\":{\"value\":2},\"plot\":null,\"render_mode\":\"css\",\"right_units\":\"screen\",\"top_units\":\"screen\"},\"id\":\"41067\",\"type\":\"BoxAnnotation\"},{\"attributes\":{},\"id\":\"41089\",\"type\":\"CategoricalTickFormatter\"},{\"attributes\":{},\"id\":\"41046\",\"type\":\"CategoricalScale\"},{\"attributes\":{},\"id\":\"41107\",\"type\":\"UnionRenderers\"},{\"attributes\":{\"fields\":[\"geom\",\"no-geo\"]},\"id\":\"41077\",\"type\":\"Stack\"},{\"attributes\":{},\"id\":\"41048\",\"type\":\"LinearScale\"},{\"attributes\":{\"label\":{\"value\":\"no-geo\"},\"renderers\":[{\"id\":\"41098\",\"type\":\"GlyphRenderer\"}]},\"id\":\"41108\",\"type\":\"LegendItem\"},{\"attributes\":{\"fields\":[\"geom\",\"no-geo\"]},\"id\":\"41078\",\"type\":\"Stack\"},{\"attributes\":{\"formatter\":{\"id\":\"41089\",\"type\":\"CategoricalTickFormatter\"},\"minor_tick_line_color\":{\"value\":null},\"plot\":{\"id\":\"41040\",\"subtype\":\"Figure\",\"type\":\"Plot\"},\"ticker\":{\"id\":\"41051\",\"type\":\"CategoricalTicker\"}},\"id\":\"41050\",\"type\":\"CategoricalAxis\"},{\"attributes\":{\"callback\":null,\"data\":{\"bi\":[0,0,0,6,0],\"geom\":[193074,208031,298576,319969,0],\"no-geo\":[69127,69446,1,0,299154],\"years\":[\"2012\",\"2013\",\"2014\",\"2015\",\"2016\"]},\"selected\":{\"id\":\"41964\",\"type\":\"Selection\"},\"selection_policy\":{\"id\":\"41965\",\"type\":\"UnionRenderers\"}},\"id\":\"41109\",\"type\":\"ColumnDataSource\"},{\"attributes\":{\"fields\":[\"geom\",\"no-geo\",\"bi\"]},\"id\":\"41079\",\"type\":\"Stack\"},{\"attributes\":{},\"id\":\"41051\",\"type\":\"CategoricalTicker\"},{\"attributes\":{\"callback\":null,\"data\":{\"bi\":[0,0,0,6,0],\"geom\":[193074,208031,298576,319969,0],\"no-geo\":[69127,69446,1,0,299154],\"years\":[\"2012\",\"2013\",\"2014\",\"2015\",\"2016\"]},\"selected\":{\"id\":\"41106\",\"type\":\"Selection\"},\"selection_policy\":{\"id\":\"41107\",\"type\":\"UnionRenderers\"}},\"id\":\"41080\",\"type\":\"ColumnDataSource\"},{\"attributes\":{\"grid_line_color\":{\"value\":null},\"plot\":{\"id\":\"41040\",\"subtype\":\"Figure\",\"type\":\"Plot\"},\"ticker\":{\"id\":\"41051\",\"type\":\"CategoricalTicker\"}},\"id\":\"41053\",\"type\":\"Grid\"},{\"attributes\":{\"bottom\":{\"expr\":{\"id\":\"41078\",\"type\":\"Stack\"}},\"fill_color\":{\"value\":\"#cccccc\"},\"line_color\":{\"value\":\"#cccccc\"},\"top\":{\"expr\":{\"id\":\"41079\",\"type\":\"Stack\"}},\"width\":{\"value\":0.9},\"x\":{\"field\":\"years\"}},\"id\":\"41111\",\"type\":\"VBar\"},{\"attributes\":{\"label\":{\"value\":\"geom\"},\"renderers\":[{\"id\":\"41084\",\"type\":\"GlyphRenderer\"}]},\"id\":\"41093\",\"type\":\"LegendItem\"},{\"attributes\":{\"formatter\":{\"id\":\"41087\",\"type\":\"BasicTickFormatter\"},\"minor_tick_line_color\":{\"value\":null},\"plot\":{\"id\":\"41040\",\"subtype\":\"Figure\",\"type\":\"Plot\"},\"ticker\":{\"id\":\"41055\",\"type\":\"BasicTicker\"}},\"id\":\"41054\",\"type\":\"LinearAxis\"},{\"attributes\":{\"bottom\":{\"expr\":{\"id\":\"41078\",\"type\":\"Stack\"}},\"fill_alpha\":{\"value\":0.1},\"fill_color\":{\"value\":\"#1f77b4\"},\"line_alpha\":{\"value\":0.1},\"line_color\":{\"value\":\"#1f77b4\"},\"top\":{\"expr\":{\"id\":\"41079\",\"type\":\"Stack\"}},\"width\":{\"value\":0.9},\"x\":{\"field\":\"years\"}},\"id\":\"41112\",\"type\":\"VBar\"},{\"attributes\":{\"data_source\":{\"id\":\"41109\",\"type\":\"ColumnDataSource\"},\"glyph\":{\"id\":\"41111\",\"type\":\"VBar\"},\"hover_glyph\":null,\"muted_glyph\":null,\"name\":\"bi\",\"nonselection_glyph\":{\"id\":\"41112\",\"type\":\"VBar\"},\"selection_glyph\":null,\"view\":{\"id\":\"41114\",\"type\":\"CDSView\"}},\"id\":\"41113\",\"type\":\"GlyphRenderer\"},{\"attributes\":{},\"id\":\"41055\",\"type\":\"BasicTicker\"},{\"attributes\":{\"callback\":null,\"data\":{\"bi\":[0,0,0,6,0],\"geom\":[193074,208031,298576,319969,0],\"no-geo\":[69127,69446,1,0,299154],\"years\":[\"2012\",\"2013\",\"2014\",\"2015\",\"2016\"]},\"selected\":{\"id\":\"41123\",\"type\":\"Selection\"},\"selection_policy\":{\"id\":\"41124\",\"type\":\"UnionRenderers\"}},\"id\":\"41094\",\"type\":\"ColumnDataSource\"},{\"attributes\":{\"bottom\":{\"expr\":{\"id\":\"41074\",\"type\":\"Stack\"}},\"fill_color\":{\"value\":\"#5CC9F5\"},\"line_color\":{\"value\":\"#5CC9F5\"},\"top\":{\"expr\":{\"id\":\"41075\",\"type\":\"Stack\"}},\"width\":{\"value\":0.9},\"x\":{\"field\":\"years\"}},\"id\":\"41082\",\"type\":\"VBar\"},{\"attributes\":{\"dimension\":1,\"plot\":{\"id\":\"41040\",\"subtype\":\"Figure\",\"type\":\"Plot\"},\"ticker\":{\"id\":\"41055\",\"type\":\"BasicTicker\"}},\"id\":\"41058\",\"type\":\"Grid\"},{\"attributes\":{\"source\":{\"id\":\"41109\",\"type\":\"ColumnDataSource\"}},\"id\":\"41114\",\"type\":\"CDSView\"},{\"attributes\":{\"bottom\":{\"expr\":{\"id\":\"41074\",\"type\":\"Stack\"}},\"fill_alpha\":{\"value\":0.1},\"fill_color\":{\"value\":\"#1f77b4\"},\"line_alpha\":{\"value\":0.1},\"line_color\":{\"value\":\"#1f77b4\"},\"top\":{\"expr\":{\"id\":\"41075\",\"type\":\"Stack\"}},\"width\":{\"value\":0.9},\"x\":{\"field\":\"years\"}},\"id\":\"41083\",\"type\":\"VBar\"},{\"attributes\":{\"fields\":[\"geom\"]},\"id\":\"41076\",\"type\":\"Stack\"},{\"attributes\":{},\"id\":\"41123\",\"type\":\"Selection\"},{\"attributes\":{\"data_source\":{\"id\":\"41080\",\"type\":\"ColumnDataSource\"},\"glyph\":{\"id\":\"41082\",\"type\":\"VBar\"},\"hover_glyph\":null,\"muted_glyph\":null,\"name\":\"geom\",\"nonselection_glyph\":{\"id\":\"41083\",\"type\":\"VBar\"},\"selection_glyph\":null,\"view\":{\"id\":\"41085\",\"type\":\"CDSView\"}},\"id\":\"41084\",\"type\":\"GlyphRenderer\"},{\"attributes\":{\"fields\":[\"geom\"]},\"id\":\"41075\",\"type\":\"Stack\"},{\"attributes\":{},\"id\":\"41124\",\"type\":\"UnionRenderers\"},{\"attributes\":{\"fields\":[]},\"id\":\"41074\",\"type\":\"Stack\"},{\"attributes\":{\"source\":{\"id\":\"41080\",\"type\":\"ColumnDataSource\"}},\"id\":\"41085\",\"type\":\"CDSView\"},{\"attributes\":{\"label\":{\"value\":\"bi\"},\"renderers\":[{\"id\":\"41113\",\"type\":\"GlyphRenderer\"}]},\"id\":\"41125\",\"type\":\"LegendItem\"},{\"attributes\":{},\"id\":\"41059\",\"type\":\"PanTool\"},{\"attributes\":{\"plot\":null,\"text\":\"LA\"},\"id\":\"41039\",\"type\":\"Title\"},{\"attributes\":{},\"id\":\"41087\",\"type\":\"BasicTickFormatter\"},{\"attributes\":{},\"id\":\"41964\",\"type\":\"Selection\"},{\"attributes\":{},\"id\":\"41060\",\"type\":\"WheelZoomTool\"},{\"attributes\":{},\"id\":\"41965\",\"type\":\"UnionRenderers\"},{\"attributes\":{\"overlay\":{\"id\":\"41067\",\"type\":\"BoxAnnotation\"}},\"id\":\"41061\",\"type\":\"BoxZoomTool\"},{\"attributes\":{\"items\":[{\"id\":\"41093\",\"type\":\"LegendItem\"},{\"id\":\"41108\",\"type\":\"LegendItem\"},{\"id\":\"41125\",\"type\":\"LegendItem\"}],\"location\":\"top_left\",\"orientation\":\"horizontal\",\"plot\":{\"id\":\"41040\",\"subtype\":\"Figure\",\"type\":\"Plot\"}},\"id\":\"41092\",\"type\":\"Legend\"},{\"attributes\":{\"bottom\":{\"expr\":{\"id\":\"41076\",\"type\":\"Stack\"}},\"fill_color\":{\"value\":\"#e84d60\"},\"line_color\":{\"value\":\"#e84d60\"},\"top\":{\"expr\":{\"id\":\"41077\",\"type\":\"Stack\"}},\"width\":{\"value\":0.9},\"x\":{\"field\":\"years\"}},\"id\":\"41096\",\"type\":\"VBar\"},{\"attributes\":{},\"id\":\"41062\",\"type\":\"SaveTool\"},{\"attributes\":{\"bottom\":{\"expr\":{\"id\":\"41076\",\"type\":\"Stack\"}},\"fill_alpha\":{\"value\":0.1},\"fill_color\":{\"value\":\"#1f77b4\"},\"line_alpha\":{\"value\":0.1},\"line_color\":{\"value\":\"#1f77b4\"},\"top\":{\"expr\":{\"id\":\"41077\",\"type\":\"Stack\"}},\"width\":{\"value\":0.9},\"x\":{\"field\":\"years\"}},\"id\":\"41097\",\"type\":\"VBar\"},{\"attributes\":{},\"id\":\"41063\",\"type\":\"ResetTool\"}],\"root_ids\":[\"41040\"]},\"title\":\"Bokeh Application\",\"version\":\"1.0.0\"}};\n",
       "  var render_items = [{\"docid\":\"a1ed3b28-73aa-4401-a698-9d6a425639f1\",\"roots\":{\"41040\":\"0676feb2-ed0f-431e-bf75-18acf03868a2\"}}];\n",
       "  root.Bokeh.embed.embed_items_notebook(docs_json, render_items);\n",
       "\n",
       "  }\n",
       "  if (root.Bokeh !== undefined) {\n",
       "    embed_document(root);\n",
       "  } else {\n",
       "    var attempts = 0;\n",
       "    var timer = setInterval(function(root) {\n",
       "      if (root.Bokeh !== undefined) {\n",
       "        embed_document(root);\n",
       "        clearInterval(timer);\n",
       "      }\n",
       "      attempts++;\n",
       "      if (attempts > 100) {\n",
       "        console.log(\"Bokeh: ERROR: Unable to run BokehJS code because BokehJS library is missing\");\n",
       "        clearInterval(timer);\n",
       "      }\n",
       "    }, 10, root)\n",
       "  }\n",
       "})(window);"
      ],
      "application/vnd.bokehjs_exec.v0+json": ""
     },
     "metadata": {
      "application/vnd.bokehjs_exec.v0+json": {
       "id": "41040"
      }
     },
     "output_type": "display_data"
    },
    {
     "data": {
      "text/html": [
       "\n",
       "\n",
       "\n",
       "\n",
       "\n",
       "\n",
       "  <div class=\"bk-root\" id=\"4ce5dc8a-df63-4f17-a335-4e5f8bed632b\"></div>\n"
      ]
     },
     "metadata": {},
     "output_type": "display_data"
    },
    {
     "data": {
      "application/javascript": [
       "(function(root) {\n",
       "  function embed_document(root) {\n",
       "    \n",
       "  var docs_json = {\"b525a15d-92ae-40c1-9ca7-f4f3ca5d2ba2\":{\"roots\":{\"references\":[{\"attributes\":{\"below\":[{\"id\":\"42049\",\"type\":\"CategoricalAxis\"}],\"left\":[{\"id\":\"42053\",\"type\":\"LinearAxis\"}],\"outline_line_color\":{\"value\":null},\"plot_height\":250,\"renderers\":[{\"id\":\"42049\",\"type\":\"CategoricalAxis\"},{\"id\":\"42052\",\"type\":\"Grid\"},{\"id\":\"42053\",\"type\":\"LinearAxis\"},{\"id\":\"42057\",\"type\":\"Grid\"},{\"id\":\"42066\",\"type\":\"BoxAnnotation\"},{\"id\":\"42091\",\"type\":\"Legend\"},{\"id\":\"42083\",\"type\":\"GlyphRenderer\"},{\"id\":\"42097\",\"type\":\"GlyphRenderer\"},{\"id\":\"42112\",\"type\":\"GlyphRenderer\"}],\"title\":{\"id\":\"42038\",\"type\":\"Title\"},\"toolbar\":{\"id\":\"42064\",\"type\":\"Toolbar\"},\"toolbar_location\":null,\"x_range\":{\"id\":\"42041\",\"type\":\"FactorRange\"},\"x_scale\":{\"id\":\"42045\",\"type\":\"CategoricalScale\"},\"y_range\":{\"id\":\"42043\",\"type\":\"DataRange1d\"},\"y_scale\":{\"id\":\"42047\",\"type\":\"LinearScale\"}},\"id\":\"42039\",\"subtype\":\"Figure\",\"type\":\"Plot\"},{\"attributes\":{\"dimension\":1,\"plot\":{\"id\":\"42039\",\"subtype\":\"Figure\",\"type\":\"Plot\"},\"ticker\":{\"id\":\"42054\",\"type\":\"BasicTicker\"}},\"id\":\"42057\",\"type\":\"Grid\"},{\"attributes\":{},\"id\":\"42088\",\"type\":\"CategoricalTickFormatter\"},{\"attributes\":{},\"id\":\"42059\",\"type\":\"WheelZoomTool\"},{\"attributes\":{\"label\":{\"value\":\"bi\"},\"renderers\":[{\"id\":\"42112\",\"type\":\"GlyphRenderer\"}]},\"id\":\"42124\",\"type\":\"LegendItem\"},{\"attributes\":{\"fields\":[]},\"id\":\"42073\",\"type\":\"Stack\"},{\"attributes\":{\"items\":[{\"id\":\"42092\",\"type\":\"LegendItem\"},{\"id\":\"42107\",\"type\":\"LegendItem\"},{\"id\":\"42124\",\"type\":\"LegendItem\"}],\"location\":\"top_left\",\"orientation\":\"horizontal\",\"plot\":{\"id\":\"42039\",\"subtype\":\"Figure\",\"type\":\"Plot\"}},\"id\":\"42091\",\"type\":\"Legend\"},{\"attributes\":{\"callback\":null,\"data\":{\"bi\":[0,0,0,0,0],\"geom\":[100689,102910,115372,126420,0],\"no-geo\":[32,14,1,0,127638],\"years\":[\"2012\",\"2013\",\"2014\",\"2015\",\"2016\"]},\"selected\":{\"id\":\"42975\",\"type\":\"Selection\"},\"selection_policy\":{\"id\":\"42976\",\"type\":\"UnionRenderers\"}},\"id\":\"42108\",\"type\":\"ColumnDataSource\"},{\"attributes\":{\"overlay\":{\"id\":\"42066\",\"type\":\"BoxAnnotation\"}},\"id\":\"42060\",\"type\":\"BoxZoomTool\"},{\"attributes\":{},\"id\":\"42975\",\"type\":\"Selection\"},{\"attributes\":{\"label\":{\"value\":\"geom\"},\"renderers\":[{\"id\":\"42083\",\"type\":\"GlyphRenderer\"}]},\"id\":\"42092\",\"type\":\"LegendItem\"},{\"attributes\":{},\"id\":\"42061\",\"type\":\"SaveTool\"},{\"attributes\":{},\"id\":\"42054\",\"type\":\"BasicTicker\"},{\"attributes\":{},\"id\":\"42976\",\"type\":\"UnionRenderers\"},{\"attributes\":{},\"id\":\"42045\",\"type\":\"CategoricalScale\"},{\"attributes\":{\"callback\":null,\"data\":{\"bi\":[0,0,0,0,0],\"geom\":[100689,102910,115372,126420,0],\"no-geo\":[32,14,1,0,127638],\"years\":[\"2012\",\"2013\",\"2014\",\"2015\",\"2016\"]},\"selected\":{\"id\":\"42122\",\"type\":\"Selection\"},\"selection_policy\":{\"id\":\"42123\",\"type\":\"UnionRenderers\"}},\"id\":\"42093\",\"type\":\"ColumnDataSource\"},{\"attributes\":{},\"id\":\"42062\",\"type\":\"ResetTool\"},{\"attributes\":{},\"id\":\"42047\",\"type\":\"LinearScale\"},{\"attributes\":{},\"id\":\"42058\",\"type\":\"PanTool\"},{\"attributes\":{},\"id\":\"42063\",\"type\":\"HelpTool\"},{\"attributes\":{\"bottom\":{\"expr\":{\"id\":\"42077\",\"type\":\"Stack\"}},\"fill_alpha\":{\"value\":0.1},\"fill_color\":{\"value\":\"#1f77b4\"},\"line_alpha\":{\"value\":0.1},\"line_color\":{\"value\":\"#1f77b4\"},\"top\":{\"expr\":{\"id\":\"42078\",\"type\":\"Stack\"}},\"width\":{\"value\":0.9},\"x\":{\"field\":\"years\"}},\"id\":\"42111\",\"type\":\"VBar\"},{\"attributes\":{\"active_drag\":\"auto\",\"active_inspect\":\"auto\",\"active_multi\":null,\"active_scroll\":\"auto\",\"active_tap\":\"auto\",\"tools\":[{\"id\":\"42058\",\"type\":\"PanTool\"},{\"id\":\"42059\",\"type\":\"WheelZoomTool\"},{\"id\":\"42060\",\"type\":\"BoxZoomTool\"},{\"id\":\"42061\",\"type\":\"SaveTool\"},{\"id\":\"42062\",\"type\":\"ResetTool\"},{\"id\":\"42063\",\"type\":\"HelpTool\"}]},\"id\":\"42064\",\"type\":\"Toolbar\"},{\"attributes\":{\"formatter\":{\"id\":\"42088\",\"type\":\"CategoricalTickFormatter\"},\"minor_tick_line_color\":{\"value\":null},\"plot\":{\"id\":\"42039\",\"subtype\":\"Figure\",\"type\":\"Plot\"},\"ticker\":{\"id\":\"42050\",\"type\":\"CategoricalTicker\"}},\"id\":\"42049\",\"type\":\"CategoricalAxis\"},{\"attributes\":{\"fields\":[\"geom\",\"no-geo\"]},\"id\":\"42076\",\"type\":\"Stack\"},{\"attributes\":{},\"id\":\"42050\",\"type\":\"CategoricalTicker\"},{\"attributes\":{\"bottom\":{\"expr\":{\"id\":\"42075\",\"type\":\"Stack\"}},\"fill_color\":{\"value\":\"#e84d60\"},\"line_color\":{\"value\":\"#e84d60\"},\"top\":{\"expr\":{\"id\":\"42076\",\"type\":\"Stack\"}},\"width\":{\"value\":0.9},\"x\":{\"field\":\"years\"}},\"id\":\"42095\",\"type\":\"VBar\"},{\"attributes\":{\"fields\":[\"geom\"]},\"id\":\"42074\",\"type\":\"Stack\"},{\"attributes\":{\"grid_line_color\":{\"value\":null},\"plot\":{\"id\":\"42039\",\"subtype\":\"Figure\",\"type\":\"Plot\"},\"ticker\":{\"id\":\"42050\",\"type\":\"CategoricalTicker\"}},\"id\":\"42052\",\"type\":\"Grid\"},{\"attributes\":{\"bottom_units\":\"screen\",\"fill_alpha\":{\"value\":0.5},\"fill_color\":{\"value\":\"lightgrey\"},\"left_units\":\"screen\",\"level\":\"overlay\",\"line_alpha\":{\"value\":1.0},\"line_color\":{\"value\":\"black\"},\"line_dash\":[4,4],\"line_width\":{\"value\":2},\"plot\":null,\"render_mode\":\"css\",\"right_units\":\"screen\",\"top_units\":\"screen\"},\"id\":\"42066\",\"type\":\"BoxAnnotation\"},{\"attributes\":{\"bottom\":{\"expr\":{\"id\":\"42075\",\"type\":\"Stack\"}},\"fill_alpha\":{\"value\":0.1},\"fill_color\":{\"value\":\"#1f77b4\"},\"line_alpha\":{\"value\":0.1},\"line_color\":{\"value\":\"#1f77b4\"},\"top\":{\"expr\":{\"id\":\"42076\",\"type\":\"Stack\"}},\"width\":{\"value\":0.9},\"x\":{\"field\":\"years\"}},\"id\":\"42096\",\"type\":\"VBar\"},{\"attributes\":{\"data_source\":{\"id\":\"42093\",\"type\":\"ColumnDataSource\"},\"glyph\":{\"id\":\"42095\",\"type\":\"VBar\"},\"hover_glyph\":null,\"muted_glyph\":null,\"name\":\"no-geo\",\"nonselection_glyph\":{\"id\":\"42096\",\"type\":\"VBar\"},\"selection_glyph\":null,\"view\":{\"id\":\"42098\",\"type\":\"CDSView\"}},\"id\":\"42097\",\"type\":\"GlyphRenderer\"},{\"attributes\":{\"formatter\":{\"id\":\"42086\",\"type\":\"BasicTickFormatter\"},\"minor_tick_line_color\":{\"value\":null},\"plot\":{\"id\":\"42039\",\"subtype\":\"Figure\",\"type\":\"Plot\"},\"ticker\":{\"id\":\"42054\",\"type\":\"BasicTicker\"}},\"id\":\"42053\",\"type\":\"LinearAxis\"},{\"attributes\":{\"fields\":[\"geom\",\"no-geo\"]},\"id\":\"42077\",\"type\":\"Stack\"},{\"attributes\":{\"source\":{\"id\":\"42093\",\"type\":\"ColumnDataSource\"}},\"id\":\"42098\",\"type\":\"CDSView\"},{\"attributes\":{\"fields\":[\"geom\",\"no-geo\",\"bi\"]},\"id\":\"42078\",\"type\":\"Stack\"},{\"attributes\":{\"callback\":null,\"start\":0},\"id\":\"42043\",\"type\":\"DataRange1d\"},{\"attributes\":{\"callback\":null,\"data\":{\"bi\":[0,0,0,0,0],\"geom\":[100689,102910,115372,126420,0],\"no-geo\":[32,14,1,0,127638],\"years\":[\"2012\",\"2013\",\"2014\",\"2015\",\"2016\"]},\"selected\":{\"id\":\"42105\",\"type\":\"Selection\"},\"selection_policy\":{\"id\":\"42106\",\"type\":\"UnionRenderers\"}},\"id\":\"42079\",\"type\":\"ColumnDataSource\"},{\"attributes\":{},\"id\":\"42106\",\"type\":\"UnionRenderers\"},{\"attributes\":{\"callback\":null,\"factors\":[\"2012\",\"2013\",\"2014\",\"2015\",\"2016\"],\"range_padding\":0.1},\"id\":\"42041\",\"type\":\"FactorRange\"},{\"attributes\":{\"label\":{\"value\":\"no-geo\"},\"renderers\":[{\"id\":\"42097\",\"type\":\"GlyphRenderer\"}]},\"id\":\"42107\",\"type\":\"LegendItem\"},{\"attributes\":{\"bottom\":{\"expr\":{\"id\":\"42073\",\"type\":\"Stack\"}},\"fill_color\":{\"value\":\"#5CC9F5\"},\"line_color\":{\"value\":\"#5CC9F5\"},\"top\":{\"expr\":{\"id\":\"42074\",\"type\":\"Stack\"}},\"width\":{\"value\":0.9},\"x\":{\"field\":\"years\"}},\"id\":\"42081\",\"type\":\"VBar\"},{\"attributes\":{\"plot\":null,\"text\":\"ME\"},\"id\":\"42038\",\"type\":\"Title\"},{\"attributes\":{\"fields\":[\"geom\"]},\"id\":\"42075\",\"type\":\"Stack\"},{\"attributes\":{\"bottom\":{\"expr\":{\"id\":\"42073\",\"type\":\"Stack\"}},\"fill_alpha\":{\"value\":0.1},\"fill_color\":{\"value\":\"#1f77b4\"},\"line_alpha\":{\"value\":0.1},\"line_color\":{\"value\":\"#1f77b4\"},\"top\":{\"expr\":{\"id\":\"42074\",\"type\":\"Stack\"}},\"width\":{\"value\":0.9},\"x\":{\"field\":\"years\"}},\"id\":\"42082\",\"type\":\"VBar\"},{\"attributes\":{\"bottom\":{\"expr\":{\"id\":\"42077\",\"type\":\"Stack\"}},\"fill_color\":{\"value\":\"#cccccc\"},\"line_color\":{\"value\":\"#cccccc\"},\"top\":{\"expr\":{\"id\":\"42078\",\"type\":\"Stack\"}},\"width\":{\"value\":0.9},\"x\":{\"field\":\"years\"}},\"id\":\"42110\",\"type\":\"VBar\"},{\"attributes\":{},\"id\":\"42105\",\"type\":\"Selection\"},{\"attributes\":{\"data_source\":{\"id\":\"42108\",\"type\":\"ColumnDataSource\"},\"glyph\":{\"id\":\"42110\",\"type\":\"VBar\"},\"hover_glyph\":null,\"muted_glyph\":null,\"name\":\"bi\",\"nonselection_glyph\":{\"id\":\"42111\",\"type\":\"VBar\"},\"selection_glyph\":null,\"view\":{\"id\":\"42113\",\"type\":\"CDSView\"}},\"id\":\"42112\",\"type\":\"GlyphRenderer\"},{\"attributes\":{\"data_source\":{\"id\":\"42079\",\"type\":\"ColumnDataSource\"},\"glyph\":{\"id\":\"42081\",\"type\":\"VBar\"},\"hover_glyph\":null,\"muted_glyph\":null,\"name\":\"geom\",\"nonselection_glyph\":{\"id\":\"42082\",\"type\":\"VBar\"},\"selection_glyph\":null,\"view\":{\"id\":\"42084\",\"type\":\"CDSView\"}},\"id\":\"42083\",\"type\":\"GlyphRenderer\"},{\"attributes\":{\"source\":{\"id\":\"42108\",\"type\":\"ColumnDataSource\"}},\"id\":\"42113\",\"type\":\"CDSView\"},{\"attributes\":{\"source\":{\"id\":\"42079\",\"type\":\"ColumnDataSource\"}},\"id\":\"42084\",\"type\":\"CDSView\"},{\"attributes\":{},\"id\":\"42122\",\"type\":\"Selection\"},{\"attributes\":{},\"id\":\"42086\",\"type\":\"BasicTickFormatter\"},{\"attributes\":{},\"id\":\"42123\",\"type\":\"UnionRenderers\"}],\"root_ids\":[\"42039\"]},\"title\":\"Bokeh Application\",\"version\":\"1.0.0\"}};\n",
       "  var render_items = [{\"docid\":\"b525a15d-92ae-40c1-9ca7-f4f3ca5d2ba2\",\"roots\":{\"42039\":\"4ce5dc8a-df63-4f17-a335-4e5f8bed632b\"}}];\n",
       "  root.Bokeh.embed.embed_items_notebook(docs_json, render_items);\n",
       "\n",
       "  }\n",
       "  if (root.Bokeh !== undefined) {\n",
       "    embed_document(root);\n",
       "  } else {\n",
       "    var attempts = 0;\n",
       "    var timer = setInterval(function(root) {\n",
       "      if (root.Bokeh !== undefined) {\n",
       "        embed_document(root);\n",
       "        clearInterval(timer);\n",
       "      }\n",
       "      attempts++;\n",
       "      if (attempts > 100) {\n",
       "        console.log(\"Bokeh: ERROR: Unable to run BokehJS code because BokehJS library is missing\");\n",
       "        clearInterval(timer);\n",
       "      }\n",
       "    }, 10, root)\n",
       "  }\n",
       "})(window);"
      ],
      "application/vnd.bokehjs_exec.v0+json": ""
     },
     "metadata": {
      "application/vnd.bokehjs_exec.v0+json": {
       "id": "42039"
      }
     },
     "output_type": "display_data"
    },
    {
     "data": {
      "text/html": [
       "\n",
       "\n",
       "\n",
       "\n",
       "\n",
       "\n",
       "  <div class=\"bk-root\" id=\"464de067-d08a-4806-819f-ceb534fd7afe\"></div>\n"
      ]
     },
     "metadata": {},
     "output_type": "display_data"
    },
    {
     "data": {
      "application/javascript": [
       "(function(root) {\n",
       "  function embed_document(root) {\n",
       "    \n",
       "  var docs_json = {\"6ad4aff3-460a-425a-ba8b-866519408253\":{\"roots\":{\"references\":[{\"attributes\":{\"below\":[{\"id\":\"43060\",\"type\":\"CategoricalAxis\"}],\"left\":[{\"id\":\"43064\",\"type\":\"LinearAxis\"}],\"outline_line_color\":{\"value\":null},\"plot_height\":250,\"renderers\":[{\"id\":\"43060\",\"type\":\"CategoricalAxis\"},{\"id\":\"43063\",\"type\":\"Grid\"},{\"id\":\"43064\",\"type\":\"LinearAxis\"},{\"id\":\"43068\",\"type\":\"Grid\"},{\"id\":\"43077\",\"type\":\"BoxAnnotation\"},{\"id\":\"43102\",\"type\":\"Legend\"},{\"id\":\"43094\",\"type\":\"GlyphRenderer\"},{\"id\":\"43108\",\"type\":\"GlyphRenderer\"},{\"id\":\"43123\",\"type\":\"GlyphRenderer\"}],\"title\":{\"id\":\"43049\",\"type\":\"Title\"},\"toolbar\":{\"id\":\"43075\",\"type\":\"Toolbar\"},\"toolbar_location\":null,\"x_range\":{\"id\":\"43052\",\"type\":\"FactorRange\"},\"x_scale\":{\"id\":\"43056\",\"type\":\"CategoricalScale\"},\"y_range\":{\"id\":\"43054\",\"type\":\"DataRange1d\"},\"y_scale\":{\"id\":\"43058\",\"type\":\"LinearScale\"}},\"id\":\"43050\",\"subtype\":\"Figure\",\"type\":\"Plot\"},{\"attributes\":{\"bottom\":{\"expr\":{\"id\":\"43088\",\"type\":\"Stack\"}},\"fill_alpha\":{\"value\":0.1},\"fill_color\":{\"value\":\"#1f77b4\"},\"line_alpha\":{\"value\":0.1},\"line_color\":{\"value\":\"#1f77b4\"},\"top\":{\"expr\":{\"id\":\"43089\",\"type\":\"Stack\"}},\"width\":{\"value\":0.9},\"x\":{\"field\":\"years\"}},\"id\":\"43122\",\"type\":\"VBar\"},{\"attributes\":{\"bottom\":{\"expr\":{\"id\":\"43088\",\"type\":\"Stack\"}},\"fill_color\":{\"value\":\"#cccccc\"},\"line_color\":{\"value\":\"#cccccc\"},\"top\":{\"expr\":{\"id\":\"43089\",\"type\":\"Stack\"}},\"width\":{\"value\":0.9},\"x\":{\"field\":\"years\"}},\"id\":\"43121\",\"type\":\"VBar\"},{\"attributes\":{\"callback\":null,\"data\":{\"bi\":[0,0,0,0,0],\"geom\":[376826,386557,539002,582421,0],\"no-geo\":[127903,140360,1,1,604358],\"years\":[\"2012\",\"2013\",\"2014\",\"2015\",\"2016\"]},\"selected\":{\"id\":\"43116\",\"type\":\"Selection\"},\"selection_policy\":{\"id\":\"43117\",\"type\":\"UnionRenderers\"}},\"id\":\"43090\",\"type\":\"ColumnDataSource\"},{\"attributes\":{\"plot\":null,\"text\":\"MD\"},\"id\":\"43049\",\"type\":\"Title\"},{\"attributes\":{\"data_source\":{\"id\":\"43119\",\"type\":\"ColumnDataSource\"},\"glyph\":{\"id\":\"43121\",\"type\":\"VBar\"},\"hover_glyph\":null,\"muted_glyph\":null,\"name\":\"bi\",\"nonselection_glyph\":{\"id\":\"43122\",\"type\":\"VBar\"},\"selection_glyph\":null,\"view\":{\"id\":\"43124\",\"type\":\"CDSView\"}},\"id\":\"43123\",\"type\":\"GlyphRenderer\"},{\"attributes\":{\"bottom\":{\"expr\":{\"id\":\"43084\",\"type\":\"Stack\"}},\"fill_color\":{\"value\":\"#5CC9F5\"},\"line_color\":{\"value\":\"#5CC9F5\"},\"top\":{\"expr\":{\"id\":\"43085\",\"type\":\"Stack\"}},\"width\":{\"value\":0.9},\"x\":{\"field\":\"years\"}},\"id\":\"43092\",\"type\":\"VBar\"},{\"attributes\":{\"source\":{\"id\":\"43119\",\"type\":\"ColumnDataSource\"}},\"id\":\"43124\",\"type\":\"CDSView\"},{\"attributes\":{\"bottom\":{\"expr\":{\"id\":\"43084\",\"type\":\"Stack\"}},\"fill_alpha\":{\"value\":0.1},\"fill_color\":{\"value\":\"#1f77b4\"},\"line_alpha\":{\"value\":0.1},\"line_color\":{\"value\":\"#1f77b4\"},\"top\":{\"expr\":{\"id\":\"43085\",\"type\":\"Stack\"}},\"width\":{\"value\":0.9},\"x\":{\"field\":\"years\"}},\"id\":\"43093\",\"type\":\"VBar\"},{\"attributes\":{},\"id\":\"43133\",\"type\":\"Selection\"},{\"attributes\":{\"data_source\":{\"id\":\"43090\",\"type\":\"ColumnDataSource\"},\"glyph\":{\"id\":\"43092\",\"type\":\"VBar\"},\"hover_glyph\":null,\"muted_glyph\":null,\"name\":\"geom\",\"nonselection_glyph\":{\"id\":\"43093\",\"type\":\"VBar\"},\"selection_glyph\":null,\"view\":{\"id\":\"43095\",\"type\":\"CDSView\"}},\"id\":\"43094\",\"type\":\"GlyphRenderer\"},{\"attributes\":{\"label\":{\"value\":\"geom\"},\"renderers\":[{\"id\":\"43094\",\"type\":\"GlyphRenderer\"}]},\"id\":\"43103\",\"type\":\"LegendItem\"},{\"attributes\":{},\"id\":\"43134\",\"type\":\"UnionRenderers\"},{\"attributes\":{\"fields\":[\"geom\",\"no-geo\",\"bi\"]},\"id\":\"43089\",\"type\":\"Stack\"},{\"attributes\":{},\"id\":\"43074\",\"type\":\"HelpTool\"},{\"attributes\":{\"label\":{\"value\":\"bi\"},\"renderers\":[{\"id\":\"43123\",\"type\":\"GlyphRenderer\"}]},\"id\":\"43135\",\"type\":\"LegendItem\"},{\"attributes\":{\"source\":{\"id\":\"43090\",\"type\":\"ColumnDataSource\"}},\"id\":\"43095\",\"type\":\"CDSView\"},{\"attributes\":{},\"id\":\"43097\",\"type\":\"BasicTickFormatter\"},{\"attributes\":{},\"id\":\"43998\",\"type\":\"Selection\"},{\"attributes\":{\"active_drag\":\"auto\",\"active_inspect\":\"auto\",\"active_multi\":null,\"active_scroll\":\"auto\",\"active_tap\":\"auto\",\"tools\":[{\"id\":\"43069\",\"type\":\"PanTool\"},{\"id\":\"43070\",\"type\":\"WheelZoomTool\"},{\"id\":\"43071\",\"type\":\"BoxZoomTool\"},{\"id\":\"43072\",\"type\":\"SaveTool\"},{\"id\":\"43073\",\"type\":\"ResetTool\"},{\"id\":\"43074\",\"type\":\"HelpTool\"}]},\"id\":\"43075\",\"type\":\"Toolbar\"},{\"attributes\":{},\"id\":\"43099\",\"type\":\"CategoricalTickFormatter\"},{\"attributes\":{\"items\":[{\"id\":\"43103\",\"type\":\"LegendItem\"},{\"id\":\"43118\",\"type\":\"LegendItem\"},{\"id\":\"43135\",\"type\":\"LegendItem\"}],\"location\":\"top_left\",\"orientation\":\"horizontal\",\"plot\":{\"id\":\"43050\",\"subtype\":\"Figure\",\"type\":\"Plot\"}},\"id\":\"43102\",\"type\":\"Legend\"},{\"attributes\":{},\"id\":\"43999\",\"type\":\"UnionRenderers\"},{\"attributes\":{},\"id\":\"43069\",\"type\":\"PanTool\"},{\"attributes\":{\"formatter\":{\"id\":\"43097\",\"type\":\"BasicTickFormatter\"},\"minor_tick_line_color\":{\"value\":null},\"plot\":{\"id\":\"43050\",\"subtype\":\"Figure\",\"type\":\"Plot\"},\"ticker\":{\"id\":\"43065\",\"type\":\"BasicTicker\"}},\"id\":\"43064\",\"type\":\"LinearAxis\"},{\"attributes\":{\"label\":{\"value\":\"no-geo\"},\"renderers\":[{\"id\":\"43108\",\"type\":\"GlyphRenderer\"}]},\"id\":\"43118\",\"type\":\"LegendItem\"},{\"attributes\":{},\"id\":\"43065\",\"type\":\"BasicTicker\"},{\"attributes\":{\"bottom\":{\"expr\":{\"id\":\"43086\",\"type\":\"Stack\"}},\"fill_color\":{\"value\":\"#e84d60\"},\"line_color\":{\"value\":\"#e84d60\"},\"top\":{\"expr\":{\"id\":\"43087\",\"type\":\"Stack\"}},\"width\":{\"value\":0.9},\"x\":{\"field\":\"years\"}},\"id\":\"43106\",\"type\":\"VBar\"},{\"attributes\":{\"fields\":[\"geom\"]},\"id\":\"43086\",\"type\":\"Stack\"},{\"attributes\":{},\"id\":\"43056\",\"type\":\"CategoricalScale\"},{\"attributes\":{\"bottom\":{\"expr\":{\"id\":\"43086\",\"type\":\"Stack\"}},\"fill_alpha\":{\"value\":0.1},\"fill_color\":{\"value\":\"#1f77b4\"},\"line_alpha\":{\"value\":0.1},\"line_color\":{\"value\":\"#1f77b4\"},\"top\":{\"expr\":{\"id\":\"43087\",\"type\":\"Stack\"}},\"width\":{\"value\":0.9},\"x\":{\"field\":\"years\"}},\"id\":\"43107\",\"type\":\"VBar\"},{\"attributes\":{\"fields\":[\"geom\"]},\"id\":\"43085\",\"type\":\"Stack\"},{\"attributes\":{\"data_source\":{\"id\":\"43104\",\"type\":\"ColumnDataSource\"},\"glyph\":{\"id\":\"43106\",\"type\":\"VBar\"},\"hover_glyph\":null,\"muted_glyph\":null,\"name\":\"no-geo\",\"nonselection_glyph\":{\"id\":\"43107\",\"type\":\"VBar\"},\"selection_glyph\":null,\"view\":{\"id\":\"43109\",\"type\":\"CDSView\"}},\"id\":\"43108\",\"type\":\"GlyphRenderer\"},{\"attributes\":{\"dimension\":1,\"plot\":{\"id\":\"43050\",\"subtype\":\"Figure\",\"type\":\"Plot\"},\"ticker\":{\"id\":\"43065\",\"type\":\"BasicTicker\"}},\"id\":\"43068\",\"type\":\"Grid\"},{\"attributes\":{\"callback\":null,\"start\":0},\"id\":\"43054\",\"type\":\"DataRange1d\"},{\"attributes\":{},\"id\":\"43070\",\"type\":\"WheelZoomTool\"},{\"attributes\":{\"source\":{\"id\":\"43104\",\"type\":\"ColumnDataSource\"}},\"id\":\"43109\",\"type\":\"CDSView\"},{\"attributes\":{\"fields\":[]},\"id\":\"43084\",\"type\":\"Stack\"},{\"attributes\":{},\"id\":\"43072\",\"type\":\"SaveTool\"},{\"attributes\":{},\"id\":\"43058\",\"type\":\"LinearScale\"},{\"attributes\":{},\"id\":\"43116\",\"type\":\"Selection\"},{\"attributes\":{\"overlay\":{\"id\":\"43077\",\"type\":\"BoxAnnotation\"}},\"id\":\"43071\",\"type\":\"BoxZoomTool\"},{\"attributes\":{\"callback\":null,\"data\":{\"bi\":[0,0,0,0,0],\"geom\":[376826,386557,539002,582421,0],\"no-geo\":[127903,140360,1,1,604358],\"years\":[\"2012\",\"2013\",\"2014\",\"2015\",\"2016\"]},\"selected\":{\"id\":\"43133\",\"type\":\"Selection\"},\"selection_policy\":{\"id\":\"43134\",\"type\":\"UnionRenderers\"}},\"id\":\"43104\",\"type\":\"ColumnDataSource\"},{\"attributes\":{},\"id\":\"43117\",\"type\":\"UnionRenderers\"},{\"attributes\":{\"formatter\":{\"id\":\"43099\",\"type\":\"CategoricalTickFormatter\"},\"minor_tick_line_color\":{\"value\":null},\"plot\":{\"id\":\"43050\",\"subtype\":\"Figure\",\"type\":\"Plot\"},\"ticker\":{\"id\":\"43061\",\"type\":\"CategoricalTicker\"}},\"id\":\"43060\",\"type\":\"CategoricalAxis\"},{\"attributes\":{},\"id\":\"43073\",\"type\":\"ResetTool\"},{\"attributes\":{},\"id\":\"43061\",\"type\":\"CategoricalTicker\"},{\"attributes\":{\"callback\":null,\"data\":{\"bi\":[0,0,0,0,0],\"geom\":[376826,386557,539002,582421,0],\"no-geo\":[127903,140360,1,1,604358],\"years\":[\"2012\",\"2013\",\"2014\",\"2015\",\"2016\"]},\"selected\":{\"id\":\"43998\",\"type\":\"Selection\"},\"selection_policy\":{\"id\":\"43999\",\"type\":\"UnionRenderers\"}},\"id\":\"43119\",\"type\":\"ColumnDataSource\"},{\"attributes\":{\"fields\":[\"geom\",\"no-geo\"]},\"id\":\"43088\",\"type\":\"Stack\"},{\"attributes\":{\"grid_line_color\":{\"value\":null},\"plot\":{\"id\":\"43050\",\"subtype\":\"Figure\",\"type\":\"Plot\"},\"ticker\":{\"id\":\"43061\",\"type\":\"CategoricalTicker\"}},\"id\":\"43063\",\"type\":\"Grid\"},{\"attributes\":{\"bottom_units\":\"screen\",\"fill_alpha\":{\"value\":0.5},\"fill_color\":{\"value\":\"lightgrey\"},\"left_units\":\"screen\",\"level\":\"overlay\",\"line_alpha\":{\"value\":1.0},\"line_color\":{\"value\":\"black\"},\"line_dash\":[4,4],\"line_width\":{\"value\":2},\"plot\":null,\"render_mode\":\"css\",\"right_units\":\"screen\",\"top_units\":\"screen\"},\"id\":\"43077\",\"type\":\"BoxAnnotation\"},{\"attributes\":{\"callback\":null,\"factors\":[\"2012\",\"2013\",\"2014\",\"2015\",\"2016\"],\"range_padding\":0.1},\"id\":\"43052\",\"type\":\"FactorRange\"},{\"attributes\":{\"fields\":[\"geom\",\"no-geo\"]},\"id\":\"43087\",\"type\":\"Stack\"}],\"root_ids\":[\"43050\"]},\"title\":\"Bokeh Application\",\"version\":\"1.0.0\"}};\n",
       "  var render_items = [{\"docid\":\"6ad4aff3-460a-425a-ba8b-866519408253\",\"roots\":{\"43050\":\"464de067-d08a-4806-819f-ceb534fd7afe\"}}];\n",
       "  root.Bokeh.embed.embed_items_notebook(docs_json, render_items);\n",
       "\n",
       "  }\n",
       "  if (root.Bokeh !== undefined) {\n",
       "    embed_document(root);\n",
       "  } else {\n",
       "    var attempts = 0;\n",
       "    var timer = setInterval(function(root) {\n",
       "      if (root.Bokeh !== undefined) {\n",
       "        embed_document(root);\n",
       "        clearInterval(timer);\n",
       "      }\n",
       "      attempts++;\n",
       "      if (attempts > 100) {\n",
       "        console.log(\"Bokeh: ERROR: Unable to run BokehJS code because BokehJS library is missing\");\n",
       "        clearInterval(timer);\n",
       "      }\n",
       "    }, 10, root)\n",
       "  }\n",
       "})(window);"
      ],
      "application/vnd.bokehjs_exec.v0+json": ""
     },
     "metadata": {
      "application/vnd.bokehjs_exec.v0+json": {
       "id": "43050"
      }
     },
     "output_type": "display_data"
    },
    {
     "data": {
      "text/html": [
       "\n",
       "\n",
       "\n",
       "\n",
       "\n",
       "\n",
       "  <div class=\"bk-root\" id=\"69740c64-28aa-4832-925f-f81acb9304f9\"></div>\n"
      ]
     },
     "metadata": {},
     "output_type": "display_data"
    },
    {
     "data": {
      "application/javascript": [
       "(function(root) {\n",
       "  function embed_document(root) {\n",
       "    \n",
       "  var docs_json = {\"18f72f0f-34d1-44b1-a916-725ce1a02875\":{\"roots\":{\"references\":[{\"attributes\":{\"below\":[{\"id\":\"44083\",\"type\":\"CategoricalAxis\"}],\"left\":[{\"id\":\"44087\",\"type\":\"LinearAxis\"}],\"outline_line_color\":{\"value\":null},\"plot_height\":250,\"renderers\":[{\"id\":\"44083\",\"type\":\"CategoricalAxis\"},{\"id\":\"44086\",\"type\":\"Grid\"},{\"id\":\"44087\",\"type\":\"LinearAxis\"},{\"id\":\"44091\",\"type\":\"Grid\"},{\"id\":\"44100\",\"type\":\"BoxAnnotation\"},{\"id\":\"44125\",\"type\":\"Legend\"},{\"id\":\"44117\",\"type\":\"GlyphRenderer\"},{\"id\":\"44131\",\"type\":\"GlyphRenderer\"},{\"id\":\"44146\",\"type\":\"GlyphRenderer\"}],\"title\":{\"id\":\"44072\",\"type\":\"Title\"},\"toolbar\":{\"id\":\"44098\",\"type\":\"Toolbar\"},\"toolbar_location\":null,\"x_range\":{\"id\":\"44075\",\"type\":\"FactorRange\"},\"x_scale\":{\"id\":\"44079\",\"type\":\"CategoricalScale\"},\"y_range\":{\"id\":\"44077\",\"type\":\"DataRange1d\"},\"y_scale\":{\"id\":\"44081\",\"type\":\"LinearScale\"}},\"id\":\"44073\",\"subtype\":\"Figure\",\"type\":\"Plot\"},{\"attributes\":{},\"id\":\"44081\",\"type\":\"LinearScale\"},{\"attributes\":{\"fields\":[\"geom\",\"no-geo\"]},\"id\":\"44111\",\"type\":\"Stack\"},{\"attributes\":{\"bottom\":{\"expr\":{\"id\":\"44109\",\"type\":\"Stack\"}},\"fill_alpha\":{\"value\":0.1},\"fill_color\":{\"value\":\"#1f77b4\"},\"line_alpha\":{\"value\":0.1},\"line_color\":{\"value\":\"#1f77b4\"},\"top\":{\"expr\":{\"id\":\"44110\",\"type\":\"Stack\"}},\"width\":{\"value\":0.9},\"x\":{\"field\":\"years\"}},\"id\":\"44130\",\"type\":\"VBar\"},{\"attributes\":{\"formatter\":{\"id\":\"44122\",\"type\":\"CategoricalTickFormatter\"},\"minor_tick_line_color\":{\"value\":null},\"plot\":{\"id\":\"44073\",\"subtype\":\"Figure\",\"type\":\"Plot\"},\"ticker\":{\"id\":\"44084\",\"type\":\"CategoricalTicker\"}},\"id\":\"44083\",\"type\":\"CategoricalAxis\"},{\"attributes\":{\"fields\":[\"geom\",\"no-geo\",\"bi\"]},\"id\":\"44112\",\"type\":\"Stack\"},{\"attributes\":{\"data_source\":{\"id\":\"44127\",\"type\":\"ColumnDataSource\"},\"glyph\":{\"id\":\"44129\",\"type\":\"VBar\"},\"hover_glyph\":null,\"muted_glyph\":null,\"name\":\"no-geo\",\"nonselection_glyph\":{\"id\":\"44130\",\"type\":\"VBar\"},\"selection_glyph\":null,\"view\":{\"id\":\"44132\",\"type\":\"CDSView\"}},\"id\":\"44131\",\"type\":\"GlyphRenderer\"},{\"attributes\":{},\"id\":\"44084\",\"type\":\"CategoricalTicker\"},{\"attributes\":{\"callback\":null,\"data\":{\"bi\":[0,0,4,34,0],\"geom\":[562419,568917,769534,862042,0],\"no-geo\":[197672,207290,1,2,884654],\"years\":[\"2012\",\"2013\",\"2014\",\"2015\",\"2016\"]},\"selected\":{\"id\":\"44139\",\"type\":\"Selection\"},\"selection_policy\":{\"id\":\"44140\",\"type\":\"UnionRenderers\"}},\"id\":\"44113\",\"type\":\"ColumnDataSource\"},{\"attributes\":{\"source\":{\"id\":\"44127\",\"type\":\"ColumnDataSource\"}},\"id\":\"44132\",\"type\":\"CDSView\"},{\"attributes\":{\"grid_line_color\":{\"value\":null},\"plot\":{\"id\":\"44073\",\"subtype\":\"Figure\",\"type\":\"Plot\"},\"ticker\":{\"id\":\"44084\",\"type\":\"CategoricalTicker\"}},\"id\":\"44086\",\"type\":\"Grid\"},{\"attributes\":{\"callback\":null,\"data\":{\"bi\":[0,0,4,34,0],\"geom\":[562419,568917,769534,862042,0],\"no-geo\":[197672,207290,1,2,884654],\"years\":[\"2012\",\"2013\",\"2014\",\"2015\",\"2016\"]},\"selected\":{\"id\":\"45033\",\"type\":\"Selection\"},\"selection_policy\":{\"id\":\"45034\",\"type\":\"UnionRenderers\"}},\"id\":\"44142\",\"type\":\"ColumnDataSource\"},{\"attributes\":{},\"id\":\"44139\",\"type\":\"Selection\"},{\"attributes\":{\"formatter\":{\"id\":\"44120\",\"type\":\"BasicTickFormatter\"},\"minor_tick_line_color\":{\"value\":null},\"plot\":{\"id\":\"44073\",\"subtype\":\"Figure\",\"type\":\"Plot\"},\"ticker\":{\"id\":\"44088\",\"type\":\"BasicTicker\"}},\"id\":\"44087\",\"type\":\"LinearAxis\"},{\"attributes\":{\"bottom\":{\"expr\":{\"id\":\"44107\",\"type\":\"Stack\"}},\"fill_color\":{\"value\":\"#5CC9F5\"},\"line_color\":{\"value\":\"#5CC9F5\"},\"top\":{\"expr\":{\"id\":\"44108\",\"type\":\"Stack\"}},\"width\":{\"value\":0.9},\"x\":{\"field\":\"years\"}},\"id\":\"44115\",\"type\":\"VBar\"},{\"attributes\":{},\"id\":\"44140\",\"type\":\"UnionRenderers\"},{\"attributes\":{},\"id\":\"44088\",\"type\":\"BasicTicker\"},{\"attributes\":{\"bottom\":{\"expr\":{\"id\":\"44107\",\"type\":\"Stack\"}},\"fill_alpha\":{\"value\":0.1},\"fill_color\":{\"value\":\"#1f77b4\"},\"line_alpha\":{\"value\":0.1},\"line_color\":{\"value\":\"#1f77b4\"},\"top\":{\"expr\":{\"id\":\"44108\",\"type\":\"Stack\"}},\"width\":{\"value\":0.9},\"x\":{\"field\":\"years\"}},\"id\":\"44116\",\"type\":\"VBar\"},{\"attributes\":{\"dimension\":1,\"plot\":{\"id\":\"44073\",\"subtype\":\"Figure\",\"type\":\"Plot\"},\"ticker\":{\"id\":\"44088\",\"type\":\"BasicTicker\"}},\"id\":\"44091\",\"type\":\"Grid\"},{\"attributes\":{\"bottom\":{\"expr\":{\"id\":\"44111\",\"type\":\"Stack\"}},\"fill_color\":{\"value\":\"#cccccc\"},\"line_color\":{\"value\":\"#cccccc\"},\"top\":{\"expr\":{\"id\":\"44112\",\"type\":\"Stack\"}},\"width\":{\"value\":0.9},\"x\":{\"field\":\"years\"}},\"id\":\"44144\",\"type\":\"VBar\"},{\"attributes\":{\"data_source\":{\"id\":\"44113\",\"type\":\"ColumnDataSource\"},\"glyph\":{\"id\":\"44115\",\"type\":\"VBar\"},\"hover_glyph\":null,\"muted_glyph\":null,\"name\":\"geom\",\"nonselection_glyph\":{\"id\":\"44116\",\"type\":\"VBar\"},\"selection_glyph\":null,\"view\":{\"id\":\"44118\",\"type\":\"CDSView\"}},\"id\":\"44117\",\"type\":\"GlyphRenderer\"},{\"attributes\":{},\"id\":\"44079\",\"type\":\"CategoricalScale\"},{\"attributes\":{\"bottom\":{\"expr\":{\"id\":\"44111\",\"type\":\"Stack\"}},\"fill_alpha\":{\"value\":0.1},\"fill_color\":{\"value\":\"#1f77b4\"},\"line_alpha\":{\"value\":0.1},\"line_color\":{\"value\":\"#1f77b4\"},\"top\":{\"expr\":{\"id\":\"44112\",\"type\":\"Stack\"}},\"width\":{\"value\":0.9},\"x\":{\"field\":\"years\"}},\"id\":\"44145\",\"type\":\"VBar\"},{\"attributes\":{\"fields\":[\"geom\"]},\"id\":\"44109\",\"type\":\"Stack\"},{\"attributes\":{\"source\":{\"id\":\"44113\",\"type\":\"ColumnDataSource\"}},\"id\":\"44118\",\"type\":\"CDSView\"},{\"attributes\":{\"plot\":null,\"text\":\"MA\"},\"id\":\"44072\",\"type\":\"Title\"},{\"attributes\":{\"data_source\":{\"id\":\"44142\",\"type\":\"ColumnDataSource\"},\"glyph\":{\"id\":\"44144\",\"type\":\"VBar\"},\"hover_glyph\":null,\"muted_glyph\":null,\"name\":\"bi\",\"nonselection_glyph\":{\"id\":\"44145\",\"type\":\"VBar\"},\"selection_glyph\":null,\"view\":{\"id\":\"44147\",\"type\":\"CDSView\"}},\"id\":\"44146\",\"type\":\"GlyphRenderer\"},{\"attributes\":{},\"id\":\"44120\",\"type\":\"BasicTickFormatter\"},{\"attributes\":{\"fields\":[\"geom\"]},\"id\":\"44108\",\"type\":\"Stack\"},{\"attributes\":{\"source\":{\"id\":\"44142\",\"type\":\"ColumnDataSource\"}},\"id\":\"44147\",\"type\":\"CDSView\"},{\"attributes\":{\"fields\":[\"geom\",\"no-geo\"]},\"id\":\"44110\",\"type\":\"Stack\"},{\"attributes\":{\"callback\":null,\"start\":0},\"id\":\"44077\",\"type\":\"DataRange1d\"},{\"attributes\":{},\"id\":\"45033\",\"type\":\"Selection\"},{\"attributes\":{},\"id\":\"44092\",\"type\":\"PanTool\"},{\"attributes\":{},\"id\":\"44156\",\"type\":\"Selection\"},{\"attributes\":{},\"id\":\"44122\",\"type\":\"CategoricalTickFormatter\"},{\"attributes\":{},\"id\":\"44093\",\"type\":\"WheelZoomTool\"},{\"attributes\":{},\"id\":\"44157\",\"type\":\"UnionRenderers\"},{\"attributes\":{\"callback\":null,\"factors\":[\"2012\",\"2013\",\"2014\",\"2015\",\"2016\"],\"range_padding\":0.1},\"id\":\"44075\",\"type\":\"FactorRange\"},{\"attributes\":{\"overlay\":{\"id\":\"44100\",\"type\":\"BoxAnnotation\"}},\"id\":\"44094\",\"type\":\"BoxZoomTool\"},{\"attributes\":{\"label\":{\"value\":\"bi\"},\"renderers\":[{\"id\":\"44146\",\"type\":\"GlyphRenderer\"}]},\"id\":\"44158\",\"type\":\"LegendItem\"},{\"attributes\":{\"items\":[{\"id\":\"44126\",\"type\":\"LegendItem\"},{\"id\":\"44141\",\"type\":\"LegendItem\"},{\"id\":\"44158\",\"type\":\"LegendItem\"}],\"location\":\"top_left\",\"orientation\":\"horizontal\",\"plot\":{\"id\":\"44073\",\"subtype\":\"Figure\",\"type\":\"Plot\"}},\"id\":\"44125\",\"type\":\"Legend\"},{\"attributes\":{},\"id\":\"44095\",\"type\":\"SaveTool\"},{\"attributes\":{},\"id\":\"45034\",\"type\":\"UnionRenderers\"},{\"attributes\":{\"label\":{\"value\":\"geom\"},\"renderers\":[{\"id\":\"44117\",\"type\":\"GlyphRenderer\"}]},\"id\":\"44126\",\"type\":\"LegendItem\"},{\"attributes\":{\"bottom\":{\"expr\":{\"id\":\"44109\",\"type\":\"Stack\"}},\"fill_color\":{\"value\":\"#e84d60\"},\"line_color\":{\"value\":\"#e84d60\"},\"top\":{\"expr\":{\"id\":\"44110\",\"type\":\"Stack\"}},\"width\":{\"value\":0.9},\"x\":{\"field\":\"years\"}},\"id\":\"44129\",\"type\":\"VBar\"},{\"attributes\":{},\"id\":\"44096\",\"type\":\"ResetTool\"},{\"attributes\":{\"callback\":null,\"data\":{\"bi\":[0,0,4,34,0],\"geom\":[562419,568917,769534,862042,0],\"no-geo\":[197672,207290,1,2,884654],\"years\":[\"2012\",\"2013\",\"2014\",\"2015\",\"2016\"]},\"selected\":{\"id\":\"44156\",\"type\":\"Selection\"},\"selection_policy\":{\"id\":\"44157\",\"type\":\"UnionRenderers\"}},\"id\":\"44127\",\"type\":\"ColumnDataSource\"},{\"attributes\":{},\"id\":\"44097\",\"type\":\"HelpTool\"},{\"attributes\":{\"active_drag\":\"auto\",\"active_inspect\":\"auto\",\"active_multi\":null,\"active_scroll\":\"auto\",\"active_tap\":\"auto\",\"tools\":[{\"id\":\"44092\",\"type\":\"PanTool\"},{\"id\":\"44093\",\"type\":\"WheelZoomTool\"},{\"id\":\"44094\",\"type\":\"BoxZoomTool\"},{\"id\":\"44095\",\"type\":\"SaveTool\"},{\"id\":\"44096\",\"type\":\"ResetTool\"},{\"id\":\"44097\",\"type\":\"HelpTool\"}]},\"id\":\"44098\",\"type\":\"Toolbar\"},{\"attributes\":{\"label\":{\"value\":\"no-geo\"},\"renderers\":[{\"id\":\"44131\",\"type\":\"GlyphRenderer\"}]},\"id\":\"44141\",\"type\":\"LegendItem\"},{\"attributes\":{\"fields\":[]},\"id\":\"44107\",\"type\":\"Stack\"},{\"attributes\":{\"bottom_units\":\"screen\",\"fill_alpha\":{\"value\":0.5},\"fill_color\":{\"value\":\"lightgrey\"},\"left_units\":\"screen\",\"level\":\"overlay\",\"line_alpha\":{\"value\":1.0},\"line_color\":{\"value\":\"black\"},\"line_dash\":[4,4],\"line_width\":{\"value\":2},\"plot\":null,\"render_mode\":\"css\",\"right_units\":\"screen\",\"top_units\":\"screen\"},\"id\":\"44100\",\"type\":\"BoxAnnotation\"}],\"root_ids\":[\"44073\"]},\"title\":\"Bokeh Application\",\"version\":\"1.0.0\"}};\n",
       "  var render_items = [{\"docid\":\"18f72f0f-34d1-44b1-a916-725ce1a02875\",\"roots\":{\"44073\":\"69740c64-28aa-4832-925f-f81acb9304f9\"}}];\n",
       "  root.Bokeh.embed.embed_items_notebook(docs_json, render_items);\n",
       "\n",
       "  }\n",
       "  if (root.Bokeh !== undefined) {\n",
       "    embed_document(root);\n",
       "  } else {\n",
       "    var attempts = 0;\n",
       "    var timer = setInterval(function(root) {\n",
       "      if (root.Bokeh !== undefined) {\n",
       "        embed_document(root);\n",
       "        clearInterval(timer);\n",
       "      }\n",
       "      attempts++;\n",
       "      if (attempts > 100) {\n",
       "        console.log(\"Bokeh: ERROR: Unable to run BokehJS code because BokehJS library is missing\");\n",
       "        clearInterval(timer);\n",
       "      }\n",
       "    }, 10, root)\n",
       "  }\n",
       "})(window);"
      ],
      "application/vnd.bokehjs_exec.v0+json": ""
     },
     "metadata": {
      "application/vnd.bokehjs_exec.v0+json": {
       "id": "44073"
      }
     },
     "output_type": "display_data"
    },
    {
     "data": {
      "text/html": [
       "\n",
       "\n",
       "\n",
       "\n",
       "\n",
       "\n",
       "  <div class=\"bk-root\" id=\"a3705111-c231-4698-ab26-7b7df98de6c3\"></div>\n"
      ]
     },
     "metadata": {},
     "output_type": "display_data"
    },
    {
     "data": {
      "application/javascript": [
       "(function(root) {\n",
       "  function embed_document(root) {\n",
       "    \n",
       "  var docs_json = {\"f5137f66-fcfe-42b5-8f30-0cea2f986c87\":{\"roots\":{\"references\":[{\"attributes\":{\"below\":[{\"id\":\"45118\",\"type\":\"CategoricalAxis\"}],\"left\":[{\"id\":\"45122\",\"type\":\"LinearAxis\"}],\"outline_line_color\":{\"value\":null},\"plot_height\":250,\"renderers\":[{\"id\":\"45118\",\"type\":\"CategoricalAxis\"},{\"id\":\"45121\",\"type\":\"Grid\"},{\"id\":\"45122\",\"type\":\"LinearAxis\"},{\"id\":\"45126\",\"type\":\"Grid\"},{\"id\":\"45135\",\"type\":\"BoxAnnotation\"},{\"id\":\"45160\",\"type\":\"Legend\"},{\"id\":\"45152\",\"type\":\"GlyphRenderer\"},{\"id\":\"45166\",\"type\":\"GlyphRenderer\"},{\"id\":\"45181\",\"type\":\"GlyphRenderer\"}],\"title\":{\"id\":\"45107\",\"type\":\"Title\"},\"toolbar\":{\"id\":\"45133\",\"type\":\"Toolbar\"},\"toolbar_location\":null,\"x_range\":{\"id\":\"45110\",\"type\":\"FactorRange\"},\"x_scale\":{\"id\":\"45114\",\"type\":\"CategoricalScale\"},\"y_range\":{\"id\":\"45112\",\"type\":\"DataRange1d\"},\"y_scale\":{\"id\":\"45116\",\"type\":\"LinearScale\"}},\"id\":\"45108\",\"subtype\":\"Figure\",\"type\":\"Plot\"},{\"attributes\":{\"formatter\":{\"id\":\"45155\",\"type\":\"BasicTickFormatter\"},\"minor_tick_line_color\":{\"value\":null},\"plot\":{\"id\":\"45108\",\"subtype\":\"Figure\",\"type\":\"Plot\"},\"ticker\":{\"id\":\"45123\",\"type\":\"BasicTicker\"}},\"id\":\"45122\",\"type\":\"LinearAxis\"},{\"attributes\":{},\"id\":\"45123\",\"type\":\"BasicTicker\"},{\"attributes\":{\"bottom\":{\"expr\":{\"id\":\"45144\",\"type\":\"Stack\"}},\"fill_color\":{\"value\":\"#e84d60\"},\"line_color\":{\"value\":\"#e84d60\"},\"top\":{\"expr\":{\"id\":\"45145\",\"type\":\"Stack\"}},\"width\":{\"value\":0.9},\"x\":{\"field\":\"years\"}},\"id\":\"45164\",\"type\":\"VBar\"},{\"attributes\":{},\"id\":\"45128\",\"type\":\"WheelZoomTool\"},{\"attributes\":{\"bottom\":{\"expr\":{\"id\":\"45144\",\"type\":\"Stack\"}},\"fill_alpha\":{\"value\":0.1},\"fill_color\":{\"value\":\"#1f77b4\"},\"line_alpha\":{\"value\":0.1},\"line_color\":{\"value\":\"#1f77b4\"},\"top\":{\"expr\":{\"id\":\"45145\",\"type\":\"Stack\"}},\"width\":{\"value\":0.9},\"x\":{\"field\":\"years\"}},\"id\":\"45165\",\"type\":\"VBar\"},{\"attributes\":{\"overlay\":{\"id\":\"45135\",\"type\":\"BoxAnnotation\"}},\"id\":\"45129\",\"type\":\"BoxZoomTool\"},{\"attributes\":{},\"id\":\"45114\",\"type\":\"CategoricalScale\"},{\"attributes\":{\"data_source\":{\"id\":\"45162\",\"type\":\"ColumnDataSource\"},\"glyph\":{\"id\":\"45164\",\"type\":\"VBar\"},\"hover_glyph\":null,\"muted_glyph\":null,\"name\":\"no-geo\",\"nonselection_glyph\":{\"id\":\"45165\",\"type\":\"VBar\"},\"selection_glyph\":null,\"view\":{\"id\":\"45167\",\"type\":\"CDSView\"}},\"id\":\"45166\",\"type\":\"GlyphRenderer\"},{\"attributes\":{},\"id\":\"45130\",\"type\":\"SaveTool\"},{\"attributes\":{\"source\":{\"id\":\"45162\",\"type\":\"ColumnDataSource\"}},\"id\":\"45167\",\"type\":\"CDSView\"},{\"attributes\":{},\"id\":\"45131\",\"type\":\"ResetTool\"},{\"attributes\":{\"callback\":null,\"start\":0},\"id\":\"45112\",\"type\":\"DataRange1d\"},{\"attributes\":{\"dimension\":1,\"plot\":{\"id\":\"45108\",\"subtype\":\"Figure\",\"type\":\"Plot\"},\"ticker\":{\"id\":\"45123\",\"type\":\"BasicTicker\"}},\"id\":\"45126\",\"type\":\"Grid\"},{\"attributes\":{},\"id\":\"45174\",\"type\":\"Selection\"},{\"attributes\":{},\"id\":\"45132\",\"type\":\"HelpTool\"},{\"attributes\":{},\"id\":\"45116\",\"type\":\"LinearScale\"},{\"attributes\":{},\"id\":\"45175\",\"type\":\"UnionRenderers\"},{\"attributes\":{\"active_drag\":\"auto\",\"active_inspect\":\"auto\",\"active_multi\":null,\"active_scroll\":\"auto\",\"active_tap\":\"auto\",\"tools\":[{\"id\":\"45127\",\"type\":\"PanTool\"},{\"id\":\"45128\",\"type\":\"WheelZoomTool\"},{\"id\":\"45129\",\"type\":\"BoxZoomTool\"},{\"id\":\"45130\",\"type\":\"SaveTool\"},{\"id\":\"45131\",\"type\":\"ResetTool\"},{\"id\":\"45132\",\"type\":\"HelpTool\"}]},\"id\":\"45133\",\"type\":\"Toolbar\"},{\"attributes\":{\"fields\":[\"geom\",\"no-geo\"]},\"id\":\"45145\",\"type\":\"Stack\"},{\"attributes\":{\"label\":{\"value\":\"no-geo\"},\"renderers\":[{\"id\":\"45166\",\"type\":\"GlyphRenderer\"}]},\"id\":\"45176\",\"type\":\"LegendItem\"},{\"attributes\":{\"formatter\":{\"id\":\"45157\",\"type\":\"CategoricalTickFormatter\"},\"minor_tick_line_color\":{\"value\":null},\"plot\":{\"id\":\"45108\",\"subtype\":\"Figure\",\"type\":\"Plot\"},\"ticker\":{\"id\":\"45119\",\"type\":\"CategoricalTicker\"}},\"id\":\"45118\",\"type\":\"CategoricalAxis\"},{\"attributes\":{\"bottom_units\":\"screen\",\"fill_alpha\":{\"value\":0.5},\"fill_color\":{\"value\":\"lightgrey\"},\"left_units\":\"screen\",\"level\":\"overlay\",\"line_alpha\":{\"value\":1.0},\"line_color\":{\"value\":\"black\"},\"line_dash\":[4,4],\"line_width\":{\"value\":2},\"plot\":null,\"render_mode\":\"css\",\"right_units\":\"screen\",\"top_units\":\"screen\"},\"id\":\"45135\",\"type\":\"BoxAnnotation\"},{\"attributes\":{},\"id\":\"45119\",\"type\":\"CategoricalTicker\"},{\"attributes\":{\"callback\":null,\"data\":{\"bi\":[0,0,0,6,0],\"geom\":[20,7,530677,563301,0],\"no-geo\":[488148,496949,2,2,642126],\"years\":[\"2012\",\"2013\",\"2014\",\"2015\",\"2016\"]},\"selected\":{\"id\":\"46080\",\"type\":\"Selection\"},\"selection_policy\":{\"id\":\"46081\",\"type\":\"UnionRenderers\"}},\"id\":\"45177\",\"type\":\"ColumnDataSource\"},{\"attributes\":{\"grid_line_color\":{\"value\":null},\"plot\":{\"id\":\"45108\",\"subtype\":\"Figure\",\"type\":\"Plot\"},\"ticker\":{\"id\":\"45119\",\"type\":\"CategoricalTicker\"}},\"id\":\"45121\",\"type\":\"Grid\"},{\"attributes\":{},\"id\":\"45127\",\"type\":\"PanTool\"},{\"attributes\":{\"fields\":[\"geom\",\"no-geo\"]},\"id\":\"45146\",\"type\":\"Stack\"},{\"attributes\":{\"fields\":[]},\"id\":\"45142\",\"type\":\"Stack\"},{\"attributes\":{\"callback\":null,\"factors\":[\"2012\",\"2013\",\"2014\",\"2015\",\"2016\"],\"range_padding\":0.1},\"id\":\"45110\",\"type\":\"FactorRange\"},{\"attributes\":{\"bottom\":{\"expr\":{\"id\":\"45146\",\"type\":\"Stack\"}},\"fill_color\":{\"value\":\"#cccccc\"},\"line_color\":{\"value\":\"#cccccc\"},\"top\":{\"expr\":{\"id\":\"45147\",\"type\":\"Stack\"}},\"width\":{\"value\":0.9},\"x\":{\"field\":\"years\"}},\"id\":\"45179\",\"type\":\"VBar\"},{\"attributes\":{\"fields\":[\"geom\",\"no-geo\",\"bi\"]},\"id\":\"45147\",\"type\":\"Stack\"},{\"attributes\":{\"bottom\":{\"expr\":{\"id\":\"45146\",\"type\":\"Stack\"}},\"fill_alpha\":{\"value\":0.1},\"fill_color\":{\"value\":\"#1f77b4\"},\"line_alpha\":{\"value\":0.1},\"line_color\":{\"value\":\"#1f77b4\"},\"top\":{\"expr\":{\"id\":\"45147\",\"type\":\"Stack\"}},\"width\":{\"value\":0.9},\"x\":{\"field\":\"years\"}},\"id\":\"45180\",\"type\":\"VBar\"},{\"attributes\":{\"callback\":null,\"data\":{\"bi\":[0,0,0,6,0],\"geom\":[20,7,530677,563301,0],\"no-geo\":[488148,496949,2,2,642126],\"years\":[\"2012\",\"2013\",\"2014\",\"2015\",\"2016\"]},\"selected\":{\"id\":\"45174\",\"type\":\"Selection\"},\"selection_policy\":{\"id\":\"45175\",\"type\":\"UnionRenderers\"}},\"id\":\"45148\",\"type\":\"ColumnDataSource\"},{\"attributes\":{\"plot\":null,\"text\":\"MI\"},\"id\":\"45107\",\"type\":\"Title\"},{\"attributes\":{\"data_source\":{\"id\":\"45177\",\"type\":\"ColumnDataSource\"},\"glyph\":{\"id\":\"45179\",\"type\":\"VBar\"},\"hover_glyph\":null,\"muted_glyph\":null,\"name\":\"bi\",\"nonselection_glyph\":{\"id\":\"45180\",\"type\":\"VBar\"},\"selection_glyph\":null,\"view\":{\"id\":\"45182\",\"type\":\"CDSView\"}},\"id\":\"45181\",\"type\":\"GlyphRenderer\"},{\"attributes\":{\"fields\":[\"geom\"]},\"id\":\"45144\",\"type\":\"Stack\"},{\"attributes\":{\"bottom\":{\"expr\":{\"id\":\"45142\",\"type\":\"Stack\"}},\"fill_color\":{\"value\":\"#5CC9F5\"},\"line_color\":{\"value\":\"#5CC9F5\"},\"top\":{\"expr\":{\"id\":\"45143\",\"type\":\"Stack\"}},\"width\":{\"value\":0.9},\"x\":{\"field\":\"years\"}},\"id\":\"45150\",\"type\":\"VBar\"},{\"attributes\":{\"source\":{\"id\":\"45177\",\"type\":\"ColumnDataSource\"}},\"id\":\"45182\",\"type\":\"CDSView\"},{\"attributes\":{\"bottom\":{\"expr\":{\"id\":\"45142\",\"type\":\"Stack\"}},\"fill_alpha\":{\"value\":0.1},\"fill_color\":{\"value\":\"#1f77b4\"},\"line_alpha\":{\"value\":0.1},\"line_color\":{\"value\":\"#1f77b4\"},\"top\":{\"expr\":{\"id\":\"45143\",\"type\":\"Stack\"}},\"width\":{\"value\":0.9},\"x\":{\"field\":\"years\"}},\"id\":\"45151\",\"type\":\"VBar\"},{\"attributes\":{\"label\":{\"value\":\"geom\"},\"renderers\":[{\"id\":\"45152\",\"type\":\"GlyphRenderer\"}]},\"id\":\"45161\",\"type\":\"LegendItem\"},{\"attributes\":{},\"id\":\"45191\",\"type\":\"Selection\"},{\"attributes\":{\"data_source\":{\"id\":\"45148\",\"type\":\"ColumnDataSource\"},\"glyph\":{\"id\":\"45150\",\"type\":\"VBar\"},\"hover_glyph\":null,\"muted_glyph\":null,\"name\":\"geom\",\"nonselection_glyph\":{\"id\":\"45151\",\"type\":\"VBar\"},\"selection_glyph\":null,\"view\":{\"id\":\"45153\",\"type\":\"CDSView\"}},\"id\":\"45152\",\"type\":\"GlyphRenderer\"},{\"attributes\":{},\"id\":\"45192\",\"type\":\"UnionRenderers\"},{\"attributes\":{\"callback\":null,\"data\":{\"bi\":[0,0,0,6,0],\"geom\":[20,7,530677,563301,0],\"no-geo\":[488148,496949,2,2,642126],\"years\":[\"2012\",\"2013\",\"2014\",\"2015\",\"2016\"]},\"selected\":{\"id\":\"45191\",\"type\":\"Selection\"},\"selection_policy\":{\"id\":\"45192\",\"type\":\"UnionRenderers\"}},\"id\":\"45162\",\"type\":\"ColumnDataSource\"},{\"attributes\":{\"source\":{\"id\":\"45148\",\"type\":\"ColumnDataSource\"}},\"id\":\"45153\",\"type\":\"CDSView\"},{\"attributes\":{\"label\":{\"value\":\"bi\"},\"renderers\":[{\"id\":\"45181\",\"type\":\"GlyphRenderer\"}]},\"id\":\"45193\",\"type\":\"LegendItem\"},{\"attributes\":{\"items\":[{\"id\":\"45161\",\"type\":\"LegendItem\"},{\"id\":\"45176\",\"type\":\"LegendItem\"},{\"id\":\"45193\",\"type\":\"LegendItem\"}],\"location\":\"top_left\",\"orientation\":\"horizontal\",\"plot\":{\"id\":\"45108\",\"subtype\":\"Figure\",\"type\":\"Plot\"}},\"id\":\"45160\",\"type\":\"Legend\"},{\"attributes\":{},\"id\":\"45155\",\"type\":\"BasicTickFormatter\"},{\"attributes\":{\"fields\":[\"geom\"]},\"id\":\"45143\",\"type\":\"Stack\"},{\"attributes\":{},\"id\":\"46080\",\"type\":\"Selection\"},{\"attributes\":{},\"id\":\"45157\",\"type\":\"CategoricalTickFormatter\"},{\"attributes\":{},\"id\":\"46081\",\"type\":\"UnionRenderers\"}],\"root_ids\":[\"45108\"]},\"title\":\"Bokeh Application\",\"version\":\"1.0.0\"}};\n",
       "  var render_items = [{\"docid\":\"f5137f66-fcfe-42b5-8f30-0cea2f986c87\",\"roots\":{\"45108\":\"a3705111-c231-4698-ab26-7b7df98de6c3\"}}];\n",
       "  root.Bokeh.embed.embed_items_notebook(docs_json, render_items);\n",
       "\n",
       "  }\n",
       "  if (root.Bokeh !== undefined) {\n",
       "    embed_document(root);\n",
       "  } else {\n",
       "    var attempts = 0;\n",
       "    var timer = setInterval(function(root) {\n",
       "      if (root.Bokeh !== undefined) {\n",
       "        embed_document(root);\n",
       "        clearInterval(timer);\n",
       "      }\n",
       "      attempts++;\n",
       "      if (attempts > 100) {\n",
       "        console.log(\"Bokeh: ERROR: Unable to run BokehJS code because BokehJS library is missing\");\n",
       "        clearInterval(timer);\n",
       "      }\n",
       "    }, 10, root)\n",
       "  }\n",
       "})(window);"
      ],
      "application/vnd.bokehjs_exec.v0+json": ""
     },
     "metadata": {
      "application/vnd.bokehjs_exec.v0+json": {
       "id": "45108"
      }
     },
     "output_type": "display_data"
    },
    {
     "data": {
      "text/html": [
       "\n",
       "\n",
       "\n",
       "\n",
       "\n",
       "\n",
       "  <div class=\"bk-root\" id=\"d9ab58b8-a0db-499e-994b-a25860835ccf\"></div>\n"
      ]
     },
     "metadata": {},
     "output_type": "display_data"
    },
    {
     "data": {
      "application/javascript": [
       "(function(root) {\n",
       "  function embed_document(root) {\n",
       "    \n",
       "  var docs_json = {\"f4cfaa03-a418-4a08-bd49-7168076ba763\":{\"roots\":{\"references\":[{\"attributes\":{\"below\":[{\"id\":\"46165\",\"type\":\"CategoricalAxis\"}],\"left\":[{\"id\":\"46169\",\"type\":\"LinearAxis\"}],\"outline_line_color\":{\"value\":null},\"plot_height\":250,\"renderers\":[{\"id\":\"46165\",\"type\":\"CategoricalAxis\"},{\"id\":\"46168\",\"type\":\"Grid\"},{\"id\":\"46169\",\"type\":\"LinearAxis\"},{\"id\":\"46173\",\"type\":\"Grid\"},{\"id\":\"46182\",\"type\":\"BoxAnnotation\"},{\"id\":\"46207\",\"type\":\"Legend\"},{\"id\":\"46199\",\"type\":\"GlyphRenderer\"},{\"id\":\"46213\",\"type\":\"GlyphRenderer\"},{\"id\":\"46228\",\"type\":\"GlyphRenderer\"}],\"title\":{\"id\":\"46154\",\"type\":\"Title\"},\"toolbar\":{\"id\":\"46180\",\"type\":\"Toolbar\"},\"toolbar_location\":null,\"x_range\":{\"id\":\"46157\",\"type\":\"FactorRange\"},\"x_scale\":{\"id\":\"46161\",\"type\":\"CategoricalScale\"},\"y_range\":{\"id\":\"46159\",\"type\":\"DataRange1d\"},\"y_scale\":{\"id\":\"46163\",\"type\":\"LinearScale\"}},\"id\":\"46155\",\"subtype\":\"Figure\",\"type\":\"Plot\"},{\"attributes\":{},\"id\":\"46238\",\"type\":\"Selection\"},{\"attributes\":{\"bottom\":{\"expr\":{\"id\":\"46189\",\"type\":\"Stack\"}},\"fill_alpha\":{\"value\":0.1},\"fill_color\":{\"value\":\"#1f77b4\"},\"line_alpha\":{\"value\":0.1},\"line_color\":{\"value\":\"#1f77b4\"},\"top\":{\"expr\":{\"id\":\"46190\",\"type\":\"Stack\"}},\"width\":{\"value\":0.9},\"x\":{\"field\":\"years\"}},\"id\":\"46198\",\"type\":\"VBar\"},{\"attributes\":{},\"id\":\"46239\",\"type\":\"UnionRenderers\"},{\"attributes\":{\"data_source\":{\"id\":\"46195\",\"type\":\"ColumnDataSource\"},\"glyph\":{\"id\":\"46197\",\"type\":\"VBar\"},\"hover_glyph\":null,\"muted_glyph\":null,\"name\":\"geom\",\"nonselection_glyph\":{\"id\":\"46198\",\"type\":\"VBar\"},\"selection_glyph\":null,\"view\":{\"id\":\"46200\",\"type\":\"CDSView\"}},\"id\":\"46199\",\"type\":\"GlyphRenderer\"},{\"attributes\":{},\"id\":\"46174\",\"type\":\"PanTool\"},{\"attributes\":{\"label\":{\"value\":\"bi\"},\"renderers\":[{\"id\":\"46228\",\"type\":\"GlyphRenderer\"}]},\"id\":\"46240\",\"type\":\"LegendItem\"},{\"attributes\":{\"data_source\":{\"id\":\"46224\",\"type\":\"ColumnDataSource\"},\"glyph\":{\"id\":\"46226\",\"type\":\"VBar\"},\"hover_glyph\":null,\"muted_glyph\":null,\"name\":\"bi\",\"nonselection_glyph\":{\"id\":\"46227\",\"type\":\"VBar\"},\"selection_glyph\":null,\"view\":{\"id\":\"46229\",\"type\":\"CDSView\"}},\"id\":\"46228\",\"type\":\"GlyphRenderer\"},{\"attributes\":{\"source\":{\"id\":\"46195\",\"type\":\"ColumnDataSource\"}},\"id\":\"46200\",\"type\":\"CDSView\"},{\"attributes\":{\"fields\":[]},\"id\":\"46189\",\"type\":\"Stack\"},{\"attributes\":{},\"id\":\"47139\",\"type\":\"Selection\"},{\"attributes\":{\"formatter\":{\"id\":\"46202\",\"type\":\"BasicTickFormatter\"},\"minor_tick_line_color\":{\"value\":null},\"plot\":{\"id\":\"46155\",\"subtype\":\"Figure\",\"type\":\"Plot\"},\"ticker\":{\"id\":\"46170\",\"type\":\"BasicTicker\"}},\"id\":\"46169\",\"type\":\"LinearAxis\"},{\"attributes\":{},\"id\":\"46202\",\"type\":\"BasicTickFormatter\"},{\"attributes\":{\"fields\":[\"geom\"]},\"id\":\"46190\",\"type\":\"Stack\"},{\"attributes\":{},\"id\":\"47140\",\"type\":\"UnionRenderers\"},{\"attributes\":{\"callback\":null,\"factors\":[\"2012\",\"2013\",\"2014\",\"2015\",\"2016\"],\"range_padding\":0.1},\"id\":\"46157\",\"type\":\"FactorRange\"},{\"attributes\":{},\"id\":\"46221\",\"type\":\"Selection\"},{\"attributes\":{\"grid_line_color\":{\"value\":null},\"plot\":{\"id\":\"46155\",\"subtype\":\"Figure\",\"type\":\"Plot\"},\"ticker\":{\"id\":\"46166\",\"type\":\"CategoricalTicker\"}},\"id\":\"46168\",\"type\":\"Grid\"},{\"attributes\":{\"dimension\":1,\"plot\":{\"id\":\"46155\",\"subtype\":\"Figure\",\"type\":\"Plot\"},\"ticker\":{\"id\":\"46170\",\"type\":\"BasicTicker\"}},\"id\":\"46173\",\"type\":\"Grid\"},{\"attributes\":{},\"id\":\"46170\",\"type\":\"BasicTicker\"},{\"attributes\":{},\"id\":\"46204\",\"type\":\"CategoricalTickFormatter\"},{\"attributes\":{\"fields\":[\"geom\"]},\"id\":\"46191\",\"type\":\"Stack\"},{\"attributes\":{\"items\":[{\"id\":\"46208\",\"type\":\"LegendItem\"},{\"id\":\"46223\",\"type\":\"LegendItem\"},{\"id\":\"46240\",\"type\":\"LegendItem\"}],\"location\":\"top_left\",\"orientation\":\"horizontal\",\"plot\":{\"id\":\"46155\",\"subtype\":\"Figure\",\"type\":\"Plot\"}},\"id\":\"46207\",\"type\":\"Legend\"},{\"attributes\":{\"callback\":null,\"start\":0},\"id\":\"46159\",\"type\":\"DataRange1d\"},{\"attributes\":{},\"id\":\"46161\",\"type\":\"CategoricalScale\"},{\"attributes\":{\"active_drag\":\"auto\",\"active_inspect\":\"auto\",\"active_multi\":null,\"active_scroll\":\"auto\",\"active_tap\":\"auto\",\"tools\":[{\"id\":\"46174\",\"type\":\"PanTool\"},{\"id\":\"46175\",\"type\":\"WheelZoomTool\"},{\"id\":\"46176\",\"type\":\"BoxZoomTool\"},{\"id\":\"46177\",\"type\":\"SaveTool\"},{\"id\":\"46178\",\"type\":\"ResetTool\"},{\"id\":\"46179\",\"type\":\"HelpTool\"}]},\"id\":\"46180\",\"type\":\"Toolbar\"},{\"attributes\":{\"callback\":null,\"data\":{\"bi\":[0,0,14,140,0],\"geom\":[218852,226450,260693,276106,0],\"no-geo\":[25781,24966,0,2,291464],\"years\":[\"2012\",\"2013\",\"2014\",\"2015\",\"2016\"]},\"selected\":{\"id\":\"46221\",\"type\":\"Selection\"},\"selection_policy\":{\"id\":\"46222\",\"type\":\"UnionRenderers\"}},\"id\":\"46195\",\"type\":\"ColumnDataSource\"},{\"attributes\":{\"label\":{\"value\":\"geom\"},\"renderers\":[{\"id\":\"46199\",\"type\":\"GlyphRenderer\"}]},\"id\":\"46208\",\"type\":\"LegendItem\"},{\"attributes\":{\"bottom\":{\"expr\":{\"id\":\"46193\",\"type\":\"Stack\"}},\"fill_color\":{\"value\":\"#cccccc\"},\"line_color\":{\"value\":\"#cccccc\"},\"top\":{\"expr\":{\"id\":\"46194\",\"type\":\"Stack\"}},\"width\":{\"value\":0.9},\"x\":{\"field\":\"years\"}},\"id\":\"46226\",\"type\":\"VBar\"},{\"attributes\":{},\"id\":\"46179\",\"type\":\"HelpTool\"},{\"attributes\":{\"callback\":null,\"data\":{\"bi\":[0,0,14,140,0],\"geom\":[218852,226450,260693,276106,0],\"no-geo\":[25781,24966,0,2,291464],\"years\":[\"2012\",\"2013\",\"2014\",\"2015\",\"2016\"]},\"selected\":{\"id\":\"46238\",\"type\":\"Selection\"},\"selection_policy\":{\"id\":\"46239\",\"type\":\"UnionRenderers\"}},\"id\":\"46209\",\"type\":\"ColumnDataSource\"},{\"attributes\":{},\"id\":\"46163\",\"type\":\"LinearScale\"},{\"attributes\":{},\"id\":\"46178\",\"type\":\"ResetTool\"},{\"attributes\":{\"formatter\":{\"id\":\"46204\",\"type\":\"CategoricalTickFormatter\"},\"minor_tick_line_color\":{\"value\":null},\"plot\":{\"id\":\"46155\",\"subtype\":\"Figure\",\"type\":\"Plot\"},\"ticker\":{\"id\":\"46166\",\"type\":\"CategoricalTicker\"}},\"id\":\"46165\",\"type\":\"CategoricalAxis\"},{\"attributes\":{},\"id\":\"46177\",\"type\":\"SaveTool\"},{\"attributes\":{\"source\":{\"id\":\"46224\",\"type\":\"ColumnDataSource\"}},\"id\":\"46229\",\"type\":\"CDSView\"},{\"attributes\":{},\"id\":\"46166\",\"type\":\"CategoricalTicker\"},{\"attributes\":{\"overlay\":{\"id\":\"46182\",\"type\":\"BoxAnnotation\"}},\"id\":\"46176\",\"type\":\"BoxZoomTool\"},{\"attributes\":{\"bottom\":{\"expr\":{\"id\":\"46191\",\"type\":\"Stack\"}},\"fill_color\":{\"value\":\"#e84d60\"},\"line_color\":{\"value\":\"#e84d60\"},\"top\":{\"expr\":{\"id\":\"46192\",\"type\":\"Stack\"}},\"width\":{\"value\":0.9},\"x\":{\"field\":\"years\"}},\"id\":\"46211\",\"type\":\"VBar\"},{\"attributes\":{},\"id\":\"46175\",\"type\":\"WheelZoomTool\"},{\"attributes\":{\"plot\":null,\"text\":\"MN\"},\"id\":\"46154\",\"type\":\"Title\"},{\"attributes\":{\"bottom\":{\"expr\":{\"id\":\"46191\",\"type\":\"Stack\"}},\"fill_alpha\":{\"value\":0.1},\"fill_color\":{\"value\":\"#1f77b4\"},\"line_alpha\":{\"value\":0.1},\"line_color\":{\"value\":\"#1f77b4\"},\"top\":{\"expr\":{\"id\":\"46192\",\"type\":\"Stack\"}},\"width\":{\"value\":0.9},\"x\":{\"field\":\"years\"}},\"id\":\"46212\",\"type\":\"VBar\"},{\"attributes\":{\"label\":{\"value\":\"no-geo\"},\"renderers\":[{\"id\":\"46213\",\"type\":\"GlyphRenderer\"}]},\"id\":\"46223\",\"type\":\"LegendItem\"},{\"attributes\":{\"bottom\":{\"expr\":{\"id\":\"46189\",\"type\":\"Stack\"}},\"fill_color\":{\"value\":\"#5CC9F5\"},\"line_color\":{\"value\":\"#5CC9F5\"},\"top\":{\"expr\":{\"id\":\"46190\",\"type\":\"Stack\"}},\"width\":{\"value\":0.9},\"x\":{\"field\":\"years\"}},\"id\":\"46197\",\"type\":\"VBar\"},{\"attributes\":{\"fields\":[\"geom\",\"no-geo\",\"bi\"]},\"id\":\"46194\",\"type\":\"Stack\"},{\"attributes\":{\"data_source\":{\"id\":\"46209\",\"type\":\"ColumnDataSource\"},\"glyph\":{\"id\":\"46211\",\"type\":\"VBar\"},\"hover_glyph\":null,\"muted_glyph\":null,\"name\":\"no-geo\",\"nonselection_glyph\":{\"id\":\"46212\",\"type\":\"VBar\"},\"selection_glyph\":null,\"view\":{\"id\":\"46214\",\"type\":\"CDSView\"}},\"id\":\"46213\",\"type\":\"GlyphRenderer\"},{\"attributes\":{\"bottom_units\":\"screen\",\"fill_alpha\":{\"value\":0.5},\"fill_color\":{\"value\":\"lightgrey\"},\"left_units\":\"screen\",\"level\":\"overlay\",\"line_alpha\":{\"value\":1.0},\"line_color\":{\"value\":\"black\"},\"line_dash\":[4,4],\"line_width\":{\"value\":2},\"plot\":null,\"render_mode\":\"css\",\"right_units\":\"screen\",\"top_units\":\"screen\"},\"id\":\"46182\",\"type\":\"BoxAnnotation\"},{\"attributes\":{\"fields\":[\"geom\",\"no-geo\"]},\"id\":\"46192\",\"type\":\"Stack\"},{\"attributes\":{\"source\":{\"id\":\"46209\",\"type\":\"ColumnDataSource\"}},\"id\":\"46214\",\"type\":\"CDSView\"},{\"attributes\":{\"callback\":null,\"data\":{\"bi\":[0,0,14,140,0],\"geom\":[218852,226450,260693,276106,0],\"no-geo\":[25781,24966,0,2,291464],\"years\":[\"2012\",\"2013\",\"2014\",\"2015\",\"2016\"]},\"selected\":{\"id\":\"47139\",\"type\":\"Selection\"},\"selection_policy\":{\"id\":\"47140\",\"type\":\"UnionRenderers\"}},\"id\":\"46224\",\"type\":\"ColumnDataSource\"},{\"attributes\":{\"fields\":[\"geom\",\"no-geo\"]},\"id\":\"46193\",\"type\":\"Stack\"},{\"attributes\":{\"bottom\":{\"expr\":{\"id\":\"46193\",\"type\":\"Stack\"}},\"fill_alpha\":{\"value\":0.1},\"fill_color\":{\"value\":\"#1f77b4\"},\"line_alpha\":{\"value\":0.1},\"line_color\":{\"value\":\"#1f77b4\"},\"top\":{\"expr\":{\"id\":\"46194\",\"type\":\"Stack\"}},\"width\":{\"value\":0.9},\"x\":{\"field\":\"years\"}},\"id\":\"46227\",\"type\":\"VBar\"},{\"attributes\":{},\"id\":\"46222\",\"type\":\"UnionRenderers\"}],\"root_ids\":[\"46155\"]},\"title\":\"Bokeh Application\",\"version\":\"1.0.0\"}};\n",
       "  var render_items = [{\"docid\":\"f4cfaa03-a418-4a08-bd49-7168076ba763\",\"roots\":{\"46155\":\"d9ab58b8-a0db-499e-994b-a25860835ccf\"}}];\n",
       "  root.Bokeh.embed.embed_items_notebook(docs_json, render_items);\n",
       "\n",
       "  }\n",
       "  if (root.Bokeh !== undefined) {\n",
       "    embed_document(root);\n",
       "  } else {\n",
       "    var attempts = 0;\n",
       "    var timer = setInterval(function(root) {\n",
       "      if (root.Bokeh !== undefined) {\n",
       "        embed_document(root);\n",
       "        clearInterval(timer);\n",
       "      }\n",
       "      attempts++;\n",
       "      if (attempts > 100) {\n",
       "        console.log(\"Bokeh: ERROR: Unable to run BokehJS code because BokehJS library is missing\");\n",
       "        clearInterval(timer);\n",
       "      }\n",
       "    }, 10, root)\n",
       "  }\n",
       "})(window);"
      ],
      "application/vnd.bokehjs_exec.v0+json": ""
     },
     "metadata": {
      "application/vnd.bokehjs_exec.v0+json": {
       "id": "46155"
      }
     },
     "output_type": "display_data"
    },
    {
     "data": {
      "text/html": [
       "\n",
       "\n",
       "\n",
       "\n",
       "\n",
       "\n",
       "  <div class=\"bk-root\" id=\"3006ac40-3a6d-4460-8170-b56b5da991c0\"></div>\n"
      ]
     },
     "metadata": {},
     "output_type": "display_data"
    },
    {
     "data": {
      "application/javascript": [
       "(function(root) {\n",
       "  function embed_document(root) {\n",
       "    \n",
       "  var docs_json = {\"f16e2c8f-11e1-4469-bf90-b7f5a977d4c4\":{\"roots\":{\"references\":[{\"attributes\":{\"below\":[{\"id\":\"47224\",\"type\":\"CategoricalAxis\"}],\"left\":[{\"id\":\"47228\",\"type\":\"LinearAxis\"}],\"outline_line_color\":{\"value\":null},\"plot_height\":250,\"renderers\":[{\"id\":\"47224\",\"type\":\"CategoricalAxis\"},{\"id\":\"47227\",\"type\":\"Grid\"},{\"id\":\"47228\",\"type\":\"LinearAxis\"},{\"id\":\"47232\",\"type\":\"Grid\"},{\"id\":\"47241\",\"type\":\"BoxAnnotation\"},{\"id\":\"47266\",\"type\":\"Legend\"},{\"id\":\"47258\",\"type\":\"GlyphRenderer\"},{\"id\":\"47272\",\"type\":\"GlyphRenderer\"},{\"id\":\"47287\",\"type\":\"GlyphRenderer\"}],\"title\":{\"id\":\"47213\",\"type\":\"Title\"},\"toolbar\":{\"id\":\"47239\",\"type\":\"Toolbar\"},\"toolbar_location\":null,\"x_range\":{\"id\":\"47216\",\"type\":\"FactorRange\"},\"x_scale\":{\"id\":\"47220\",\"type\":\"CategoricalScale\"},\"y_range\":{\"id\":\"47218\",\"type\":\"DataRange1d\"},\"y_scale\":{\"id\":\"47222\",\"type\":\"LinearScale\"}},\"id\":\"47214\",\"subtype\":\"Figure\",\"type\":\"Plot\"},{\"attributes\":{\"fields\":[\"geom\",\"no-geo\"]},\"id\":\"47252\",\"type\":\"Stack\"},{\"attributes\":{\"formatter\":{\"id\":\"47263\",\"type\":\"CategoricalTickFormatter\"},\"minor_tick_line_color\":{\"value\":null},\"plot\":{\"id\":\"47214\",\"subtype\":\"Figure\",\"type\":\"Plot\"},\"ticker\":{\"id\":\"47225\",\"type\":\"CategoricalTicker\"}},\"id\":\"47224\",\"type\":\"CategoricalAxis\"},{\"attributes\":{\"fields\":[\"geom\",\"no-geo\",\"bi\"]},\"id\":\"47253\",\"type\":\"Stack\"},{\"attributes\":{\"callback\":null,\"data\":{\"bi\":[0,0,10753,184,0],\"geom\":[0,128630,163045,161023,0],\"no-geo\":[148606,6326,12,6,179814],\"years\":[\"2012\",\"2013\",\"2014\",\"2015\",\"2016\"]},\"selected\":{\"id\":\"47297\",\"type\":\"Selection\"},\"selection_policy\":{\"id\":\"47298\",\"type\":\"UnionRenderers\"}},\"id\":\"47268\",\"type\":\"ColumnDataSource\"},{\"attributes\":{},\"id\":\"47225\",\"type\":\"CategoricalTicker\"},{\"attributes\":{\"callback\":null,\"data\":{\"bi\":[0,0,10753,184,0],\"geom\":[0,128630,163045,161023,0],\"no-geo\":[148606,6326,12,6,179814],\"years\":[\"2012\",\"2013\",\"2014\",\"2015\",\"2016\"]},\"selected\":{\"id\":\"47280\",\"type\":\"Selection\"},\"selection_policy\":{\"id\":\"47281\",\"type\":\"UnionRenderers\"}},\"id\":\"47254\",\"type\":\"ColumnDataSource\"},{\"attributes\":{\"bottom\":{\"expr\":{\"id\":\"47252\",\"type\":\"Stack\"}},\"fill_color\":{\"value\":\"#cccccc\"},\"line_color\":{\"value\":\"#cccccc\"},\"top\":{\"expr\":{\"id\":\"47253\",\"type\":\"Stack\"}},\"width\":{\"value\":0.9},\"x\":{\"field\":\"years\"}},\"id\":\"47285\",\"type\":\"VBar\"},{\"attributes\":{\"grid_line_color\":{\"value\":null},\"plot\":{\"id\":\"47214\",\"subtype\":\"Figure\",\"type\":\"Plot\"},\"ticker\":{\"id\":\"47225\",\"type\":\"CategoricalTicker\"}},\"id\":\"47227\",\"type\":\"Grid\"},{\"attributes\":{\"bottom\":{\"expr\":{\"id\":\"47252\",\"type\":\"Stack\"}},\"fill_alpha\":{\"value\":0.1},\"fill_color\":{\"value\":\"#1f77b4\"},\"line_alpha\":{\"value\":0.1},\"line_color\":{\"value\":\"#1f77b4\"},\"top\":{\"expr\":{\"id\":\"47253\",\"type\":\"Stack\"}},\"width\":{\"value\":0.9},\"x\":{\"field\":\"years\"}},\"id\":\"47286\",\"type\":\"VBar\"},{\"attributes\":{\"bottom\":{\"expr\":{\"id\":\"47248\",\"type\":\"Stack\"}},\"fill_color\":{\"value\":\"#5CC9F5\"},\"line_color\":{\"value\":\"#5CC9F5\"},\"top\":{\"expr\":{\"id\":\"47249\",\"type\":\"Stack\"}},\"width\":{\"value\":0.9},\"x\":{\"field\":\"years\"}},\"id\":\"47256\",\"type\":\"VBar\"},{\"attributes\":{\"formatter\":{\"id\":\"47261\",\"type\":\"BasicTickFormatter\"},\"minor_tick_line_color\":{\"value\":null},\"plot\":{\"id\":\"47214\",\"subtype\":\"Figure\",\"type\":\"Plot\"},\"ticker\":{\"id\":\"47229\",\"type\":\"BasicTicker\"}},\"id\":\"47228\",\"type\":\"LinearAxis\"},{\"attributes\":{\"data_source\":{\"id\":\"47283\",\"type\":\"ColumnDataSource\"},\"glyph\":{\"id\":\"47285\",\"type\":\"VBar\"},\"hover_glyph\":null,\"muted_glyph\":null,\"name\":\"bi\",\"nonselection_glyph\":{\"id\":\"47286\",\"type\":\"VBar\"},\"selection_glyph\":null,\"view\":{\"id\":\"47288\",\"type\":\"CDSView\"}},\"id\":\"47287\",\"type\":\"GlyphRenderer\"},{\"attributes\":{\"bottom\":{\"expr\":{\"id\":\"47248\",\"type\":\"Stack\"}},\"fill_alpha\":{\"value\":0.1},\"fill_color\":{\"value\":\"#1f77b4\"},\"line_alpha\":{\"value\":0.1},\"line_color\":{\"value\":\"#1f77b4\"},\"top\":{\"expr\":{\"id\":\"47249\",\"type\":\"Stack\"}},\"width\":{\"value\":0.9},\"x\":{\"field\":\"years\"}},\"id\":\"47257\",\"type\":\"VBar\"},{\"attributes\":{},\"id\":\"47229\",\"type\":\"BasicTicker\"},{\"attributes\":{\"source\":{\"id\":\"47283\",\"type\":\"ColumnDataSource\"}},\"id\":\"47288\",\"type\":\"CDSView\"},{\"attributes\":{\"data_source\":{\"id\":\"47254\",\"type\":\"ColumnDataSource\"},\"glyph\":{\"id\":\"47256\",\"type\":\"VBar\"},\"hover_glyph\":null,\"muted_glyph\":null,\"name\":\"geom\",\"nonselection_glyph\":{\"id\":\"47257\",\"type\":\"VBar\"},\"selection_glyph\":null,\"view\":{\"id\":\"47259\",\"type\":\"CDSView\"}},\"id\":\"47258\",\"type\":\"GlyphRenderer\"},{\"attributes\":{\"label\":{\"value\":\"geom\"},\"renderers\":[{\"id\":\"47258\",\"type\":\"GlyphRenderer\"}]},\"id\":\"47267\",\"type\":\"LegendItem\"},{\"attributes\":{\"dimension\":1,\"plot\":{\"id\":\"47214\",\"subtype\":\"Figure\",\"type\":\"Plot\"},\"ticker\":{\"id\":\"47229\",\"type\":\"BasicTicker\"}},\"id\":\"47232\",\"type\":\"Grid\"},{\"attributes\":{},\"id\":\"47298\",\"type\":\"UnionRenderers\"},{\"attributes\":{},\"id\":\"47297\",\"type\":\"Selection\"},{\"attributes\":{\"fields\":[\"geom\"]},\"id\":\"47250\",\"type\":\"Stack\"},{\"attributes\":{},\"id\":\"47281\",\"type\":\"UnionRenderers\"},{\"attributes\":{\"bottom_units\":\"screen\",\"fill_alpha\":{\"value\":0.5},\"fill_color\":{\"value\":\"lightgrey\"},\"left_units\":\"screen\",\"level\":\"overlay\",\"line_alpha\":{\"value\":1.0},\"line_color\":{\"value\":\"black\"},\"line_dash\":[4,4],\"line_width\":{\"value\":2},\"plot\":null,\"render_mode\":\"css\",\"right_units\":\"screen\",\"top_units\":\"screen\"},\"id\":\"47241\",\"type\":\"BoxAnnotation\"},{\"attributes\":{\"label\":{\"value\":\"bi\"},\"renderers\":[{\"id\":\"47287\",\"type\":\"GlyphRenderer\"}]},\"id\":\"47299\",\"type\":\"LegendItem\"},{\"attributes\":{\"source\":{\"id\":\"47254\",\"type\":\"ColumnDataSource\"}},\"id\":\"47259\",\"type\":\"CDSView\"},{\"attributes\":{\"fields\":[\"geom\"]},\"id\":\"47249\",\"type\":\"Stack\"},{\"attributes\":{},\"id\":\"48210\",\"type\":\"Selection\"},{\"attributes\":{},\"id\":\"47261\",\"type\":\"BasicTickFormatter\"},{\"attributes\":{\"fields\":[\"geom\",\"no-geo\"]},\"id\":\"47251\",\"type\":\"Stack\"},{\"attributes\":{},\"id\":\"47233\",\"type\":\"PanTool\"},{\"attributes\":{},\"id\":\"48211\",\"type\":\"UnionRenderers\"},{\"attributes\":{\"callback\":null,\"factors\":[\"2012\",\"2013\",\"2014\",\"2015\",\"2016\"],\"range_padding\":0.1},\"id\":\"47216\",\"type\":\"FactorRange\"},{\"attributes\":{},\"id\":\"47263\",\"type\":\"CategoricalTickFormatter\"},{\"attributes\":{\"callback\":null,\"start\":0},\"id\":\"47218\",\"type\":\"DataRange1d\"},{\"attributes\":{},\"id\":\"47234\",\"type\":\"WheelZoomTool\"},{\"attributes\":{\"items\":[{\"id\":\"47267\",\"type\":\"LegendItem\"},{\"id\":\"47282\",\"type\":\"LegendItem\"},{\"id\":\"47299\",\"type\":\"LegendItem\"}],\"location\":\"top_left\",\"orientation\":\"horizontal\",\"plot\":{\"id\":\"47214\",\"subtype\":\"Figure\",\"type\":\"Plot\"}},\"id\":\"47266\",\"type\":\"Legend\"},{\"attributes\":{\"bottom\":{\"expr\":{\"id\":\"47250\",\"type\":\"Stack\"}},\"fill_color\":{\"value\":\"#e84d60\"},\"line_color\":{\"value\":\"#e84d60\"},\"top\":{\"expr\":{\"id\":\"47251\",\"type\":\"Stack\"}},\"width\":{\"value\":0.9},\"x\":{\"field\":\"years\"}},\"id\":\"47270\",\"type\":\"VBar\"},{\"attributes\":{\"overlay\":{\"id\":\"47241\",\"type\":\"BoxAnnotation\"}},\"id\":\"47235\",\"type\":\"BoxZoomTool\"},{\"attributes\":{\"callback\":null,\"data\":{\"bi\":[0,0,10753,184,0],\"geom\":[0,128630,163045,161023,0],\"no-geo\":[148606,6326,12,6,179814],\"years\":[\"2012\",\"2013\",\"2014\",\"2015\",\"2016\"]},\"selected\":{\"id\":\"48210\",\"type\":\"Selection\"},\"selection_policy\":{\"id\":\"48211\",\"type\":\"UnionRenderers\"}},\"id\":\"47283\",\"type\":\"ColumnDataSource\"},{\"attributes\":{\"bottom\":{\"expr\":{\"id\":\"47250\",\"type\":\"Stack\"}},\"fill_alpha\":{\"value\":0.1},\"fill_color\":{\"value\":\"#1f77b4\"},\"line_alpha\":{\"value\":0.1},\"line_color\":{\"value\":\"#1f77b4\"},\"top\":{\"expr\":{\"id\":\"47251\",\"type\":\"Stack\"}},\"width\":{\"value\":0.9},\"x\":{\"field\":\"years\"}},\"id\":\"47271\",\"type\":\"VBar\"},{\"attributes\":{},\"id\":\"47236\",\"type\":\"SaveTool\"},{\"attributes\":{\"data_source\":{\"id\":\"47268\",\"type\":\"ColumnDataSource\"},\"glyph\":{\"id\":\"47270\",\"type\":\"VBar\"},\"hover_glyph\":null,\"muted_glyph\":null,\"name\":\"no-geo\",\"nonselection_glyph\":{\"id\":\"47271\",\"type\":\"VBar\"},\"selection_glyph\":null,\"view\":{\"id\":\"47273\",\"type\":\"CDSView\"}},\"id\":\"47272\",\"type\":\"GlyphRenderer\"},{\"attributes\":{},\"id\":\"47237\",\"type\":\"ResetTool\"},{\"attributes\":{\"source\":{\"id\":\"47268\",\"type\":\"ColumnDataSource\"}},\"id\":\"47273\",\"type\":\"CDSView\"},{\"attributes\":{},\"id\":\"47238\",\"type\":\"HelpTool\"},{\"attributes\":{},\"id\":\"47222\",\"type\":\"LinearScale\"},{\"attributes\":{},\"id\":\"47280\",\"type\":\"Selection\"},{\"attributes\":{\"active_drag\":\"auto\",\"active_inspect\":\"auto\",\"active_multi\":null,\"active_scroll\":\"auto\",\"active_tap\":\"auto\",\"tools\":[{\"id\":\"47233\",\"type\":\"PanTool\"},{\"id\":\"47234\",\"type\":\"WheelZoomTool\"},{\"id\":\"47235\",\"type\":\"BoxZoomTool\"},{\"id\":\"47236\",\"type\":\"SaveTool\"},{\"id\":\"47237\",\"type\":\"ResetTool\"},{\"id\":\"47238\",\"type\":\"HelpTool\"}]},\"id\":\"47239\",\"type\":\"Toolbar\"},{\"attributes\":{\"label\":{\"value\":\"no-geo\"},\"renderers\":[{\"id\":\"47272\",\"type\":\"GlyphRenderer\"}]},\"id\":\"47282\",\"type\":\"LegendItem\"},{\"attributes\":{\"fields\":[]},\"id\":\"47248\",\"type\":\"Stack\"},{\"attributes\":{},\"id\":\"47220\",\"type\":\"CategoricalScale\"},{\"attributes\":{\"plot\":null,\"text\":\"MS\"},\"id\":\"47213\",\"type\":\"Title\"}],\"root_ids\":[\"47214\"]},\"title\":\"Bokeh Application\",\"version\":\"1.0.0\"}};\n",
       "  var render_items = [{\"docid\":\"f16e2c8f-11e1-4469-bf90-b7f5a977d4c4\",\"roots\":{\"47214\":\"3006ac40-3a6d-4460-8170-b56b5da991c0\"}}];\n",
       "  root.Bokeh.embed.embed_items_notebook(docs_json, render_items);\n",
       "\n",
       "  }\n",
       "  if (root.Bokeh !== undefined) {\n",
       "    embed_document(root);\n",
       "  } else {\n",
       "    var attempts = 0;\n",
       "    var timer = setInterval(function(root) {\n",
       "      if (root.Bokeh !== undefined) {\n",
       "        embed_document(root);\n",
       "        clearInterval(timer);\n",
       "      }\n",
       "      attempts++;\n",
       "      if (attempts > 100) {\n",
       "        console.log(\"Bokeh: ERROR: Unable to run BokehJS code because BokehJS library is missing\");\n",
       "        clearInterval(timer);\n",
       "      }\n",
       "    }, 10, root)\n",
       "  }\n",
       "})(window);"
      ],
      "application/vnd.bokehjs_exec.v0+json": ""
     },
     "metadata": {
      "application/vnd.bokehjs_exec.v0+json": {
       "id": "47214"
      }
     },
     "output_type": "display_data"
    },
    {
     "data": {
      "text/html": [
       "\n",
       "\n",
       "\n",
       "\n",
       "\n",
       "\n",
       "  <div class=\"bk-root\" id=\"a44af27c-a420-4dbe-b0e6-92f088835d66\"></div>\n"
      ]
     },
     "metadata": {},
     "output_type": "display_data"
    },
    {
     "data": {
      "application/javascript": [
       "(function(root) {\n",
       "  function embed_document(root) {\n",
       "    \n",
       "  var docs_json = {\"57fa9691-6cd7-4e81-af76-9f8cf8a82fc7\":{\"roots\":{\"references\":[{\"attributes\":{\"below\":[{\"id\":\"48295\",\"type\":\"CategoricalAxis\"}],\"left\":[{\"id\":\"48299\",\"type\":\"LinearAxis\"}],\"outline_line_color\":{\"value\":null},\"plot_height\":250,\"renderers\":[{\"id\":\"48295\",\"type\":\"CategoricalAxis\"},{\"id\":\"48298\",\"type\":\"Grid\"},{\"id\":\"48299\",\"type\":\"LinearAxis\"},{\"id\":\"48303\",\"type\":\"Grid\"},{\"id\":\"48312\",\"type\":\"BoxAnnotation\"},{\"id\":\"48337\",\"type\":\"Legend\"},{\"id\":\"48329\",\"type\":\"GlyphRenderer\"},{\"id\":\"48343\",\"type\":\"GlyphRenderer\"},{\"id\":\"48358\",\"type\":\"GlyphRenderer\"}],\"title\":{\"id\":\"48284\",\"type\":\"Title\"},\"toolbar\":{\"id\":\"48310\",\"type\":\"Toolbar\"},\"toolbar_location\":null,\"x_range\":{\"id\":\"48287\",\"type\":\"FactorRange\"},\"x_scale\":{\"id\":\"48291\",\"type\":\"CategoricalScale\"},\"y_range\":{\"id\":\"48289\",\"type\":\"DataRange1d\"},\"y_scale\":{\"id\":\"48293\",\"type\":\"LinearScale\"}},\"id\":\"48285\",\"subtype\":\"Figure\",\"type\":\"Plot\"},{\"attributes\":{\"formatter\":{\"id\":\"48334\",\"type\":\"CategoricalTickFormatter\"},\"minor_tick_line_color\":{\"value\":null},\"plot\":{\"id\":\"48285\",\"subtype\":\"Figure\",\"type\":\"Plot\"},\"ticker\":{\"id\":\"48296\",\"type\":\"CategoricalTicker\"}},\"id\":\"48295\",\"type\":\"CategoricalAxis\"},{\"attributes\":{\"active_drag\":\"auto\",\"active_inspect\":\"auto\",\"active_multi\":null,\"active_scroll\":\"auto\",\"active_tap\":\"auto\",\"tools\":[{\"id\":\"48304\",\"type\":\"PanTool\"},{\"id\":\"48305\",\"type\":\"WheelZoomTool\"},{\"id\":\"48306\",\"type\":\"BoxZoomTool\"},{\"id\":\"48307\",\"type\":\"SaveTool\"},{\"id\":\"48308\",\"type\":\"ResetTool\"},{\"id\":\"48309\",\"type\":\"HelpTool\"}]},\"id\":\"48310\",\"type\":\"Toolbar\"},{\"attributes\":{\"callback\":null,\"data\":{\"bi\":[0,0,0,0,0],\"geom\":[0,26165,464401,493140,0],\"no-geo\":[393128,397503,12,3,477669],\"years\":[\"2012\",\"2013\",\"2014\",\"2015\",\"2016\"]},\"selected\":{\"id\":\"49293\",\"type\":\"Selection\"},\"selection_policy\":{\"id\":\"49294\",\"type\":\"UnionRenderers\"}},\"id\":\"48354\",\"type\":\"ColumnDataSource\"},{\"attributes\":{\"callback\":null,\"start\":0},\"id\":\"48289\",\"type\":\"DataRange1d\"},{\"attributes\":{\"grid_line_color\":{\"value\":null},\"plot\":{\"id\":\"48285\",\"subtype\":\"Figure\",\"type\":\"Plot\"},\"ticker\":{\"id\":\"48296\",\"type\":\"CategoricalTicker\"}},\"id\":\"48298\",\"type\":\"Grid\"},{\"attributes\":{\"bottom_units\":\"screen\",\"fill_alpha\":{\"value\":0.5},\"fill_color\":{\"value\":\"lightgrey\"},\"left_units\":\"screen\",\"level\":\"overlay\",\"line_alpha\":{\"value\":1.0},\"line_color\":{\"value\":\"black\"},\"line_dash\":[4,4],\"line_width\":{\"value\":2},\"plot\":null,\"render_mode\":\"css\",\"right_units\":\"screen\",\"top_units\":\"screen\"},\"id\":\"48312\",\"type\":\"BoxAnnotation\"},{\"attributes\":{\"label\":{\"value\":\"no-geo\"},\"renderers\":[{\"id\":\"48343\",\"type\":\"GlyphRenderer\"}]},\"id\":\"48353\",\"type\":\"LegendItem\"},{\"attributes\":{\"bottom\":{\"expr\":{\"id\":\"48321\",\"type\":\"Stack\"}},\"fill_color\":{\"value\":\"#e84d60\"},\"line_color\":{\"value\":\"#e84d60\"},\"top\":{\"expr\":{\"id\":\"48322\",\"type\":\"Stack\"}},\"width\":{\"value\":0.9},\"x\":{\"field\":\"years\"}},\"id\":\"48341\",\"type\":\"VBar\"},{\"attributes\":{\"bottom\":{\"expr\":{\"id\":\"48321\",\"type\":\"Stack\"}},\"fill_alpha\":{\"value\":0.1},\"fill_color\":{\"value\":\"#1f77b4\"},\"line_alpha\":{\"value\":0.1},\"line_color\":{\"value\":\"#1f77b4\"},\"top\":{\"expr\":{\"id\":\"48322\",\"type\":\"Stack\"}},\"width\":{\"value\":0.9},\"x\":{\"field\":\"years\"}},\"id\":\"48342\",\"type\":\"VBar\"},{\"attributes\":{\"fields\":[\"geom\",\"no-geo\"]},\"id\":\"48323\",\"type\":\"Stack\"},{\"attributes\":{\"plot\":null,\"text\":\"MO\"},\"id\":\"48284\",\"type\":\"Title\"},{\"attributes\":{\"data_source\":{\"id\":\"48339\",\"type\":\"ColumnDataSource\"},\"glyph\":{\"id\":\"48341\",\"type\":\"VBar\"},\"hover_glyph\":null,\"muted_glyph\":null,\"name\":\"no-geo\",\"nonselection_glyph\":{\"id\":\"48342\",\"type\":\"VBar\"},\"selection_glyph\":null,\"view\":{\"id\":\"48344\",\"type\":\"CDSView\"}},\"id\":\"48343\",\"type\":\"GlyphRenderer\"},{\"attributes\":{\"fields\":[\"geom\",\"no-geo\",\"bi\"]},\"id\":\"48324\",\"type\":\"Stack\"},{\"attributes\":{\"callback\":null,\"factors\":[\"2012\",\"2013\",\"2014\",\"2015\",\"2016\"],\"range_padding\":0.1},\"id\":\"48287\",\"type\":\"FactorRange\"},{\"attributes\":{\"source\":{\"id\":\"48339\",\"type\":\"ColumnDataSource\"}},\"id\":\"48344\",\"type\":\"CDSView\"},{\"attributes\":{\"callback\":null,\"data\":{\"bi\":[0,0,0,0,0],\"geom\":[0,26165,464401,493140,0],\"no-geo\":[393128,397503,12,3,477669],\"years\":[\"2012\",\"2013\",\"2014\",\"2015\",\"2016\"]},\"selected\":{\"id\":\"48351\",\"type\":\"Selection\"},\"selection_policy\":{\"id\":\"48352\",\"type\":\"UnionRenderers\"}},\"id\":\"48325\",\"type\":\"ColumnDataSource\"},{\"attributes\":{\"fields\":[\"geom\"]},\"id\":\"48321\",\"type\":\"Stack\"},{\"attributes\":{},\"id\":\"48352\",\"type\":\"UnionRenderers\"},{\"attributes\":{\"fields\":[\"geom\",\"no-geo\"]},\"id\":\"48322\",\"type\":\"Stack\"},{\"attributes\":{\"bottom\":{\"expr\":{\"id\":\"48319\",\"type\":\"Stack\"}},\"fill_color\":{\"value\":\"#5CC9F5\"},\"line_color\":{\"value\":\"#5CC9F5\"},\"top\":{\"expr\":{\"id\":\"48320\",\"type\":\"Stack\"}},\"width\":{\"value\":0.9},\"x\":{\"field\":\"years\"}},\"id\":\"48327\",\"type\":\"VBar\"},{\"attributes\":{\"bottom\":{\"expr\":{\"id\":\"48323\",\"type\":\"Stack\"}},\"fill_color\":{\"value\":\"#cccccc\"},\"line_color\":{\"value\":\"#cccccc\"},\"top\":{\"expr\":{\"id\":\"48324\",\"type\":\"Stack\"}},\"width\":{\"value\":0.9},\"x\":{\"field\":\"years\"}},\"id\":\"48356\",\"type\":\"VBar\"},{\"attributes\":{\"bottom\":{\"expr\":{\"id\":\"48319\",\"type\":\"Stack\"}},\"fill_alpha\":{\"value\":0.1},\"fill_color\":{\"value\":\"#1f77b4\"},\"line_alpha\":{\"value\":0.1},\"line_color\":{\"value\":\"#1f77b4\"},\"top\":{\"expr\":{\"id\":\"48320\",\"type\":\"Stack\"}},\"width\":{\"value\":0.9},\"x\":{\"field\":\"years\"}},\"id\":\"48328\",\"type\":\"VBar\"},{\"attributes\":{\"bottom\":{\"expr\":{\"id\":\"48323\",\"type\":\"Stack\"}},\"fill_alpha\":{\"value\":0.1},\"fill_color\":{\"value\":\"#1f77b4\"},\"line_alpha\":{\"value\":0.1},\"line_color\":{\"value\":\"#1f77b4\"},\"top\":{\"expr\":{\"id\":\"48324\",\"type\":\"Stack\"}},\"width\":{\"value\":0.9},\"x\":{\"field\":\"years\"}},\"id\":\"48357\",\"type\":\"VBar\"},{\"attributes\":{\"data_source\":{\"id\":\"48325\",\"type\":\"ColumnDataSource\"},\"glyph\":{\"id\":\"48327\",\"type\":\"VBar\"},\"hover_glyph\":null,\"muted_glyph\":null,\"name\":\"geom\",\"nonselection_glyph\":{\"id\":\"48328\",\"type\":\"VBar\"},\"selection_glyph\":null,\"view\":{\"id\":\"48330\",\"type\":\"CDSView\"}},\"id\":\"48329\",\"type\":\"GlyphRenderer\"},{\"attributes\":{\"data_source\":{\"id\":\"48354\",\"type\":\"ColumnDataSource\"},\"glyph\":{\"id\":\"48356\",\"type\":\"VBar\"},\"hover_glyph\":null,\"muted_glyph\":null,\"name\":\"bi\",\"nonselection_glyph\":{\"id\":\"48357\",\"type\":\"VBar\"},\"selection_glyph\":null,\"view\":{\"id\":\"48359\",\"type\":\"CDSView\"}},\"id\":\"48358\",\"type\":\"GlyphRenderer\"},{\"attributes\":{\"source\":{\"id\":\"48325\",\"type\":\"ColumnDataSource\"}},\"id\":\"48330\",\"type\":\"CDSView\"},{\"attributes\":{},\"id\":\"48308\",\"type\":\"ResetTool\"},{\"attributes\":{\"source\":{\"id\":\"48354\",\"type\":\"ColumnDataSource\"}},\"id\":\"48359\",\"type\":\"CDSView\"},{\"attributes\":{},\"id\":\"48332\",\"type\":\"BasicTickFormatter\"},{\"attributes\":{},\"id\":\"48307\",\"type\":\"SaveTool\"},{\"attributes\":{},\"id\":\"48334\",\"type\":\"CategoricalTickFormatter\"},{\"attributes\":{},\"id\":\"48296\",\"type\":\"CategoricalTicker\"},{\"attributes\":{},\"id\":\"48369\",\"type\":\"UnionRenderers\"},{\"attributes\":{\"formatter\":{\"id\":\"48332\",\"type\":\"BasicTickFormatter\"},\"minor_tick_line_color\":{\"value\":null},\"plot\":{\"id\":\"48285\",\"subtype\":\"Figure\",\"type\":\"Plot\"},\"ticker\":{\"id\":\"48300\",\"type\":\"BasicTicker\"}},\"id\":\"48299\",\"type\":\"LinearAxis\"},{\"attributes\":{},\"id\":\"48368\",\"type\":\"Selection\"},{\"attributes\":{},\"id\":\"48351\",\"type\":\"Selection\"},{\"attributes\":{\"label\":{\"value\":\"bi\"},\"renderers\":[{\"id\":\"48358\",\"type\":\"GlyphRenderer\"}]},\"id\":\"48370\",\"type\":\"LegendItem\"},{\"attributes\":{\"fields\":[\"geom\"]},\"id\":\"48320\",\"type\":\"Stack\"},{\"attributes\":{},\"id\":\"48300\",\"type\":\"BasicTicker\"},{\"attributes\":{\"dimension\":1,\"plot\":{\"id\":\"48285\",\"subtype\":\"Figure\",\"type\":\"Plot\"},\"ticker\":{\"id\":\"48300\",\"type\":\"BasicTicker\"}},\"id\":\"48303\",\"type\":\"Grid\"},{\"attributes\":{},\"id\":\"49293\",\"type\":\"Selection\"},{\"attributes\":{\"items\":[{\"id\":\"48338\",\"type\":\"LegendItem\"},{\"id\":\"48353\",\"type\":\"LegendItem\"},{\"id\":\"48370\",\"type\":\"LegendItem\"}],\"location\":\"top_left\",\"orientation\":\"horizontal\",\"plot\":{\"id\":\"48285\",\"subtype\":\"Figure\",\"type\":\"Plot\"}},\"id\":\"48337\",\"type\":\"Legend\"},{\"attributes\":{\"overlay\":{\"id\":\"48312\",\"type\":\"BoxAnnotation\"}},\"id\":\"48306\",\"type\":\"BoxZoomTool\"},{\"attributes\":{},\"id\":\"48309\",\"type\":\"HelpTool\"},{\"attributes\":{},\"id\":\"48293\",\"type\":\"LinearScale\"},{\"attributes\":{},\"id\":\"49294\",\"type\":\"UnionRenderers\"},{\"attributes\":{\"fields\":[]},\"id\":\"48319\",\"type\":\"Stack\"},{\"attributes\":{},\"id\":\"48291\",\"type\":\"CategoricalScale\"},{\"attributes\":{\"label\":{\"value\":\"geom\"},\"renderers\":[{\"id\":\"48329\",\"type\":\"GlyphRenderer\"}]},\"id\":\"48338\",\"type\":\"LegendItem\"},{\"attributes\":{},\"id\":\"48305\",\"type\":\"WheelZoomTool\"},{\"attributes\":{\"callback\":null,\"data\":{\"bi\":[0,0,0,0,0],\"geom\":[0,26165,464401,493140,0],\"no-geo\":[393128,397503,12,3,477669],\"years\":[\"2012\",\"2013\",\"2014\",\"2015\",\"2016\"]},\"selected\":{\"id\":\"48368\",\"type\":\"Selection\"},\"selection_policy\":{\"id\":\"48369\",\"type\":\"UnionRenderers\"}},\"id\":\"48339\",\"type\":\"ColumnDataSource\"},{\"attributes\":{},\"id\":\"48304\",\"type\":\"PanTool\"}],\"root_ids\":[\"48285\"]},\"title\":\"Bokeh Application\",\"version\":\"1.0.0\"}};\n",
       "  var render_items = [{\"docid\":\"57fa9691-6cd7-4e81-af76-9f8cf8a82fc7\",\"roots\":{\"48285\":\"a44af27c-a420-4dbe-b0e6-92f088835d66\"}}];\n",
       "  root.Bokeh.embed.embed_items_notebook(docs_json, render_items);\n",
       "\n",
       "  }\n",
       "  if (root.Bokeh !== undefined) {\n",
       "    embed_document(root);\n",
       "  } else {\n",
       "    var attempts = 0;\n",
       "    var timer = setInterval(function(root) {\n",
       "      if (root.Bokeh !== undefined) {\n",
       "        embed_document(root);\n",
       "        clearInterval(timer);\n",
       "      }\n",
       "      attempts++;\n",
       "      if (attempts > 100) {\n",
       "        console.log(\"Bokeh: ERROR: Unable to run BokehJS code because BokehJS library is missing\");\n",
       "        clearInterval(timer);\n",
       "      }\n",
       "    }, 10, root)\n",
       "  }\n",
       "})(window);"
      ],
      "application/vnd.bokehjs_exec.v0+json": ""
     },
     "metadata": {
      "application/vnd.bokehjs_exec.v0+json": {
       "id": "48285"
      }
     },
     "output_type": "display_data"
    },
    {
     "data": {
      "text/html": [
       "\n",
       "\n",
       "\n",
       "\n",
       "\n",
       "\n",
       "  <div class=\"bk-root\" id=\"df34bca0-783f-485c-82e8-e32fbe770122\"></div>\n"
      ]
     },
     "metadata": {},
     "output_type": "display_data"
    },
    {
     "data": {
      "application/javascript": [
       "(function(root) {\n",
       "  function embed_document(root) {\n",
       "    \n",
       "  var docs_json = {\"cb527c94-0cd5-49f7-b07f-b6a2ecd60236\":{\"roots\":{\"references\":[{\"attributes\":{\"below\":[{\"id\":\"49378\",\"type\":\"CategoricalAxis\"}],\"left\":[{\"id\":\"49382\",\"type\":\"LinearAxis\"}],\"outline_line_color\":{\"value\":null},\"plot_height\":250,\"renderers\":[{\"id\":\"49378\",\"type\":\"CategoricalAxis\"},{\"id\":\"49381\",\"type\":\"Grid\"},{\"id\":\"49382\",\"type\":\"LinearAxis\"},{\"id\":\"49386\",\"type\":\"Grid\"},{\"id\":\"49395\",\"type\":\"BoxAnnotation\"},{\"id\":\"49420\",\"type\":\"Legend\"},{\"id\":\"49412\",\"type\":\"GlyphRenderer\"},{\"id\":\"49426\",\"type\":\"GlyphRenderer\"},{\"id\":\"49441\",\"type\":\"GlyphRenderer\"}],\"title\":{\"id\":\"49367\",\"type\":\"Title\"},\"toolbar\":{\"id\":\"49393\",\"type\":\"Toolbar\"},\"toolbar_location\":null,\"x_range\":{\"id\":\"49370\",\"type\":\"FactorRange\"},\"x_scale\":{\"id\":\"49374\",\"type\":\"CategoricalScale\"},\"y_range\":{\"id\":\"49372\",\"type\":\"DataRange1d\"},\"y_scale\":{\"id\":\"49376\",\"type\":\"LinearScale\"}},\"id\":\"49368\",\"subtype\":\"Figure\",\"type\":\"Plot\"},{\"attributes\":{\"fields\":[]},\"id\":\"49402\",\"type\":\"Stack\"},{\"attributes\":{\"source\":{\"id\":\"49408\",\"type\":\"ColumnDataSource\"}},\"id\":\"49413\",\"type\":\"CDSView\"},{\"attributes\":{},\"id\":\"49451\",\"type\":\"Selection\"},{\"attributes\":{},\"id\":\"49415\",\"type\":\"BasicTickFormatter\"},{\"attributes\":{},\"id\":\"49387\",\"type\":\"PanTool\"},{\"attributes\":{},\"id\":\"49452\",\"type\":\"UnionRenderers\"},{\"attributes\":{},\"id\":\"49417\",\"type\":\"CategoricalTickFormatter\"},{\"attributes\":{},\"id\":\"49388\",\"type\":\"WheelZoomTool\"},{\"attributes\":{\"label\":{\"value\":\"bi\"},\"renderers\":[{\"id\":\"49441\",\"type\":\"GlyphRenderer\"}]},\"id\":\"49453\",\"type\":\"LegendItem\"},{\"attributes\":{\"overlay\":{\"id\":\"49395\",\"type\":\"BoxAnnotation\"}},\"id\":\"49389\",\"type\":\"BoxZoomTool\"},{\"attributes\":{},\"id\":\"50388\",\"type\":\"Selection\"},{\"attributes\":{},\"id\":\"49390\",\"type\":\"SaveTool\"},{\"attributes\":{},\"id\":\"50389\",\"type\":\"UnionRenderers\"},{\"attributes\":{},\"id\":\"49391\",\"type\":\"ResetTool\"},{\"attributes\":{\"plot\":null,\"text\":\"MT\"},\"id\":\"49367\",\"type\":\"Title\"},{\"attributes\":{\"callback\":null,\"data\":{\"bi\":[0,0,0,0,0],\"geom\":[0,8779,62292,66486,0],\"no-geo\":[56243,49410,1,0,70451],\"years\":[\"2012\",\"2013\",\"2014\",\"2015\",\"2016\"]},\"selected\":{\"id\":\"49451\",\"type\":\"Selection\"},\"selection_policy\":{\"id\":\"49452\",\"type\":\"UnionRenderers\"}},\"id\":\"49422\",\"type\":\"ColumnDataSource\"},{\"attributes\":{\"bottom\":{\"expr\":{\"id\":\"49404\",\"type\":\"Stack\"}},\"fill_color\":{\"value\":\"#e84d60\"},\"line_color\":{\"value\":\"#e84d60\"},\"top\":{\"expr\":{\"id\":\"49405\",\"type\":\"Stack\"}},\"width\":{\"value\":0.9},\"x\":{\"field\":\"years\"}},\"id\":\"49424\",\"type\":\"VBar\"},{\"attributes\":{},\"id\":\"49392\",\"type\":\"HelpTool\"},{\"attributes\":{\"callback\":null,\"factors\":[\"2012\",\"2013\",\"2014\",\"2015\",\"2016\"],\"range_padding\":0.1},\"id\":\"49370\",\"type\":\"FactorRange\"},{\"attributes\":{\"bottom\":{\"expr\":{\"id\":\"49404\",\"type\":\"Stack\"}},\"fill_alpha\":{\"value\":0.1},\"fill_color\":{\"value\":\"#1f77b4\"},\"line_alpha\":{\"value\":0.1},\"line_color\":{\"value\":\"#1f77b4\"},\"top\":{\"expr\":{\"id\":\"49405\",\"type\":\"Stack\"}},\"width\":{\"value\":0.9},\"x\":{\"field\":\"years\"}},\"id\":\"49425\",\"type\":\"VBar\"},{\"attributes\":{\"active_drag\":\"auto\",\"active_inspect\":\"auto\",\"active_multi\":null,\"active_scroll\":\"auto\",\"active_tap\":\"auto\",\"tools\":[{\"id\":\"49387\",\"type\":\"PanTool\"},{\"id\":\"49388\",\"type\":\"WheelZoomTool\"},{\"id\":\"49389\",\"type\":\"BoxZoomTool\"},{\"id\":\"49390\",\"type\":\"SaveTool\"},{\"id\":\"49391\",\"type\":\"ResetTool\"},{\"id\":\"49392\",\"type\":\"HelpTool\"}]},\"id\":\"49393\",\"type\":\"Toolbar\"},{\"attributes\":{\"fields\":[\"geom\"]},\"id\":\"49404\",\"type\":\"Stack\"},{\"attributes\":{\"data_source\":{\"id\":\"49422\",\"type\":\"ColumnDataSource\"},\"glyph\":{\"id\":\"49424\",\"type\":\"VBar\"},\"hover_glyph\":null,\"muted_glyph\":null,\"name\":\"no-geo\",\"nonselection_glyph\":{\"id\":\"49425\",\"type\":\"VBar\"},\"selection_glyph\":null,\"view\":{\"id\":\"49427\",\"type\":\"CDSView\"}},\"id\":\"49426\",\"type\":\"GlyphRenderer\"},{\"attributes\":{\"callback\":null,\"start\":0},\"id\":\"49372\",\"type\":\"DataRange1d\"},{\"attributes\":{\"bottom_units\":\"screen\",\"fill_alpha\":{\"value\":0.5},\"fill_color\":{\"value\":\"lightgrey\"},\"left_units\":\"screen\",\"level\":\"overlay\",\"line_alpha\":{\"value\":1.0},\"line_color\":{\"value\":\"black\"},\"line_dash\":[4,4],\"line_width\":{\"value\":2},\"plot\":null,\"render_mode\":\"css\",\"right_units\":\"screen\",\"top_units\":\"screen\"},\"id\":\"49395\",\"type\":\"BoxAnnotation\"},{\"attributes\":{},\"id\":\"49374\",\"type\":\"CategoricalScale\"},{\"attributes\":{\"source\":{\"id\":\"49422\",\"type\":\"ColumnDataSource\"}},\"id\":\"49427\",\"type\":\"CDSView\"},{\"attributes\":{\"fields\":[\"geom\",\"no-geo\"]},\"id\":\"49405\",\"type\":\"Stack\"},{\"attributes\":{},\"id\":\"49376\",\"type\":\"LinearScale\"},{\"attributes\":{},\"id\":\"49434\",\"type\":\"Selection\"},{\"attributes\":{\"fields\":[\"geom\",\"no-geo\"]},\"id\":\"49406\",\"type\":\"Stack\"},{\"attributes\":{},\"id\":\"49435\",\"type\":\"UnionRenderers\"},{\"attributes\":{\"formatter\":{\"id\":\"49417\",\"type\":\"CategoricalTickFormatter\"},\"minor_tick_line_color\":{\"value\":null},\"plot\":{\"id\":\"49368\",\"subtype\":\"Figure\",\"type\":\"Plot\"},\"ticker\":{\"id\":\"49379\",\"type\":\"CategoricalTicker\"}},\"id\":\"49378\",\"type\":\"CategoricalAxis\"},{\"attributes\":{\"fields\":[\"geom\",\"no-geo\",\"bi\"]},\"id\":\"49407\",\"type\":\"Stack\"},{\"attributes\":{\"label\":{\"value\":\"no-geo\"},\"renderers\":[{\"id\":\"49426\",\"type\":\"GlyphRenderer\"}]},\"id\":\"49436\",\"type\":\"LegendItem\"},{\"attributes\":{},\"id\":\"49379\",\"type\":\"CategoricalTicker\"},{\"attributes\":{\"callback\":null,\"data\":{\"bi\":[0,0,0,0,0],\"geom\":[0,8779,62292,66486,0],\"no-geo\":[56243,49410,1,0,70451],\"years\":[\"2012\",\"2013\",\"2014\",\"2015\",\"2016\"]},\"selected\":{\"id\":\"49434\",\"type\":\"Selection\"},\"selection_policy\":{\"id\":\"49435\",\"type\":\"UnionRenderers\"}},\"id\":\"49408\",\"type\":\"ColumnDataSource\"},{\"attributes\":{\"callback\":null,\"data\":{\"bi\":[0,0,0,0,0],\"geom\":[0,8779,62292,66486,0],\"no-geo\":[56243,49410,1,0,70451],\"years\":[\"2012\",\"2013\",\"2014\",\"2015\",\"2016\"]},\"selected\":{\"id\":\"50388\",\"type\":\"Selection\"},\"selection_policy\":{\"id\":\"50389\",\"type\":\"UnionRenderers\"}},\"id\":\"49437\",\"type\":\"ColumnDataSource\"},{\"attributes\":{\"grid_line_color\":{\"value\":null},\"plot\":{\"id\":\"49368\",\"subtype\":\"Figure\",\"type\":\"Plot\"},\"ticker\":{\"id\":\"49379\",\"type\":\"CategoricalTicker\"}},\"id\":\"49381\",\"type\":\"Grid\"},{\"attributes\":{\"items\":[{\"id\":\"49421\",\"type\":\"LegendItem\"},{\"id\":\"49436\",\"type\":\"LegendItem\"},{\"id\":\"49453\",\"type\":\"LegendItem\"}],\"location\":\"top_left\",\"orientation\":\"horizontal\",\"plot\":{\"id\":\"49368\",\"subtype\":\"Figure\",\"type\":\"Plot\"}},\"id\":\"49420\",\"type\":\"Legend\"},{\"attributes\":{\"formatter\":{\"id\":\"49415\",\"type\":\"BasicTickFormatter\"},\"minor_tick_line_color\":{\"value\":null},\"plot\":{\"id\":\"49368\",\"subtype\":\"Figure\",\"type\":\"Plot\"},\"ticker\":{\"id\":\"49383\",\"type\":\"BasicTicker\"}},\"id\":\"49382\",\"type\":\"LinearAxis\"},{\"attributes\":{\"bottom\":{\"expr\":{\"id\":\"49406\",\"type\":\"Stack\"}},\"fill_color\":{\"value\":\"#cccccc\"},\"line_color\":{\"value\":\"#cccccc\"},\"top\":{\"expr\":{\"id\":\"49407\",\"type\":\"Stack\"}},\"width\":{\"value\":0.9},\"x\":{\"field\":\"years\"}},\"id\":\"49439\",\"type\":\"VBar\"},{\"attributes\":{\"bottom\":{\"expr\":{\"id\":\"49402\",\"type\":\"Stack\"}},\"fill_color\":{\"value\":\"#5CC9F5\"},\"line_color\":{\"value\":\"#5CC9F5\"},\"top\":{\"expr\":{\"id\":\"49403\",\"type\":\"Stack\"}},\"width\":{\"value\":0.9},\"x\":{\"field\":\"years\"}},\"id\":\"49410\",\"type\":\"VBar\"},{\"attributes\":{},\"id\":\"49383\",\"type\":\"BasicTicker\"},{\"attributes\":{\"bottom\":{\"expr\":{\"id\":\"49406\",\"type\":\"Stack\"}},\"fill_alpha\":{\"value\":0.1},\"fill_color\":{\"value\":\"#1f77b4\"},\"line_alpha\":{\"value\":0.1},\"line_color\":{\"value\":\"#1f77b4\"},\"top\":{\"expr\":{\"id\":\"49407\",\"type\":\"Stack\"}},\"width\":{\"value\":0.9},\"x\":{\"field\":\"years\"}},\"id\":\"49440\",\"type\":\"VBar\"},{\"attributes\":{\"bottom\":{\"expr\":{\"id\":\"49402\",\"type\":\"Stack\"}},\"fill_alpha\":{\"value\":0.1},\"fill_color\":{\"value\":\"#1f77b4\"},\"line_alpha\":{\"value\":0.1},\"line_color\":{\"value\":\"#1f77b4\"},\"top\":{\"expr\":{\"id\":\"49403\",\"type\":\"Stack\"}},\"width\":{\"value\":0.9},\"x\":{\"field\":\"years\"}},\"id\":\"49411\",\"type\":\"VBar\"},{\"attributes\":{\"dimension\":1,\"plot\":{\"id\":\"49368\",\"subtype\":\"Figure\",\"type\":\"Plot\"},\"ticker\":{\"id\":\"49383\",\"type\":\"BasicTicker\"}},\"id\":\"49386\",\"type\":\"Grid\"},{\"attributes\":{\"label\":{\"value\":\"geom\"},\"renderers\":[{\"id\":\"49412\",\"type\":\"GlyphRenderer\"}]},\"id\":\"49421\",\"type\":\"LegendItem\"},{\"attributes\":{\"data_source\":{\"id\":\"49437\",\"type\":\"ColumnDataSource\"},\"glyph\":{\"id\":\"49439\",\"type\":\"VBar\"},\"hover_glyph\":null,\"muted_glyph\":null,\"name\":\"bi\",\"nonselection_glyph\":{\"id\":\"49440\",\"type\":\"VBar\"},\"selection_glyph\":null,\"view\":{\"id\":\"49442\",\"type\":\"CDSView\"}},\"id\":\"49441\",\"type\":\"GlyphRenderer\"},{\"attributes\":{\"data_source\":{\"id\":\"49408\",\"type\":\"ColumnDataSource\"},\"glyph\":{\"id\":\"49410\",\"type\":\"VBar\"},\"hover_glyph\":null,\"muted_glyph\":null,\"name\":\"geom\",\"nonselection_glyph\":{\"id\":\"49411\",\"type\":\"VBar\"},\"selection_glyph\":null,\"view\":{\"id\":\"49413\",\"type\":\"CDSView\"}},\"id\":\"49412\",\"type\":\"GlyphRenderer\"},{\"attributes\":{\"fields\":[\"geom\"]},\"id\":\"49403\",\"type\":\"Stack\"},{\"attributes\":{\"source\":{\"id\":\"49437\",\"type\":\"ColumnDataSource\"}},\"id\":\"49442\",\"type\":\"CDSView\"}],\"root_ids\":[\"49368\"]},\"title\":\"Bokeh Application\",\"version\":\"1.0.0\"}};\n",
       "  var render_items = [{\"docid\":\"cb527c94-0cd5-49f7-b07f-b6a2ecd60236\",\"roots\":{\"49368\":\"df34bca0-783f-485c-82e8-e32fbe770122\"}}];\n",
       "  root.Bokeh.embed.embed_items_notebook(docs_json, render_items);\n",
       "\n",
       "  }\n",
       "  if (root.Bokeh !== undefined) {\n",
       "    embed_document(root);\n",
       "  } else {\n",
       "    var attempts = 0;\n",
       "    var timer = setInterval(function(root) {\n",
       "      if (root.Bokeh !== undefined) {\n",
       "        embed_document(root);\n",
       "        clearInterval(timer);\n",
       "      }\n",
       "      attempts++;\n",
       "      if (attempts > 100) {\n",
       "        console.log(\"Bokeh: ERROR: Unable to run BokehJS code because BokehJS library is missing\");\n",
       "        clearInterval(timer);\n",
       "      }\n",
       "    }, 10, root)\n",
       "  }\n",
       "})(window);"
      ],
      "application/vnd.bokehjs_exec.v0+json": ""
     },
     "metadata": {
      "application/vnd.bokehjs_exec.v0+json": {
       "id": "49368"
      }
     },
     "output_type": "display_data"
    },
    {
     "data": {
      "text/html": [
       "\n",
       "\n",
       "\n",
       "\n",
       "\n",
       "\n",
       "  <div class=\"bk-root\" id=\"7f4085b1-2bf6-479c-8376-819195004a5b\"></div>\n"
      ]
     },
     "metadata": {},
     "output_type": "display_data"
    },
    {
     "data": {
      "application/javascript": [
       "(function(root) {\n",
       "  function embed_document(root) {\n",
       "    \n",
       "  var docs_json = {\"47d4b616-6f8e-4802-b7a9-9c4f325580cb\":{\"roots\":{\"references\":[{\"attributes\":{\"below\":[{\"id\":\"50473\",\"type\":\"CategoricalAxis\"}],\"left\":[{\"id\":\"50477\",\"type\":\"LinearAxis\"}],\"outline_line_color\":{\"value\":null},\"plot_height\":250,\"renderers\":[{\"id\":\"50473\",\"type\":\"CategoricalAxis\"},{\"id\":\"50476\",\"type\":\"Grid\"},{\"id\":\"50477\",\"type\":\"LinearAxis\"},{\"id\":\"50481\",\"type\":\"Grid\"},{\"id\":\"50490\",\"type\":\"BoxAnnotation\"},{\"id\":\"50515\",\"type\":\"Legend\"},{\"id\":\"50507\",\"type\":\"GlyphRenderer\"},{\"id\":\"50521\",\"type\":\"GlyphRenderer\"},{\"id\":\"50536\",\"type\":\"GlyphRenderer\"}],\"title\":{\"id\":\"50462\",\"type\":\"Title\"},\"toolbar\":{\"id\":\"50488\",\"type\":\"Toolbar\"},\"toolbar_location\":null,\"x_range\":{\"id\":\"50465\",\"type\":\"FactorRange\"},\"x_scale\":{\"id\":\"50469\",\"type\":\"CategoricalScale\"},\"y_range\":{\"id\":\"50467\",\"type\":\"DataRange1d\"},\"y_scale\":{\"id\":\"50471\",\"type\":\"LinearScale\"}},\"id\":\"50463\",\"subtype\":\"Figure\",\"type\":\"Plot\"},{\"attributes\":{\"callback\":null,\"data\":{\"bi\":[0,0,0,0,0],\"geom\":[16566,16463,93590,87382,0],\"no-geo\":[72757,73547,0,0,88319],\"years\":[\"2012\",\"2013\",\"2014\",\"2015\",\"2016\"]},\"selected\":{\"id\":\"50529\",\"type\":\"Selection\"},\"selection_policy\":{\"id\":\"50530\",\"type\":\"UnionRenderers\"}},\"id\":\"50503\",\"type\":\"ColumnDataSource\"},{\"attributes\":{\"grid_line_color\":{\"value\":null},\"plot\":{\"id\":\"50463\",\"subtype\":\"Figure\",\"type\":\"Plot\"},\"ticker\":{\"id\":\"50474\",\"type\":\"CategoricalTicker\"}},\"id\":\"50476\",\"type\":\"Grid\"},{\"attributes\":{},\"id\":\"50530\",\"type\":\"UnionRenderers\"},{\"attributes\":{\"bottom\":{\"expr\":{\"id\":\"50497\",\"type\":\"Stack\"}},\"fill_color\":{\"value\":\"#5CC9F5\"},\"line_color\":{\"value\":\"#5CC9F5\"},\"top\":{\"expr\":{\"id\":\"50498\",\"type\":\"Stack\"}},\"width\":{\"value\":0.9},\"x\":{\"field\":\"years\"}},\"id\":\"50505\",\"type\":\"VBar\"},{\"attributes\":{\"formatter\":{\"id\":\"50510\",\"type\":\"BasicTickFormatter\"},\"minor_tick_line_color\":{\"value\":null},\"plot\":{\"id\":\"50463\",\"subtype\":\"Figure\",\"type\":\"Plot\"},\"ticker\":{\"id\":\"50478\",\"type\":\"BasicTicker\"}},\"id\":\"50477\",\"type\":\"LinearAxis\"},{\"attributes\":{\"bottom\":{\"expr\":{\"id\":\"50501\",\"type\":\"Stack\"}},\"fill_color\":{\"value\":\"#cccccc\"},\"line_color\":{\"value\":\"#cccccc\"},\"top\":{\"expr\":{\"id\":\"50502\",\"type\":\"Stack\"}},\"width\":{\"value\":0.9},\"x\":{\"field\":\"years\"}},\"id\":\"50534\",\"type\":\"VBar\"},{\"attributes\":{\"bottom\":{\"expr\":{\"id\":\"50497\",\"type\":\"Stack\"}},\"fill_alpha\":{\"value\":0.1},\"fill_color\":{\"value\":\"#1f77b4\"},\"line_alpha\":{\"value\":0.1},\"line_color\":{\"value\":\"#1f77b4\"},\"top\":{\"expr\":{\"id\":\"50498\",\"type\":\"Stack\"}},\"width\":{\"value\":0.9},\"x\":{\"field\":\"years\"}},\"id\":\"50506\",\"type\":\"VBar\"},{\"attributes\":{},\"id\":\"50478\",\"type\":\"BasicTicker\"},{\"attributes\":{},\"id\":\"50474\",\"type\":\"CategoricalTicker\"},{\"attributes\":{\"bottom\":{\"expr\":{\"id\":\"50501\",\"type\":\"Stack\"}},\"fill_alpha\":{\"value\":0.1},\"fill_color\":{\"value\":\"#1f77b4\"},\"line_alpha\":{\"value\":0.1},\"line_color\":{\"value\":\"#1f77b4\"},\"top\":{\"expr\":{\"id\":\"50502\",\"type\":\"Stack\"}},\"width\":{\"value\":0.9},\"x\":{\"field\":\"years\"}},\"id\":\"50535\",\"type\":\"VBar\"},{\"attributes\":{\"data_source\":{\"id\":\"50503\",\"type\":\"ColumnDataSource\"},\"glyph\":{\"id\":\"50505\",\"type\":\"VBar\"},\"hover_glyph\":null,\"muted_glyph\":null,\"name\":\"geom\",\"nonselection_glyph\":{\"id\":\"50506\",\"type\":\"VBar\"},\"selection_glyph\":null,\"view\":{\"id\":\"50508\",\"type\":\"CDSView\"}},\"id\":\"50507\",\"type\":\"GlyphRenderer\"},{\"attributes\":{\"dimension\":1,\"plot\":{\"id\":\"50463\",\"subtype\":\"Figure\",\"type\":\"Plot\"},\"ticker\":{\"id\":\"50478\",\"type\":\"BasicTicker\"}},\"id\":\"50481\",\"type\":\"Grid\"},{\"attributes\":{\"source\":{\"id\":\"50503\",\"type\":\"ColumnDataSource\"}},\"id\":\"50508\",\"type\":\"CDSView\"},{\"attributes\":{\"data_source\":{\"id\":\"50532\",\"type\":\"ColumnDataSource\"},\"glyph\":{\"id\":\"50534\",\"type\":\"VBar\"},\"hover_glyph\":null,\"muted_glyph\":null,\"name\":\"bi\",\"nonselection_glyph\":{\"id\":\"50535\",\"type\":\"VBar\"},\"selection_glyph\":null,\"view\":{\"id\":\"50537\",\"type\":\"CDSView\"}},\"id\":\"50536\",\"type\":\"GlyphRenderer\"},{\"attributes\":{\"fields\":[\"geom\"]},\"id\":\"50499\",\"type\":\"Stack\"},{\"attributes\":{},\"id\":\"50510\",\"type\":\"BasicTickFormatter\"},{\"attributes\":{\"fields\":[\"geom\"]},\"id\":\"50498\",\"type\":\"Stack\"},{\"attributes\":{\"source\":{\"id\":\"50532\",\"type\":\"ColumnDataSource\"}},\"id\":\"50537\",\"type\":\"CDSView\"},{\"attributes\":{\"fields\":[\"geom\",\"no-geo\"]},\"id\":\"50500\",\"type\":\"Stack\"},{\"attributes\":{},\"id\":\"51495\",\"type\":\"Selection\"},{\"attributes\":{},\"id\":\"50482\",\"type\":\"PanTool\"},{\"attributes\":{},\"id\":\"50546\",\"type\":\"Selection\"},{\"attributes\":{},\"id\":\"50512\",\"type\":\"CategoricalTickFormatter\"},{\"attributes\":{},\"id\":\"50483\",\"type\":\"WheelZoomTool\"},{\"attributes\":{},\"id\":\"50547\",\"type\":\"UnionRenderers\"},{\"attributes\":{\"items\":[{\"id\":\"50516\",\"type\":\"LegendItem\"},{\"id\":\"50531\",\"type\":\"LegendItem\"},{\"id\":\"50548\",\"type\":\"LegendItem\"}],\"location\":\"top_left\",\"orientation\":\"horizontal\",\"plot\":{\"id\":\"50463\",\"subtype\":\"Figure\",\"type\":\"Plot\"}},\"id\":\"50515\",\"type\":\"Legend\"},{\"attributes\":{\"label\":{\"value\":\"no-geo\"},\"renderers\":[{\"id\":\"50521\",\"type\":\"GlyphRenderer\"}]},\"id\":\"50531\",\"type\":\"LegendItem\"},{\"attributes\":{},\"id\":\"50471\",\"type\":\"LinearScale\"},{\"attributes\":{\"overlay\":{\"id\":\"50490\",\"type\":\"BoxAnnotation\"}},\"id\":\"50484\",\"type\":\"BoxZoomTool\"},{\"attributes\":{\"label\":{\"value\":\"bi\"},\"renderers\":[{\"id\":\"50536\",\"type\":\"GlyphRenderer\"}]},\"id\":\"50548\",\"type\":\"LegendItem\"},{\"attributes\":{\"label\":{\"value\":\"geom\"},\"renderers\":[{\"id\":\"50507\",\"type\":\"GlyphRenderer\"}]},\"id\":\"50516\",\"type\":\"LegendItem\"},{\"attributes\":{},\"id\":\"50469\",\"type\":\"CategoricalScale\"},{\"attributes\":{},\"id\":\"50485\",\"type\":\"SaveTool\"},{\"attributes\":{},\"id\":\"51496\",\"type\":\"UnionRenderers\"},{\"attributes\":{\"callback\":null,\"data\":{\"bi\":[0,0,0,0,0],\"geom\":[16566,16463,93590,87382,0],\"no-geo\":[72757,73547,0,0,88319],\"years\":[\"2012\",\"2013\",\"2014\",\"2015\",\"2016\"]},\"selected\":{\"id\":\"50546\",\"type\":\"Selection\"},\"selection_policy\":{\"id\":\"50547\",\"type\":\"UnionRenderers\"}},\"id\":\"50517\",\"type\":\"ColumnDataSource\"},{\"attributes\":{\"fields\":[]},\"id\":\"50497\",\"type\":\"Stack\"},{\"attributes\":{},\"id\":\"50486\",\"type\":\"ResetTool\"},{\"attributes\":{\"callback\":null,\"data\":{\"bi\":[0,0,0,0,0],\"geom\":[16566,16463,93590,87382,0],\"no-geo\":[72757,73547,0,0,88319],\"years\":[\"2012\",\"2013\",\"2014\",\"2015\",\"2016\"]},\"selected\":{\"id\":\"51495\",\"type\":\"Selection\"},\"selection_policy\":{\"id\":\"51496\",\"type\":\"UnionRenderers\"}},\"id\":\"50532\",\"type\":\"ColumnDataSource\"},{\"attributes\":{},\"id\":\"50487\",\"type\":\"HelpTool\"},{\"attributes\":{\"plot\":null,\"text\":\"NE\"},\"id\":\"50462\",\"type\":\"Title\"},{\"attributes\":{\"active_drag\":\"auto\",\"active_inspect\":\"auto\",\"active_multi\":null,\"active_scroll\":\"auto\",\"active_tap\":\"auto\",\"tools\":[{\"id\":\"50482\",\"type\":\"PanTool\"},{\"id\":\"50483\",\"type\":\"WheelZoomTool\"},{\"id\":\"50484\",\"type\":\"BoxZoomTool\"},{\"id\":\"50485\",\"type\":\"SaveTool\"},{\"id\":\"50486\",\"type\":\"ResetTool\"},{\"id\":\"50487\",\"type\":\"HelpTool\"}]},\"id\":\"50488\",\"type\":\"Toolbar\"},{\"attributes\":{\"bottom\":{\"expr\":{\"id\":\"50499\",\"type\":\"Stack\"}},\"fill_color\":{\"value\":\"#e84d60\"},\"line_color\":{\"value\":\"#e84d60\"},\"top\":{\"expr\":{\"id\":\"50500\",\"type\":\"Stack\"}},\"width\":{\"value\":0.9},\"x\":{\"field\":\"years\"}},\"id\":\"50519\",\"type\":\"VBar\"},{\"attributes\":{\"formatter\":{\"id\":\"50512\",\"type\":\"CategoricalTickFormatter\"},\"minor_tick_line_color\":{\"value\":null},\"plot\":{\"id\":\"50463\",\"subtype\":\"Figure\",\"type\":\"Plot\"},\"ticker\":{\"id\":\"50474\",\"type\":\"CategoricalTicker\"}},\"id\":\"50473\",\"type\":\"CategoricalAxis\"},{\"attributes\":{\"callback\":null,\"factors\":[\"2012\",\"2013\",\"2014\",\"2015\",\"2016\"],\"range_padding\":0.1},\"id\":\"50465\",\"type\":\"FactorRange\"},{\"attributes\":{\"bottom\":{\"expr\":{\"id\":\"50499\",\"type\":\"Stack\"}},\"fill_alpha\":{\"value\":0.1},\"fill_color\":{\"value\":\"#1f77b4\"},\"line_alpha\":{\"value\":0.1},\"line_color\":{\"value\":\"#1f77b4\"},\"top\":{\"expr\":{\"id\":\"50500\",\"type\":\"Stack\"}},\"width\":{\"value\":0.9},\"x\":{\"field\":\"years\"}},\"id\":\"50520\",\"type\":\"VBar\"},{\"attributes\":{\"bottom_units\":\"screen\",\"fill_alpha\":{\"value\":0.5},\"fill_color\":{\"value\":\"lightgrey\"},\"left_units\":\"screen\",\"level\":\"overlay\",\"line_alpha\":{\"value\":1.0},\"line_color\":{\"value\":\"black\"},\"line_dash\":[4,4],\"line_width\":{\"value\":2},\"plot\":null,\"render_mode\":\"css\",\"right_units\":\"screen\",\"top_units\":\"screen\"},\"id\":\"50490\",\"type\":\"BoxAnnotation\"},{\"attributes\":{\"callback\":null,\"start\":0},\"id\":\"50467\",\"type\":\"DataRange1d\"},{\"attributes\":{\"data_source\":{\"id\":\"50517\",\"type\":\"ColumnDataSource\"},\"glyph\":{\"id\":\"50519\",\"type\":\"VBar\"},\"hover_glyph\":null,\"muted_glyph\":null,\"name\":\"no-geo\",\"nonselection_glyph\":{\"id\":\"50520\",\"type\":\"VBar\"},\"selection_glyph\":null,\"view\":{\"id\":\"50522\",\"type\":\"CDSView\"}},\"id\":\"50521\",\"type\":\"GlyphRenderer\"},{\"attributes\":{\"fields\":[\"geom\",\"no-geo\"]},\"id\":\"50501\",\"type\":\"Stack\"},{\"attributes\":{\"source\":{\"id\":\"50517\",\"type\":\"ColumnDataSource\"}},\"id\":\"50522\",\"type\":\"CDSView\"},{\"attributes\":{\"fields\":[\"geom\",\"no-geo\",\"bi\"]},\"id\":\"50502\",\"type\":\"Stack\"},{\"attributes\":{},\"id\":\"50529\",\"type\":\"Selection\"}],\"root_ids\":[\"50463\"]},\"title\":\"Bokeh Application\",\"version\":\"1.0.0\"}};\n",
       "  var render_items = [{\"docid\":\"47d4b616-6f8e-4802-b7a9-9c4f325580cb\",\"roots\":{\"50463\":\"7f4085b1-2bf6-479c-8376-819195004a5b\"}}];\n",
       "  root.Bokeh.embed.embed_items_notebook(docs_json, render_items);\n",
       "\n",
       "  }\n",
       "  if (root.Bokeh !== undefined) {\n",
       "    embed_document(root);\n",
       "  } else {\n",
       "    var attempts = 0;\n",
       "    var timer = setInterval(function(root) {\n",
       "      if (root.Bokeh !== undefined) {\n",
       "        embed_document(root);\n",
       "        clearInterval(timer);\n",
       "      }\n",
       "      attempts++;\n",
       "      if (attempts > 100) {\n",
       "        console.log(\"Bokeh: ERROR: Unable to run BokehJS code because BokehJS library is missing\");\n",
       "        clearInterval(timer);\n",
       "      }\n",
       "    }, 10, root)\n",
       "  }\n",
       "})(window);"
      ],
      "application/vnd.bokehjs_exec.v0+json": ""
     },
     "metadata": {
      "application/vnd.bokehjs_exec.v0+json": {
       "id": "50463"
      }
     },
     "output_type": "display_data"
    },
    {
     "data": {
      "text/html": [
       "\n",
       "\n",
       "\n",
       "\n",
       "\n",
       "\n",
       "  <div class=\"bk-root\" id=\"b410bae9-2a52-4a80-8ea5-27a6780220ee\"></div>\n"
      ]
     },
     "metadata": {},
     "output_type": "display_data"
    },
    {
     "data": {
      "application/javascript": [
       "(function(root) {\n",
       "  function embed_document(root) {\n",
       "    \n",
       "  var docs_json = {\"c0fd8a9f-57f8-487f-9c4d-2b5893fecacf\":{\"roots\":{\"references\":[{\"attributes\":{\"below\":[{\"id\":\"51580\",\"type\":\"CategoricalAxis\"}],\"left\":[{\"id\":\"51584\",\"type\":\"LinearAxis\"}],\"outline_line_color\":{\"value\":null},\"plot_height\":250,\"renderers\":[{\"id\":\"51580\",\"type\":\"CategoricalAxis\"},{\"id\":\"51583\",\"type\":\"Grid\"},{\"id\":\"51584\",\"type\":\"LinearAxis\"},{\"id\":\"51588\",\"type\":\"Grid\"},{\"id\":\"51597\",\"type\":\"BoxAnnotation\"},{\"id\":\"51622\",\"type\":\"Legend\"},{\"id\":\"51614\",\"type\":\"GlyphRenderer\"},{\"id\":\"51628\",\"type\":\"GlyphRenderer\"},{\"id\":\"51643\",\"type\":\"GlyphRenderer\"}],\"title\":{\"id\":\"51569\",\"type\":\"Title\"},\"toolbar\":{\"id\":\"51595\",\"type\":\"Toolbar\"},\"toolbar_location\":null,\"x_range\":{\"id\":\"51572\",\"type\":\"FactorRange\"},\"x_scale\":{\"id\":\"51576\",\"type\":\"CategoricalScale\"},\"y_range\":{\"id\":\"51574\",\"type\":\"DataRange1d\"},\"y_scale\":{\"id\":\"51578\",\"type\":\"LinearScale\"}},\"id\":\"51570\",\"subtype\":\"Figure\",\"type\":\"Plot\"},{\"attributes\":{},\"id\":\"51592\",\"type\":\"SaveTool\"},{\"attributes\":{\"bottom\":{\"expr\":{\"id\":\"51606\",\"type\":\"Stack\"}},\"fill_alpha\":{\"value\":0.1},\"fill_color\":{\"value\":\"#1f77b4\"},\"line_alpha\":{\"value\":0.1},\"line_color\":{\"value\":\"#1f77b4\"},\"top\":{\"expr\":{\"id\":\"51607\",\"type\":\"Stack\"}},\"width\":{\"value\":0.9},\"x\":{\"field\":\"years\"}},\"id\":\"51627\",\"type\":\"VBar\"},{\"attributes\":{},\"id\":\"51593\",\"type\":\"ResetTool\"},{\"attributes\":{\"callback\":null,\"factors\":[\"2012\",\"2013\",\"2014\",\"2015\",\"2016\"],\"range_padding\":0.1},\"id\":\"51572\",\"type\":\"FactorRange\"},{\"attributes\":{\"data_source\":{\"id\":\"51624\",\"type\":\"ColumnDataSource\"},\"glyph\":{\"id\":\"51626\",\"type\":\"VBar\"},\"hover_glyph\":null,\"muted_glyph\":null,\"name\":\"no-geo\",\"nonselection_glyph\":{\"id\":\"51627\",\"type\":\"VBar\"},\"selection_glyph\":null,\"view\":{\"id\":\"51629\",\"type\":\"CDSView\"}},\"id\":\"51628\",\"type\":\"GlyphRenderer\"},{\"attributes\":{},\"id\":\"51589\",\"type\":\"PanTool\"},{\"attributes\":{},\"id\":\"51594\",\"type\":\"HelpTool\"},{\"attributes\":{\"source\":{\"id\":\"51624\",\"type\":\"ColumnDataSource\"}},\"id\":\"51629\",\"type\":\"CDSView\"},{\"attributes\":{\"active_drag\":\"auto\",\"active_inspect\":\"auto\",\"active_multi\":null,\"active_scroll\":\"auto\",\"active_tap\":\"auto\",\"tools\":[{\"id\":\"51589\",\"type\":\"PanTool\"},{\"id\":\"51590\",\"type\":\"WheelZoomTool\"},{\"id\":\"51591\",\"type\":\"BoxZoomTool\"},{\"id\":\"51592\",\"type\":\"SaveTool\"},{\"id\":\"51593\",\"type\":\"ResetTool\"},{\"id\":\"51594\",\"type\":\"HelpTool\"}]},\"id\":\"51595\",\"type\":\"Toolbar\"},{\"attributes\":{},\"id\":\"51578\",\"type\":\"LinearScale\"},{\"attributes\":{\"items\":[{\"id\":\"51623\",\"type\":\"LegendItem\"},{\"id\":\"51638\",\"type\":\"LegendItem\"},{\"id\":\"51655\",\"type\":\"LegendItem\"}],\"location\":\"top_left\",\"orientation\":\"horizontal\",\"plot\":{\"id\":\"51570\",\"subtype\":\"Figure\",\"type\":\"Plot\"}},\"id\":\"51622\",\"type\":\"Legend\"},{\"attributes\":{},\"id\":\"51636\",\"type\":\"Selection\"},{\"attributes\":{\"bottom_units\":\"screen\",\"fill_alpha\":{\"value\":0.5},\"fill_color\":{\"value\":\"lightgrey\"},\"left_units\":\"screen\",\"level\":\"overlay\",\"line_alpha\":{\"value\":1.0},\"line_color\":{\"value\":\"black\"},\"line_dash\":[4,4],\"line_width\":{\"value\":2},\"plot\":null,\"render_mode\":\"css\",\"right_units\":\"screen\",\"top_units\":\"screen\"},\"id\":\"51597\",\"type\":\"BoxAnnotation\"},{\"attributes\":{},\"id\":\"51576\",\"type\":\"CategoricalScale\"},{\"attributes\":{\"formatter\":{\"id\":\"51619\",\"type\":\"CategoricalTickFormatter\"},\"minor_tick_line_color\":{\"value\":null},\"plot\":{\"id\":\"51570\",\"subtype\":\"Figure\",\"type\":\"Plot\"},\"ticker\":{\"id\":\"51581\",\"type\":\"CategoricalTicker\"}},\"id\":\"51580\",\"type\":\"CategoricalAxis\"},{\"attributes\":{},\"id\":\"51637\",\"type\":\"UnionRenderers\"},{\"attributes\":{\"fields\":[\"geom\",\"no-geo\"]},\"id\":\"51607\",\"type\":\"Stack\"},{\"attributes\":{},\"id\":\"51581\",\"type\":\"CategoricalTicker\"},{\"attributes\":{\"label\":{\"value\":\"no-geo\"},\"renderers\":[{\"id\":\"51628\",\"type\":\"GlyphRenderer\"}]},\"id\":\"51638\",\"type\":\"LegendItem\"},{\"attributes\":{},\"id\":\"52614\",\"type\":\"Selection\"},{\"attributes\":{\"fields\":[\"geom\",\"no-geo\"]},\"id\":\"51608\",\"type\":\"Stack\"},{\"attributes\":{\"callback\":null,\"data\":{\"bi\":[0,0,0,0,0],\"geom\":[51537,63594,389764,376230,0],\"no-geo\":[266062,291725,1,1,354757],\"years\":[\"2012\",\"2013\",\"2014\",\"2015\",\"2016\"]},\"selected\":{\"id\":\"52614\",\"type\":\"Selection\"},\"selection_policy\":{\"id\":\"52615\",\"type\":\"UnionRenderers\"}},\"id\":\"51639\",\"type\":\"ColumnDataSource\"},{\"attributes\":{\"plot\":null,\"text\":\"NV\"},\"id\":\"51569\",\"type\":\"Title\"},{\"attributes\":{\"fields\":[\"geom\",\"no-geo\",\"bi\"]},\"id\":\"51609\",\"type\":\"Stack\"},{\"attributes\":{\"callback\":null,\"data\":{\"bi\":[0,0,0,0,0],\"geom\":[51537,63594,389764,376230,0],\"no-geo\":[266062,291725,1,1,354757],\"years\":[\"2012\",\"2013\",\"2014\",\"2015\",\"2016\"]},\"selected\":{\"id\":\"51636\",\"type\":\"Selection\"},\"selection_policy\":{\"id\":\"51637\",\"type\":\"UnionRenderers\"}},\"id\":\"51610\",\"type\":\"ColumnDataSource\"},{\"attributes\":{\"label\":{\"value\":\"geom\"},\"renderers\":[{\"id\":\"51614\",\"type\":\"GlyphRenderer\"}]},\"id\":\"51623\",\"type\":\"LegendItem\"},{\"attributes\":{\"bottom\":{\"expr\":{\"id\":\"51608\",\"type\":\"Stack\"}},\"fill_color\":{\"value\":\"#cccccc\"},\"line_color\":{\"value\":\"#cccccc\"},\"top\":{\"expr\":{\"id\":\"51609\",\"type\":\"Stack\"}},\"width\":{\"value\":0.9},\"x\":{\"field\":\"years\"}},\"id\":\"51641\",\"type\":\"VBar\"},{\"attributes\":{\"bottom\":{\"expr\":{\"id\":\"51608\",\"type\":\"Stack\"}},\"fill_alpha\":{\"value\":0.1},\"fill_color\":{\"value\":\"#1f77b4\"},\"line_alpha\":{\"value\":0.1},\"line_color\":{\"value\":\"#1f77b4\"},\"top\":{\"expr\":{\"id\":\"51609\",\"type\":\"Stack\"}},\"width\":{\"value\":0.9},\"x\":{\"field\":\"years\"}},\"id\":\"51642\",\"type\":\"VBar\"},{\"attributes\":{\"data_source\":{\"id\":\"51639\",\"type\":\"ColumnDataSource\"},\"glyph\":{\"id\":\"51641\",\"type\":\"VBar\"},\"hover_glyph\":null,\"muted_glyph\":null,\"name\":\"bi\",\"nonselection_glyph\":{\"id\":\"51642\",\"type\":\"VBar\"},\"selection_glyph\":null,\"view\":{\"id\":\"51644\",\"type\":\"CDSView\"}},\"id\":\"51643\",\"type\":\"GlyphRenderer\"},{\"attributes\":{\"overlay\":{\"id\":\"51597\",\"type\":\"BoxAnnotation\"}},\"id\":\"51591\",\"type\":\"BoxZoomTool\"},{\"attributes\":{\"bottom\":{\"expr\":{\"id\":\"51604\",\"type\":\"Stack\"}},\"fill_color\":{\"value\":\"#5CC9F5\"},\"line_color\":{\"value\":\"#5CC9F5\"},\"top\":{\"expr\":{\"id\":\"51605\",\"type\":\"Stack\"}},\"width\":{\"value\":0.9},\"x\":{\"field\":\"years\"}},\"id\":\"51612\",\"type\":\"VBar\"},{\"attributes\":{\"source\":{\"id\":\"51639\",\"type\":\"ColumnDataSource\"}},\"id\":\"51644\",\"type\":\"CDSView\"},{\"attributes\":{\"callback\":null,\"data\":{\"bi\":[0,0,0,0,0],\"geom\":[51537,63594,389764,376230,0],\"no-geo\":[266062,291725,1,1,354757],\"years\":[\"2012\",\"2013\",\"2014\",\"2015\",\"2016\"]},\"selected\":{\"id\":\"51653\",\"type\":\"Selection\"},\"selection_policy\":{\"id\":\"51654\",\"type\":\"UnionRenderers\"}},\"id\":\"51624\",\"type\":\"ColumnDataSource\"},{\"attributes\":{},\"id\":\"51585\",\"type\":\"BasicTicker\"},{\"attributes\":{\"bottom\":{\"expr\":{\"id\":\"51604\",\"type\":\"Stack\"}},\"fill_alpha\":{\"value\":0.1},\"fill_color\":{\"value\":\"#1f77b4\"},\"line_alpha\":{\"value\":0.1},\"line_color\":{\"value\":\"#1f77b4\"},\"top\":{\"expr\":{\"id\":\"51605\",\"type\":\"Stack\"}},\"width\":{\"value\":0.9},\"x\":{\"field\":\"years\"}},\"id\":\"51613\",\"type\":\"VBar\"},{\"attributes\":{},\"id\":\"51653\",\"type\":\"Selection\"},{\"attributes\":{\"data_source\":{\"id\":\"51610\",\"type\":\"ColumnDataSource\"},\"glyph\":{\"id\":\"51612\",\"type\":\"VBar\"},\"hover_glyph\":null,\"muted_glyph\":null,\"name\":\"geom\",\"nonselection_glyph\":{\"id\":\"51613\",\"type\":\"VBar\"},\"selection_glyph\":null,\"view\":{\"id\":\"51615\",\"type\":\"CDSView\"}},\"id\":\"51614\",\"type\":\"GlyphRenderer\"},{\"attributes\":{},\"id\":\"51654\",\"type\":\"UnionRenderers\"},{\"attributes\":{\"dimension\":1,\"plot\":{\"id\":\"51570\",\"subtype\":\"Figure\",\"type\":\"Plot\"},\"ticker\":{\"id\":\"51585\",\"type\":\"BasicTicker\"}},\"id\":\"51588\",\"type\":\"Grid\"},{\"attributes\":{\"source\":{\"id\":\"51610\",\"type\":\"ColumnDataSource\"}},\"id\":\"51615\",\"type\":\"CDSView\"},{\"attributes\":{\"fields\":[]},\"id\":\"51604\",\"type\":\"Stack\"},{\"attributes\":{\"label\":{\"value\":\"bi\"},\"renderers\":[{\"id\":\"51643\",\"type\":\"GlyphRenderer\"}]},\"id\":\"51655\",\"type\":\"LegendItem\"},{\"attributes\":{\"fields\":[\"geom\"]},\"id\":\"51605\",\"type\":\"Stack\"},{\"attributes\":{\"grid_line_color\":{\"value\":null},\"plot\":{\"id\":\"51570\",\"subtype\":\"Figure\",\"type\":\"Plot\"},\"ticker\":{\"id\":\"51581\",\"type\":\"CategoricalTicker\"}},\"id\":\"51583\",\"type\":\"Grid\"},{\"attributes\":{},\"id\":\"51617\",\"type\":\"BasicTickFormatter\"},{\"attributes\":{},\"id\":\"51590\",\"type\":\"WheelZoomTool\"},{\"attributes\":{},\"id\":\"52615\",\"type\":\"UnionRenderers\"},{\"attributes\":{\"formatter\":{\"id\":\"51617\",\"type\":\"BasicTickFormatter\"},\"minor_tick_line_color\":{\"value\":null},\"plot\":{\"id\":\"51570\",\"subtype\":\"Figure\",\"type\":\"Plot\"},\"ticker\":{\"id\":\"51585\",\"type\":\"BasicTicker\"}},\"id\":\"51584\",\"type\":\"LinearAxis\"},{\"attributes\":{},\"id\":\"51619\",\"type\":\"CategoricalTickFormatter\"},{\"attributes\":{\"fields\":[\"geom\"]},\"id\":\"51606\",\"type\":\"Stack\"},{\"attributes\":{\"callback\":null,\"start\":0},\"id\":\"51574\",\"type\":\"DataRange1d\"},{\"attributes\":{\"bottom\":{\"expr\":{\"id\":\"51606\",\"type\":\"Stack\"}},\"fill_color\":{\"value\":\"#e84d60\"},\"line_color\":{\"value\":\"#e84d60\"},\"top\":{\"expr\":{\"id\":\"51607\",\"type\":\"Stack\"}},\"width\":{\"value\":0.9},\"x\":{\"field\":\"years\"}},\"id\":\"51626\",\"type\":\"VBar\"}],\"root_ids\":[\"51570\"]},\"title\":\"Bokeh Application\",\"version\":\"1.0.0\"}};\n",
       "  var render_items = [{\"docid\":\"c0fd8a9f-57f8-487f-9c4d-2b5893fecacf\",\"roots\":{\"51570\":\"b410bae9-2a52-4a80-8ea5-27a6780220ee\"}}];\n",
       "  root.Bokeh.embed.embed_items_notebook(docs_json, render_items);\n",
       "\n",
       "  }\n",
       "  if (root.Bokeh !== undefined) {\n",
       "    embed_document(root);\n",
       "  } else {\n",
       "    var attempts = 0;\n",
       "    var timer = setInterval(function(root) {\n",
       "      if (root.Bokeh !== undefined) {\n",
       "        embed_document(root);\n",
       "        clearInterval(timer);\n",
       "      }\n",
       "      attempts++;\n",
       "      if (attempts > 100) {\n",
       "        console.log(\"Bokeh: ERROR: Unable to run BokehJS code because BokehJS library is missing\");\n",
       "        clearInterval(timer);\n",
       "      }\n",
       "    }, 10, root)\n",
       "  }\n",
       "})(window);"
      ],
      "application/vnd.bokehjs_exec.v0+json": ""
     },
     "metadata": {
      "application/vnd.bokehjs_exec.v0+json": {
       "id": "51570"
      }
     },
     "output_type": "display_data"
    },
    {
     "data": {
      "text/html": [
       "\n",
       "\n",
       "\n",
       "\n",
       "\n",
       "\n",
       "  <div class=\"bk-root\" id=\"32388d8b-c3f8-4295-a037-f9c97faba041\"></div>\n"
      ]
     },
     "metadata": {},
     "output_type": "display_data"
    },
    {
     "data": {
      "application/javascript": [
       "(function(root) {\n",
       "  function embed_document(root) {\n",
       "    \n",
       "  var docs_json = {\"b4135a15-165e-4ace-9afd-c98eac204993\":{\"roots\":{\"references\":[{\"attributes\":{\"below\":[{\"id\":\"52699\",\"type\":\"CategoricalAxis\"}],\"left\":[{\"id\":\"52703\",\"type\":\"LinearAxis\"}],\"outline_line_color\":{\"value\":null},\"plot_height\":250,\"renderers\":[{\"id\":\"52699\",\"type\":\"CategoricalAxis\"},{\"id\":\"52702\",\"type\":\"Grid\"},{\"id\":\"52703\",\"type\":\"LinearAxis\"},{\"id\":\"52707\",\"type\":\"Grid\"},{\"id\":\"52716\",\"type\":\"BoxAnnotation\"},{\"id\":\"52741\",\"type\":\"Legend\"},{\"id\":\"52733\",\"type\":\"GlyphRenderer\"},{\"id\":\"52747\",\"type\":\"GlyphRenderer\"},{\"id\":\"52762\",\"type\":\"GlyphRenderer\"}],\"title\":{\"id\":\"52688\",\"type\":\"Title\"},\"toolbar\":{\"id\":\"52714\",\"type\":\"Toolbar\"},\"toolbar_location\":null,\"x_range\":{\"id\":\"52691\",\"type\":\"FactorRange\"},\"x_scale\":{\"id\":\"52695\",\"type\":\"CategoricalScale\"},\"y_range\":{\"id\":\"52693\",\"type\":\"DataRange1d\"},\"y_scale\":{\"id\":\"52697\",\"type\":\"LinearScale\"}},\"id\":\"52689\",\"subtype\":\"Figure\",\"type\":\"Plot\"},{\"attributes\":{},\"id\":\"52708\",\"type\":\"PanTool\"},{\"attributes\":{},\"id\":\"52773\",\"type\":\"UnionRenderers\"},{\"attributes\":{},\"id\":\"52736\",\"type\":\"BasicTickFormatter\"},{\"attributes\":{},\"id\":\"52709\",\"type\":\"WheelZoomTool\"},{\"attributes\":{\"label\":{\"value\":\"bi\"},\"renderers\":[{\"id\":\"52762\",\"type\":\"GlyphRenderer\"}]},\"id\":\"52774\",\"type\":\"LegendItem\"},{\"attributes\":{},\"id\":\"52738\",\"type\":\"CategoricalTickFormatter\"},{\"attributes\":{\"overlay\":{\"id\":\"52716\",\"type\":\"BoxAnnotation\"}},\"id\":\"52710\",\"type\":\"BoxZoomTool\"},{\"attributes\":{\"items\":[{\"id\":\"52742\",\"type\":\"LegendItem\"},{\"id\":\"52757\",\"type\":\"LegendItem\"},{\"id\":\"52774\",\"type\":\"LegendItem\"}],\"location\":\"top_left\",\"orientation\":\"horizontal\",\"plot\":{\"id\":\"52689\",\"subtype\":\"Figure\",\"type\":\"Plot\"}},\"id\":\"52741\",\"type\":\"Legend\"},{\"attributes\":{},\"id\":\"52711\",\"type\":\"SaveTool\"},{\"attributes\":{},\"id\":\"53746\",\"type\":\"UnionRenderers\"},{\"attributes\":{\"label\":{\"value\":\"geom\"},\"renderers\":[{\"id\":\"52733\",\"type\":\"GlyphRenderer\"}]},\"id\":\"52742\",\"type\":\"LegendItem\"},{\"attributes\":{},\"id\":\"52712\",\"type\":\"ResetTool\"},{\"attributes\":{\"plot\":null,\"text\":\"NH\"},\"id\":\"52688\",\"type\":\"Title\"},{\"attributes\":{\"callback\":null,\"data\":{\"bi\":[0,0,2,0,0],\"geom\":[135608,142594,163563,171657,0],\"no-geo\":[10443,10725,1,1,181610],\"years\":[\"2012\",\"2013\",\"2014\",\"2015\",\"2016\"]},\"selected\":{\"id\":\"52772\",\"type\":\"Selection\"},\"selection_policy\":{\"id\":\"52773\",\"type\":\"UnionRenderers\"}},\"id\":\"52743\",\"type\":\"ColumnDataSource\"},{\"attributes\":{},\"id\":\"52713\",\"type\":\"HelpTool\"},{\"attributes\":{\"callback\":null,\"factors\":[\"2012\",\"2013\",\"2014\",\"2015\",\"2016\"],\"range_padding\":0.1},\"id\":\"52691\",\"type\":\"FactorRange\"},{\"attributes\":{\"active_drag\":\"auto\",\"active_inspect\":\"auto\",\"active_multi\":null,\"active_scroll\":\"auto\",\"active_tap\":\"auto\",\"tools\":[{\"id\":\"52708\",\"type\":\"PanTool\"},{\"id\":\"52709\",\"type\":\"WheelZoomTool\"},{\"id\":\"52710\",\"type\":\"BoxZoomTool\"},{\"id\":\"52711\",\"type\":\"SaveTool\"},{\"id\":\"52712\",\"type\":\"ResetTool\"},{\"id\":\"52713\",\"type\":\"HelpTool\"}]},\"id\":\"52714\",\"type\":\"Toolbar\"},{\"attributes\":{\"fields\":[\"geom\"]},\"id\":\"52725\",\"type\":\"Stack\"},{\"attributes\":{\"callback\":null,\"start\":0},\"id\":\"52693\",\"type\":\"DataRange1d\"},{\"attributes\":{\"bottom_units\":\"screen\",\"fill_alpha\":{\"value\":0.5},\"fill_color\":{\"value\":\"lightgrey\"},\"left_units\":\"screen\",\"level\":\"overlay\",\"line_alpha\":{\"value\":1.0},\"line_color\":{\"value\":\"black\"},\"line_dash\":[4,4],\"line_width\":{\"value\":2},\"plot\":null,\"render_mode\":\"css\",\"right_units\":\"screen\",\"top_units\":\"screen\"},\"id\":\"52716\",\"type\":\"BoxAnnotation\"},{\"attributes\":{},\"id\":\"52695\",\"type\":\"CategoricalScale\"},{\"attributes\":{\"bottom\":{\"expr\":{\"id\":\"52725\",\"type\":\"Stack\"}},\"fill_color\":{\"value\":\"#e84d60\"},\"line_color\":{\"value\":\"#e84d60\"},\"top\":{\"expr\":{\"id\":\"52726\",\"type\":\"Stack\"}},\"width\":{\"value\":0.9},\"x\":{\"field\":\"years\"}},\"id\":\"52745\",\"type\":\"VBar\"},{\"attributes\":{\"fields\":[\"geom\",\"no-geo\"]},\"id\":\"52726\",\"type\":\"Stack\"},{\"attributes\":{},\"id\":\"52697\",\"type\":\"LinearScale\"},{\"attributes\":{\"bottom\":{\"expr\":{\"id\":\"52725\",\"type\":\"Stack\"}},\"fill_alpha\":{\"value\":0.1},\"fill_color\":{\"value\":\"#1f77b4\"},\"line_alpha\":{\"value\":0.1},\"line_color\":{\"value\":\"#1f77b4\"},\"top\":{\"expr\":{\"id\":\"52726\",\"type\":\"Stack\"}},\"width\":{\"value\":0.9},\"x\":{\"field\":\"years\"}},\"id\":\"52746\",\"type\":\"VBar\"},{\"attributes\":{\"fields\":[\"geom\",\"no-geo\"]},\"id\":\"52727\",\"type\":\"Stack\"},{\"attributes\":{\"callback\":null,\"data\":{\"bi\":[0,0,2,0,0],\"geom\":[135608,142594,163563,171657,0],\"no-geo\":[10443,10725,1,1,181610],\"years\":[\"2012\",\"2013\",\"2014\",\"2015\",\"2016\"]},\"selected\":{\"id\":\"53745\",\"type\":\"Selection\"},\"selection_policy\":{\"id\":\"53746\",\"type\":\"UnionRenderers\"}},\"id\":\"52758\",\"type\":\"ColumnDataSource\"},{\"attributes\":{\"formatter\":{\"id\":\"52738\",\"type\":\"CategoricalTickFormatter\"},\"minor_tick_line_color\":{\"value\":null},\"plot\":{\"id\":\"52689\",\"subtype\":\"Figure\",\"type\":\"Plot\"},\"ticker\":{\"id\":\"52700\",\"type\":\"CategoricalTicker\"}},\"id\":\"52699\",\"type\":\"CategoricalAxis\"},{\"attributes\":{\"data_source\":{\"id\":\"52743\",\"type\":\"ColumnDataSource\"},\"glyph\":{\"id\":\"52745\",\"type\":\"VBar\"},\"hover_glyph\":null,\"muted_glyph\":null,\"name\":\"no-geo\",\"nonselection_glyph\":{\"id\":\"52746\",\"type\":\"VBar\"},\"selection_glyph\":null,\"view\":{\"id\":\"52748\",\"type\":\"CDSView\"}},\"id\":\"52747\",\"type\":\"GlyphRenderer\"},{\"attributes\":{\"fields\":[\"geom\",\"no-geo\",\"bi\"]},\"id\":\"52728\",\"type\":\"Stack\"},{\"attributes\":{},\"id\":\"52700\",\"type\":\"CategoricalTicker\"},{\"attributes\":{\"callback\":null,\"data\":{\"bi\":[0,0,2,0,0],\"geom\":[135608,142594,163563,171657,0],\"no-geo\":[10443,10725,1,1,181610],\"years\":[\"2012\",\"2013\",\"2014\",\"2015\",\"2016\"]},\"selected\":{\"id\":\"52755\",\"type\":\"Selection\"},\"selection_policy\":{\"id\":\"52756\",\"type\":\"UnionRenderers\"}},\"id\":\"52729\",\"type\":\"ColumnDataSource\"},{\"attributes\":{\"source\":{\"id\":\"52743\",\"type\":\"ColumnDataSource\"}},\"id\":\"52748\",\"type\":\"CDSView\"},{\"attributes\":{\"grid_line_color\":{\"value\":null},\"plot\":{\"id\":\"52689\",\"subtype\":\"Figure\",\"type\":\"Plot\"},\"ticker\":{\"id\":\"52700\",\"type\":\"CategoricalTicker\"}},\"id\":\"52702\",\"type\":\"Grid\"},{\"attributes\":{\"label\":{\"value\":\"no-geo\"},\"renderers\":[{\"id\":\"52747\",\"type\":\"GlyphRenderer\"}]},\"id\":\"52757\",\"type\":\"LegendItem\"},{\"attributes\":{},\"id\":\"52755\",\"type\":\"Selection\"},{\"attributes\":{\"bottom\":{\"expr\":{\"id\":\"52723\",\"type\":\"Stack\"}},\"fill_color\":{\"value\":\"#5CC9F5\"},\"line_color\":{\"value\":\"#5CC9F5\"},\"top\":{\"expr\":{\"id\":\"52724\",\"type\":\"Stack\"}},\"width\":{\"value\":0.9},\"x\":{\"field\":\"years\"}},\"id\":\"52731\",\"type\":\"VBar\"},{\"attributes\":{\"formatter\":{\"id\":\"52736\",\"type\":\"BasicTickFormatter\"},\"minor_tick_line_color\":{\"value\":null},\"plot\":{\"id\":\"52689\",\"subtype\":\"Figure\",\"type\":\"Plot\"},\"ticker\":{\"id\":\"52704\",\"type\":\"BasicTicker\"}},\"id\":\"52703\",\"type\":\"LinearAxis\"},{\"attributes\":{},\"id\":\"52756\",\"type\":\"UnionRenderers\"},{\"attributes\":{\"bottom\":{\"expr\":{\"id\":\"52723\",\"type\":\"Stack\"}},\"fill_alpha\":{\"value\":0.1},\"fill_color\":{\"value\":\"#1f77b4\"},\"line_alpha\":{\"value\":0.1},\"line_color\":{\"value\":\"#1f77b4\"},\"top\":{\"expr\":{\"id\":\"52724\",\"type\":\"Stack\"}},\"width\":{\"value\":0.9},\"x\":{\"field\":\"years\"}},\"id\":\"52732\",\"type\":\"VBar\"},{\"attributes\":{},\"id\":\"52704\",\"type\":\"BasicTicker\"},{\"attributes\":{\"bottom\":{\"expr\":{\"id\":\"52727\",\"type\":\"Stack\"}},\"fill_color\":{\"value\":\"#cccccc\"},\"line_color\":{\"value\":\"#cccccc\"},\"top\":{\"expr\":{\"id\":\"52728\",\"type\":\"Stack\"}},\"width\":{\"value\":0.9},\"x\":{\"field\":\"years\"}},\"id\":\"52760\",\"type\":\"VBar\"},{\"attributes\":{\"data_source\":{\"id\":\"52729\",\"type\":\"ColumnDataSource\"},\"glyph\":{\"id\":\"52731\",\"type\":\"VBar\"},\"hover_glyph\":null,\"muted_glyph\":null,\"name\":\"geom\",\"nonselection_glyph\":{\"id\":\"52732\",\"type\":\"VBar\"},\"selection_glyph\":null,\"view\":{\"id\":\"52734\",\"type\":\"CDSView\"}},\"id\":\"52733\",\"type\":\"GlyphRenderer\"},{\"attributes\":{\"dimension\":1,\"plot\":{\"id\":\"52689\",\"subtype\":\"Figure\",\"type\":\"Plot\"},\"ticker\":{\"id\":\"52704\",\"type\":\"BasicTicker\"}},\"id\":\"52707\",\"type\":\"Grid\"},{\"attributes\":{\"bottom\":{\"expr\":{\"id\":\"52727\",\"type\":\"Stack\"}},\"fill_alpha\":{\"value\":0.1},\"fill_color\":{\"value\":\"#1f77b4\"},\"line_alpha\":{\"value\":0.1},\"line_color\":{\"value\":\"#1f77b4\"},\"top\":{\"expr\":{\"id\":\"52728\",\"type\":\"Stack\"}},\"width\":{\"value\":0.9},\"x\":{\"field\":\"years\"}},\"id\":\"52761\",\"type\":\"VBar\"},{\"attributes\":{\"source\":{\"id\":\"52729\",\"type\":\"ColumnDataSource\"}},\"id\":\"52734\",\"type\":\"CDSView\"},{\"attributes\":{\"fields\":[\"geom\"]},\"id\":\"52724\",\"type\":\"Stack\"},{\"attributes\":{\"data_source\":{\"id\":\"52758\",\"type\":\"ColumnDataSource\"},\"glyph\":{\"id\":\"52760\",\"type\":\"VBar\"},\"hover_glyph\":null,\"muted_glyph\":null,\"name\":\"bi\",\"nonselection_glyph\":{\"id\":\"52761\",\"type\":\"VBar\"},\"selection_glyph\":null,\"view\":{\"id\":\"52763\",\"type\":\"CDSView\"}},\"id\":\"52762\",\"type\":\"GlyphRenderer\"},{\"attributes\":{},\"id\":\"53745\",\"type\":\"Selection\"},{\"attributes\":{\"fields\":[]},\"id\":\"52723\",\"type\":\"Stack\"},{\"attributes\":{},\"id\":\"52772\",\"type\":\"Selection\"},{\"attributes\":{\"source\":{\"id\":\"52758\",\"type\":\"ColumnDataSource\"}},\"id\":\"52763\",\"type\":\"CDSView\"}],\"root_ids\":[\"52689\"]},\"title\":\"Bokeh Application\",\"version\":\"1.0.0\"}};\n",
       "  var render_items = [{\"docid\":\"b4135a15-165e-4ace-9afd-c98eac204993\",\"roots\":{\"52689\":\"32388d8b-c3f8-4295-a037-f9c97faba041\"}}];\n",
       "  root.Bokeh.embed.embed_items_notebook(docs_json, render_items);\n",
       "\n",
       "  }\n",
       "  if (root.Bokeh !== undefined) {\n",
       "    embed_document(root);\n",
       "  } else {\n",
       "    var attempts = 0;\n",
       "    var timer = setInterval(function(root) {\n",
       "      if (root.Bokeh !== undefined) {\n",
       "        embed_document(root);\n",
       "        clearInterval(timer);\n",
       "      }\n",
       "      attempts++;\n",
       "      if (attempts > 100) {\n",
       "        console.log(\"Bokeh: ERROR: Unable to run BokehJS code because BokehJS library is missing\");\n",
       "        clearInterval(timer);\n",
       "      }\n",
       "    }, 10, root)\n",
       "  }\n",
       "})(window);"
      ],
      "application/vnd.bokehjs_exec.v0+json": ""
     },
     "metadata": {
      "application/vnd.bokehjs_exec.v0+json": {
       "id": "52689"
      }
     },
     "output_type": "display_data"
    },
    {
     "data": {
      "text/html": [
       "\n",
       "\n",
       "\n",
       "\n",
       "\n",
       "\n",
       "  <div class=\"bk-root\" id=\"b6c6ae32-2d71-40cf-a61c-688d60c94c10\"></div>\n"
      ]
     },
     "metadata": {},
     "output_type": "display_data"
    },
    {
     "data": {
      "application/javascript": [
       "(function(root) {\n",
       "  function embed_document(root) {\n",
       "    \n",
       "  var docs_json = {\"4fde843c-6f82-43a6-abc4-42d03c184043\":{\"roots\":{\"references\":[{\"attributes\":{\"below\":[{\"id\":\"53830\",\"type\":\"CategoricalAxis\"}],\"left\":[{\"id\":\"53834\",\"type\":\"LinearAxis\"}],\"outline_line_color\":{\"value\":null},\"plot_height\":250,\"renderers\":[{\"id\":\"53830\",\"type\":\"CategoricalAxis\"},{\"id\":\"53833\",\"type\":\"Grid\"},{\"id\":\"53834\",\"type\":\"LinearAxis\"},{\"id\":\"53838\",\"type\":\"Grid\"},{\"id\":\"53847\",\"type\":\"BoxAnnotation\"},{\"id\":\"53872\",\"type\":\"Legend\"},{\"id\":\"53864\",\"type\":\"GlyphRenderer\"},{\"id\":\"53878\",\"type\":\"GlyphRenderer\"},{\"id\":\"53893\",\"type\":\"GlyphRenderer\"}],\"title\":{\"id\":\"53819\",\"type\":\"Title\"},\"toolbar\":{\"id\":\"53845\",\"type\":\"Toolbar\"},\"toolbar_location\":null,\"x_range\":{\"id\":\"53822\",\"type\":\"FactorRange\"},\"x_scale\":{\"id\":\"53826\",\"type\":\"CategoricalScale\"},\"y_range\":{\"id\":\"53824\",\"type\":\"DataRange1d\"},\"y_scale\":{\"id\":\"53828\",\"type\":\"LinearScale\"}},\"id\":\"53820\",\"subtype\":\"Figure\",\"type\":\"Plot\"},{\"attributes\":{},\"id\":\"53831\",\"type\":\"CategoricalTicker\"},{\"attributes\":{\"callback\":null,\"data\":{\"bi\":[0,0,182,18,0],\"geom\":[195481,165222,403310,420613,0],\"no-geo\":[203557,185715,1,1,412139],\"years\":[\"2012\",\"2013\",\"2014\",\"2015\",\"2016\"]},\"selected\":{\"id\":\"54888\",\"type\":\"Selection\"},\"selection_policy\":{\"id\":\"54889\",\"type\":\"UnionRenderers\"}},\"id\":\"53889\",\"type\":\"ColumnDataSource\"},{\"attributes\":{\"callback\":null,\"data\":{\"bi\":[0,0,182,18,0],\"geom\":[195481,165222,403310,420613,0],\"no-geo\":[203557,185715,1,1,412139],\"years\":[\"2012\",\"2013\",\"2014\",\"2015\",\"2016\"]},\"selected\":{\"id\":\"53886\",\"type\":\"Selection\"},\"selection_policy\":{\"id\":\"53887\",\"type\":\"UnionRenderers\"}},\"id\":\"53860\",\"type\":\"ColumnDataSource\"},{\"attributes\":{\"grid_line_color\":{\"value\":null},\"plot\":{\"id\":\"53820\",\"subtype\":\"Figure\",\"type\":\"Plot\"},\"ticker\":{\"id\":\"53831\",\"type\":\"CategoricalTicker\"}},\"id\":\"53833\",\"type\":\"Grid\"},{\"attributes\":{\"items\":[{\"id\":\"53873\",\"type\":\"LegendItem\"},{\"id\":\"53888\",\"type\":\"LegendItem\"},{\"id\":\"53905\",\"type\":\"LegendItem\"}],\"location\":\"top_left\",\"orientation\":\"horizontal\",\"plot\":{\"id\":\"53820\",\"subtype\":\"Figure\",\"type\":\"Plot\"}},\"id\":\"53872\",\"type\":\"Legend\"},{\"attributes\":{\"bottom\":{\"expr\":{\"id\":\"53854\",\"type\":\"Stack\"}},\"fill_color\":{\"value\":\"#5CC9F5\"},\"line_color\":{\"value\":\"#5CC9F5\"},\"top\":{\"expr\":{\"id\":\"53855\",\"type\":\"Stack\"}},\"width\":{\"value\":0.9},\"x\":{\"field\":\"years\"}},\"id\":\"53862\",\"type\":\"VBar\"},{\"attributes\":{\"formatter\":{\"id\":\"53867\",\"type\":\"BasicTickFormatter\"},\"minor_tick_line_color\":{\"value\":null},\"plot\":{\"id\":\"53820\",\"subtype\":\"Figure\",\"type\":\"Plot\"},\"ticker\":{\"id\":\"53835\",\"type\":\"BasicTicker\"}},\"id\":\"53834\",\"type\":\"LinearAxis\"},{\"attributes\":{\"bottom\":{\"expr\":{\"id\":\"53858\",\"type\":\"Stack\"}},\"fill_color\":{\"value\":\"#cccccc\"},\"line_color\":{\"value\":\"#cccccc\"},\"top\":{\"expr\":{\"id\":\"53859\",\"type\":\"Stack\"}},\"width\":{\"value\":0.9},\"x\":{\"field\":\"years\"}},\"id\":\"53891\",\"type\":\"VBar\"},{\"attributes\":{\"bottom\":{\"expr\":{\"id\":\"53854\",\"type\":\"Stack\"}},\"fill_alpha\":{\"value\":0.1},\"fill_color\":{\"value\":\"#1f77b4\"},\"line_alpha\":{\"value\":0.1},\"line_color\":{\"value\":\"#1f77b4\"},\"top\":{\"expr\":{\"id\":\"53855\",\"type\":\"Stack\"}},\"width\":{\"value\":0.9},\"x\":{\"field\":\"years\"}},\"id\":\"53863\",\"type\":\"VBar\"},{\"attributes\":{},\"id\":\"53835\",\"type\":\"BasicTicker\"},{\"attributes\":{\"bottom\":{\"expr\":{\"id\":\"53858\",\"type\":\"Stack\"}},\"fill_alpha\":{\"value\":0.1},\"fill_color\":{\"value\":\"#1f77b4\"},\"line_alpha\":{\"value\":0.1},\"line_color\":{\"value\":\"#1f77b4\"},\"top\":{\"expr\":{\"id\":\"53859\",\"type\":\"Stack\"}},\"width\":{\"value\":0.9},\"x\":{\"field\":\"years\"}},\"id\":\"53892\",\"type\":\"VBar\"},{\"attributes\":{\"data_source\":{\"id\":\"53860\",\"type\":\"ColumnDataSource\"},\"glyph\":{\"id\":\"53862\",\"type\":\"VBar\"},\"hover_glyph\":null,\"muted_glyph\":null,\"name\":\"geom\",\"nonselection_glyph\":{\"id\":\"53863\",\"type\":\"VBar\"},\"selection_glyph\":null,\"view\":{\"id\":\"53865\",\"type\":\"CDSView\"}},\"id\":\"53864\",\"type\":\"GlyphRenderer\"},{\"attributes\":{\"label\":{\"value\":\"geom\"},\"renderers\":[{\"id\":\"53864\",\"type\":\"GlyphRenderer\"}]},\"id\":\"53873\",\"type\":\"LegendItem\"},{\"attributes\":{\"dimension\":1,\"plot\":{\"id\":\"53820\",\"subtype\":\"Figure\",\"type\":\"Plot\"},\"ticker\":{\"id\":\"53835\",\"type\":\"BasicTicker\"}},\"id\":\"53838\",\"type\":\"Grid\"},{\"attributes\":{\"data_source\":{\"id\":\"53889\",\"type\":\"ColumnDataSource\"},\"glyph\":{\"id\":\"53891\",\"type\":\"VBar\"},\"hover_glyph\":null,\"muted_glyph\":null,\"name\":\"bi\",\"nonselection_glyph\":{\"id\":\"53892\",\"type\":\"VBar\"},\"selection_glyph\":null,\"view\":{\"id\":\"53894\",\"type\":\"CDSView\"}},\"id\":\"53893\",\"type\":\"GlyphRenderer\"},{\"attributes\":{\"source\":{\"id\":\"53860\",\"type\":\"ColumnDataSource\"}},\"id\":\"53865\",\"type\":\"CDSView\"},{\"attributes\":{\"source\":{\"id\":\"53889\",\"type\":\"ColumnDataSource\"}},\"id\":\"53894\",\"type\":\"CDSView\"},{\"attributes\":{\"fields\":[\"geom\"]},\"id\":\"53856\",\"type\":\"Stack\"},{\"attributes\":{},\"id\":\"54888\",\"type\":\"Selection\"},{\"attributes\":{\"fields\":[\"geom\"]},\"id\":\"53855\",\"type\":\"Stack\"},{\"attributes\":{},\"id\":\"53903\",\"type\":\"Selection\"},{\"attributes\":{},\"id\":\"53904\",\"type\":\"UnionRenderers\"},{\"attributes\":{\"fields\":[\"geom\",\"no-geo\"]},\"id\":\"53857\",\"type\":\"Stack\"},{\"attributes\":{},\"id\":\"53839\",\"type\":\"PanTool\"},{\"attributes\":{},\"id\":\"53826\",\"type\":\"CategoricalScale\"},{\"attributes\":{},\"id\":\"53867\",\"type\":\"BasicTickFormatter\"},{\"attributes\":{\"label\":{\"value\":\"bi\"},\"renderers\":[{\"id\":\"53893\",\"type\":\"GlyphRenderer\"}]},\"id\":\"53905\",\"type\":\"LegendItem\"},{\"attributes\":{},\"id\":\"53828\",\"type\":\"LinearScale\"},{\"attributes\":{},\"id\":\"53840\",\"type\":\"WheelZoomTool\"},{\"attributes\":{},\"id\":\"53869\",\"type\":\"CategoricalTickFormatter\"},{\"attributes\":{},\"id\":\"54889\",\"type\":\"UnionRenderers\"},{\"attributes\":{\"overlay\":{\"id\":\"53847\",\"type\":\"BoxAnnotation\"}},\"id\":\"53841\",\"type\":\"BoxZoomTool\"},{\"attributes\":{\"fields\":[]},\"id\":\"53854\",\"type\":\"Stack\"},{\"attributes\":{\"formatter\":{\"id\":\"53869\",\"type\":\"CategoricalTickFormatter\"},\"minor_tick_line_color\":{\"value\":null},\"plot\":{\"id\":\"53820\",\"subtype\":\"Figure\",\"type\":\"Plot\"},\"ticker\":{\"id\":\"53831\",\"type\":\"CategoricalTicker\"}},\"id\":\"53830\",\"type\":\"CategoricalAxis\"},{\"attributes\":{},\"id\":\"53842\",\"type\":\"SaveTool\"},{\"attributes\":{\"bottom\":{\"expr\":{\"id\":\"53856\",\"type\":\"Stack\"}},\"fill_color\":{\"value\":\"#e84d60\"},\"line_color\":{\"value\":\"#e84d60\"},\"top\":{\"expr\":{\"id\":\"53857\",\"type\":\"Stack\"}},\"width\":{\"value\":0.9},\"x\":{\"field\":\"years\"}},\"id\":\"53876\",\"type\":\"VBar\"},{\"attributes\":{},\"id\":\"53843\",\"type\":\"ResetTool\"},{\"attributes\":{\"bottom\":{\"expr\":{\"id\":\"53856\",\"type\":\"Stack\"}},\"fill_alpha\":{\"value\":0.1},\"fill_color\":{\"value\":\"#1f77b4\"},\"line_alpha\":{\"value\":0.1},\"line_color\":{\"value\":\"#1f77b4\"},\"top\":{\"expr\":{\"id\":\"53857\",\"type\":\"Stack\"}},\"width\":{\"value\":0.9},\"x\":{\"field\":\"years\"}},\"id\":\"53877\",\"type\":\"VBar\"},{\"attributes\":{},\"id\":\"53844\",\"type\":\"HelpTool\"},{\"attributes\":{\"data_source\":{\"id\":\"53874\",\"type\":\"ColumnDataSource\"},\"glyph\":{\"id\":\"53876\",\"type\":\"VBar\"},\"hover_glyph\":null,\"muted_glyph\":null,\"name\":\"no-geo\",\"nonselection_glyph\":{\"id\":\"53877\",\"type\":\"VBar\"},\"selection_glyph\":null,\"view\":{\"id\":\"53879\",\"type\":\"CDSView\"}},\"id\":\"53878\",\"type\":\"GlyphRenderer\"},{\"attributes\":{\"active_drag\":\"auto\",\"active_inspect\":\"auto\",\"active_multi\":null,\"active_scroll\":\"auto\",\"active_tap\":\"auto\",\"tools\":[{\"id\":\"53839\",\"type\":\"PanTool\"},{\"id\":\"53840\",\"type\":\"WheelZoomTool\"},{\"id\":\"53841\",\"type\":\"BoxZoomTool\"},{\"id\":\"53842\",\"type\":\"SaveTool\"},{\"id\":\"53843\",\"type\":\"ResetTool\"},{\"id\":\"53844\",\"type\":\"HelpTool\"}]},\"id\":\"53845\",\"type\":\"Toolbar\"},{\"attributes\":{\"plot\":null,\"text\":\"NJ\"},\"id\":\"53819\",\"type\":\"Title\"},{\"attributes\":{\"callback\":null,\"data\":{\"bi\":[0,0,182,18,0],\"geom\":[195481,165222,403310,420613,0],\"no-geo\":[203557,185715,1,1,412139],\"years\":[\"2012\",\"2013\",\"2014\",\"2015\",\"2016\"]},\"selected\":{\"id\":\"53903\",\"type\":\"Selection\"},\"selection_policy\":{\"id\":\"53904\",\"type\":\"UnionRenderers\"}},\"id\":\"53874\",\"type\":\"ColumnDataSource\"},{\"attributes\":{\"source\":{\"id\":\"53874\",\"type\":\"ColumnDataSource\"}},\"id\":\"53879\",\"type\":\"CDSView\"},{\"attributes\":{},\"id\":\"53886\",\"type\":\"Selection\"},{\"attributes\":{\"bottom_units\":\"screen\",\"fill_alpha\":{\"value\":0.5},\"fill_color\":{\"value\":\"lightgrey\"},\"left_units\":\"screen\",\"level\":\"overlay\",\"line_alpha\":{\"value\":1.0},\"line_color\":{\"value\":\"black\"},\"line_dash\":[4,4],\"line_width\":{\"value\":2},\"plot\":null,\"render_mode\":\"css\",\"right_units\":\"screen\",\"top_units\":\"screen\"},\"id\":\"53847\",\"type\":\"BoxAnnotation\"},{\"attributes\":{\"callback\":null,\"factors\":[\"2012\",\"2013\",\"2014\",\"2015\",\"2016\"],\"range_padding\":0.1},\"id\":\"53822\",\"type\":\"FactorRange\"},{\"attributes\":{},\"id\":\"53887\",\"type\":\"UnionRenderers\"},{\"attributes\":{\"callback\":null,\"start\":0},\"id\":\"53824\",\"type\":\"DataRange1d\"},{\"attributes\":{\"fields\":[\"geom\",\"no-geo\"]},\"id\":\"53858\",\"type\":\"Stack\"},{\"attributes\":{\"label\":{\"value\":\"no-geo\"},\"renderers\":[{\"id\":\"53878\",\"type\":\"GlyphRenderer\"}]},\"id\":\"53888\",\"type\":\"LegendItem\"},{\"attributes\":{\"fields\":[\"geom\",\"no-geo\",\"bi\"]},\"id\":\"53859\",\"type\":\"Stack\"}],\"root_ids\":[\"53820\"]},\"title\":\"Bokeh Application\",\"version\":\"1.0.0\"}};\n",
       "  var render_items = [{\"docid\":\"4fde843c-6f82-43a6-abc4-42d03c184043\",\"roots\":{\"53820\":\"b6c6ae32-2d71-40cf-a61c-688d60c94c10\"}}];\n",
       "  root.Bokeh.embed.embed_items_notebook(docs_json, render_items);\n",
       "\n",
       "  }\n",
       "  if (root.Bokeh !== undefined) {\n",
       "    embed_document(root);\n",
       "  } else {\n",
       "    var attempts = 0;\n",
       "    var timer = setInterval(function(root) {\n",
       "      if (root.Bokeh !== undefined) {\n",
       "        embed_document(root);\n",
       "        clearInterval(timer);\n",
       "      }\n",
       "      attempts++;\n",
       "      if (attempts > 100) {\n",
       "        console.log(\"Bokeh: ERROR: Unable to run BokehJS code because BokehJS library is missing\");\n",
       "        clearInterval(timer);\n",
       "      }\n",
       "    }, 10, root)\n",
       "  }\n",
       "})(window);"
      ],
      "application/vnd.bokehjs_exec.v0+json": ""
     },
     "metadata": {
      "application/vnd.bokehjs_exec.v0+json": {
       "id": "53820"
      }
     },
     "output_type": "display_data"
    },
    {
     "data": {
      "text/html": [
       "\n",
       "\n",
       "\n",
       "\n",
       "\n",
       "\n",
       "  <div class=\"bk-root\" id=\"57361f53-5fea-4270-94ed-938f7ee6af41\"></div>\n"
      ]
     },
     "metadata": {},
     "output_type": "display_data"
    },
    {
     "data": {
      "application/javascript": [
       "(function(root) {\n",
       "  function embed_document(root) {\n",
       "    \n",
       "  var docs_json = {\"64b2465a-8baf-4b4b-a1a9-c4826b3405c5\":{\"roots\":{\"references\":[{\"attributes\":{\"below\":[{\"id\":\"54973\",\"type\":\"CategoricalAxis\"}],\"left\":[{\"id\":\"54977\",\"type\":\"LinearAxis\"}],\"outline_line_color\":{\"value\":null},\"plot_height\":250,\"renderers\":[{\"id\":\"54973\",\"type\":\"CategoricalAxis\"},{\"id\":\"54976\",\"type\":\"Grid\"},{\"id\":\"54977\",\"type\":\"LinearAxis\"},{\"id\":\"54981\",\"type\":\"Grid\"},{\"id\":\"54990\",\"type\":\"BoxAnnotation\"},{\"id\":\"55015\",\"type\":\"Legend\"},{\"id\":\"55007\",\"type\":\"GlyphRenderer\"},{\"id\":\"55021\",\"type\":\"GlyphRenderer\"},{\"id\":\"55036\",\"type\":\"GlyphRenderer\"}],\"title\":{\"id\":\"54962\",\"type\":\"Title\"},\"toolbar\":{\"id\":\"54988\",\"type\":\"Toolbar\"},\"toolbar_location\":null,\"x_range\":{\"id\":\"54965\",\"type\":\"FactorRange\"},\"x_scale\":{\"id\":\"54969\",\"type\":\"CategoricalScale\"},\"y_range\":{\"id\":\"54967\",\"type\":\"DataRange1d\"},\"y_scale\":{\"id\":\"54971\",\"type\":\"LinearScale\"}},\"id\":\"54963\",\"subtype\":\"Figure\",\"type\":\"Plot\"},{\"attributes\":{\"active_drag\":\"auto\",\"active_inspect\":\"auto\",\"active_multi\":null,\"active_scroll\":\"auto\",\"active_tap\":\"auto\",\"tools\":[{\"id\":\"54982\",\"type\":\"PanTool\"},{\"id\":\"54983\",\"type\":\"WheelZoomTool\"},{\"id\":\"54984\",\"type\":\"BoxZoomTool\"},{\"id\":\"54985\",\"type\":\"SaveTool\"},{\"id\":\"54986\",\"type\":\"ResetTool\"},{\"id\":\"54987\",\"type\":\"HelpTool\"}]},\"id\":\"54988\",\"type\":\"Toolbar\"},{\"attributes\":{\"bottom\":{\"expr\":{\"id\":\"54999\",\"type\":\"Stack\"}},\"fill_color\":{\"value\":\"#e84d60\"},\"line_color\":{\"value\":\"#e84d60\"},\"top\":{\"expr\":{\"id\":\"55000\",\"type\":\"Stack\"}},\"width\":{\"value\":0.9},\"x\":{\"field\":\"years\"}},\"id\":\"55019\",\"type\":\"VBar\"},{\"attributes\":{\"bottom_units\":\"screen\",\"fill_alpha\":{\"value\":0.5},\"fill_color\":{\"value\":\"lightgrey\"},\"left_units\":\"screen\",\"level\":\"overlay\",\"line_alpha\":{\"value\":1.0},\"line_color\":{\"value\":\"black\"},\"line_dash\":[4,4],\"line_width\":{\"value\":2},\"plot\":null,\"render_mode\":\"css\",\"right_units\":\"screen\",\"top_units\":\"screen\"},\"id\":\"54990\",\"type\":\"BoxAnnotation\"},{\"attributes\":{\"formatter\":{\"id\":\"55012\",\"type\":\"CategoricalTickFormatter\"},\"minor_tick_line_color\":{\"value\":null},\"plot\":{\"id\":\"54963\",\"subtype\":\"Figure\",\"type\":\"Plot\"},\"ticker\":{\"id\":\"54974\",\"type\":\"CategoricalTicker\"}},\"id\":\"54973\",\"type\":\"CategoricalAxis\"},{\"attributes\":{},\"id\":\"54974\",\"type\":\"CategoricalTicker\"},{\"attributes\":{\"bottom\":{\"expr\":{\"id\":\"54999\",\"type\":\"Stack\"}},\"fill_alpha\":{\"value\":0.1},\"fill_color\":{\"value\":\"#1f77b4\"},\"line_alpha\":{\"value\":0.1},\"line_color\":{\"value\":\"#1f77b4\"},\"top\":{\"expr\":{\"id\":\"55000\",\"type\":\"Stack\"}},\"width\":{\"value\":0.9},\"x\":{\"field\":\"years\"}},\"id\":\"55020\",\"type\":\"VBar\"},{\"attributes\":{\"fields\":[\"geom\",\"no-geo\"]},\"id\":\"55001\",\"type\":\"Stack\"},{\"attributes\":{\"data_source\":{\"id\":\"55017\",\"type\":\"ColumnDataSource\"},\"glyph\":{\"id\":\"55019\",\"type\":\"VBar\"},\"hover_glyph\":null,\"muted_glyph\":null,\"name\":\"no-geo\",\"nonselection_glyph\":{\"id\":\"55020\",\"type\":\"VBar\"},\"selection_glyph\":null,\"view\":{\"id\":\"55022\",\"type\":\"CDSView\"}},\"id\":\"55021\",\"type\":\"GlyphRenderer\"},{\"attributes\":{\"grid_line_color\":{\"value\":null},\"plot\":{\"id\":\"54963\",\"subtype\":\"Figure\",\"type\":\"Plot\"},\"ticker\":{\"id\":\"54974\",\"type\":\"CategoricalTicker\"}},\"id\":\"54976\",\"type\":\"Grid\"},{\"attributes\":{\"fields\":[\"geom\",\"no-geo\",\"bi\"]},\"id\":\"55002\",\"type\":\"Stack\"},{\"attributes\":{\"callback\":null,\"factors\":[\"2012\",\"2013\",\"2014\",\"2015\",\"2016\"],\"range_padding\":0.1},\"id\":\"54965\",\"type\":\"FactorRange\"},{\"attributes\":{\"source\":{\"id\":\"55017\",\"type\":\"ColumnDataSource\"}},\"id\":\"55022\",\"type\":\"CDSView\"},{\"attributes\":{\"callback\":null,\"data\":{\"bi\":[0,0,14,0,0],\"geom\":[98741,101625,186357,165600,0],\"no-geo\":[71867,77145,2,1,201728],\"years\":[\"2012\",\"2013\",\"2014\",\"2015\",\"2016\"]},\"selected\":{\"id\":\"55029\",\"type\":\"Selection\"},\"selection_policy\":{\"id\":\"55030\",\"type\":\"UnionRenderers\"}},\"id\":\"55003\",\"type\":\"ColumnDataSource\"},{\"attributes\":{\"plot\":null,\"text\":\"NM\"},\"id\":\"54962\",\"type\":\"Title\"},{\"attributes\":{\"bottom\":{\"expr\":{\"id\":\"55001\",\"type\":\"Stack\"}},\"fill_alpha\":{\"value\":0.1},\"fill_color\":{\"value\":\"#1f77b4\"},\"line_alpha\":{\"value\":0.1},\"line_color\":{\"value\":\"#1f77b4\"},\"top\":{\"expr\":{\"id\":\"55002\",\"type\":\"Stack\"}},\"width\":{\"value\":0.9},\"x\":{\"field\":\"years\"}},\"id\":\"55035\",\"type\":\"VBar\"},{\"attributes\":{},\"id\":\"55030\",\"type\":\"UnionRenderers\"},{\"attributes\":{\"fields\":[\"geom\"]},\"id\":\"54999\",\"type\":\"Stack\"},{\"attributes\":{\"label\":{\"value\":\"no-geo\"},\"renderers\":[{\"id\":\"55021\",\"type\":\"GlyphRenderer\"}]},\"id\":\"55031\",\"type\":\"LegendItem\"},{\"attributes\":{\"bottom\":{\"expr\":{\"id\":\"54997\",\"type\":\"Stack\"}},\"fill_color\":{\"value\":\"#5CC9F5\"},\"line_color\":{\"value\":\"#5CC9F5\"},\"top\":{\"expr\":{\"id\":\"54998\",\"type\":\"Stack\"}},\"width\":{\"value\":0.9},\"x\":{\"field\":\"years\"}},\"id\":\"55005\",\"type\":\"VBar\"},{\"attributes\":{\"fields\":[\"geom\",\"no-geo\"]},\"id\":\"55000\",\"type\":\"Stack\"},{\"attributes\":{\"source\":{\"id\":\"55032\",\"type\":\"ColumnDataSource\"}},\"id\":\"55037\",\"type\":\"CDSView\"},{\"attributes\":{\"bottom\":{\"expr\":{\"id\":\"54997\",\"type\":\"Stack\"}},\"fill_alpha\":{\"value\":0.1},\"fill_color\":{\"value\":\"#1f77b4\"},\"line_alpha\":{\"value\":0.1},\"line_color\":{\"value\":\"#1f77b4\"},\"top\":{\"expr\":{\"id\":\"54998\",\"type\":\"Stack\"}},\"width\":{\"value\":0.9},\"x\":{\"field\":\"years\"}},\"id\":\"55006\",\"type\":\"VBar\"},{\"attributes\":{},\"id\":\"55046\",\"type\":\"Selection\"},{\"attributes\":{\"data_source\":{\"id\":\"55003\",\"type\":\"ColumnDataSource\"},\"glyph\":{\"id\":\"55005\",\"type\":\"VBar\"},\"hover_glyph\":null,\"muted_glyph\":null,\"name\":\"geom\",\"nonselection_glyph\":{\"id\":\"55006\",\"type\":\"VBar\"},\"selection_glyph\":null,\"view\":{\"id\":\"55008\",\"type\":\"CDSView\"}},\"id\":\"55007\",\"type\":\"GlyphRenderer\"},{\"attributes\":{\"label\":{\"value\":\"bi\"},\"renderers\":[{\"id\":\"55036\",\"type\":\"GlyphRenderer\"}]},\"id\":\"55048\",\"type\":\"LegendItem\"},{\"attributes\":{\"source\":{\"id\":\"55003\",\"type\":\"ColumnDataSource\"}},\"id\":\"55008\",\"type\":\"CDSView\"},{\"attributes\":{},\"id\":\"56043\",\"type\":\"Selection\"},{\"attributes\":{\"data_source\":{\"id\":\"55032\",\"type\":\"ColumnDataSource\"},\"glyph\":{\"id\":\"55034\",\"type\":\"VBar\"},\"hover_glyph\":null,\"muted_glyph\":null,\"name\":\"bi\",\"nonselection_glyph\":{\"id\":\"55035\",\"type\":\"VBar\"},\"selection_glyph\":null,\"view\":{\"id\":\"55037\",\"type\":\"CDSView\"}},\"id\":\"55036\",\"type\":\"GlyphRenderer\"},{\"attributes\":{},\"id\":\"54986\",\"type\":\"ResetTool\"},{\"attributes\":{},\"id\":\"55029\",\"type\":\"Selection\"},{\"attributes\":{},\"id\":\"56044\",\"type\":\"UnionRenderers\"},{\"attributes\":{},\"id\":\"55010\",\"type\":\"BasicTickFormatter\"},{\"attributes\":{\"fields\":[\"geom\"]},\"id\":\"54998\",\"type\":\"Stack\"},{\"attributes\":{},\"id\":\"54987\",\"type\":\"HelpTool\"},{\"attributes\":{\"callback\":null,\"data\":{\"bi\":[0,0,14,0,0],\"geom\":[98741,101625,186357,165600,0],\"no-geo\":[71867,77145,2,1,201728],\"years\":[\"2012\",\"2013\",\"2014\",\"2015\",\"2016\"]},\"selected\":{\"id\":\"56043\",\"type\":\"Selection\"},\"selection_policy\":{\"id\":\"56044\",\"type\":\"UnionRenderers\"}},\"id\":\"55032\",\"type\":\"ColumnDataSource\"},{\"attributes\":{\"dimension\":1,\"plot\":{\"id\":\"54963\",\"subtype\":\"Figure\",\"type\":\"Plot\"},\"ticker\":{\"id\":\"54978\",\"type\":\"BasicTicker\"}},\"id\":\"54981\",\"type\":\"Grid\"},{\"attributes\":{},\"id\":\"54985\",\"type\":\"SaveTool\"},{\"attributes\":{},\"id\":\"54978\",\"type\":\"BasicTicker\"},{\"attributes\":{},\"id\":\"55012\",\"type\":\"CategoricalTickFormatter\"},{\"attributes\":{\"overlay\":{\"id\":\"54990\",\"type\":\"BoxAnnotation\"}},\"id\":\"54984\",\"type\":\"BoxZoomTool\"},{\"attributes\":{\"callback\":null,\"start\":0},\"id\":\"54967\",\"type\":\"DataRange1d\"},{\"attributes\":{\"items\":[{\"id\":\"55016\",\"type\":\"LegendItem\"},{\"id\":\"55031\",\"type\":\"LegendItem\"},{\"id\":\"55048\",\"type\":\"LegendItem\"}],\"location\":\"top_left\",\"orientation\":\"horizontal\",\"plot\":{\"id\":\"54963\",\"subtype\":\"Figure\",\"type\":\"Plot\"}},\"id\":\"55015\",\"type\":\"Legend\"},{\"attributes\":{\"formatter\":{\"id\":\"55010\",\"type\":\"BasicTickFormatter\"},\"minor_tick_line_color\":{\"value\":null},\"plot\":{\"id\":\"54963\",\"subtype\":\"Figure\",\"type\":\"Plot\"},\"ticker\":{\"id\":\"54978\",\"type\":\"BasicTicker\"}},\"id\":\"54977\",\"type\":\"LinearAxis\"},{\"attributes\":{},\"id\":\"54983\",\"type\":\"WheelZoomTool\"},{\"attributes\":{\"label\":{\"value\":\"geom\"},\"renderers\":[{\"id\":\"55007\",\"type\":\"GlyphRenderer\"}]},\"id\":\"55016\",\"type\":\"LegendItem\"},{\"attributes\":{\"fields\":[]},\"id\":\"54997\",\"type\":\"Stack\"},{\"attributes\":{\"callback\":null,\"data\":{\"bi\":[0,0,14,0,0],\"geom\":[98741,101625,186357,165600,0],\"no-geo\":[71867,77145,2,1,201728],\"years\":[\"2012\",\"2013\",\"2014\",\"2015\",\"2016\"]},\"selected\":{\"id\":\"55046\",\"type\":\"Selection\"},\"selection_policy\":{\"id\":\"55047\",\"type\":\"UnionRenderers\"}},\"id\":\"55017\",\"type\":\"ColumnDataSource\"},{\"attributes\":{\"bottom\":{\"expr\":{\"id\":\"55001\",\"type\":\"Stack\"}},\"fill_color\":{\"value\":\"#cccccc\"},\"line_color\":{\"value\":\"#cccccc\"},\"top\":{\"expr\":{\"id\":\"55002\",\"type\":\"Stack\"}},\"width\":{\"value\":0.9},\"x\":{\"field\":\"years\"}},\"id\":\"55034\",\"type\":\"VBar\"},{\"attributes\":{},\"id\":\"55047\",\"type\":\"UnionRenderers\"},{\"attributes\":{},\"id\":\"54982\",\"type\":\"PanTool\"},{\"attributes\":{},\"id\":\"54969\",\"type\":\"CategoricalScale\"},{\"attributes\":{},\"id\":\"54971\",\"type\":\"LinearScale\"}],\"root_ids\":[\"54963\"]},\"title\":\"Bokeh Application\",\"version\":\"1.0.0\"}};\n",
       "  var render_items = [{\"docid\":\"64b2465a-8baf-4b4b-a1a9-c4826b3405c5\",\"roots\":{\"54963\":\"57361f53-5fea-4270-94ed-938f7ee6af41\"}}];\n",
       "  root.Bokeh.embed.embed_items_notebook(docs_json, render_items);\n",
       "\n",
       "  }\n",
       "  if (root.Bokeh !== undefined) {\n",
       "    embed_document(root);\n",
       "  } else {\n",
       "    var attempts = 0;\n",
       "    var timer = setInterval(function(root) {\n",
       "      if (root.Bokeh !== undefined) {\n",
       "        embed_document(root);\n",
       "        clearInterval(timer);\n",
       "      }\n",
       "      attempts++;\n",
       "      if (attempts > 100) {\n",
       "        console.log(\"Bokeh: ERROR: Unable to run BokehJS code because BokehJS library is missing\");\n",
       "        clearInterval(timer);\n",
       "      }\n",
       "    }, 10, root)\n",
       "  }\n",
       "})(window);"
      ],
      "application/vnd.bokehjs_exec.v0+json": ""
     },
     "metadata": {
      "application/vnd.bokehjs_exec.v0+json": {
       "id": "54963"
      }
     },
     "output_type": "display_data"
    },
    {
     "data": {
      "text/html": [
       "\n",
       "\n",
       "\n",
       "\n",
       "\n",
       "\n",
       "  <div class=\"bk-root\" id=\"2399a8c9-f058-43a4-b864-278f4813a8f3\"></div>\n"
      ]
     },
     "metadata": {},
     "output_type": "display_data"
    },
    {
     "data": {
      "application/javascript": [
       "(function(root) {\n",
       "  function embed_document(root) {\n",
       "    \n",
       "  var docs_json = {\"1041a2d5-738d-41b9-b0fd-51554ed86bfb\":{\"roots\":{\"references\":[{\"attributes\":{\"below\":[{\"id\":\"56128\",\"type\":\"CategoricalAxis\"}],\"left\":[{\"id\":\"56132\",\"type\":\"LinearAxis\"}],\"outline_line_color\":{\"value\":null},\"plot_height\":250,\"renderers\":[{\"id\":\"56128\",\"type\":\"CategoricalAxis\"},{\"id\":\"56131\",\"type\":\"Grid\"},{\"id\":\"56132\",\"type\":\"LinearAxis\"},{\"id\":\"56136\",\"type\":\"Grid\"},{\"id\":\"56145\",\"type\":\"BoxAnnotation\"},{\"id\":\"56170\",\"type\":\"Legend\"},{\"id\":\"56162\",\"type\":\"GlyphRenderer\"},{\"id\":\"56176\",\"type\":\"GlyphRenderer\"},{\"id\":\"56191\",\"type\":\"GlyphRenderer\"}],\"title\":{\"id\":\"56117\",\"type\":\"Title\"},\"toolbar\":{\"id\":\"56143\",\"type\":\"Toolbar\"},\"toolbar_location\":null,\"x_range\":{\"id\":\"56120\",\"type\":\"FactorRange\"},\"x_scale\":{\"id\":\"56124\",\"type\":\"CategoricalScale\"},\"y_range\":{\"id\":\"56122\",\"type\":\"DataRange1d\"},\"y_scale\":{\"id\":\"56126\",\"type\":\"LinearScale\"}},\"id\":\"56118\",\"subtype\":\"Figure\",\"type\":\"Plot\"},{\"attributes\":{},\"id\":\"56140\",\"type\":\"SaveTool\"},{\"attributes\":{\"data_source\":{\"id\":\"56172\",\"type\":\"ColumnDataSource\"},\"glyph\":{\"id\":\"56174\",\"type\":\"VBar\"},\"hover_glyph\":null,\"muted_glyph\":null,\"name\":\"no-geo\",\"nonselection_glyph\":{\"id\":\"56175\",\"type\":\"VBar\"},\"selection_glyph\":null,\"view\":{\"id\":\"56177\",\"type\":\"CDSView\"}},\"id\":\"56176\",\"type\":\"GlyphRenderer\"},{\"attributes\":{},\"id\":\"56202\",\"type\":\"UnionRenderers\"},{\"attributes\":{},\"id\":\"56141\",\"type\":\"ResetTool\"},{\"attributes\":{\"plot\":null,\"text\":\"NY\"},\"id\":\"56117\",\"type\":\"Title\"},{\"attributes\":{},\"id\":\"56142\",\"type\":\"HelpTool\"},{\"attributes\":{},\"id\":\"56185\",\"type\":\"UnionRenderers\"},{\"attributes\":{\"callback\":null,\"factors\":[\"2012\",\"2013\",\"2014\",\"2015\",\"2016\"],\"range_padding\":0.1},\"id\":\"56120\",\"type\":\"FactorRange\"},{\"attributes\":{\"source\":{\"id\":\"56172\",\"type\":\"ColumnDataSource\"}},\"id\":\"56177\",\"type\":\"CDSView\"},{\"attributes\":{\"active_drag\":\"auto\",\"active_inspect\":\"auto\",\"active_multi\":null,\"active_scroll\":\"auto\",\"active_tap\":\"auto\",\"tools\":[{\"id\":\"56137\",\"type\":\"PanTool\"},{\"id\":\"56138\",\"type\":\"WheelZoomTool\"},{\"id\":\"56139\",\"type\":\"BoxZoomTool\"},{\"id\":\"56140\",\"type\":\"SaveTool\"},{\"id\":\"56141\",\"type\":\"ResetTool\"},{\"id\":\"56142\",\"type\":\"HelpTool\"}]},\"id\":\"56143\",\"type\":\"Toolbar\"},{\"attributes\":{\"fields\":[\"geom\"]},\"id\":\"56154\",\"type\":\"Stack\"},{\"attributes\":{\"callback\":null,\"start\":0},\"id\":\"56122\",\"type\":\"DataRange1d\"},{\"attributes\":{},\"id\":\"56184\",\"type\":\"Selection\"},{\"attributes\":{\"bottom_units\":\"screen\",\"fill_alpha\":{\"value\":0.5},\"fill_color\":{\"value\":\"lightgrey\"},\"left_units\":\"screen\",\"level\":\"overlay\",\"line_alpha\":{\"value\":1.0},\"line_color\":{\"value\":\"black\"},\"line_dash\":[4,4],\"line_width\":{\"value\":2},\"plot\":null,\"render_mode\":\"css\",\"right_units\":\"screen\",\"top_units\":\"screen\"},\"id\":\"56145\",\"type\":\"BoxAnnotation\"},{\"attributes\":{},\"id\":\"56124\",\"type\":\"CategoricalScale\"},{\"attributes\":{\"label\":{\"value\":\"no-geo\"},\"renderers\":[{\"id\":\"56176\",\"type\":\"GlyphRenderer\"}]},\"id\":\"56186\",\"type\":\"LegendItem\"},{\"attributes\":{\"fields\":[\"geom\",\"no-geo\"]},\"id\":\"56155\",\"type\":\"Stack\"},{\"attributes\":{},\"id\":\"56126\",\"type\":\"LinearScale\"},{\"attributes\":{\"fields\":[\"geom\",\"no-geo\"]},\"id\":\"56156\",\"type\":\"Stack\"},{\"attributes\":{\"callback\":null,\"data\":{\"bi\":[6,0,6,0,0],\"geom\":[1612393,1217134,1381146,1365868,0],\"no-geo\":[105039,105354,3,2,1481584],\"years\":[\"2012\",\"2013\",\"2014\",\"2015\",\"2016\"]},\"selected\":{\"id\":\"57210\",\"type\":\"Selection\"},\"selection_policy\":{\"id\":\"57211\",\"type\":\"UnionRenderers\"}},\"id\":\"56187\",\"type\":\"ColumnDataSource\"},{\"attributes\":{\"formatter\":{\"id\":\"56167\",\"type\":\"CategoricalTickFormatter\"},\"minor_tick_line_color\":{\"value\":null},\"plot\":{\"id\":\"56118\",\"subtype\":\"Figure\",\"type\":\"Plot\"},\"ticker\":{\"id\":\"56129\",\"type\":\"CategoricalTicker\"}},\"id\":\"56128\",\"type\":\"CategoricalAxis\"},{\"attributes\":{\"fields\":[\"geom\",\"no-geo\",\"bi\"]},\"id\":\"56157\",\"type\":\"Stack\"},{\"attributes\":{\"data_source\":{\"id\":\"56187\",\"type\":\"ColumnDataSource\"},\"glyph\":{\"id\":\"56189\",\"type\":\"VBar\"},\"hover_glyph\":null,\"muted_glyph\":null,\"name\":\"bi\",\"nonselection_glyph\":{\"id\":\"56190\",\"type\":\"VBar\"},\"selection_glyph\":null,\"view\":{\"id\":\"56192\",\"type\":\"CDSView\"}},\"id\":\"56191\",\"type\":\"GlyphRenderer\"},{\"attributes\":{},\"id\":\"56129\",\"type\":\"CategoricalTicker\"},{\"attributes\":{\"callback\":null,\"data\":{\"bi\":[6,0,6,0,0],\"geom\":[1612393,1217134,1381146,1365868,0],\"no-geo\":[105039,105354,3,2,1481584],\"years\":[\"2012\",\"2013\",\"2014\",\"2015\",\"2016\"]},\"selected\":{\"id\":\"56184\",\"type\":\"Selection\"},\"selection_policy\":{\"id\":\"56185\",\"type\":\"UnionRenderers\"}},\"id\":\"56158\",\"type\":\"ColumnDataSource\"},{\"attributes\":{\"grid_line_color\":{\"value\":null},\"plot\":{\"id\":\"56118\",\"subtype\":\"Figure\",\"type\":\"Plot\"},\"ticker\":{\"id\":\"56129\",\"type\":\"CategoricalTicker\"}},\"id\":\"56131\",\"type\":\"Grid\"},{\"attributes\":{\"bottom\":{\"expr\":{\"id\":\"56156\",\"type\":\"Stack\"}},\"fill_color\":{\"value\":\"#cccccc\"},\"line_color\":{\"value\":\"#cccccc\"},\"top\":{\"expr\":{\"id\":\"56157\",\"type\":\"Stack\"}},\"width\":{\"value\":0.9},\"x\":{\"field\":\"years\"}},\"id\":\"56189\",\"type\":\"VBar\"},{\"attributes\":{\"bottom\":{\"expr\":{\"id\":\"56152\",\"type\":\"Stack\"}},\"fill_color\":{\"value\":\"#5CC9F5\"},\"line_color\":{\"value\":\"#5CC9F5\"},\"top\":{\"expr\":{\"id\":\"56153\",\"type\":\"Stack\"}},\"width\":{\"value\":0.9},\"x\":{\"field\":\"years\"}},\"id\":\"56160\",\"type\":\"VBar\"},{\"attributes\":{\"formatter\":{\"id\":\"56165\",\"type\":\"BasicTickFormatter\"},\"minor_tick_line_color\":{\"value\":null},\"plot\":{\"id\":\"56118\",\"subtype\":\"Figure\",\"type\":\"Plot\"},\"ticker\":{\"id\":\"56133\",\"type\":\"BasicTicker\"}},\"id\":\"56132\",\"type\":\"LinearAxis\"},{\"attributes\":{\"bottom\":{\"expr\":{\"id\":\"56156\",\"type\":\"Stack\"}},\"fill_alpha\":{\"value\":0.1},\"fill_color\":{\"value\":\"#1f77b4\"},\"line_alpha\":{\"value\":0.1},\"line_color\":{\"value\":\"#1f77b4\"},\"top\":{\"expr\":{\"id\":\"56157\",\"type\":\"Stack\"}},\"width\":{\"value\":0.9},\"x\":{\"field\":\"years\"}},\"id\":\"56190\",\"type\":\"VBar\"},{\"attributes\":{\"callback\":null,\"data\":{\"bi\":[6,0,6,0,0],\"geom\":[1612393,1217134,1381146,1365868,0],\"no-geo\":[105039,105354,3,2,1481584],\"years\":[\"2012\",\"2013\",\"2014\",\"2015\",\"2016\"]},\"selected\":{\"id\":\"56201\",\"type\":\"Selection\"},\"selection_policy\":{\"id\":\"56202\",\"type\":\"UnionRenderers\"}},\"id\":\"56172\",\"type\":\"ColumnDataSource\"},{\"attributes\":{\"bottom\":{\"expr\":{\"id\":\"56152\",\"type\":\"Stack\"}},\"fill_alpha\":{\"value\":0.1},\"fill_color\":{\"value\":\"#1f77b4\"},\"line_alpha\":{\"value\":0.1},\"line_color\":{\"value\":\"#1f77b4\"},\"top\":{\"expr\":{\"id\":\"56153\",\"type\":\"Stack\"}},\"width\":{\"value\":0.9},\"x\":{\"field\":\"years\"}},\"id\":\"56161\",\"type\":\"VBar\"},{\"attributes\":{},\"id\":\"56133\",\"type\":\"BasicTicker\"},{\"attributes\":{\"source\":{\"id\":\"56187\",\"type\":\"ColumnDataSource\"}},\"id\":\"56192\",\"type\":\"CDSView\"},{\"attributes\":{\"data_source\":{\"id\":\"56158\",\"type\":\"ColumnDataSource\"},\"glyph\":{\"id\":\"56160\",\"type\":\"VBar\"},\"hover_glyph\":null,\"muted_glyph\":null,\"name\":\"geom\",\"nonselection_glyph\":{\"id\":\"56161\",\"type\":\"VBar\"},\"selection_glyph\":null,\"view\":{\"id\":\"56163\",\"type\":\"CDSView\"}},\"id\":\"56162\",\"type\":\"GlyphRenderer\"},{\"attributes\":{\"dimension\":1,\"plot\":{\"id\":\"56118\",\"subtype\":\"Figure\",\"type\":\"Plot\"},\"ticker\":{\"id\":\"56133\",\"type\":\"BasicTicker\"}},\"id\":\"56136\",\"type\":\"Grid\"},{\"attributes\":{\"label\":{\"value\":\"geom\"},\"renderers\":[{\"id\":\"56162\",\"type\":\"GlyphRenderer\"}]},\"id\":\"56171\",\"type\":\"LegendItem\"},{\"attributes\":{},\"id\":\"56201\",\"type\":\"Selection\"},{\"attributes\":{\"source\":{\"id\":\"56158\",\"type\":\"ColumnDataSource\"}},\"id\":\"56163\",\"type\":\"CDSView\"},{\"attributes\":{\"fields\":[\"geom\"]},\"id\":\"56153\",\"type\":\"Stack\"},{\"attributes\":{\"label\":{\"value\":\"bi\"},\"renderers\":[{\"id\":\"56191\",\"type\":\"GlyphRenderer\"}]},\"id\":\"56203\",\"type\":\"LegendItem\"},{\"attributes\":{},\"id\":\"56165\",\"type\":\"BasicTickFormatter\"},{\"attributes\":{\"fields\":[]},\"id\":\"56152\",\"type\":\"Stack\"},{\"attributes\":{},\"id\":\"56167\",\"type\":\"CategoricalTickFormatter\"},{\"attributes\":{},\"id\":\"57210\",\"type\":\"Selection\"},{\"attributes\":{\"items\":[{\"id\":\"56171\",\"type\":\"LegendItem\"},{\"id\":\"56186\",\"type\":\"LegendItem\"},{\"id\":\"56203\",\"type\":\"LegendItem\"}],\"location\":\"top_left\",\"orientation\":\"horizontal\",\"plot\":{\"id\":\"56118\",\"subtype\":\"Figure\",\"type\":\"Plot\"}},\"id\":\"56170\",\"type\":\"Legend\"},{\"attributes\":{},\"id\":\"56137\",\"type\":\"PanTool\"},{\"attributes\":{},\"id\":\"57211\",\"type\":\"UnionRenderers\"},{\"attributes\":{\"bottom\":{\"expr\":{\"id\":\"56154\",\"type\":\"Stack\"}},\"fill_color\":{\"value\":\"#e84d60\"},\"line_color\":{\"value\":\"#e84d60\"},\"top\":{\"expr\":{\"id\":\"56155\",\"type\":\"Stack\"}},\"width\":{\"value\":0.9},\"x\":{\"field\":\"years\"}},\"id\":\"56174\",\"type\":\"VBar\"},{\"attributes\":{},\"id\":\"56138\",\"type\":\"WheelZoomTool\"},{\"attributes\":{\"bottom\":{\"expr\":{\"id\":\"56154\",\"type\":\"Stack\"}},\"fill_alpha\":{\"value\":0.1},\"fill_color\":{\"value\":\"#1f77b4\"},\"line_alpha\":{\"value\":0.1},\"line_color\":{\"value\":\"#1f77b4\"},\"top\":{\"expr\":{\"id\":\"56155\",\"type\":\"Stack\"}},\"width\":{\"value\":0.9},\"x\":{\"field\":\"years\"}},\"id\":\"56175\",\"type\":\"VBar\"},{\"attributes\":{\"overlay\":{\"id\":\"56145\",\"type\":\"BoxAnnotation\"}},\"id\":\"56139\",\"type\":\"BoxZoomTool\"}],\"root_ids\":[\"56118\"]},\"title\":\"Bokeh Application\",\"version\":\"1.0.0\"}};\n",
       "  var render_items = [{\"docid\":\"1041a2d5-738d-41b9-b0fd-51554ed86bfb\",\"roots\":{\"56118\":\"2399a8c9-f058-43a4-b864-278f4813a8f3\"}}];\n",
       "  root.Bokeh.embed.embed_items_notebook(docs_json, render_items);\n",
       "\n",
       "  }\n",
       "  if (root.Bokeh !== undefined) {\n",
       "    embed_document(root);\n",
       "  } else {\n",
       "    var attempts = 0;\n",
       "    var timer = setInterval(function(root) {\n",
       "      if (root.Bokeh !== undefined) {\n",
       "        embed_document(root);\n",
       "        clearInterval(timer);\n",
       "      }\n",
       "      attempts++;\n",
       "      if (attempts > 100) {\n",
       "        console.log(\"Bokeh: ERROR: Unable to run BokehJS code because BokehJS library is missing\");\n",
       "        clearInterval(timer);\n",
       "      }\n",
       "    }, 10, root)\n",
       "  }\n",
       "})(window);"
      ],
      "application/vnd.bokehjs_exec.v0+json": ""
     },
     "metadata": {
      "application/vnd.bokehjs_exec.v0+json": {
       "id": "56118"
      }
     },
     "output_type": "display_data"
    },
    {
     "data": {
      "text/html": [
       "\n",
       "\n",
       "\n",
       "\n",
       "\n",
       "\n",
       "  <div class=\"bk-root\" id=\"04efb552-a5ad-429d-83de-c6ae5d7e7c34\"></div>\n"
      ]
     },
     "metadata": {},
     "output_type": "display_data"
    },
    {
     "data": {
      "application/javascript": [
       "(function(root) {\n",
       "  function embed_document(root) {\n",
       "    \n",
       "  var docs_json = {\"ecadd4a9-8013-4587-8198-f123cbd92787\":{\"roots\":{\"references\":[{\"attributes\":{\"below\":[{\"id\":\"57295\",\"type\":\"CategoricalAxis\"}],\"left\":[{\"id\":\"57299\",\"type\":\"LinearAxis\"}],\"outline_line_color\":{\"value\":null},\"plot_height\":250,\"renderers\":[{\"id\":\"57295\",\"type\":\"CategoricalAxis\"},{\"id\":\"57298\",\"type\":\"Grid\"},{\"id\":\"57299\",\"type\":\"LinearAxis\"},{\"id\":\"57303\",\"type\":\"Grid\"},{\"id\":\"57312\",\"type\":\"BoxAnnotation\"},{\"id\":\"57337\",\"type\":\"Legend\"},{\"id\":\"57329\",\"type\":\"GlyphRenderer\"},{\"id\":\"57343\",\"type\":\"GlyphRenderer\"},{\"id\":\"57358\",\"type\":\"GlyphRenderer\"}],\"title\":{\"id\":\"57284\",\"type\":\"Title\"},\"toolbar\":{\"id\":\"57310\",\"type\":\"Toolbar\"},\"toolbar_location\":null,\"x_range\":{\"id\":\"57287\",\"type\":\"FactorRange\"},\"x_scale\":{\"id\":\"57291\",\"type\":\"CategoricalScale\"},\"y_range\":{\"id\":\"57289\",\"type\":\"DataRange1d\"},\"y_scale\":{\"id\":\"57293\",\"type\":\"LinearScale\"}},\"id\":\"57285\",\"subtype\":\"Figure\",\"type\":\"Plot\"},{\"attributes\":{},\"id\":\"57304\",\"type\":\"PanTool\"},{\"attributes\":{\"source\":{\"id\":\"57354\",\"type\":\"ColumnDataSource\"}},\"id\":\"57359\",\"type\":\"CDSView\"},{\"attributes\":{},\"id\":\"57332\",\"type\":\"BasicTickFormatter\"},{\"attributes\":{},\"id\":\"57305\",\"type\":\"WheelZoomTool\"},{\"attributes\":{},\"id\":\"57368\",\"type\":\"Selection\"},{\"attributes\":{},\"id\":\"57351\",\"type\":\"Selection\"},{\"attributes\":{\"fields\":[\"geom\"]},\"id\":\"57320\",\"type\":\"Stack\"},{\"attributes\":{\"overlay\":{\"id\":\"57312\",\"type\":\"BoxAnnotation\"}},\"id\":\"57306\",\"type\":\"BoxZoomTool\"},{\"attributes\":{},\"id\":\"57369\",\"type\":\"UnionRenderers\"},{\"attributes\":{},\"id\":\"57334\",\"type\":\"CategoricalTickFormatter\"},{\"attributes\":{\"callback\":null,\"data\":{\"bi\":[0,0,4176,2080,0],\"geom\":[1758,1612,822056,912673,0],\"no-geo\":[736249,785326,7,3,874787],\"years\":[\"2012\",\"2013\",\"2014\",\"2015\",\"2016\"]},\"selected\":{\"id\":\"58389\",\"type\":\"Selection\"},\"selection_policy\":{\"id\":\"58390\",\"type\":\"UnionRenderers\"}},\"id\":\"57354\",\"type\":\"ColumnDataSource\"},{\"attributes\":{},\"id\":\"57307\",\"type\":\"SaveTool\"},{\"attributes\":{\"label\":{\"value\":\"bi\"},\"renderers\":[{\"id\":\"57358\",\"type\":\"GlyphRenderer\"}]},\"id\":\"57370\",\"type\":\"LegendItem\"},{\"attributes\":{\"items\":[{\"id\":\"57338\",\"type\":\"LegendItem\"},{\"id\":\"57353\",\"type\":\"LegendItem\"},{\"id\":\"57370\",\"type\":\"LegendItem\"}],\"location\":\"top_left\",\"orientation\":\"horizontal\",\"plot\":{\"id\":\"57285\",\"subtype\":\"Figure\",\"type\":\"Plot\"}},\"id\":\"57337\",\"type\":\"Legend\"},{\"attributes\":{\"source\":{\"id\":\"57325\",\"type\":\"ColumnDataSource\"}},\"id\":\"57330\",\"type\":\"CDSView\"},{\"attributes\":{},\"id\":\"57308\",\"type\":\"ResetTool\"},{\"attributes\":{},\"id\":\"58389\",\"type\":\"Selection\"},{\"attributes\":{},\"id\":\"57300\",\"type\":\"BasicTicker\"},{\"attributes\":{},\"id\":\"57291\",\"type\":\"CategoricalScale\"},{\"attributes\":{\"label\":{\"value\":\"geom\"},\"renderers\":[{\"id\":\"57329\",\"type\":\"GlyphRenderer\"}]},\"id\":\"57338\",\"type\":\"LegendItem\"},{\"attributes\":{},\"id\":\"57309\",\"type\":\"HelpTool\"},{\"attributes\":{},\"id\":\"58390\",\"type\":\"UnionRenderers\"},{\"attributes\":{},\"id\":\"57293\",\"type\":\"LinearScale\"},{\"attributes\":{\"callback\":null,\"data\":{\"bi\":[0,0,4176,2080,0],\"geom\":[1758,1612,822056,912673,0],\"no-geo\":[736249,785326,7,3,874787],\"years\":[\"2012\",\"2013\",\"2014\",\"2015\",\"2016\"]},\"selected\":{\"id\":\"57368\",\"type\":\"Selection\"},\"selection_policy\":{\"id\":\"57369\",\"type\":\"UnionRenderers\"}},\"id\":\"57339\",\"type\":\"ColumnDataSource\"},{\"attributes\":{\"active_drag\":\"auto\",\"active_inspect\":\"auto\",\"active_multi\":null,\"active_scroll\":\"auto\",\"active_tap\":\"auto\",\"tools\":[{\"id\":\"57304\",\"type\":\"PanTool\"},{\"id\":\"57305\",\"type\":\"WheelZoomTool\"},{\"id\":\"57306\",\"type\":\"BoxZoomTool\"},{\"id\":\"57307\",\"type\":\"SaveTool\"},{\"id\":\"57308\",\"type\":\"ResetTool\"},{\"id\":\"57309\",\"type\":\"HelpTool\"}]},\"id\":\"57310\",\"type\":\"Toolbar\"},{\"attributes\":{\"formatter\":{\"id\":\"57334\",\"type\":\"CategoricalTickFormatter\"},\"minor_tick_line_color\":{\"value\":null},\"plot\":{\"id\":\"57285\",\"subtype\":\"Figure\",\"type\":\"Plot\"},\"ticker\":{\"id\":\"57296\",\"type\":\"CategoricalTicker\"}},\"id\":\"57295\",\"type\":\"CategoricalAxis\"},{\"attributes\":{\"bottom_units\":\"screen\",\"fill_alpha\":{\"value\":0.5},\"fill_color\":{\"value\":\"lightgrey\"},\"left_units\":\"screen\",\"level\":\"overlay\",\"line_alpha\":{\"value\":1.0},\"line_color\":{\"value\":\"black\"},\"line_dash\":[4,4],\"line_width\":{\"value\":2},\"plot\":null,\"render_mode\":\"css\",\"right_units\":\"screen\",\"top_units\":\"screen\"},\"id\":\"57312\",\"type\":\"BoxAnnotation\"},{\"attributes\":{},\"id\":\"57296\",\"type\":\"CategoricalTicker\"},{\"attributes\":{\"bottom\":{\"expr\":{\"id\":\"57323\",\"type\":\"Stack\"}},\"fill_color\":{\"value\":\"#cccccc\"},\"line_color\":{\"value\":\"#cccccc\"},\"top\":{\"expr\":{\"id\":\"57324\",\"type\":\"Stack\"}},\"width\":{\"value\":0.9},\"x\":{\"field\":\"years\"}},\"id\":\"57356\",\"type\":\"VBar\"},{\"attributes\":{\"fields\":[\"geom\",\"no-geo\"]},\"id\":\"57322\",\"type\":\"Stack\"},{\"attributes\":{\"plot\":null,\"text\":\"NC\"},\"id\":\"57284\",\"type\":\"Title\"},{\"attributes\":{\"bottom\":{\"expr\":{\"id\":\"57321\",\"type\":\"Stack\"}},\"fill_color\":{\"value\":\"#e84d60\"},\"line_color\":{\"value\":\"#e84d60\"},\"top\":{\"expr\":{\"id\":\"57322\",\"type\":\"Stack\"}},\"width\":{\"value\":0.9},\"x\":{\"field\":\"years\"}},\"id\":\"57341\",\"type\":\"VBar\"},{\"attributes\":{\"fields\":[\"geom\",\"no-geo\"]},\"id\":\"57323\",\"type\":\"Stack\"},{\"attributes\":{\"formatter\":{\"id\":\"57332\",\"type\":\"BasicTickFormatter\"},\"minor_tick_line_color\":{\"value\":null},\"plot\":{\"id\":\"57285\",\"subtype\":\"Figure\",\"type\":\"Plot\"},\"ticker\":{\"id\":\"57300\",\"type\":\"BasicTicker\"}},\"id\":\"57299\",\"type\":\"LinearAxis\"},{\"attributes\":{\"bottom\":{\"expr\":{\"id\":\"57321\",\"type\":\"Stack\"}},\"fill_alpha\":{\"value\":0.1},\"fill_color\":{\"value\":\"#1f77b4\"},\"line_alpha\":{\"value\":0.1},\"line_color\":{\"value\":\"#1f77b4\"},\"top\":{\"expr\":{\"id\":\"57322\",\"type\":\"Stack\"}},\"width\":{\"value\":0.9},\"x\":{\"field\":\"years\"}},\"id\":\"57342\",\"type\":\"VBar\"},{\"attributes\":{\"fields\":[\"geom\"]},\"id\":\"57321\",\"type\":\"Stack\"},{\"attributes\":{\"fields\":[\"geom\",\"no-geo\",\"bi\"]},\"id\":\"57324\",\"type\":\"Stack\"},{\"attributes\":{\"data_source\":{\"id\":\"57339\",\"type\":\"ColumnDataSource\"},\"glyph\":{\"id\":\"57341\",\"type\":\"VBar\"},\"hover_glyph\":null,\"muted_glyph\":null,\"name\":\"no-geo\",\"nonselection_glyph\":{\"id\":\"57342\",\"type\":\"VBar\"},\"selection_glyph\":null,\"view\":{\"id\":\"57344\",\"type\":\"CDSView\"}},\"id\":\"57343\",\"type\":\"GlyphRenderer\"},{\"attributes\":{\"callback\":null,\"data\":{\"bi\":[0,0,4176,2080,0],\"geom\":[1758,1612,822056,912673,0],\"no-geo\":[736249,785326,7,3,874787],\"years\":[\"2012\",\"2013\",\"2014\",\"2015\",\"2016\"]},\"selected\":{\"id\":\"57351\",\"type\":\"Selection\"},\"selection_policy\":{\"id\":\"57352\",\"type\":\"UnionRenderers\"}},\"id\":\"57325\",\"type\":\"ColumnDataSource\"},{\"attributes\":{\"callback\":null,\"start\":0},\"id\":\"57289\",\"type\":\"DataRange1d\"},{\"attributes\":{\"source\":{\"id\":\"57339\",\"type\":\"ColumnDataSource\"}},\"id\":\"57344\",\"type\":\"CDSView\"},{\"attributes\":{\"fields\":[]},\"id\":\"57319\",\"type\":\"Stack\"},{\"attributes\":{\"callback\":null,\"factors\":[\"2012\",\"2013\",\"2014\",\"2015\",\"2016\"],\"range_padding\":0.1},\"id\":\"57287\",\"type\":\"FactorRange\"},{\"attributes\":{},\"id\":\"57352\",\"type\":\"UnionRenderers\"},{\"attributes\":{\"bottom\":{\"expr\":{\"id\":\"57323\",\"type\":\"Stack\"}},\"fill_alpha\":{\"value\":0.1},\"fill_color\":{\"value\":\"#1f77b4\"},\"line_alpha\":{\"value\":0.1},\"line_color\":{\"value\":\"#1f77b4\"},\"top\":{\"expr\":{\"id\":\"57324\",\"type\":\"Stack\"}},\"width\":{\"value\":0.9},\"x\":{\"field\":\"years\"}},\"id\":\"57357\",\"type\":\"VBar\"},{\"attributes\":{\"label\":{\"value\":\"no-geo\"},\"renderers\":[{\"id\":\"57343\",\"type\":\"GlyphRenderer\"}]},\"id\":\"57353\",\"type\":\"LegendItem\"},{\"attributes\":{\"bottom\":{\"expr\":{\"id\":\"57319\",\"type\":\"Stack\"}},\"fill_color\":{\"value\":\"#5CC9F5\"},\"line_color\":{\"value\":\"#5CC9F5\"},\"top\":{\"expr\":{\"id\":\"57320\",\"type\":\"Stack\"}},\"width\":{\"value\":0.9},\"x\":{\"field\":\"years\"}},\"id\":\"57327\",\"type\":\"VBar\"},{\"attributes\":{\"bottom\":{\"expr\":{\"id\":\"57319\",\"type\":\"Stack\"}},\"fill_alpha\":{\"value\":0.1},\"fill_color\":{\"value\":\"#1f77b4\"},\"line_alpha\":{\"value\":0.1},\"line_color\":{\"value\":\"#1f77b4\"},\"top\":{\"expr\":{\"id\":\"57320\",\"type\":\"Stack\"}},\"width\":{\"value\":0.9},\"x\":{\"field\":\"years\"}},\"id\":\"57328\",\"type\":\"VBar\"},{\"attributes\":{\"data_source\":{\"id\":\"57325\",\"type\":\"ColumnDataSource\"},\"glyph\":{\"id\":\"57327\",\"type\":\"VBar\"},\"hover_glyph\":null,\"muted_glyph\":null,\"name\":\"geom\",\"nonselection_glyph\":{\"id\":\"57328\",\"type\":\"VBar\"},\"selection_glyph\":null,\"view\":{\"id\":\"57330\",\"type\":\"CDSView\"}},\"id\":\"57329\",\"type\":\"GlyphRenderer\"},{\"attributes\":{\"data_source\":{\"id\":\"57354\",\"type\":\"ColumnDataSource\"},\"glyph\":{\"id\":\"57356\",\"type\":\"VBar\"},\"hover_glyph\":null,\"muted_glyph\":null,\"name\":\"bi\",\"nonselection_glyph\":{\"id\":\"57357\",\"type\":\"VBar\"},\"selection_glyph\":null,\"view\":{\"id\":\"57359\",\"type\":\"CDSView\"}},\"id\":\"57358\",\"type\":\"GlyphRenderer\"},{\"attributes\":{\"grid_line_color\":{\"value\":null},\"plot\":{\"id\":\"57285\",\"subtype\":\"Figure\",\"type\":\"Plot\"},\"ticker\":{\"id\":\"57296\",\"type\":\"CategoricalTicker\"}},\"id\":\"57298\",\"type\":\"Grid\"},{\"attributes\":{\"dimension\":1,\"plot\":{\"id\":\"57285\",\"subtype\":\"Figure\",\"type\":\"Plot\"},\"ticker\":{\"id\":\"57300\",\"type\":\"BasicTicker\"}},\"id\":\"57303\",\"type\":\"Grid\"}],\"root_ids\":[\"57285\"]},\"title\":\"Bokeh Application\",\"version\":\"1.0.0\"}};\n",
       "  var render_items = [{\"docid\":\"ecadd4a9-8013-4587-8198-f123cbd92787\",\"roots\":{\"57285\":\"04efb552-a5ad-429d-83de-c6ae5d7e7c34\"}}];\n",
       "  root.Bokeh.embed.embed_items_notebook(docs_json, render_items);\n",
       "\n",
       "  }\n",
       "  if (root.Bokeh !== undefined) {\n",
       "    embed_document(root);\n",
       "  } else {\n",
       "    var attempts = 0;\n",
       "    var timer = setInterval(function(root) {\n",
       "      if (root.Bokeh !== undefined) {\n",
       "        embed_document(root);\n",
       "        clearInterval(timer);\n",
       "      }\n",
       "      attempts++;\n",
       "      if (attempts > 100) {\n",
       "        console.log(\"Bokeh: ERROR: Unable to run BokehJS code because BokehJS library is missing\");\n",
       "        clearInterval(timer);\n",
       "      }\n",
       "    }, 10, root)\n",
       "  }\n",
       "})(window);"
      ],
      "application/vnd.bokehjs_exec.v0+json": ""
     },
     "metadata": {
      "application/vnd.bokehjs_exec.v0+json": {
       "id": "57285"
      }
     },
     "output_type": "display_data"
    },
    {
     "data": {
      "text/html": [
       "\n",
       "\n",
       "\n",
       "\n",
       "\n",
       "\n",
       "  <div class=\"bk-root\" id=\"eddcfe0f-5f3a-40e5-943f-ac0b9d2d3285\"></div>\n"
      ]
     },
     "metadata": {},
     "output_type": "display_data"
    },
    {
     "data": {
      "application/javascript": [
       "(function(root) {\n",
       "  function embed_document(root) {\n",
       "    \n",
       "  var docs_json = {\"fb356969-a99d-4f15-b549-111240ac122c\":{\"roots\":{\"references\":[{\"attributes\":{\"below\":[{\"id\":\"58474\",\"type\":\"CategoricalAxis\"}],\"left\":[{\"id\":\"58478\",\"type\":\"LinearAxis\"}],\"outline_line_color\":{\"value\":null},\"plot_height\":250,\"renderers\":[{\"id\":\"58474\",\"type\":\"CategoricalAxis\"},{\"id\":\"58477\",\"type\":\"Grid\"},{\"id\":\"58478\",\"type\":\"LinearAxis\"},{\"id\":\"58482\",\"type\":\"Grid\"},{\"id\":\"58491\",\"type\":\"BoxAnnotation\"},{\"id\":\"58516\",\"type\":\"Legend\"},{\"id\":\"58508\",\"type\":\"GlyphRenderer\"},{\"id\":\"58522\",\"type\":\"GlyphRenderer\"},{\"id\":\"58537\",\"type\":\"GlyphRenderer\"}],\"title\":{\"id\":\"58463\",\"type\":\"Title\"},\"toolbar\":{\"id\":\"58489\",\"type\":\"Toolbar\"},\"toolbar_location\":null,\"x_range\":{\"id\":\"58466\",\"type\":\"FactorRange\"},\"x_scale\":{\"id\":\"58470\",\"type\":\"CategoricalScale\"},\"y_range\":{\"id\":\"58468\",\"type\":\"DataRange1d\"},\"y_scale\":{\"id\":\"58472\",\"type\":\"LinearScale\"}},\"id\":\"58464\",\"subtype\":\"Figure\",\"type\":\"Plot\"},{\"attributes\":{},\"id\":\"58531\",\"type\":\"UnionRenderers\"},{\"attributes\":{\"grid_line_color\":{\"value\":null},\"plot\":{\"id\":\"58464\",\"subtype\":\"Figure\",\"type\":\"Plot\"},\"ticker\":{\"id\":\"58475\",\"type\":\"CategoricalTicker\"}},\"id\":\"58477\",\"type\":\"Grid\"},{\"attributes\":{\"bottom_units\":\"screen\",\"fill_alpha\":{\"value\":0.5},\"fill_color\":{\"value\":\"lightgrey\"},\"left_units\":\"screen\",\"level\":\"overlay\",\"line_alpha\":{\"value\":1.0},\"line_color\":{\"value\":\"black\"},\"line_dash\":[4,4],\"line_width\":{\"value\":2},\"plot\":null,\"render_mode\":\"css\",\"right_units\":\"screen\",\"top_units\":\"screen\"},\"id\":\"58491\",\"type\":\"BoxAnnotation\"},{\"attributes\":{\"fields\":[\"geom\",\"no-geo\"]},\"id\":\"58502\",\"type\":\"Stack\"},{\"attributes\":{\"label\":{\"value\":\"no-geo\"},\"renderers\":[{\"id\":\"58522\",\"type\":\"GlyphRenderer\"}]},\"id\":\"58532\",\"type\":\"LegendItem\"},{\"attributes\":{\"callback\":null,\"factors\":[\"2012\",\"2013\",\"2014\",\"2015\",\"2016\"],\"range_padding\":0.1},\"id\":\"58466\",\"type\":\"FactorRange\"},{\"attributes\":{\"fields\":[\"geom\",\"no-geo\",\"bi\"]},\"id\":\"58503\",\"type\":\"Stack\"},{\"attributes\":{\"callback\":null,\"data\":{\"bi\":[0,0,0,0,0],\"geom\":[11821,11574,22051,29016,0],\"no-geo\":[10545,10676,0,0,31347],\"years\":[\"2012\",\"2013\",\"2014\",\"2015\",\"2016\"]},\"selected\":{\"id\":\"59580\",\"type\":\"Selection\"},\"selection_policy\":{\"id\":\"59581\",\"type\":\"UnionRenderers\"}},\"id\":\"58533\",\"type\":\"ColumnDataSource\"},{\"attributes\":{},\"id\":\"58530\",\"type\":\"Selection\"},{\"attributes\":{\"callback\":null,\"data\":{\"bi\":[0,0,0,0,0],\"geom\":[11821,11574,22051,29016,0],\"no-geo\":[10545,10676,0,0,31347],\"years\":[\"2012\",\"2013\",\"2014\",\"2015\",\"2016\"]},\"selected\":{\"id\":\"58530\",\"type\":\"Selection\"},\"selection_policy\":{\"id\":\"58531\",\"type\":\"UnionRenderers\"}},\"id\":\"58504\",\"type\":\"ColumnDataSource\"},{\"attributes\":{\"plot\":null,\"text\":\"ND\"},\"id\":\"58463\",\"type\":\"Title\"},{\"attributes\":{\"bottom\":{\"expr\":{\"id\":\"58502\",\"type\":\"Stack\"}},\"fill_color\":{\"value\":\"#cccccc\"},\"line_color\":{\"value\":\"#cccccc\"},\"top\":{\"expr\":{\"id\":\"58503\",\"type\":\"Stack\"}},\"width\":{\"value\":0.9},\"x\":{\"field\":\"years\"}},\"id\":\"58535\",\"type\":\"VBar\"},{\"attributes\":{\"bottom\":{\"expr\":{\"id\":\"58498\",\"type\":\"Stack\"}},\"fill_color\":{\"value\":\"#5CC9F5\"},\"line_color\":{\"value\":\"#5CC9F5\"},\"top\":{\"expr\":{\"id\":\"58499\",\"type\":\"Stack\"}},\"width\":{\"value\":0.9},\"x\":{\"field\":\"years\"}},\"id\":\"58506\",\"type\":\"VBar\"},{\"attributes\":{\"fields\":[\"geom\",\"no-geo\"]},\"id\":\"58501\",\"type\":\"Stack\"},{\"attributes\":{\"bottom\":{\"expr\":{\"id\":\"58502\",\"type\":\"Stack\"}},\"fill_alpha\":{\"value\":0.1},\"fill_color\":{\"value\":\"#1f77b4\"},\"line_alpha\":{\"value\":0.1},\"line_color\":{\"value\":\"#1f77b4\"},\"top\":{\"expr\":{\"id\":\"58503\",\"type\":\"Stack\"}},\"width\":{\"value\":0.9},\"x\":{\"field\":\"years\"}},\"id\":\"58536\",\"type\":\"VBar\"},{\"attributes\":{\"bottom\":{\"expr\":{\"id\":\"58498\",\"type\":\"Stack\"}},\"fill_alpha\":{\"value\":0.1},\"fill_color\":{\"value\":\"#1f77b4\"},\"line_alpha\":{\"value\":0.1},\"line_color\":{\"value\":\"#1f77b4\"},\"top\":{\"expr\":{\"id\":\"58499\",\"type\":\"Stack\"}},\"width\":{\"value\":0.9},\"x\":{\"field\":\"years\"}},\"id\":\"58507\",\"type\":\"VBar\"},{\"attributes\":{\"data_source\":{\"id\":\"58533\",\"type\":\"ColumnDataSource\"},\"glyph\":{\"id\":\"58535\",\"type\":\"VBar\"},\"hover_glyph\":null,\"muted_glyph\":null,\"name\":\"bi\",\"nonselection_glyph\":{\"id\":\"58536\",\"type\":\"VBar\"},\"selection_glyph\":null,\"view\":{\"id\":\"58538\",\"type\":\"CDSView\"}},\"id\":\"58537\",\"type\":\"GlyphRenderer\"},{\"attributes\":{\"data_source\":{\"id\":\"58504\",\"type\":\"ColumnDataSource\"},\"glyph\":{\"id\":\"58506\",\"type\":\"VBar\"},\"hover_glyph\":null,\"muted_glyph\":null,\"name\":\"geom\",\"nonselection_glyph\":{\"id\":\"58507\",\"type\":\"VBar\"},\"selection_glyph\":null,\"view\":{\"id\":\"58509\",\"type\":\"CDSView\"}},\"id\":\"58508\",\"type\":\"GlyphRenderer\"},{\"attributes\":{\"label\":{\"value\":\"geom\"},\"renderers\":[{\"id\":\"58508\",\"type\":\"GlyphRenderer\"}]},\"id\":\"58517\",\"type\":\"LegendItem\"},{\"attributes\":{\"source\":{\"id\":\"58533\",\"type\":\"ColumnDataSource\"}},\"id\":\"58538\",\"type\":\"CDSView\"},{\"attributes\":{\"active_drag\":\"auto\",\"active_inspect\":\"auto\",\"active_multi\":null,\"active_scroll\":\"auto\",\"active_tap\":\"auto\",\"tools\":[{\"id\":\"58483\",\"type\":\"PanTool\"},{\"id\":\"58484\",\"type\":\"WheelZoomTool\"},{\"id\":\"58485\",\"type\":\"BoxZoomTool\"},{\"id\":\"58486\",\"type\":\"SaveTool\"},{\"id\":\"58487\",\"type\":\"ResetTool\"},{\"id\":\"58488\",\"type\":\"HelpTool\"}]},\"id\":\"58489\",\"type\":\"Toolbar\"},{\"attributes\":{\"source\":{\"id\":\"58504\",\"type\":\"ColumnDataSource\"}},\"id\":\"58509\",\"type\":\"CDSView\"},{\"attributes\":{},\"id\":\"58547\",\"type\":\"Selection\"},{\"attributes\":{},\"id\":\"58511\",\"type\":\"BasicTickFormatter\"},{\"attributes\":{\"fields\":[\"geom\"]},\"id\":\"58500\",\"type\":\"Stack\"},{\"attributes\":{},\"id\":\"58548\",\"type\":\"UnionRenderers\"},{\"attributes\":{},\"id\":\"58513\",\"type\":\"CategoricalTickFormatter\"},{\"attributes\":{\"items\":[{\"id\":\"58517\",\"type\":\"LegendItem\"},{\"id\":\"58532\",\"type\":\"LegendItem\"},{\"id\":\"58549\",\"type\":\"LegendItem\"}],\"location\":\"top_left\",\"orientation\":\"horizontal\",\"plot\":{\"id\":\"58464\",\"subtype\":\"Figure\",\"type\":\"Plot\"}},\"id\":\"58516\",\"type\":\"Legend\"},{\"attributes\":{},\"id\":\"59580\",\"type\":\"Selection\"},{\"attributes\":{\"label\":{\"value\":\"bi\"},\"renderers\":[{\"id\":\"58537\",\"type\":\"GlyphRenderer\"}]},\"id\":\"58549\",\"type\":\"LegendItem\"},{\"attributes\":{\"formatter\":{\"id\":\"58511\",\"type\":\"BasicTickFormatter\"},\"minor_tick_line_color\":{\"value\":null},\"plot\":{\"id\":\"58464\",\"subtype\":\"Figure\",\"type\":\"Plot\"},\"ticker\":{\"id\":\"58479\",\"type\":\"BasicTicker\"}},\"id\":\"58478\",\"type\":\"LinearAxis\"},{\"attributes\":{\"dimension\":1,\"plot\":{\"id\":\"58464\",\"subtype\":\"Figure\",\"type\":\"Plot\"},\"ticker\":{\"id\":\"58479\",\"type\":\"BasicTicker\"}},\"id\":\"58482\",\"type\":\"Grid\"},{\"attributes\":{},\"id\":\"58479\",\"type\":\"BasicTicker\"},{\"attributes\":{},\"id\":\"59581\",\"type\":\"UnionRenderers\"},{\"attributes\":{},\"id\":\"58488\",\"type\":\"HelpTool\"},{\"attributes\":{},\"id\":\"58470\",\"type\":\"CategoricalScale\"},{\"attributes\":{\"fields\":[\"geom\"]},\"id\":\"58499\",\"type\":\"Stack\"},{\"attributes\":{\"bottom\":{\"expr\":{\"id\":\"58500\",\"type\":\"Stack\"}},\"fill_color\":{\"value\":\"#e84d60\"},\"line_color\":{\"value\":\"#e84d60\"},\"top\":{\"expr\":{\"id\":\"58501\",\"type\":\"Stack\"}},\"width\":{\"value\":0.9},\"x\":{\"field\":\"years\"}},\"id\":\"58520\",\"type\":\"VBar\"},{\"attributes\":{},\"id\":\"58483\",\"type\":\"PanTool\"},{\"attributes\":{\"callback\":null,\"start\":0},\"id\":\"58468\",\"type\":\"DataRange1d\"},{\"attributes\":{\"bottom\":{\"expr\":{\"id\":\"58500\",\"type\":\"Stack\"}},\"fill_alpha\":{\"value\":0.1},\"fill_color\":{\"value\":\"#1f77b4\"},\"line_alpha\":{\"value\":0.1},\"line_color\":{\"value\":\"#1f77b4\"},\"top\":{\"expr\":{\"id\":\"58501\",\"type\":\"Stack\"}},\"width\":{\"value\":0.9},\"x\":{\"field\":\"years\"}},\"id\":\"58521\",\"type\":\"VBar\"},{\"attributes\":{},\"id\":\"58484\",\"type\":\"WheelZoomTool\"},{\"attributes\":{\"fields\":[]},\"id\":\"58498\",\"type\":\"Stack\"},{\"attributes\":{},\"id\":\"58486\",\"type\":\"SaveTool\"},{\"attributes\":{},\"id\":\"58472\",\"type\":\"LinearScale\"},{\"attributes\":{\"data_source\":{\"id\":\"58518\",\"type\":\"ColumnDataSource\"},\"glyph\":{\"id\":\"58520\",\"type\":\"VBar\"},\"hover_glyph\":null,\"muted_glyph\":null,\"name\":\"no-geo\",\"nonselection_glyph\":{\"id\":\"58521\",\"type\":\"VBar\"},\"selection_glyph\":null,\"view\":{\"id\":\"58523\",\"type\":\"CDSView\"}},\"id\":\"58522\",\"type\":\"GlyphRenderer\"},{\"attributes\":{\"overlay\":{\"id\":\"58491\",\"type\":\"BoxAnnotation\"}},\"id\":\"58485\",\"type\":\"BoxZoomTool\"},{\"attributes\":{\"callback\":null,\"data\":{\"bi\":[0,0,0,0,0],\"geom\":[11821,11574,22051,29016,0],\"no-geo\":[10545,10676,0,0,31347],\"years\":[\"2012\",\"2013\",\"2014\",\"2015\",\"2016\"]},\"selected\":{\"id\":\"58547\",\"type\":\"Selection\"},\"selection_policy\":{\"id\":\"58548\",\"type\":\"UnionRenderers\"}},\"id\":\"58518\",\"type\":\"ColumnDataSource\"},{\"attributes\":{\"source\":{\"id\":\"58518\",\"type\":\"ColumnDataSource\"}},\"id\":\"58523\",\"type\":\"CDSView\"},{\"attributes\":{\"formatter\":{\"id\":\"58513\",\"type\":\"CategoricalTickFormatter\"},\"minor_tick_line_color\":{\"value\":null},\"plot\":{\"id\":\"58464\",\"subtype\":\"Figure\",\"type\":\"Plot\"},\"ticker\":{\"id\":\"58475\",\"type\":\"CategoricalTicker\"}},\"id\":\"58474\",\"type\":\"CategoricalAxis\"},{\"attributes\":{},\"id\":\"58487\",\"type\":\"ResetTool\"},{\"attributes\":{},\"id\":\"58475\",\"type\":\"CategoricalTicker\"}],\"root_ids\":[\"58464\"]},\"title\":\"Bokeh Application\",\"version\":\"1.0.0\"}};\n",
       "  var render_items = [{\"docid\":\"fb356969-a99d-4f15-b549-111240ac122c\",\"roots\":{\"58464\":\"eddcfe0f-5f3a-40e5-943f-ac0b9d2d3285\"}}];\n",
       "  root.Bokeh.embed.embed_items_notebook(docs_json, render_items);\n",
       "\n",
       "  }\n",
       "  if (root.Bokeh !== undefined) {\n",
       "    embed_document(root);\n",
       "  } else {\n",
       "    var attempts = 0;\n",
       "    var timer = setInterval(function(root) {\n",
       "      if (root.Bokeh !== undefined) {\n",
       "        embed_document(root);\n",
       "        clearInterval(timer);\n",
       "      }\n",
       "      attempts++;\n",
       "      if (attempts > 100) {\n",
       "        console.log(\"Bokeh: ERROR: Unable to run BokehJS code because BokehJS library is missing\");\n",
       "        clearInterval(timer);\n",
       "      }\n",
       "    }, 10, root)\n",
       "  }\n",
       "})(window);"
      ],
      "application/vnd.bokehjs_exec.v0+json": ""
     },
     "metadata": {
      "application/vnd.bokehjs_exec.v0+json": {
       "id": "58464"
      }
     },
     "output_type": "display_data"
    },
    {
     "data": {
      "text/html": [
       "\n",
       "\n",
       "\n",
       "\n",
       "\n",
       "\n",
       "  <div class=\"bk-root\" id=\"74fd8d63-84c9-4ebf-8c0c-eec46e468dcd\"></div>\n"
      ]
     },
     "metadata": {},
     "output_type": "display_data"
    },
    {
     "data": {
      "application/javascript": [
       "(function(root) {\n",
       "  function embed_document(root) {\n",
       "    \n",
       "  var docs_json = {\"8365107d-9401-4468-8da6-41ceabd165d7\":{\"roots\":{\"references\":[{\"attributes\":{\"below\":[{\"id\":\"59665\",\"type\":\"CategoricalAxis\"}],\"left\":[{\"id\":\"59669\",\"type\":\"LinearAxis\"}],\"outline_line_color\":{\"value\":null},\"plot_height\":250,\"renderers\":[{\"id\":\"59665\",\"type\":\"CategoricalAxis\"},{\"id\":\"59668\",\"type\":\"Grid\"},{\"id\":\"59669\",\"type\":\"LinearAxis\"},{\"id\":\"59673\",\"type\":\"Grid\"},{\"id\":\"59682\",\"type\":\"BoxAnnotation\"},{\"id\":\"59707\",\"type\":\"Legend\"},{\"id\":\"59699\",\"type\":\"GlyphRenderer\"},{\"id\":\"59713\",\"type\":\"GlyphRenderer\"},{\"id\":\"59728\",\"type\":\"GlyphRenderer\"}],\"title\":{\"id\":\"59654\",\"type\":\"Title\"},\"toolbar\":{\"id\":\"59680\",\"type\":\"Toolbar\"},\"toolbar_location\":null,\"x_range\":{\"id\":\"59657\",\"type\":\"FactorRange\"},\"x_scale\":{\"id\":\"59661\",\"type\":\"CategoricalScale\"},\"y_range\":{\"id\":\"59659\",\"type\":\"DataRange1d\"},\"y_scale\":{\"id\":\"59663\",\"type\":\"LinearScale\"}},\"id\":\"59655\",\"subtype\":\"Figure\",\"type\":\"Plot\"},{\"attributes\":{\"callback\":null,\"data\":{\"bi\":[0,0,24,0,0],\"geom\":[792005,781691,932094,1031095,0],\"no-geo\":[60911,58198,1,3,1014728],\"years\":[\"2012\",\"2013\",\"2014\",\"2015\",\"2016\"]},\"selected\":{\"id\":\"59738\",\"type\":\"Selection\"},\"selection_policy\":{\"id\":\"59739\",\"type\":\"UnionRenderers\"}},\"id\":\"59709\",\"type\":\"ColumnDataSource\"},{\"attributes\":{},\"id\":\"59679\",\"type\":\"HelpTool\"},{\"attributes\":{\"callback\":null,\"factors\":[\"2012\",\"2013\",\"2014\",\"2015\",\"2016\"],\"range_padding\":0.1},\"id\":\"59657\",\"type\":\"FactorRange\"},{\"attributes\":{\"active_drag\":\"auto\",\"active_inspect\":\"auto\",\"active_multi\":null,\"active_scroll\":\"auto\",\"active_tap\":\"auto\",\"tools\":[{\"id\":\"59674\",\"type\":\"PanTool\"},{\"id\":\"59675\",\"type\":\"WheelZoomTool\"},{\"id\":\"59676\",\"type\":\"BoxZoomTool\"},{\"id\":\"59677\",\"type\":\"SaveTool\"},{\"id\":\"59678\",\"type\":\"ResetTool\"},{\"id\":\"59679\",\"type\":\"HelpTool\"}]},\"id\":\"59680\",\"type\":\"Toolbar\"},{\"attributes\":{\"callback\":null,\"start\":0},\"id\":\"59659\",\"type\":\"DataRange1d\"},{\"attributes\":{\"bottom\":{\"expr\":{\"id\":\"59693\",\"type\":\"Stack\"}},\"fill_alpha\":{\"value\":0.1},\"fill_color\":{\"value\":\"#1f77b4\"},\"line_alpha\":{\"value\":0.1},\"line_color\":{\"value\":\"#1f77b4\"},\"top\":{\"expr\":{\"id\":\"59694\",\"type\":\"Stack\"}},\"width\":{\"value\":0.9},\"x\":{\"field\":\"years\"}},\"id\":\"59727\",\"type\":\"VBar\"},{\"attributes\":{\"bottom_units\":\"screen\",\"fill_alpha\":{\"value\":0.5},\"fill_color\":{\"value\":\"lightgrey\"},\"left_units\":\"screen\",\"level\":\"overlay\",\"line_alpha\":{\"value\":1.0},\"line_color\":{\"value\":\"black\"},\"line_dash\":[4,4],\"line_width\":{\"value\":2},\"plot\":null,\"render_mode\":\"css\",\"right_units\":\"screen\",\"top_units\":\"screen\"},\"id\":\"59682\",\"type\":\"BoxAnnotation\"},{\"attributes\":{},\"id\":\"59661\",\"type\":\"CategoricalScale\"},{\"attributes\":{\"bottom\":{\"expr\":{\"id\":\"59691\",\"type\":\"Stack\"}},\"fill_color\":{\"value\":\"#e84d60\"},\"line_color\":{\"value\":\"#e84d60\"},\"top\":{\"expr\":{\"id\":\"59692\",\"type\":\"Stack\"}},\"width\":{\"value\":0.9},\"x\":{\"field\":\"years\"}},\"id\":\"59711\",\"type\":\"VBar\"},{\"attributes\":{},\"id\":\"59663\",\"type\":\"LinearScale\"},{\"attributes\":{\"bottom\":{\"expr\":{\"id\":\"59691\",\"type\":\"Stack\"}},\"fill_alpha\":{\"value\":0.1},\"fill_color\":{\"value\":\"#1f77b4\"},\"line_alpha\":{\"value\":0.1},\"line_color\":{\"value\":\"#1f77b4\"},\"top\":{\"expr\":{\"id\":\"59692\",\"type\":\"Stack\"}},\"width\":{\"value\":0.9},\"x\":{\"field\":\"years\"}},\"id\":\"59712\",\"type\":\"VBar\"},{\"attributes\":{\"fields\":[\"geom\",\"no-geo\"]},\"id\":\"59693\",\"type\":\"Stack\"},{\"attributes\":{\"formatter\":{\"id\":\"59704\",\"type\":\"CategoricalTickFormatter\"},\"minor_tick_line_color\":{\"value\":null},\"plot\":{\"id\":\"59655\",\"subtype\":\"Figure\",\"type\":\"Plot\"},\"ticker\":{\"id\":\"59666\",\"type\":\"CategoricalTicker\"}},\"id\":\"59665\",\"type\":\"CategoricalAxis\"},{\"attributes\":{\"data_source\":{\"id\":\"59709\",\"type\":\"ColumnDataSource\"},\"glyph\":{\"id\":\"59711\",\"type\":\"VBar\"},\"hover_glyph\":null,\"muted_glyph\":null,\"name\":\"no-geo\",\"nonselection_glyph\":{\"id\":\"59712\",\"type\":\"VBar\"},\"selection_glyph\":null,\"view\":{\"id\":\"59714\",\"type\":\"CDSView\"}},\"id\":\"59713\",\"type\":\"GlyphRenderer\"},{\"attributes\":{\"fields\":[\"geom\",\"no-geo\",\"bi\"]},\"id\":\"59694\",\"type\":\"Stack\"},{\"attributes\":{},\"id\":\"59666\",\"type\":\"CategoricalTicker\"},{\"attributes\":{\"source\":{\"id\":\"59709\",\"type\":\"ColumnDataSource\"}},\"id\":\"59714\",\"type\":\"CDSView\"},{\"attributes\":{\"callback\":null,\"data\":{\"bi\":[0,0,24,0,0],\"geom\":[792005,781691,932094,1031095,0],\"no-geo\":[60911,58198,1,3,1014728],\"years\":[\"2012\",\"2013\",\"2014\",\"2015\",\"2016\"]},\"selected\":{\"id\":\"59721\",\"type\":\"Selection\"},\"selection_policy\":{\"id\":\"59722\",\"type\":\"UnionRenderers\"}},\"id\":\"59695\",\"type\":\"ColumnDataSource\"},{\"attributes\":{\"grid_line_color\":{\"value\":null},\"plot\":{\"id\":\"59655\",\"subtype\":\"Figure\",\"type\":\"Plot\"},\"ticker\":{\"id\":\"59666\",\"type\":\"CategoricalTicker\"}},\"id\":\"59668\",\"type\":\"Grid\"},{\"attributes\":{\"callback\":null,\"data\":{\"bi\":[0,0,24,0,0],\"geom\":[792005,781691,932094,1031095,0],\"no-geo\":[60911,58198,1,3,1014728],\"years\":[\"2012\",\"2013\",\"2014\",\"2015\",\"2016\"]},\"selected\":{\"id\":\"60783\",\"type\":\"Selection\"},\"selection_policy\":{\"id\":\"60784\",\"type\":\"UnionRenderers\"}},\"id\":\"59724\",\"type\":\"ColumnDataSource\"},{\"attributes\":{},\"id\":\"59722\",\"type\":\"UnionRenderers\"},{\"attributes\":{\"formatter\":{\"id\":\"59702\",\"type\":\"BasicTickFormatter\"},\"minor_tick_line_color\":{\"value\":null},\"plot\":{\"id\":\"59655\",\"subtype\":\"Figure\",\"type\":\"Plot\"},\"ticker\":{\"id\":\"59670\",\"type\":\"BasicTicker\"}},\"id\":\"59669\",\"type\":\"LinearAxis\"},{\"attributes\":{\"bottom\":{\"expr\":{\"id\":\"59689\",\"type\":\"Stack\"}},\"fill_color\":{\"value\":\"#5CC9F5\"},\"line_color\":{\"value\":\"#5CC9F5\"},\"top\":{\"expr\":{\"id\":\"59690\",\"type\":\"Stack\"}},\"width\":{\"value\":0.9},\"x\":{\"field\":\"years\"}},\"id\":\"59697\",\"type\":\"VBar\"},{\"attributes\":{\"label\":{\"value\":\"no-geo\"},\"renderers\":[{\"id\":\"59713\",\"type\":\"GlyphRenderer\"}]},\"id\":\"59723\",\"type\":\"LegendItem\"},{\"attributes\":{},\"id\":\"59670\",\"type\":\"BasicTicker\"},{\"attributes\":{\"bottom\":{\"expr\":{\"id\":\"59689\",\"type\":\"Stack\"}},\"fill_alpha\":{\"value\":0.1},\"fill_color\":{\"value\":\"#1f77b4\"},\"line_alpha\":{\"value\":0.1},\"line_color\":{\"value\":\"#1f77b4\"},\"top\":{\"expr\":{\"id\":\"59690\",\"type\":\"Stack\"}},\"width\":{\"value\":0.9},\"x\":{\"field\":\"years\"}},\"id\":\"59698\",\"type\":\"VBar\"},{\"attributes\":{\"dimension\":1,\"plot\":{\"id\":\"59655\",\"subtype\":\"Figure\",\"type\":\"Plot\"},\"ticker\":{\"id\":\"59670\",\"type\":\"BasicTicker\"}},\"id\":\"59673\",\"type\":\"Grid\"},{\"attributes\":{\"bottom\":{\"expr\":{\"id\":\"59693\",\"type\":\"Stack\"}},\"fill_color\":{\"value\":\"#cccccc\"},\"line_color\":{\"value\":\"#cccccc\"},\"top\":{\"expr\":{\"id\":\"59694\",\"type\":\"Stack\"}},\"width\":{\"value\":0.9},\"x\":{\"field\":\"years\"}},\"id\":\"59726\",\"type\":\"VBar\"},{\"attributes\":{\"data_source\":{\"id\":\"59695\",\"type\":\"ColumnDataSource\"},\"glyph\":{\"id\":\"59697\",\"type\":\"VBar\"},\"hover_glyph\":null,\"muted_glyph\":null,\"name\":\"geom\",\"nonselection_glyph\":{\"id\":\"59698\",\"type\":\"VBar\"},\"selection_glyph\":null,\"view\":{\"id\":\"59700\",\"type\":\"CDSView\"}},\"id\":\"59699\",\"type\":\"GlyphRenderer\"},{\"attributes\":{\"data_source\":{\"id\":\"59724\",\"type\":\"ColumnDataSource\"},\"glyph\":{\"id\":\"59726\",\"type\":\"VBar\"},\"hover_glyph\":null,\"muted_glyph\":null,\"name\":\"bi\",\"nonselection_glyph\":{\"id\":\"59727\",\"type\":\"VBar\"},\"selection_glyph\":null,\"view\":{\"id\":\"59729\",\"type\":\"CDSView\"}},\"id\":\"59728\",\"type\":\"GlyphRenderer\"},{\"attributes\":{\"fields\":[\"geom\"]},\"id\":\"59691\",\"type\":\"Stack\"},{\"attributes\":{\"source\":{\"id\":\"59695\",\"type\":\"ColumnDataSource\"}},\"id\":\"59700\",\"type\":\"CDSView\"},{\"attributes\":{\"source\":{\"id\":\"59724\",\"type\":\"ColumnDataSource\"}},\"id\":\"59729\",\"type\":\"CDSView\"},{\"attributes\":{\"fields\":[\"geom\"]},\"id\":\"59690\",\"type\":\"Stack\"},{\"attributes\":{},\"id\":\"59702\",\"type\":\"BasicTickFormatter\"},{\"attributes\":{\"plot\":null,\"text\":\"OH\"},\"id\":\"59654\",\"type\":\"Title\"},{\"attributes\":{\"fields\":[\"geom\",\"no-geo\"]},\"id\":\"59692\",\"type\":\"Stack\"},{\"attributes\":{},\"id\":\"59738\",\"type\":\"Selection\"},{\"attributes\":{},\"id\":\"59704\",\"type\":\"CategoricalTickFormatter\"},{\"attributes\":{\"fields\":[]},\"id\":\"59689\",\"type\":\"Stack\"},{\"attributes\":{},\"id\":\"59674\",\"type\":\"PanTool\"},{\"attributes\":{},\"id\":\"59739\",\"type\":\"UnionRenderers\"},{\"attributes\":{},\"id\":\"59721\",\"type\":\"Selection\"},{\"attributes\":{},\"id\":\"59675\",\"type\":\"WheelZoomTool\"},{\"attributes\":{\"label\":{\"value\":\"bi\"},\"renderers\":[{\"id\":\"59728\",\"type\":\"GlyphRenderer\"}]},\"id\":\"59740\",\"type\":\"LegendItem\"},{\"attributes\":{\"overlay\":{\"id\":\"59682\",\"type\":\"BoxAnnotation\"}},\"id\":\"59676\",\"type\":\"BoxZoomTool\"},{\"attributes\":{\"items\":[{\"id\":\"59708\",\"type\":\"LegendItem\"},{\"id\":\"59723\",\"type\":\"LegendItem\"},{\"id\":\"59740\",\"type\":\"LegendItem\"}],\"location\":\"top_left\",\"orientation\":\"horizontal\",\"plot\":{\"id\":\"59655\",\"subtype\":\"Figure\",\"type\":\"Plot\"}},\"id\":\"59707\",\"type\":\"Legend\"},{\"attributes\":{},\"id\":\"60783\",\"type\":\"Selection\"},{\"attributes\":{},\"id\":\"59677\",\"type\":\"SaveTool\"},{\"attributes\":{\"label\":{\"value\":\"geom\"},\"renderers\":[{\"id\":\"59699\",\"type\":\"GlyphRenderer\"}]},\"id\":\"59708\",\"type\":\"LegendItem\"},{\"attributes\":{},\"id\":\"60784\",\"type\":\"UnionRenderers\"},{\"attributes\":{},\"id\":\"59678\",\"type\":\"ResetTool\"}],\"root_ids\":[\"59655\"]},\"title\":\"Bokeh Application\",\"version\":\"1.0.0\"}};\n",
       "  var render_items = [{\"docid\":\"8365107d-9401-4468-8da6-41ceabd165d7\",\"roots\":{\"59655\":\"74fd8d63-84c9-4ebf-8c0c-eec46e468dcd\"}}];\n",
       "  root.Bokeh.embed.embed_items_notebook(docs_json, render_items);\n",
       "\n",
       "  }\n",
       "  if (root.Bokeh !== undefined) {\n",
       "    embed_document(root);\n",
       "  } else {\n",
       "    var attempts = 0;\n",
       "    var timer = setInterval(function(root) {\n",
       "      if (root.Bokeh !== undefined) {\n",
       "        embed_document(root);\n",
       "        clearInterval(timer);\n",
       "      }\n",
       "      attempts++;\n",
       "      if (attempts > 100) {\n",
       "        console.log(\"Bokeh: ERROR: Unable to run BokehJS code because BokehJS library is missing\");\n",
       "        clearInterval(timer);\n",
       "      }\n",
       "    }, 10, root)\n",
       "  }\n",
       "})(window);"
      ],
      "application/vnd.bokehjs_exec.v0+json": ""
     },
     "metadata": {
      "application/vnd.bokehjs_exec.v0+json": {
       "id": "59655"
      }
     },
     "output_type": "display_data"
    },
    {
     "data": {
      "text/html": [
       "\n",
       "\n",
       "\n",
       "\n",
       "\n",
       "\n",
       "  <div class=\"bk-root\" id=\"bc7c8b50-acc3-40ed-866e-8d44df91557c\"></div>\n"
      ]
     },
     "metadata": {},
     "output_type": "display_data"
    },
    {
     "data": {
      "application/javascript": [
       "(function(root) {\n",
       "  function embed_document(root) {\n",
       "    \n",
       "  var docs_json = {\"79cd86f3-ca75-4960-a55b-092620d55ffc\":{\"roots\":{\"references\":[{\"attributes\":{\"below\":[{\"id\":\"60868\",\"type\":\"CategoricalAxis\"}],\"left\":[{\"id\":\"60872\",\"type\":\"LinearAxis\"}],\"outline_line_color\":{\"value\":null},\"plot_height\":250,\"renderers\":[{\"id\":\"60868\",\"type\":\"CategoricalAxis\"},{\"id\":\"60871\",\"type\":\"Grid\"},{\"id\":\"60872\",\"type\":\"LinearAxis\"},{\"id\":\"60876\",\"type\":\"Grid\"},{\"id\":\"60885\",\"type\":\"BoxAnnotation\"},{\"id\":\"60910\",\"type\":\"Legend\"},{\"id\":\"60902\",\"type\":\"GlyphRenderer\"},{\"id\":\"60916\",\"type\":\"GlyphRenderer\"},{\"id\":\"60931\",\"type\":\"GlyphRenderer\"}],\"title\":{\"id\":\"60857\",\"type\":\"Title\"},\"toolbar\":{\"id\":\"60883\",\"type\":\"Toolbar\"},\"toolbar_location\":null,\"x_range\":{\"id\":\"60860\",\"type\":\"FactorRange\"},\"x_scale\":{\"id\":\"60864\",\"type\":\"CategoricalScale\"},\"y_range\":{\"id\":\"60862\",\"type\":\"DataRange1d\"},\"y_scale\":{\"id\":\"60866\",\"type\":\"LinearScale\"}},\"id\":\"60858\",\"subtype\":\"Figure\",\"type\":\"Plot\"},{\"attributes\":{\"data_source\":{\"id\":\"60898\",\"type\":\"ColumnDataSource\"},\"glyph\":{\"id\":\"60900\",\"type\":\"VBar\"},\"hover_glyph\":null,\"muted_glyph\":null,\"name\":\"geom\",\"nonselection_glyph\":{\"id\":\"60901\",\"type\":\"VBar\"},\"selection_glyph\":null,\"view\":{\"id\":\"60903\",\"type\":\"CDSView\"}},\"id\":\"60902\",\"type\":\"GlyphRenderer\"},{\"attributes\":{\"dimension\":1,\"plot\":{\"id\":\"60858\",\"subtype\":\"Figure\",\"type\":\"Plot\"},\"ticker\":{\"id\":\"60873\",\"type\":\"BasicTicker\"}},\"id\":\"60876\",\"type\":\"Grid\"},{\"attributes\":{\"source\":{\"id\":\"60927\",\"type\":\"ColumnDataSource\"}},\"id\":\"60932\",\"type\":\"CDSView\"},{\"attributes\":{\"callback\":null,\"data\":{\"bi\":[0,0,0,0,0],\"geom\":[286735,270970,281476,289458,0],\"no-geo\":[10521,12539,2,0,326500],\"years\":[\"2012\",\"2013\",\"2014\",\"2015\",\"2016\"]},\"selected\":{\"id\":\"60941\",\"type\":\"Selection\"},\"selection_policy\":{\"id\":\"60942\",\"type\":\"UnionRenderers\"}},\"id\":\"60912\",\"type\":\"ColumnDataSource\"},{\"attributes\":{},\"id\":\"60941\",\"type\":\"Selection\"},{\"attributes\":{\"source\":{\"id\":\"60898\",\"type\":\"ColumnDataSource\"}},\"id\":\"60903\",\"type\":\"CDSView\"},{\"attributes\":{\"fields\":[\"geom\"]},\"id\":\"60894\",\"type\":\"Stack\"},{\"attributes\":{\"formatter\":{\"id\":\"60905\",\"type\":\"BasicTickFormatter\"},\"minor_tick_line_color\":{\"value\":null},\"plot\":{\"id\":\"60858\",\"subtype\":\"Figure\",\"type\":\"Plot\"},\"ticker\":{\"id\":\"60873\",\"type\":\"BasicTicker\"}},\"id\":\"60872\",\"type\":\"LinearAxis\"},{\"attributes\":{},\"id\":\"60924\",\"type\":\"Selection\"},{\"attributes\":{\"fields\":[\"geom\"]},\"id\":\"60893\",\"type\":\"Stack\"},{\"attributes\":{},\"id\":\"60942\",\"type\":\"UnionRenderers\"},{\"attributes\":{},\"id\":\"60905\",\"type\":\"BasicTickFormatter\"},{\"attributes\":{\"fields\":[\"geom\",\"no-geo\"]},\"id\":\"60895\",\"type\":\"Stack\"},{\"attributes\":{},\"id\":\"60877\",\"type\":\"PanTool\"},{\"attributes\":{},\"id\":\"61999\",\"type\":\"UnionRenderers\"},{\"attributes\":{\"label\":{\"value\":\"bi\"},\"renderers\":[{\"id\":\"60931\",\"type\":\"GlyphRenderer\"}]},\"id\":\"60943\",\"type\":\"LegendItem\"},{\"attributes\":{},\"id\":\"60907\",\"type\":\"CategoricalTickFormatter\"},{\"attributes\":{},\"id\":\"60878\",\"type\":\"WheelZoomTool\"},{\"attributes\":{},\"id\":\"61998\",\"type\":\"Selection\"},{\"attributes\":{\"grid_line_color\":{\"value\":null},\"plot\":{\"id\":\"60858\",\"subtype\":\"Figure\",\"type\":\"Plot\"},\"ticker\":{\"id\":\"60869\",\"type\":\"CategoricalTicker\"}},\"id\":\"60871\",\"type\":\"Grid\"},{\"attributes\":{\"overlay\":{\"id\":\"60885\",\"type\":\"BoxAnnotation\"}},\"id\":\"60879\",\"type\":\"BoxZoomTool\"},{\"attributes\":{},\"id\":\"60869\",\"type\":\"CategoricalTicker\"},{\"attributes\":{\"bottom\":{\"expr\":{\"id\":\"60894\",\"type\":\"Stack\"}},\"fill_color\":{\"value\":\"#e84d60\"},\"line_color\":{\"value\":\"#e84d60\"},\"top\":{\"expr\":{\"id\":\"60895\",\"type\":\"Stack\"}},\"width\":{\"value\":0.9},\"x\":{\"field\":\"years\"}},\"id\":\"60914\",\"type\":\"VBar\"},{\"attributes\":{},\"id\":\"60880\",\"type\":\"SaveTool\"},{\"attributes\":{\"callback\":null,\"factors\":[\"2012\",\"2013\",\"2014\",\"2015\",\"2016\"],\"range_padding\":0.1},\"id\":\"60860\",\"type\":\"FactorRange\"},{\"attributes\":{\"bottom\":{\"expr\":{\"id\":\"60894\",\"type\":\"Stack\"}},\"fill_alpha\":{\"value\":0.1},\"fill_color\":{\"value\":\"#1f77b4\"},\"line_alpha\":{\"value\":0.1},\"line_color\":{\"value\":\"#1f77b4\"},\"top\":{\"expr\":{\"id\":\"60895\",\"type\":\"Stack\"}},\"width\":{\"value\":0.9},\"x\":{\"field\":\"years\"}},\"id\":\"60915\",\"type\":\"VBar\"},{\"attributes\":{},\"id\":\"60881\",\"type\":\"ResetTool\"},{\"attributes\":{\"data_source\":{\"id\":\"60912\",\"type\":\"ColumnDataSource\"},\"glyph\":{\"id\":\"60914\",\"type\":\"VBar\"},\"hover_glyph\":null,\"muted_glyph\":null,\"name\":\"no-geo\",\"nonselection_glyph\":{\"id\":\"60915\",\"type\":\"VBar\"},\"selection_glyph\":null,\"view\":{\"id\":\"60917\",\"type\":\"CDSView\"}},\"id\":\"60916\",\"type\":\"GlyphRenderer\"},{\"attributes\":{},\"id\":\"60882\",\"type\":\"HelpTool\"},{\"attributes\":{\"callback\":null,\"start\":0},\"id\":\"60862\",\"type\":\"DataRange1d\"},{\"attributes\":{\"source\":{\"id\":\"60912\",\"type\":\"ColumnDataSource\"}},\"id\":\"60917\",\"type\":\"CDSView\"},{\"attributes\":{\"active_drag\":\"auto\",\"active_inspect\":\"auto\",\"active_multi\":null,\"active_scroll\":\"auto\",\"active_tap\":\"auto\",\"tools\":[{\"id\":\"60877\",\"type\":\"PanTool\"},{\"id\":\"60878\",\"type\":\"WheelZoomTool\"},{\"id\":\"60879\",\"type\":\"BoxZoomTool\"},{\"id\":\"60880\",\"type\":\"SaveTool\"},{\"id\":\"60881\",\"type\":\"ResetTool\"},{\"id\":\"60882\",\"type\":\"HelpTool\"}]},\"id\":\"60883\",\"type\":\"Toolbar\"},{\"attributes\":{},\"id\":\"60864\",\"type\":\"CategoricalScale\"},{\"attributes\":{},\"id\":\"60866\",\"type\":\"LinearScale\"},{\"attributes\":{},\"id\":\"60925\",\"type\":\"UnionRenderers\"},{\"attributes\":{\"bottom_units\":\"screen\",\"fill_alpha\":{\"value\":0.5},\"fill_color\":{\"value\":\"lightgrey\"},\"left_units\":\"screen\",\"level\":\"overlay\",\"line_alpha\":{\"value\":1.0},\"line_color\":{\"value\":\"black\"},\"line_dash\":[4,4],\"line_width\":{\"value\":2},\"plot\":null,\"render_mode\":\"css\",\"right_units\":\"screen\",\"top_units\":\"screen\"},\"id\":\"60885\",\"type\":\"BoxAnnotation\"},{\"attributes\":{\"formatter\":{\"id\":\"60907\",\"type\":\"CategoricalTickFormatter\"},\"minor_tick_line_color\":{\"value\":null},\"plot\":{\"id\":\"60858\",\"subtype\":\"Figure\",\"type\":\"Plot\"},\"ticker\":{\"id\":\"60869\",\"type\":\"CategoricalTicker\"}},\"id\":\"60868\",\"type\":\"CategoricalAxis\"},{\"attributes\":{\"label\":{\"value\":\"no-geo\"},\"renderers\":[{\"id\":\"60916\",\"type\":\"GlyphRenderer\"}]},\"id\":\"60926\",\"type\":\"LegendItem\"},{\"attributes\":{\"fields\":[\"geom\",\"no-geo\"]},\"id\":\"60896\",\"type\":\"Stack\"},{\"attributes\":{\"callback\":null,\"data\":{\"bi\":[0,0,0,0,0],\"geom\":[286735,270970,281476,289458,0],\"no-geo\":[10521,12539,2,0,326500],\"years\":[\"2012\",\"2013\",\"2014\",\"2015\",\"2016\"]},\"selected\":{\"id\":\"61998\",\"type\":\"Selection\"},\"selection_policy\":{\"id\":\"61999\",\"type\":\"UnionRenderers\"}},\"id\":\"60927\",\"type\":\"ColumnDataSource\"},{\"attributes\":{\"plot\":null,\"text\":\"OK\"},\"id\":\"60857\",\"type\":\"Title\"},{\"attributes\":{\"fields\":[\"geom\",\"no-geo\",\"bi\"]},\"id\":\"60897\",\"type\":\"Stack\"},{\"attributes\":{\"callback\":null,\"data\":{\"bi\":[0,0,0,0,0],\"geom\":[286735,270970,281476,289458,0],\"no-geo\":[10521,12539,2,0,326500],\"years\":[\"2012\",\"2013\",\"2014\",\"2015\",\"2016\"]},\"selected\":{\"id\":\"60924\",\"type\":\"Selection\"},\"selection_policy\":{\"id\":\"60925\",\"type\":\"UnionRenderers\"}},\"id\":\"60898\",\"type\":\"ColumnDataSource\"},{\"attributes\":{\"bottom\":{\"expr\":{\"id\":\"60896\",\"type\":\"Stack\"}},\"fill_color\":{\"value\":\"#cccccc\"},\"line_color\":{\"value\":\"#cccccc\"},\"top\":{\"expr\":{\"id\":\"60897\",\"type\":\"Stack\"}},\"width\":{\"value\":0.9},\"x\":{\"field\":\"years\"}},\"id\":\"60929\",\"type\":\"VBar\"},{\"attributes\":{\"fields\":[]},\"id\":\"60892\",\"type\":\"Stack\"},{\"attributes\":{\"items\":[{\"id\":\"60911\",\"type\":\"LegendItem\"},{\"id\":\"60926\",\"type\":\"LegendItem\"},{\"id\":\"60943\",\"type\":\"LegendItem\"}],\"location\":\"top_left\",\"orientation\":\"horizontal\",\"plot\":{\"id\":\"60858\",\"subtype\":\"Figure\",\"type\":\"Plot\"}},\"id\":\"60910\",\"type\":\"Legend\"},{\"attributes\":{},\"id\":\"60873\",\"type\":\"BasicTicker\"},{\"attributes\":{\"label\":{\"value\":\"geom\"},\"renderers\":[{\"id\":\"60902\",\"type\":\"GlyphRenderer\"}]},\"id\":\"60911\",\"type\":\"LegendItem\"},{\"attributes\":{\"bottom\":{\"expr\":{\"id\":\"60892\",\"type\":\"Stack\"}},\"fill_color\":{\"value\":\"#5CC9F5\"},\"line_color\":{\"value\":\"#5CC9F5\"},\"top\":{\"expr\":{\"id\":\"60893\",\"type\":\"Stack\"}},\"width\":{\"value\":0.9},\"x\":{\"field\":\"years\"}},\"id\":\"60900\",\"type\":\"VBar\"},{\"attributes\":{\"bottom\":{\"expr\":{\"id\":\"60896\",\"type\":\"Stack\"}},\"fill_alpha\":{\"value\":0.1},\"fill_color\":{\"value\":\"#1f77b4\"},\"line_alpha\":{\"value\":0.1},\"line_color\":{\"value\":\"#1f77b4\"},\"top\":{\"expr\":{\"id\":\"60897\",\"type\":\"Stack\"}},\"width\":{\"value\":0.9},\"x\":{\"field\":\"years\"}},\"id\":\"60930\",\"type\":\"VBar\"},{\"attributes\":{\"data_source\":{\"id\":\"60927\",\"type\":\"ColumnDataSource\"},\"glyph\":{\"id\":\"60929\",\"type\":\"VBar\"},\"hover_glyph\":null,\"muted_glyph\":null,\"name\":\"bi\",\"nonselection_glyph\":{\"id\":\"60930\",\"type\":\"VBar\"},\"selection_glyph\":null,\"view\":{\"id\":\"60932\",\"type\":\"CDSView\"}},\"id\":\"60931\",\"type\":\"GlyphRenderer\"},{\"attributes\":{\"bottom\":{\"expr\":{\"id\":\"60892\",\"type\":\"Stack\"}},\"fill_alpha\":{\"value\":0.1},\"fill_color\":{\"value\":\"#1f77b4\"},\"line_alpha\":{\"value\":0.1},\"line_color\":{\"value\":\"#1f77b4\"},\"top\":{\"expr\":{\"id\":\"60893\",\"type\":\"Stack\"}},\"width\":{\"value\":0.9},\"x\":{\"field\":\"years\"}},\"id\":\"60901\",\"type\":\"VBar\"}],\"root_ids\":[\"60858\"]},\"title\":\"Bokeh Application\",\"version\":\"1.0.0\"}};\n",
       "  var render_items = [{\"docid\":\"79cd86f3-ca75-4960-a55b-092620d55ffc\",\"roots\":{\"60858\":\"bc7c8b50-acc3-40ed-866e-8d44df91557c\"}}];\n",
       "  root.Bokeh.embed.embed_items_notebook(docs_json, render_items);\n",
       "\n",
       "  }\n",
       "  if (root.Bokeh !== undefined) {\n",
       "    embed_document(root);\n",
       "  } else {\n",
       "    var attempts = 0;\n",
       "    var timer = setInterval(function(root) {\n",
       "      if (root.Bokeh !== undefined) {\n",
       "        embed_document(root);\n",
       "        clearInterval(timer);\n",
       "      }\n",
       "      attempts++;\n",
       "      if (attempts > 100) {\n",
       "        console.log(\"Bokeh: ERROR: Unable to run BokehJS code because BokehJS library is missing\");\n",
       "        clearInterval(timer);\n",
       "      }\n",
       "    }, 10, root)\n",
       "  }\n",
       "})(window);"
      ],
      "application/vnd.bokehjs_exec.v0+json": ""
     },
     "metadata": {
      "application/vnd.bokehjs_exec.v0+json": {
       "id": "60858"
      }
     },
     "output_type": "display_data"
    },
    {
     "data": {
      "text/html": [
       "\n",
       "\n",
       "\n",
       "\n",
       "\n",
       "\n",
       "  <div class=\"bk-root\" id=\"3353ee0d-44c5-47c1-a5f2-e33a53c2e9c2\"></div>\n"
      ]
     },
     "metadata": {},
     "output_type": "display_data"
    },
    {
     "data": {
      "application/javascript": [
       "(function(root) {\n",
       "  function embed_document(root) {\n",
       "    \n",
       "  var docs_json = {\"034ec2ee-a5ba-4119-993c-91e3243fef1e\":{\"roots\":{\"references\":[{\"attributes\":{\"below\":[{\"id\":\"62083\",\"type\":\"CategoricalAxis\"}],\"left\":[{\"id\":\"62087\",\"type\":\"LinearAxis\"}],\"outline_line_color\":{\"value\":null},\"plot_height\":250,\"renderers\":[{\"id\":\"62083\",\"type\":\"CategoricalAxis\"},{\"id\":\"62086\",\"type\":\"Grid\"},{\"id\":\"62087\",\"type\":\"LinearAxis\"},{\"id\":\"62091\",\"type\":\"Grid\"},{\"id\":\"62100\",\"type\":\"BoxAnnotation\"},{\"id\":\"62125\",\"type\":\"Legend\"},{\"id\":\"62117\",\"type\":\"GlyphRenderer\"},{\"id\":\"62131\",\"type\":\"GlyphRenderer\"},{\"id\":\"62146\",\"type\":\"GlyphRenderer\"}],\"title\":{\"id\":\"62072\",\"type\":\"Title\"},\"toolbar\":{\"id\":\"62098\",\"type\":\"Toolbar\"},\"toolbar_location\":null,\"x_range\":{\"id\":\"62075\",\"type\":\"FactorRange\"},\"x_scale\":{\"id\":\"62079\",\"type\":\"CategoricalScale\"},\"y_range\":{\"id\":\"62077\",\"type\":\"DataRange1d\"},\"y_scale\":{\"id\":\"62081\",\"type\":\"LinearScale\"}},\"id\":\"62073\",\"subtype\":\"Figure\",\"type\":\"Plot\"},{\"attributes\":{\"source\":{\"id\":\"62127\",\"type\":\"ColumnDataSource\"}},\"id\":\"62132\",\"type\":\"CDSView\"},{\"attributes\":{\"fields\":[\"geom\",\"no-geo\"]},\"id\":\"62111\",\"type\":\"Stack\"},{\"attributes\":{},\"id\":\"62079\",\"type\":\"CategoricalScale\"},{\"attributes\":{},\"id\":\"62139\",\"type\":\"Selection\"},{\"attributes\":{\"fields\":[\"geom\",\"no-geo\",\"bi\"]},\"id\":\"62112\",\"type\":\"Stack\"},{\"attributes\":{\"callback\":null,\"start\":0},\"id\":\"62077\",\"type\":\"DataRange1d\"},{\"attributes\":{},\"id\":\"62140\",\"type\":\"UnionRenderers\"},{\"attributes\":{\"callback\":null,\"data\":{\"bi\":[0,0,0,160,0],\"geom\":[40,52,278853,347889,0],\"no-geo\":[269107,280118,1,1,347348],\"years\":[\"2012\",\"2013\",\"2014\",\"2015\",\"2016\"]},\"selected\":{\"id\":\"62139\",\"type\":\"Selection\"},\"selection_policy\":{\"id\":\"62140\",\"type\":\"UnionRenderers\"}},\"id\":\"62113\",\"type\":\"ColumnDataSource\"},{\"attributes\":{\"callback\":null,\"factors\":[\"2012\",\"2013\",\"2014\",\"2015\",\"2016\"],\"range_padding\":0.1},\"id\":\"62075\",\"type\":\"FactorRange\"},{\"attributes\":{\"label\":{\"value\":\"no-geo\"},\"renderers\":[{\"id\":\"62131\",\"type\":\"GlyphRenderer\"}]},\"id\":\"62141\",\"type\":\"LegendItem\"},{\"attributes\":{\"plot\":null,\"text\":\"OR\"},\"id\":\"62072\",\"type\":\"Title\"},{\"attributes\":{\"bottom\":{\"expr\":{\"id\":\"62111\",\"type\":\"Stack\"}},\"fill_alpha\":{\"value\":0.1},\"fill_color\":{\"value\":\"#1f77b4\"},\"line_alpha\":{\"value\":0.1},\"line_color\":{\"value\":\"#1f77b4\"},\"top\":{\"expr\":{\"id\":\"62112\",\"type\":\"Stack\"}},\"width\":{\"value\":0.9},\"x\":{\"field\":\"years\"}},\"id\":\"62145\",\"type\":\"VBar\"},{\"attributes\":{\"bottom\":{\"expr\":{\"id\":\"62107\",\"type\":\"Stack\"}},\"fill_color\":{\"value\":\"#5CC9F5\"},\"line_color\":{\"value\":\"#5CC9F5\"},\"top\":{\"expr\":{\"id\":\"62108\",\"type\":\"Stack\"}},\"width\":{\"value\":0.9},\"x\":{\"field\":\"years\"}},\"id\":\"62115\",\"type\":\"VBar\"},{\"attributes\":{\"data_source\":{\"id\":\"62142\",\"type\":\"ColumnDataSource\"},\"glyph\":{\"id\":\"62144\",\"type\":\"VBar\"},\"hover_glyph\":null,\"muted_glyph\":null,\"name\":\"bi\",\"nonselection_glyph\":{\"id\":\"62145\",\"type\":\"VBar\"},\"selection_glyph\":null,\"view\":{\"id\":\"62147\",\"type\":\"CDSView\"}},\"id\":\"62146\",\"type\":\"GlyphRenderer\"},{\"attributes\":{\"fields\":[\"geom\",\"no-geo\"]},\"id\":\"62110\",\"type\":\"Stack\"},{\"attributes\":{\"bottom\":{\"expr\":{\"id\":\"62107\",\"type\":\"Stack\"}},\"fill_alpha\":{\"value\":0.1},\"fill_color\":{\"value\":\"#1f77b4\"},\"line_alpha\":{\"value\":0.1},\"line_color\":{\"value\":\"#1f77b4\"},\"top\":{\"expr\":{\"id\":\"62108\",\"type\":\"Stack\"}},\"width\":{\"value\":0.9},\"x\":{\"field\":\"years\"}},\"id\":\"62116\",\"type\":\"VBar\"},{\"attributes\":{\"source\":{\"id\":\"62142\",\"type\":\"ColumnDataSource\"}},\"id\":\"62147\",\"type\":\"CDSView\"},{\"attributes\":{\"data_source\":{\"id\":\"62113\",\"type\":\"ColumnDataSource\"},\"glyph\":{\"id\":\"62115\",\"type\":\"VBar\"},\"hover_glyph\":null,\"muted_glyph\":null,\"name\":\"geom\",\"nonselection_glyph\":{\"id\":\"62116\",\"type\":\"VBar\"},\"selection_glyph\":null,\"view\":{\"id\":\"62118\",\"type\":\"CDSView\"}},\"id\":\"62117\",\"type\":\"GlyphRenderer\"},{\"attributes\":{},\"id\":\"62156\",\"type\":\"Selection\"},{\"attributes\":{\"callback\":null,\"data\":{\"bi\":[0,0,0,160,0],\"geom\":[40,52,278853,347889,0],\"no-geo\":[269107,280118,1,1,347348],\"years\":[\"2012\",\"2013\",\"2014\",\"2015\",\"2016\"]},\"selected\":{\"id\":\"63225\",\"type\":\"Selection\"},\"selection_policy\":{\"id\":\"63226\",\"type\":\"UnionRenderers\"}},\"id\":\"62142\",\"type\":\"ColumnDataSource\"},{\"attributes\":{},\"id\":\"62097\",\"type\":\"HelpTool\"},{\"attributes\":{\"source\":{\"id\":\"62113\",\"type\":\"ColumnDataSource\"}},\"id\":\"62118\",\"type\":\"CDSView\"},{\"attributes\":{},\"id\":\"62157\",\"type\":\"UnionRenderers\"},{\"attributes\":{},\"id\":\"62096\",\"type\":\"ResetTool\"},{\"attributes\":{\"formatter\":{\"id\":\"62120\",\"type\":\"BasicTickFormatter\"},\"minor_tick_line_color\":{\"value\":null},\"plot\":{\"id\":\"62073\",\"subtype\":\"Figure\",\"type\":\"Plot\"},\"ticker\":{\"id\":\"62088\",\"type\":\"BasicTicker\"}},\"id\":\"62087\",\"type\":\"LinearAxis\"},{\"attributes\":{},\"id\":\"62120\",\"type\":\"BasicTickFormatter\"},{\"attributes\":{\"label\":{\"value\":\"bi\"},\"renderers\":[{\"id\":\"62146\",\"type\":\"GlyphRenderer\"}]},\"id\":\"62158\",\"type\":\"LegendItem\"},{\"attributes\":{\"fields\":[\"geom\"]},\"id\":\"62108\",\"type\":\"Stack\"},{\"attributes\":{},\"id\":\"62095\",\"type\":\"SaveTool\"},{\"attributes\":{},\"id\":\"62122\",\"type\":\"CategoricalTickFormatter\"},{\"attributes\":{},\"id\":\"63225\",\"type\":\"Selection\"},{\"attributes\":{\"overlay\":{\"id\":\"62100\",\"type\":\"BoxAnnotation\"}},\"id\":\"62094\",\"type\":\"BoxZoomTool\"},{\"attributes\":{\"dimension\":1,\"plot\":{\"id\":\"62073\",\"subtype\":\"Figure\",\"type\":\"Plot\"},\"ticker\":{\"id\":\"62088\",\"type\":\"BasicTicker\"}},\"id\":\"62091\",\"type\":\"Grid\"},{\"attributes\":{\"items\":[{\"id\":\"62126\",\"type\":\"LegendItem\"},{\"id\":\"62141\",\"type\":\"LegendItem\"},{\"id\":\"62158\",\"type\":\"LegendItem\"}],\"location\":\"top_left\",\"orientation\":\"horizontal\",\"plot\":{\"id\":\"62073\",\"subtype\":\"Figure\",\"type\":\"Plot\"}},\"id\":\"62125\",\"type\":\"Legend\"},{\"attributes\":{},\"id\":\"63226\",\"type\":\"UnionRenderers\"},{\"attributes\":{\"label\":{\"value\":\"geom\"},\"renderers\":[{\"id\":\"62117\",\"type\":\"GlyphRenderer\"}]},\"id\":\"62126\",\"type\":\"LegendItem\"},{\"attributes\":{},\"id\":\"62093\",\"type\":\"WheelZoomTool\"},{\"attributes\":{\"bottom_units\":\"screen\",\"fill_alpha\":{\"value\":0.5},\"fill_color\":{\"value\":\"lightgrey\"},\"left_units\":\"screen\",\"level\":\"overlay\",\"line_alpha\":{\"value\":1.0},\"line_color\":{\"value\":\"black\"},\"line_dash\":[4,4],\"line_width\":{\"value\":2},\"plot\":null,\"render_mode\":\"css\",\"right_units\":\"screen\",\"top_units\":\"screen\"},\"id\":\"62100\",\"type\":\"BoxAnnotation\"},{\"attributes\":{\"callback\":null,\"data\":{\"bi\":[0,0,0,160,0],\"geom\":[40,52,278853,347889,0],\"no-geo\":[269107,280118,1,1,347348],\"years\":[\"2012\",\"2013\",\"2014\",\"2015\",\"2016\"]},\"selected\":{\"id\":\"62156\",\"type\":\"Selection\"},\"selection_policy\":{\"id\":\"62157\",\"type\":\"UnionRenderers\"}},\"id\":\"62127\",\"type\":\"ColumnDataSource\"},{\"attributes\":{},\"id\":\"62081\",\"type\":\"LinearScale\"},{\"attributes\":{},\"id\":\"62092\",\"type\":\"PanTool\"},{\"attributes\":{\"formatter\":{\"id\":\"62122\",\"type\":\"CategoricalTickFormatter\"},\"minor_tick_line_color\":{\"value\":null},\"plot\":{\"id\":\"62073\",\"subtype\":\"Figure\",\"type\":\"Plot\"},\"ticker\":{\"id\":\"62084\",\"type\":\"CategoricalTicker\"}},\"id\":\"62083\",\"type\":\"CategoricalAxis\"},{\"attributes\":{},\"id\":\"62084\",\"type\":\"CategoricalTicker\"},{\"attributes\":{\"bottom\":{\"expr\":{\"id\":\"62111\",\"type\":\"Stack\"}},\"fill_color\":{\"value\":\"#cccccc\"},\"line_color\":{\"value\":\"#cccccc\"},\"top\":{\"expr\":{\"id\":\"62112\",\"type\":\"Stack\"}},\"width\":{\"value\":0.9},\"x\":{\"field\":\"years\"}},\"id\":\"62144\",\"type\":\"VBar\"},{\"attributes\":{\"bottom\":{\"expr\":{\"id\":\"62109\",\"type\":\"Stack\"}},\"fill_color\":{\"value\":\"#e84d60\"},\"line_color\":{\"value\":\"#e84d60\"},\"top\":{\"expr\":{\"id\":\"62110\",\"type\":\"Stack\"}},\"width\":{\"value\":0.9},\"x\":{\"field\":\"years\"}},\"id\":\"62129\",\"type\":\"VBar\"},{\"attributes\":{\"fields\":[]},\"id\":\"62107\",\"type\":\"Stack\"},{\"attributes\":{\"grid_line_color\":{\"value\":null},\"plot\":{\"id\":\"62073\",\"subtype\":\"Figure\",\"type\":\"Plot\"},\"ticker\":{\"id\":\"62084\",\"type\":\"CategoricalTicker\"}},\"id\":\"62086\",\"type\":\"Grid\"},{\"attributes\":{\"bottom\":{\"expr\":{\"id\":\"62109\",\"type\":\"Stack\"}},\"fill_alpha\":{\"value\":0.1},\"fill_color\":{\"value\":\"#1f77b4\"},\"line_alpha\":{\"value\":0.1},\"line_color\":{\"value\":\"#1f77b4\"},\"top\":{\"expr\":{\"id\":\"62110\",\"type\":\"Stack\"}},\"width\":{\"value\":0.9},\"x\":{\"field\":\"years\"}},\"id\":\"62130\",\"type\":\"VBar\"},{\"attributes\":{\"active_drag\":\"auto\",\"active_inspect\":\"auto\",\"active_multi\":null,\"active_scroll\":\"auto\",\"active_tap\":\"auto\",\"tools\":[{\"id\":\"62092\",\"type\":\"PanTool\"},{\"id\":\"62093\",\"type\":\"WheelZoomTool\"},{\"id\":\"62094\",\"type\":\"BoxZoomTool\"},{\"id\":\"62095\",\"type\":\"SaveTool\"},{\"id\":\"62096\",\"type\":\"ResetTool\"},{\"id\":\"62097\",\"type\":\"HelpTool\"}]},\"id\":\"62098\",\"type\":\"Toolbar\"},{\"attributes\":{\"data_source\":{\"id\":\"62127\",\"type\":\"ColumnDataSource\"},\"glyph\":{\"id\":\"62129\",\"type\":\"VBar\"},\"hover_glyph\":null,\"muted_glyph\":null,\"name\":\"no-geo\",\"nonselection_glyph\":{\"id\":\"62130\",\"type\":\"VBar\"},\"selection_glyph\":null,\"view\":{\"id\":\"62132\",\"type\":\"CDSView\"}},\"id\":\"62131\",\"type\":\"GlyphRenderer\"},{\"attributes\":{\"fields\":[\"geom\"]},\"id\":\"62109\",\"type\":\"Stack\"},{\"attributes\":{},\"id\":\"62088\",\"type\":\"BasicTicker\"}],\"root_ids\":[\"62073\"]},\"title\":\"Bokeh Application\",\"version\":\"1.0.0\"}};\n",
       "  var render_items = [{\"docid\":\"034ec2ee-a5ba-4119-993c-91e3243fef1e\",\"roots\":{\"62073\":\"3353ee0d-44c5-47c1-a5f2-e33a53c2e9c2\"}}];\n",
       "  root.Bokeh.embed.embed_items_notebook(docs_json, render_items);\n",
       "\n",
       "  }\n",
       "  if (root.Bokeh !== undefined) {\n",
       "    embed_document(root);\n",
       "  } else {\n",
       "    var attempts = 0;\n",
       "    var timer = setInterval(function(root) {\n",
       "      if (root.Bokeh !== undefined) {\n",
       "        embed_document(root);\n",
       "        clearInterval(timer);\n",
       "      }\n",
       "      attempts++;\n",
       "      if (attempts > 100) {\n",
       "        console.log(\"Bokeh: ERROR: Unable to run BokehJS code because BokehJS library is missing\");\n",
       "        clearInterval(timer);\n",
       "      }\n",
       "    }, 10, root)\n",
       "  }\n",
       "})(window);"
      ],
      "application/vnd.bokehjs_exec.v0+json": ""
     },
     "metadata": {
      "application/vnd.bokehjs_exec.v0+json": {
       "id": "62073"
      }
     },
     "output_type": "display_data"
    },
    {
     "data": {
      "text/html": [
       "\n",
       "\n",
       "\n",
       "\n",
       "\n",
       "\n",
       "  <div class=\"bk-root\" id=\"8fa0849e-475f-41cb-9dbc-49b1de84b040\"></div>\n"
      ]
     },
     "metadata": {},
     "output_type": "display_data"
    },
    {
     "data": {
      "application/javascript": [
       "(function(root) {\n",
       "  function embed_document(root) {\n",
       "    \n",
       "  var docs_json = {\"eab288f2-088e-4573-86f8-f6ec316af79b\":{\"roots\":{\"references\":[{\"attributes\":{\"below\":[{\"id\":\"63310\",\"type\":\"CategoricalAxis\"}],\"left\":[{\"id\":\"63314\",\"type\":\"LinearAxis\"}],\"outline_line_color\":{\"value\":null},\"plot_height\":250,\"renderers\":[{\"id\":\"63310\",\"type\":\"CategoricalAxis\"},{\"id\":\"63313\",\"type\":\"Grid\"},{\"id\":\"63314\",\"type\":\"LinearAxis\"},{\"id\":\"63318\",\"type\":\"Grid\"},{\"id\":\"63327\",\"type\":\"BoxAnnotation\"},{\"id\":\"63352\",\"type\":\"Legend\"},{\"id\":\"63344\",\"type\":\"GlyphRenderer\"},{\"id\":\"63358\",\"type\":\"GlyphRenderer\"},{\"id\":\"63373\",\"type\":\"GlyphRenderer\"}],\"title\":{\"id\":\"63299\",\"type\":\"Title\"},\"toolbar\":{\"id\":\"63325\",\"type\":\"Toolbar\"},\"toolbar_location\":null,\"x_range\":{\"id\":\"63302\",\"type\":\"FactorRange\"},\"x_scale\":{\"id\":\"63306\",\"type\":\"CategoricalScale\"},\"y_range\":{\"id\":\"63304\",\"type\":\"DataRange1d\"},\"y_scale\":{\"id\":\"63308\",\"type\":\"LinearScale\"}},\"id\":\"63300\",\"subtype\":\"Figure\",\"type\":\"Plot\"},{\"attributes\":{\"overlay\":{\"id\":\"63327\",\"type\":\"BoxAnnotation\"}},\"id\":\"63321\",\"type\":\"BoxZoomTool\"},{\"attributes\":{},\"id\":\"64465\",\"type\":\"UnionRenderers\"},{\"attributes\":{},\"id\":\"63322\",\"type\":\"SaveTool\"},{\"attributes\":{},\"id\":\"63323\",\"type\":\"ResetTool\"},{\"attributes\":{\"plot\":null,\"text\":\"PA\"},\"id\":\"63299\",\"type\":\"Title\"},{\"attributes\":{\"bottom\":{\"expr\":{\"id\":\"63336\",\"type\":\"Stack\"}},\"fill_color\":{\"value\":\"#e84d60\"},\"line_color\":{\"value\":\"#e84d60\"},\"top\":{\"expr\":{\"id\":\"63337\",\"type\":\"Stack\"}},\"width\":{\"value\":0.9},\"x\":{\"field\":\"years\"}},\"id\":\"63356\",\"type\":\"VBar\"},{\"attributes\":{},\"id\":\"63324\",\"type\":\"HelpTool\"},{\"attributes\":{\"bottom\":{\"expr\":{\"id\":\"63336\",\"type\":\"Stack\"}},\"fill_alpha\":{\"value\":0.1},\"fill_color\":{\"value\":\"#1f77b4\"},\"line_alpha\":{\"value\":0.1},\"line_color\":{\"value\":\"#1f77b4\"},\"top\":{\"expr\":{\"id\":\"63337\",\"type\":\"Stack\"}},\"width\":{\"value\":0.9},\"x\":{\"field\":\"years\"}},\"id\":\"63357\",\"type\":\"VBar\"},{\"attributes\":{\"callback\":null,\"factors\":[\"2012\",\"2013\",\"2014\",\"2015\",\"2016\"],\"range_padding\":0.1},\"id\":\"63302\",\"type\":\"FactorRange\"},{\"attributes\":{\"active_drag\":\"auto\",\"active_inspect\":\"auto\",\"active_multi\":null,\"active_scroll\":\"auto\",\"active_tap\":\"auto\",\"tools\":[{\"id\":\"63319\",\"type\":\"PanTool\"},{\"id\":\"63320\",\"type\":\"WheelZoomTool\"},{\"id\":\"63321\",\"type\":\"BoxZoomTool\"},{\"id\":\"63322\",\"type\":\"SaveTool\"},{\"id\":\"63323\",\"type\":\"ResetTool\"},{\"id\":\"63324\",\"type\":\"HelpTool\"}]},\"id\":\"63325\",\"type\":\"Toolbar\"},{\"attributes\":{\"data_source\":{\"id\":\"63354\",\"type\":\"ColumnDataSource\"},\"glyph\":{\"id\":\"63356\",\"type\":\"VBar\"},\"hover_glyph\":null,\"muted_glyph\":null,\"name\":\"no-geo\",\"nonselection_glyph\":{\"id\":\"63357\",\"type\":\"VBar\"},\"selection_glyph\":null,\"view\":{\"id\":\"63359\",\"type\":\"CDSView\"}},\"id\":\"63358\",\"type\":\"GlyphRenderer\"},{\"attributes\":{\"callback\":null,\"data\":{\"bi\":[0,0,2,204,0],\"geom\":[392321,442824,508473,560624,0],\"no-geo\":[32297,80859,1,1,546779],\"years\":[\"2012\",\"2013\",\"2014\",\"2015\",\"2016\"]},\"selected\":{\"id\":\"63383\",\"type\":\"Selection\"},\"selection_policy\":{\"id\":\"63384\",\"type\":\"UnionRenderers\"}},\"id\":\"63354\",\"type\":\"ColumnDataSource\"},{\"attributes\":{\"fields\":[\"geom\"]},\"id\":\"63336\",\"type\":\"Stack\"},{\"attributes\":{\"callback\":null,\"start\":0},\"id\":\"63304\",\"type\":\"DataRange1d\"},{\"attributes\":{\"source\":{\"id\":\"63354\",\"type\":\"ColumnDataSource\"}},\"id\":\"63359\",\"type\":\"CDSView\"},{\"attributes\":{\"bottom_units\":\"screen\",\"fill_alpha\":{\"value\":0.5},\"fill_color\":{\"value\":\"lightgrey\"},\"left_units\":\"screen\",\"level\":\"overlay\",\"line_alpha\":{\"value\":1.0},\"line_color\":{\"value\":\"black\"},\"line_dash\":[4,4],\"line_width\":{\"value\":2},\"plot\":null,\"render_mode\":\"css\",\"right_units\":\"screen\",\"top_units\":\"screen\"},\"id\":\"63327\",\"type\":\"BoxAnnotation\"},{\"attributes\":{},\"id\":\"63306\",\"type\":\"CategoricalScale\"},{\"attributes\":{\"fields\":[\"geom\",\"no-geo\"]},\"id\":\"63337\",\"type\":\"Stack\"},{\"attributes\":{},\"id\":\"63308\",\"type\":\"LinearScale\"},{\"attributes\":{},\"id\":\"63367\",\"type\":\"UnionRenderers\"},{\"attributes\":{\"fields\":[\"geom\",\"no-geo\"]},\"id\":\"63338\",\"type\":\"Stack\"},{\"attributes\":{\"formatter\":{\"id\":\"63349\",\"type\":\"CategoricalTickFormatter\"},\"minor_tick_line_color\":{\"value\":null},\"plot\":{\"id\":\"63300\",\"subtype\":\"Figure\",\"type\":\"Plot\"},\"ticker\":{\"id\":\"63311\",\"type\":\"CategoricalTicker\"}},\"id\":\"63310\",\"type\":\"CategoricalAxis\"},{\"attributes\":{\"label\":{\"value\":\"no-geo\"},\"renderers\":[{\"id\":\"63358\",\"type\":\"GlyphRenderer\"}]},\"id\":\"63368\",\"type\":\"LegendItem\"},{\"attributes\":{\"fields\":[\"geom\",\"no-geo\",\"bi\"]},\"id\":\"63339\",\"type\":\"Stack\"},{\"attributes\":{},\"id\":\"63311\",\"type\":\"CategoricalTicker\"},{\"attributes\":{\"callback\":null,\"data\":{\"bi\":[0,0,2,204,0],\"geom\":[392321,442824,508473,560624,0],\"no-geo\":[32297,80859,1,1,546779],\"years\":[\"2012\",\"2013\",\"2014\",\"2015\",\"2016\"]},\"selected\":{\"id\":\"63366\",\"type\":\"Selection\"},\"selection_policy\":{\"id\":\"63367\",\"type\":\"UnionRenderers\"}},\"id\":\"63340\",\"type\":\"ColumnDataSource\"},{\"attributes\":{\"callback\":null,\"data\":{\"bi\":[0,0,2,204,0],\"geom\":[392321,442824,508473,560624,0],\"no-geo\":[32297,80859,1,1,546779],\"years\":[\"2012\",\"2013\",\"2014\",\"2015\",\"2016\"]},\"selected\":{\"id\":\"64464\",\"type\":\"Selection\"},\"selection_policy\":{\"id\":\"64465\",\"type\":\"UnionRenderers\"}},\"id\":\"63369\",\"type\":\"ColumnDataSource\"},{\"attributes\":{\"grid_line_color\":{\"value\":null},\"plot\":{\"id\":\"63300\",\"subtype\":\"Figure\",\"type\":\"Plot\"},\"ticker\":{\"id\":\"63311\",\"type\":\"CategoricalTicker\"}},\"id\":\"63313\",\"type\":\"Grid\"},{\"attributes\":{\"items\":[{\"id\":\"63353\",\"type\":\"LegendItem\"},{\"id\":\"63368\",\"type\":\"LegendItem\"},{\"id\":\"63385\",\"type\":\"LegendItem\"}],\"location\":\"top_left\",\"orientation\":\"horizontal\",\"plot\":{\"id\":\"63300\",\"subtype\":\"Figure\",\"type\":\"Plot\"}},\"id\":\"63352\",\"type\":\"Legend\"},{\"attributes\":{\"formatter\":{\"id\":\"63347\",\"type\":\"BasicTickFormatter\"},\"minor_tick_line_color\":{\"value\":null},\"plot\":{\"id\":\"63300\",\"subtype\":\"Figure\",\"type\":\"Plot\"},\"ticker\":{\"id\":\"63315\",\"type\":\"BasicTicker\"}},\"id\":\"63314\",\"type\":\"LinearAxis\"},{\"attributes\":{\"bottom\":{\"expr\":{\"id\":\"63338\",\"type\":\"Stack\"}},\"fill_color\":{\"value\":\"#cccccc\"},\"line_color\":{\"value\":\"#cccccc\"},\"top\":{\"expr\":{\"id\":\"63339\",\"type\":\"Stack\"}},\"width\":{\"value\":0.9},\"x\":{\"field\":\"years\"}},\"id\":\"63371\",\"type\":\"VBar\"},{\"attributes\":{},\"id\":\"63315\",\"type\":\"BasicTicker\"},{\"attributes\":{\"bottom\":{\"expr\":{\"id\":\"63334\",\"type\":\"Stack\"}},\"fill_color\":{\"value\":\"#5CC9F5\"},\"line_color\":{\"value\":\"#5CC9F5\"},\"top\":{\"expr\":{\"id\":\"63335\",\"type\":\"Stack\"}},\"width\":{\"value\":0.9},\"x\":{\"field\":\"years\"}},\"id\":\"63342\",\"type\":\"VBar\"},{\"attributes\":{\"bottom\":{\"expr\":{\"id\":\"63338\",\"type\":\"Stack\"}},\"fill_alpha\":{\"value\":0.1},\"fill_color\":{\"value\":\"#1f77b4\"},\"line_alpha\":{\"value\":0.1},\"line_color\":{\"value\":\"#1f77b4\"},\"top\":{\"expr\":{\"id\":\"63339\",\"type\":\"Stack\"}},\"width\":{\"value\":0.9},\"x\":{\"field\":\"years\"}},\"id\":\"63372\",\"type\":\"VBar\"},{\"attributes\":{\"label\":{\"value\":\"geom\"},\"renderers\":[{\"id\":\"63344\",\"type\":\"GlyphRenderer\"}]},\"id\":\"63353\",\"type\":\"LegendItem\"},{\"attributes\":{\"data_source\":{\"id\":\"63369\",\"type\":\"ColumnDataSource\"},\"glyph\":{\"id\":\"63371\",\"type\":\"VBar\"},\"hover_glyph\":null,\"muted_glyph\":null,\"name\":\"bi\",\"nonselection_glyph\":{\"id\":\"63372\",\"type\":\"VBar\"},\"selection_glyph\":null,\"view\":{\"id\":\"63374\",\"type\":\"CDSView\"}},\"id\":\"63373\",\"type\":\"GlyphRenderer\"},{\"attributes\":{\"dimension\":1,\"plot\":{\"id\":\"63300\",\"subtype\":\"Figure\",\"type\":\"Plot\"},\"ticker\":{\"id\":\"63315\",\"type\":\"BasicTicker\"}},\"id\":\"63318\",\"type\":\"Grid\"},{\"attributes\":{\"bottom\":{\"expr\":{\"id\":\"63334\",\"type\":\"Stack\"}},\"fill_alpha\":{\"value\":0.1},\"fill_color\":{\"value\":\"#1f77b4\"},\"line_alpha\":{\"value\":0.1},\"line_color\":{\"value\":\"#1f77b4\"},\"top\":{\"expr\":{\"id\":\"63335\",\"type\":\"Stack\"}},\"width\":{\"value\":0.9},\"x\":{\"field\":\"years\"}},\"id\":\"63343\",\"type\":\"VBar\"},{\"attributes\":{\"source\":{\"id\":\"63369\",\"type\":\"ColumnDataSource\"}},\"id\":\"63374\",\"type\":\"CDSView\"},{\"attributes\":{\"data_source\":{\"id\":\"63340\",\"type\":\"ColumnDataSource\"},\"glyph\":{\"id\":\"63342\",\"type\":\"VBar\"},\"hover_glyph\":null,\"muted_glyph\":null,\"name\":\"geom\",\"nonselection_glyph\":{\"id\":\"63343\",\"type\":\"VBar\"},\"selection_glyph\":null,\"view\":{\"id\":\"63345\",\"type\":\"CDSView\"}},\"id\":\"63344\",\"type\":\"GlyphRenderer\"},{\"attributes\":{\"fields\":[\"geom\"]},\"id\":\"63335\",\"type\":\"Stack\"},{\"attributes\":{\"fields\":[]},\"id\":\"63334\",\"type\":\"Stack\"},{\"attributes\":{\"source\":{\"id\":\"63340\",\"type\":\"ColumnDataSource\"}},\"id\":\"63345\",\"type\":\"CDSView\"},{\"attributes\":{},\"id\":\"63383\",\"type\":\"Selection\"},{\"attributes\":{},\"id\":\"63384\",\"type\":\"UnionRenderers\"},{\"attributes\":{},\"id\":\"63347\",\"type\":\"BasicTickFormatter\"},{\"attributes\":{},\"id\":\"63319\",\"type\":\"PanTool\"},{\"attributes\":{\"label\":{\"value\":\"bi\"},\"renderers\":[{\"id\":\"63373\",\"type\":\"GlyphRenderer\"}]},\"id\":\"63385\",\"type\":\"LegendItem\"},{\"attributes\":{},\"id\":\"63349\",\"type\":\"CategoricalTickFormatter\"},{\"attributes\":{},\"id\":\"63320\",\"type\":\"WheelZoomTool\"},{\"attributes\":{},\"id\":\"63366\",\"type\":\"Selection\"},{\"attributes\":{},\"id\":\"64464\",\"type\":\"Selection\"}],\"root_ids\":[\"63300\"]},\"title\":\"Bokeh Application\",\"version\":\"1.0.0\"}};\n",
       "  var render_items = [{\"docid\":\"eab288f2-088e-4573-86f8-f6ec316af79b\",\"roots\":{\"63300\":\"8fa0849e-475f-41cb-9dbc-49b1de84b040\"}}];\n",
       "  root.Bokeh.embed.embed_items_notebook(docs_json, render_items);\n",
       "\n",
       "  }\n",
       "  if (root.Bokeh !== undefined) {\n",
       "    embed_document(root);\n",
       "  } else {\n",
       "    var attempts = 0;\n",
       "    var timer = setInterval(function(root) {\n",
       "      if (root.Bokeh !== undefined) {\n",
       "        embed_document(root);\n",
       "        clearInterval(timer);\n",
       "      }\n",
       "      attempts++;\n",
       "      if (attempts > 100) {\n",
       "        console.log(\"Bokeh: ERROR: Unable to run BokehJS code because BokehJS library is missing\");\n",
       "        clearInterval(timer);\n",
       "      }\n",
       "    }, 10, root)\n",
       "  }\n",
       "})(window);"
      ],
      "application/vnd.bokehjs_exec.v0+json": ""
     },
     "metadata": {
      "application/vnd.bokehjs_exec.v0+json": {
       "id": "63300"
      }
     },
     "output_type": "display_data"
    },
    {
     "data": {
      "text/html": [
       "\n",
       "\n",
       "\n",
       "\n",
       "\n",
       "\n",
       "  <div class=\"bk-root\" id=\"51fae5c4-c142-49a5-b5c4-0239f47241e5\"></div>\n"
      ]
     },
     "metadata": {},
     "output_type": "display_data"
    },
    {
     "data": {
      "application/javascript": [
       "(function(root) {\n",
       "  function embed_document(root) {\n",
       "    \n",
       "  var docs_json = {\"c03238c8-b4e8-4e35-820e-9ca4aa04209c\":{\"roots\":{\"references\":[{\"attributes\":{\"below\":[{\"id\":\"64549\",\"type\":\"CategoricalAxis\"}],\"left\":[{\"id\":\"64553\",\"type\":\"LinearAxis\"}],\"outline_line_color\":{\"value\":null},\"plot_height\":250,\"renderers\":[{\"id\":\"64549\",\"type\":\"CategoricalAxis\"},{\"id\":\"64552\",\"type\":\"Grid\"},{\"id\":\"64553\",\"type\":\"LinearAxis\"},{\"id\":\"64557\",\"type\":\"Grid\"},{\"id\":\"64566\",\"type\":\"BoxAnnotation\"},{\"id\":\"64591\",\"type\":\"Legend\"},{\"id\":\"64583\",\"type\":\"GlyphRenderer\"},{\"id\":\"64597\",\"type\":\"GlyphRenderer\"},{\"id\":\"64612\",\"type\":\"GlyphRenderer\"}],\"title\":{\"id\":\"64538\",\"type\":\"Title\"},\"toolbar\":{\"id\":\"64564\",\"type\":\"Toolbar\"},\"toolbar_location\":null,\"x_range\":{\"id\":\"64541\",\"type\":\"FactorRange\"},\"x_scale\":{\"id\":\"64545\",\"type\":\"CategoricalScale\"},\"y_range\":{\"id\":\"64543\",\"type\":\"DataRange1d\"},\"y_scale\":{\"id\":\"64547\",\"type\":\"LinearScale\"}},\"id\":\"64539\",\"subtype\":\"Figure\",\"type\":\"Plot\"},{\"attributes\":{\"callback\":null,\"data\":{\"bi\":[0,0,0,0,0],\"geom\":[0,0,107216,85388,0],\"no-geo\":[105302,96789,0,0,68654],\"years\":[\"2012\",\"2013\",\"2014\",\"2015\",\"2016\"]},\"selected\":{\"id\":\"64605\",\"type\":\"Selection\"},\"selection_policy\":{\"id\":\"64606\",\"type\":\"UnionRenderers\"}},\"id\":\"64579\",\"type\":\"ColumnDataSource\"},{\"attributes\":{\"fields\":[\"geom\"]},\"id\":\"64575\",\"type\":\"Stack\"},{\"attributes\":{},\"id\":\"64588\",\"type\":\"CategoricalTickFormatter\"},{\"attributes\":{},\"id\":\"65716\",\"type\":\"UnionRenderers\"},{\"attributes\":{\"source\":{\"id\":\"64579\",\"type\":\"ColumnDataSource\"}},\"id\":\"64584\",\"type\":\"CDSView\"},{\"attributes\":{\"callback\":null,\"data\":{\"bi\":[0,0,0,0,0],\"geom\":[0,0,107216,85388,0],\"no-geo\":[105302,96789,0,0,68654],\"years\":[\"2012\",\"2013\",\"2014\",\"2015\",\"2016\"]},\"selected\":{\"id\":\"65715\",\"type\":\"Selection\"},\"selection_policy\":{\"id\":\"65716\",\"type\":\"UnionRenderers\"}},\"id\":\"64608\",\"type\":\"ColumnDataSource\"},{\"attributes\":{\"fields\":[\"geom\"]},\"id\":\"64574\",\"type\":\"Stack\"},{\"attributes\":{},\"id\":\"64586\",\"type\":\"BasicTickFormatter\"},{\"attributes\":{\"fields\":[\"geom\",\"no-geo\"]},\"id\":\"64576\",\"type\":\"Stack\"},{\"attributes\":{},\"id\":\"64558\",\"type\":\"PanTool\"},{\"attributes\":{\"data_source\":{\"id\":\"64579\",\"type\":\"ColumnDataSource\"},\"glyph\":{\"id\":\"64581\",\"type\":\"VBar\"},\"hover_glyph\":null,\"muted_glyph\":null,\"name\":\"geom\",\"nonselection_glyph\":{\"id\":\"64582\",\"type\":\"VBar\"},\"selection_glyph\":null,\"view\":{\"id\":\"64584\",\"type\":\"CDSView\"}},\"id\":\"64583\",\"type\":\"GlyphRenderer\"},{\"attributes\":{\"data_source\":{\"id\":\"64593\",\"type\":\"ColumnDataSource\"},\"glyph\":{\"id\":\"64595\",\"type\":\"VBar\"},\"hover_glyph\":null,\"muted_glyph\":null,\"name\":\"no-geo\",\"nonselection_glyph\":{\"id\":\"64596\",\"type\":\"VBar\"},\"selection_glyph\":null,\"view\":{\"id\":\"64598\",\"type\":\"CDSView\"}},\"id\":\"64597\",\"type\":\"GlyphRenderer\"},{\"attributes\":{},\"id\":\"64561\",\"type\":\"SaveTool\"},{\"attributes\":{\"formatter\":{\"id\":\"64586\",\"type\":\"BasicTickFormatter\"},\"minor_tick_line_color\":{\"value\":null},\"plot\":{\"id\":\"64539\",\"subtype\":\"Figure\",\"type\":\"Plot\"},\"ticker\":{\"id\":\"64554\",\"type\":\"BasicTicker\"}},\"id\":\"64553\",\"type\":\"LinearAxis\"},{\"attributes\":{\"bottom\":{\"expr\":{\"id\":\"64575\",\"type\":\"Stack\"}},\"fill_alpha\":{\"value\":0.1},\"fill_color\":{\"value\":\"#1f77b4\"},\"line_alpha\":{\"value\":0.1},\"line_color\":{\"value\":\"#1f77b4\"},\"top\":{\"expr\":{\"id\":\"64576\",\"type\":\"Stack\"}},\"width\":{\"value\":0.9},\"x\":{\"field\":\"years\"}},\"id\":\"64596\",\"type\":\"VBar\"},{\"attributes\":{\"overlay\":{\"id\":\"64566\",\"type\":\"BoxAnnotation\"}},\"id\":\"64560\",\"type\":\"BoxZoomTool\"},{\"attributes\":{\"grid_line_color\":{\"value\":null},\"plot\":{\"id\":\"64539\",\"subtype\":\"Figure\",\"type\":\"Plot\"},\"ticker\":{\"id\":\"64550\",\"type\":\"CategoricalTicker\"}},\"id\":\"64552\",\"type\":\"Grid\"},{\"attributes\":{\"bottom\":{\"expr\":{\"id\":\"64575\",\"type\":\"Stack\"}},\"fill_color\":{\"value\":\"#e84d60\"},\"line_color\":{\"value\":\"#e84d60\"},\"top\":{\"expr\":{\"id\":\"64576\",\"type\":\"Stack\"}},\"width\":{\"value\":0.9},\"x\":{\"field\":\"years\"}},\"id\":\"64595\",\"type\":\"VBar\"},{\"attributes\":{},\"id\":\"64559\",\"type\":\"WheelZoomTool\"},{\"attributes\":{\"callback\":null,\"factors\":[\"2012\",\"2013\",\"2014\",\"2015\",\"2016\"],\"range_padding\":0.1},\"id\":\"64541\",\"type\":\"FactorRange\"},{\"attributes\":{\"label\":{\"value\":\"geom\"},\"renderers\":[{\"id\":\"64583\",\"type\":\"GlyphRenderer\"}]},\"id\":\"64592\",\"type\":\"LegendItem\"},{\"attributes\":{\"fields\":[\"geom\",\"no-geo\",\"bi\"]},\"id\":\"64578\",\"type\":\"Stack\"},{\"attributes\":{\"callback\":null,\"start\":0},\"id\":\"64543\",\"type\":\"DataRange1d\"},{\"attributes\":{\"callback\":null,\"data\":{\"bi\":[0,0,0,0,0],\"geom\":[0,0,107216,85388,0],\"no-geo\":[105302,96789,0,0,68654],\"years\":[\"2012\",\"2013\",\"2014\",\"2015\",\"2016\"]},\"selected\":{\"id\":\"64622\",\"type\":\"Selection\"},\"selection_policy\":{\"id\":\"64623\",\"type\":\"UnionRenderers\"}},\"id\":\"64593\",\"type\":\"ColumnDataSource\"},{\"attributes\":{\"fields\":[\"geom\",\"no-geo\"]},\"id\":\"64577\",\"type\":\"Stack\"},{\"attributes\":{},\"id\":\"64545\",\"type\":\"CategoricalScale\"},{\"attributes\":{},\"id\":\"64547\",\"type\":\"LinearScale\"},{\"attributes\":{\"data_source\":{\"id\":\"64608\",\"type\":\"ColumnDataSource\"},\"glyph\":{\"id\":\"64610\",\"type\":\"VBar\"},\"hover_glyph\":null,\"muted_glyph\":null,\"name\":\"bi\",\"nonselection_glyph\":{\"id\":\"64611\",\"type\":\"VBar\"},\"selection_glyph\":null,\"view\":{\"id\":\"64613\",\"type\":\"CDSView\"}},\"id\":\"64612\",\"type\":\"GlyphRenderer\"},{\"attributes\":{\"bottom_units\":\"screen\",\"fill_alpha\":{\"value\":0.5},\"fill_color\":{\"value\":\"lightgrey\"},\"left_units\":\"screen\",\"level\":\"overlay\",\"line_alpha\":{\"value\":1.0},\"line_color\":{\"value\":\"black\"},\"line_dash\":[4,4],\"line_width\":{\"value\":2},\"plot\":null,\"render_mode\":\"css\",\"right_units\":\"screen\",\"top_units\":\"screen\"},\"id\":\"64566\",\"type\":\"BoxAnnotation\"},{\"attributes\":{\"formatter\":{\"id\":\"64588\",\"type\":\"CategoricalTickFormatter\"},\"minor_tick_line_color\":{\"value\":null},\"plot\":{\"id\":\"64539\",\"subtype\":\"Figure\",\"type\":\"Plot\"},\"ticker\":{\"id\":\"64550\",\"type\":\"CategoricalTicker\"}},\"id\":\"64549\",\"type\":\"CategoricalAxis\"},{\"attributes\":{\"items\":[{\"id\":\"64592\",\"type\":\"LegendItem\"},{\"id\":\"64607\",\"type\":\"LegendItem\"},{\"id\":\"64624\",\"type\":\"LegendItem\"}],\"location\":\"top_left\",\"orientation\":\"horizontal\",\"plot\":{\"id\":\"64539\",\"subtype\":\"Figure\",\"type\":\"Plot\"}},\"id\":\"64591\",\"type\":\"Legend\"},{\"attributes\":{},\"id\":\"64554\",\"type\":\"BasicTicker\"},{\"attributes\":{\"active_drag\":\"auto\",\"active_inspect\":\"auto\",\"active_multi\":null,\"active_scroll\":\"auto\",\"active_tap\":\"auto\",\"tools\":[{\"id\":\"64558\",\"type\":\"PanTool\"},{\"id\":\"64559\",\"type\":\"WheelZoomTool\"},{\"id\":\"64560\",\"type\":\"BoxZoomTool\"},{\"id\":\"64561\",\"type\":\"SaveTool\"},{\"id\":\"64562\",\"type\":\"ResetTool\"},{\"id\":\"64563\",\"type\":\"HelpTool\"}]},\"id\":\"64564\",\"type\":\"Toolbar\"},{\"attributes\":{},\"id\":\"64623\",\"type\":\"UnionRenderers\"},{\"attributes\":{},\"id\":\"64550\",\"type\":\"CategoricalTicker\"},{\"attributes\":{\"source\":{\"id\":\"64608\",\"type\":\"ColumnDataSource\"}},\"id\":\"64613\",\"type\":\"CDSView\"},{\"attributes\":{},\"id\":\"64563\",\"type\":\"HelpTool\"},{\"attributes\":{\"bottom\":{\"expr\":{\"id\":\"64577\",\"type\":\"Stack\"}},\"fill_color\":{\"value\":\"#cccccc\"},\"line_color\":{\"value\":\"#cccccc\"},\"top\":{\"expr\":{\"id\":\"64578\",\"type\":\"Stack\"}},\"width\":{\"value\":0.9},\"x\":{\"field\":\"years\"}},\"id\":\"64610\",\"type\":\"VBar\"},{\"attributes\":{},\"id\":\"64622\",\"type\":\"Selection\"},{\"attributes\":{},\"id\":\"65715\",\"type\":\"Selection\"},{\"attributes\":{},\"id\":\"64562\",\"type\":\"ResetTool\"},{\"attributes\":{\"plot\":null,\"text\":\"RI\"},\"id\":\"64538\",\"type\":\"Title\"},{\"attributes\":{\"label\":{\"value\":\"no-geo\"},\"renderers\":[{\"id\":\"64597\",\"type\":\"GlyphRenderer\"}]},\"id\":\"64607\",\"type\":\"LegendItem\"},{\"attributes\":{},\"id\":\"64606\",\"type\":\"UnionRenderers\"},{\"attributes\":{\"bottom\":{\"expr\":{\"id\":\"64573\",\"type\":\"Stack\"}},\"fill_alpha\":{\"value\":0.1},\"fill_color\":{\"value\":\"#1f77b4\"},\"line_alpha\":{\"value\":0.1},\"line_color\":{\"value\":\"#1f77b4\"},\"top\":{\"expr\":{\"id\":\"64574\",\"type\":\"Stack\"}},\"width\":{\"value\":0.9},\"x\":{\"field\":\"years\"}},\"id\":\"64582\",\"type\":\"VBar\"},{\"attributes\":{\"dimension\":1,\"plot\":{\"id\":\"64539\",\"subtype\":\"Figure\",\"type\":\"Plot\"},\"ticker\":{\"id\":\"64554\",\"type\":\"BasicTicker\"}},\"id\":\"64557\",\"type\":\"Grid\"},{\"attributes\":{},\"id\":\"64605\",\"type\":\"Selection\"},{\"attributes\":{\"fields\":[]},\"id\":\"64573\",\"type\":\"Stack\"},{\"attributes\":{\"bottom\":{\"expr\":{\"id\":\"64573\",\"type\":\"Stack\"}},\"fill_color\":{\"value\":\"#5CC9F5\"},\"line_color\":{\"value\":\"#5CC9F5\"},\"top\":{\"expr\":{\"id\":\"64574\",\"type\":\"Stack\"}},\"width\":{\"value\":0.9},\"x\":{\"field\":\"years\"}},\"id\":\"64581\",\"type\":\"VBar\"},{\"attributes\":{\"source\":{\"id\":\"64593\",\"type\":\"ColumnDataSource\"}},\"id\":\"64598\",\"type\":\"CDSView\"},{\"attributes\":{\"bottom\":{\"expr\":{\"id\":\"64577\",\"type\":\"Stack\"}},\"fill_alpha\":{\"value\":0.1},\"fill_color\":{\"value\":\"#1f77b4\"},\"line_alpha\":{\"value\":0.1},\"line_color\":{\"value\":\"#1f77b4\"},\"top\":{\"expr\":{\"id\":\"64578\",\"type\":\"Stack\"}},\"width\":{\"value\":0.9},\"x\":{\"field\":\"years\"}},\"id\":\"64611\",\"type\":\"VBar\"},{\"attributes\":{\"label\":{\"value\":\"bi\"},\"renderers\":[{\"id\":\"64612\",\"type\":\"GlyphRenderer\"}]},\"id\":\"64624\",\"type\":\"LegendItem\"}],\"root_ids\":[\"64539\"]},\"title\":\"Bokeh Application\",\"version\":\"1.0.0\"}};\n",
       "  var render_items = [{\"docid\":\"c03238c8-b4e8-4e35-820e-9ca4aa04209c\",\"roots\":{\"64539\":\"51fae5c4-c142-49a5-b5c4-0239f47241e5\"}}];\n",
       "  root.Bokeh.embed.embed_items_notebook(docs_json, render_items);\n",
       "\n",
       "  }\n",
       "  if (root.Bokeh !== undefined) {\n",
       "    embed_document(root);\n",
       "  } else {\n",
       "    var attempts = 0;\n",
       "    var timer = setInterval(function(root) {\n",
       "      if (root.Bokeh !== undefined) {\n",
       "        embed_document(root);\n",
       "        clearInterval(timer);\n",
       "      }\n",
       "      attempts++;\n",
       "      if (attempts > 100) {\n",
       "        console.log(\"Bokeh: ERROR: Unable to run BokehJS code because BokehJS library is missing\");\n",
       "        clearInterval(timer);\n",
       "      }\n",
       "    }, 10, root)\n",
       "  }\n",
       "})(window);"
      ],
      "application/vnd.bokehjs_exec.v0+json": ""
     },
     "metadata": {
      "application/vnd.bokehjs_exec.v0+json": {
       "id": "64539"
      }
     },
     "output_type": "display_data"
    },
    {
     "data": {
      "text/html": [
       "\n",
       "\n",
       "\n",
       "\n",
       "\n",
       "\n",
       "  <div class=\"bk-root\" id=\"5e07b0e7-3d3a-4843-91c7-189c9602ec01\"></div>\n"
      ]
     },
     "metadata": {},
     "output_type": "display_data"
    },
    {
     "data": {
      "application/javascript": [
       "(function(root) {\n",
       "  function embed_document(root) {\n",
       "    \n",
       "  var docs_json = {\"55121fff-0c7a-4e1c-a31a-f491bd213ca5\":{\"roots\":{\"references\":[{\"attributes\":{\"below\":[{\"id\":\"65800\",\"type\":\"CategoricalAxis\"}],\"left\":[{\"id\":\"65804\",\"type\":\"LinearAxis\"}],\"outline_line_color\":{\"value\":null},\"plot_height\":250,\"renderers\":[{\"id\":\"65800\",\"type\":\"CategoricalAxis\"},{\"id\":\"65803\",\"type\":\"Grid\"},{\"id\":\"65804\",\"type\":\"LinearAxis\"},{\"id\":\"65808\",\"type\":\"Grid\"},{\"id\":\"65817\",\"type\":\"BoxAnnotation\"},{\"id\":\"65842\",\"type\":\"Legend\"},{\"id\":\"65834\",\"type\":\"GlyphRenderer\"},{\"id\":\"65848\",\"type\":\"GlyphRenderer\"},{\"id\":\"65863\",\"type\":\"GlyphRenderer\"}],\"title\":{\"id\":\"65789\",\"type\":\"Title\"},\"toolbar\":{\"id\":\"65815\",\"type\":\"Toolbar\"},\"toolbar_location\":null,\"x_range\":{\"id\":\"65792\",\"type\":\"FactorRange\"},\"x_scale\":{\"id\":\"65796\",\"type\":\"CategoricalScale\"},\"y_range\":{\"id\":\"65794\",\"type\":\"DataRange1d\"},\"y_scale\":{\"id\":\"65798\",\"type\":\"LinearScale\"}},\"id\":\"65790\",\"subtype\":\"Figure\",\"type\":\"Plot\"},{\"attributes\":{\"plot\":null,\"text\":\"SC\"},\"id\":\"65789\",\"type\":\"Title\"},{\"attributes\":{\"data_source\":{\"id\":\"65859\",\"type\":\"ColumnDataSource\"},\"glyph\":{\"id\":\"65861\",\"type\":\"VBar\"},\"hover_glyph\":null,\"muted_glyph\":null,\"name\":\"bi\",\"nonselection_glyph\":{\"id\":\"65862\",\"type\":\"VBar\"},\"selection_glyph\":null,\"view\":{\"id\":\"65864\",\"type\":\"CDSView\"}},\"id\":\"65863\",\"type\":\"GlyphRenderer\"},{\"attributes\":{\"bottom\":{\"expr\":{\"id\":\"65824\",\"type\":\"Stack\"}},\"fill_alpha\":{\"value\":0.1},\"fill_color\":{\"value\":\"#1f77b4\"},\"line_alpha\":{\"value\":0.1},\"line_color\":{\"value\":\"#1f77b4\"},\"top\":{\"expr\":{\"id\":\"65825\",\"type\":\"Stack\"}},\"width\":{\"value\":0.9},\"x\":{\"field\":\"years\"}},\"id\":\"65833\",\"type\":\"VBar\"},{\"attributes\":{\"source\":{\"id\":\"65859\",\"type\":\"ColumnDataSource\"}},\"id\":\"65864\",\"type\":\"CDSView\"},{\"attributes\":{\"data_source\":{\"id\":\"65830\",\"type\":\"ColumnDataSource\"},\"glyph\":{\"id\":\"65832\",\"type\":\"VBar\"},\"hover_glyph\":null,\"muted_glyph\":null,\"name\":\"geom\",\"nonselection_glyph\":{\"id\":\"65833\",\"type\":\"VBar\"},\"selection_glyph\":null,\"view\":{\"id\":\"65835\",\"type\":\"CDSView\"}},\"id\":\"65834\",\"type\":\"GlyphRenderer\"},{\"attributes\":{\"bottom\":{\"expr\":{\"id\":\"65824\",\"type\":\"Stack\"}},\"fill_color\":{\"value\":\"#5CC9F5\"},\"line_color\":{\"value\":\"#5CC9F5\"},\"top\":{\"expr\":{\"id\":\"65825\",\"type\":\"Stack\"}},\"width\":{\"value\":0.9},\"x\":{\"field\":\"years\"}},\"id\":\"65832\",\"type\":\"VBar\"},{\"attributes\":{},\"id\":\"65873\",\"type\":\"Selection\"},{\"attributes\":{\"source\":{\"id\":\"65830\",\"type\":\"ColumnDataSource\"}},\"id\":\"65835\",\"type\":\"CDSView\"},{\"attributes\":{\"label\":{\"value\":\"geom\"},\"renderers\":[{\"id\":\"65834\",\"type\":\"GlyphRenderer\"}]},\"id\":\"65843\",\"type\":\"LegendItem\"},{\"attributes\":{\"callback\":null,\"data\":{\"bi\":[34,0,0],\"geom\":[350485,364837,0],\"no-geo\":[0,2,410637],\"years\":[\"2014\",\"2015\",\"2016\"]},\"selected\":{\"id\":\"65873\",\"type\":\"Selection\"},\"selection_policy\":{\"id\":\"65874\",\"type\":\"UnionRenderers\"}},\"id\":\"65844\",\"type\":\"ColumnDataSource\"},{\"attributes\":{},\"id\":\"65874\",\"type\":\"UnionRenderers\"},{\"attributes\":{},\"id\":\"65856\",\"type\":\"Selection\"},{\"attributes\":{\"fields\":[\"geom\",\"no-geo\"]},\"id\":\"65828\",\"type\":\"Stack\"},{\"attributes\":{\"label\":{\"value\":\"bi\"},\"renderers\":[{\"id\":\"65863\",\"type\":\"GlyphRenderer\"}]},\"id\":\"65875\",\"type\":\"LegendItem\"},{\"attributes\":{},\"id\":\"65837\",\"type\":\"BasicTickFormatter\"},{\"attributes\":{\"callback\":null,\"data\":{\"bi\":[34,0,0],\"geom\":[350485,364837,0],\"no-geo\":[0,2,410637],\"years\":[\"2014\",\"2015\",\"2016\"]},\"selected\":{\"id\":\"65856\",\"type\":\"Selection\"},\"selection_policy\":{\"id\":\"65857\",\"type\":\"UnionRenderers\"}},\"id\":\"65830\",\"type\":\"ColumnDataSource\"},{\"attributes\":{},\"id\":\"66978\",\"type\":\"Selection\"},{\"attributes\":{},\"id\":\"65839\",\"type\":\"CategoricalTickFormatter\"},{\"attributes\":{},\"id\":\"66979\",\"type\":\"UnionRenderers\"},{\"attributes\":{},\"id\":\"65805\",\"type\":\"BasicTicker\"},{\"attributes\":{},\"id\":\"65812\",\"type\":\"SaveTool\"},{\"attributes\":{\"dimension\":1,\"plot\":{\"id\":\"65790\",\"subtype\":\"Figure\",\"type\":\"Plot\"},\"ticker\":{\"id\":\"65805\",\"type\":\"BasicTicker\"}},\"id\":\"65808\",\"type\":\"Grid\"},{\"attributes\":{\"fields\":[\"geom\",\"no-geo\",\"bi\"]},\"id\":\"65829\",\"type\":\"Stack\"},{\"attributes\":{\"bottom\":{\"expr\":{\"id\":\"65826\",\"type\":\"Stack\"}},\"fill_color\":{\"value\":\"#e84d60\"},\"line_color\":{\"value\":\"#e84d60\"},\"top\":{\"expr\":{\"id\":\"65827\",\"type\":\"Stack\"}},\"width\":{\"value\":0.9},\"x\":{\"field\":\"years\"}},\"id\":\"65846\",\"type\":\"VBar\"},{\"attributes\":{},\"id\":\"65798\",\"type\":\"LinearScale\"},{\"attributes\":{\"bottom\":{\"expr\":{\"id\":\"65826\",\"type\":\"Stack\"}},\"fill_alpha\":{\"value\":0.1},\"fill_color\":{\"value\":\"#1f77b4\"},\"line_alpha\":{\"value\":0.1},\"line_color\":{\"value\":\"#1f77b4\"},\"top\":{\"expr\":{\"id\":\"65827\",\"type\":\"Stack\"}},\"width\":{\"value\":0.9},\"x\":{\"field\":\"years\"}},\"id\":\"65847\",\"type\":\"VBar\"},{\"attributes\":{},\"id\":\"65809\",\"type\":\"PanTool\"},{\"attributes\":{\"data_source\":{\"id\":\"65844\",\"type\":\"ColumnDataSource\"},\"glyph\":{\"id\":\"65846\",\"type\":\"VBar\"},\"hover_glyph\":null,\"muted_glyph\":null,\"name\":\"no-geo\",\"nonselection_glyph\":{\"id\":\"65847\",\"type\":\"VBar\"},\"selection_glyph\":null,\"view\":{\"id\":\"65849\",\"type\":\"CDSView\"}},\"id\":\"65848\",\"type\":\"GlyphRenderer\"},{\"attributes\":{},\"id\":\"65796\",\"type\":\"CategoricalScale\"},{\"attributes\":{},\"id\":\"65810\",\"type\":\"WheelZoomTool\"},{\"attributes\":{\"overlay\":{\"id\":\"65817\",\"type\":\"BoxAnnotation\"}},\"id\":\"65811\",\"type\":\"BoxZoomTool\"},{\"attributes\":{\"source\":{\"id\":\"65844\",\"type\":\"ColumnDataSource\"}},\"id\":\"65849\",\"type\":\"CDSView\"},{\"attributes\":{\"fields\":[]},\"id\":\"65824\",\"type\":\"Stack\"},{\"attributes\":{\"formatter\":{\"id\":\"65839\",\"type\":\"CategoricalTickFormatter\"},\"minor_tick_line_color\":{\"value\":null},\"plot\":{\"id\":\"65790\",\"subtype\":\"Figure\",\"type\":\"Plot\"},\"ticker\":{\"id\":\"65801\",\"type\":\"CategoricalTicker\"}},\"id\":\"65800\",\"type\":\"CategoricalAxis\"},{\"attributes\":{\"fields\":[\"geom\"]},\"id\":\"65825\",\"type\":\"Stack\"},{\"attributes\":{},\"id\":\"65857\",\"type\":\"UnionRenderers\"},{\"attributes\":{},\"id\":\"65814\",\"type\":\"HelpTool\"},{\"attributes\":{},\"id\":\"65801\",\"type\":\"CategoricalTicker\"},{\"attributes\":{\"label\":{\"value\":\"no-geo\"},\"renderers\":[{\"id\":\"65848\",\"type\":\"GlyphRenderer\"}]},\"id\":\"65858\",\"type\":\"LegendItem\"},{\"attributes\":{\"grid_line_color\":{\"value\":null},\"plot\":{\"id\":\"65790\",\"subtype\":\"Figure\",\"type\":\"Plot\"},\"ticker\":{\"id\":\"65801\",\"type\":\"CategoricalTicker\"}},\"id\":\"65803\",\"type\":\"Grid\"},{\"attributes\":{},\"id\":\"65813\",\"type\":\"ResetTool\"},{\"attributes\":{\"callback\":null,\"data\":{\"bi\":[34,0,0],\"geom\":[350485,364837,0],\"no-geo\":[0,2,410637],\"years\":[\"2014\",\"2015\",\"2016\"]},\"selected\":{\"id\":\"66978\",\"type\":\"Selection\"},\"selection_policy\":{\"id\":\"66979\",\"type\":\"UnionRenderers\"}},\"id\":\"65859\",\"type\":\"ColumnDataSource\"},{\"attributes\":{\"active_drag\":\"auto\",\"active_inspect\":\"auto\",\"active_multi\":null,\"active_scroll\":\"auto\",\"active_tap\":\"auto\",\"tools\":[{\"id\":\"65809\",\"type\":\"PanTool\"},{\"id\":\"65810\",\"type\":\"WheelZoomTool\"},{\"id\":\"65811\",\"type\":\"BoxZoomTool\"},{\"id\":\"65812\",\"type\":\"SaveTool\"},{\"id\":\"65813\",\"type\":\"ResetTool\"},{\"id\":\"65814\",\"type\":\"HelpTool\"}]},\"id\":\"65815\",\"type\":\"Toolbar\"},{\"attributes\":{\"formatter\":{\"id\":\"65837\",\"type\":\"BasicTickFormatter\"},\"minor_tick_line_color\":{\"value\":null},\"plot\":{\"id\":\"65790\",\"subtype\":\"Figure\",\"type\":\"Plot\"},\"ticker\":{\"id\":\"65805\",\"type\":\"BasicTicker\"}},\"id\":\"65804\",\"type\":\"LinearAxis\"},{\"attributes\":{\"fields\":[\"geom\"]},\"id\":\"65826\",\"type\":\"Stack\"},{\"attributes\":{\"fields\":[\"geom\",\"no-geo\"]},\"id\":\"65827\",\"type\":\"Stack\"},{\"attributes\":{\"callback\":null,\"start\":0},\"id\":\"65794\",\"type\":\"DataRange1d\"},{\"attributes\":{\"bottom\":{\"expr\":{\"id\":\"65828\",\"type\":\"Stack\"}},\"fill_color\":{\"value\":\"#cccccc\"},\"line_color\":{\"value\":\"#cccccc\"},\"top\":{\"expr\":{\"id\":\"65829\",\"type\":\"Stack\"}},\"width\":{\"value\":0.9},\"x\":{\"field\":\"years\"}},\"id\":\"65861\",\"type\":\"VBar\"},{\"attributes\":{\"bottom_units\":\"screen\",\"fill_alpha\":{\"value\":0.5},\"fill_color\":{\"value\":\"lightgrey\"},\"left_units\":\"screen\",\"level\":\"overlay\",\"line_alpha\":{\"value\":1.0},\"line_color\":{\"value\":\"black\"},\"line_dash\":[4,4],\"line_width\":{\"value\":2},\"plot\":null,\"render_mode\":\"css\",\"right_units\":\"screen\",\"top_units\":\"screen\"},\"id\":\"65817\",\"type\":\"BoxAnnotation\"},{\"attributes\":{\"items\":[{\"id\":\"65843\",\"type\":\"LegendItem\"},{\"id\":\"65858\",\"type\":\"LegendItem\"},{\"id\":\"65875\",\"type\":\"LegendItem\"}],\"location\":\"top_left\",\"orientation\":\"horizontal\",\"plot\":{\"id\":\"65790\",\"subtype\":\"Figure\",\"type\":\"Plot\"}},\"id\":\"65842\",\"type\":\"Legend\"},{\"attributes\":{\"callback\":null,\"factors\":[\"2014\",\"2015\",\"2016\"],\"range_padding\":0.1},\"id\":\"65792\",\"type\":\"FactorRange\"},{\"attributes\":{\"bottom\":{\"expr\":{\"id\":\"65828\",\"type\":\"Stack\"}},\"fill_alpha\":{\"value\":0.1},\"fill_color\":{\"value\":\"#1f77b4\"},\"line_alpha\":{\"value\":0.1},\"line_color\":{\"value\":\"#1f77b4\"},\"top\":{\"expr\":{\"id\":\"65829\",\"type\":\"Stack\"}},\"width\":{\"value\":0.9},\"x\":{\"field\":\"years\"}},\"id\":\"65862\",\"type\":\"VBar\"}],\"root_ids\":[\"65790\"]},\"title\":\"Bokeh Application\",\"version\":\"1.0.0\"}};\n",
       "  var render_items = [{\"docid\":\"55121fff-0c7a-4e1c-a31a-f491bd213ca5\",\"roots\":{\"65790\":\"5e07b0e7-3d3a-4843-91c7-189c9602ec01\"}}];\n",
       "  root.Bokeh.embed.embed_items_notebook(docs_json, render_items);\n",
       "\n",
       "  }\n",
       "  if (root.Bokeh !== undefined) {\n",
       "    embed_document(root);\n",
       "  } else {\n",
       "    var attempts = 0;\n",
       "    var timer = setInterval(function(root) {\n",
       "      if (root.Bokeh !== undefined) {\n",
       "        embed_document(root);\n",
       "        clearInterval(timer);\n",
       "      }\n",
       "      attempts++;\n",
       "      if (attempts > 100) {\n",
       "        console.log(\"Bokeh: ERROR: Unable to run BokehJS code because BokehJS library is missing\");\n",
       "        clearInterval(timer);\n",
       "      }\n",
       "    }, 10, root)\n",
       "  }\n",
       "})(window);"
      ],
      "application/vnd.bokehjs_exec.v0+json": ""
     },
     "metadata": {
      "application/vnd.bokehjs_exec.v0+json": {
       "id": "65790"
      }
     },
     "output_type": "display_data"
    },
    {
     "data": {
      "text/html": [
       "\n",
       "\n",
       "\n",
       "\n",
       "\n",
       "\n",
       "  <div class=\"bk-root\" id=\"9fe94099-d0d7-43d8-9988-4008002d52b2\"></div>\n"
      ]
     },
     "metadata": {},
     "output_type": "display_data"
    },
    {
     "data": {
      "application/javascript": [
       "(function(root) {\n",
       "  function embed_document(root) {\n",
       "    \n",
       "  var docs_json = {\"df8337e6-18e2-4c2e-a021-85a221cd28ed\":{\"roots\":{\"references\":[{\"attributes\":{\"below\":[{\"id\":\"67063\",\"type\":\"CategoricalAxis\"}],\"left\":[{\"id\":\"67067\",\"type\":\"LinearAxis\"}],\"outline_line_color\":{\"value\":null},\"plot_height\":250,\"renderers\":[{\"id\":\"67063\",\"type\":\"CategoricalAxis\"},{\"id\":\"67066\",\"type\":\"Grid\"},{\"id\":\"67067\",\"type\":\"LinearAxis\"},{\"id\":\"67071\",\"type\":\"Grid\"},{\"id\":\"67080\",\"type\":\"BoxAnnotation\"},{\"id\":\"67105\",\"type\":\"Legend\"},{\"id\":\"67097\",\"type\":\"GlyphRenderer\"},{\"id\":\"67111\",\"type\":\"GlyphRenderer\"},{\"id\":\"67126\",\"type\":\"GlyphRenderer\"}],\"title\":{\"id\":\"67052\",\"type\":\"Title\"},\"toolbar\":{\"id\":\"67078\",\"type\":\"Toolbar\"},\"toolbar_location\":null,\"x_range\":{\"id\":\"67055\",\"type\":\"FactorRange\"},\"x_scale\":{\"id\":\"67059\",\"type\":\"CategoricalScale\"},\"y_range\":{\"id\":\"67057\",\"type\":\"DataRange1d\"},\"y_scale\":{\"id\":\"67061\",\"type\":\"LinearScale\"}},\"id\":\"67053\",\"subtype\":\"Figure\",\"type\":\"Plot\"},{\"attributes\":{\"formatter\":{\"id\":\"67102\",\"type\":\"CategoricalTickFormatter\"},\"minor_tick_line_color\":{\"value\":null},\"plot\":{\"id\":\"67053\",\"subtype\":\"Figure\",\"type\":\"Plot\"},\"ticker\":{\"id\":\"67064\",\"type\":\"CategoricalTicker\"}},\"id\":\"67063\",\"type\":\"CategoricalAxis\"},{\"attributes\":{\"data_source\":{\"id\":\"67107\",\"type\":\"ColumnDataSource\"},\"glyph\":{\"id\":\"67109\",\"type\":\"VBar\"},\"hover_glyph\":null,\"muted_glyph\":null,\"name\":\"no-geo\",\"nonselection_glyph\":{\"id\":\"67110\",\"type\":\"VBar\"},\"selection_glyph\":null,\"view\":{\"id\":\"67112\",\"type\":\"CDSView\"}},\"id\":\"67111\",\"type\":\"GlyphRenderer\"},{\"attributes\":{\"fields\":[\"geom\",\"no-geo\",\"bi\"]},\"id\":\"67092\",\"type\":\"Stack\"},{\"attributes\":{},\"id\":\"67064\",\"type\":\"CategoricalTicker\"},{\"attributes\":{\"source\":{\"id\":\"67107\",\"type\":\"ColumnDataSource\"}},\"id\":\"67112\",\"type\":\"CDSView\"},{\"attributes\":{\"callback\":null,\"data\":{\"bi\":[0,0,0,0,0],\"geom\":[4212,2394,33468,34326,0],\"no-geo\":[28590,29452,1,0,38095],\"years\":[\"2012\",\"2013\",\"2014\",\"2015\",\"2016\"]},\"selected\":{\"id\":\"67119\",\"type\":\"Selection\"},\"selection_policy\":{\"id\":\"67120\",\"type\":\"UnionRenderers\"}},\"id\":\"67093\",\"type\":\"ColumnDataSource\"},{\"attributes\":{\"grid_line_color\":{\"value\":null},\"plot\":{\"id\":\"67053\",\"subtype\":\"Figure\",\"type\":\"Plot\"},\"ticker\":{\"id\":\"67064\",\"type\":\"CategoricalTicker\"}},\"id\":\"67066\",\"type\":\"Grid\"},{\"attributes\":{},\"id\":\"67120\",\"type\":\"UnionRenderers\"},{\"attributes\":{\"formatter\":{\"id\":\"67100\",\"type\":\"BasicTickFormatter\"},\"minor_tick_line_color\":{\"value\":null},\"plot\":{\"id\":\"67053\",\"subtype\":\"Figure\",\"type\":\"Plot\"},\"ticker\":{\"id\":\"67068\",\"type\":\"BasicTicker\"}},\"id\":\"67067\",\"type\":\"LinearAxis\"},{\"attributes\":{\"bottom\":{\"expr\":{\"id\":\"67087\",\"type\":\"Stack\"}},\"fill_color\":{\"value\":\"#5CC9F5\"},\"line_color\":{\"value\":\"#5CC9F5\"},\"top\":{\"expr\":{\"id\":\"67088\",\"type\":\"Stack\"}},\"width\":{\"value\":0.9},\"x\":{\"field\":\"years\"}},\"id\":\"67095\",\"type\":\"VBar\"},{\"attributes\":{\"label\":{\"value\":\"no-geo\"},\"renderers\":[{\"id\":\"67111\",\"type\":\"GlyphRenderer\"}]},\"id\":\"67121\",\"type\":\"LegendItem\"},{\"attributes\":{},\"id\":\"67068\",\"type\":\"BasicTicker\"},{\"attributes\":{\"bottom\":{\"expr\":{\"id\":\"67087\",\"type\":\"Stack\"}},\"fill_alpha\":{\"value\":0.1},\"fill_color\":{\"value\":\"#1f77b4\"},\"line_alpha\":{\"value\":0.1},\"line_color\":{\"value\":\"#1f77b4\"},\"top\":{\"expr\":{\"id\":\"67088\",\"type\":\"Stack\"}},\"width\":{\"value\":0.9},\"x\":{\"field\":\"years\"}},\"id\":\"67096\",\"type\":\"VBar\"},{\"attributes\":{\"dimension\":1,\"plot\":{\"id\":\"67053\",\"subtype\":\"Figure\",\"type\":\"Plot\"},\"ticker\":{\"id\":\"67068\",\"type\":\"BasicTicker\"}},\"id\":\"67071\",\"type\":\"Grid\"},{\"attributes\":{\"bottom\":{\"expr\":{\"id\":\"67091\",\"type\":\"Stack\"}},\"fill_alpha\":{\"value\":0.1},\"fill_color\":{\"value\":\"#1f77b4\"},\"line_alpha\":{\"value\":0.1},\"line_color\":{\"value\":\"#1f77b4\"},\"top\":{\"expr\":{\"id\":\"67092\",\"type\":\"Stack\"}},\"width\":{\"value\":0.9},\"x\":{\"field\":\"years\"}},\"id\":\"67125\",\"type\":\"VBar\"},{\"attributes\":{\"data_source\":{\"id\":\"67093\",\"type\":\"ColumnDataSource\"},\"glyph\":{\"id\":\"67095\",\"type\":\"VBar\"},\"hover_glyph\":null,\"muted_glyph\":null,\"name\":\"geom\",\"nonselection_glyph\":{\"id\":\"67096\",\"type\":\"VBar\"},\"selection_glyph\":null,\"view\":{\"id\":\"67098\",\"type\":\"CDSView\"}},\"id\":\"67097\",\"type\":\"GlyphRenderer\"},{\"attributes\":{\"bottom\":{\"expr\":{\"id\":\"67091\",\"type\":\"Stack\"}},\"fill_color\":{\"value\":\"#cccccc\"},\"line_color\":{\"value\":\"#cccccc\"},\"top\":{\"expr\":{\"id\":\"67092\",\"type\":\"Stack\"}},\"width\":{\"value\":0.9},\"x\":{\"field\":\"years\"}},\"id\":\"67124\",\"type\":\"VBar\"},{\"attributes\":{\"data_source\":{\"id\":\"67122\",\"type\":\"ColumnDataSource\"},\"glyph\":{\"id\":\"67124\",\"type\":\"VBar\"},\"hover_glyph\":null,\"muted_glyph\":null,\"name\":\"bi\",\"nonselection_glyph\":{\"id\":\"67125\",\"type\":\"VBar\"},\"selection_glyph\":null,\"view\":{\"id\":\"67127\",\"type\":\"CDSView\"}},\"id\":\"67126\",\"type\":\"GlyphRenderer\"},{\"attributes\":{\"fields\":[\"geom\"]},\"id\":\"67089\",\"type\":\"Stack\"},{\"attributes\":{\"source\":{\"id\":\"67093\",\"type\":\"ColumnDataSource\"}},\"id\":\"67098\",\"type\":\"CDSView\"},{\"attributes\":{},\"id\":\"67061\",\"type\":\"LinearScale\"},{\"attributes\":{\"source\":{\"id\":\"67122\",\"type\":\"ColumnDataSource\"}},\"id\":\"67127\",\"type\":\"CDSView\"},{\"attributes\":{},\"id\":\"67100\",\"type\":\"BasicTickFormatter\"},{\"attributes\":{\"fields\":[\"geom\"]},\"id\":\"67088\",\"type\":\"Stack\"},{\"attributes\":{\"fields\":[\"geom\",\"no-geo\"]},\"id\":\"67090\",\"type\":\"Stack\"},{\"attributes\":{},\"id\":\"67136\",\"type\":\"Selection\"},{\"attributes\":{},\"id\":\"67102\",\"type\":\"CategoricalTickFormatter\"},{\"attributes\":{},\"id\":\"67072\",\"type\":\"PanTool\"},{\"attributes\":{\"callback\":null,\"start\":0},\"id\":\"67057\",\"type\":\"DataRange1d\"},{\"attributes\":{},\"id\":\"67137\",\"type\":\"UnionRenderers\"},{\"attributes\":{},\"id\":\"67059\",\"type\":\"CategoricalScale\"},{\"attributes\":{},\"id\":\"67119\",\"type\":\"Selection\"},{\"attributes\":{},\"id\":\"67073\",\"type\":\"WheelZoomTool\"},{\"attributes\":{\"items\":[{\"id\":\"67106\",\"type\":\"LegendItem\"},{\"id\":\"67121\",\"type\":\"LegendItem\"},{\"id\":\"67138\",\"type\":\"LegendItem\"}],\"location\":\"top_left\",\"orientation\":\"horizontal\",\"plot\":{\"id\":\"67053\",\"subtype\":\"Figure\",\"type\":\"Plot\"}},\"id\":\"67105\",\"type\":\"Legend\"},{\"attributes\":{\"label\":{\"value\":\"bi\"},\"renderers\":[{\"id\":\"67126\",\"type\":\"GlyphRenderer\"}]},\"id\":\"67138\",\"type\":\"LegendItem\"},{\"attributes\":{\"overlay\":{\"id\":\"67080\",\"type\":\"BoxAnnotation\"}},\"id\":\"67074\",\"type\":\"BoxZoomTool\"},{\"attributes\":{},\"id\":\"68253\",\"type\":\"Selection\"},{\"attributes\":{},\"id\":\"67075\",\"type\":\"SaveTool\"},{\"attributes\":{\"label\":{\"value\":\"geom\"},\"renderers\":[{\"id\":\"67097\",\"type\":\"GlyphRenderer\"}]},\"id\":\"67106\",\"type\":\"LegendItem\"},{\"attributes\":{},\"id\":\"68254\",\"type\":\"UnionRenderers\"},{\"attributes\":{},\"id\":\"67076\",\"type\":\"ResetTool\"},{\"attributes\":{\"callback\":null,\"data\":{\"bi\":[0,0,0,0,0],\"geom\":[4212,2394,33468,34326,0],\"no-geo\":[28590,29452,1,0,38095],\"years\":[\"2012\",\"2013\",\"2014\",\"2015\",\"2016\"]},\"selected\":{\"id\":\"67136\",\"type\":\"Selection\"},\"selection_policy\":{\"id\":\"67137\",\"type\":\"UnionRenderers\"}},\"id\":\"67107\",\"type\":\"ColumnDataSource\"},{\"attributes\":{\"callback\":null,\"data\":{\"bi\":[0,0,0,0,0],\"geom\":[4212,2394,33468,34326,0],\"no-geo\":[28590,29452,1,0,38095],\"years\":[\"2012\",\"2013\",\"2014\",\"2015\",\"2016\"]},\"selected\":{\"id\":\"68253\",\"type\":\"Selection\"},\"selection_policy\":{\"id\":\"68254\",\"type\":\"UnionRenderers\"}},\"id\":\"67122\",\"type\":\"ColumnDataSource\"},{\"attributes\":{},\"id\":\"67077\",\"type\":\"HelpTool\"},{\"attributes\":{\"fields\":[]},\"id\":\"67087\",\"type\":\"Stack\"},{\"attributes\":{\"active_drag\":\"auto\",\"active_inspect\":\"auto\",\"active_multi\":null,\"active_scroll\":\"auto\",\"active_tap\":\"auto\",\"tools\":[{\"id\":\"67072\",\"type\":\"PanTool\"},{\"id\":\"67073\",\"type\":\"WheelZoomTool\"},{\"id\":\"67074\",\"type\":\"BoxZoomTool\"},{\"id\":\"67075\",\"type\":\"SaveTool\"},{\"id\":\"67076\",\"type\":\"ResetTool\"},{\"id\":\"67077\",\"type\":\"HelpTool\"}]},\"id\":\"67078\",\"type\":\"Toolbar\"},{\"attributes\":{\"plot\":null,\"text\":\"SD\"},\"id\":\"67052\",\"type\":\"Title\"},{\"attributes\":{\"bottom\":{\"expr\":{\"id\":\"67089\",\"type\":\"Stack\"}},\"fill_color\":{\"value\":\"#e84d60\"},\"line_color\":{\"value\":\"#e84d60\"},\"top\":{\"expr\":{\"id\":\"67090\",\"type\":\"Stack\"}},\"width\":{\"value\":0.9},\"x\":{\"field\":\"years\"}},\"id\":\"67109\",\"type\":\"VBar\"},{\"attributes\":{\"bottom_units\":\"screen\",\"fill_alpha\":{\"value\":0.5},\"fill_color\":{\"value\":\"lightgrey\"},\"left_units\":\"screen\",\"level\":\"overlay\",\"line_alpha\":{\"value\":1.0},\"line_color\":{\"value\":\"black\"},\"line_dash\":[4,4],\"line_width\":{\"value\":2},\"plot\":null,\"render_mode\":\"css\",\"right_units\":\"screen\",\"top_units\":\"screen\"},\"id\":\"67080\",\"type\":\"BoxAnnotation\"},{\"attributes\":{\"bottom\":{\"expr\":{\"id\":\"67089\",\"type\":\"Stack\"}},\"fill_alpha\":{\"value\":0.1},\"fill_color\":{\"value\":\"#1f77b4\"},\"line_alpha\":{\"value\":0.1},\"line_color\":{\"value\":\"#1f77b4\"},\"top\":{\"expr\":{\"id\":\"67090\",\"type\":\"Stack\"}},\"width\":{\"value\":0.9},\"x\":{\"field\":\"years\"}},\"id\":\"67110\",\"type\":\"VBar\"},{\"attributes\":{\"callback\":null,\"factors\":[\"2012\",\"2013\",\"2014\",\"2015\",\"2016\"],\"range_padding\":0.1},\"id\":\"67055\",\"type\":\"FactorRange\"},{\"attributes\":{\"fields\":[\"geom\",\"no-geo\"]},\"id\":\"67091\",\"type\":\"Stack\"}],\"root_ids\":[\"67053\"]},\"title\":\"Bokeh Application\",\"version\":\"1.0.0\"}};\n",
       "  var render_items = [{\"docid\":\"df8337e6-18e2-4c2e-a021-85a221cd28ed\",\"roots\":{\"67053\":\"9fe94099-d0d7-43d8-9988-4008002d52b2\"}}];\n",
       "  root.Bokeh.embed.embed_items_notebook(docs_json, render_items);\n",
       "\n",
       "  }\n",
       "  if (root.Bokeh !== undefined) {\n",
       "    embed_document(root);\n",
       "  } else {\n",
       "    var attempts = 0;\n",
       "    var timer = setInterval(function(root) {\n",
       "      if (root.Bokeh !== undefined) {\n",
       "        embed_document(root);\n",
       "        clearInterval(timer);\n",
       "      }\n",
       "      attempts++;\n",
       "      if (attempts > 100) {\n",
       "        console.log(\"Bokeh: ERROR: Unable to run BokehJS code because BokehJS library is missing\");\n",
       "        clearInterval(timer);\n",
       "      }\n",
       "    }, 10, root)\n",
       "  }\n",
       "})(window);"
      ],
      "application/vnd.bokehjs_exec.v0+json": ""
     },
     "metadata": {
      "application/vnd.bokehjs_exec.v0+json": {
       "id": "67053"
      }
     },
     "output_type": "display_data"
    },
    {
     "data": {
      "text/html": [
       "\n",
       "\n",
       "\n",
       "\n",
       "\n",
       "\n",
       "  <div class=\"bk-root\" id=\"baad83d3-6618-4d92-8a8f-94e7ac2f3172\"></div>\n"
      ]
     },
     "metadata": {},
     "output_type": "display_data"
    },
    {
     "data": {
      "application/javascript": [
       "(function(root) {\n",
       "  function embed_document(root) {\n",
       "    \n",
       "  var docs_json = {\"be313996-14d8-44b8-aa8f-39d50789aa80\":{\"roots\":{\"references\":[{\"attributes\":{\"below\":[{\"id\":\"68338\",\"type\":\"CategoricalAxis\"}],\"left\":[{\"id\":\"68342\",\"type\":\"LinearAxis\"}],\"outline_line_color\":{\"value\":null},\"plot_height\":250,\"renderers\":[{\"id\":\"68338\",\"type\":\"CategoricalAxis\"},{\"id\":\"68341\",\"type\":\"Grid\"},{\"id\":\"68342\",\"type\":\"LinearAxis\"},{\"id\":\"68346\",\"type\":\"Grid\"},{\"id\":\"68355\",\"type\":\"BoxAnnotation\"},{\"id\":\"68380\",\"type\":\"Legend\"},{\"id\":\"68372\",\"type\":\"GlyphRenderer\"},{\"id\":\"68386\",\"type\":\"GlyphRenderer\"},{\"id\":\"68401\",\"type\":\"GlyphRenderer\"}],\"title\":{\"id\":\"68327\",\"type\":\"Title\"},\"toolbar\":{\"id\":\"68353\",\"type\":\"Toolbar\"},\"toolbar_location\":null,\"x_range\":{\"id\":\"68330\",\"type\":\"FactorRange\"},\"x_scale\":{\"id\":\"68334\",\"type\":\"CategoricalScale\"},\"y_range\":{\"id\":\"68332\",\"type\":\"DataRange1d\"},\"y_scale\":{\"id\":\"68336\",\"type\":\"LinearScale\"}},\"id\":\"68328\",\"subtype\":\"Figure\",\"type\":\"Plot\"},{\"attributes\":{},\"id\":\"68343\",\"type\":\"BasicTicker\"},{\"attributes\":{},\"id\":\"69541\",\"type\":\"UnionRenderers\"},{\"attributes\":{\"overlay\":{\"id\":\"68355\",\"type\":\"BoxAnnotation\"}},\"id\":\"68349\",\"type\":\"BoxZoomTool\"},{\"attributes\":{},\"id\":\"68350\",\"type\":\"SaveTool\"},{\"attributes\":{},\"id\":\"68334\",\"type\":\"CategoricalScale\"},{\"attributes\":{\"bottom\":{\"expr\":{\"id\":\"68364\",\"type\":\"Stack\"}},\"fill_color\":{\"value\":\"#e84d60\"},\"line_color\":{\"value\":\"#e84d60\"},\"top\":{\"expr\":{\"id\":\"68365\",\"type\":\"Stack\"}},\"width\":{\"value\":0.9},\"x\":{\"field\":\"years\"}},\"id\":\"68384\",\"type\":\"VBar\"},{\"attributes\":{},\"id\":\"68351\",\"type\":\"ResetTool\"},{\"attributes\":{\"bottom\":{\"expr\":{\"id\":\"68364\",\"type\":\"Stack\"}},\"fill_alpha\":{\"value\":0.1},\"fill_color\":{\"value\":\"#1f77b4\"},\"line_alpha\":{\"value\":0.1},\"line_color\":{\"value\":\"#1f77b4\"},\"top\":{\"expr\":{\"id\":\"68365\",\"type\":\"Stack\"}},\"width\":{\"value\":0.9},\"x\":{\"field\":\"years\"}},\"id\":\"68385\",\"type\":\"VBar\"},{\"attributes\":{},\"id\":\"68352\",\"type\":\"HelpTool\"},{\"attributes\":{\"data_source\":{\"id\":\"68382\",\"type\":\"ColumnDataSource\"},\"glyph\":{\"id\":\"68384\",\"type\":\"VBar\"},\"hover_glyph\":null,\"muted_glyph\":null,\"name\":\"no-geo\",\"nonselection_glyph\":{\"id\":\"68385\",\"type\":\"VBar\"},\"selection_glyph\":null,\"view\":{\"id\":\"68387\",\"type\":\"CDSView\"}},\"id\":\"68386\",\"type\":\"GlyphRenderer\"},{\"attributes\":{\"callback\":null,\"start\":0},\"id\":\"68332\",\"type\":\"DataRange1d\"},{\"attributes\":{\"fields\":[]},\"id\":\"68362\",\"type\":\"Stack\"},{\"attributes\":{\"active_drag\":\"auto\",\"active_inspect\":\"auto\",\"active_multi\":null,\"active_scroll\":\"auto\",\"active_tap\":\"auto\",\"tools\":[{\"id\":\"68347\",\"type\":\"PanTool\"},{\"id\":\"68348\",\"type\":\"WheelZoomTool\"},{\"id\":\"68349\",\"type\":\"BoxZoomTool\"},{\"id\":\"68350\",\"type\":\"SaveTool\"},{\"id\":\"68351\",\"type\":\"ResetTool\"},{\"id\":\"68352\",\"type\":\"HelpTool\"}]},\"id\":\"68353\",\"type\":\"Toolbar\"},{\"attributes\":{\"source\":{\"id\":\"68382\",\"type\":\"ColumnDataSource\"}},\"id\":\"68387\",\"type\":\"CDSView\"},{\"attributes\":{\"fields\":[\"geom\",\"no-geo\"]},\"id\":\"68365\",\"type\":\"Stack\"},{\"attributes\":{},\"id\":\"68394\",\"type\":\"Selection\"},{\"attributes\":{\"bottom_units\":\"screen\",\"fill_alpha\":{\"value\":0.5},\"fill_color\":{\"value\":\"lightgrey\"},\"left_units\":\"screen\",\"level\":\"overlay\",\"line_alpha\":{\"value\":1.0},\"line_color\":{\"value\":\"black\"},\"line_dash\":[4,4],\"line_width\":{\"value\":2},\"plot\":null,\"render_mode\":\"css\",\"right_units\":\"screen\",\"top_units\":\"screen\"},\"id\":\"68355\",\"type\":\"BoxAnnotation\"},{\"attributes\":{\"formatter\":{\"id\":\"68377\",\"type\":\"CategoricalTickFormatter\"},\"minor_tick_line_color\":{\"value\":null},\"plot\":{\"id\":\"68328\",\"subtype\":\"Figure\",\"type\":\"Plot\"},\"ticker\":{\"id\":\"68339\",\"type\":\"CategoricalTicker\"}},\"id\":\"68338\",\"type\":\"CategoricalAxis\"},{\"attributes\":{},\"id\":\"68339\",\"type\":\"CategoricalTicker\"},{\"attributes\":{},\"id\":\"68395\",\"type\":\"UnionRenderers\"},{\"attributes\":{\"grid_line_color\":{\"value\":null},\"plot\":{\"id\":\"68328\",\"subtype\":\"Figure\",\"type\":\"Plot\"},\"ticker\":{\"id\":\"68339\",\"type\":\"CategoricalTicker\"}},\"id\":\"68341\",\"type\":\"Grid\"},{\"attributes\":{\"fields\":[\"geom\",\"no-geo\"]},\"id\":\"68366\",\"type\":\"Stack\"},{\"attributes\":{\"label\":{\"value\":\"no-geo\"},\"renderers\":[{\"id\":\"68386\",\"type\":\"GlyphRenderer\"}]},\"id\":\"68396\",\"type\":\"LegendItem\"},{\"attributes\":{},\"id\":\"68348\",\"type\":\"WheelZoomTool\"},{\"attributes\":{\"callback\":null,\"factors\":[\"2012\",\"2013\",\"2014\",\"2015\",\"2016\"],\"range_padding\":0.1},\"id\":\"68330\",\"type\":\"FactorRange\"},{\"attributes\":{\"fields\":[\"geom\",\"no-geo\",\"bi\"]},\"id\":\"68367\",\"type\":\"Stack\"},{\"attributes\":{\"callback\":null,\"data\":{\"bi\":[0,0,10,14,0],\"geom\":[347454,337821,403579,443347,0],\"no-geo\":[22529,24054,4,4,476090],\"years\":[\"2012\",\"2013\",\"2014\",\"2015\",\"2016\"]},\"selected\":{\"id\":\"69540\",\"type\":\"Selection\"},\"selection_policy\":{\"id\":\"69541\",\"type\":\"UnionRenderers\"}},\"id\":\"68397\",\"type\":\"ColumnDataSource\"},{\"attributes\":{\"callback\":null,\"data\":{\"bi\":[0,0,10,14,0],\"geom\":[347454,337821,403579,443347,0],\"no-geo\":[22529,24054,4,4,476090],\"years\":[\"2012\",\"2013\",\"2014\",\"2015\",\"2016\"]},\"selected\":{\"id\":\"68394\",\"type\":\"Selection\"},\"selection_policy\":{\"id\":\"68395\",\"type\":\"UnionRenderers\"}},\"id\":\"68368\",\"type\":\"ColumnDataSource\"},{\"attributes\":{\"bottom\":{\"expr\":{\"id\":\"68366\",\"type\":\"Stack\"}},\"fill_color\":{\"value\":\"#cccccc\"},\"line_color\":{\"value\":\"#cccccc\"},\"top\":{\"expr\":{\"id\":\"68367\",\"type\":\"Stack\"}},\"width\":{\"value\":0.9},\"x\":{\"field\":\"years\"}},\"id\":\"68399\",\"type\":\"VBar\"},{\"attributes\":{\"callback\":null,\"data\":{\"bi\":[0,0,10,14,0],\"geom\":[347454,337821,403579,443347,0],\"no-geo\":[22529,24054,4,4,476090],\"years\":[\"2012\",\"2013\",\"2014\",\"2015\",\"2016\"]},\"selected\":{\"id\":\"68411\",\"type\":\"Selection\"},\"selection_policy\":{\"id\":\"68412\",\"type\":\"UnionRenderers\"}},\"id\":\"68382\",\"type\":\"ColumnDataSource\"},{\"attributes\":{},\"id\":\"68347\",\"type\":\"PanTool\"},{\"attributes\":{\"bottom\":{\"expr\":{\"id\":\"68362\",\"type\":\"Stack\"}},\"fill_color\":{\"value\":\"#5CC9F5\"},\"line_color\":{\"value\":\"#5CC9F5\"},\"top\":{\"expr\":{\"id\":\"68363\",\"type\":\"Stack\"}},\"width\":{\"value\":0.9},\"x\":{\"field\":\"years\"}},\"id\":\"68370\",\"type\":\"VBar\"},{\"attributes\":{\"plot\":null,\"text\":\"TN\"},\"id\":\"68327\",\"type\":\"Title\"},{\"attributes\":{\"bottom\":{\"expr\":{\"id\":\"68366\",\"type\":\"Stack\"}},\"fill_alpha\":{\"value\":0.1},\"fill_color\":{\"value\":\"#1f77b4\"},\"line_alpha\":{\"value\":0.1},\"line_color\":{\"value\":\"#1f77b4\"},\"top\":{\"expr\":{\"id\":\"68367\",\"type\":\"Stack\"}},\"width\":{\"value\":0.9},\"x\":{\"field\":\"years\"}},\"id\":\"68400\",\"type\":\"VBar\"},{\"attributes\":{\"bottom\":{\"expr\":{\"id\":\"68362\",\"type\":\"Stack\"}},\"fill_alpha\":{\"value\":0.1},\"fill_color\":{\"value\":\"#1f77b4\"},\"line_alpha\":{\"value\":0.1},\"line_color\":{\"value\":\"#1f77b4\"},\"top\":{\"expr\":{\"id\":\"68363\",\"type\":\"Stack\"}},\"width\":{\"value\":0.9},\"x\":{\"field\":\"years\"}},\"id\":\"68371\",\"type\":\"VBar\"},{\"attributes\":{\"data_source\":{\"id\":\"68397\",\"type\":\"ColumnDataSource\"},\"glyph\":{\"id\":\"68399\",\"type\":\"VBar\"},\"hover_glyph\":null,\"muted_glyph\":null,\"name\":\"bi\",\"nonselection_glyph\":{\"id\":\"68400\",\"type\":\"VBar\"},\"selection_glyph\":null,\"view\":{\"id\":\"68402\",\"type\":\"CDSView\"}},\"id\":\"68401\",\"type\":\"GlyphRenderer\"},{\"attributes\":{\"data_source\":{\"id\":\"68368\",\"type\":\"ColumnDataSource\"},\"glyph\":{\"id\":\"68370\",\"type\":\"VBar\"},\"hover_glyph\":null,\"muted_glyph\":null,\"name\":\"geom\",\"nonselection_glyph\":{\"id\":\"68371\",\"type\":\"VBar\"},\"selection_glyph\":null,\"view\":{\"id\":\"68373\",\"type\":\"CDSView\"}},\"id\":\"68372\",\"type\":\"GlyphRenderer\"},{\"attributes\":{\"source\":{\"id\":\"68397\",\"type\":\"ColumnDataSource\"}},\"id\":\"68402\",\"type\":\"CDSView\"},{\"attributes\":{\"items\":[{\"id\":\"68381\",\"type\":\"LegendItem\"},{\"id\":\"68396\",\"type\":\"LegendItem\"},{\"id\":\"68413\",\"type\":\"LegendItem\"}],\"location\":\"top_left\",\"orientation\":\"horizontal\",\"plot\":{\"id\":\"68328\",\"subtype\":\"Figure\",\"type\":\"Plot\"}},\"id\":\"68380\",\"type\":\"Legend\"},{\"attributes\":{\"dimension\":1,\"plot\":{\"id\":\"68328\",\"subtype\":\"Figure\",\"type\":\"Plot\"},\"ticker\":{\"id\":\"68343\",\"type\":\"BasicTicker\"}},\"id\":\"68346\",\"type\":\"Grid\"},{\"attributes\":{\"source\":{\"id\":\"68368\",\"type\":\"ColumnDataSource\"}},\"id\":\"68373\",\"type\":\"CDSView\"},{\"attributes\":{\"label\":{\"value\":\"geom\"},\"renderers\":[{\"id\":\"68372\",\"type\":\"GlyphRenderer\"}]},\"id\":\"68381\",\"type\":\"LegendItem\"},{\"attributes\":{\"fields\":[\"geom\"]},\"id\":\"68364\",\"type\":\"Stack\"},{\"attributes\":{},\"id\":\"68411\",\"type\":\"Selection\"},{\"attributes\":{},\"id\":\"68375\",\"type\":\"BasicTickFormatter\"},{\"attributes\":{},\"id\":\"68412\",\"type\":\"UnionRenderers\"},{\"attributes\":{\"fields\":[\"geom\"]},\"id\":\"68363\",\"type\":\"Stack\"},{\"attributes\":{},\"id\":\"68377\",\"type\":\"CategoricalTickFormatter\"},{\"attributes\":{\"label\":{\"value\":\"bi\"},\"renderers\":[{\"id\":\"68401\",\"type\":\"GlyphRenderer\"}]},\"id\":\"68413\",\"type\":\"LegendItem\"},{\"attributes\":{\"formatter\":{\"id\":\"68375\",\"type\":\"BasicTickFormatter\"},\"minor_tick_line_color\":{\"value\":null},\"plot\":{\"id\":\"68328\",\"subtype\":\"Figure\",\"type\":\"Plot\"},\"ticker\":{\"id\":\"68343\",\"type\":\"BasicTicker\"}},\"id\":\"68342\",\"type\":\"LinearAxis\"},{\"attributes\":{},\"id\":\"69540\",\"type\":\"Selection\"},{\"attributes\":{},\"id\":\"68336\",\"type\":\"LinearScale\"}],\"root_ids\":[\"68328\"]},\"title\":\"Bokeh Application\",\"version\":\"1.0.0\"}};\n",
       "  var render_items = [{\"docid\":\"be313996-14d8-44b8-aa8f-39d50789aa80\",\"roots\":{\"68328\":\"baad83d3-6618-4d92-8a8f-94e7ac2f3172\"}}];\n",
       "  root.Bokeh.embed.embed_items_notebook(docs_json, render_items);\n",
       "\n",
       "  }\n",
       "  if (root.Bokeh !== undefined) {\n",
       "    embed_document(root);\n",
       "  } else {\n",
       "    var attempts = 0;\n",
       "    var timer = setInterval(function(root) {\n",
       "      if (root.Bokeh !== undefined) {\n",
       "        embed_document(root);\n",
       "        clearInterval(timer);\n",
       "      }\n",
       "      attempts++;\n",
       "      if (attempts > 100) {\n",
       "        console.log(\"Bokeh: ERROR: Unable to run BokehJS code because BokehJS library is missing\");\n",
       "        clearInterval(timer);\n",
       "      }\n",
       "    }, 10, root)\n",
       "  }\n",
       "})(window);"
      ],
      "application/vnd.bokehjs_exec.v0+json": ""
     },
     "metadata": {
      "application/vnd.bokehjs_exec.v0+json": {
       "id": "68328"
      }
     },
     "output_type": "display_data"
    },
    {
     "data": {
      "text/html": [
       "\n",
       "\n",
       "\n",
       "\n",
       "\n",
       "\n",
       "  <div class=\"bk-root\" id=\"67dade5f-cf84-4c50-b84f-d76022e683c8\"></div>\n"
      ]
     },
     "metadata": {},
     "output_type": "display_data"
    },
    {
     "data": {
      "application/javascript": [
       "(function(root) {\n",
       "  function embed_document(root) {\n",
       "    \n",
       "  var docs_json = {\"cd483cbd-0ae0-4bbc-aa3d-b6ea8ec78c84\":{\"roots\":{\"references\":[{\"attributes\":{\"below\":[{\"id\":\"69625\",\"type\":\"CategoricalAxis\"}],\"left\":[{\"id\":\"69629\",\"type\":\"LinearAxis\"}],\"outline_line_color\":{\"value\":null},\"plot_height\":250,\"renderers\":[{\"id\":\"69625\",\"type\":\"CategoricalAxis\"},{\"id\":\"69628\",\"type\":\"Grid\"},{\"id\":\"69629\",\"type\":\"LinearAxis\"},{\"id\":\"69633\",\"type\":\"Grid\"},{\"id\":\"69642\",\"type\":\"BoxAnnotation\"},{\"id\":\"69667\",\"type\":\"Legend\"},{\"id\":\"69659\",\"type\":\"GlyphRenderer\"},{\"id\":\"69673\",\"type\":\"GlyphRenderer\"},{\"id\":\"69688\",\"type\":\"GlyphRenderer\"}],\"title\":{\"id\":\"69614\",\"type\":\"Title\"},\"toolbar\":{\"id\":\"69640\",\"type\":\"Toolbar\"},\"toolbar_location\":null,\"x_range\":{\"id\":\"69617\",\"type\":\"FactorRange\"},\"x_scale\":{\"id\":\"69621\",\"type\":\"CategoricalScale\"},\"y_range\":{\"id\":\"69619\",\"type\":\"DataRange1d\"},\"y_scale\":{\"id\":\"69623\",\"type\":\"LinearScale\"}},\"id\":\"69615\",\"subtype\":\"Figure\",\"type\":\"Plot\"},{\"attributes\":{\"plot\":null,\"text\":\"TX\"},\"id\":\"69614\",\"type\":\"Title\"},{\"attributes\":{\"data_source\":{\"id\":\"69684\",\"type\":\"ColumnDataSource\"},\"glyph\":{\"id\":\"69686\",\"type\":\"VBar\"},\"hover_glyph\":null,\"muted_glyph\":null,\"name\":\"bi\",\"nonselection_glyph\":{\"id\":\"69687\",\"type\":\"VBar\"},\"selection_glyph\":null,\"view\":{\"id\":\"69689\",\"type\":\"CDSView\"}},\"id\":\"69688\",\"type\":\"GlyphRenderer\"},{\"attributes\":{\"source\":{\"id\":\"69655\",\"type\":\"ColumnDataSource\"}},\"id\":\"69660\",\"type\":\"CDSView\"},{\"attributes\":{\"source\":{\"id\":\"69684\",\"type\":\"ColumnDataSource\"}},\"id\":\"69689\",\"type\":\"CDSView\"},{\"attributes\":{},\"id\":\"69662\",\"type\":\"BasicTickFormatter\"},{\"attributes\":{},\"id\":\"69698\",\"type\":\"Selection\"},{\"attributes\":{},\"id\":\"69681\",\"type\":\"Selection\"},{\"attributes\":{\"fields\":[\"geom\",\"no-geo\",\"bi\"]},\"id\":\"69654\",\"type\":\"Stack\"},{\"attributes\":{},\"id\":\"69699\",\"type\":\"UnionRenderers\"},{\"attributes\":{\"label\":{\"value\":\"bi\"},\"renderers\":[{\"id\":\"69688\",\"type\":\"GlyphRenderer\"}]},\"id\":\"69700\",\"type\":\"LegendItem\"},{\"attributes\":{},\"id\":\"69664\",\"type\":\"CategoricalTickFormatter\"},{\"attributes\":{\"bottom\":{\"expr\":{\"id\":\"69649\",\"type\":\"Stack\"}},\"fill_alpha\":{\"value\":0.1},\"fill_color\":{\"value\":\"#1f77b4\"},\"line_alpha\":{\"value\":0.1},\"line_color\":{\"value\":\"#1f77b4\"},\"top\":{\"expr\":{\"id\":\"69650\",\"type\":\"Stack\"}},\"width\":{\"value\":0.9},\"x\":{\"field\":\"years\"}},\"id\":\"69658\",\"type\":\"VBar\"},{\"attributes\":{\"fields\":[]},\"id\":\"69649\",\"type\":\"Stack\"},{\"attributes\":{},\"id\":\"70839\",\"type\":\"Selection\"},{\"attributes\":{\"items\":[{\"id\":\"69668\",\"type\":\"LegendItem\"},{\"id\":\"69683\",\"type\":\"LegendItem\"},{\"id\":\"69700\",\"type\":\"LegendItem\"}],\"location\":\"top_left\",\"orientation\":\"horizontal\",\"plot\":{\"id\":\"69615\",\"subtype\":\"Figure\",\"type\":\"Plot\"}},\"id\":\"69667\",\"type\":\"Legend\"},{\"attributes\":{},\"id\":\"69635\",\"type\":\"WheelZoomTool\"},{\"attributes\":{},\"id\":\"70840\",\"type\":\"UnionRenderers\"},{\"attributes\":{\"label\":{\"value\":\"geom\"},\"renderers\":[{\"id\":\"69659\",\"type\":\"GlyphRenderer\"}]},\"id\":\"69668\",\"type\":\"LegendItem\"},{\"attributes\":{\"fields\":[\"geom\"]},\"id\":\"69650\",\"type\":\"Stack\"},{\"attributes\":{\"overlay\":{\"id\":\"69642\",\"type\":\"BoxAnnotation\"}},\"id\":\"69636\",\"type\":\"BoxZoomTool\"},{\"attributes\":{\"callback\":null,\"data\":{\"bi\":[0,0,4,22,0],\"geom\":[1780614,1837789,1932500,2073853,0],\"no-geo\":[7,11,7,5,2160059],\"years\":[\"2012\",\"2013\",\"2014\",\"2015\",\"2016\"]},\"selected\":{\"id\":\"69698\",\"type\":\"Selection\"},\"selection_policy\":{\"id\":\"69699\",\"type\":\"UnionRenderers\"}},\"id\":\"69669\",\"type\":\"ColumnDataSource\"},{\"attributes\":{},\"id\":\"69634\",\"type\":\"PanTool\"},{\"attributes\":{\"fields\":[\"geom\"]},\"id\":\"69651\",\"type\":\"Stack\"},{\"attributes\":{\"formatter\":{\"id\":\"69664\",\"type\":\"CategoricalTickFormatter\"},\"minor_tick_line_color\":{\"value\":null},\"plot\":{\"id\":\"69615\",\"subtype\":\"Figure\",\"type\":\"Plot\"},\"ticker\":{\"id\":\"69626\",\"type\":\"CategoricalTicker\"}},\"id\":\"69625\",\"type\":\"CategoricalAxis\"},{\"attributes\":{\"fields\":[\"geom\",\"no-geo\"]},\"id\":\"69653\",\"type\":\"Stack\"},{\"attributes\":{},\"id\":\"69626\",\"type\":\"CategoricalTicker\"},{\"attributes\":{\"fields\":[\"geom\",\"no-geo\"]},\"id\":\"69652\",\"type\":\"Stack\"},{\"attributes\":{\"grid_line_color\":{\"value\":null},\"plot\":{\"id\":\"69615\",\"subtype\":\"Figure\",\"type\":\"Plot\"},\"ticker\":{\"id\":\"69626\",\"type\":\"CategoricalTicker\"}},\"id\":\"69628\",\"type\":\"Grid\"},{\"attributes\":{\"bottom\":{\"expr\":{\"id\":\"69653\",\"type\":\"Stack\"}},\"fill_alpha\":{\"value\":0.1},\"fill_color\":{\"value\":\"#1f77b4\"},\"line_alpha\":{\"value\":0.1},\"line_color\":{\"value\":\"#1f77b4\"},\"top\":{\"expr\":{\"id\":\"69654\",\"type\":\"Stack\"}},\"width\":{\"value\":0.9},\"x\":{\"field\":\"years\"}},\"id\":\"69687\",\"type\":\"VBar\"},{\"attributes\":{\"bottom_units\":\"screen\",\"fill_alpha\":{\"value\":0.5},\"fill_color\":{\"value\":\"lightgrey\"},\"left_units\":\"screen\",\"level\":\"overlay\",\"line_alpha\":{\"value\":1.0},\"line_color\":{\"value\":\"black\"},\"line_dash\":[4,4],\"line_width\":{\"value\":2},\"plot\":null,\"render_mode\":\"css\",\"right_units\":\"screen\",\"top_units\":\"screen\"},\"id\":\"69642\",\"type\":\"BoxAnnotation\"},{\"attributes\":{\"bottom\":{\"expr\":{\"id\":\"69651\",\"type\":\"Stack\"}},\"fill_color\":{\"value\":\"#e84d60\"},\"line_color\":{\"value\":\"#e84d60\"},\"top\":{\"expr\":{\"id\":\"69652\",\"type\":\"Stack\"}},\"width\":{\"value\":0.9},\"x\":{\"field\":\"years\"}},\"id\":\"69671\",\"type\":\"VBar\"},{\"attributes\":{\"active_drag\":\"auto\",\"active_inspect\":\"auto\",\"active_multi\":null,\"active_scroll\":\"auto\",\"active_tap\":\"auto\",\"tools\":[{\"id\":\"69634\",\"type\":\"PanTool\"},{\"id\":\"69635\",\"type\":\"WheelZoomTool\"},{\"id\":\"69636\",\"type\":\"BoxZoomTool\"},{\"id\":\"69637\",\"type\":\"SaveTool\"},{\"id\":\"69638\",\"type\":\"ResetTool\"},{\"id\":\"69639\",\"type\":\"HelpTool\"}]},\"id\":\"69640\",\"type\":\"Toolbar\"},{\"attributes\":{\"formatter\":{\"id\":\"69662\",\"type\":\"BasicTickFormatter\"},\"minor_tick_line_color\":{\"value\":null},\"plot\":{\"id\":\"69615\",\"subtype\":\"Figure\",\"type\":\"Plot\"},\"ticker\":{\"id\":\"69630\",\"type\":\"BasicTicker\"}},\"id\":\"69629\",\"type\":\"LinearAxis\"},{\"attributes\":{\"bottom\":{\"expr\":{\"id\":\"69651\",\"type\":\"Stack\"}},\"fill_alpha\":{\"value\":0.1},\"fill_color\":{\"value\":\"#1f77b4\"},\"line_alpha\":{\"value\":0.1},\"line_color\":{\"value\":\"#1f77b4\"},\"top\":{\"expr\":{\"id\":\"69652\",\"type\":\"Stack\"}},\"width\":{\"value\":0.9},\"x\":{\"field\":\"years\"}},\"id\":\"69672\",\"type\":\"VBar\"},{\"attributes\":{},\"id\":\"69630\",\"type\":\"BasicTicker\"},{\"attributes\":{},\"id\":\"69639\",\"type\":\"HelpTool\"},{\"attributes\":{\"data_source\":{\"id\":\"69669\",\"type\":\"ColumnDataSource\"},\"glyph\":{\"id\":\"69671\",\"type\":\"VBar\"},\"hover_glyph\":null,\"muted_glyph\":null,\"name\":\"no-geo\",\"nonselection_glyph\":{\"id\":\"69672\",\"type\":\"VBar\"},\"selection_glyph\":null,\"view\":{\"id\":\"69674\",\"type\":\"CDSView\"}},\"id\":\"69673\",\"type\":\"GlyphRenderer\"},{\"attributes\":{\"dimension\":1,\"plot\":{\"id\":\"69615\",\"subtype\":\"Figure\",\"type\":\"Plot\"},\"ticker\":{\"id\":\"69630\",\"type\":\"BasicTicker\"}},\"id\":\"69633\",\"type\":\"Grid\"},{\"attributes\":{},\"id\":\"69638\",\"type\":\"ResetTool\"},{\"attributes\":{\"source\":{\"id\":\"69669\",\"type\":\"ColumnDataSource\"}},\"id\":\"69674\",\"type\":\"CDSView\"},{\"attributes\":{},\"id\":\"69623\",\"type\":\"LinearScale\"},{\"attributes\":{},\"id\":\"69637\",\"type\":\"SaveTool\"},{\"attributes\":{},\"id\":\"69621\",\"type\":\"CategoricalScale\"},{\"attributes\":{\"bottom\":{\"expr\":{\"id\":\"69649\",\"type\":\"Stack\"}},\"fill_color\":{\"value\":\"#5CC9F5\"},\"line_color\":{\"value\":\"#5CC9F5\"},\"top\":{\"expr\":{\"id\":\"69650\",\"type\":\"Stack\"}},\"width\":{\"value\":0.9},\"x\":{\"field\":\"years\"}},\"id\":\"69657\",\"type\":\"VBar\"},{\"attributes\":{},\"id\":\"69682\",\"type\":\"UnionRenderers\"},{\"attributes\":{\"callback\":null,\"start\":0},\"id\":\"69619\",\"type\":\"DataRange1d\"},{\"attributes\":{\"data_source\":{\"id\":\"69655\",\"type\":\"ColumnDataSource\"},\"glyph\":{\"id\":\"69657\",\"type\":\"VBar\"},\"hover_glyph\":null,\"muted_glyph\":null,\"name\":\"geom\",\"nonselection_glyph\":{\"id\":\"69658\",\"type\":\"VBar\"},\"selection_glyph\":null,\"view\":{\"id\":\"69660\",\"type\":\"CDSView\"}},\"id\":\"69659\",\"type\":\"GlyphRenderer\"},{\"attributes\":{\"label\":{\"value\":\"no-geo\"},\"renderers\":[{\"id\":\"69673\",\"type\":\"GlyphRenderer\"}]},\"id\":\"69683\",\"type\":\"LegendItem\"},{\"attributes\":{\"callback\":null,\"data\":{\"bi\":[0,0,4,22,0],\"geom\":[1780614,1837789,1932500,2073853,0],\"no-geo\":[7,11,7,5,2160059],\"years\":[\"2012\",\"2013\",\"2014\",\"2015\",\"2016\"]},\"selected\":{\"id\":\"70839\",\"type\":\"Selection\"},\"selection_policy\":{\"id\":\"70840\",\"type\":\"UnionRenderers\"}},\"id\":\"69684\",\"type\":\"ColumnDataSource\"},{\"attributes\":{\"callback\":null,\"factors\":[\"2012\",\"2013\",\"2014\",\"2015\",\"2016\"],\"range_padding\":0.1},\"id\":\"69617\",\"type\":\"FactorRange\"},{\"attributes\":{\"callback\":null,\"data\":{\"bi\":[0,0,4,22,0],\"geom\":[1780614,1837789,1932500,2073853,0],\"no-geo\":[7,11,7,5,2160059],\"years\":[\"2012\",\"2013\",\"2014\",\"2015\",\"2016\"]},\"selected\":{\"id\":\"69681\",\"type\":\"Selection\"},\"selection_policy\":{\"id\":\"69682\",\"type\":\"UnionRenderers\"}},\"id\":\"69655\",\"type\":\"ColumnDataSource\"},{\"attributes\":{\"bottom\":{\"expr\":{\"id\":\"69653\",\"type\":\"Stack\"}},\"fill_color\":{\"value\":\"#cccccc\"},\"line_color\":{\"value\":\"#cccccc\"},\"top\":{\"expr\":{\"id\":\"69654\",\"type\":\"Stack\"}},\"width\":{\"value\":0.9},\"x\":{\"field\":\"years\"}},\"id\":\"69686\",\"type\":\"VBar\"}],\"root_ids\":[\"69615\"]},\"title\":\"Bokeh Application\",\"version\":\"1.0.0\"}};\n",
       "  var render_items = [{\"docid\":\"cd483cbd-0ae0-4bbc-aa3d-b6ea8ec78c84\",\"roots\":{\"69615\":\"67dade5f-cf84-4c50-b84f-d76022e683c8\"}}];\n",
       "  root.Bokeh.embed.embed_items_notebook(docs_json, render_items);\n",
       "\n",
       "  }\n",
       "  if (root.Bokeh !== undefined) {\n",
       "    embed_document(root);\n",
       "  } else {\n",
       "    var attempts = 0;\n",
       "    var timer = setInterval(function(root) {\n",
       "      if (root.Bokeh !== undefined) {\n",
       "        embed_document(root);\n",
       "        clearInterval(timer);\n",
       "      }\n",
       "      attempts++;\n",
       "      if (attempts > 100) {\n",
       "        console.log(\"Bokeh: ERROR: Unable to run BokehJS code because BokehJS library is missing\");\n",
       "        clearInterval(timer);\n",
       "      }\n",
       "    }, 10, root)\n",
       "  }\n",
       "})(window);"
      ],
      "application/vnd.bokehjs_exec.v0+json": ""
     },
     "metadata": {
      "application/vnd.bokehjs_exec.v0+json": {
       "id": "69615"
      }
     },
     "output_type": "display_data"
    },
    {
     "data": {
      "text/html": [
       "\n",
       "\n",
       "\n",
       "\n",
       "\n",
       "\n",
       "  <div class=\"bk-root\" id=\"0d50b9d1-f713-49e9-bbac-141c6f8ed996\"></div>\n"
      ]
     },
     "metadata": {},
     "output_type": "display_data"
    },
    {
     "data": {
      "application/javascript": [
       "(function(root) {\n",
       "  function embed_document(root) {\n",
       "    \n",
       "  var docs_json = {\"983f97cc-a207-48ac-a5f3-4963e57693a4\":{\"roots\":{\"references\":[{\"attributes\":{\"below\":[{\"id\":\"70924\",\"type\":\"CategoricalAxis\"}],\"left\":[{\"id\":\"70928\",\"type\":\"LinearAxis\"}],\"outline_line_color\":{\"value\":null},\"plot_height\":250,\"renderers\":[{\"id\":\"70924\",\"type\":\"CategoricalAxis\"},{\"id\":\"70927\",\"type\":\"Grid\"},{\"id\":\"70928\",\"type\":\"LinearAxis\"},{\"id\":\"70932\",\"type\":\"Grid\"},{\"id\":\"70941\",\"type\":\"BoxAnnotation\"},{\"id\":\"70966\",\"type\":\"Legend\"},{\"id\":\"70958\",\"type\":\"GlyphRenderer\"},{\"id\":\"70972\",\"type\":\"GlyphRenderer\"},{\"id\":\"70987\",\"type\":\"GlyphRenderer\"}],\"title\":{\"id\":\"70913\",\"type\":\"Title\"},\"toolbar\":{\"id\":\"70939\",\"type\":\"Toolbar\"},\"toolbar_location\":null,\"x_range\":{\"id\":\"70916\",\"type\":\"FactorRange\"},\"x_scale\":{\"id\":\"70920\",\"type\":\"CategoricalScale\"},\"y_range\":{\"id\":\"70918\",\"type\":\"DataRange1d\"},\"y_scale\":{\"id\":\"70922\",\"type\":\"LinearScale\"}},\"id\":\"70914\",\"subtype\":\"Figure\",\"type\":\"Plot\"},{\"attributes\":{\"bottom_units\":\"screen\",\"fill_alpha\":{\"value\":0.5},\"fill_color\":{\"value\":\"lightgrey\"},\"left_units\":\"screen\",\"level\":\"overlay\",\"line_alpha\":{\"value\":1.0},\"line_color\":{\"value\":\"black\"},\"line_dash\":[4,4],\"line_width\":{\"value\":2},\"plot\":null,\"render_mode\":\"css\",\"right_units\":\"screen\",\"top_units\":\"screen\"},\"id\":\"70941\",\"type\":\"BoxAnnotation\"},{\"attributes\":{},\"id\":\"70920\",\"type\":\"CategoricalScale\"},{\"attributes\":{},\"id\":\"70980\",\"type\":\"Selection\"},{\"attributes\":{\"callback\":null,\"start\":0},\"id\":\"70918\",\"type\":\"DataRange1d\"},{\"attributes\":{},\"id\":\"70922\",\"type\":\"LinearScale\"},{\"attributes\":{},\"id\":\"70981\",\"type\":\"UnionRenderers\"},{\"attributes\":{\"fields\":[\"geom\",\"no-geo\"]},\"id\":\"70952\",\"type\":\"Stack\"},{\"attributes\":{\"items\":[{\"id\":\"70967\",\"type\":\"LegendItem\"},{\"id\":\"70982\",\"type\":\"LegendItem\"},{\"id\":\"70999\",\"type\":\"LegendItem\"}],\"location\":\"top_left\",\"orientation\":\"horizontal\",\"plot\":{\"id\":\"70914\",\"subtype\":\"Figure\",\"type\":\"Plot\"}},\"id\":\"70966\",\"type\":\"Legend\"},{\"attributes\":{\"formatter\":{\"id\":\"70963\",\"type\":\"CategoricalTickFormatter\"},\"minor_tick_line_color\":{\"value\":null},\"plot\":{\"id\":\"70914\",\"subtype\":\"Figure\",\"type\":\"Plot\"},\"ticker\":{\"id\":\"70925\",\"type\":\"CategoricalTicker\"}},\"id\":\"70924\",\"type\":\"CategoricalAxis\"},{\"attributes\":{\"label\":{\"value\":\"no-geo\"},\"renderers\":[{\"id\":\"70972\",\"type\":\"GlyphRenderer\"}]},\"id\":\"70982\",\"type\":\"LegendItem\"},{\"attributes\":{\"fields\":[\"geom\",\"no-geo\",\"bi\"]},\"id\":\"70953\",\"type\":\"Stack\"},{\"attributes\":{},\"id\":\"70925\",\"type\":\"CategoricalTicker\"},{\"attributes\":{\"callback\":null,\"data\":{\"bi\":[0,0,0,4,0],\"geom\":[89527,99388,131206,137940,0],\"no-geo\":[2563,2042,0,0,150684],\"years\":[\"2012\",\"2013\",\"2014\",\"2015\",\"2016\"]},\"selected\":{\"id\":\"72150\",\"type\":\"Selection\"},\"selection_policy\":{\"id\":\"72151\",\"type\":\"UnionRenderers\"}},\"id\":\"70983\",\"type\":\"ColumnDataSource\"},{\"attributes\":{\"callback\":null,\"data\":{\"bi\":[0,0,0,4,0],\"geom\":[89527,99388,131206,137940,0],\"no-geo\":[2563,2042,0,0,150684],\"years\":[\"2012\",\"2013\",\"2014\",\"2015\",\"2016\"]},\"selected\":{\"id\":\"70980\",\"type\":\"Selection\"},\"selection_policy\":{\"id\":\"70981\",\"type\":\"UnionRenderers\"}},\"id\":\"70954\",\"type\":\"ColumnDataSource\"},{\"attributes\":{\"grid_line_color\":{\"value\":null},\"plot\":{\"id\":\"70914\",\"subtype\":\"Figure\",\"type\":\"Plot\"},\"ticker\":{\"id\":\"70925\",\"type\":\"CategoricalTicker\"}},\"id\":\"70927\",\"type\":\"Grid\"},{\"attributes\":{\"bottom\":{\"expr\":{\"id\":\"70948\",\"type\":\"Stack\"}},\"fill_color\":{\"value\":\"#5CC9F5\"},\"line_color\":{\"value\":\"#5CC9F5\"},\"top\":{\"expr\":{\"id\":\"70949\",\"type\":\"Stack\"}},\"width\":{\"value\":0.9},\"x\":{\"field\":\"years\"}},\"id\":\"70956\",\"type\":\"VBar\"},{\"attributes\":{\"formatter\":{\"id\":\"70961\",\"type\":\"BasicTickFormatter\"},\"minor_tick_line_color\":{\"value\":null},\"plot\":{\"id\":\"70914\",\"subtype\":\"Figure\",\"type\":\"Plot\"},\"ticker\":{\"id\":\"70929\",\"type\":\"BasicTicker\"}},\"id\":\"70928\",\"type\":\"LinearAxis\"},{\"attributes\":{\"bottom\":{\"expr\":{\"id\":\"70952\",\"type\":\"Stack\"}},\"fill_color\":{\"value\":\"#cccccc\"},\"line_color\":{\"value\":\"#cccccc\"},\"top\":{\"expr\":{\"id\":\"70953\",\"type\":\"Stack\"}},\"width\":{\"value\":0.9},\"x\":{\"field\":\"years\"}},\"id\":\"70985\",\"type\":\"VBar\"},{\"attributes\":{\"bottom\":{\"expr\":{\"id\":\"70948\",\"type\":\"Stack\"}},\"fill_alpha\":{\"value\":0.1},\"fill_color\":{\"value\":\"#1f77b4\"},\"line_alpha\":{\"value\":0.1},\"line_color\":{\"value\":\"#1f77b4\"},\"top\":{\"expr\":{\"id\":\"70949\",\"type\":\"Stack\"}},\"width\":{\"value\":0.9},\"x\":{\"field\":\"years\"}},\"id\":\"70957\",\"type\":\"VBar\"},{\"attributes\":{},\"id\":\"70929\",\"type\":\"BasicTicker\"},{\"attributes\":{\"bottom\":{\"expr\":{\"id\":\"70952\",\"type\":\"Stack\"}},\"fill_alpha\":{\"value\":0.1},\"fill_color\":{\"value\":\"#1f77b4\"},\"line_alpha\":{\"value\":0.1},\"line_color\":{\"value\":\"#1f77b4\"},\"top\":{\"expr\":{\"id\":\"70953\",\"type\":\"Stack\"}},\"width\":{\"value\":0.9},\"x\":{\"field\":\"years\"}},\"id\":\"70986\",\"type\":\"VBar\"},{\"attributes\":{\"data_source\":{\"id\":\"70954\",\"type\":\"ColumnDataSource\"},\"glyph\":{\"id\":\"70956\",\"type\":\"VBar\"},\"hover_glyph\":null,\"muted_glyph\":null,\"name\":\"geom\",\"nonselection_glyph\":{\"id\":\"70957\",\"type\":\"VBar\"},\"selection_glyph\":null,\"view\":{\"id\":\"70959\",\"type\":\"CDSView\"}},\"id\":\"70958\",\"type\":\"GlyphRenderer\"},{\"attributes\":{\"dimension\":1,\"plot\":{\"id\":\"70914\",\"subtype\":\"Figure\",\"type\":\"Plot\"},\"ticker\":{\"id\":\"70929\",\"type\":\"BasicTicker\"}},\"id\":\"70932\",\"type\":\"Grid\"},{\"attributes\":{\"data_source\":{\"id\":\"70983\",\"type\":\"ColumnDataSource\"},\"glyph\":{\"id\":\"70985\",\"type\":\"VBar\"},\"hover_glyph\":null,\"muted_glyph\":null,\"name\":\"bi\",\"nonselection_glyph\":{\"id\":\"70986\",\"type\":\"VBar\"},\"selection_glyph\":null,\"view\":{\"id\":\"70988\",\"type\":\"CDSView\"}},\"id\":\"70987\",\"type\":\"GlyphRenderer\"},{\"attributes\":{\"callback\":null,\"data\":{\"bi\":[0,0,0,4,0],\"geom\":[89527,99388,131206,137940,0],\"no-geo\":[2563,2042,0,0,150684],\"years\":[\"2012\",\"2013\",\"2014\",\"2015\",\"2016\"]},\"selected\":{\"id\":\"70997\",\"type\":\"Selection\"},\"selection_policy\":{\"id\":\"70998\",\"type\":\"UnionRenderers\"}},\"id\":\"70968\",\"type\":\"ColumnDataSource\"},{\"attributes\":{\"source\":{\"id\":\"70954\",\"type\":\"ColumnDataSource\"}},\"id\":\"70959\",\"type\":\"CDSView\"},{\"attributes\":{\"source\":{\"id\":\"70983\",\"type\":\"ColumnDataSource\"}},\"id\":\"70988\",\"type\":\"CDSView\"},{\"attributes\":{\"fields\":[\"geom\"]},\"id\":\"70950\",\"type\":\"Stack\"},{\"attributes\":{},\"id\":\"72150\",\"type\":\"Selection\"},{\"attributes\":{\"fields\":[\"geom\"]},\"id\":\"70949\",\"type\":\"Stack\"},{\"attributes\":{},\"id\":\"70997\",\"type\":\"Selection\"},{\"attributes\":{},\"id\":\"70998\",\"type\":\"UnionRenderers\"},{\"attributes\":{\"fields\":[]},\"id\":\"70948\",\"type\":\"Stack\"},{\"attributes\":{\"fields\":[\"geom\",\"no-geo\"]},\"id\":\"70951\",\"type\":\"Stack\"},{\"attributes\":{},\"id\":\"70933\",\"type\":\"PanTool\"},{\"attributes\":{},\"id\":\"70961\",\"type\":\"BasicTickFormatter\"},{\"attributes\":{\"label\":{\"value\":\"bi\"},\"renderers\":[{\"id\":\"70987\",\"type\":\"GlyphRenderer\"}]},\"id\":\"70999\",\"type\":\"LegendItem\"},{\"attributes\":{\"callback\":null,\"factors\":[\"2012\",\"2013\",\"2014\",\"2015\",\"2016\"],\"range_padding\":0.1},\"id\":\"70916\",\"type\":\"FactorRange\"},{\"attributes\":{},\"id\":\"70934\",\"type\":\"WheelZoomTool\"},{\"attributes\":{},\"id\":\"70963\",\"type\":\"CategoricalTickFormatter\"},{\"attributes\":{\"label\":{\"value\":\"geom\"},\"renderers\":[{\"id\":\"70958\",\"type\":\"GlyphRenderer\"}]},\"id\":\"70967\",\"type\":\"LegendItem\"},{\"attributes\":{},\"id\":\"72151\",\"type\":\"UnionRenderers\"},{\"attributes\":{\"overlay\":{\"id\":\"70941\",\"type\":\"BoxAnnotation\"}},\"id\":\"70935\",\"type\":\"BoxZoomTool\"},{\"attributes\":{\"plot\":null,\"text\":\"UT\"},\"id\":\"70913\",\"type\":\"Title\"},{\"attributes\":{},\"id\":\"70936\",\"type\":\"SaveTool\"},{\"attributes\":{\"bottom\":{\"expr\":{\"id\":\"70950\",\"type\":\"Stack\"}},\"fill_color\":{\"value\":\"#e84d60\"},\"line_color\":{\"value\":\"#e84d60\"},\"top\":{\"expr\":{\"id\":\"70951\",\"type\":\"Stack\"}},\"width\":{\"value\":0.9},\"x\":{\"field\":\"years\"}},\"id\":\"70970\",\"type\":\"VBar\"},{\"attributes\":{},\"id\":\"70937\",\"type\":\"ResetTool\"},{\"attributes\":{\"bottom\":{\"expr\":{\"id\":\"70950\",\"type\":\"Stack\"}},\"fill_alpha\":{\"value\":0.1},\"fill_color\":{\"value\":\"#1f77b4\"},\"line_alpha\":{\"value\":0.1},\"line_color\":{\"value\":\"#1f77b4\"},\"top\":{\"expr\":{\"id\":\"70951\",\"type\":\"Stack\"}},\"width\":{\"value\":0.9},\"x\":{\"field\":\"years\"}},\"id\":\"70971\",\"type\":\"VBar\"},{\"attributes\":{},\"id\":\"70938\",\"type\":\"HelpTool\"},{\"attributes\":{\"data_source\":{\"id\":\"70968\",\"type\":\"ColumnDataSource\"},\"glyph\":{\"id\":\"70970\",\"type\":\"VBar\"},\"hover_glyph\":null,\"muted_glyph\":null,\"name\":\"no-geo\",\"nonselection_glyph\":{\"id\":\"70971\",\"type\":\"VBar\"},\"selection_glyph\":null,\"view\":{\"id\":\"70973\",\"type\":\"CDSView\"}},\"id\":\"70972\",\"type\":\"GlyphRenderer\"},{\"attributes\":{\"active_drag\":\"auto\",\"active_inspect\":\"auto\",\"active_multi\":null,\"active_scroll\":\"auto\",\"active_tap\":\"auto\",\"tools\":[{\"id\":\"70933\",\"type\":\"PanTool\"},{\"id\":\"70934\",\"type\":\"WheelZoomTool\"},{\"id\":\"70935\",\"type\":\"BoxZoomTool\"},{\"id\":\"70936\",\"type\":\"SaveTool\"},{\"id\":\"70937\",\"type\":\"ResetTool\"},{\"id\":\"70938\",\"type\":\"HelpTool\"}]},\"id\":\"70939\",\"type\":\"Toolbar\"},{\"attributes\":{\"source\":{\"id\":\"70968\",\"type\":\"ColumnDataSource\"}},\"id\":\"70973\",\"type\":\"CDSView\"}],\"root_ids\":[\"70914\"]},\"title\":\"Bokeh Application\",\"version\":\"1.0.0\"}};\n",
       "  var render_items = [{\"docid\":\"983f97cc-a207-48ac-a5f3-4963e57693a4\",\"roots\":{\"70914\":\"0d50b9d1-f713-49e9-bbac-141c6f8ed996\"}}];\n",
       "  root.Bokeh.embed.embed_items_notebook(docs_json, render_items);\n",
       "\n",
       "  }\n",
       "  if (root.Bokeh !== undefined) {\n",
       "    embed_document(root);\n",
       "  } else {\n",
       "    var attempts = 0;\n",
       "    var timer = setInterval(function(root) {\n",
       "      if (root.Bokeh !== undefined) {\n",
       "        embed_document(root);\n",
       "        clearInterval(timer);\n",
       "      }\n",
       "      attempts++;\n",
       "      if (attempts > 100) {\n",
       "        console.log(\"Bokeh: ERROR: Unable to run BokehJS code because BokehJS library is missing\");\n",
       "        clearInterval(timer);\n",
       "      }\n",
       "    }, 10, root)\n",
       "  }\n",
       "})(window);"
      ],
      "application/vnd.bokehjs_exec.v0+json": ""
     },
     "metadata": {
      "application/vnd.bokehjs_exec.v0+json": {
       "id": "70914"
      }
     },
     "output_type": "display_data"
    },
    {
     "data": {
      "text/html": [
       "\n",
       "\n",
       "\n",
       "\n",
       "\n",
       "\n",
       "  <div class=\"bk-root\" id=\"f4fd1ffb-8bf1-4b41-b3ac-f33837f8f372\"></div>\n"
      ]
     },
     "metadata": {},
     "output_type": "display_data"
    },
    {
     "data": {
      "application/javascript": [
       "(function(root) {\n",
       "  function embed_document(root) {\n",
       "    \n",
       "  var docs_json = {\"f92732fa-ec0f-41e0-b71d-e25b47147b11\":{\"roots\":{\"references\":[{\"attributes\":{\"below\":[{\"id\":\"72235\",\"type\":\"CategoricalAxis\"}],\"left\":[{\"id\":\"72239\",\"type\":\"LinearAxis\"}],\"outline_line_color\":{\"value\":null},\"plot_height\":250,\"renderers\":[{\"id\":\"72235\",\"type\":\"CategoricalAxis\"},{\"id\":\"72238\",\"type\":\"Grid\"},{\"id\":\"72239\",\"type\":\"LinearAxis\"},{\"id\":\"72243\",\"type\":\"Grid\"},{\"id\":\"72252\",\"type\":\"BoxAnnotation\"},{\"id\":\"72277\",\"type\":\"Legend\"},{\"id\":\"72269\",\"type\":\"GlyphRenderer\"},{\"id\":\"72283\",\"type\":\"GlyphRenderer\"},{\"id\":\"72298\",\"type\":\"GlyphRenderer\"}],\"title\":{\"id\":\"72224\",\"type\":\"Title\"},\"toolbar\":{\"id\":\"72250\",\"type\":\"Toolbar\"},\"toolbar_location\":null,\"x_range\":{\"id\":\"72227\",\"type\":\"FactorRange\"},\"x_scale\":{\"id\":\"72231\",\"type\":\"CategoricalScale\"},\"y_range\":{\"id\":\"72229\",\"type\":\"DataRange1d\"},\"y_scale\":{\"id\":\"72233\",\"type\":\"LinearScale\"}},\"id\":\"72225\",\"subtype\":\"Figure\",\"type\":\"Plot\"},{\"attributes\":{\"label\":{\"value\":\"geom\"},\"renderers\":[{\"id\":\"72269\",\"type\":\"GlyphRenderer\"}]},\"id\":\"72278\",\"type\":\"LegendItem\"},{\"attributes\":{},\"id\":\"73474\",\"type\":\"UnionRenderers\"},{\"attributes\":{},\"id\":\"72248\",\"type\":\"ResetTool\"},{\"attributes\":{\"callback\":null,\"data\":{\"bi\":[0,0,8,0,0],\"geom\":[21016,21071,45410,46207,0],\"no-geo\":[22937,23941,0,0,44056],\"years\":[\"2012\",\"2013\",\"2014\",\"2015\",\"2016\"]},\"selected\":{\"id\":\"72308\",\"type\":\"Selection\"},\"selection_policy\":{\"id\":\"72309\",\"type\":\"UnionRenderers\"}},\"id\":\"72279\",\"type\":\"ColumnDataSource\"},{\"attributes\":{\"fields\":[\"geom\"]},\"id\":\"72261\",\"type\":\"Stack\"},{\"attributes\":{},\"id\":\"72249\",\"type\":\"HelpTool\"},{\"attributes\":{},\"id\":\"72231\",\"type\":\"CategoricalScale\"},{\"attributes\":{},\"id\":\"72233\",\"type\":\"LinearScale\"},{\"attributes\":{\"bottom\":{\"expr\":{\"id\":\"72263\",\"type\":\"Stack\"}},\"fill_alpha\":{\"value\":0.1},\"fill_color\":{\"value\":\"#1f77b4\"},\"line_alpha\":{\"value\":0.1},\"line_color\":{\"value\":\"#1f77b4\"},\"top\":{\"expr\":{\"id\":\"72264\",\"type\":\"Stack\"}},\"width\":{\"value\":0.9},\"x\":{\"field\":\"years\"}},\"id\":\"72297\",\"type\":\"VBar\"},{\"attributes\":{\"active_drag\":\"auto\",\"active_inspect\":\"auto\",\"active_multi\":null,\"active_scroll\":\"auto\",\"active_tap\":\"auto\",\"tools\":[{\"id\":\"72244\",\"type\":\"PanTool\"},{\"id\":\"72245\",\"type\":\"WheelZoomTool\"},{\"id\":\"72246\",\"type\":\"BoxZoomTool\"},{\"id\":\"72247\",\"type\":\"SaveTool\"},{\"id\":\"72248\",\"type\":\"ResetTool\"},{\"id\":\"72249\",\"type\":\"HelpTool\"}]},\"id\":\"72250\",\"type\":\"Toolbar\"},{\"attributes\":{\"fields\":[\"geom\",\"no-geo\"]},\"id\":\"72262\",\"type\":\"Stack\"},{\"attributes\":{},\"id\":\"72247\",\"type\":\"SaveTool\"},{\"attributes\":{\"bottom\":{\"expr\":{\"id\":\"72261\",\"type\":\"Stack\"}},\"fill_color\":{\"value\":\"#e84d60\"},\"line_color\":{\"value\":\"#e84d60\"},\"top\":{\"expr\":{\"id\":\"72262\",\"type\":\"Stack\"}},\"width\":{\"value\":0.9},\"x\":{\"field\":\"years\"}},\"id\":\"72281\",\"type\":\"VBar\"},{\"attributes\":{\"bottom_units\":\"screen\",\"fill_alpha\":{\"value\":0.5},\"fill_color\":{\"value\":\"lightgrey\"},\"left_units\":\"screen\",\"level\":\"overlay\",\"line_alpha\":{\"value\":1.0},\"line_color\":{\"value\":\"black\"},\"line_dash\":[4,4],\"line_width\":{\"value\":2},\"plot\":null,\"render_mode\":\"css\",\"right_units\":\"screen\",\"top_units\":\"screen\"},\"id\":\"72252\",\"type\":\"BoxAnnotation\"},{\"attributes\":{\"formatter\":{\"id\":\"72274\",\"type\":\"CategoricalTickFormatter\"},\"minor_tick_line_color\":{\"value\":null},\"plot\":{\"id\":\"72225\",\"subtype\":\"Figure\",\"type\":\"Plot\"},\"ticker\":{\"id\":\"72236\",\"type\":\"CategoricalTicker\"}},\"id\":\"72235\",\"type\":\"CategoricalAxis\"},{\"attributes\":{},\"id\":\"72245\",\"type\":\"WheelZoomTool\"},{\"attributes\":{\"dimension\":1,\"plot\":{\"id\":\"72225\",\"subtype\":\"Figure\",\"type\":\"Plot\"},\"ticker\":{\"id\":\"72240\",\"type\":\"BasicTicker\"}},\"id\":\"72243\",\"type\":\"Grid\"},{\"attributes\":{\"callback\":null,\"start\":0},\"id\":\"72229\",\"type\":\"DataRange1d\"},{\"attributes\":{},\"id\":\"72236\",\"type\":\"CategoricalTicker\"},{\"attributes\":{\"bottom\":{\"expr\":{\"id\":\"72261\",\"type\":\"Stack\"}},\"fill_alpha\":{\"value\":0.1},\"fill_color\":{\"value\":\"#1f77b4\"},\"line_alpha\":{\"value\":0.1},\"line_color\":{\"value\":\"#1f77b4\"},\"top\":{\"expr\":{\"id\":\"72262\",\"type\":\"Stack\"}},\"width\":{\"value\":0.9},\"x\":{\"field\":\"years\"}},\"id\":\"72282\",\"type\":\"VBar\"},{\"attributes\":{\"fields\":[\"geom\",\"no-geo\"]},\"id\":\"72263\",\"type\":\"Stack\"},{\"attributes\":{\"grid_line_color\":{\"value\":null},\"plot\":{\"id\":\"72225\",\"subtype\":\"Figure\",\"type\":\"Plot\"},\"ticker\":{\"id\":\"72236\",\"type\":\"CategoricalTicker\"}},\"id\":\"72238\",\"type\":\"Grid\"},{\"attributes\":{\"data_source\":{\"id\":\"72279\",\"type\":\"ColumnDataSource\"},\"glyph\":{\"id\":\"72281\",\"type\":\"VBar\"},\"hover_glyph\":null,\"muted_glyph\":null,\"name\":\"no-geo\",\"nonselection_glyph\":{\"id\":\"72282\",\"type\":\"VBar\"},\"selection_glyph\":null,\"view\":{\"id\":\"72284\",\"type\":\"CDSView\"}},\"id\":\"72283\",\"type\":\"GlyphRenderer\"},{\"attributes\":{\"fields\":[\"geom\",\"no-geo\",\"bi\"]},\"id\":\"72264\",\"type\":\"Stack\"},{\"attributes\":{\"callback\":null,\"factors\":[\"2012\",\"2013\",\"2014\",\"2015\",\"2016\"],\"range_padding\":0.1},\"id\":\"72227\",\"type\":\"FactorRange\"},{\"attributes\":{\"source\":{\"id\":\"72279\",\"type\":\"ColumnDataSource\"}},\"id\":\"72284\",\"type\":\"CDSView\"},{\"attributes\":{\"callback\":null,\"data\":{\"bi\":[0,0,8,0,0],\"geom\":[21016,21071,45410,46207,0],\"no-geo\":[22937,23941,0,0,44056],\"years\":[\"2012\",\"2013\",\"2014\",\"2015\",\"2016\"]},\"selected\":{\"id\":\"72291\",\"type\":\"Selection\"},\"selection_policy\":{\"id\":\"72292\",\"type\":\"UnionRenderers\"}},\"id\":\"72265\",\"type\":\"ColumnDataSource\"},{\"attributes\":{},\"id\":\"72291\",\"type\":\"Selection\"},{\"attributes\":{\"plot\":null,\"text\":\"VT\"},\"id\":\"72224\",\"type\":\"Title\"},{\"attributes\":{},\"id\":\"72292\",\"type\":\"UnionRenderers\"},{\"attributes\":{\"bottom\":{\"expr\":{\"id\":\"72259\",\"type\":\"Stack\"}},\"fill_color\":{\"value\":\"#5CC9F5\"},\"line_color\":{\"value\":\"#5CC9F5\"},\"top\":{\"expr\":{\"id\":\"72260\",\"type\":\"Stack\"}},\"width\":{\"value\":0.9},\"x\":{\"field\":\"years\"}},\"id\":\"72267\",\"type\":\"VBar\"},{\"attributes\":{\"bottom\":{\"expr\":{\"id\":\"72259\",\"type\":\"Stack\"}},\"fill_alpha\":{\"value\":0.1},\"fill_color\":{\"value\":\"#1f77b4\"},\"line_alpha\":{\"value\":0.1},\"line_color\":{\"value\":\"#1f77b4\"},\"top\":{\"expr\":{\"id\":\"72260\",\"type\":\"Stack\"}},\"width\":{\"value\":0.9},\"x\":{\"field\":\"years\"}},\"id\":\"72268\",\"type\":\"VBar\"},{\"attributes\":{\"bottom\":{\"expr\":{\"id\":\"72263\",\"type\":\"Stack\"}},\"fill_color\":{\"value\":\"#cccccc\"},\"line_color\":{\"value\":\"#cccccc\"},\"top\":{\"expr\":{\"id\":\"72264\",\"type\":\"Stack\"}},\"width\":{\"value\":0.9},\"x\":{\"field\":\"years\"}},\"id\":\"72296\",\"type\":\"VBar\"},{\"attributes\":{\"data_source\":{\"id\":\"72265\",\"type\":\"ColumnDataSource\"},\"glyph\":{\"id\":\"72267\",\"type\":\"VBar\"},\"hover_glyph\":null,\"muted_glyph\":null,\"name\":\"geom\",\"nonselection_glyph\":{\"id\":\"72268\",\"type\":\"VBar\"},\"selection_glyph\":null,\"view\":{\"id\":\"72270\",\"type\":\"CDSView\"}},\"id\":\"72269\",\"type\":\"GlyphRenderer\"},{\"attributes\":{\"data_source\":{\"id\":\"72294\",\"type\":\"ColumnDataSource\"},\"glyph\":{\"id\":\"72296\",\"type\":\"VBar\"},\"hover_glyph\":null,\"muted_glyph\":null,\"name\":\"bi\",\"nonselection_glyph\":{\"id\":\"72297\",\"type\":\"VBar\"},\"selection_glyph\":null,\"view\":{\"id\":\"72299\",\"type\":\"CDSView\"}},\"id\":\"72298\",\"type\":\"GlyphRenderer\"},{\"attributes\":{\"source\":{\"id\":\"72265\",\"type\":\"ColumnDataSource\"}},\"id\":\"72270\",\"type\":\"CDSView\"},{\"attributes\":{\"source\":{\"id\":\"72294\",\"type\":\"ColumnDataSource\"}},\"id\":\"72299\",\"type\":\"CDSView\"},{\"attributes\":{},\"id\":\"72272\",\"type\":\"BasicTickFormatter\"},{\"attributes\":{},\"id\":\"72308\",\"type\":\"Selection\"},{\"attributes\":{},\"id\":\"72274\",\"type\":\"CategoricalTickFormatter\"},{\"attributes\":{\"callback\":null,\"data\":{\"bi\":[0,0,8,0,0],\"geom\":[21016,21071,45410,46207,0],\"no-geo\":[22937,23941,0,0,44056],\"years\":[\"2012\",\"2013\",\"2014\",\"2015\",\"2016\"]},\"selected\":{\"id\":\"73473\",\"type\":\"Selection\"},\"selection_policy\":{\"id\":\"73474\",\"type\":\"UnionRenderers\"}},\"id\":\"72294\",\"type\":\"ColumnDataSource\"},{\"attributes\":{},\"id\":\"72309\",\"type\":\"UnionRenderers\"},{\"attributes\":{\"overlay\":{\"id\":\"72252\",\"type\":\"BoxAnnotation\"}},\"id\":\"72246\",\"type\":\"BoxZoomTool\"},{\"attributes\":{\"label\":{\"value\":\"no-geo\"},\"renderers\":[{\"id\":\"72283\",\"type\":\"GlyphRenderer\"}]},\"id\":\"72293\",\"type\":\"LegendItem\"},{\"attributes\":{},\"id\":\"72244\",\"type\":\"PanTool\"},{\"attributes\":{\"label\":{\"value\":\"bi\"},\"renderers\":[{\"id\":\"72298\",\"type\":\"GlyphRenderer\"}]},\"id\":\"72310\",\"type\":\"LegendItem\"},{\"attributes\":{},\"id\":\"72240\",\"type\":\"BasicTicker\"},{\"attributes\":{\"fields\":[\"geom\"]},\"id\":\"72260\",\"type\":\"Stack\"},{\"attributes\":{},\"id\":\"73473\",\"type\":\"Selection\"},{\"attributes\":{\"items\":[{\"id\":\"72278\",\"type\":\"LegendItem\"},{\"id\":\"72293\",\"type\":\"LegendItem\"},{\"id\":\"72310\",\"type\":\"LegendItem\"}],\"location\":\"top_left\",\"orientation\":\"horizontal\",\"plot\":{\"id\":\"72225\",\"subtype\":\"Figure\",\"type\":\"Plot\"}},\"id\":\"72277\",\"type\":\"Legend\"},{\"attributes\":{\"fields\":[]},\"id\":\"72259\",\"type\":\"Stack\"},{\"attributes\":{\"formatter\":{\"id\":\"72272\",\"type\":\"BasicTickFormatter\"},\"minor_tick_line_color\":{\"value\":null},\"plot\":{\"id\":\"72225\",\"subtype\":\"Figure\",\"type\":\"Plot\"},\"ticker\":{\"id\":\"72240\",\"type\":\"BasicTicker\"}},\"id\":\"72239\",\"type\":\"LinearAxis\"}],\"root_ids\":[\"72225\"]},\"title\":\"Bokeh Application\",\"version\":\"1.0.0\"}};\n",
       "  var render_items = [{\"docid\":\"f92732fa-ec0f-41e0-b71d-e25b47147b11\",\"roots\":{\"72225\":\"f4fd1ffb-8bf1-4b41-b3ac-f33837f8f372\"}}];\n",
       "  root.Bokeh.embed.embed_items_notebook(docs_json, render_items);\n",
       "\n",
       "  }\n",
       "  if (root.Bokeh !== undefined) {\n",
       "    embed_document(root);\n",
       "  } else {\n",
       "    var attempts = 0;\n",
       "    var timer = setInterval(function(root) {\n",
       "      if (root.Bokeh !== undefined) {\n",
       "        embed_document(root);\n",
       "        clearInterval(timer);\n",
       "      }\n",
       "      attempts++;\n",
       "      if (attempts > 100) {\n",
       "        console.log(\"Bokeh: ERROR: Unable to run BokehJS code because BokehJS library is missing\");\n",
       "        clearInterval(timer);\n",
       "      }\n",
       "    }, 10, root)\n",
       "  }\n",
       "})(window);"
      ],
      "application/vnd.bokehjs_exec.v0+json": ""
     },
     "metadata": {
      "application/vnd.bokehjs_exec.v0+json": {
       "id": "72225"
      }
     },
     "output_type": "display_data"
    },
    {
     "data": {
      "text/html": [
       "\n",
       "\n",
       "\n",
       "\n",
       "\n",
       "\n",
       "  <div class=\"bk-root\" id=\"24e8638e-4911-4dc7-bb72-234c10cf94c5\"></div>\n"
      ]
     },
     "metadata": {},
     "output_type": "display_data"
    },
    {
     "data": {
      "application/javascript": [
       "(function(root) {\n",
       "  function embed_document(root) {\n",
       "    \n",
       "  var docs_json = {\"4df9bd39-9e22-42e9-8ee3-3488bcf295f1\":{\"roots\":{\"references\":[{\"attributes\":{\"below\":[{\"id\":\"73558\",\"type\":\"CategoricalAxis\"}],\"left\":[{\"id\":\"73562\",\"type\":\"LinearAxis\"}],\"outline_line_color\":{\"value\":null},\"plot_height\":250,\"renderers\":[{\"id\":\"73558\",\"type\":\"CategoricalAxis\"},{\"id\":\"73561\",\"type\":\"Grid\"},{\"id\":\"73562\",\"type\":\"LinearAxis\"},{\"id\":\"73566\",\"type\":\"Grid\"},{\"id\":\"73575\",\"type\":\"BoxAnnotation\"},{\"id\":\"73600\",\"type\":\"Legend\"},{\"id\":\"73592\",\"type\":\"GlyphRenderer\"},{\"id\":\"73606\",\"type\":\"GlyphRenderer\"},{\"id\":\"73621\",\"type\":\"GlyphRenderer\"}],\"title\":{\"id\":\"73547\",\"type\":\"Title\"},\"toolbar\":{\"id\":\"73573\",\"type\":\"Toolbar\"},\"toolbar_location\":null,\"x_range\":{\"id\":\"73550\",\"type\":\"FactorRange\"},\"x_scale\":{\"id\":\"73554\",\"type\":\"CategoricalScale\"},\"y_range\":{\"id\":\"73552\",\"type\":\"DataRange1d\"},\"y_scale\":{\"id\":\"73556\",\"type\":\"LinearScale\"}},\"id\":\"73548\",\"subtype\":\"Figure\",\"type\":\"Plot\"},{\"attributes\":{\"bottom\":{\"expr\":{\"id\":\"73582\",\"type\":\"Stack\"}},\"fill_alpha\":{\"value\":0.1},\"fill_color\":{\"value\":\"#1f77b4\"},\"line_alpha\":{\"value\":0.1},\"line_color\":{\"value\":\"#1f77b4\"},\"top\":{\"expr\":{\"id\":\"73583\",\"type\":\"Stack\"}},\"width\":{\"value\":0.9},\"x\":{\"field\":\"years\"}},\"id\":\"73591\",\"type\":\"VBar\"},{\"attributes\":{\"label\":{\"value\":\"geom\"},\"renderers\":[{\"id\":\"73592\",\"type\":\"GlyphRenderer\"}]},\"id\":\"73601\",\"type\":\"LegendItem\"},{\"attributes\":{},\"id\":\"73631\",\"type\":\"Selection\"},{\"attributes\":{\"data_source\":{\"id\":\"73588\",\"type\":\"ColumnDataSource\"},\"glyph\":{\"id\":\"73590\",\"type\":\"VBar\"},\"hover_glyph\":null,\"muted_glyph\":null,\"name\":\"geom\",\"nonselection_glyph\":{\"id\":\"73591\",\"type\":\"VBar\"},\"selection_glyph\":null,\"view\":{\"id\":\"73593\",\"type\":\"CDSView\"}},\"id\":\"73592\",\"type\":\"GlyphRenderer\"},{\"attributes\":{},\"id\":\"73632\",\"type\":\"UnionRenderers\"},{\"attributes\":{\"callback\":null,\"data\":{\"bi\":[0,0,3,19125,0],\"geom\":[505710,512415,827136,851643,0],\"no-geo\":[279923,283893,6,4,884513],\"years\":[\"2012\",\"2013\",\"2014\",\"2015\",\"2016\"]},\"selected\":{\"id\":\"73631\",\"type\":\"Selection\"},\"selection_policy\":{\"id\":\"73632\",\"type\":\"UnionRenderers\"}},\"id\":\"73602\",\"type\":\"ColumnDataSource\"},{\"attributes\":{\"source\":{\"id\":\"73588\",\"type\":\"ColumnDataSource\"}},\"id\":\"73593\",\"type\":\"CDSView\"},{\"attributes\":{\"fields\":[\"geom\",\"no-geo\",\"bi\"]},\"id\":\"73587\",\"type\":\"Stack\"},{\"attributes\":{\"label\":{\"value\":\"bi\"},\"renderers\":[{\"id\":\"73621\",\"type\":\"GlyphRenderer\"}]},\"id\":\"73633\",\"type\":\"LegendItem\"},{\"attributes\":{},\"id\":\"73595\",\"type\":\"BasicTickFormatter\"},{\"attributes\":{},\"id\":\"74808\",\"type\":\"Selection\"},{\"attributes\":{\"callback\":null,\"data\":{\"bi\":[0,0,3,19125,0],\"geom\":[505710,512415,827136,851643,0],\"no-geo\":[279923,283893,6,4,884513],\"years\":[\"2012\",\"2013\",\"2014\",\"2015\",\"2016\"]},\"selected\":{\"id\":\"73614\",\"type\":\"Selection\"},\"selection_policy\":{\"id\":\"73615\",\"type\":\"UnionRenderers\"}},\"id\":\"73588\",\"type\":\"ColumnDataSource\"},{\"attributes\":{},\"id\":\"73597\",\"type\":\"CategoricalTickFormatter\"},{\"attributes\":{},\"id\":\"74809\",\"type\":\"UnionRenderers\"},{\"attributes\":{\"formatter\":{\"id\":\"73595\",\"type\":\"BasicTickFormatter\"},\"minor_tick_line_color\":{\"value\":null},\"plot\":{\"id\":\"73548\",\"subtype\":\"Figure\",\"type\":\"Plot\"},\"ticker\":{\"id\":\"73563\",\"type\":\"BasicTicker\"}},\"id\":\"73562\",\"type\":\"LinearAxis\"},{\"attributes\":{\"fields\":[\"geom\"]},\"id\":\"73583\",\"type\":\"Stack\"},{\"attributes\":{},\"id\":\"73563\",\"type\":\"BasicTicker\"},{\"attributes\":{\"bottom\":{\"expr\":{\"id\":\"73584\",\"type\":\"Stack\"}},\"fill_color\":{\"value\":\"#e84d60\"},\"line_color\":{\"value\":\"#e84d60\"},\"top\":{\"expr\":{\"id\":\"73585\",\"type\":\"Stack\"}},\"width\":{\"value\":0.9},\"x\":{\"field\":\"years\"}},\"id\":\"73604\",\"type\":\"VBar\"},{\"attributes\":{\"fields\":[\"geom\",\"no-geo\"]},\"id\":\"73585\",\"type\":\"Stack\"},{\"attributes\":{\"bottom\":{\"expr\":{\"id\":\"73584\",\"type\":\"Stack\"}},\"fill_alpha\":{\"value\":0.1},\"fill_color\":{\"value\":\"#1f77b4\"},\"line_alpha\":{\"value\":0.1},\"line_color\":{\"value\":\"#1f77b4\"},\"top\":{\"expr\":{\"id\":\"73585\",\"type\":\"Stack\"}},\"width\":{\"value\":0.9},\"x\":{\"field\":\"years\"}},\"id\":\"73605\",\"type\":\"VBar\"},{\"attributes\":{\"fields\":[]},\"id\":\"73582\",\"type\":\"Stack\"},{\"attributes\":{},\"id\":\"73554\",\"type\":\"CategoricalScale\"},{\"attributes\":{\"data_source\":{\"id\":\"73602\",\"type\":\"ColumnDataSource\"},\"glyph\":{\"id\":\"73604\",\"type\":\"VBar\"},\"hover_glyph\":null,\"muted_glyph\":null,\"name\":\"no-geo\",\"nonselection_glyph\":{\"id\":\"73605\",\"type\":\"VBar\"},\"selection_glyph\":null,\"view\":{\"id\":\"73607\",\"type\":\"CDSView\"}},\"id\":\"73606\",\"type\":\"GlyphRenderer\"},{\"attributes\":{},\"id\":\"73572\",\"type\":\"HelpTool\"},{\"attributes\":{\"source\":{\"id\":\"73602\",\"type\":\"ColumnDataSource\"}},\"id\":\"73607\",\"type\":\"CDSView\"},{\"attributes\":{\"callback\":null,\"start\":0},\"id\":\"73552\",\"type\":\"DataRange1d\"},{\"attributes\":{},\"id\":\"73571\",\"type\":\"ResetTool\"},{\"attributes\":{\"dimension\":1,\"plot\":{\"id\":\"73548\",\"subtype\":\"Figure\",\"type\":\"Plot\"},\"ticker\":{\"id\":\"73563\",\"type\":\"BasicTicker\"}},\"id\":\"73566\",\"type\":\"Grid\"},{\"attributes\":{},\"id\":\"73614\",\"type\":\"Selection\"},{\"attributes\":{},\"id\":\"73556\",\"type\":\"LinearScale\"},{\"attributes\":{},\"id\":\"73568\",\"type\":\"WheelZoomTool\"},{\"attributes\":{},\"id\":\"73615\",\"type\":\"UnionRenderers\"},{\"attributes\":{\"items\":[{\"id\":\"73601\",\"type\":\"LegendItem\"},{\"id\":\"73616\",\"type\":\"LegendItem\"},{\"id\":\"73633\",\"type\":\"LegendItem\"}],\"location\":\"top_left\",\"orientation\":\"horizontal\",\"plot\":{\"id\":\"73548\",\"subtype\":\"Figure\",\"type\":\"Plot\"}},\"id\":\"73600\",\"type\":\"Legend\"},{\"attributes\":{\"overlay\":{\"id\":\"73575\",\"type\":\"BoxAnnotation\"}},\"id\":\"73569\",\"type\":\"BoxZoomTool\"},{\"attributes\":{\"label\":{\"value\":\"no-geo\"},\"renderers\":[{\"id\":\"73606\",\"type\":\"GlyphRenderer\"}]},\"id\":\"73616\",\"type\":\"LegendItem\"},{\"attributes\":{\"formatter\":{\"id\":\"73597\",\"type\":\"CategoricalTickFormatter\"},\"minor_tick_line_color\":{\"value\":null},\"plot\":{\"id\":\"73548\",\"subtype\":\"Figure\",\"type\":\"Plot\"},\"ticker\":{\"id\":\"73559\",\"type\":\"CategoricalTicker\"}},\"id\":\"73558\",\"type\":\"CategoricalAxis\"},{\"attributes\":{},\"id\":\"73570\",\"type\":\"SaveTool\"},{\"attributes\":{},\"id\":\"73559\",\"type\":\"CategoricalTicker\"},{\"attributes\":{\"callback\":null,\"data\":{\"bi\":[0,0,3,19125,0],\"geom\":[505710,512415,827136,851643,0],\"no-geo\":[279923,283893,6,4,884513],\"years\":[\"2012\",\"2013\",\"2014\",\"2015\",\"2016\"]},\"selected\":{\"id\":\"74808\",\"type\":\"Selection\"},\"selection_policy\":{\"id\":\"74809\",\"type\":\"UnionRenderers\"}},\"id\":\"73617\",\"type\":\"ColumnDataSource\"},{\"attributes\":{},\"id\":\"73567\",\"type\":\"PanTool\"},{\"attributes\":{\"grid_line_color\":{\"value\":null},\"plot\":{\"id\":\"73548\",\"subtype\":\"Figure\",\"type\":\"Plot\"},\"ticker\":{\"id\":\"73559\",\"type\":\"CategoricalTicker\"}},\"id\":\"73561\",\"type\":\"Grid\"},{\"attributes\":{\"bottom_units\":\"screen\",\"fill_alpha\":{\"value\":0.5},\"fill_color\":{\"value\":\"lightgrey\"},\"left_units\":\"screen\",\"level\":\"overlay\",\"line_alpha\":{\"value\":1.0},\"line_color\":{\"value\":\"black\"},\"line_dash\":[4,4],\"line_width\":{\"value\":2},\"plot\":null,\"render_mode\":\"css\",\"right_units\":\"screen\",\"top_units\":\"screen\"},\"id\":\"73575\",\"type\":\"BoxAnnotation\"},{\"attributes\":{\"bottom\":{\"expr\":{\"id\":\"73582\",\"type\":\"Stack\"}},\"fill_color\":{\"value\":\"#5CC9F5\"},\"line_color\":{\"value\":\"#5CC9F5\"},\"top\":{\"expr\":{\"id\":\"73583\",\"type\":\"Stack\"}},\"width\":{\"value\":0.9},\"x\":{\"field\":\"years\"}},\"id\":\"73590\",\"type\":\"VBar\"},{\"attributes\":{\"callback\":null,\"factors\":[\"2012\",\"2013\",\"2014\",\"2015\",\"2016\"],\"range_padding\":0.1},\"id\":\"73550\",\"type\":\"FactorRange\"},{\"attributes\":{\"bottom\":{\"expr\":{\"id\":\"73586\",\"type\":\"Stack\"}},\"fill_color\":{\"value\":\"#cccccc\"},\"line_color\":{\"value\":\"#cccccc\"},\"top\":{\"expr\":{\"id\":\"73587\",\"type\":\"Stack\"}},\"width\":{\"value\":0.9},\"x\":{\"field\":\"years\"}},\"id\":\"73619\",\"type\":\"VBar\"},{\"attributes\":{\"fields\":[\"geom\"]},\"id\":\"73584\",\"type\":\"Stack\"},{\"attributes\":{\"bottom\":{\"expr\":{\"id\":\"73586\",\"type\":\"Stack\"}},\"fill_alpha\":{\"value\":0.1},\"fill_color\":{\"value\":\"#1f77b4\"},\"line_alpha\":{\"value\":0.1},\"line_color\":{\"value\":\"#1f77b4\"},\"top\":{\"expr\":{\"id\":\"73587\",\"type\":\"Stack\"}},\"width\":{\"value\":0.9},\"x\":{\"field\":\"years\"}},\"id\":\"73620\",\"type\":\"VBar\"},{\"attributes\":{\"active_drag\":\"auto\",\"active_inspect\":\"auto\",\"active_multi\":null,\"active_scroll\":\"auto\",\"active_tap\":\"auto\",\"tools\":[{\"id\":\"73567\",\"type\":\"PanTool\"},{\"id\":\"73568\",\"type\":\"WheelZoomTool\"},{\"id\":\"73569\",\"type\":\"BoxZoomTool\"},{\"id\":\"73570\",\"type\":\"SaveTool\"},{\"id\":\"73571\",\"type\":\"ResetTool\"},{\"id\":\"73572\",\"type\":\"HelpTool\"}]},\"id\":\"73573\",\"type\":\"Toolbar\"},{\"attributes\":{\"plot\":null,\"text\":\"VA\"},\"id\":\"73547\",\"type\":\"Title\"},{\"attributes\":{\"fields\":[\"geom\",\"no-geo\"]},\"id\":\"73586\",\"type\":\"Stack\"},{\"attributes\":{\"data_source\":{\"id\":\"73617\",\"type\":\"ColumnDataSource\"},\"glyph\":{\"id\":\"73619\",\"type\":\"VBar\"},\"hover_glyph\":null,\"muted_glyph\":null,\"name\":\"bi\",\"nonselection_glyph\":{\"id\":\"73620\",\"type\":\"VBar\"},\"selection_glyph\":null,\"view\":{\"id\":\"73622\",\"type\":\"CDSView\"}},\"id\":\"73621\",\"type\":\"GlyphRenderer\"},{\"attributes\":{\"source\":{\"id\":\"73617\",\"type\":\"ColumnDataSource\"}},\"id\":\"73622\",\"type\":\"CDSView\"}],\"root_ids\":[\"73548\"]},\"title\":\"Bokeh Application\",\"version\":\"1.0.0\"}};\n",
       "  var render_items = [{\"docid\":\"4df9bd39-9e22-42e9-8ee3-3488bcf295f1\",\"roots\":{\"73548\":\"24e8638e-4911-4dc7-bb72-234c10cf94c5\"}}];\n",
       "  root.Bokeh.embed.embed_items_notebook(docs_json, render_items);\n",
       "\n",
       "  }\n",
       "  if (root.Bokeh !== undefined) {\n",
       "    embed_document(root);\n",
       "  } else {\n",
       "    var attempts = 0;\n",
       "    var timer = setInterval(function(root) {\n",
       "      if (root.Bokeh !== undefined) {\n",
       "        embed_document(root);\n",
       "        clearInterval(timer);\n",
       "      }\n",
       "      attempts++;\n",
       "      if (attempts > 100) {\n",
       "        console.log(\"Bokeh: ERROR: Unable to run BokehJS code because BokehJS library is missing\");\n",
       "        clearInterval(timer);\n",
       "      }\n",
       "    }, 10, root)\n",
       "  }\n",
       "})(window);"
      ],
      "application/vnd.bokehjs_exec.v0+json": ""
     },
     "metadata": {
      "application/vnd.bokehjs_exec.v0+json": {
       "id": "73548"
      }
     },
     "output_type": "display_data"
    },
    {
     "data": {
      "text/html": [
       "\n",
       "\n",
       "\n",
       "\n",
       "\n",
       "\n",
       "  <div class=\"bk-root\" id=\"9c4ebf78-82f5-4876-a326-bd224031c3e2\"></div>\n"
      ]
     },
     "metadata": {},
     "output_type": "display_data"
    },
    {
     "data": {
      "application/javascript": [
       "(function(root) {\n",
       "  function embed_document(root) {\n",
       "    \n",
       "  var docs_json = {\"cffd7567-3ee4-465a-b105-5c68ce2e5820\":{\"roots\":{\"references\":[{\"attributes\":{\"below\":[{\"id\":\"74893\",\"type\":\"CategoricalAxis\"}],\"left\":[{\"id\":\"74897\",\"type\":\"LinearAxis\"}],\"outline_line_color\":{\"value\":null},\"plot_height\":250,\"renderers\":[{\"id\":\"74893\",\"type\":\"CategoricalAxis\"},{\"id\":\"74896\",\"type\":\"Grid\"},{\"id\":\"74897\",\"type\":\"LinearAxis\"},{\"id\":\"74901\",\"type\":\"Grid\"},{\"id\":\"74910\",\"type\":\"BoxAnnotation\"},{\"id\":\"74935\",\"type\":\"Legend\"},{\"id\":\"74927\",\"type\":\"GlyphRenderer\"},{\"id\":\"74941\",\"type\":\"GlyphRenderer\"},{\"id\":\"74956\",\"type\":\"GlyphRenderer\"}],\"title\":{\"id\":\"74882\",\"type\":\"Title\"},\"toolbar\":{\"id\":\"74908\",\"type\":\"Toolbar\"},\"toolbar_location\":null,\"x_range\":{\"id\":\"74885\",\"type\":\"FactorRange\"},\"x_scale\":{\"id\":\"74889\",\"type\":\"CategoricalScale\"},\"y_range\":{\"id\":\"74887\",\"type\":\"DataRange1d\"},\"y_scale\":{\"id\":\"74891\",\"type\":\"LinearScale\"}},\"id\":\"74883\",\"subtype\":\"Figure\",\"type\":\"Plot\"},{\"attributes\":{\"callback\":null,\"data\":{\"bi\":[0,0,0,0,0],\"geom\":[548011,247792,569695,633482,0],\"no-geo\":[12,271973,1,1,559599],\"years\":[\"2012\",\"2013\",\"2014\",\"2015\",\"2016\"]},\"selected\":{\"id\":\"74949\",\"type\":\"Selection\"},\"selection_policy\":{\"id\":\"74950\",\"type\":\"UnionRenderers\"}},\"id\":\"74923\",\"type\":\"ColumnDataSource\"},{\"attributes\":{\"grid_line_color\":{\"value\":null},\"plot\":{\"id\":\"74883\",\"subtype\":\"Figure\",\"type\":\"Plot\"},\"ticker\":{\"id\":\"74894\",\"type\":\"CategoricalTicker\"}},\"id\":\"74896\",\"type\":\"Grid\"},{\"attributes\":{},\"id\":\"74950\",\"type\":\"UnionRenderers\"},{\"attributes\":{\"formatter\":{\"id\":\"74930\",\"type\":\"BasicTickFormatter\"},\"minor_tick_line_color\":{\"value\":null},\"plot\":{\"id\":\"74883\",\"subtype\":\"Figure\",\"type\":\"Plot\"},\"ticker\":{\"id\":\"74898\",\"type\":\"BasicTicker\"}},\"id\":\"74897\",\"type\":\"LinearAxis\"},{\"attributes\":{\"label\":{\"value\":\"no-geo\"},\"renderers\":[{\"id\":\"74941\",\"type\":\"GlyphRenderer\"}]},\"id\":\"74951\",\"type\":\"LegendItem\"},{\"attributes\":{},\"id\":\"74966\",\"type\":\"Selection\"},{\"attributes\":{\"bottom\":{\"expr\":{\"id\":\"74921\",\"type\":\"Stack\"}},\"fill_color\":{\"value\":\"#cccccc\"},\"line_color\":{\"value\":\"#cccccc\"},\"top\":{\"expr\":{\"id\":\"74922\",\"type\":\"Stack\"}},\"width\":{\"value\":0.9},\"x\":{\"field\":\"years\"}},\"id\":\"74954\",\"type\":\"VBar\"},{\"attributes\":{},\"id\":\"74898\",\"type\":\"BasicTicker\"},{\"attributes\":{\"callback\":null,\"data\":{\"bi\":[0,0,0,0,0],\"geom\":[548011,247792,569695,633482,0],\"no-geo\":[12,271973,1,1,559599],\"years\":[\"2012\",\"2013\",\"2014\",\"2015\",\"2016\"]},\"selected\":{\"id\":\"76155\",\"type\":\"Selection\"},\"selection_policy\":{\"id\":\"76156\",\"type\":\"UnionRenderers\"}},\"id\":\"74952\",\"type\":\"ColumnDataSource\"},{\"attributes\":{},\"id\":\"76155\",\"type\":\"Selection\"},{\"attributes\":{\"bottom\":{\"expr\":{\"id\":\"74917\",\"type\":\"Stack\"}},\"fill_color\":{\"value\":\"#5CC9F5\"},\"line_color\":{\"value\":\"#5CC9F5\"},\"top\":{\"expr\":{\"id\":\"74918\",\"type\":\"Stack\"}},\"width\":{\"value\":0.9},\"x\":{\"field\":\"years\"}},\"id\":\"74925\",\"type\":\"VBar\"},{\"attributes\":{\"dimension\":1,\"plot\":{\"id\":\"74883\",\"subtype\":\"Figure\",\"type\":\"Plot\"},\"ticker\":{\"id\":\"74898\",\"type\":\"BasicTicker\"}},\"id\":\"74901\",\"type\":\"Grid\"},{\"attributes\":{\"bottom\":{\"expr\":{\"id\":\"74917\",\"type\":\"Stack\"}},\"fill_alpha\":{\"value\":0.1},\"fill_color\":{\"value\":\"#1f77b4\"},\"line_alpha\":{\"value\":0.1},\"line_color\":{\"value\":\"#1f77b4\"},\"top\":{\"expr\":{\"id\":\"74918\",\"type\":\"Stack\"}},\"width\":{\"value\":0.9},\"x\":{\"field\":\"years\"}},\"id\":\"74926\",\"type\":\"VBar\"},{\"attributes\":{\"label\":{\"value\":\"bi\"},\"renderers\":[{\"id\":\"74956\",\"type\":\"GlyphRenderer\"}]},\"id\":\"74968\",\"type\":\"LegendItem\"},{\"attributes\":{\"fields\":[\"geom\"]},\"id\":\"74919\",\"type\":\"Stack\"},{\"attributes\":{\"data_source\":{\"id\":\"74923\",\"type\":\"ColumnDataSource\"},\"glyph\":{\"id\":\"74925\",\"type\":\"VBar\"},\"hover_glyph\":null,\"muted_glyph\":null,\"name\":\"geom\",\"nonselection_glyph\":{\"id\":\"74926\",\"type\":\"VBar\"},\"selection_glyph\":null,\"view\":{\"id\":\"74928\",\"type\":\"CDSView\"}},\"id\":\"74927\",\"type\":\"GlyphRenderer\"},{\"attributes\":{\"fields\":[\"geom\"]},\"id\":\"74918\",\"type\":\"Stack\"},{\"attributes\":{\"data_source\":{\"id\":\"74952\",\"type\":\"ColumnDataSource\"},\"glyph\":{\"id\":\"74954\",\"type\":\"VBar\"},\"hover_glyph\":null,\"muted_glyph\":null,\"name\":\"bi\",\"nonselection_glyph\":{\"id\":\"74955\",\"type\":\"VBar\"},\"selection_glyph\":null,\"view\":{\"id\":\"74957\",\"type\":\"CDSView\"}},\"id\":\"74956\",\"type\":\"GlyphRenderer\"},{\"attributes\":{\"source\":{\"id\":\"74923\",\"type\":\"ColumnDataSource\"}},\"id\":\"74928\",\"type\":\"CDSView\"},{\"attributes\":{},\"id\":\"74902\",\"type\":\"PanTool\"},{\"attributes\":{},\"id\":\"76156\",\"type\":\"UnionRenderers\"},{\"attributes\":{},\"id\":\"74930\",\"type\":\"BasicTickFormatter\"},{\"attributes\":{},\"id\":\"74967\",\"type\":\"UnionRenderers\"},{\"attributes\":{},\"id\":\"74903\",\"type\":\"WheelZoomTool\"},{\"attributes\":{},\"id\":\"74932\",\"type\":\"CategoricalTickFormatter\"},{\"attributes\":{},\"id\":\"74891\",\"type\":\"LinearScale\"},{\"attributes\":{\"overlay\":{\"id\":\"74910\",\"type\":\"BoxAnnotation\"}},\"id\":\"74904\",\"type\":\"BoxZoomTool\"},{\"attributes\":{\"items\":[{\"id\":\"74936\",\"type\":\"LegendItem\"},{\"id\":\"74951\",\"type\":\"LegendItem\"},{\"id\":\"74968\",\"type\":\"LegendItem\"}],\"location\":\"top_left\",\"orientation\":\"horizontal\",\"plot\":{\"id\":\"74883\",\"subtype\":\"Figure\",\"type\":\"Plot\"}},\"id\":\"74935\",\"type\":\"Legend\"},{\"attributes\":{},\"id\":\"74889\",\"type\":\"CategoricalScale\"},{\"attributes\":{},\"id\":\"74905\",\"type\":\"SaveTool\"},{\"attributes\":{\"label\":{\"value\":\"geom\"},\"renderers\":[{\"id\":\"74927\",\"type\":\"GlyphRenderer\"}]},\"id\":\"74936\",\"type\":\"LegendItem\"},{\"attributes\":{\"fields\":[]},\"id\":\"74917\",\"type\":\"Stack\"},{\"attributes\":{},\"id\":\"74906\",\"type\":\"ResetTool\"},{\"attributes\":{\"callback\":null,\"data\":{\"bi\":[0,0,0,0,0],\"geom\":[548011,247792,569695,633482,0],\"no-geo\":[12,271973,1,1,559599],\"years\":[\"2012\",\"2013\",\"2014\",\"2015\",\"2016\"]},\"selected\":{\"id\":\"74966\",\"type\":\"Selection\"},\"selection_policy\":{\"id\":\"74967\",\"type\":\"UnionRenderers\"}},\"id\":\"74937\",\"type\":\"ColumnDataSource\"},{\"attributes\":{},\"id\":\"74907\",\"type\":\"HelpTool\"},{\"attributes\":{\"plot\":null,\"text\":\"WA\"},\"id\":\"74882\",\"type\":\"Title\"},{\"attributes\":{\"active_drag\":\"auto\",\"active_inspect\":\"auto\",\"active_multi\":null,\"active_scroll\":\"auto\",\"active_tap\":\"auto\",\"tools\":[{\"id\":\"74902\",\"type\":\"PanTool\"},{\"id\":\"74903\",\"type\":\"WheelZoomTool\"},{\"id\":\"74904\",\"type\":\"BoxZoomTool\"},{\"id\":\"74905\",\"type\":\"SaveTool\"},{\"id\":\"74906\",\"type\":\"ResetTool\"},{\"id\":\"74907\",\"type\":\"HelpTool\"}]},\"id\":\"74908\",\"type\":\"Toolbar\"},{\"attributes\":{\"bottom\":{\"expr\":{\"id\":\"74919\",\"type\":\"Stack\"}},\"fill_color\":{\"value\":\"#e84d60\"},\"line_color\":{\"value\":\"#e84d60\"},\"top\":{\"expr\":{\"id\":\"74920\",\"type\":\"Stack\"}},\"width\":{\"value\":0.9},\"x\":{\"field\":\"years\"}},\"id\":\"74939\",\"type\":\"VBar\"},{\"attributes\":{\"source\":{\"id\":\"74952\",\"type\":\"ColumnDataSource\"}},\"id\":\"74957\",\"type\":\"CDSView\"},{\"attributes\":{\"callback\":null,\"factors\":[\"2012\",\"2013\",\"2014\",\"2015\",\"2016\"],\"range_padding\":0.1},\"id\":\"74885\",\"type\":\"FactorRange\"},{\"attributes\":{\"formatter\":{\"id\":\"74932\",\"type\":\"CategoricalTickFormatter\"},\"minor_tick_line_color\":{\"value\":null},\"plot\":{\"id\":\"74883\",\"subtype\":\"Figure\",\"type\":\"Plot\"},\"ticker\":{\"id\":\"74894\",\"type\":\"CategoricalTicker\"}},\"id\":\"74893\",\"type\":\"CategoricalAxis\"},{\"attributes\":{\"bottom\":{\"expr\":{\"id\":\"74919\",\"type\":\"Stack\"}},\"fill_alpha\":{\"value\":0.1},\"fill_color\":{\"value\":\"#1f77b4\"},\"line_alpha\":{\"value\":0.1},\"line_color\":{\"value\":\"#1f77b4\"},\"top\":{\"expr\":{\"id\":\"74920\",\"type\":\"Stack\"}},\"width\":{\"value\":0.9},\"x\":{\"field\":\"years\"}},\"id\":\"74940\",\"type\":\"VBar\"},{\"attributes\":{\"bottom_units\":\"screen\",\"fill_alpha\":{\"value\":0.5},\"fill_color\":{\"value\":\"lightgrey\"},\"left_units\":\"screen\",\"level\":\"overlay\",\"line_alpha\":{\"value\":1.0},\"line_color\":{\"value\":\"black\"},\"line_dash\":[4,4],\"line_width\":{\"value\":2},\"plot\":null,\"render_mode\":\"css\",\"right_units\":\"screen\",\"top_units\":\"screen\"},\"id\":\"74910\",\"type\":\"BoxAnnotation\"},{\"attributes\":{\"callback\":null,\"start\":0},\"id\":\"74887\",\"type\":\"DataRange1d\"},{\"attributes\":{\"data_source\":{\"id\":\"74937\",\"type\":\"ColumnDataSource\"},\"glyph\":{\"id\":\"74939\",\"type\":\"VBar\"},\"hover_glyph\":null,\"muted_glyph\":null,\"name\":\"no-geo\",\"nonselection_glyph\":{\"id\":\"74940\",\"type\":\"VBar\"},\"selection_glyph\":null,\"view\":{\"id\":\"74942\",\"type\":\"CDSView\"}},\"id\":\"74941\",\"type\":\"GlyphRenderer\"},{\"attributes\":{\"fields\":[\"geom\",\"no-geo\"]},\"id\":\"74920\",\"type\":\"Stack\"},{\"attributes\":{\"source\":{\"id\":\"74937\",\"type\":\"ColumnDataSource\"}},\"id\":\"74942\",\"type\":\"CDSView\"},{\"attributes\":{\"bottom\":{\"expr\":{\"id\":\"74921\",\"type\":\"Stack\"}},\"fill_alpha\":{\"value\":0.1},\"fill_color\":{\"value\":\"#1f77b4\"},\"line_alpha\":{\"value\":0.1},\"line_color\":{\"value\":\"#1f77b4\"},\"top\":{\"expr\":{\"id\":\"74922\",\"type\":\"Stack\"}},\"width\":{\"value\":0.9},\"x\":{\"field\":\"years\"}},\"id\":\"74955\",\"type\":\"VBar\"},{\"attributes\":{\"fields\":[\"geom\",\"no-geo\"]},\"id\":\"74921\",\"type\":\"Stack\"},{\"attributes\":{},\"id\":\"74894\",\"type\":\"CategoricalTicker\"},{\"attributes\":{},\"id\":\"74949\",\"type\":\"Selection\"},{\"attributes\":{\"fields\":[\"geom\",\"no-geo\",\"bi\"]},\"id\":\"74922\",\"type\":\"Stack\"}],\"root_ids\":[\"74883\"]},\"title\":\"Bokeh Application\",\"version\":\"1.0.0\"}};\n",
       "  var render_items = [{\"docid\":\"cffd7567-3ee4-465a-b105-5c68ce2e5820\",\"roots\":{\"74883\":\"9c4ebf78-82f5-4876-a326-bd224031c3e2\"}}];\n",
       "  root.Bokeh.embed.embed_items_notebook(docs_json, render_items);\n",
       "\n",
       "  }\n",
       "  if (root.Bokeh !== undefined) {\n",
       "    embed_document(root);\n",
       "  } else {\n",
       "    var attempts = 0;\n",
       "    var timer = setInterval(function(root) {\n",
       "      if (root.Bokeh !== undefined) {\n",
       "        embed_document(root);\n",
       "        clearInterval(timer);\n",
       "      }\n",
       "      attempts++;\n",
       "      if (attempts > 100) {\n",
       "        console.log(\"Bokeh: ERROR: Unable to run BokehJS code because BokehJS library is missing\");\n",
       "        clearInterval(timer);\n",
       "      }\n",
       "    }, 10, root)\n",
       "  }\n",
       "})(window);"
      ],
      "application/vnd.bokehjs_exec.v0+json": ""
     },
     "metadata": {
      "application/vnd.bokehjs_exec.v0+json": {
       "id": "74883"
      }
     },
     "output_type": "display_data"
    },
    {
     "data": {
      "text/html": [
       "\n",
       "\n",
       "\n",
       "\n",
       "\n",
       "\n",
       "  <div class=\"bk-root\" id=\"b69aae9a-c213-4937-a74a-38f859c55b8d\"></div>\n"
      ]
     },
     "metadata": {},
     "output_type": "display_data"
    },
    {
     "data": {
      "application/javascript": [
       "(function(root) {\n",
       "  function embed_document(root) {\n",
       "    \n",
       "  var docs_json = {\"dd52a0fb-138d-4c24-b137-1485ad96eaa6\":{\"roots\":{\"references\":[{\"attributes\":{\"below\":[{\"id\":\"76240\",\"type\":\"CategoricalAxis\"}],\"left\":[{\"id\":\"76244\",\"type\":\"LinearAxis\"}],\"outline_line_color\":{\"value\":null},\"plot_height\":250,\"renderers\":[{\"id\":\"76240\",\"type\":\"CategoricalAxis\"},{\"id\":\"76243\",\"type\":\"Grid\"},{\"id\":\"76244\",\"type\":\"LinearAxis\"},{\"id\":\"76248\",\"type\":\"Grid\"},{\"id\":\"76257\",\"type\":\"BoxAnnotation\"},{\"id\":\"76282\",\"type\":\"Legend\"},{\"id\":\"76274\",\"type\":\"GlyphRenderer\"},{\"id\":\"76288\",\"type\":\"GlyphRenderer\"},{\"id\":\"76303\",\"type\":\"GlyphRenderer\"}],\"title\":{\"id\":\"76229\",\"type\":\"Title\"},\"toolbar\":{\"id\":\"76255\",\"type\":\"Toolbar\"},\"toolbar_location\":null,\"x_range\":{\"id\":\"76232\",\"type\":\"FactorRange\"},\"x_scale\":{\"id\":\"76236\",\"type\":\"CategoricalScale\"},\"y_range\":{\"id\":\"76234\",\"type\":\"DataRange1d\"},\"y_scale\":{\"id\":\"76238\",\"type\":\"LinearScale\"}},\"id\":\"76230\",\"subtype\":\"Figure\",\"type\":\"Plot\"},{\"attributes\":{\"data_source\":{\"id\":\"76284\",\"type\":\"ColumnDataSource\"},\"glyph\":{\"id\":\"76286\",\"type\":\"VBar\"},\"hover_glyph\":null,\"muted_glyph\":null,\"name\":\"no-geo\",\"nonselection_glyph\":{\"id\":\"76287\",\"type\":\"VBar\"},\"selection_glyph\":null,\"view\":{\"id\":\"76289\",\"type\":\"CDSView\"}},\"id\":\"76288\",\"type\":\"GlyphRenderer\"},{\"attributes\":{\"bottom\":{\"expr\":{\"id\":\"76266\",\"type\":\"Stack\"}},\"fill_alpha\":{\"value\":0.1},\"fill_color\":{\"value\":\"#1f77b4\"},\"line_alpha\":{\"value\":0.1},\"line_color\":{\"value\":\"#1f77b4\"},\"top\":{\"expr\":{\"id\":\"76267\",\"type\":\"Stack\"}},\"width\":{\"value\":0.9},\"x\":{\"field\":\"years\"}},\"id\":\"76287\",\"type\":\"VBar\"},{\"attributes\":{\"bottom_units\":\"screen\",\"fill_alpha\":{\"value\":0.5},\"fill_color\":{\"value\":\"lightgrey\"},\"left_units\":\"screen\",\"level\":\"overlay\",\"line_alpha\":{\"value\":1.0},\"line_color\":{\"value\":\"black\"},\"line_dash\":[4,4],\"line_width\":{\"value\":2},\"plot\":null,\"render_mode\":\"css\",\"right_units\":\"screen\",\"top_units\":\"screen\"},\"id\":\"76257\",\"type\":\"BoxAnnotation\"},{\"attributes\":{\"formatter\":{\"id\":\"76279\",\"type\":\"CategoricalTickFormatter\"},\"minor_tick_line_color\":{\"value\":null},\"plot\":{\"id\":\"76230\",\"subtype\":\"Figure\",\"type\":\"Plot\"},\"ticker\":{\"id\":\"76241\",\"type\":\"CategoricalTicker\"}},\"id\":\"76240\",\"type\":\"CategoricalAxis\"},{\"attributes\":{\"source\":{\"id\":\"76284\",\"type\":\"ColumnDataSource\"}},\"id\":\"76289\",\"type\":\"CDSView\"},{\"attributes\":{\"fields\":[\"geom\",\"no-geo\"]},\"id\":\"76267\",\"type\":\"Stack\"},{\"attributes\":{},\"id\":\"76241\",\"type\":\"CategoricalTicker\"},{\"attributes\":{},\"id\":\"76296\",\"type\":\"Selection\"},{\"attributes\":{\"fields\":[\"geom\",\"no-geo\"]},\"id\":\"76268\",\"type\":\"Stack\"},{\"attributes\":{\"callback\":null,\"factors\":[\"2012\",\"2013\",\"2014\",\"2015\",\"2016\"],\"range_padding\":0.1},\"id\":\"76232\",\"type\":\"FactorRange\"},{\"attributes\":{},\"id\":\"76297\",\"type\":\"UnionRenderers\"},{\"attributes\":{\"fields\":[\"geom\",\"no-geo\",\"bi\"]},\"id\":\"76269\",\"type\":\"Stack\"},{\"attributes\":{\"plot\":null,\"text\":\"WV\"},\"id\":\"76229\",\"type\":\"Title\"},{\"attributes\":{\"label\":{\"value\":\"no-geo\"},\"renderers\":[{\"id\":\"76288\",\"type\":\"GlyphRenderer\"}]},\"id\":\"76298\",\"type\":\"LegendItem\"},{\"attributes\":{\"callback\":null,\"data\":{\"bi\":[0,0,2,8,0],\"geom\":[108988,0,128263,128419,0],\"no-geo\":[18754,119948,2,5,131319],\"years\":[\"2012\",\"2013\",\"2014\",\"2015\",\"2016\"]},\"selected\":{\"id\":\"76296\",\"type\":\"Selection\"},\"selection_policy\":{\"id\":\"76297\",\"type\":\"UnionRenderers\"}},\"id\":\"76270\",\"type\":\"ColumnDataSource\"},{\"attributes\":{\"fields\":[\"geom\"]},\"id\":\"76266\",\"type\":\"Stack\"},{\"attributes\":{\"callback\":null,\"data\":{\"bi\":[0,0,2,8,0],\"geom\":[108988,0,128263,128419,0],\"no-geo\":[18754,119948,2,5,131319],\"years\":[\"2012\",\"2013\",\"2014\",\"2015\",\"2016\"]},\"selected\":{\"id\":\"77514\",\"type\":\"Selection\"},\"selection_policy\":{\"id\":\"77515\",\"type\":\"UnionRenderers\"}},\"id\":\"76299\",\"type\":\"ColumnDataSource\"},{\"attributes\":{\"dimension\":1,\"plot\":{\"id\":\"76230\",\"subtype\":\"Figure\",\"type\":\"Plot\"},\"ticker\":{\"id\":\"76245\",\"type\":\"BasicTicker\"}},\"id\":\"76248\",\"type\":\"Grid\"},{\"attributes\":{},\"id\":\"76252\",\"type\":\"SaveTool\"},{\"attributes\":{\"bottom\":{\"expr\":{\"id\":\"76268\",\"type\":\"Stack\"}},\"fill_color\":{\"value\":\"#cccccc\"},\"line_color\":{\"value\":\"#cccccc\"},\"top\":{\"expr\":{\"id\":\"76269\",\"type\":\"Stack\"}},\"width\":{\"value\":0.9},\"x\":{\"field\":\"years\"}},\"id\":\"76301\",\"type\":\"VBar\"},{\"attributes\":{\"bottom\":{\"expr\":{\"id\":\"76264\",\"type\":\"Stack\"}},\"fill_color\":{\"value\":\"#5CC9F5\"},\"line_color\":{\"value\":\"#5CC9F5\"},\"top\":{\"expr\":{\"id\":\"76265\",\"type\":\"Stack\"}},\"width\":{\"value\":0.9},\"x\":{\"field\":\"years\"}},\"id\":\"76272\",\"type\":\"VBar\"},{\"attributes\":{\"bottom\":{\"expr\":{\"id\":\"76268\",\"type\":\"Stack\"}},\"fill_alpha\":{\"value\":0.1},\"fill_color\":{\"value\":\"#1f77b4\"},\"line_alpha\":{\"value\":0.1},\"line_color\":{\"value\":\"#1f77b4\"},\"top\":{\"expr\":{\"id\":\"76269\",\"type\":\"Stack\"}},\"width\":{\"value\":0.9},\"x\":{\"field\":\"years\"}},\"id\":\"76302\",\"type\":\"VBar\"},{\"attributes\":{\"label\":{\"value\":\"geom\"},\"renderers\":[{\"id\":\"76274\",\"type\":\"GlyphRenderer\"}]},\"id\":\"76283\",\"type\":\"LegendItem\"},{\"attributes\":{\"bottom\":{\"expr\":{\"id\":\"76264\",\"type\":\"Stack\"}},\"fill_alpha\":{\"value\":0.1},\"fill_color\":{\"value\":\"#1f77b4\"},\"line_alpha\":{\"value\":0.1},\"line_color\":{\"value\":\"#1f77b4\"},\"top\":{\"expr\":{\"id\":\"76265\",\"type\":\"Stack\"}},\"width\":{\"value\":0.9},\"x\":{\"field\":\"years\"}},\"id\":\"76273\",\"type\":\"VBar\"},{\"attributes\":{\"data_source\":{\"id\":\"76299\",\"type\":\"ColumnDataSource\"},\"glyph\":{\"id\":\"76301\",\"type\":\"VBar\"},\"hover_glyph\":null,\"muted_glyph\":null,\"name\":\"bi\",\"nonselection_glyph\":{\"id\":\"76302\",\"type\":\"VBar\"},\"selection_glyph\":null,\"view\":{\"id\":\"76304\",\"type\":\"CDSView\"}},\"id\":\"76303\",\"type\":\"GlyphRenderer\"},{\"attributes\":{\"data_source\":{\"id\":\"76270\",\"type\":\"ColumnDataSource\"},\"glyph\":{\"id\":\"76272\",\"type\":\"VBar\"},\"hover_glyph\":null,\"muted_glyph\":null,\"name\":\"geom\",\"nonselection_glyph\":{\"id\":\"76273\",\"type\":\"VBar\"},\"selection_glyph\":null,\"view\":{\"id\":\"76275\",\"type\":\"CDSView\"}},\"id\":\"76274\",\"type\":\"GlyphRenderer\"},{\"attributes\":{},\"id\":\"76245\",\"type\":\"BasicTicker\"},{\"attributes\":{\"source\":{\"id\":\"76299\",\"type\":\"ColumnDataSource\"}},\"id\":\"76304\",\"type\":\"CDSView\"},{\"attributes\":{\"source\":{\"id\":\"76270\",\"type\":\"ColumnDataSource\"}},\"id\":\"76275\",\"type\":\"CDSView\"},{\"attributes\":{\"active_drag\":\"auto\",\"active_inspect\":\"auto\",\"active_multi\":null,\"active_scroll\":\"auto\",\"active_tap\":\"auto\",\"tools\":[{\"id\":\"76249\",\"type\":\"PanTool\"},{\"id\":\"76250\",\"type\":\"WheelZoomTool\"},{\"id\":\"76251\",\"type\":\"BoxZoomTool\"},{\"id\":\"76252\",\"type\":\"SaveTool\"},{\"id\":\"76253\",\"type\":\"ResetTool\"},{\"id\":\"76254\",\"type\":\"HelpTool\"}]},\"id\":\"76255\",\"type\":\"Toolbar\"},{\"attributes\":{},\"id\":\"76253\",\"type\":\"ResetTool\"},{\"attributes\":{},\"id\":\"76313\",\"type\":\"Selection\"},{\"attributes\":{},\"id\":\"76254\",\"type\":\"HelpTool\"},{\"attributes\":{},\"id\":\"77514\",\"type\":\"Selection\"},{\"attributes\":{\"items\":[{\"id\":\"76283\",\"type\":\"LegendItem\"},{\"id\":\"76298\",\"type\":\"LegendItem\"},{\"id\":\"76315\",\"type\":\"LegendItem\"}],\"location\":\"top_left\",\"orientation\":\"horizontal\",\"plot\":{\"id\":\"76230\",\"subtype\":\"Figure\",\"type\":\"Plot\"}},\"id\":\"76282\",\"type\":\"Legend\"},{\"attributes\":{},\"id\":\"76314\",\"type\":\"UnionRenderers\"},{\"attributes\":{\"formatter\":{\"id\":\"76277\",\"type\":\"BasicTickFormatter\"},\"minor_tick_line_color\":{\"value\":null},\"plot\":{\"id\":\"76230\",\"subtype\":\"Figure\",\"type\":\"Plot\"},\"ticker\":{\"id\":\"76245\",\"type\":\"BasicTicker\"}},\"id\":\"76244\",\"type\":\"LinearAxis\"},{\"attributes\":{\"overlay\":{\"id\":\"76257\",\"type\":\"BoxAnnotation\"}},\"id\":\"76251\",\"type\":\"BoxZoomTool\"},{\"attributes\":{\"callback\":null,\"data\":{\"bi\":[0,0,2,8,0],\"geom\":[108988,0,128263,128419,0],\"no-geo\":[18754,119948,2,5,131319],\"years\":[\"2012\",\"2013\",\"2014\",\"2015\",\"2016\"]},\"selected\":{\"id\":\"76313\",\"type\":\"Selection\"},\"selection_policy\":{\"id\":\"76314\",\"type\":\"UnionRenderers\"}},\"id\":\"76284\",\"type\":\"ColumnDataSource\"},{\"attributes\":{\"label\":{\"value\":\"bi\"},\"renderers\":[{\"id\":\"76303\",\"type\":\"GlyphRenderer\"}]},\"id\":\"76315\",\"type\":\"LegendItem\"},{\"attributes\":{},\"id\":\"76277\",\"type\":\"BasicTickFormatter\"},{\"attributes\":{\"callback\":null,\"start\":0},\"id\":\"76234\",\"type\":\"DataRange1d\"},{\"attributes\":{},\"id\":\"77515\",\"type\":\"UnionRenderers\"},{\"attributes\":{},\"id\":\"76236\",\"type\":\"CategoricalScale\"},{\"attributes\":{},\"id\":\"76279\",\"type\":\"CategoricalTickFormatter\"},{\"attributes\":{\"fields\":[\"geom\"]},\"id\":\"76265\",\"type\":\"Stack\"},{\"attributes\":{\"fields\":[]},\"id\":\"76264\",\"type\":\"Stack\"},{\"attributes\":{\"grid_line_color\":{\"value\":null},\"plot\":{\"id\":\"76230\",\"subtype\":\"Figure\",\"type\":\"Plot\"},\"ticker\":{\"id\":\"76241\",\"type\":\"CategoricalTicker\"}},\"id\":\"76243\",\"type\":\"Grid\"},{\"attributes\":{\"bottom\":{\"expr\":{\"id\":\"76266\",\"type\":\"Stack\"}},\"fill_color\":{\"value\":\"#e84d60\"},\"line_color\":{\"value\":\"#e84d60\"},\"top\":{\"expr\":{\"id\":\"76267\",\"type\":\"Stack\"}},\"width\":{\"value\":0.9},\"x\":{\"field\":\"years\"}},\"id\":\"76286\",\"type\":\"VBar\"},{\"attributes\":{},\"id\":\"76249\",\"type\":\"PanTool\"},{\"attributes\":{},\"id\":\"76250\",\"type\":\"WheelZoomTool\"},{\"attributes\":{},\"id\":\"76238\",\"type\":\"LinearScale\"}],\"root_ids\":[\"76230\"]},\"title\":\"Bokeh Application\",\"version\":\"1.0.0\"}};\n",
       "  var render_items = [{\"docid\":\"dd52a0fb-138d-4c24-b137-1485ad96eaa6\",\"roots\":{\"76230\":\"b69aae9a-c213-4937-a74a-38f859c55b8d\"}}];\n",
       "  root.Bokeh.embed.embed_items_notebook(docs_json, render_items);\n",
       "\n",
       "  }\n",
       "  if (root.Bokeh !== undefined) {\n",
       "    embed_document(root);\n",
       "  } else {\n",
       "    var attempts = 0;\n",
       "    var timer = setInterval(function(root) {\n",
       "      if (root.Bokeh !== undefined) {\n",
       "        embed_document(root);\n",
       "        clearInterval(timer);\n",
       "      }\n",
       "      attempts++;\n",
       "      if (attempts > 100) {\n",
       "        console.log(\"Bokeh: ERROR: Unable to run BokehJS code because BokehJS library is missing\");\n",
       "        clearInterval(timer);\n",
       "      }\n",
       "    }, 10, root)\n",
       "  }\n",
       "})(window);"
      ],
      "application/vnd.bokehjs_exec.v0+json": ""
     },
     "metadata": {
      "application/vnd.bokehjs_exec.v0+json": {
       "id": "76230"
      }
     },
     "output_type": "display_data"
    },
    {
     "data": {
      "text/html": [
       "\n",
       "\n",
       "\n",
       "\n",
       "\n",
       "\n",
       "  <div class=\"bk-root\" id=\"e6e8611e-2a2b-4d6e-b646-a00910cbc142\"></div>\n"
      ]
     },
     "metadata": {},
     "output_type": "display_data"
    },
    {
     "data": {
      "application/javascript": [
       "(function(root) {\n",
       "  function embed_document(root) {\n",
       "    \n",
       "  var docs_json = {\"f5c2e446-c190-41a6-92a8-c38d223a39ec\":{\"roots\":{\"references\":[{\"attributes\":{\"below\":[{\"id\":\"77599\",\"type\":\"CategoricalAxis\"}],\"left\":[{\"id\":\"77603\",\"type\":\"LinearAxis\"}],\"outline_line_color\":{\"value\":null},\"plot_height\":250,\"renderers\":[{\"id\":\"77599\",\"type\":\"CategoricalAxis\"},{\"id\":\"77602\",\"type\":\"Grid\"},{\"id\":\"77603\",\"type\":\"LinearAxis\"},{\"id\":\"77607\",\"type\":\"Grid\"},{\"id\":\"77616\",\"type\":\"BoxAnnotation\"},{\"id\":\"77641\",\"type\":\"Legend\"},{\"id\":\"77633\",\"type\":\"GlyphRenderer\"},{\"id\":\"77647\",\"type\":\"GlyphRenderer\"},{\"id\":\"77662\",\"type\":\"GlyphRenderer\"}],\"title\":{\"id\":\"77588\",\"type\":\"Title\"},\"toolbar\":{\"id\":\"77614\",\"type\":\"Toolbar\"},\"toolbar_location\":null,\"x_range\":{\"id\":\"77591\",\"type\":\"FactorRange\"},\"x_scale\":{\"id\":\"77595\",\"type\":\"CategoricalScale\"},\"y_range\":{\"id\":\"77593\",\"type\":\"DataRange1d\"},\"y_scale\":{\"id\":\"77597\",\"type\":\"LinearScale\"}},\"id\":\"77589\",\"subtype\":\"Figure\",\"type\":\"Plot\"},{\"attributes\":{},\"id\":\"77608\",\"type\":\"PanTool\"},{\"attributes\":{},\"id\":\"77673\",\"type\":\"UnionRenderers\"},{\"attributes\":{\"items\":[{\"id\":\"77642\",\"type\":\"LegendItem\"},{\"id\":\"77657\",\"type\":\"LegendItem\"},{\"id\":\"77674\",\"type\":\"LegendItem\"}],\"location\":\"top_left\",\"orientation\":\"horizontal\",\"plot\":{\"id\":\"77589\",\"subtype\":\"Figure\",\"type\":\"Plot\"}},\"id\":\"77641\",\"type\":\"Legend\"},{\"attributes\":{},\"id\":\"77600\",\"type\":\"CategoricalTicker\"},{\"attributes\":{\"grid_line_color\":{\"value\":null},\"plot\":{\"id\":\"77589\",\"subtype\":\"Figure\",\"type\":\"Plot\"},\"ticker\":{\"id\":\"77600\",\"type\":\"CategoricalTicker\"}},\"id\":\"77602\",\"type\":\"Grid\"},{\"attributes\":{},\"id\":\"77655\",\"type\":\"Selection\"},{\"attributes\":{\"label\":{\"value\":\"bi\"},\"renderers\":[{\"id\":\"77662\",\"type\":\"GlyphRenderer\"}]},\"id\":\"77674\",\"type\":\"LegendItem\"},{\"attributes\":{\"fields\":[]},\"id\":\"77623\",\"type\":\"Stack\"},{\"attributes\":{\"formatter\":{\"id\":\"77636\",\"type\":\"BasicTickFormatter\"},\"minor_tick_line_color\":{\"value\":null},\"plot\":{\"id\":\"77589\",\"subtype\":\"Figure\",\"type\":\"Plot\"},\"ticker\":{\"id\":\"77604\",\"type\":\"BasicTicker\"}},\"id\":\"77603\",\"type\":\"LinearAxis\"},{\"attributes\":{},\"id\":\"78885\",\"type\":\"Selection\"},{\"attributes\":{\"bottom_units\":\"screen\",\"fill_alpha\":{\"value\":0.5},\"fill_color\":{\"value\":\"lightgrey\"},\"left_units\":\"screen\",\"level\":\"overlay\",\"line_alpha\":{\"value\":1.0},\"line_color\":{\"value\":\"black\"},\"line_dash\":[4,4],\"line_width\":{\"value\":2},\"plot\":null,\"render_mode\":\"css\",\"right_units\":\"screen\",\"top_units\":\"screen\"},\"id\":\"77616\",\"type\":\"BoxAnnotation\"},{\"attributes\":{\"fields\":[\"geom\",\"no-geo\",\"bi\"]},\"id\":\"77628\",\"type\":\"Stack\"},{\"attributes\":{},\"id\":\"78886\",\"type\":\"UnionRenderers\"},{\"attributes\":{},\"id\":\"77604\",\"type\":\"BasicTicker\"},{\"attributes\":{\"label\":{\"value\":\"geom\"},\"renderers\":[{\"id\":\"77633\",\"type\":\"GlyphRenderer\"}]},\"id\":\"77642\",\"type\":\"LegendItem\"},{\"attributes\":{\"dimension\":1,\"plot\":{\"id\":\"77589\",\"subtype\":\"Figure\",\"type\":\"Plot\"},\"ticker\":{\"id\":\"77604\",\"type\":\"BasicTicker\"}},\"id\":\"77607\",\"type\":\"Grid\"},{\"attributes\":{\"fields\":[\"geom\",\"no-geo\"]},\"id\":\"77627\",\"type\":\"Stack\"},{\"attributes\":{\"callback\":null,\"data\":{\"bi\":[0,0,14,6,0],\"geom\":[161767,0,248362,285211,0],\"no-geo\":[17344,211300,1,2,305158],\"years\":[\"2012\",\"2013\",\"2014\",\"2015\",\"2016\"]},\"selected\":{\"id\":\"77672\",\"type\":\"Selection\"},\"selection_policy\":{\"id\":\"77673\",\"type\":\"UnionRenderers\"}},\"id\":\"77643\",\"type\":\"ColumnDataSource\"},{\"attributes\":{\"fields\":[\"geom\",\"no-geo\"]},\"id\":\"77626\",\"type\":\"Stack\"},{\"attributes\":{\"fields\":[\"geom\"]},\"id\":\"77624\",\"type\":\"Stack\"},{\"attributes\":{\"fields\":[\"geom\"]},\"id\":\"77625\",\"type\":\"Stack\"},{\"attributes\":{\"formatter\":{\"id\":\"77638\",\"type\":\"CategoricalTickFormatter\"},\"minor_tick_line_color\":{\"value\":null},\"plot\":{\"id\":\"77589\",\"subtype\":\"Figure\",\"type\":\"Plot\"},\"ticker\":{\"id\":\"77600\",\"type\":\"CategoricalTicker\"}},\"id\":\"77599\",\"type\":\"CategoricalAxis\"},{\"attributes\":{\"active_drag\":\"auto\",\"active_inspect\":\"auto\",\"active_multi\":null,\"active_scroll\":\"auto\",\"active_tap\":\"auto\",\"tools\":[{\"id\":\"77608\",\"type\":\"PanTool\"},{\"id\":\"77609\",\"type\":\"WheelZoomTool\"},{\"id\":\"77610\",\"type\":\"BoxZoomTool\"},{\"id\":\"77611\",\"type\":\"SaveTool\"},{\"id\":\"77612\",\"type\":\"ResetTool\"},{\"id\":\"77613\",\"type\":\"HelpTool\"}]},\"id\":\"77614\",\"type\":\"Toolbar\"},{\"attributes\":{},\"id\":\"77597\",\"type\":\"LinearScale\"},{\"attributes\":{},\"id\":\"77613\",\"type\":\"HelpTool\"},{\"attributes\":{\"bottom\":{\"expr\":{\"id\":\"77625\",\"type\":\"Stack\"}},\"fill_color\":{\"value\":\"#e84d60\"},\"line_color\":{\"value\":\"#e84d60\"},\"top\":{\"expr\":{\"id\":\"77626\",\"type\":\"Stack\"}},\"width\":{\"value\":0.9},\"x\":{\"field\":\"years\"}},\"id\":\"77645\",\"type\":\"VBar\"},{\"attributes\":{\"callback\":null,\"data\":{\"bi\":[0,0,14,6,0],\"geom\":[161767,0,248362,285211,0],\"no-geo\":[17344,211300,1,2,305158],\"years\":[\"2012\",\"2013\",\"2014\",\"2015\",\"2016\"]},\"selected\":{\"id\":\"78885\",\"type\":\"Selection\"},\"selection_policy\":{\"id\":\"78886\",\"type\":\"UnionRenderers\"}},\"id\":\"77658\",\"type\":\"ColumnDataSource\"},{\"attributes\":{},\"id\":\"77595\",\"type\":\"CategoricalScale\"},{\"attributes\":{},\"id\":\"77612\",\"type\":\"ResetTool\"},{\"attributes\":{\"bottom\":{\"expr\":{\"id\":\"77625\",\"type\":\"Stack\"}},\"fill_alpha\":{\"value\":0.1},\"fill_color\":{\"value\":\"#1f77b4\"},\"line_alpha\":{\"value\":0.1},\"line_color\":{\"value\":\"#1f77b4\"},\"top\":{\"expr\":{\"id\":\"77626\",\"type\":\"Stack\"}},\"width\":{\"value\":0.9},\"x\":{\"field\":\"years\"}},\"id\":\"77646\",\"type\":\"VBar\"},{\"attributes\":{\"callback\":null,\"start\":0},\"id\":\"77593\",\"type\":\"DataRange1d\"},{\"attributes\":{\"data_source\":{\"id\":\"77643\",\"type\":\"ColumnDataSource\"},\"glyph\":{\"id\":\"77645\",\"type\":\"VBar\"},\"hover_glyph\":null,\"muted_glyph\":null,\"name\":\"no-geo\",\"nonselection_glyph\":{\"id\":\"77646\",\"type\":\"VBar\"},\"selection_glyph\":null,\"view\":{\"id\":\"77648\",\"type\":\"CDSView\"}},\"id\":\"77647\",\"type\":\"GlyphRenderer\"},{\"attributes\":{\"bottom\":{\"expr\":{\"id\":\"77623\",\"type\":\"Stack\"}},\"fill_alpha\":{\"value\":0.1},\"fill_color\":{\"value\":\"#1f77b4\"},\"line_alpha\":{\"value\":0.1},\"line_color\":{\"value\":\"#1f77b4\"},\"top\":{\"expr\":{\"id\":\"77624\",\"type\":\"Stack\"}},\"width\":{\"value\":0.9},\"x\":{\"field\":\"years\"}},\"id\":\"77632\",\"type\":\"VBar\"},{\"attributes\":{\"callback\":null,\"factors\":[\"2012\",\"2013\",\"2014\",\"2015\",\"2016\"],\"range_padding\":0.1},\"id\":\"77591\",\"type\":\"FactorRange\"},{\"attributes\":{\"bottom\":{\"expr\":{\"id\":\"77623\",\"type\":\"Stack\"}},\"fill_color\":{\"value\":\"#5CC9F5\"},\"line_color\":{\"value\":\"#5CC9F5\"},\"top\":{\"expr\":{\"id\":\"77624\",\"type\":\"Stack\"}},\"width\":{\"value\":0.9},\"x\":{\"field\":\"years\"}},\"id\":\"77631\",\"type\":\"VBar\"},{\"attributes\":{\"source\":{\"id\":\"77643\",\"type\":\"ColumnDataSource\"}},\"id\":\"77648\",\"type\":\"CDSView\"},{\"attributes\":{\"plot\":null,\"text\":\"WI\"},\"id\":\"77588\",\"type\":\"Title\"},{\"attributes\":{},\"id\":\"77656\",\"type\":\"UnionRenderers\"},{\"attributes\":{\"bottom\":{\"expr\":{\"id\":\"77627\",\"type\":\"Stack\"}},\"fill_color\":{\"value\":\"#cccccc\"},\"line_color\":{\"value\":\"#cccccc\"},\"top\":{\"expr\":{\"id\":\"77628\",\"type\":\"Stack\"}},\"width\":{\"value\":0.9},\"x\":{\"field\":\"years\"}},\"id\":\"77660\",\"type\":\"VBar\"},{\"attributes\":{\"callback\":null,\"data\":{\"bi\":[0,0,14,6,0],\"geom\":[161767,0,248362,285211,0],\"no-geo\":[17344,211300,1,2,305158],\"years\":[\"2012\",\"2013\",\"2014\",\"2015\",\"2016\"]},\"selected\":{\"id\":\"77655\",\"type\":\"Selection\"},\"selection_policy\":{\"id\":\"77656\",\"type\":\"UnionRenderers\"}},\"id\":\"77629\",\"type\":\"ColumnDataSource\"},{\"attributes\":{},\"id\":\"77638\",\"type\":\"CategoricalTickFormatter\"},{\"attributes\":{\"bottom\":{\"expr\":{\"id\":\"77627\",\"type\":\"Stack\"}},\"fill_alpha\":{\"value\":0.1},\"fill_color\":{\"value\":\"#1f77b4\"},\"line_alpha\":{\"value\":0.1},\"line_color\":{\"value\":\"#1f77b4\"},\"top\":{\"expr\":{\"id\":\"77628\",\"type\":\"Stack\"}},\"width\":{\"value\":0.9},\"x\":{\"field\":\"years\"}},\"id\":\"77661\",\"type\":\"VBar\"},{\"attributes\":{},\"id\":\"77611\",\"type\":\"SaveTool\"},{\"attributes\":{},\"id\":\"77636\",\"type\":\"BasicTickFormatter\"},{\"attributes\":{\"data_source\":{\"id\":\"77658\",\"type\":\"ColumnDataSource\"},\"glyph\":{\"id\":\"77660\",\"type\":\"VBar\"},\"hover_glyph\":null,\"muted_glyph\":null,\"name\":\"bi\",\"nonselection_glyph\":{\"id\":\"77661\",\"type\":\"VBar\"},\"selection_glyph\":null,\"view\":{\"id\":\"77663\",\"type\":\"CDSView\"}},\"id\":\"77662\",\"type\":\"GlyphRenderer\"},{\"attributes\":{\"overlay\":{\"id\":\"77616\",\"type\":\"BoxAnnotation\"}},\"id\":\"77610\",\"type\":\"BoxZoomTool\"},{\"attributes\":{\"label\":{\"value\":\"no-geo\"},\"renderers\":[{\"id\":\"77647\",\"type\":\"GlyphRenderer\"}]},\"id\":\"77657\",\"type\":\"LegendItem\"},{\"attributes\":{\"source\":{\"id\":\"77629\",\"type\":\"ColumnDataSource\"}},\"id\":\"77634\",\"type\":\"CDSView\"},{\"attributes\":{\"source\":{\"id\":\"77658\",\"type\":\"ColumnDataSource\"}},\"id\":\"77663\",\"type\":\"CDSView\"},{\"attributes\":{},\"id\":\"77609\",\"type\":\"WheelZoomTool\"},{\"attributes\":{\"data_source\":{\"id\":\"77629\",\"type\":\"ColumnDataSource\"},\"glyph\":{\"id\":\"77631\",\"type\":\"VBar\"},\"hover_glyph\":null,\"muted_glyph\":null,\"name\":\"geom\",\"nonselection_glyph\":{\"id\":\"77632\",\"type\":\"VBar\"},\"selection_glyph\":null,\"view\":{\"id\":\"77634\",\"type\":\"CDSView\"}},\"id\":\"77633\",\"type\":\"GlyphRenderer\"},{\"attributes\":{},\"id\":\"77672\",\"type\":\"Selection\"}],\"root_ids\":[\"77589\"]},\"title\":\"Bokeh Application\",\"version\":\"1.0.0\"}};\n",
       "  var render_items = [{\"docid\":\"f5c2e446-c190-41a6-92a8-c38d223a39ec\",\"roots\":{\"77589\":\"e6e8611e-2a2b-4d6e-b646-a00910cbc142\"}}];\n",
       "  root.Bokeh.embed.embed_items_notebook(docs_json, render_items);\n",
       "\n",
       "  }\n",
       "  if (root.Bokeh !== undefined) {\n",
       "    embed_document(root);\n",
       "  } else {\n",
       "    var attempts = 0;\n",
       "    var timer = setInterval(function(root) {\n",
       "      if (root.Bokeh !== undefined) {\n",
       "        embed_document(root);\n",
       "        clearInterval(timer);\n",
       "      }\n",
       "      attempts++;\n",
       "      if (attempts > 100) {\n",
       "        console.log(\"Bokeh: ERROR: Unable to run BokehJS code because BokehJS library is missing\");\n",
       "        clearInterval(timer);\n",
       "      }\n",
       "    }, 10, root)\n",
       "  }\n",
       "})(window);"
      ],
      "application/vnd.bokehjs_exec.v0+json": ""
     },
     "metadata": {
      "application/vnd.bokehjs_exec.v0+json": {
       "id": "77589"
      }
     },
     "output_type": "display_data"
    },
    {
     "data": {
      "text/html": [
       "\n",
       "\n",
       "\n",
       "\n",
       "\n",
       "\n",
       "  <div class=\"bk-root\" id=\"c464e356-6d6b-458a-ba5b-e45e6161caea\"></div>\n"
      ]
     },
     "metadata": {},
     "output_type": "display_data"
    },
    {
     "data": {
      "application/javascript": [
       "(function(root) {\n",
       "  function embed_document(root) {\n",
       "    \n",
       "  var docs_json = {\"fda4cfd5-7cb8-48f4-980c-2070d5382425\":{\"roots\":{\"references\":[{\"attributes\":{\"below\":[{\"id\":\"78970\",\"type\":\"CategoricalAxis\"}],\"left\":[{\"id\":\"78974\",\"type\":\"LinearAxis\"}],\"outline_line_color\":{\"value\":null},\"plot_height\":250,\"renderers\":[{\"id\":\"78970\",\"type\":\"CategoricalAxis\"},{\"id\":\"78973\",\"type\":\"Grid\"},{\"id\":\"78974\",\"type\":\"LinearAxis\"},{\"id\":\"78978\",\"type\":\"Grid\"},{\"id\":\"78987\",\"type\":\"BoxAnnotation\"},{\"id\":\"79012\",\"type\":\"Legend\"},{\"id\":\"79004\",\"type\":\"GlyphRenderer\"},{\"id\":\"79018\",\"type\":\"GlyphRenderer\"},{\"id\":\"79033\",\"type\":\"GlyphRenderer\"}],\"title\":{\"id\":\"78959\",\"type\":\"Title\"},\"toolbar\":{\"id\":\"78985\",\"type\":\"Toolbar\"},\"toolbar_location\":null,\"x_range\":{\"id\":\"78962\",\"type\":\"FactorRange\"},\"x_scale\":{\"id\":\"78966\",\"type\":\"CategoricalScale\"},\"y_range\":{\"id\":\"78964\",\"type\":\"DataRange1d\"},\"y_scale\":{\"id\":\"78968\",\"type\":\"LinearScale\"}},\"id\":\"78960\",\"subtype\":\"Figure\",\"type\":\"Plot\"},{\"attributes\":{\"fields\":[\"geom\",\"no-geo\",\"bi\"]},\"id\":\"78999\",\"type\":\"Stack\"},{\"attributes\":{\"bottom\":{\"expr\":{\"id\":\"78998\",\"type\":\"Stack\"}},\"fill_color\":{\"value\":\"#cccccc\"},\"line_color\":{\"value\":\"#cccccc\"},\"top\":{\"expr\":{\"id\":\"78999\",\"type\":\"Stack\"}},\"width\":{\"value\":0.9},\"x\":{\"field\":\"years\"}},\"id\":\"79031\",\"type\":\"VBar\"},{\"attributes\":{},\"id\":\"78971\",\"type\":\"CategoricalTicker\"},{\"attributes\":{\"callback\":null,\"data\":{\"bi\":[0,0,0,0,0],\"geom\":[24277,0,25245,32333,0],\"no-geo\":[6660,31320,0,0,26267],\"years\":[\"2012\",\"2013\",\"2014\",\"2015\",\"2016\"]},\"selected\":{\"id\":\"79026\",\"type\":\"Selection\"},\"selection_policy\":{\"id\":\"79027\",\"type\":\"UnionRenderers\"}},\"id\":\"79000\",\"type\":\"ColumnDataSource\"},{\"attributes\":{\"bottom\":{\"expr\":{\"id\":\"78998\",\"type\":\"Stack\"}},\"fill_alpha\":{\"value\":0.1},\"fill_color\":{\"value\":\"#1f77b4\"},\"line_alpha\":{\"value\":0.1},\"line_color\":{\"value\":\"#1f77b4\"},\"top\":{\"expr\":{\"id\":\"78999\",\"type\":\"Stack\"}},\"width\":{\"value\":0.9},\"x\":{\"field\":\"years\"}},\"id\":\"79032\",\"type\":\"VBar\"},{\"attributes\":{\"grid_line_color\":{\"value\":null},\"plot\":{\"id\":\"78960\",\"subtype\":\"Figure\",\"type\":\"Plot\"},\"ticker\":{\"id\":\"78971\",\"type\":\"CategoricalTicker\"}},\"id\":\"78973\",\"type\":\"Grid\"},{\"attributes\":{\"bottom\":{\"expr\":{\"id\":\"78996\",\"type\":\"Stack\"}},\"fill_color\":{\"value\":\"#e84d60\"},\"line_color\":{\"value\":\"#e84d60\"},\"top\":{\"expr\":{\"id\":\"78997\",\"type\":\"Stack\"}},\"width\":{\"value\":0.9},\"x\":{\"field\":\"years\"}},\"id\":\"79016\",\"type\":\"VBar\"},{\"attributes\":{\"data_source\":{\"id\":\"79029\",\"type\":\"ColumnDataSource\"},\"glyph\":{\"id\":\"79031\",\"type\":\"VBar\"},\"hover_glyph\":null,\"muted_glyph\":null,\"name\":\"bi\",\"nonselection_glyph\":{\"id\":\"79032\",\"type\":\"VBar\"},\"selection_glyph\":null,\"view\":{\"id\":\"79034\",\"type\":\"CDSView\"}},\"id\":\"79033\",\"type\":\"GlyphRenderer\"},{\"attributes\":{\"bottom\":{\"expr\":{\"id\":\"78994\",\"type\":\"Stack\"}},\"fill_color\":{\"value\":\"#5CC9F5\"},\"line_color\":{\"value\":\"#5CC9F5\"},\"top\":{\"expr\":{\"id\":\"78995\",\"type\":\"Stack\"}},\"width\":{\"value\":0.9},\"x\":{\"field\":\"years\"}},\"id\":\"79002\",\"type\":\"VBar\"},{\"attributes\":{\"formatter\":{\"id\":\"79007\",\"type\":\"BasicTickFormatter\"},\"minor_tick_line_color\":{\"value\":null},\"plot\":{\"id\":\"78960\",\"subtype\":\"Figure\",\"type\":\"Plot\"},\"ticker\":{\"id\":\"78975\",\"type\":\"BasicTicker\"}},\"id\":\"78974\",\"type\":\"LinearAxis\"},{\"attributes\":{\"source\":{\"id\":\"79029\",\"type\":\"ColumnDataSource\"}},\"id\":\"79034\",\"type\":\"CDSView\"},{\"attributes\":{\"bottom\":{\"expr\":{\"id\":\"78994\",\"type\":\"Stack\"}},\"fill_alpha\":{\"value\":0.1},\"fill_color\":{\"value\":\"#1f77b4\"},\"line_alpha\":{\"value\":0.1},\"line_color\":{\"value\":\"#1f77b4\"},\"top\":{\"expr\":{\"id\":\"78995\",\"type\":\"Stack\"}},\"width\":{\"value\":0.9},\"x\":{\"field\":\"years\"}},\"id\":\"79003\",\"type\":\"VBar\"},{\"attributes\":{},\"id\":\"78975\",\"type\":\"BasicTicker\"},{\"attributes\":{},\"id\":\"79043\",\"type\":\"Selection\"},{\"attributes\":{\"data_source\":{\"id\":\"79000\",\"type\":\"ColumnDataSource\"},\"glyph\":{\"id\":\"79002\",\"type\":\"VBar\"},\"hover_glyph\":null,\"muted_glyph\":null,\"name\":\"geom\",\"nonselection_glyph\":{\"id\":\"79003\",\"type\":\"VBar\"},\"selection_glyph\":null,\"view\":{\"id\":\"79005\",\"type\":\"CDSView\"}},\"id\":\"79004\",\"type\":\"GlyphRenderer\"},{\"attributes\":{\"label\":{\"value\":\"geom\"},\"renderers\":[{\"id\":\"79004\",\"type\":\"GlyphRenderer\"}]},\"id\":\"79013\",\"type\":\"LegendItem\"},{\"attributes\":{\"dimension\":1,\"plot\":{\"id\":\"78960\",\"subtype\":\"Figure\",\"type\":\"Plot\"},\"ticker\":{\"id\":\"78975\",\"type\":\"BasicTicker\"}},\"id\":\"78978\",\"type\":\"Grid\"},{\"attributes\":{},\"id\":\"79044\",\"type\":\"UnionRenderers\"},{\"attributes\":{\"source\":{\"id\":\"79000\",\"type\":\"ColumnDataSource\"}},\"id\":\"79005\",\"type\":\"CDSView\"},{\"attributes\":{\"items\":[{\"id\":\"79013\",\"type\":\"LegendItem\"},{\"id\":\"79028\",\"type\":\"LegendItem\"},{\"id\":\"79045\",\"type\":\"LegendItem\"}],\"location\":\"top_left\",\"orientation\":\"horizontal\",\"plot\":{\"id\":\"78960\",\"subtype\":\"Figure\",\"type\":\"Plot\"}},\"id\":\"79012\",\"type\":\"Legend\"},{\"attributes\":{},\"id\":\"78968\",\"type\":\"LinearScale\"},{\"attributes\":{\"fields\":[\"geom\"]},\"id\":\"78996\",\"type\":\"Stack\"},{\"attributes\":{\"label\":{\"value\":\"bi\"},\"renderers\":[{\"id\":\"79033\",\"type\":\"GlyphRenderer\"}]},\"id\":\"79045\",\"type\":\"LegendItem\"},{\"attributes\":{},\"id\":\"79026\",\"type\":\"Selection\"},{\"attributes\":{\"fields\":[\"geom\"]},\"id\":\"78995\",\"type\":\"Stack\"},{\"attributes\":{\"formatter\":{\"id\":\"79009\",\"type\":\"CategoricalTickFormatter\"},\"minor_tick_line_color\":{\"value\":null},\"plot\":{\"id\":\"78960\",\"subtype\":\"Figure\",\"type\":\"Plot\"},\"ticker\":{\"id\":\"78971\",\"type\":\"CategoricalTicker\"}},\"id\":\"78970\",\"type\":\"CategoricalAxis\"},{\"attributes\":{},\"id\":\"79007\",\"type\":\"BasicTickFormatter\"},{\"attributes\":{},\"id\":\"80268\",\"type\":\"Selection\"},{\"attributes\":{\"fields\":[\"geom\",\"no-geo\"]},\"id\":\"78997\",\"type\":\"Stack\"},{\"attributes\":{},\"id\":\"79009\",\"type\":\"CategoricalTickFormatter\"},{\"attributes\":{},\"id\":\"78979\",\"type\":\"PanTool\"},{\"attributes\":{},\"id\":\"80269\",\"type\":\"UnionRenderers\"},{\"attributes\":{},\"id\":\"78980\",\"type\":\"WheelZoomTool\"},{\"attributes\":{},\"id\":\"78966\",\"type\":\"CategoricalScale\"},{\"attributes\":{\"overlay\":{\"id\":\"78987\",\"type\":\"BoxAnnotation\"}},\"id\":\"78981\",\"type\":\"BoxZoomTool\"},{\"attributes\":{\"bottom\":{\"expr\":{\"id\":\"78996\",\"type\":\"Stack\"}},\"fill_alpha\":{\"value\":0.1},\"fill_color\":{\"value\":\"#1f77b4\"},\"line_alpha\":{\"value\":0.1},\"line_color\":{\"value\":\"#1f77b4\"},\"top\":{\"expr\":{\"id\":\"78997\",\"type\":\"Stack\"}},\"width\":{\"value\":0.9},\"x\":{\"field\":\"years\"}},\"id\":\"79017\",\"type\":\"VBar\"},{\"attributes\":{\"callback\":null,\"start\":0},\"id\":\"78964\",\"type\":\"DataRange1d\"},{\"attributes\":{},\"id\":\"78982\",\"type\":\"SaveTool\"},{\"attributes\":{\"data_source\":{\"id\":\"79014\",\"type\":\"ColumnDataSource\"},\"glyph\":{\"id\":\"79016\",\"type\":\"VBar\"},\"hover_glyph\":null,\"muted_glyph\":null,\"name\":\"no-geo\",\"nonselection_glyph\":{\"id\":\"79017\",\"type\":\"VBar\"},\"selection_glyph\":null,\"view\":{\"id\":\"79019\",\"type\":\"CDSView\"}},\"id\":\"79018\",\"type\":\"GlyphRenderer\"},{\"attributes\":{},\"id\":\"78983\",\"type\":\"ResetTool\"},{\"attributes\":{\"source\":{\"id\":\"79014\",\"type\":\"ColumnDataSource\"}},\"id\":\"79019\",\"type\":\"CDSView\"},{\"attributes\":{},\"id\":\"78984\",\"type\":\"HelpTool\"},{\"attributes\":{\"callback\":null,\"data\":{\"bi\":[0,0,0,0,0],\"geom\":[24277,0,25245,32333,0],\"no-geo\":[6660,31320,0,0,26267],\"years\":[\"2012\",\"2013\",\"2014\",\"2015\",\"2016\"]},\"selected\":{\"id\":\"79043\",\"type\":\"Selection\"},\"selection_policy\":{\"id\":\"79044\",\"type\":\"UnionRenderers\"}},\"id\":\"79014\",\"type\":\"ColumnDataSource\"},{\"attributes\":{\"fields\":[]},\"id\":\"78994\",\"type\":\"Stack\"},{\"attributes\":{},\"id\":\"79027\",\"type\":\"UnionRenderers\"},{\"attributes\":{\"active_drag\":\"auto\",\"active_inspect\":\"auto\",\"active_multi\":null,\"active_scroll\":\"auto\",\"active_tap\":\"auto\",\"tools\":[{\"id\":\"78979\",\"type\":\"PanTool\"},{\"id\":\"78980\",\"type\":\"WheelZoomTool\"},{\"id\":\"78981\",\"type\":\"BoxZoomTool\"},{\"id\":\"78982\",\"type\":\"SaveTool\"},{\"id\":\"78983\",\"type\":\"ResetTool\"},{\"id\":\"78984\",\"type\":\"HelpTool\"}]},\"id\":\"78985\",\"type\":\"Toolbar\"},{\"attributes\":{\"label\":{\"value\":\"no-geo\"},\"renderers\":[{\"id\":\"79018\",\"type\":\"GlyphRenderer\"}]},\"id\":\"79028\",\"type\":\"LegendItem\"},{\"attributes\":{\"plot\":null,\"text\":\"WY\"},\"id\":\"78959\",\"type\":\"Title\"},{\"attributes\":{\"bottom_units\":\"screen\",\"fill_alpha\":{\"value\":0.5},\"fill_color\":{\"value\":\"lightgrey\"},\"left_units\":\"screen\",\"level\":\"overlay\",\"line_alpha\":{\"value\":1.0},\"line_color\":{\"value\":\"black\"},\"line_dash\":[4,4],\"line_width\":{\"value\":2},\"plot\":null,\"render_mode\":\"css\",\"right_units\":\"screen\",\"top_units\":\"screen\"},\"id\":\"78987\",\"type\":\"BoxAnnotation\"},{\"attributes\":{\"callback\":null,\"data\":{\"bi\":[0,0,0,0,0],\"geom\":[24277,0,25245,32333,0],\"no-geo\":[6660,31320,0,0,26267],\"years\":[\"2012\",\"2013\",\"2014\",\"2015\",\"2016\"]},\"selected\":{\"id\":\"80268\",\"type\":\"Selection\"},\"selection_policy\":{\"id\":\"80269\",\"type\":\"UnionRenderers\"}},\"id\":\"79029\",\"type\":\"ColumnDataSource\"},{\"attributes\":{\"callback\":null,\"factors\":[\"2012\",\"2013\",\"2014\",\"2015\",\"2016\"],\"range_padding\":0.1},\"id\":\"78962\",\"type\":\"FactorRange\"},{\"attributes\":{\"fields\":[\"geom\",\"no-geo\"]},\"id\":\"78998\",\"type\":\"Stack\"}],\"root_ids\":[\"78960\"]},\"title\":\"Bokeh Application\",\"version\":\"1.0.0\"}};\n",
       "  var render_items = [{\"docid\":\"fda4cfd5-7cb8-48f4-980c-2070d5382425\",\"roots\":{\"78960\":\"c464e356-6d6b-458a-ba5b-e45e6161caea\"}}];\n",
       "  root.Bokeh.embed.embed_items_notebook(docs_json, render_items);\n",
       "\n",
       "  }\n",
       "  if (root.Bokeh !== undefined) {\n",
       "    embed_document(root);\n",
       "  } else {\n",
       "    var attempts = 0;\n",
       "    var timer = setInterval(function(root) {\n",
       "      if (root.Bokeh !== undefined) {\n",
       "        embed_document(root);\n",
       "        clearInterval(timer);\n",
       "      }\n",
       "      attempts++;\n",
       "      if (attempts > 100) {\n",
       "        console.log(\"Bokeh: ERROR: Unable to run BokehJS code because BokehJS library is missing\");\n",
       "        clearInterval(timer);\n",
       "      }\n",
       "    }, 10, root)\n",
       "  }\n",
       "})(window);"
      ],
      "application/vnd.bokehjs_exec.v0+json": ""
     },
     "metadata": {
      "application/vnd.bokehjs_exec.v0+json": {
       "id": "78960"
      }
     },
     "output_type": "display_data"
    },
    {
     "data": {
      "text/html": [
       "\n",
       "\n",
       "\n",
       "\n",
       "\n",
       "\n",
       "  <div class=\"bk-root\" id=\"14365965-8593-4085-9d2e-d48bbd4dc8ad\"></div>\n"
      ]
     },
     "metadata": {},
     "output_type": "display_data"
    },
    {
     "data": {
      "application/javascript": [
       "(function(root) {\n",
       "  function embed_document(root) {\n",
       "    \n",
       "  var docs_json = {\"121ba316-fd40-4160-a5a4-ac19e72e121e\":{\"roots\":{\"references\":[{\"attributes\":{\"below\":[{\"id\":\"80353\",\"type\":\"CategoricalAxis\"}],\"left\":[{\"id\":\"80357\",\"type\":\"LinearAxis\"}],\"outline_line_color\":{\"value\":null},\"plot_height\":250,\"renderers\":[{\"id\":\"80353\",\"type\":\"CategoricalAxis\"},{\"id\":\"80356\",\"type\":\"Grid\"},{\"id\":\"80357\",\"type\":\"LinearAxis\"},{\"id\":\"80361\",\"type\":\"Grid\"},{\"id\":\"80370\",\"type\":\"BoxAnnotation\"},{\"id\":\"80395\",\"type\":\"Legend\"},{\"id\":\"80387\",\"type\":\"GlyphRenderer\"},{\"id\":\"80401\",\"type\":\"GlyphRenderer\"},{\"id\":\"80416\",\"type\":\"GlyphRenderer\"}],\"title\":{\"id\":\"80342\",\"type\":\"Title\"},\"toolbar\":{\"id\":\"80368\",\"type\":\"Toolbar\"},\"toolbar_location\":null,\"x_range\":{\"id\":\"80345\",\"type\":\"FactorRange\"},\"x_scale\":{\"id\":\"80349\",\"type\":\"CategoricalScale\"},\"y_range\":{\"id\":\"80347\",\"type\":\"DataRange1d\"},\"y_scale\":{\"id\":\"80351\",\"type\":\"LinearScale\"}},\"id\":\"80343\",\"subtype\":\"Figure\",\"type\":\"Plot\"},{\"attributes\":{\"bottom\":{\"expr\":{\"id\":\"80379\",\"type\":\"Stack\"}},\"fill_color\":{\"value\":\"#e84d60\"},\"line_color\":{\"value\":\"#e84d60\"},\"top\":{\"expr\":{\"id\":\"80380\",\"type\":\"Stack\"}},\"width\":{\"value\":0.9},\"x\":{\"field\":\"years\"}},\"id\":\"80399\",\"type\":\"VBar\"},{\"attributes\":{\"bottom_units\":\"screen\",\"fill_alpha\":{\"value\":0.5},\"fill_color\":{\"value\":\"lightgrey\"},\"left_units\":\"screen\",\"level\":\"overlay\",\"line_alpha\":{\"value\":1.0},\"line_color\":{\"value\":\"black\"},\"line_dash\":[4,4],\"line_width\":{\"value\":2},\"plot\":null,\"render_mode\":\"css\",\"right_units\":\"screen\",\"top_units\":\"screen\"},\"id\":\"80370\",\"type\":\"BoxAnnotation\"},{\"attributes\":{\"grid_line_color\":{\"value\":null},\"plot\":{\"id\":\"80343\",\"subtype\":\"Figure\",\"type\":\"Plot\"},\"ticker\":{\"id\":\"80354\",\"type\":\"CategoricalTicker\"}},\"id\":\"80356\",\"type\":\"Grid\"},{\"attributes\":{\"formatter\":{\"id\":\"80390\",\"type\":\"BasicTickFormatter\"},\"minor_tick_line_color\":{\"value\":null},\"plot\":{\"id\":\"80343\",\"subtype\":\"Figure\",\"type\":\"Plot\"},\"ticker\":{\"id\":\"80358\",\"type\":\"BasicTicker\"}},\"id\":\"80357\",\"type\":\"LinearAxis\"},{\"attributes\":{\"bottom\":{\"expr\":{\"id\":\"80379\",\"type\":\"Stack\"}},\"fill_alpha\":{\"value\":0.1},\"fill_color\":{\"value\":\"#1f77b4\"},\"line_alpha\":{\"value\":0.1},\"line_color\":{\"value\":\"#1f77b4\"},\"top\":{\"expr\":{\"id\":\"80380\",\"type\":\"Stack\"}},\"width\":{\"value\":0.9},\"x\":{\"field\":\"years\"}},\"id\":\"80400\",\"type\":\"VBar\"},{\"attributes\":{\"fields\":[\"geom\",\"no-geo\"]},\"id\":\"80381\",\"type\":\"Stack\"},{\"attributes\":{\"data_source\":{\"id\":\"80397\",\"type\":\"ColumnDataSource\"},\"glyph\":{\"id\":\"80399\",\"type\":\"VBar\"},\"hover_glyph\":null,\"muted_glyph\":null,\"name\":\"no-geo\",\"nonselection_glyph\":{\"id\":\"80400\",\"type\":\"VBar\"},\"selection_glyph\":null,\"view\":{\"id\":\"80402\",\"type\":\"CDSView\"}},\"id\":\"80401\",\"type\":\"GlyphRenderer\"},{\"attributes\":{},\"id\":\"80358\",\"type\":\"BasicTicker\"},{\"attributes\":{\"callback\":null,\"data\":{\"bi\":[0,0,0,0,0],\"geom\":[74890,58200,78424,112308,0],\"no-geo\":[0,0,1,0,128025],\"years\":[\"2012\",\"2013\",\"2014\",\"2015\",\"2016\"]},\"selected\":{\"id\":\"81663\",\"type\":\"Selection\"},\"selection_policy\":{\"id\":\"81664\",\"type\":\"UnionRenderers\"}},\"id\":\"80412\",\"type\":\"ColumnDataSource\"},{\"attributes\":{\"fields\":[\"geom\",\"no-geo\",\"bi\"]},\"id\":\"80382\",\"type\":\"Stack\"},{\"attributes\":{},\"id\":\"80349\",\"type\":\"CategoricalScale\"},{\"attributes\":{\"source\":{\"id\":\"80397\",\"type\":\"ColumnDataSource\"}},\"id\":\"80402\",\"type\":\"CDSView\"},{\"attributes\":{\"callback\":null,\"data\":{\"bi\":[0,0,0,0,0],\"geom\":[74890,58200,78424,112308,0],\"no-geo\":[0,0,1,0,128025],\"years\":[\"2012\",\"2013\",\"2014\",\"2015\",\"2016\"]},\"selected\":{\"id\":\"80409\",\"type\":\"Selection\"},\"selection_policy\":{\"id\":\"80410\",\"type\":\"UnionRenderers\"}},\"id\":\"80383\",\"type\":\"ColumnDataSource\"},{\"attributes\":{\"callback\":null,\"start\":0},\"id\":\"80347\",\"type\":\"DataRange1d\"},{\"attributes\":{},\"id\":\"80409\",\"type\":\"Selection\"},{\"attributes\":{},\"id\":\"80410\",\"type\":\"UnionRenderers\"},{\"attributes\":{\"callback\":null,\"factors\":[\"2012\",\"2013\",\"2014\",\"2015\",\"2016\"],\"range_padding\":0.1},\"id\":\"80345\",\"type\":\"FactorRange\"},{\"attributes\":{\"label\":{\"value\":\"no-geo\"},\"renderers\":[{\"id\":\"80401\",\"type\":\"GlyphRenderer\"}]},\"id\":\"80411\",\"type\":\"LegendItem\"},{\"attributes\":{\"bottom\":{\"expr\":{\"id\":\"80377\",\"type\":\"Stack\"}},\"fill_color\":{\"value\":\"#5CC9F5\"},\"line_color\":{\"value\":\"#5CC9F5\"},\"top\":{\"expr\":{\"id\":\"80378\",\"type\":\"Stack\"}},\"width\":{\"value\":0.9},\"x\":{\"field\":\"years\"}},\"id\":\"80385\",\"type\":\"VBar\"},{\"attributes\":{\"plot\":null,\"text\":\"DC\"},\"id\":\"80342\",\"type\":\"Title\"},{\"attributes\":{\"bottom\":{\"expr\":{\"id\":\"80377\",\"type\":\"Stack\"}},\"fill_alpha\":{\"value\":0.1},\"fill_color\":{\"value\":\"#1f77b4\"},\"line_alpha\":{\"value\":0.1},\"line_color\":{\"value\":\"#1f77b4\"},\"top\":{\"expr\":{\"id\":\"80378\",\"type\":\"Stack\"}},\"width\":{\"value\":0.9},\"x\":{\"field\":\"years\"}},\"id\":\"80386\",\"type\":\"VBar\"},{\"attributes\":{\"fields\":[\"geom\"]},\"id\":\"80379\",\"type\":\"Stack\"},{\"attributes\":{\"bottom\":{\"expr\":{\"id\":\"80381\",\"type\":\"Stack\"}},\"fill_color\":{\"value\":\"#cccccc\"},\"line_color\":{\"value\":\"#cccccc\"},\"top\":{\"expr\":{\"id\":\"80382\",\"type\":\"Stack\"}},\"width\":{\"value\":0.9},\"x\":{\"field\":\"years\"}},\"id\":\"80414\",\"type\":\"VBar\"},{\"attributes\":{\"data_source\":{\"id\":\"80383\",\"type\":\"ColumnDataSource\"},\"glyph\":{\"id\":\"80385\",\"type\":\"VBar\"},\"hover_glyph\":null,\"muted_glyph\":null,\"name\":\"geom\",\"nonselection_glyph\":{\"id\":\"80386\",\"type\":\"VBar\"},\"selection_glyph\":null,\"view\":{\"id\":\"80388\",\"type\":\"CDSView\"}},\"id\":\"80387\",\"type\":\"GlyphRenderer\"},{\"attributes\":{\"data_source\":{\"id\":\"80412\",\"type\":\"ColumnDataSource\"},\"glyph\":{\"id\":\"80414\",\"type\":\"VBar\"},\"hover_glyph\":null,\"muted_glyph\":null,\"name\":\"bi\",\"nonselection_glyph\":{\"id\":\"80415\",\"type\":\"VBar\"},\"selection_glyph\":null,\"view\":{\"id\":\"80417\",\"type\":\"CDSView\"}},\"id\":\"80416\",\"type\":\"GlyphRenderer\"},{\"attributes\":{\"fields\":[\"geom\",\"no-geo\"]},\"id\":\"80380\",\"type\":\"Stack\"},{\"attributes\":{\"source\":{\"id\":\"80412\",\"type\":\"ColumnDataSource\"}},\"id\":\"80417\",\"type\":\"CDSView\"},{\"attributes\":{\"source\":{\"id\":\"80383\",\"type\":\"ColumnDataSource\"}},\"id\":\"80388\",\"type\":\"CDSView\"},{\"attributes\":{},\"id\":\"80426\",\"type\":\"Selection\"},{\"attributes\":{\"overlay\":{\"id\":\"80370\",\"type\":\"BoxAnnotation\"}},\"id\":\"80364\",\"type\":\"BoxZoomTool\"},{\"attributes\":{},\"id\":\"80390\",\"type\":\"BasicTickFormatter\"},{\"attributes\":{\"fields\":[\"geom\"]},\"id\":\"80378\",\"type\":\"Stack\"},{\"attributes\":{},\"id\":\"80427\",\"type\":\"UnionRenderers\"},{\"attributes\":{},\"id\":\"80363\",\"type\":\"WheelZoomTool\"},{\"attributes\":{\"active_drag\":\"auto\",\"active_inspect\":\"auto\",\"active_multi\":null,\"active_scroll\":\"auto\",\"active_tap\":\"auto\",\"tools\":[{\"id\":\"80362\",\"type\":\"PanTool\"},{\"id\":\"80363\",\"type\":\"WheelZoomTool\"},{\"id\":\"80364\",\"type\":\"BoxZoomTool\"},{\"id\":\"80365\",\"type\":\"SaveTool\"},{\"id\":\"80366\",\"type\":\"ResetTool\"},{\"id\":\"80367\",\"type\":\"HelpTool\"}]},\"id\":\"80368\",\"type\":\"Toolbar\"},{\"attributes\":{\"label\":{\"value\":\"bi\"},\"renderers\":[{\"id\":\"80416\",\"type\":\"GlyphRenderer\"}]},\"id\":\"80428\",\"type\":\"LegendItem\"},{\"attributes\":{},\"id\":\"80392\",\"type\":\"CategoricalTickFormatter\"},{\"attributes\":{},\"id\":\"81663\",\"type\":\"Selection\"},{\"attributes\":{\"items\":[{\"id\":\"80396\",\"type\":\"LegendItem\"},{\"id\":\"80411\",\"type\":\"LegendItem\"},{\"id\":\"80428\",\"type\":\"LegendItem\"}],\"location\":\"top_left\",\"orientation\":\"horizontal\",\"plot\":{\"id\":\"80343\",\"subtype\":\"Figure\",\"type\":\"Plot\"}},\"id\":\"80395\",\"type\":\"Legend\"},{\"attributes\":{},\"id\":\"80351\",\"type\":\"LinearScale\"},{\"attributes\":{\"fields\":[]},\"id\":\"80377\",\"type\":\"Stack\"},{\"attributes\":{\"dimension\":1,\"plot\":{\"id\":\"80343\",\"subtype\":\"Figure\",\"type\":\"Plot\"},\"ticker\":{\"id\":\"80358\",\"type\":\"BasicTicker\"}},\"id\":\"80361\",\"type\":\"Grid\"},{\"attributes\":{\"bottom\":{\"expr\":{\"id\":\"80381\",\"type\":\"Stack\"}},\"fill_alpha\":{\"value\":0.1},\"fill_color\":{\"value\":\"#1f77b4\"},\"line_alpha\":{\"value\":0.1},\"line_color\":{\"value\":\"#1f77b4\"},\"top\":{\"expr\":{\"id\":\"80382\",\"type\":\"Stack\"}},\"width\":{\"value\":0.9},\"x\":{\"field\":\"years\"}},\"id\":\"80415\",\"type\":\"VBar\"},{\"attributes\":{},\"id\":\"81664\",\"type\":\"UnionRenderers\"},{\"attributes\":{\"label\":{\"value\":\"geom\"},\"renderers\":[{\"id\":\"80387\",\"type\":\"GlyphRenderer\"}]},\"id\":\"80396\",\"type\":\"LegendItem\"},{\"attributes\":{\"callback\":null,\"data\":{\"bi\":[0,0,0,0,0],\"geom\":[74890,58200,78424,112308,0],\"no-geo\":[0,0,1,0,128025],\"years\":[\"2012\",\"2013\",\"2014\",\"2015\",\"2016\"]},\"selected\":{\"id\":\"80426\",\"type\":\"Selection\"},\"selection_policy\":{\"id\":\"80427\",\"type\":\"UnionRenderers\"}},\"id\":\"80397\",\"type\":\"ColumnDataSource\"},{\"attributes\":{},\"id\":\"80367\",\"type\":\"HelpTool\"},{\"attributes\":{},\"id\":\"80362\",\"type\":\"PanTool\"},{\"attributes\":{\"formatter\":{\"id\":\"80392\",\"type\":\"CategoricalTickFormatter\"},\"minor_tick_line_color\":{\"value\":null},\"plot\":{\"id\":\"80343\",\"subtype\":\"Figure\",\"type\":\"Plot\"},\"ticker\":{\"id\":\"80354\",\"type\":\"CategoricalTicker\"}},\"id\":\"80353\",\"type\":\"CategoricalAxis\"},{\"attributes\":{},\"id\":\"80366\",\"type\":\"ResetTool\"},{\"attributes\":{},\"id\":\"80354\",\"type\":\"CategoricalTicker\"},{\"attributes\":{},\"id\":\"80365\",\"type\":\"SaveTool\"}],\"root_ids\":[\"80343\"]},\"title\":\"Bokeh Application\",\"version\":\"1.0.0\"}};\n",
       "  var render_items = [{\"docid\":\"121ba316-fd40-4160-a5a4-ac19e72e121e\",\"roots\":{\"80343\":\"14365965-8593-4085-9d2e-d48bbd4dc8ad\"}}];\n",
       "  root.Bokeh.embed.embed_items_notebook(docs_json, render_items);\n",
       "\n",
       "  }\n",
       "  if (root.Bokeh !== undefined) {\n",
       "    embed_document(root);\n",
       "  } else {\n",
       "    var attempts = 0;\n",
       "    var timer = setInterval(function(root) {\n",
       "      if (root.Bokeh !== undefined) {\n",
       "        embed_document(root);\n",
       "        clearInterval(timer);\n",
       "      }\n",
       "      attempts++;\n",
       "      if (attempts > 100) {\n",
       "        console.log(\"Bokeh: ERROR: Unable to run BokehJS code because BokehJS library is missing\");\n",
       "        clearInterval(timer);\n",
       "      }\n",
       "    }, 10, root)\n",
       "  }\n",
       "})(window);"
      ],
      "application/vnd.bokehjs_exec.v0+json": ""
     },
     "metadata": {
      "application/vnd.bokehjs_exec.v0+json": {
       "id": "80343"
      }
     },
     "output_type": "display_data"
    }
   ],
   "source": [
    "# TOTALS\n",
    "state_codes = ['AL', 'AK', 'AZ', 'AR', 'CA', 'CO', 'CT', 'DE', 'FL', 'GA', \n",
    "         'HI', 'ID', 'IL', 'IN', 'IA', 'KS', 'KY', 'LA', 'ME', 'MD', \n",
    "         'MA', 'MI', 'MN', 'MS', 'MO', 'MT', 'NE', 'NV', 'NH', 'NJ',\n",
    "         'NM', 'NY', 'NC', 'ND', 'OH', 'OK', 'OR', 'PA', 'RI', 'SC', \n",
    "         'SD', 'TN', 'TX', 'UT', 'VT', 'VA', 'WA', 'WV', 'WI', 'WY',\n",
    "         'DC']\n",
    "\n",
    "states = {} # Stores the updated query data\n",
    "basicincident = {} # Basic incident totals by year\n",
    "# Load all states in the `codes` list\n",
    "for code in state_codes:\n",
    "    filename = 'data/updated/%s.csv' % (code,)\n",
    "    basicincident_filename = 'data/basicincident/%s.csv' % (code,)\n",
    "    if os.path.isfile(filename):\n",
    "        # Load into a dict with the state as key\n",
    "        states[code] = pd.read_csv(filename)\n",
    "        basicincident = pd.read_csv(basicincident_filename)\n",
    "        \n",
    "        # Merge\n",
    "        states[code]['bi_count'] = basicincident['count']\n",
    "        # Set the year as index\n",
    "        states[code].set_index('year', inplace=True)\n",
    "\n",
    "    else:\n",
    "        print(\"Did not load: %s\" % (code,))\n",
    "        \n",
    "for code in state_codes:\n",
    "    plot_state_incidents(code)"
   ]
  },
  {
   "cell_type": "code",
   "execution_count": 3,
   "metadata": {},
   "outputs": [
    {
     "name": "stdout",
     "output_type": "stream",
     "text": [
      "Total 117383071\n",
      "With 75929729\n",
      "Without 41453342\n",
      "Ratio: 0.6468541703087662\n",
      "BasicIncidents: 117333294\n",
      "Ratio of entries Updated: 0.9995759439621409\n"
     ]
    },
    {
     "data": {
      "text/html": [
       "\n",
       "\n",
       "\n",
       "\n",
       "\n",
       "\n",
       "  <div class=\"bk-root\" id=\"fd5d776b-6e25-47c6-a075-22163917b196\"></div>\n"
      ]
     },
     "metadata": {},
     "output_type": "display_data"
    },
    {
     "data": {
      "application/javascript": [
       "(function(root) {\n",
       "  function embed_document(root) {\n",
       "    \n",
       "  var docs_json = {\"6f5b8275-4bbe-4a76-8851-0da446b5d554\":{\"roots\":{\"references\":[{\"attributes\":{\"below\":[{\"id\":\"30569\",\"type\":\"CategoricalAxis\"}],\"left\":[{\"id\":\"30573\",\"type\":\"LinearAxis\"}],\"outline_line_color\":{\"value\":null},\"plot_height\":250,\"renderers\":[{\"id\":\"30569\",\"type\":\"CategoricalAxis\"},{\"id\":\"30572\",\"type\":\"Grid\"},{\"id\":\"30573\",\"type\":\"LinearAxis\"},{\"id\":\"30577\",\"type\":\"Grid\"},{\"id\":\"30586\",\"type\":\"BoxAnnotation\"},{\"id\":\"30611\",\"type\":\"Legend\"},{\"id\":\"30603\",\"type\":\"GlyphRenderer\"},{\"id\":\"30617\",\"type\":\"GlyphRenderer\"},{\"id\":\"30632\",\"type\":\"GlyphRenderer\"}],\"title\":{\"id\":\"30558\",\"type\":\"Title\"},\"toolbar\":{\"id\":\"30584\",\"type\":\"Toolbar\"},\"toolbar_location\":null,\"x_range\":{\"id\":\"30561\",\"type\":\"FactorRange\"},\"x_scale\":{\"id\":\"30565\",\"type\":\"CategoricalScale\"},\"y_range\":{\"id\":\"30563\",\"type\":\"DataRange1d\"},\"y_scale\":{\"id\":\"30567\",\"type\":\"LinearScale\"}},\"id\":\"30559\",\"subtype\":\"Figure\",\"type\":\"Plot\"},{\"attributes\":{\"source\":{\"id\":\"30613\",\"type\":\"ColumnDataSource\"}},\"id\":\"30618\",\"type\":\"CDSView\"},{\"attributes\":{},\"id\":\"30583\",\"type\":\"HelpTool\"},{\"attributes\":{\"callback\":null,\"factors\":[\"Entries\"],\"range_padding\":0.1},\"id\":\"30561\",\"type\":\"FactorRange\"},{\"attributes\":{\"label\":{\"value\":\"geom\"},\"renderers\":[{\"id\":\"30603\",\"type\":\"GlyphRenderer\"}]},\"id\":\"30612\",\"type\":\"LegendItem\"},{\"attributes\":{\"active_drag\":\"auto\",\"active_inspect\":\"auto\",\"active_multi\":null,\"active_scroll\":\"auto\",\"active_tap\":\"auto\",\"tools\":[{\"id\":\"30578\",\"type\":\"PanTool\"},{\"id\":\"30579\",\"type\":\"WheelZoomTool\"},{\"id\":\"30580\",\"type\":\"BoxZoomTool\"},{\"id\":\"30581\",\"type\":\"SaveTool\"},{\"id\":\"30582\",\"type\":\"ResetTool\"},{\"id\":\"30583\",\"type\":\"HelpTool\"}]},\"id\":\"30584\",\"type\":\"Toolbar\"},{\"attributes\":{\"callback\":null,\"start\":0},\"id\":\"30563\",\"type\":\"DataRange1d\"},{\"attributes\":{\"callback\":null,\"data\":{\"bi\":[49777],\"geom\":[75929729],\"no-geo\":[41453342],\"total\":[\"Entries\"]},\"selected\":{\"id\":\"30641\",\"type\":\"Selection\"},\"selection_policy\":{\"id\":\"30642\",\"type\":\"UnionRenderers\"}},\"id\":\"30613\",\"type\":\"ColumnDataSource\"},{\"attributes\":{},\"id\":\"30565\",\"type\":\"CategoricalScale\"},{\"attributes\":{\"bottom_units\":\"screen\",\"fill_alpha\":{\"value\":0.5},\"fill_color\":{\"value\":\"lightgrey\"},\"left_units\":\"screen\",\"level\":\"overlay\",\"line_alpha\":{\"value\":1.0},\"line_color\":{\"value\":\"black\"},\"line_dash\":[4,4],\"line_width\":{\"value\":2},\"plot\":null,\"render_mode\":\"css\",\"right_units\":\"screen\",\"top_units\":\"screen\"},\"id\":\"30586\",\"type\":\"BoxAnnotation\"},{\"attributes\":{\"label\":{\"value\":\"bi\"},\"renderers\":[{\"id\":\"30632\",\"type\":\"GlyphRenderer\"}]},\"id\":\"30644\",\"type\":\"LegendItem\"},{\"attributes\":{},\"id\":\"30641\",\"type\":\"Selection\"},{\"attributes\":{},\"id\":\"30567\",\"type\":\"LinearScale\"},{\"attributes\":{\"bottom\":{\"expr\":{\"id\":\"30595\",\"type\":\"Stack\"}},\"fill_color\":{\"value\":\"#e84d60\"},\"line_color\":{\"value\":\"#e84d60\"},\"top\":{\"expr\":{\"id\":\"30596\",\"type\":\"Stack\"}},\"width\":{\"value\":0.9},\"x\":{\"field\":\"total\"}},\"id\":\"30615\",\"type\":\"VBar\"},{\"attributes\":{\"fields\":[\"geom\"]},\"id\":\"30595\",\"type\":\"Stack\"},{\"attributes\":{\"formatter\":{\"id\":\"30609\",\"type\":\"CategoricalTickFormatter\"},\"minor_tick_line_color\":{\"value\":null},\"plot\":{\"id\":\"30559\",\"subtype\":\"Figure\",\"type\":\"Plot\"},\"ticker\":{\"id\":\"30570\",\"type\":\"CategoricalTicker\"}},\"id\":\"30569\",\"type\":\"CategoricalAxis\"},{\"attributes\":{\"bottom\":{\"expr\":{\"id\":\"30595\",\"type\":\"Stack\"}},\"fill_alpha\":{\"value\":0.1},\"fill_color\":{\"value\":\"#1f77b4\"},\"line_alpha\":{\"value\":0.1},\"line_color\":{\"value\":\"#1f77b4\"},\"top\":{\"expr\":{\"id\":\"30596\",\"type\":\"Stack\"}},\"width\":{\"value\":0.9},\"x\":{\"field\":\"total\"}},\"id\":\"30616\",\"type\":\"VBar\"},{\"attributes\":{\"fields\":[\"geom\",\"no-geo\"]},\"id\":\"30596\",\"type\":\"Stack\"},{\"attributes\":{\"data_source\":{\"id\":\"30613\",\"type\":\"ColumnDataSource\"},\"glyph\":{\"id\":\"30615\",\"type\":\"VBar\"},\"hover_glyph\":null,\"muted_glyph\":null,\"name\":\"no-geo\",\"nonselection_glyph\":{\"id\":\"30616\",\"type\":\"VBar\"},\"selection_glyph\":null,\"view\":{\"id\":\"30618\",\"type\":\"CDSView\"}},\"id\":\"30617\",\"type\":\"GlyphRenderer\"},{\"attributes\":{},\"id\":\"30570\",\"type\":\"CategoricalTicker\"},{\"attributes\":{\"fields\":[\"geom\",\"no-geo\"]},\"id\":\"30597\",\"type\":\"Stack\"},{\"attributes\":{},\"id\":\"30624\",\"type\":\"Selection\"},{\"attributes\":{\"fields\":[\"geom\",\"no-geo\",\"bi\"]},\"id\":\"30598\",\"type\":\"Stack\"},{\"attributes\":{\"formatter\":{\"id\":\"30607\",\"type\":\"BasicTickFormatter\"},\"minor_tick_line_color\":{\"value\":null},\"plot\":{\"id\":\"30559\",\"subtype\":\"Figure\",\"type\":\"Plot\"},\"ticker\":{\"id\":\"30574\",\"type\":\"BasicTicker\"}},\"id\":\"30573\",\"type\":\"LinearAxis\"},{\"attributes\":{},\"id\":\"30625\",\"type\":\"UnionRenderers\"},{\"attributes\":{\"callback\":null,\"data\":{\"bi\":[49777],\"geom\":[75929729],\"no-geo\":[41453342],\"total\":[\"Entries\"]},\"selected\":{\"id\":\"30624\",\"type\":\"Selection\"},\"selection_policy\":{\"id\":\"30625\",\"type\":\"UnionRenderers\"}},\"id\":\"30599\",\"type\":\"ColumnDataSource\"},{\"attributes\":{\"fields\":[]},\"id\":\"30593\",\"type\":\"Stack\"},{\"attributes\":{},\"id\":\"30574\",\"type\":\"BasicTicker\"},{\"attributes\":{\"label\":{\"value\":\"no-geo\"},\"renderers\":[{\"id\":\"30617\",\"type\":\"GlyphRenderer\"}]},\"id\":\"30627\",\"type\":\"LegendItem\"},{\"attributes\":{\"dimension\":1,\"plot\":{\"id\":\"30559\",\"subtype\":\"Figure\",\"type\":\"Plot\"},\"ticker\":{\"id\":\"30574\",\"type\":\"BasicTicker\"}},\"id\":\"30577\",\"type\":\"Grid\"},{\"attributes\":{\"callback\":null,\"data\":{\"bi\":[49777],\"geom\":[75929729],\"no-geo\":[41453342],\"total\":[\"Entries\"]},\"selected\":{\"id\":\"31266\",\"type\":\"Selection\"},\"selection_policy\":{\"id\":\"31267\",\"type\":\"UnionRenderers\"}},\"id\":\"30628\",\"type\":\"ColumnDataSource\"},{\"attributes\":{\"items\":[{\"id\":\"30612\",\"type\":\"LegendItem\"},{\"id\":\"30627\",\"type\":\"LegendItem\"},{\"id\":\"30644\",\"type\":\"LegendItem\"}],\"location\":\"top_left\",\"orientation\":\"horizontal\",\"plot\":{\"id\":\"30559\",\"subtype\":\"Figure\",\"type\":\"Plot\"}},\"id\":\"30611\",\"type\":\"Legend\"},{\"attributes\":{\"fields\":[\"geom\"]},\"id\":\"30594\",\"type\":\"Stack\"},{\"attributes\":{\"bottom\":{\"expr\":{\"id\":\"30597\",\"type\":\"Stack\"}},\"fill_color\":{\"value\":\"#cccccc\"},\"line_color\":{\"value\":\"#cccccc\"},\"top\":{\"expr\":{\"id\":\"30598\",\"type\":\"Stack\"}},\"width\":{\"value\":0.9},\"x\":{\"field\":\"total\"}},\"id\":\"30630\",\"type\":\"VBar\"},{\"attributes\":{\"bottom\":{\"expr\":{\"id\":\"30593\",\"type\":\"Stack\"}},\"fill_color\":{\"value\":\"#5CC9F5\"},\"line_color\":{\"value\":\"#5CC9F5\"},\"top\":{\"expr\":{\"id\":\"30594\",\"type\":\"Stack\"}},\"width\":{\"value\":0.9},\"x\":{\"field\":\"total\"}},\"id\":\"30601\",\"type\":\"VBar\"},{\"attributes\":{},\"id\":\"31266\",\"type\":\"Selection\"},{\"attributes\":{\"bottom\":{\"expr\":{\"id\":\"30597\",\"type\":\"Stack\"}},\"fill_alpha\":{\"value\":0.1},\"fill_color\":{\"value\":\"#1f77b4\"},\"line_alpha\":{\"value\":0.1},\"line_color\":{\"value\":\"#1f77b4\"},\"top\":{\"expr\":{\"id\":\"30598\",\"type\":\"Stack\"}},\"width\":{\"value\":0.9},\"x\":{\"field\":\"total\"}},\"id\":\"30631\",\"type\":\"VBar\"},{\"attributes\":{\"bottom\":{\"expr\":{\"id\":\"30593\",\"type\":\"Stack\"}},\"fill_alpha\":{\"value\":0.1},\"fill_color\":{\"value\":\"#1f77b4\"},\"line_alpha\":{\"value\":0.1},\"line_color\":{\"value\":\"#1f77b4\"},\"top\":{\"expr\":{\"id\":\"30594\",\"type\":\"Stack\"}},\"width\":{\"value\":0.9},\"x\":{\"field\":\"total\"}},\"id\":\"30602\",\"type\":\"VBar\"},{\"attributes\":{},\"id\":\"30578\",\"type\":\"PanTool\"},{\"attributes\":{\"data_source\":{\"id\":\"30628\",\"type\":\"ColumnDataSource\"},\"glyph\":{\"id\":\"30630\",\"type\":\"VBar\"},\"hover_glyph\":null,\"muted_glyph\":null,\"name\":\"bi\",\"nonselection_glyph\":{\"id\":\"30631\",\"type\":\"VBar\"},\"selection_glyph\":null,\"view\":{\"id\":\"30633\",\"type\":\"CDSView\"}},\"id\":\"30632\",\"type\":\"GlyphRenderer\"},{\"attributes\":{\"data_source\":{\"id\":\"30599\",\"type\":\"ColumnDataSource\"},\"glyph\":{\"id\":\"30601\",\"type\":\"VBar\"},\"hover_glyph\":null,\"muted_glyph\":null,\"name\":\"geom\",\"nonselection_glyph\":{\"id\":\"30602\",\"type\":\"VBar\"},\"selection_glyph\":null,\"view\":{\"id\":\"30604\",\"type\":\"CDSView\"}},\"id\":\"30603\",\"type\":\"GlyphRenderer\"},{\"attributes\":{},\"id\":\"30579\",\"type\":\"WheelZoomTool\"},{\"attributes\":{\"grid_line_color\":{\"value\":null},\"plot\":{\"id\":\"30559\",\"subtype\":\"Figure\",\"type\":\"Plot\"},\"ticker\":{\"id\":\"30570\",\"type\":\"CategoricalTicker\"}},\"id\":\"30572\",\"type\":\"Grid\"},{\"attributes\":{\"source\":{\"id\":\"30628\",\"type\":\"ColumnDataSource\"}},\"id\":\"30633\",\"type\":\"CDSView\"},{\"attributes\":{\"source\":{\"id\":\"30599\",\"type\":\"ColumnDataSource\"}},\"id\":\"30604\",\"type\":\"CDSView\"},{\"attributes\":{\"overlay\":{\"id\":\"30586\",\"type\":\"BoxAnnotation\"}},\"id\":\"30580\",\"type\":\"BoxZoomTool\"},{\"attributes\":{},\"id\":\"30607\",\"type\":\"BasicTickFormatter\"},{\"attributes\":{},\"id\":\"30581\",\"type\":\"SaveTool\"},{\"attributes\":{},\"id\":\"30642\",\"type\":\"UnionRenderers\"},{\"attributes\":{},\"id\":\"31267\",\"type\":\"UnionRenderers\"},{\"attributes\":{},\"id\":\"30609\",\"type\":\"CategoricalTickFormatter\"},{\"attributes\":{},\"id\":\"30582\",\"type\":\"ResetTool\"},{\"attributes\":{\"plot\":null,\"text\":\"Total Entries\"},\"id\":\"30558\",\"type\":\"Title\"}],\"root_ids\":[\"30559\"]},\"title\":\"Bokeh Application\",\"version\":\"1.0.0\"}};\n",
       "  var render_items = [{\"docid\":\"6f5b8275-4bbe-4a76-8851-0da446b5d554\",\"roots\":{\"30559\":\"fd5d776b-6e25-47c6-a075-22163917b196\"}}];\n",
       "  root.Bokeh.embed.embed_items_notebook(docs_json, render_items);\n",
       "\n",
       "  }\n",
       "  if (root.Bokeh !== undefined) {\n",
       "    embed_document(root);\n",
       "  } else {\n",
       "    var attempts = 0;\n",
       "    var timer = setInterval(function(root) {\n",
       "      if (root.Bokeh !== undefined) {\n",
       "        embed_document(root);\n",
       "        clearInterval(timer);\n",
       "      }\n",
       "      attempts++;\n",
       "      if (attempts > 100) {\n",
       "        console.log(\"Bokeh: ERROR: Unable to run BokehJS code because BokehJS library is missing\");\n",
       "        clearInterval(timer);\n",
       "      }\n",
       "    }, 10, root)\n",
       "  }\n",
       "})(window);"
      ],
      "application/vnd.bokehjs_exec.v0+json": ""
     },
     "metadata": {
      "application/vnd.bokehjs_exec.v0+json": {
       "id": "30559"
      }
     },
     "output_type": "display_data"
    }
   ],
   "source": [
    "total = 0\n",
    "with_geom = 0\n",
    "no_geom = 0\n",
    "bi_count = 0\n",
    "\n",
    "# Calcultate joined entrie totals\n",
    "for state in states.values():\n",
    "    total += sum(state['count'])\n",
    "    with_geom += sum(state['geom'])\n",
    "    no_geom += sum(state['no-geo'])\n",
    "    bi_count += sum(state['bi_count'])\n",
    "    \n",
    "    \n",
    "print(\"Total %s\" % (total,))\n",
    "print(\"With %s\" % (with_geom,))\n",
    "print(\"Without %s\" % (no_geom,))\n",
    "print(\"Ratio: %s\" % (with_geom / total,))  \n",
    "print(\"BasicIncidents: %s\" % (bi_count))\n",
    "print(\"Ratio of entries Updated: %s\" % (bi_count/total))\n",
    "\n",
    "# Chart\n",
    "x_axis = [\"Entries\",]\n",
    "y_axis = [\"geom\", \"no-geo\", \"bi\"]\n",
    "colors = [\"#5CC9F5\", \"#e84d60\", \"#cccccc\"]\n",
    "parsed = { 'total': x_axis,\n",
    "           'geom': [with_geom],\n",
    "           'no-geo': [no_geom],\n",
    "           'bi': [(total-bi_count)]}\n",
    "\n",
    "p = figure(x_range=x_axis, plot_height=250, title=\"Total Entries\",\n",
    "           toolbar_location=None)\n",
    "\n",
    "p.vbar_stack(y_axis, x='total', width=0.9, color=colors, source=parsed,\n",
    "             legend=[value(x) for x in y_axis])\n",
    "\n",
    "p.y_range.start = 0\n",
    "p.x_range.range_padding = 0.1\n",
    "p.xgrid.grid_line_color = None\n",
    "p.axis.minor_tick_line_color = None\n",
    "p.outline_line_color = None\n",
    "p.legend.location = \"top_left\"\n",
    "p.legend.orientation = \"horizontal\"\n",
    "\n",
    "show(p)\n",
    "\n"
   ]
  },
  {
   "cell_type": "code",
   "execution_count": 7,
   "metadata": {},
   "outputs": [
    {
     "name": "stdout",
     "output_type": "stream",
     "text": [
      "Total EMS entries: 8131224\n",
      "Total basicaddress entries: 117353939\n",
      "Total incidentaddress entries: 90015396\n"
     ]
    }
   ],
   "source": [
    "# Calculate other table totals\n",
    "total_ems = 0\n",
    "total_basic = 0\n",
    "total_address = 0\n",
    "\n",
    "ems = pd.read_csv('data/ems_totals_by_state.csv')\n",
    "total_ems = sum(ems['count'])\n",
    "print(\"Total EMS entries: %s\" % (total_ems,))\n",
    "\n",
    "basic = pd.read_csv('data/basicincident_totals_by_state.csv')\n",
    "total_basic = sum(basic['count'])\n",
    "print(\"Total basicaddress entries: %s\" % (total_basic,))\n",
    "\n",
    "address = pd.read_csv('data/incidentaddress_total_by_state.csv')\n",
    "total_address = sum(address['count'])\n",
    "print(\"Total incidentaddress entries: %s\" % (total_address,))"
   ]
  },
  {
   "cell_type": "code",
   "execution_count": 8,
   "metadata": {},
   "outputs": [
    {
     "data": {
      "text/html": [
       "<div>\n",
       "<style scoped>\n",
       "    .dataframe tbody tr th:only-of-type {\n",
       "        vertical-align: middle;\n",
       "    }\n",
       "\n",
       "    .dataframe tbody tr th {\n",
       "        vertical-align: top;\n",
       "    }\n",
       "\n",
       "    .dataframe thead th {\n",
       "        text-align: right;\n",
       "    }\n",
       "</style>\n",
       "<table border=\"1\" class=\"dataframe\">\n",
       "  <thead>\n",
       "    <tr style=\"text-align: right;\">\n",
       "      <th></th>\n",
       "      <th></th>\n",
       "      <th>count</th>\n",
       "      <th>geom</th>\n",
       "      <th>no-geo</th>\n",
       "    </tr>\n",
       "    <tr>\n",
       "      <th></th>\n",
       "      <th>year</th>\n",
       "      <th></th>\n",
       "      <th></th>\n",
       "      <th></th>\n",
       "    </tr>\n",
       "  </thead>\n",
       "  <tbody>\n",
       "    <tr>\n",
       "      <th rowspan=\"5\" valign=\"top\">AK</th>\n",
       "      <th>2012</th>\n",
       "      <td>58644</td>\n",
       "      <td>58597</td>\n",
       "      <td>47</td>\n",
       "    </tr>\n",
       "    <tr>\n",
       "      <th>2013</th>\n",
       "      <td>61502</td>\n",
       "      <td>61501</td>\n",
       "      <td>1</td>\n",
       "    </tr>\n",
       "    <tr>\n",
       "      <th>2014</th>\n",
       "      <td>60638</td>\n",
       "      <td>0</td>\n",
       "      <td>60638</td>\n",
       "    </tr>\n",
       "    <tr>\n",
       "      <th>2015</th>\n",
       "      <td>64571</td>\n",
       "      <td>64571</td>\n",
       "      <td>0</td>\n",
       "    </tr>\n",
       "    <tr>\n",
       "      <th>2016</th>\n",
       "      <td>67415</td>\n",
       "      <td>0</td>\n",
       "      <td>67415</td>\n",
       "    </tr>\n",
       "    <tr>\n",
       "      <th rowspan=\"5\" valign=\"top\">AL</th>\n",
       "      <th>2012</th>\n",
       "      <td>249674</td>\n",
       "      <td>0</td>\n",
       "      <td>249674</td>\n",
       "    </tr>\n",
       "    <tr>\n",
       "      <th>2013</th>\n",
       "      <td>209036</td>\n",
       "      <td>0</td>\n",
       "      <td>209036</td>\n",
       "    </tr>\n",
       "    <tr>\n",
       "      <th>2014</th>\n",
       "      <td>260470</td>\n",
       "      <td>0</td>\n",
       "      <td>260470</td>\n",
       "    </tr>\n",
       "    <tr>\n",
       "      <th>2015</th>\n",
       "      <td>322581</td>\n",
       "      <td>322579</td>\n",
       "      <td>2</td>\n",
       "    </tr>\n",
       "    <tr>\n",
       "      <th>2016</th>\n",
       "      <td>344077</td>\n",
       "      <td>0</td>\n",
       "      <td>344077</td>\n",
       "    </tr>\n",
       "    <tr>\n",
       "      <th rowspan=\"5\" valign=\"top\">AR</th>\n",
       "      <th>2012</th>\n",
       "      <td>188622</td>\n",
       "      <td>160542</td>\n",
       "      <td>28080</td>\n",
       "    </tr>\n",
       "    <tr>\n",
       "      <th>2013</th>\n",
       "      <td>187020</td>\n",
       "      <td>158853</td>\n",
       "      <td>28167</td>\n",
       "    </tr>\n",
       "    <tr>\n",
       "      <th>2014</th>\n",
       "      <td>206000</td>\n",
       "      <td>27108</td>\n",
       "      <td>178892</td>\n",
       "    </tr>\n",
       "    <tr>\n",
       "      <th>2015</th>\n",
       "      <td>199764</td>\n",
       "      <td>199760</td>\n",
       "      <td>4</td>\n",
       "    </tr>\n",
       "    <tr>\n",
       "      <th>2016</th>\n",
       "      <td>213748</td>\n",
       "      <td>0</td>\n",
       "      <td>213748</td>\n",
       "    </tr>\n",
       "    <tr>\n",
       "      <th rowspan=\"5\" valign=\"top\">AZ</th>\n",
       "      <th>2012</th>\n",
       "      <td>358123</td>\n",
       "      <td>87963</td>\n",
       "      <td>270160</td>\n",
       "    </tr>\n",
       "    <tr>\n",
       "      <th>2013</th>\n",
       "      <td>433894</td>\n",
       "      <td>138399</td>\n",
       "      <td>295495</td>\n",
       "    </tr>\n",
       "    <tr>\n",
       "      <th>2014</th>\n",
       "      <td>453354</td>\n",
       "      <td>453354</td>\n",
       "      <td>0</td>\n",
       "    </tr>\n",
       "    <tr>\n",
       "      <th>2015</th>\n",
       "      <td>509052</td>\n",
       "      <td>509051</td>\n",
       "      <td>1</td>\n",
       "    </tr>\n",
       "    <tr>\n",
       "      <th>2016</th>\n",
       "      <td>538248</td>\n",
       "      <td>0</td>\n",
       "      <td>538248</td>\n",
       "    </tr>\n",
       "    <tr>\n",
       "      <th rowspan=\"5\" valign=\"top\">CA</th>\n",
       "      <th>2012</th>\n",
       "      <td>1404589</td>\n",
       "      <td>1292220</td>\n",
       "      <td>112369</td>\n",
       "    </tr>\n",
       "    <tr>\n",
       "      <th>2013</th>\n",
       "      <td>2126138</td>\n",
       "      <td>2022739</td>\n",
       "      <td>103399</td>\n",
       "    </tr>\n",
       "    <tr>\n",
       "      <th>2014</th>\n",
       "      <td>2162715</td>\n",
       "      <td>2162710</td>\n",
       "      <td>5</td>\n",
       "    </tr>\n",
       "    <tr>\n",
       "      <th>2015</th>\n",
       "      <td>2275302</td>\n",
       "      <td>2275298</td>\n",
       "      <td>4</td>\n",
       "    </tr>\n",
       "    <tr>\n",
       "      <th>2016</th>\n",
       "      <td>2589083</td>\n",
       "      <td>0</td>\n",
       "      <td>2589083</td>\n",
       "    </tr>\n",
       "    <tr>\n",
       "      <th rowspan=\"5\" valign=\"top\">CO</th>\n",
       "      <th>2012</th>\n",
       "      <td>460093</td>\n",
       "      <td>37267</td>\n",
       "      <td>422826</td>\n",
       "    </tr>\n",
       "    <tr>\n",
       "      <th>2013</th>\n",
       "      <td>490225</td>\n",
       "      <td>52778</td>\n",
       "      <td>437447</td>\n",
       "    </tr>\n",
       "    <tr>\n",
       "      <th>2014</th>\n",
       "      <td>520307</td>\n",
       "      <td>520306</td>\n",
       "      <td>1</td>\n",
       "    </tr>\n",
       "    <tr>\n",
       "      <th>2015</th>\n",
       "      <td>560928</td>\n",
       "      <td>560927</td>\n",
       "      <td>1</td>\n",
       "    </tr>\n",
       "    <tr>\n",
       "      <th>2016</th>\n",
       "      <td>615939</td>\n",
       "      <td>0</td>\n",
       "      <td>615939</td>\n",
       "    </tr>\n",
       "    <tr>\n",
       "      <th>...</th>\n",
       "      <th>...</th>\n",
       "      <td>...</td>\n",
       "      <td>...</td>\n",
       "      <td>...</td>\n",
       "    </tr>\n",
       "    <tr>\n",
       "      <th rowspan=\"5\" valign=\"top\">VA</th>\n",
       "      <th>2012</th>\n",
       "      <td>785633</td>\n",
       "      <td>505710</td>\n",
       "      <td>279923</td>\n",
       "    </tr>\n",
       "    <tr>\n",
       "      <th>2013</th>\n",
       "      <td>796308</td>\n",
       "      <td>512415</td>\n",
       "      <td>283893</td>\n",
       "    </tr>\n",
       "    <tr>\n",
       "      <th>2014</th>\n",
       "      <td>827142</td>\n",
       "      <td>827136</td>\n",
       "      <td>6</td>\n",
       "    </tr>\n",
       "    <tr>\n",
       "      <th>2015</th>\n",
       "      <td>851647</td>\n",
       "      <td>851643</td>\n",
       "      <td>4</td>\n",
       "    </tr>\n",
       "    <tr>\n",
       "      <th>2016</th>\n",
       "      <td>884513</td>\n",
       "      <td>0</td>\n",
       "      <td>884513</td>\n",
       "    </tr>\n",
       "    <tr>\n",
       "      <th rowspan=\"5\" valign=\"top\">VT</th>\n",
       "      <th>2012</th>\n",
       "      <td>43953</td>\n",
       "      <td>21016</td>\n",
       "      <td>22937</td>\n",
       "    </tr>\n",
       "    <tr>\n",
       "      <th>2013</th>\n",
       "      <td>45012</td>\n",
       "      <td>21071</td>\n",
       "      <td>23941</td>\n",
       "    </tr>\n",
       "    <tr>\n",
       "      <th>2014</th>\n",
       "      <td>45410</td>\n",
       "      <td>45410</td>\n",
       "      <td>0</td>\n",
       "    </tr>\n",
       "    <tr>\n",
       "      <th>2015</th>\n",
       "      <td>46207</td>\n",
       "      <td>46207</td>\n",
       "      <td>0</td>\n",
       "    </tr>\n",
       "    <tr>\n",
       "      <th>2016</th>\n",
       "      <td>44056</td>\n",
       "      <td>0</td>\n",
       "      <td>44056</td>\n",
       "    </tr>\n",
       "    <tr>\n",
       "      <th rowspan=\"5\" valign=\"top\">WA</th>\n",
       "      <th>2012</th>\n",
       "      <td>548023</td>\n",
       "      <td>548011</td>\n",
       "      <td>12</td>\n",
       "    </tr>\n",
       "    <tr>\n",
       "      <th>2013</th>\n",
       "      <td>519765</td>\n",
       "      <td>247792</td>\n",
       "      <td>271973</td>\n",
       "    </tr>\n",
       "    <tr>\n",
       "      <th>2014</th>\n",
       "      <td>569696</td>\n",
       "      <td>569695</td>\n",
       "      <td>1</td>\n",
       "    </tr>\n",
       "    <tr>\n",
       "      <th>2015</th>\n",
       "      <td>633483</td>\n",
       "      <td>633482</td>\n",
       "      <td>1</td>\n",
       "    </tr>\n",
       "    <tr>\n",
       "      <th>2016</th>\n",
       "      <td>559599</td>\n",
       "      <td>0</td>\n",
       "      <td>559599</td>\n",
       "    </tr>\n",
       "    <tr>\n",
       "      <th rowspan=\"5\" valign=\"top\">WI</th>\n",
       "      <th>2012</th>\n",
       "      <td>179111</td>\n",
       "      <td>161767</td>\n",
       "      <td>17344</td>\n",
       "    </tr>\n",
       "    <tr>\n",
       "      <th>2013</th>\n",
       "      <td>211300</td>\n",
       "      <td>0</td>\n",
       "      <td>211300</td>\n",
       "    </tr>\n",
       "    <tr>\n",
       "      <th>2014</th>\n",
       "      <td>248363</td>\n",
       "      <td>248362</td>\n",
       "      <td>1</td>\n",
       "    </tr>\n",
       "    <tr>\n",
       "      <th>2015</th>\n",
       "      <td>285213</td>\n",
       "      <td>285211</td>\n",
       "      <td>2</td>\n",
       "    </tr>\n",
       "    <tr>\n",
       "      <th>2016</th>\n",
       "      <td>305158</td>\n",
       "      <td>0</td>\n",
       "      <td>305158</td>\n",
       "    </tr>\n",
       "    <tr>\n",
       "      <th rowspan=\"5\" valign=\"top\">WV</th>\n",
       "      <th>2012</th>\n",
       "      <td>127742</td>\n",
       "      <td>108988</td>\n",
       "      <td>18754</td>\n",
       "    </tr>\n",
       "    <tr>\n",
       "      <th>2013</th>\n",
       "      <td>119948</td>\n",
       "      <td>0</td>\n",
       "      <td>119948</td>\n",
       "    </tr>\n",
       "    <tr>\n",
       "      <th>2014</th>\n",
       "      <td>128265</td>\n",
       "      <td>128263</td>\n",
       "      <td>2</td>\n",
       "    </tr>\n",
       "    <tr>\n",
       "      <th>2015</th>\n",
       "      <td>128424</td>\n",
       "      <td>128419</td>\n",
       "      <td>5</td>\n",
       "    </tr>\n",
       "    <tr>\n",
       "      <th>2016</th>\n",
       "      <td>131319</td>\n",
       "      <td>0</td>\n",
       "      <td>131319</td>\n",
       "    </tr>\n",
       "    <tr>\n",
       "      <th rowspan=\"5\" valign=\"top\">WY</th>\n",
       "      <th>2012</th>\n",
       "      <td>30937</td>\n",
       "      <td>24277</td>\n",
       "      <td>6660</td>\n",
       "    </tr>\n",
       "    <tr>\n",
       "      <th>2013</th>\n",
       "      <td>31320</td>\n",
       "      <td>0</td>\n",
       "      <td>31320</td>\n",
       "    </tr>\n",
       "    <tr>\n",
       "      <th>2014</th>\n",
       "      <td>25245</td>\n",
       "      <td>25245</td>\n",
       "      <td>0</td>\n",
       "    </tr>\n",
       "    <tr>\n",
       "      <th>2015</th>\n",
       "      <td>32333</td>\n",
       "      <td>32333</td>\n",
       "      <td>0</td>\n",
       "    </tr>\n",
       "    <tr>\n",
       "      <th>2016</th>\n",
       "      <td>26267</td>\n",
       "      <td>0</td>\n",
       "      <td>26267</td>\n",
       "    </tr>\n",
       "  </tbody>\n",
       "</table>\n",
       "<p>253 rows × 3 columns</p>\n",
       "</div>"
      ],
      "text/plain": [
       "           count     geom   no-geo\n",
       "   year                           \n",
       "AK 2012    58644    58597       47\n",
       "   2013    61502    61501        1\n",
       "   2014    60638        0    60638\n",
       "   2015    64571    64571        0\n",
       "   2016    67415        0    67415\n",
       "AL 2012   249674        0   249674\n",
       "   2013   209036        0   209036\n",
       "   2014   260470        0   260470\n",
       "   2015   322581   322579        2\n",
       "   2016   344077        0   344077\n",
       "AR 2012   188622   160542    28080\n",
       "   2013   187020   158853    28167\n",
       "   2014   206000    27108   178892\n",
       "   2015   199764   199760        4\n",
       "   2016   213748        0   213748\n",
       "AZ 2012   358123    87963   270160\n",
       "   2013   433894   138399   295495\n",
       "   2014   453354   453354        0\n",
       "   2015   509052   509051        1\n",
       "   2016   538248        0   538248\n",
       "CA 2012  1404589  1292220   112369\n",
       "   2013  2126138  2022739   103399\n",
       "   2014  2162715  2162710        5\n",
       "   2015  2275302  2275298        4\n",
       "   2016  2589083        0  2589083\n",
       "CO 2012   460093    37267   422826\n",
       "   2013   490225    52778   437447\n",
       "   2014   520307   520306        1\n",
       "   2015   560928   560927        1\n",
       "   2016   615939        0   615939\n",
       "...          ...      ...      ...\n",
       "VA 2012   785633   505710   279923\n",
       "   2013   796308   512415   283893\n",
       "   2014   827142   827136        6\n",
       "   2015   851647   851643        4\n",
       "   2016   884513        0   884513\n",
       "VT 2012    43953    21016    22937\n",
       "   2013    45012    21071    23941\n",
       "   2014    45410    45410        0\n",
       "   2015    46207    46207        0\n",
       "   2016    44056        0    44056\n",
       "WA 2012   548023   548011       12\n",
       "   2013   519765   247792   271973\n",
       "   2014   569696   569695        1\n",
       "   2015   633483   633482        1\n",
       "   2016   559599        0   559599\n",
       "WI 2012   179111   161767    17344\n",
       "   2013   211300        0   211300\n",
       "   2014   248363   248362        1\n",
       "   2015   285213   285211        2\n",
       "   2016   305158        0   305158\n",
       "WV 2012   127742   108988    18754\n",
       "   2013   119948        0   119948\n",
       "   2014   128265   128263        2\n",
       "   2015   128424   128419        5\n",
       "   2016   131319        0   131319\n",
       "WY 2012    30937    24277     6660\n",
       "   2013    31320        0    31320\n",
       "   2014    25245    25245        0\n",
       "   2015    32333    32333        0\n",
       "   2016    26267        0    26267\n",
       "\n",
       "[253 rows x 3 columns]"
      ]
     },
     "execution_count": 8,
     "metadata": {},
     "output_type": "execute_result"
    }
   ],
   "source": [
    "# for state in states:\n",
    "#     for year in state.years:\n",
    "allStates = pd.DataFrame()\n",
    "joined = pd.DataFrame()\n",
    "\n",
    "for state in states.values():\n",
    "    allStates = allStates.add(state, fill_value=0)\n",
    "        \n",
    "allStates.head()\n",
    "\n",
    "joined = pd.concat(states)\n",
    "joined.drop(columns=['bi', 'bi_count'])\n",
    "    \n",
    "# plot_state_incidents(allStates)\n"
   ]
  },
  {
   "cell_type": "code",
   "execution_count": 9,
   "metadata": {},
   "outputs": [
    {
     "data": {
      "text/plain": [
       "7307606.0"
      ]
     },
     "execution_count": 9,
     "metadata": {},
     "output_type": "execute_result"
    }
   ],
   "source": [
    "# joined.sum()\n",
    "allStates.loc[2012]['no-geo']"
   ]
  },
  {
   "cell_type": "code",
   "execution_count": 10,
   "metadata": {},
   "outputs": [
    {
     "data": {
      "text/html": [
       "\n",
       "\n",
       "\n",
       "\n",
       "\n",
       "\n",
       "  <div class=\"bk-root\" id=\"518f752e-c780-430c-88a0-b5bb374afb6c\"></div>\n"
      ]
     },
     "metadata": {},
     "output_type": "display_data"
    },
    {
     "data": {
      "application/javascript": [
       "(function(root) {\n",
       "  function embed_document(root) {\n",
       "    \n",
       "  var docs_json = {\"5687ea46-9010-45b2-8e2b-71e73f5ef77e\":{\"roots\":{\"references\":[{\"attributes\":{\"below\":[{\"id\":\"81748\",\"type\":\"LinearAxis\"}],\"left\":[{\"id\":\"81753\",\"type\":\"LinearAxis\"}],\"plot_height\":350,\"renderers\":[{\"id\":\"81748\",\"type\":\"LinearAxis\"},{\"id\":\"81752\",\"type\":\"Grid\"},{\"id\":\"81753\",\"type\":\"LinearAxis\"},{\"id\":\"81757\",\"type\":\"Grid\"},{\"id\":\"81774\",\"type\":\"Legend\"},{\"id\":\"81767\",\"type\":\"GlyphRenderer\"}],\"title\":{\"id\":\"81737\",\"type\":\"Title\"},\"toolbar\":{\"id\":\"81759\",\"type\":\"Toolbar\"},\"toolbar_location\":null,\"x_range\":{\"id\":\"81740\",\"type\":\"Range1d\"},\"x_scale\":{\"id\":\"81744\",\"type\":\"LinearScale\"},\"y_range\":{\"id\":\"81742\",\"type\":\"DataRange1d\"},\"y_scale\":{\"id\":\"81746\",\"type\":\"LinearScale\"}},\"id\":\"81738\",\"subtype\":\"Figure\",\"type\":\"Plot\"},{\"attributes\":{\"active_drag\":\"auto\",\"active_inspect\":\"auto\",\"active_multi\":null,\"active_scroll\":\"auto\",\"active_tap\":\"auto\",\"tools\":[{\"id\":\"81758\",\"type\":\"HoverTool\"}]},\"id\":\"81759\",\"type\":\"Toolbar\"},{\"attributes\":{\"field\":\"angle\"},\"id\":\"81762\",\"type\":\"CumSum\"},{\"attributes\":{\"field\":\"angle\",\"include_zero\":true},\"id\":\"81761\",\"type\":\"CumSum\"},{\"attributes\":{\"callback\":null,\"data\":{\"angle\":{\"__ndarray__\":\"I92qMdy48T//EptMAkrzP7jl+ti6Z7M/LLO2bnw+7T5Db/5CQicPQA==\",\"dtype\":\"float64\",\"shape\":[5]},\"color\":[\"#0072B2\",\"#E69F00\",\"#F0E442\",\"#009E73\",\"#56B4E9\"],\"country\":[\"2012\",\"2013\",\"2014\",\"2015\",\"2016\"],\"index\":[0,1,2,3,4],\"value\":{\"__ndarray__\":\"AAAAgFXgW0EAAAAAVFdeQQAAAAAUhh5BAAAAAAAAV0AAAABwaYB4QQ==\",\"dtype\":\"float64\",\"shape\":[5]}},\"selected\":{\"id\":\"83017\",\"type\":\"Selection\"},\"selection_policy\":{\"id\":\"83018\",\"type\":\"UnionRenderers\"}},\"id\":\"81763\",\"type\":\"ColumnDataSource\"},{\"attributes\":{\"plot\":null,\"text\":\"Pie Chart\"},\"id\":\"81737\",\"type\":\"Title\"},{\"attributes\":{\"data_source\":{\"id\":\"81763\",\"type\":\"ColumnDataSource\"},\"glyph\":{\"id\":\"81765\",\"type\":\"Wedge\"},\"hover_glyph\":null,\"muted_glyph\":null,\"nonselection_glyph\":{\"id\":\"81766\",\"type\":\"Wedge\"},\"selection_glyph\":null,\"view\":{\"id\":\"81768\",\"type\":\"CDSView\"}},\"id\":\"81767\",\"type\":\"GlyphRenderer\"},{\"attributes\":{\"callback\":null,\"start\":-0.5},\"id\":\"81740\",\"type\":\"Range1d\"},{\"attributes\":{\"callback\":null},\"id\":\"81742\",\"type\":\"DataRange1d\"},{\"attributes\":{},\"id\":\"81744\",\"type\":\"LinearScale\"},{\"attributes\":{\"end_angle\":{\"expr\":{\"id\":\"81762\",\"type\":\"CumSum\"},\"units\":\"rad\"},\"fill_color\":{\"field\":\"color\"},\"line_color\":{\"value\":\"white\"},\"radius\":{\"units\":\"data\",\"value\":0.4},\"start_angle\":{\"expr\":{\"id\":\"81761\",\"type\":\"CumSum\"},\"units\":\"rad\"},\"x\":{\"value\":0},\"y\":{\"value\":1}},\"id\":\"81765\",\"type\":\"Wedge\"},{\"attributes\":{},\"id\":\"81746\",\"type\":\"LinearScale\"},{\"attributes\":{\"source\":{\"id\":\"81763\",\"type\":\"ColumnDataSource\"}},\"id\":\"81768\",\"type\":\"CDSView\"},{\"attributes\":{},\"id\":\"83018\",\"type\":\"UnionRenderers\"},{\"attributes\":{\"axis_label\":null,\"formatter\":{\"id\":\"81772\",\"type\":\"BasicTickFormatter\"},\"plot\":{\"id\":\"81738\",\"subtype\":\"Figure\",\"type\":\"Plot\"},\"ticker\":{\"id\":\"81749\",\"type\":\"BasicTicker\"},\"visible\":false},\"id\":\"81748\",\"type\":\"LinearAxis\"},{\"attributes\":{},\"id\":\"81770\",\"type\":\"BasicTickFormatter\"},{\"attributes\":{},\"id\":\"81749\",\"type\":\"BasicTicker\"},{\"attributes\":{},\"id\":\"81772\",\"type\":\"BasicTickFormatter\"},{\"attributes\":{\"grid_line_color\":{\"value\":null},\"plot\":{\"id\":\"81738\",\"subtype\":\"Figure\",\"type\":\"Plot\"},\"ticker\":{\"id\":\"81749\",\"type\":\"BasicTicker\"}},\"id\":\"81752\",\"type\":\"Grid\"},{\"attributes\":{\"items\":[{\"id\":\"81775\",\"type\":\"LegendItem\"}],\"plot\":{\"id\":\"81738\",\"subtype\":\"Figure\",\"type\":\"Plot\"}},\"id\":\"81774\",\"type\":\"Legend\"},{\"attributes\":{\"axis_label\":null,\"formatter\":{\"id\":\"81770\",\"type\":\"BasicTickFormatter\"},\"plot\":{\"id\":\"81738\",\"subtype\":\"Figure\",\"type\":\"Plot\"},\"ticker\":{\"id\":\"81754\",\"type\":\"BasicTicker\"},\"visible\":false},\"id\":\"81753\",\"type\":\"LinearAxis\"},{\"attributes\":{\"label\":{\"field\":\"country\"},\"renderers\":[{\"id\":\"81767\",\"type\":\"GlyphRenderer\"}]},\"id\":\"81775\",\"type\":\"LegendItem\"},{\"attributes\":{},\"id\":\"81754\",\"type\":\"BasicTicker\"},{\"attributes\":{\"dimension\":1,\"grid_line_color\":{\"value\":null},\"plot\":{\"id\":\"81738\",\"subtype\":\"Figure\",\"type\":\"Plot\"},\"ticker\":{\"id\":\"81754\",\"type\":\"BasicTicker\"}},\"id\":\"81757\",\"type\":\"Grid\"},{\"attributes\":{\"end_angle\":{\"expr\":{\"id\":\"81762\",\"type\":\"CumSum\"},\"units\":\"rad\"},\"fill_alpha\":{\"value\":0.1},\"fill_color\":{\"value\":\"#1f77b4\"},\"line_alpha\":{\"value\":0.1},\"line_color\":{\"value\":\"#1f77b4\"},\"radius\":{\"units\":\"data\",\"value\":0.4},\"start_angle\":{\"expr\":{\"id\":\"81761\",\"type\":\"CumSum\"},\"units\":\"rad\"},\"x\":{\"value\":0},\"y\":{\"value\":1}},\"id\":\"81766\",\"type\":\"Wedge\"},{\"attributes\":{},\"id\":\"83017\",\"type\":\"Selection\"},{\"attributes\":{\"callback\":null,\"renderers\":\"auto\",\"tooltips\":\"@country: @value\"},\"id\":\"81758\",\"type\":\"HoverTool\"}],\"root_ids\":[\"81738\"]},\"title\":\"Bokeh Application\",\"version\":\"1.0.0\"}};\n",
       "  var render_items = [{\"docid\":\"5687ea46-9010-45b2-8e2b-71e73f5ef77e\",\"roots\":{\"81738\":\"518f752e-c780-430c-88a0-b5bb374afb6c\"}}];\n",
       "  root.Bokeh.embed.embed_items_notebook(docs_json, render_items);\n",
       "\n",
       "  }\n",
       "  if (root.Bokeh !== undefined) {\n",
       "    embed_document(root);\n",
       "  } else {\n",
       "    var attempts = 0;\n",
       "    var timer = setInterval(function(root) {\n",
       "      if (root.Bokeh !== undefined) {\n",
       "        embed_document(root);\n",
       "        clearInterval(timer);\n",
       "      }\n",
       "      attempts++;\n",
       "      if (attempts > 100) {\n",
       "        console.log(\"Bokeh: ERROR: Unable to run BokehJS code because BokehJS library is missing\");\n",
       "        clearInterval(timer);\n",
       "      }\n",
       "    }, 10, root)\n",
       "  }\n",
       "})(window);"
      ],
      "application/vnd.bokehjs_exec.v0+json": ""
     },
     "metadata": {
      "application/vnd.bokehjs_exec.v0+json": {
       "id": "81738"
      }
     },
     "output_type": "display_data"
    }
   ],
   "source": [
    "from math import pi\n",
    "\n",
    "import pandas as pd\n",
    "\n",
    "from bokeh.io import output_file, show\n",
    "from bokeh.palettes import Colorblind\n",
    "from bokeh.plotting import figure\n",
    "from bokeh.transform import cumsum\n",
    "\n",
    "geom = allStates.loc[2012]['geom']\n",
    "non = allStates.loc[2012]['no-geo']\n",
    "\n",
    "\n",
    "x = {\n",
    "    '2012': allStates.loc[2012]['no-geo'],\n",
    "    '2013': allStates.loc[2013]['no-geo'],\n",
    "    '2014': allStates.loc[2014]['no-geo'],\n",
    "    '2015': allStates.loc[2015]['no-geo'],\n",
    "    '2016': allStates.loc[2016]['no-geo'],\n",
    "}\n",
    "\n",
    "data = pd.Series(x).reset_index(name='value').rename(columns={'index':'country'})\n",
    "data['angle'] = data['value']/data['value'].sum() * 2*pi\n",
    "data['color'] = Colorblind[len(x)]\n",
    "\n",
    "p = figure(plot_height=350, title=\"Pie Chart\", toolbar_location=None,\n",
    "           tools=\"hover\", tooltips=\"@country: @value\", x_range=(-0.5, 1.0))\n",
    "\n",
    "p.wedge(x=0, y=1, radius=0.4,\n",
    "        start_angle=cumsum('angle', include_zero=True), end_angle=cumsum('angle'),\n",
    "        line_color=\"white\", fill_color='color', legend='country', source=data)\n",
    "\n",
    "p.axis.axis_label=None\n",
    "p.axis.visible=False\n",
    "p.grid.grid_line_color = None\n",
    "show(p)\n",
    "    "
   ]
  },
  {
   "cell_type": "code",
   "execution_count": 11,
   "metadata": {},
   "outputs": [
    {
     "data": {
      "text/html": [
       "\n",
       "\n",
       "\n",
       "\n",
       "\n",
       "\n",
       "  <div class=\"bk-root\" id=\"ca0f1cb0-e289-4be7-aff4-b017d1041cf6\"></div>\n"
      ]
     },
     "metadata": {},
     "output_type": "display_data"
    },
    {
     "data": {
      "application/javascript": [
       "(function(root) {\n",
       "  function embed_document(root) {\n",
       "    \n",
       "  var docs_json = {\"fd91dd1d-7a93-4a11-8f60-e8cae98a66c9\":{\"roots\":{\"references\":[{\"attributes\":{\"below\":[{\"id\":\"83072\",\"type\":\"LinearAxis\"}],\"left\":[{\"id\":\"83077\",\"type\":\"LinearAxis\"}],\"plot_height\":350,\"renderers\":[{\"id\":\"83072\",\"type\":\"LinearAxis\"},{\"id\":\"83076\",\"type\":\"Grid\"},{\"id\":\"83077\",\"type\":\"LinearAxis\"},{\"id\":\"83081\",\"type\":\"Grid\"},{\"id\":\"83098\",\"type\":\"Legend\"},{\"id\":\"83091\",\"type\":\"GlyphRenderer\"}],\"title\":{\"id\":\"83061\",\"type\":\"Title\"},\"toolbar\":{\"id\":\"83083\",\"type\":\"Toolbar\"},\"toolbar_location\":null,\"x_range\":{\"id\":\"83064\",\"type\":\"Range1d\"},\"x_scale\":{\"id\":\"83068\",\"type\":\"LinearScale\"},\"y_range\":{\"id\":\"83066\",\"type\":\"DataRange1d\"},\"y_scale\":{\"id\":\"83070\",\"type\":\"LinearScale\"}},\"id\":\"83062\",\"subtype\":\"Figure\",\"type\":\"Plot\"},{\"attributes\":{\"label\":{\"field\":\"country\"},\"renderers\":[{\"id\":\"83091\",\"type\":\"GlyphRenderer\"}]},\"id\":\"83099\",\"type\":\"LegendItem\"},{\"attributes\":{\"callback\":null,\"start\":-0.5},\"id\":\"83064\",\"type\":\"Range1d\"},{\"attributes\":{\"data_source\":{\"id\":\"83087\",\"type\":\"ColumnDataSource\"},\"glyph\":{\"id\":\"83089\",\"type\":\"Wedge\"},\"hover_glyph\":null,\"muted_glyph\":null,\"nonselection_glyph\":{\"id\":\"83090\",\"type\":\"Wedge\"},\"selection_glyph\":null,\"view\":{\"id\":\"83092\",\"type\":\"CDSView\"}},\"id\":\"83091\",\"type\":\"GlyphRenderer\"},{\"attributes\":{\"callback\":null},\"id\":\"83066\",\"type\":\"DataRange1d\"},{\"attributes\":{},\"id\":\"83068\",\"type\":\"LinearScale\"},{\"attributes\":{},\"id\":\"83094\",\"type\":\"BasicTickFormatter\"},{\"attributes\":{\"end_angle\":{\"expr\":{\"id\":\"83086\",\"type\":\"CumSum\"},\"units\":\"rad\"},\"fill_color\":{\"field\":\"color\"},\"line_color\":{\"value\":\"white\"},\"radius\":{\"units\":\"data\",\"value\":0.4},\"start_angle\":{\"expr\":{\"id\":\"83085\",\"type\":\"CumSum\"},\"units\":\"rad\"},\"x\":{\"value\":0},\"y\":{\"value\":1}},\"id\":\"83089\",\"type\":\"Wedge\"},{\"attributes\":{},\"id\":\"83070\",\"type\":\"LinearScale\"},{\"attributes\":{\"source\":{\"id\":\"83087\",\"type\":\"ColumnDataSource\"}},\"id\":\"83092\",\"type\":\"CDSView\"},{\"attributes\":{\"axis_label\":null,\"formatter\":{\"id\":\"83096\",\"type\":\"BasicTickFormatter\"},\"plot\":{\"id\":\"83062\",\"subtype\":\"Figure\",\"type\":\"Plot\"},\"ticker\":{\"id\":\"83073\",\"type\":\"BasicTicker\"},\"visible\":false},\"id\":\"83072\",\"type\":\"LinearAxis\"},{\"attributes\":{\"items\":[{\"id\":\"83099\",\"type\":\"LegendItem\"}],\"plot\":{\"id\":\"83062\",\"subtype\":\"Figure\",\"type\":\"Plot\"}},\"id\":\"83098\",\"type\":\"Legend\"},{\"attributes\":{},\"id\":\"84349\",\"type\":\"UnionRenderers\"},{\"attributes\":{},\"id\":\"83073\",\"type\":\"BasicTicker\"},{\"attributes\":{\"grid_line_color\":{\"value\":null},\"plot\":{\"id\":\"83062\",\"subtype\":\"Figure\",\"type\":\"Plot\"},\"ticker\":{\"id\":\"83073\",\"type\":\"BasicTicker\"}},\"id\":\"83076\",\"type\":\"Grid\"},{\"attributes\":{\"axis_label\":null,\"formatter\":{\"id\":\"83094\",\"type\":\"BasicTickFormatter\"},\"plot\":{\"id\":\"83062\",\"subtype\":\"Figure\",\"type\":\"Plot\"},\"ticker\":{\"id\":\"83078\",\"type\":\"BasicTicker\"},\"visible\":false},\"id\":\"83077\",\"type\":\"LinearAxis\"},{\"attributes\":{},\"id\":\"83078\",\"type\":\"BasicTicker\"},{\"attributes\":{\"dimension\":1,\"grid_line_color\":{\"value\":null},\"plot\":{\"id\":\"83062\",\"subtype\":\"Figure\",\"type\":\"Plot\"},\"ticker\":{\"id\":\"83078\",\"type\":\"BasicTicker\"}},\"id\":\"83081\",\"type\":\"Grid\"},{\"attributes\":{\"active_drag\":\"auto\",\"active_inspect\":\"auto\",\"active_multi\":null,\"active_scroll\":\"auto\",\"active_tap\":\"auto\",\"tools\":[{\"id\":\"83082\",\"type\":\"HoverTool\"}]},\"id\":\"83083\",\"type\":\"Toolbar\"},{\"attributes\":{},\"id\":\"84348\",\"type\":\"Selection\"},{\"attributes\":{\"callback\":null,\"renderers\":\"auto\",\"tooltips\":\"@country: @value\"},\"id\":\"83082\",\"type\":\"HoverTool\"},{\"attributes\":{\"plot\":null,\"text\":\"Pie Chart\"},\"id\":\"83061\",\"type\":\"Title\"},{\"attributes\":{\"field\":\"angle\"},\"id\":\"83086\",\"type\":\"CumSum\"},{\"attributes\":{\"field\":\"angle\",\"include_zero\":true},\"id\":\"83085\",\"type\":\"CumSum\"},{\"attributes\":{},\"id\":\"83096\",\"type\":\"BasicTickFormatter\"},{\"attributes\":{\"callback\":null,\"data\":{\"angle\":{\"__ndarray__\":\"7RAIqdqNEEBXOHhWQSgBQAAAAAAAAAAA\",\"dtype\":\"float64\",\"shape\":[3]},\"color\":[\"#0072B2\",\"#E69F00\",\"#F0E442\"],\"country\":[\"Geom\",\"No Geom\",\"Not updated\"],\"index\":[0,1,2],\"value\":{\"__ndarray__\":\"AAAAYHjlakEAAACAVeBbQQAAAAAAAAAA\",\"dtype\":\"float64\",\"shape\":[3]}},\"selected\":{\"id\":\"84348\",\"type\":\"Selection\"},\"selection_policy\":{\"id\":\"84349\",\"type\":\"UnionRenderers\"}},\"id\":\"83087\",\"type\":\"ColumnDataSource\"},{\"attributes\":{\"end_angle\":{\"expr\":{\"id\":\"83086\",\"type\":\"CumSum\"},\"units\":\"rad\"},\"fill_alpha\":{\"value\":0.1},\"fill_color\":{\"value\":\"#1f77b4\"},\"line_alpha\":{\"value\":0.1},\"line_color\":{\"value\":\"#1f77b4\"},\"radius\":{\"units\":\"data\",\"value\":0.4},\"start_angle\":{\"expr\":{\"id\":\"83085\",\"type\":\"CumSum\"},\"units\":\"rad\"},\"x\":{\"value\":0},\"y\":{\"value\":1}},\"id\":\"83090\",\"type\":\"Wedge\"}],\"root_ids\":[\"83062\"]},\"title\":\"Bokeh Application\",\"version\":\"1.0.0\"}};\n",
       "  var render_items = [{\"docid\":\"fd91dd1d-7a93-4a11-8f60-e8cae98a66c9\",\"roots\":{\"83062\":\"ca0f1cb0-e289-4be7-aff4-b017d1041cf6\"}}];\n",
       "  root.Bokeh.embed.embed_items_notebook(docs_json, render_items);\n",
       "\n",
       "  }\n",
       "  if (root.Bokeh !== undefined) {\n",
       "    embed_document(root);\n",
       "  } else {\n",
       "    var attempts = 0;\n",
       "    var timer = setInterval(function(root) {\n",
       "      if (root.Bokeh !== undefined) {\n",
       "        embed_document(root);\n",
       "        clearInterval(timer);\n",
       "      }\n",
       "      attempts++;\n",
       "      if (attempts > 100) {\n",
       "        console.log(\"Bokeh: ERROR: Unable to run BokehJS code because BokehJS library is missing\");\n",
       "        clearInterval(timer);\n",
       "      }\n",
       "    }, 10, root)\n",
       "  }\n",
       "})(window);"
      ],
      "application/vnd.bokehjs_exec.v0+json": ""
     },
     "metadata": {
      "application/vnd.bokehjs_exec.v0+json": {
       "id": "83062"
      }
     },
     "output_type": "display_data"
    }
   ],
   "source": [
    "from math import pi\n",
    "\n",
    "import pandas as pd\n",
    "\n",
    "from bokeh.io import output_file, show\n",
    "from bokeh.palettes import Colorblind\n",
    "from bokeh.plotting import figure\n",
    "from bokeh.transform import cumsum\n",
    "\n",
    "geom = allStates.loc[2012]['geom']\n",
    "non = allStates.loc[2012]['no-geo']\n",
    "\n",
    "x = {\n",
    "    'Geom': geom,\n",
    "    'No Geom': non,\n",
    "    'Not updated': 0\n",
    "}\n",
    "\n",
    "data = pd.Series(x).reset_index(name='value').rename(columns={'index':'country'})\n",
    "data['angle'] = data['value']/data['value'].sum() * 2*pi\n",
    "data['color'] = Colorblind[len(x)]\n",
    "\n",
    "p = figure(plot_height=350, title=\"Pie Chart\", toolbar_location=None,\n",
    "           tools=\"hover\", tooltips=\"@country: @value\", x_range=(-0.5, 1.0))\n",
    "\n",
    "p.wedge(x=0, y=1, radius=0.4,\n",
    "        start_angle=cumsum('angle', include_zero=True), end_angle=cumsum('angle'),\n",
    "        line_color=\"white\", fill_color='color', legend='country', source=data)\n",
    "\n",
    "p.axis.axis_label=None\n",
    "p.axis.visible=False\n",
    "p.grid.grid_line_color = None\n",
    "show(p)"
   ]
  },
  {
   "cell_type": "code",
   "execution_count": 12,
   "metadata": {},
   "outputs": [
    {
     "data": {
      "text/plain": [
       "count       117383071\n",
       "geom         75929729\n",
       "bi_count    117333294\n",
       "no-geo       41453342\n",
       "bi              49777\n",
       "dtype: int64"
      ]
     },
     "execution_count": 12,
     "metadata": {},
     "output_type": "execute_result"
    }
   ],
   "source": [
    "joined.sum()"
   ]
  },
  {
   "cell_type": "code",
   "execution_count": 13,
   "metadata": {},
   "outputs": [
    {
     "name": "stdout",
     "output_type": "stream",
     "text": [
      "without geom %35.31458296912338\n"
     ]
    }
   ],
   "source": [
    "percentage_without_geom = joined.sum()['no-geo'] * 100 / joined.sum()['count']\n",
    "print(\"without geom %%%s\" % (percentage_without_geom,))"
   ]
  },
  {
   "cell_type": "code",
   "execution_count": 14,
   "metadata": {},
   "outputs": [
    {
     "data": {
      "text/html": [
       "\n",
       "\n",
       "\n",
       "\n",
       "\n",
       "\n",
       "  <div class=\"bk-root\" id=\"87899c93-2ba6-4efc-a4c7-fdf53d796403\"></div>\n"
      ]
     },
     "metadata": {},
     "output_type": "display_data"
    },
    {
     "data": {
      "application/javascript": [
       "(function(root) {\n",
       "  function embed_document(root) {\n",
       "    \n",
       "  var docs_json = {\"7a4caa50-d4e2-4b7d-8e2a-f6c54fb26719\":{\"roots\":{\"references\":[{\"attributes\":{\"below\":[{\"id\":\"84403\",\"type\":\"CategoricalAxis\"}],\"left\":[{\"id\":\"84407\",\"type\":\"LinearAxis\"}],\"outline_line_color\":{\"value\":null},\"plot_height\":250,\"renderers\":[{\"id\":\"84403\",\"type\":\"CategoricalAxis\"},{\"id\":\"84406\",\"type\":\"Grid\"},{\"id\":\"84407\",\"type\":\"LinearAxis\"},{\"id\":\"84411\",\"type\":\"Grid\"},{\"id\":\"84420\",\"type\":\"BoxAnnotation\"},{\"id\":\"84445\",\"type\":\"Legend\"},{\"id\":\"84437\",\"type\":\"GlyphRenderer\"},{\"id\":\"84451\",\"type\":\"GlyphRenderer\"},{\"id\":\"84466\",\"type\":\"GlyphRenderer\"}],\"title\":{\"id\":\"84392\",\"type\":\"Title\"},\"toolbar\":{\"id\":\"84418\",\"type\":\"Toolbar\"},\"toolbar_location\":null,\"x_range\":{\"id\":\"84395\",\"type\":\"FactorRange\"},\"x_scale\":{\"id\":\"84399\",\"type\":\"CategoricalScale\"},\"y_range\":{\"id\":\"84397\",\"type\":\"DataRange1d\"},\"y_scale\":{\"id\":\"84401\",\"type\":\"LinearScale\"}},\"id\":\"84393\",\"subtype\":\"Figure\",\"type\":\"Plot\"},{\"attributes\":{},\"id\":\"84442\",\"type\":\"CategoricalTickFormatter\"},{\"attributes\":{\"formatter\":{\"id\":\"84440\",\"type\":\"BasicTickFormatter\"},\"minor_tick_line_color\":{\"value\":null},\"plot\":{\"id\":\"84393\",\"subtype\":\"Figure\",\"type\":\"Plot\"},\"ticker\":{\"id\":\"84408\",\"type\":\"BasicTicker\"}},\"id\":\"84407\",\"type\":\"LinearAxis\"},{\"attributes\":{\"fields\":[\"geom\",\"no-geo\",\"bi\"]},\"id\":\"84432\",\"type\":\"Stack\"},{\"attributes\":{\"overlay\":{\"id\":\"84420\",\"type\":\"BoxAnnotation\"}},\"id\":\"84414\",\"type\":\"BoxZoomTool\"},{\"attributes\":{\"items\":[{\"id\":\"84446\",\"type\":\"LegendItem\"},{\"id\":\"84461\",\"type\":\"LegendItem\"},{\"id\":\"84478\",\"type\":\"LegendItem\"}],\"location\":\"top_left\",\"orientation\":\"horizontal\",\"plot\":{\"id\":\"84393\",\"subtype\":\"Figure\",\"type\":\"Plot\"}},\"id\":\"84445\",\"type\":\"Legend\"},{\"attributes\":{},\"id\":\"84415\",\"type\":\"SaveTool\"},{\"attributes\":{\"label\":{\"value\":\"geom\"},\"renderers\":[{\"id\":\"84437\",\"type\":\"GlyphRenderer\"}]},\"id\":\"84446\",\"type\":\"LegendItem\"},{\"attributes\":{\"grid_line_color\":{\"value\":null},\"plot\":{\"id\":\"84393\",\"subtype\":\"Figure\",\"type\":\"Plot\"},\"ticker\":{\"id\":\"84404\",\"type\":\"CategoricalTicker\"}},\"id\":\"84406\",\"type\":\"Grid\"},{\"attributes\":{},\"id\":\"84416\",\"type\":\"ResetTool\"},{\"attributes\":{\"label\":{\"value\":\"no-geo\"},\"renderers\":[{\"id\":\"84451\",\"type\":\"GlyphRenderer\"}]},\"id\":\"84461\",\"type\":\"LegendItem\"},{\"attributes\":{\"callback\":null,\"data\":{\"bi\":{\"__ndarray__\":\"AAAAAAAAJEAAAAAAAAAAAAAAAACAANZAAAAAAECZ2kAAAAAAAAAAAA==\",\"dtype\":\"float64\",\"shape\":[5]},\"geom\":{\"__ndarray__\":\"AAAAYHjlakEAAADgAv9qQQAAAADcxnVBAAAAcG6wd0EAAAAAAAAAAA==\",\"dtype\":\"float64\",\"shape\":[5]},\"no-geo\":{\"__ndarray__\":\"AAAAgFXgW0EAAAAAVFdeQQAAAAAUhh5BAAAAAAAAV0AAAABwaYB4QQ==\",\"dtype\":\"float64\",\"shape\":[5]},\"years\":[\"2012\",\"2013\",\"2014\",\"2015\",\"2016\"]},\"selected\":{\"id\":\"84476\",\"type\":\"Selection\"},\"selection_policy\":{\"id\":\"84477\",\"type\":\"UnionRenderers\"}},\"id\":\"84447\",\"type\":\"ColumnDataSource\"},{\"attributes\":{},\"id\":\"84417\",\"type\":\"HelpTool\"},{\"attributes\":{\"bottom\":{\"expr\":{\"id\":\"84429\",\"type\":\"Stack\"}},\"fill_color\":{\"value\":\"#e84d60\"},\"line_color\":{\"value\":\"#e84d60\"},\"top\":{\"expr\":{\"id\":\"84430\",\"type\":\"Stack\"}},\"width\":{\"value\":0.9},\"x\":{\"field\":\"years\"}},\"id\":\"84449\",\"type\":\"VBar\"},{\"attributes\":{},\"id\":\"84408\",\"type\":\"BasicTicker\"},{\"attributes\":{\"bottom\":{\"expr\":{\"id\":\"84429\",\"type\":\"Stack\"}},\"fill_alpha\":{\"value\":0.1},\"fill_color\":{\"value\":\"#1f77b4\"},\"line_alpha\":{\"value\":0.1},\"line_color\":{\"value\":\"#1f77b4\"},\"top\":{\"expr\":{\"id\":\"84430\",\"type\":\"Stack\"}},\"width\":{\"value\":0.9},\"x\":{\"field\":\"years\"}},\"id\":\"84450\",\"type\":\"VBar\"},{\"attributes\":{\"fields\":[\"geom\",\"no-geo\"]},\"id\":\"84430\",\"type\":\"Stack\"},{\"attributes\":{\"active_drag\":\"auto\",\"active_inspect\":\"auto\",\"active_multi\":null,\"active_scroll\":\"auto\",\"active_tap\":\"auto\",\"tools\":[{\"id\":\"84412\",\"type\":\"PanTool\"},{\"id\":\"84413\",\"type\":\"WheelZoomTool\"},{\"id\":\"84414\",\"type\":\"BoxZoomTool\"},{\"id\":\"84415\",\"type\":\"SaveTool\"},{\"id\":\"84416\",\"type\":\"ResetTool\"},{\"id\":\"84417\",\"type\":\"HelpTool\"}]},\"id\":\"84418\",\"type\":\"Toolbar\"},{\"attributes\":{\"data_source\":{\"id\":\"84447\",\"type\":\"ColumnDataSource\"},\"glyph\":{\"id\":\"84449\",\"type\":\"VBar\"},\"hover_glyph\":null,\"muted_glyph\":null,\"name\":\"no-geo\",\"nonselection_glyph\":{\"id\":\"84450\",\"type\":\"VBar\"},\"selection_glyph\":null,\"view\":{\"id\":\"84452\",\"type\":\"CDSView\"}},\"id\":\"84451\",\"type\":\"GlyphRenderer\"},{\"attributes\":{\"plot\":null,\"text\":\"Totals\"},\"id\":\"84392\",\"type\":\"Title\"},{\"attributes\":{\"bottom_units\":\"screen\",\"fill_alpha\":{\"value\":0.5},\"fill_color\":{\"value\":\"lightgrey\"},\"left_units\":\"screen\",\"level\":\"overlay\",\"line_alpha\":{\"value\":1.0},\"line_color\":{\"value\":\"black\"},\"line_dash\":[4,4],\"line_width\":{\"value\":2},\"plot\":null,\"render_mode\":\"css\",\"right_units\":\"screen\",\"top_units\":\"screen\"},\"id\":\"84420\",\"type\":\"BoxAnnotation\"},{\"attributes\":{\"fields\":[\"geom\"]},\"id\":\"84428\",\"type\":\"Stack\"},{\"attributes\":{\"fields\":[]},\"id\":\"84427\",\"type\":\"Stack\"},{\"attributes\":{\"fields\":[\"geom\",\"no-geo\"]},\"id\":\"84431\",\"type\":\"Stack\"},{\"attributes\":{},\"id\":\"84459\",\"type\":\"Selection\"},{\"attributes\":{\"dimension\":1,\"plot\":{\"id\":\"84393\",\"subtype\":\"Figure\",\"type\":\"Plot\"},\"ticker\":{\"id\":\"84408\",\"type\":\"BasicTicker\"}},\"id\":\"84411\",\"type\":\"Grid\"},{\"attributes\":{\"fields\":[\"geom\"]},\"id\":\"84429\",\"type\":\"Stack\"},{\"attributes\":{\"source\":{\"id\":\"84447\",\"type\":\"ColumnDataSource\"}},\"id\":\"84452\",\"type\":\"CDSView\"},{\"attributes\":{\"callback\":null,\"data\":{\"bi\":{\"__ndarray__\":\"AAAAAAAAJEAAAAAAAAAAAAAAAACAANZAAAAAAECZ2kAAAAAAAAAAAA==\",\"dtype\":\"float64\",\"shape\":[5]},\"geom\":{\"__ndarray__\":\"AAAAYHjlakEAAADgAv9qQQAAAADcxnVBAAAAcG6wd0EAAAAAAAAAAA==\",\"dtype\":\"float64\",\"shape\":[5]},\"no-geo\":{\"__ndarray__\":\"AAAAgFXgW0EAAAAAVFdeQQAAAAAUhh5BAAAAAAAAV0AAAABwaYB4QQ==\",\"dtype\":\"float64\",\"shape\":[5]},\"years\":[\"2012\",\"2013\",\"2014\",\"2015\",\"2016\"]},\"selected\":{\"id\":\"84459\",\"type\":\"Selection\"},\"selection_policy\":{\"id\":\"84460\",\"type\":\"UnionRenderers\"}},\"id\":\"84433\",\"type\":\"ColumnDataSource\"},{\"attributes\":{},\"id\":\"84460\",\"type\":\"UnionRenderers\"},{\"attributes\":{},\"id\":\"84413\",\"type\":\"WheelZoomTool\"},{\"attributes\":{\"callback\":null,\"data\":{\"bi\":{\"__ndarray__\":\"AAAAAAAAJEAAAAAAAAAAAAAAAACAANZAAAAAAECZ2kAAAAAAAAAAAA==\",\"dtype\":\"float64\",\"shape\":[5]},\"geom\":{\"__ndarray__\":\"AAAAYHjlakEAAADgAv9qQQAAAADcxnVBAAAAcG6wd0EAAAAAAAAAAA==\",\"dtype\":\"float64\",\"shape\":[5]},\"no-geo\":{\"__ndarray__\":\"AAAAgFXgW0EAAAAAVFdeQQAAAAAUhh5BAAAAAAAAV0AAAABwaYB4QQ==\",\"dtype\":\"float64\",\"shape\":[5]},\"years\":[\"2012\",\"2013\",\"2014\",\"2015\",\"2016\"]},\"selected\":{\"id\":\"85739\",\"type\":\"Selection\"},\"selection_policy\":{\"id\":\"85740\",\"type\":\"UnionRenderers\"}},\"id\":\"84462\",\"type\":\"ColumnDataSource\"},{\"attributes\":{\"label\":{\"value\":\"bi\"},\"renderers\":[{\"id\":\"84466\",\"type\":\"GlyphRenderer\"}]},\"id\":\"84478\",\"type\":\"LegendItem\"},{\"attributes\":{\"bottom\":{\"expr\":{\"id\":\"84431\",\"type\":\"Stack\"}},\"fill_color\":{\"value\":\"#cccccc\"},\"line_color\":{\"value\":\"#cccccc\"},\"top\":{\"expr\":{\"id\":\"84432\",\"type\":\"Stack\"}},\"width\":{\"value\":0.9},\"x\":{\"field\":\"years\"}},\"id\":\"84464\",\"type\":\"VBar\"},{\"attributes\":{\"data_source\":{\"id\":\"84462\",\"type\":\"ColumnDataSource\"},\"glyph\":{\"id\":\"84464\",\"type\":\"VBar\"},\"hover_glyph\":null,\"muted_glyph\":null,\"name\":\"bi\",\"nonselection_glyph\":{\"id\":\"84465\",\"type\":\"VBar\"},\"selection_glyph\":null,\"view\":{\"id\":\"84467\",\"type\":\"CDSView\"}},\"id\":\"84466\",\"type\":\"GlyphRenderer\"},{\"attributes\":{},\"id\":\"84412\",\"type\":\"PanTool\"},{\"attributes\":{\"bottom\":{\"expr\":{\"id\":\"84431\",\"type\":\"Stack\"}},\"fill_alpha\":{\"value\":0.1},\"fill_color\":{\"value\":\"#1f77b4\"},\"line_alpha\":{\"value\":0.1},\"line_color\":{\"value\":\"#1f77b4\"},\"top\":{\"expr\":{\"id\":\"84432\",\"type\":\"Stack\"}},\"width\":{\"value\":0.9},\"x\":{\"field\":\"years\"}},\"id\":\"84465\",\"type\":\"VBar\"},{\"attributes\":{\"bottom\":{\"expr\":{\"id\":\"84427\",\"type\":\"Stack\"}},\"fill_color\":{\"value\":\"#5CC9F5\"},\"line_color\":{\"value\":\"#5CC9F5\"},\"top\":{\"expr\":{\"id\":\"84428\",\"type\":\"Stack\"}},\"width\":{\"value\":0.9},\"x\":{\"field\":\"years\"}},\"id\":\"84435\",\"type\":\"VBar\"},{\"attributes\":{\"source\":{\"id\":\"84462\",\"type\":\"ColumnDataSource\"}},\"id\":\"84467\",\"type\":\"CDSView\"},{\"attributes\":{},\"id\":\"84404\",\"type\":\"CategoricalTicker\"},{\"attributes\":{},\"id\":\"84399\",\"type\":\"CategoricalScale\"},{\"attributes\":{\"bottom\":{\"expr\":{\"id\":\"84427\",\"type\":\"Stack\"}},\"fill_alpha\":{\"value\":0.1},\"fill_color\":{\"value\":\"#1f77b4\"},\"line_alpha\":{\"value\":0.1},\"line_color\":{\"value\":\"#1f77b4\"},\"top\":{\"expr\":{\"id\":\"84428\",\"type\":\"Stack\"}},\"width\":{\"value\":0.9},\"x\":{\"field\":\"years\"}},\"id\":\"84436\",\"type\":\"VBar\"},{\"attributes\":{\"formatter\":{\"id\":\"84442\",\"type\":\"CategoricalTickFormatter\"},\"minor_tick_line_color\":{\"value\":null},\"plot\":{\"id\":\"84393\",\"subtype\":\"Figure\",\"type\":\"Plot\"},\"ticker\":{\"id\":\"84404\",\"type\":\"CategoricalTicker\"}},\"id\":\"84403\",\"type\":\"CategoricalAxis\"},{\"attributes\":{},\"id\":\"84476\",\"type\":\"Selection\"},{\"attributes\":{\"data_source\":{\"id\":\"84433\",\"type\":\"ColumnDataSource\"},\"glyph\":{\"id\":\"84435\",\"type\":\"VBar\"},\"hover_glyph\":null,\"muted_glyph\":null,\"name\":\"geom\",\"nonselection_glyph\":{\"id\":\"84436\",\"type\":\"VBar\"},\"selection_glyph\":null,\"view\":{\"id\":\"84438\",\"type\":\"CDSView\"}},\"id\":\"84437\",\"type\":\"GlyphRenderer\"},{\"attributes\":{},\"id\":\"84477\",\"type\":\"UnionRenderers\"},{\"attributes\":{},\"id\":\"84401\",\"type\":\"LinearScale\"},{\"attributes\":{\"callback\":null,\"factors\":[\"2012\",\"2013\",\"2014\",\"2015\",\"2016\"],\"range_padding\":0.1},\"id\":\"84395\",\"type\":\"FactorRange\"},{\"attributes\":{},\"id\":\"85739\",\"type\":\"Selection\"},{\"attributes\":{\"callback\":null,\"start\":0},\"id\":\"84397\",\"type\":\"DataRange1d\"},{\"attributes\":{},\"id\":\"85740\",\"type\":\"UnionRenderers\"},{\"attributes\":{\"source\":{\"id\":\"84433\",\"type\":\"ColumnDataSource\"}},\"id\":\"84438\",\"type\":\"CDSView\"},{\"attributes\":{},\"id\":\"84440\",\"type\":\"BasicTickFormatter\"}],\"root_ids\":[\"84393\"]},\"title\":\"Bokeh Application\",\"version\":\"1.0.0\"}};\n",
       "  var render_items = [{\"docid\":\"7a4caa50-d4e2-4b7d-8e2a-f6c54fb26719\",\"roots\":{\"84393\":\"87899c93-2ba6-4efc-a4c7-fdf53d796403\"}}];\n",
       "  root.Bokeh.embed.embed_items_notebook(docs_json, render_items);\n",
       "\n",
       "  }\n",
       "  if (root.Bokeh !== undefined) {\n",
       "    embed_document(root);\n",
       "  } else {\n",
       "    var attempts = 0;\n",
       "    var timer = setInterval(function(root) {\n",
       "      if (root.Bokeh !== undefined) {\n",
       "        embed_document(root);\n",
       "        clearInterval(timer);\n",
       "      }\n",
       "      attempts++;\n",
       "      if (attempts > 100) {\n",
       "        console.log(\"Bokeh: ERROR: Unable to run BokehJS code because BokehJS library is missing\");\n",
       "        clearInterval(timer);\n",
       "      }\n",
       "    }, 10, root)\n",
       "  }\n",
       "})(window);"
      ],
      "application/vnd.bokehjs_exec.v0+json": ""
     },
     "metadata": {
      "application/vnd.bokehjs_exec.v0+json": {
       "id": "84393"
      }
     },
     "output_type": "display_data"
    }
   ],
   "source": [
    "plot_incidents(allStates, \"Totals\")"
   ]
  },
  {
   "cell_type": "code",
   "execution_count": 15,
   "metadata": {},
   "outputs": [
    {
     "name": "stdout",
     "output_type": "stream",
     "text": [
      "Total EMS entries: 8131224\n",
      "Total basicaddress entries: 117353939\n",
      "Total incidentaddress entries: 90015396\n"
     ]
    }
   ],
   "source": [
    "# Calculate other table totals\n",
    "total_ems = 0\n",
    "total_basic = 0\n",
    "total_address = 0\n",
    "\n",
    "ems = pd.read_csv('data/ems_totals_by_state.csv')\n",
    "total_ems = sum(ems['count'])\n",
    "print(\"Total EMS entries: %s\" % (total_ems,))\n",
    "\n",
    "basic = pd.read_csv('data/basicincident_totals_by_state.csv')\n",
    "total_basic = sum(basic['count'])\n",
    "print(\"Total basicaddress entries: %s\" % (total_basic,))\n",
    "\n",
    "address = pd.read_csv('data/incidentaddress_total_by_state.csv')\n",
    "total_address = sum(address['count'])\n",
    "print(\"Total incidentaddress entries: %s\" % (total_address,))"
   ]
  },
  {
   "cell_type": "code",
   "execution_count": null,
   "metadata": {},
   "outputs": [],
   "source": []
  }
 ],
 "metadata": {
  "kernelspec": {
   "display_name": "Python 3",
   "language": "python",
   "name": "python3"
  },
  "language_info": {
   "codemirror_mode": {
    "name": "ipython",
    "version": 3
   },
   "file_extension": ".py",
   "mimetype": "text/x-python",
   "name": "python",
   "nbconvert_exporter": "python",
   "pygments_lexer": "ipython3",
   "version": "3.7.0"
  }
 },
 "nbformat": 4,
 "nbformat_minor": 2
}
