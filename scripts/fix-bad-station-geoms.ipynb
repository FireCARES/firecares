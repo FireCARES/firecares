{
 "cells": [
  {
   "cell_type": "code",
   "execution_count": null,
   "metadata": {
    "collapsed": true
   },
   "outputs": [],
   "source": [
    "import psycopg2\n",
    "import pandas as pd\n",
    "from IPython.display import display\n",
    "\n",
    "conn = psycopg2.connect(\"service=firecares\")\n",
    "\n",
    "# Handles the cases where geoms appear to be 3857 instead of 4326 (lat/lon)"
   ]
  },
  {
   "cell_type": "code",
   "execution_count": null,
   "metadata": {
    "collapsed": false
   },
   "outputs": [],
   "source": [
    "q = \"\"\"\n",
    "select id, state, ST_X(geom), ST_Y(geom), ST_X(ST_Transform(ST_SetSRID(geom, 3857), 4326)), ST_Y(ST_Transform(ST_SetSRID(geom, 3857), 4326))\n",
    "from firestation_usgsstructuredata\n",
    "where ST_X(geom) > 180 or ST_Y(geom) > 180 or ST_X(geom) < -180 or ST_Y(geom) < -180;\n",
    "\"\"\"\n",
    "\n",
    "pd.read_sql_query(q, conn)"
   ]
  },
  {
   "cell_type": "code",
   "execution_count": null,
   "metadata": {
    "collapsed": false
   },
   "outputs": [],
   "source": [
    "q = \"\"\"\n",
    "update firestation_usgsstructuredata\n",
    "set geom = ST_Transform(ST_SetSRID(geom, 3857), 4326)\n",
    "where ST_X(geom) > 180 or ST_Y(geom) > 180 or ST_X(geom) < -180 or ST_Y(geom) < -180;\n",
    "\"\"\"\n",
    "\n",
    "c = conn.cursor()\n",
    "c.execute(q)"
   ]
  }
 ],
 "metadata": {
  "kernelspec": {
   "display_name": "Python 2",
   "language": "python",
   "name": "python2"
  },
  "language_info": {
   "codemirror_mode": {
    "name": "ipython",
    "version": 2
   },
   "file_extension": ".py",
   "mimetype": "text/x-python",
   "name": "python",
   "nbconvert_exporter": "python",
   "pygments_lexer": "ipython2",
   "version": "2.7.6"
  }
 },
 "nbformat": 4,
 "nbformat_minor": 2
}
