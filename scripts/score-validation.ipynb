{
 "cells": [
  {
   "cell_type": "code",
   "execution_count": 1,
   "metadata": {
    "collapsed": true
   },
   "outputs": [],
   "source": [
    "# This notebook assumes to be running from your FireCARES VM (eg. python manage.py shell_plus --notebook --no-browser)\n",
    "\n",
    "import sys\n",
    "import os\n",
    "import time\n",
    "import pandas as pd\n",
    "import numpy as np\n",
    "sys.path.insert(0, os.path.realpath('..'))\n",
    "import folium\n",
    "import django\n",
    "django.setup()\n",
    "from django.db import connections\n",
    "from pretty import pprint\n",
    "from firecares.firestation.models import (FireDepartment, FireStation, NFIRSStatistic, FireDepartmentRiskModels,\n",
    "                                          PopulationClassQuartile)\n",
    "from fire_risk.models import DIST, DISTMediumHazard, DISTHighHazard\n",
    "from fire_risk.models.DIST.providers.ahs import ahs_building_areas\n",
    "from fire_risk.models.DIST.providers.iaff import response_time_distributions\n",
    "from django.db.models import Avg, Max, Min, Q\n",
    "from django.contrib.gis.geos import GEOSGeometry\n",
    "from IPython.display import display\n",
    "from firecares.utils import lenient_summation, dictfetchall\n",
    "from firecares.tasks.update import (calculate_department_census_geom, calculate_story_distribution,\n",
    "                                    calculate_structure_counts, update_performance_score, update_nfirs_counts,\n",
    "                                    dist_model_for_hazard_level)\n",
    "pd.set_option(\"display.max_rows\", 2000)\n",
    "pd.set_option(\"display.max_columns\", 100)\n",
    "\n",
    "def display_geom(geom):\n",
    "    _map = folium.Map(location=[geom.centroid.y, geom.centroid.x],\n",
    "                      tiles='Stamen Toner')\n",
    "    _map.choropleth(geo_str=geom.geojson, line_weight=0, fill_opacity=0.2, fill_color='green')\n",
    "    ll = geom.extent[1::-1]\n",
    "    ur = geom.extent[3:1:-1]\n",
    "    _map.fit_bounds([ll, ur])\n",
    "\n",
    "    return _map\n",
    "\n",
    "# Houston-specific\n",
    "fd = FireDepartment.objects.get(id=84578)"
   ]
  },
  {
   "cell_type": "markdown",
   "metadata": {},
   "source": [
    "#### Calculate quartiles for Houston based on similar departments"
   ]
  },
  {
   "cell_type": "code",
   "execution_count": 15,
   "metadata": {
    "collapsed": false
   },
   "outputs": [
    {
     "data": {
      "text/html": [
       "<div style=\"max-height:1000px;max-width:1500px;overflow:auto;\">\n",
       "<table border=\"1\" class=\"dataframe\">\n",
       "  <thead>\n",
       "    <tr style=\"text-align: right;\">\n",
       "      <th></th>\n",
       "      <th>id</th>\n",
       "      <th>created</th>\n",
       "      <th>modified</th>\n",
       "      <th>fdid</th>\n",
       "      <th>name</th>\n",
       "      <th>headquarters_address_id</th>\n",
       "      <th>mail_address_id</th>\n",
       "      <th>headquarters_phone</th>\n",
       "      <th>headquarters_fax</th>\n",
       "      <th>department_type</th>\n",
       "      <th>organization_type</th>\n",
       "      <th>website</th>\n",
       "      <th>state</th>\n",
       "      <th>region</th>\n",
       "      <th>level</th>\n",
       "      <th>dist_model_score</th>\n",
       "      <th>risk_model_deaths</th>\n",
       "      <th>risk_model_injuries</th>\n",
       "      <th>risk_model_fires</th>\n",
       "      <th>risk_model_fires_size0</th>\n",
       "      <th>risk_model_fires_size0_percentage</th>\n",
       "      <th>risk_model_fires_size1</th>\n",
       "      <th>risk_model_fires_size1_percentage</th>\n",
       "      <th>risk_model_fires_size2</th>\n",
       "      <th>risk_model_fires_size2_percentage</th>\n",
       "      <th>population</th>\n",
       "      <th>population_class</th>\n",
       "      <th>featured</th>\n",
       "      <th>dist_model_score_quartile</th>\n",
       "      <th>risk_model_deaths_quartile</th>\n",
       "      <th>risk_model_injuries_quartile</th>\n",
       "      <th>risk_model_fires_size0_quartile</th>\n",
       "      <th>risk_model_fires_size1_quartile</th>\n",
       "      <th>risk_model_fires_size2_quartile</th>\n",
       "      <th>risk_model_fires_quartile</th>\n",
       "      <th>risk_model_size1_percent_size2_percent_sum_quartile</th>\n",
       "      <th>risk_model_size1_percent_size2_percent_sum</th>\n",
       "      <th>risk_model_deaths_injuries_sum</th>\n",
       "      <th>risk_model_deaths_injuries_sum_quartile</th>\n",
       "      <th>residential_fires_avg_3_years</th>\n",
       "      <th>residential_fires_avg_3_years_quartile</th>\n",
       "      <th>dist_model_residential_fires_quartile</th>\n",
       "      <th>dist_model_risk_model_greater_than_size_2_quartile</th>\n",
       "      <th>dist_model_risk_model_deaths_injuries_quartile</th>\n",
       "    </tr>\n",
       "  </thead>\n",
       "  <tbody>\n",
       "  </tbody>\n",
       "</table>\n",
       "</div>"
      ],
      "text/plain": [
       "Empty DataFrame\n",
       "Columns: [id, created, modified, fdid, name, headquarters_address_id, mail_address_id, headquarters_phone, headquarters_fax, department_type, organization_type, website, state, region, level, dist_model_score, risk_model_deaths, risk_model_injuries, risk_model_fires, risk_model_fires_size0, risk_model_fires_size0_percentage, risk_model_fires_size1, risk_model_fires_size1_percentage, risk_model_fires_size2, risk_model_fires_size2_percentage, population, population_class, featured, dist_model_score_quartile, risk_model_deaths_quartile, risk_model_injuries_quartile, risk_model_fires_size0_quartile, risk_model_fires_size1_quartile, risk_model_fires_size2_quartile, risk_model_fires_quartile, risk_model_size1_percent_size2_percent_sum_quartile, risk_model_size1_percent_size2_percent_sum, risk_model_deaths_injuries_sum, risk_model_deaths_injuries_sum_quartile, residential_fires_avg_3_years, residential_fires_avg_3_years_quartile, dist_model_residential_fires_quartile, dist_model_risk_model_greater_than_size_2_quartile, dist_model_risk_model_deaths_injuries_quartile]\n",
       "Index: []"
      ]
     },
     "execution_count": 15,
     "metadata": {},
     "output_type": "execute_result"
    }
   ],
   "source": [
    "q = \"\"\"SELECT \"population_quartiles\".\"id\",\n",
    "       \"population_quartiles\".\"created\",\n",
    "       \"population_quartiles\".\"modified\",\n",
    "       \"population_quartiles\".\"fdid\",\n",
    "       \"population_quartiles\".\"name\",\n",
    "       \"population_quartiles\".\"headquarters_address_id\",\n",
    "       \"population_quartiles\".\"mail_address_id\",\n",
    "       \"population_quartiles\".\"headquarters_phone\",\n",
    "       \"population_quartiles\".\"headquarters_fax\",\n",
    "       \"population_quartiles\".\"department_type\",\n",
    "       \"population_quartiles\".\"organization_type\",\n",
    "       \"population_quartiles\".\"website\",\n",
    "       \"population_quartiles\".\"state\",\n",
    "       \"population_quartiles\".\"region\",\n",
    "       \"population_quartiles\".\"level\",\n",
    "       \"population_quartiles\".\"dist_model_score\",\n",
    "       \"population_quartiles\".\"risk_model_deaths\",\n",
    "       \"population_quartiles\".\"risk_model_injuries\",\n",
    "       \"population_quartiles\".\"risk_model_fires\",\n",
    "       \"population_quartiles\".\"risk_model_fires_size0\",\n",
    "       \"population_quartiles\".\"risk_model_fires_size0_percentage\",\n",
    "       \"population_quartiles\".\"risk_model_fires_size1\",\n",
    "       \"population_quartiles\".\"risk_model_fires_size1_percentage\",\n",
    "       \"population_quartiles\".\"risk_model_fires_size2\",\n",
    "       \"population_quartiles\".\"risk_model_fires_size2_percentage\",\n",
    "       \"population_quartiles\".\"population\",\n",
    "       \"population_quartiles\".\"population_class\",\n",
    "       \"population_quartiles\".\"featured\",\n",
    "       \"population_quartiles\".\"dist_model_score_quartile\",\n",
    "       \"population_quartiles\".\"risk_model_deaths_quartile\",\n",
    "       \"population_quartiles\".\"risk_model_injuries_quartile\",\n",
    "       \"population_quartiles\".\"risk_model_fires_size0_quartile\",\n",
    "       \"population_quartiles\".\"risk_model_fires_size1_quartile\",\n",
    "       \"population_quartiles\".\"risk_model_fires_size2_quartile\",\n",
    "       \"population_quartiles\".\"risk_model_fires_quartile\",\n",
    "       \"population_quartiles\".\"risk_model_size1_percent_size2_percent_sum_quartile\",\n",
    "       \"population_quartiles\".\"risk_model_size1_percent_size2_percent_sum\",\n",
    "       \"population_quartiles\".\"risk_model_deaths_injuries_sum\",\n",
    "       \"population_quartiles\".\"risk_model_deaths_injuries_sum_quartile\",\n",
    "       \"population_quartiles\".\"residential_fires_avg_3_years\",\n",
    "       \"population_quartiles\".\"residential_fires_avg_3_years_quartile\",\n",
    "       CASE\n",
    "           WHEN (\"population_quartiles\".\"dist_model_score\" IS NOT NULL\n",
    "                 AND \"population_quartiles\".\"residential_fires_avg_3_years_quartile\" IS NULL) THEN ntile(4) over (partition BY dist_model_score IS NOT NULL, residential_fires_avg_3_years_quartile, LEVEL IS NOT NULL\n",
    "                                                                                                                  ORDER BY dist_model_score)\n",
    "           ELSE NULL\n",
    "       END AS \"dist_model_residential_fires_quartile\",\n",
    "       CASE\n",
    "           WHEN (\"population_quartiles\".\"dist_model_score\" IS NOT NULL\n",
    "                 AND \"population_quartiles\".\"risk_model_size1_percent_size2_percent_sum_quartile\" = 4) THEN ntile(4) over (partition BY dist_model_score IS NOT NULL, risk_model_size1_percent_size2_percent_sum_quartile, LEVEL IS NOT NULL\n",
    "                                                                                                                           ORDER BY dist_model_score)\n",
    "           ELSE NULL\n",
    "       END AS \"dist_model_risk_model_greater_than_size_2_quartile\",\n",
    "       CASE\n",
    "           WHEN (\"population_quartiles\".\"dist_model_score\" IS NOT NULL\n",
    "                 AND \"population_quartiles\".\"risk_model_deaths_injuries_sum_quartile\" = 4) THEN ntile(4) over (partition BY dist_model_score IS NOT NULL, risk_model_deaths_injuries_sum_quartile, LEVEL IS NOT NULL\n",
    "                                                                                                               ORDER BY dist_model_score)\n",
    "           ELSE NULL\n",
    "       END AS \"dist_model_risk_model_deaths_injuries_quartile\"\n",
    "FROM \"population_quartiles\"\n",
    "WHERE (\"population_quartiles\".\"population_class\" = 9\n",
    "       AND \"population_quartiles\".\"level\" = 0)\"\"\"\n",
    "\n",
    "pd.read_sql_query(q, connections['default'])"
   ]
  },
  {
   "cell_type": "markdown",
   "metadata": {},
   "source": [
    "#### Quartile view"
   ]
  },
  {
   "cell_type": "code",
   "execution_count": 14,
   "metadata": {
    "collapsed": true
   },
   "outputs": [],
   "source": [
    "with connections['default'].cursor() as c:\n",
    "    c.execute(\"refresh materialized view population_quartiles;\")"
   ]
  },
  {
   "cell_type": "code",
   "execution_count": 13,
   "metadata": {
    "collapsed": false
   },
   "outputs": [
    {
     "data": {
      "text/html": [
       "<div style=\"max-height:1000px;max-width:1500px;overflow:auto;\">\n",
       "<table border=\"1\" class=\"dataframe\">\n",
       "  <thead>\n",
       "    <tr style=\"text-align: right;\">\n",
       "      <th></th>\n",
       "      <th>risk_model_size1_percent_size2_percent_sum</th>\n",
       "      <th>risk_model_deaths_injuries_sum</th>\n",
       "      <th>id</th>\n",
       "      <th>created</th>\n",
       "      <th>modified</th>\n",
       "      <th>fdid</th>\n",
       "      <th>name</th>\n",
       "      <th>headquarters_address_id</th>\n",
       "      <th>mail_address_id</th>\n",
       "      <th>headquarters_phone</th>\n",
       "      <th>headquarters_fax</th>\n",
       "      <th>department_type</th>\n",
       "      <th>organization_type</th>\n",
       "      <th>website</th>\n",
       "      <th>state</th>\n",
       "      <th>region</th>\n",
       "      <th>geom</th>\n",
       "      <th>dist_model_score</th>\n",
       "      <th>risk_model_deaths</th>\n",
       "      <th>risk_model_injuries</th>\n",
       "      <th>risk_model_fires</th>\n",
       "      <th>risk_model_fires_size0</th>\n",
       "      <th>risk_model_fires_size0_percentage</th>\n",
       "      <th>risk_model_fires_size1</th>\n",
       "      <th>risk_model_fires_size1_percentage</th>\n",
       "      <th>risk_model_fires_size2</th>\n",
       "      <th>risk_model_fires_size2_percentage</th>\n",
       "      <th>population</th>\n",
       "      <th>population_class</th>\n",
       "      <th>featured</th>\n",
       "      <th>residential_fires_avg_3_years</th>\n",
       "      <th>level</th>\n",
       "      <th>risk_model_size1_percent_size2_percent_sum_quartile</th>\n",
       "      <th>risk_model_deaths_injuries_sum_quartile</th>\n",
       "      <th>dist_model_score_quartile</th>\n",
       "      <th>risk_model_deaths_quartile</th>\n",
       "      <th>risk_model_injuries_quartile</th>\n",
       "      <th>risk_model_fires_size0_quartile</th>\n",
       "      <th>risk_model_fires_size1_quartile</th>\n",
       "      <th>risk_model_fires_size2_quartile</th>\n",
       "      <th>risk_model_fires_quartile</th>\n",
       "      <th>residential_fires_avg_3_years_quartile</th>\n",
       "    </tr>\n",
       "  </thead>\n",
       "  <tbody>\n",
       "  </tbody>\n",
       "</table>\n",
       "</div>"
      ],
      "text/plain": [
       "Empty DataFrame\n",
       "Columns: [risk_model_size1_percent_size2_percent_sum, risk_model_deaths_injuries_sum, id, created, modified, fdid, name, headquarters_address_id, mail_address_id, headquarters_phone, headquarters_fax, department_type, organization_type, website, state, region, geom, dist_model_score, risk_model_deaths, risk_model_injuries, risk_model_fires, risk_model_fires_size0, risk_model_fires_size0_percentage, risk_model_fires_size1, risk_model_fires_size1_percentage, risk_model_fires_size2, risk_model_fires_size2_percentage, population, population_class, featured, residential_fires_avg_3_years, level, risk_model_size1_percent_size2_percent_sum_quartile, risk_model_deaths_injuries_sum_quartile, dist_model_score_quartile, risk_model_deaths_quartile, risk_model_injuries_quartile, risk_model_fires_size0_quartile, risk_model_fires_size1_quartile, risk_model_fires_size2_quartile, risk_model_fires_quartile, residential_fires_avg_3_years_quartile]\n",
       "Index: []"
      ]
     },
     "execution_count": 13,
     "metadata": {},
     "output_type": "execute_result"
    }
   ],
   "source": [
    "q = \"\"\"SELECT\n",
    "            (SELECT COALESCE(rm.risk_model_fires_size1_percentage,0)+COALESCE(rm.risk_model_fires_size2_percentage,0)) AS \"risk_model_size1_percent_size2_percent_sum\",\n",
    "            (SELECT COALESCE(rm.risk_model_deaths,0)+COALESCE(rm.risk_model_injuries,0)) AS \"risk_model_deaths_injuries_sum\",\n",
    "            fd.\"id\",\n",
    "            fd.\"created\",\n",
    "            fd.\"modified\",\n",
    "            fd.\"fdid\",\n",
    "            fd.\"name\",\n",
    "            fd.\"headquarters_address_id\",\n",
    "            fd.\"mail_address_id\",\n",
    "            fd.\"headquarters_phone\",\n",
    "            fd.\"headquarters_fax\",\n",
    "            fd.\"department_type\",\n",
    "            fd.\"organization_type\",\n",
    "            fd.\"website\",\n",
    "            fd.\"state\",\n",
    "            fd.\"region\",\n",
    "            fd.\"geom\",\n",
    "            rm.\"dist_model_score\",\n",
    "            rm.\"risk_model_deaths\",\n",
    "            rm.\"risk_model_injuries\",\n",
    "            rm.\"risk_model_fires\",\n",
    "            rm.\"risk_model_fires_size0\",\n",
    "            rm.\"risk_model_fires_size0_percentage\",\n",
    "            rm.\"risk_model_fires_size1\",\n",
    "            rm.\"risk_model_fires_size1_percentage\",\n",
    "            rm.\"risk_model_fires_size2\",\n",
    "            rm.\"risk_model_fires_size2_percentage\",\n",
    "            fd.\"population\",\n",
    "            fd.\"population_class\",\n",
    "            fd.\"featured\",\n",
    "            nfirs.avg_fires as \"residential_fires_avg_3_years\",\n",
    "            rm.\"level\",\n",
    "            CASE WHEN (rm.\"risk_model_fires_size1_percentage\" IS NOT NULL OR rm.\"risk_model_fires_size2_percentage\" IS NOT NULL) THEN ntile(4) over (partition by COALESCE(rm.risk_model_fires_size1_percentage,0)+COALESCE(rm.risk_model_fires_size2_percentage,0) != 0, fd.population_class, rm.level order by COALESCE(rm.risk_model_fires_size1_percentage,0)+COALESCE(rm.risk_model_fires_size2_percentage,0)) ELSE NULL END AS \"risk_model_size1_percent_size2_percent_sum_quartile\",\n",
    "            CASE WHEN (rm.\"risk_model_deaths\" IS NOT NULL OR rm.\"risk_model_injuries\" IS NOT NULL) THEN ntile(4) over (partition by COALESCE(rm.risk_model_deaths,0)+COALESCE(rm.risk_model_injuries,0) != 0, fd.population_class, rm.level order by COALESCE(rm.risk_model_deaths,0)+COALESCE(rm.risk_model_injuries,0)) ELSE NULL END AS \"risk_model_deaths_injuries_sum_quartile\",\n",
    "            CASE WHEN rm.\"dist_model_score\" IS NOT NULL THEN ntile(4) over (partition by rm.dist_model_score is not null, fd.population_class, rm.level order by rm.dist_model_score) ELSE NULL END AS \"dist_model_score_quartile\",\n",
    "            CASE WHEN rm.\"risk_model_deaths\" IS NOT NULL THEN ntile(4) over (partition by rm.risk_model_deaths is not null, fd.population_class, rm.level order by rm.risk_model_deaths) ELSE NULL END AS \"risk_model_deaths_quartile\",\n",
    "            CASE WHEN rm.\"risk_model_injuries\" IS NOT NULL THEN ntile(4) over (partition by rm.risk_model_injuries is not null, fd.population_class, rm.level order by rm.risk_model_injuries) ELSE NULL END AS \"risk_model_injuries_quartile\",\n",
    "            CASE WHEN rm.\"risk_model_fires_size0\" IS NOT NULL THEN ntile(4) over (partition by rm.risk_model_fires_size0 is not null, fd.population_class, rm.level order by rm.risk_model_fires_size0) ELSE NULL END AS \"risk_model_fires_size0_quartile\",\n",
    "            CASE WHEN rm.\"risk_model_fires_size1\" IS NOT NULL THEN ntile(4) over (partition by rm.risk_model_fires_size1 is not null, fd.population_class, rm.level order by rm.risk_model_fires_size1) ELSE NULL END AS \"risk_model_fires_size1_quartile\",\n",
    "            CASE WHEN rm.\"risk_model_fires_size2\" IS NOT NULL THEN ntile(4) over (partition by rm.risk_model_fires_size2 is not null, fd.population_class, rm.level order by rm.risk_model_fires_size2) ELSE NULL END AS \"risk_model_fires_size2_quartile\",\n",
    "            CASE WHEN rm.\"risk_model_fires\" IS NOT NULL THEN ntile(4) over (partition by rm.risk_model_fires is not null, fd.population_class, rm.level order by rm.risk_model_fires) ELSE NULL END AS \"risk_model_fires_quartile\",\n",
    "            CASE WHEN \"nfirs\".\"avg_fires\" IS NOT NULL THEN ntile(4) over (partition by avg_fires is not null, fd.population_class, rm.level order by avg_fires) ELSE NULL END AS \"residential_fires_avg_3_years_quartile\"\n",
    "\n",
    "        FROM \"firestation_firedepartment\" fd\n",
    "        INNER JOIN \"firestation_firedepartmentriskmodels\" rm ON\n",
    "            rm.department_id = fd.id\n",
    "        LEFT JOIN (\n",
    "            SELECT fire_department_id, AVG(count) as avg_fires, level\n",
    "            from firestation_nfirsstatistic\n",
    "            WHERE year >= 2010 and metric='residential_structure_fires'\n",
    "            GROUP BY fire_department_id, level) nfirs\n",
    "        ON (fd.id=nfirs.fire_department_id and nfirs.level = rm.level)\n",
    "        WHERE archived=False\"\"\"\n",
    "\n",
    "pd.read_sql_query(q, connections['default'])\n",
    "    "
   ]
  },
  {
   "cell_type": "markdown",
   "metadata": {},
   "source": [
    "## Full-cycle statistics import/calcuations"
   ]
  },
  {
   "cell_type": "markdown",
   "metadata": {},
   "source": [
    "### At a minimum-we need to import the department and ALL related departments to get an accurate score\n",
    "\n",
    "- Clear out FireDepartmentRiskModels, NFIRSStatistic\n",
    "- Refresh `population_quartiles` materialized view (to ensure that we're starting w/ a clean slate)\n",
    "- Run `update_nfirs` django command to pull NFIRS stats into FireCARES per department\n",
    "    - Creates/updated NFIRSStatistic records\n",
    "    - Depends on NFIRS.buildingfires, FC FireDepartment\n",
    "- Run `calc-department-owned-tracts` django command to calculate the census-tract based department jurisdiction\n",
    "    - Updates `FireDepartment.owned_tract_geom` on FC FireDepartment\n",
    "    - Depends on NFIRS.census_block_groups_2010, NIST.tract_years, FC FireDepartment\n",
    "- Run `calc-structure-counts` django command to determine the structure counts over a department's census-tract-based jurisdiction\n",
    "    - Updates `FireDepartmentRiskModels.structure_count` on FC FireDepartmentRiskModels\n",
    "    - Depends on NFIRS.parcel_risk_category_local, FC FireDepartment.owned_tracts_geom\n",
    "- Run `calc-story-distribution` (not yet completed) to calculate the story distribution for a department's census-tract-based jurisdiction\n",
    "    - Updates `FireDepartmentRiskModels.floor_count_coefficients`\n",
    "    - Depends on NFIRS.LUSE_swg - copied from parcels.LUSE_swg, NFIRS.parcel_stories - subset of parcels.parcels, FC FireDepartment.owned_tracts_geom\n",
    "- Run `import-predictions` to import predictions from Stanley's prediction model\n",
    "    - Depends on predictions.csv file, FC FireDepartment\n",
    "    - Recalculates the DIST score for EACH hazard level for FC FireDepartment\n",
    "- Re-compute `population_quartiles` materialized view based on the imported information\n",
    "    - Depends on FC Firedepartment, FC FireDepartmentRiskModels, FC NFIRSStatistic\n",
    "- Run `load-dist-scores` to perform the DIST score calculation per department\n",
    "    - Depends on NFIRS.buildingfires, NFIRS.incidentaddress, NFIRS.parcel_risk_category_local - copy of parcels.parcels w/ subset of columns + parcel risk level"
   ]
  },
  {
   "cell_type": "code",
   "execution_count": null,
   "metadata": {
    "collapsed": true
   },
   "outputs": [],
   "source": [
    "# Clear out FireDepartmentRiskModels since all of this information is derived\n",
    "FireDepartmentRiskModels.objects.all().delete()\n",
    "NFIRSStatistic.objects.all().delete()\n",
    "\n",
    "with connections['default'].cursor() as c:\n",
    "    c.execute(\"refresh materialized view population_quartiles;\")\n",
    "\n",
    "assert PopulationClassQuartile.objects.count() == 0"
   ]
  },
  {
   "cell_type": "code",
   "execution_count": 3,
   "metadata": {
    "collapsed": false
   },
   "outputs": [],
   "source": [
    "similar_departments = list(FireDepartment.objects.filter(id__in=fd.similar_departments.values_list('id', flat=True))) + [fd]"
   ]
  },
  {
   "cell_type": "code",
   "execution_count": 121,
   "metadata": {
    "collapsed": false
   },
   "outputs": [],
   "source": [
    "for f in similar_departments:\n",
    "    update_nfirs_counts.delay(f.id)"
   ]
  },
  {
   "cell_type": "markdown",
   "metadata": {},
   "source": [
    "#### Similar departments to Houston..."
   ]
  },
  {
   "cell_type": "code",
   "execution_count": 4,
   "metadata": {
    "collapsed": false
   },
   "outputs": [
    {
     "data": {
      "text/html": [
       "<div style=\"max-height:1000px;max-width:1500px;overflow:auto;\">\n",
       "<table border=\"1\" class=\"dataframe\">\n",
       "  <thead>\n",
       "    <tr style=\"text-align: right;\">\n",
       "      <th></th>\n",
       "      <th>id</th>\n",
       "      <th>name</th>\n",
       "      <th>population</th>\n",
       "      <th>region</th>\n",
       "    </tr>\n",
       "  </thead>\n",
       "  <tbody>\n",
       "    <tr>\n",
       "      <th>12</th>\n",
       "      <td>87255</td>\n",
       "      <td>Los Angeles County Fire Department</td>\n",
       "      <td>9818605</td>\n",
       "      <td>West</td>\n",
       "    </tr>\n",
       "    <tr>\n",
       "      <th>8</th>\n",
       "      <td>81472</td>\n",
       "      <td>Fire Department City of New York (FDNY)</td>\n",
       "      <td>8175133</td>\n",
       "      <td>Northeast</td>\n",
       "    </tr>\n",
       "    <tr>\n",
       "      <th>9</th>\n",
       "      <td>83665</td>\n",
       "      <td>Harris County Fire &amp; Emergency Services Depart...</td>\n",
       "      <td>4092459</td>\n",
       "      <td>South</td>\n",
       "    </tr>\n",
       "    <tr>\n",
       "      <th>13</th>\n",
       "      <td>87256</td>\n",
       "      <td>Los Angeles Fire Department</td>\n",
       "      <td>3792621</td>\n",
       "      <td>West</td>\n",
       "    </tr>\n",
       "    <tr>\n",
       "      <th>17</th>\n",
       "      <td>90354</td>\n",
       "      <td>North County Fire Protection District</td>\n",
       "      <td>3095313</td>\n",
       "      <td>West</td>\n",
       "    </tr>\n",
       "    <tr>\n",
       "      <th>18</th>\n",
       "      <td>91105</td>\n",
       "      <td>Orange County Fire Authority</td>\n",
       "      <td>3010232</td>\n",
       "      <td>West</td>\n",
       "    </tr>\n",
       "    <tr>\n",
       "      <th>2</th>\n",
       "      <td>77379</td>\n",
       "      <td>Chicago Fire Department</td>\n",
       "      <td>2695598</td>\n",
       "      <td>Midwest</td>\n",
       "    </tr>\n",
       "    <tr>\n",
       "      <th>14</th>\n",
       "      <td>88539</td>\n",
       "      <td>Miami-Dade Fire Rescue Department</td>\n",
       "      <td>2542139</td>\n",
       "      <td>South</td>\n",
       "    </tr>\n",
       "    <tr>\n",
       "      <th>23</th>\n",
       "      <td>93509</td>\n",
       "      <td>Riverside County Fire Department</td>\n",
       "      <td>2189641</td>\n",
       "      <td>West</td>\n",
       "    </tr>\n",
       "    <tr>\n",
       "      <th>27</th>\n",
       "      <td>84578</td>\n",
       "      <td>Houston Fire Department</td>\n",
       "      <td>2099451</td>\n",
       "      <td>South</td>\n",
       "    </tr>\n",
       "    <tr>\n",
       "      <th>4</th>\n",
       "      <td>77989</td>\n",
       "      <td>Clark County Fire Department</td>\n",
       "      <td>1951269</td>\n",
       "      <td>West</td>\n",
       "    </tr>\n",
       "    <tr>\n",
       "      <th>11</th>\n",
       "      <td>85736</td>\n",
       "      <td>King County Fire District 40</td>\n",
       "      <td>1931249</td>\n",
       "      <td>West</td>\n",
       "    </tr>\n",
       "    <tr>\n",
       "      <th>25</th>\n",
       "      <td>94383</td>\n",
       "      <td>Santa Clara County Fire Department</td>\n",
       "      <td>1781642</td>\n",
       "      <td>West</td>\n",
       "    </tr>\n",
       "    <tr>\n",
       "      <th>21</th>\n",
       "      <td>91907</td>\n",
       "      <td>Philadelphia Fire Department</td>\n",
       "      <td>1526006</td>\n",
       "      <td>Northeast</td>\n",
       "    </tr>\n",
       "    <tr>\n",
       "      <th>0</th>\n",
       "      <td>73286</td>\n",
       "      <td>Alameda County Fire Department</td>\n",
       "      <td>1510271</td>\n",
       "      <td>West</td>\n",
       "    </tr>\n",
       "    <tr>\n",
       "      <th>22</th>\n",
       "      <td>91934</td>\n",
       "      <td>Phoenix Fire Department</td>\n",
       "      <td>1445632</td>\n",
       "      <td>West</td>\n",
       "    </tr>\n",
       "    <tr>\n",
       "      <th>16</th>\n",
       "      <td>89656</td>\n",
       "      <td>Nassau County Fire Marshals Office</td>\n",
       "      <td>1339532</td>\n",
       "      <td>Northeast</td>\n",
       "    </tr>\n",
       "    <tr>\n",
       "      <th>24</th>\n",
       "      <td>94250</td>\n",
       "      <td>San Antonio Fire Department</td>\n",
       "      <td>1327407</td>\n",
       "      <td>South</td>\n",
       "    </tr>\n",
       "    <tr>\n",
       "      <th>20</th>\n",
       "      <td>91407</td>\n",
       "      <td>Palm Beach County Fire Rescue</td>\n",
       "      <td>1320134</td>\n",
       "      <td>South</td>\n",
       "    </tr>\n",
       "    <tr>\n",
       "      <th>3</th>\n",
       "      <td>77867</td>\n",
       "      <td>City of San Diego Fire-Rescue Department</td>\n",
       "      <td>1307402</td>\n",
       "      <td>West</td>\n",
       "    </tr>\n",
       "    <tr>\n",
       "      <th>10</th>\n",
       "      <td>84235</td>\n",
       "      <td>Hillsborough County Fire Rescue</td>\n",
       "      <td>1229226</td>\n",
       "      <td>South</td>\n",
       "    </tr>\n",
       "    <tr>\n",
       "      <th>15</th>\n",
       "      <td>89649</td>\n",
       "      <td>Nashville Fire Department</td>\n",
       "      <td>1227903</td>\n",
       "      <td>South</td>\n",
       "    </tr>\n",
       "    <tr>\n",
       "      <th>6</th>\n",
       "      <td>79277</td>\n",
       "      <td>Dallas Fire Department</td>\n",
       "      <td>1197816</td>\n",
       "      <td>South</td>\n",
       "    </tr>\n",
       "    <tr>\n",
       "      <th>19</th>\n",
       "      <td>91106</td>\n",
       "      <td>Orange County Fire Rescue Department</td>\n",
       "      <td>1145956</td>\n",
       "      <td>South</td>\n",
       "    </tr>\n",
       "    <tr>\n",
       "      <th>1</th>\n",
       "      <td>73343</td>\n",
       "      <td>Albuquerque Fire Department</td>\n",
       "      <td>1091704</td>\n",
       "      <td>West</td>\n",
       "    </tr>\n",
       "    <tr>\n",
       "      <th>7</th>\n",
       "      <td>81147</td>\n",
       "      <td>Fairfax County Fire and Rescue Department</td>\n",
       "      <td>1081726</td>\n",
       "      <td>South</td>\n",
       "    </tr>\n",
       "    <tr>\n",
       "      <th>5</th>\n",
       "      <td>78644</td>\n",
       "      <td>Contra Costa County Fire Protection District</td>\n",
       "      <td>1049025</td>\n",
       "      <td>West</td>\n",
       "    </tr>\n",
       "    <tr>\n",
       "      <th>26</th>\n",
       "      <td>97304</td>\n",
       "      <td>Travis County Fire Rescue</td>\n",
       "      <td>1024266</td>\n",
       "      <td>South</td>\n",
       "    </tr>\n",
       "  </tbody>\n",
       "</table>\n",
       "</div>"
      ],
      "text/plain": [
       "       id                                               name  population  \\\n",
       "12  87255                 Los Angeles County Fire Department     9818605   \n",
       "8   81472            Fire Department City of New York (FDNY)     8175133   \n",
       "9   83665  Harris County Fire & Emergency Services Depart...     4092459   \n",
       "13  87256                        Los Angeles Fire Department     3792621   \n",
       "17  90354              North County Fire Protection District     3095313   \n",
       "18  91105                       Orange County Fire Authority     3010232   \n",
       "2   77379                            Chicago Fire Department     2695598   \n",
       "14  88539                  Miami-Dade Fire Rescue Department     2542139   \n",
       "23  93509                   Riverside County Fire Department     2189641   \n",
       "27  84578                            Houston Fire Department     2099451   \n",
       "4   77989                       Clark County Fire Department     1951269   \n",
       "11  85736                       King County Fire District 40     1931249   \n",
       "25  94383                 Santa Clara County Fire Department     1781642   \n",
       "21  91907                       Philadelphia Fire Department     1526006   \n",
       "0   73286                     Alameda County Fire Department     1510271   \n",
       "22  91934                            Phoenix Fire Department     1445632   \n",
       "16  89656                 Nassau County Fire Marshals Office     1339532   \n",
       "24  94250                        San Antonio Fire Department     1327407   \n",
       "20  91407                      Palm Beach County Fire Rescue     1320134   \n",
       "3   77867           City of San Diego Fire-Rescue Department     1307402   \n",
       "10  84235                    Hillsborough County Fire Rescue     1229226   \n",
       "15  89649                          Nashville Fire Department     1227903   \n",
       "6   79277                             Dallas Fire Department     1197816   \n",
       "19  91106               Orange County Fire Rescue Department     1145956   \n",
       "1   73343                        Albuquerque Fire Department     1091704   \n",
       "7   81147          Fairfax County Fire and Rescue Department     1081726   \n",
       "5   78644       Contra Costa County Fire Protection District     1049025   \n",
       "26  97304                          Travis County Fire Rescue     1024266   \n",
       "\n",
       "       region  \n",
       "12       West  \n",
       "8   Northeast  \n",
       "9       South  \n",
       "13       West  \n",
       "17       West  \n",
       "18       West  \n",
       "2     Midwest  \n",
       "14      South  \n",
       "23       West  \n",
       "27      South  \n",
       "4        West  \n",
       "11       West  \n",
       "25       West  \n",
       "21  Northeast  \n",
       "0        West  \n",
       "22       West  \n",
       "16  Northeast  \n",
       "24      South  \n",
       "20      South  \n",
       "3        West  \n",
       "10      South  \n",
       "15      South  \n",
       "6       South  \n",
       "19      South  \n",
       "1        West  \n",
       "7       South  \n",
       "5        West  \n",
       "26      South  "
      ]
     },
     "execution_count": 4,
     "metadata": {},
     "output_type": "execute_result"
    }
   ],
   "source": [
    "df = pd.DataFrame(map(lambda x: (x.id, x.name, x.population, x.region), similar_departments), columns=['id', 'name', 'population', 'region'])\n",
    "df.sort('population', ascending=False)"
   ]
  },
  {
   "cell_type": "code",
   "execution_count": 122,
   "metadata": {
    "collapsed": false
   },
   "outputs": [],
   "source": [
    "df = pd.read_sql_query(\"select * from firestation_nfirsstatistic;\", connections['default'])\n",
    "department_count = len(df['fire_department_id'].unique())\n",
    "year_count = len(df['year'].unique())\n",
    "metric_type_count = len(df['metric'].unique())\n",
    "# Should have 5 risk levels (low, medium, high, unknown, all) for each metrics for every year for each department\n",
    "assert len(df) == department_count * 5 * metric_type_count * year_count"
   ]
  },
  {
   "cell_type": "markdown",
   "metadata": {},
   "source": [
    "#### Now that we have NFIRS statistics (which is a dependency of the quartile calculations), we can continue"
   ]
  },
  {
   "cell_type": "code",
   "execution_count": null,
   "metadata": {
    "collapsed": false,
    "scrolled": false
   },
   "outputs": [],
   "source": [
    "# NOTE: this takes some time...\n",
    "for f in similar_departments:\n",
    "    calculate_department_census_geom.delay(f.id)\n",
    "fd.refresh_from_db()\n",
    "display_geom(fd.owned_tracts_geom)"
   ]
  },
  {
   "cell_type": "code",
   "execution_count": null,
   "metadata": {
    "collapsed": false
   },
   "outputs": [],
   "source": [
    "# NOTE: this takes some time...\n",
    "from django.core.management import call_command\n",
    "\n",
    "dept_ids = map(lambda x: str(x.id), similar_departments)\n",
    "call_command('import-predictions', '../predictions.2015.csv', '--ids', *dept_ids)  # Also updates the performance score"
   ]
  },
  {
   "cell_type": "code",
   "execution_count": 130,
   "metadata": {
    "collapsed": false
   },
   "outputs": [
    {
     "data": {
      "text/plain": [
       "6115"
      ]
     },
     "execution_count": 130,
     "metadata": {},
     "output_type": "execute_result"
    }
   ],
   "source": [
    "with connections['default'].cursor() as c:\n",
    "    c.execute('refresh materialized view population_quartiles;')\n",
    "    \n",
    "PopulationClassQuartile.objects.count()"
   ]
  },
  {
   "cell_type": "code",
   "execution_count": 131,
   "metadata": {
    "collapsed": true
   },
   "outputs": [],
   "source": [
    "# NOTE: this takes a LONG time... (like hours)\n",
    "for f in similar_departments:\n",
    "    calculate_structure_counts.delay(f.id)"
   ]
  },
  {
   "cell_type": "code",
   "execution_count": null,
   "metadata": {
    "collapsed": false
   },
   "outputs": [],
   "source": [
    "for f in similar_departments:\n",
    "    update_performance_score.delay(f.id)"
   ]
  },
  {
   "cell_type": "code",
   "execution_count": 7,
   "metadata": {
    "collapsed": false
   },
   "outputs": [
    {
     "name": "stdout",
     "output_type": "stream",
     "text": [
      "ALL RESULTS\n"
     ]
    },
    {
     "data": {
      "text/html": [
       "<div style=\"max-height:1000px;max-width:1500px;overflow:auto;\">\n",
       "<table border=\"1\" class=\"dataframe\">\n",
       "  <thead>\n",
       "    <tr style=\"text-align: right;\">\n",
       "      <th></th>\n",
       "      <th>beyond</th>\n",
       "      <th>building_of_origin</th>\n",
       "      <th>floor_of_origin</th>\n",
       "      <th>object_of_origin</th>\n",
       "      <th>risk_category</th>\n",
       "      <th>room_of_origin</th>\n",
       "    </tr>\n",
       "  </thead>\n",
       "  <tbody>\n",
       "    <tr>\n",
       "      <th>0</th>\n",
       "      <td>9</td>\n",
       "      <td>60</td>\n",
       "      <td>20</td>\n",
       "      <td>70</td>\n",
       "      <td>High</td>\n",
       "      <td>97</td>\n",
       "    </tr>\n",
       "    <tr>\n",
       "      <th>1</th>\n",
       "      <td>151</td>\n",
       "      <td>1347</td>\n",
       "      <td>228</td>\n",
       "      <td>659</td>\n",
       "      <td>Low</td>\n",
       "      <td>1142</td>\n",
       "    </tr>\n",
       "    <tr>\n",
       "      <th>2</th>\n",
       "      <td>91</td>\n",
       "      <td>785</td>\n",
       "      <td>243</td>\n",
       "      <td>646</td>\n",
       "      <td>Medium</td>\n",
       "      <td>1171</td>\n",
       "    </tr>\n",
       "    <tr>\n",
       "      <th>3</th>\n",
       "      <td>215</td>\n",
       "      <td>1629</td>\n",
       "      <td>362</td>\n",
       "      <td>570</td>\n",
       "      <td>N/A</td>\n",
       "      <td>1577</td>\n",
       "    </tr>\n",
       "  </tbody>\n",
       "</table>\n",
       "</div>"
      ],
      "text/plain": [
       "   beyond  building_of_origin  floor_of_origin  object_of_origin  \\\n",
       "0       9                  60               20                70   \n",
       "1     151                1347              228               659   \n",
       "2      91                 785              243               646   \n",
       "3     215                1629              362               570   \n",
       "\n",
       "  risk_category  room_of_origin  \n",
       "0          High              97  \n",
       "1           Low            1142  \n",
       "2        Medium            1171  \n",
       "3           N/A            1577  "
      ]
     },
     "metadata": {},
     "output_type": "display_data"
    },
    {
     "name": "stdout",
     "output_type": "stream",
     "text": [
      "High\n"
     ]
    },
    {
     "data": {
      "text/plain": [
       "{'beyond': 9L,\n",
       " 'building_of_origin': 60L,\n",
       " 'floor_of_origin': 20L,\n",
       " 'object_of_origin': 70L,\n",
       " 'room_of_origin': 97L}"
      ]
     },
     "metadata": {},
     "output_type": "display_data"
    },
    {
     "name": "stdout",
     "output_type": "stream",
     "text": [
      "SCORE: 1.0\n",
      "Low\n"
     ]
    },
    {
     "data": {
      "text/plain": [
       "{'beyond': 151L,\n",
       " 'building_of_origin': 1347L,\n",
       " 'floor_of_origin': 228L,\n",
       " 'object_of_origin': 659L,\n",
       " 'room_of_origin': 1142L}"
      ]
     },
     "metadata": {},
     "output_type": "display_data"
    },
    {
     "name": "stdout",
     "output_type": "stream",
     "text": [
      "SCORE: 19.0\n",
      "Medium\n"
     ]
    },
    {
     "data": {
      "text/plain": [
       "{'beyond': 91L,\n",
       " 'building_of_origin': 785L,\n",
       " 'floor_of_origin': 243L,\n",
       " 'object_of_origin': 646L,\n",
       " 'room_of_origin': 1171L}"
      ]
     },
     "metadata": {},
     "output_type": "display_data"
    },
    {
     "name": "stdout",
     "output_type": "stream",
     "text": [
      "SCORE: 8.0\n",
      "N/A\n"
     ]
    },
    {
     "data": {
      "text/plain": [
       "{'beyond': 215L,\n",
       " 'building_of_origin': 1629L,\n",
       " 'floor_of_origin': 362L,\n",
       " 'object_of_origin': 570L,\n",
       " 'room_of_origin': 1577L}"
      ]
     },
     "metadata": {},
     "output_type": "display_data"
    },
    {
     "name": "stdout",
     "output_type": "stream",
     "text": [
      "SCORE: 19.0\n"
     ]
    },
    {
     "data": {
      "text/plain": [
       "{'beyond': 466L,\n",
       " 'building_area_draw':        h01_899  h01_990  h01_991  h01_992  h01_993  h01_994  h01_995  h01_996  \\\n",
       " value     48.3    217.7    302.8    431.7    423.2    322.9    190.5    158.6   \n",
       " \n",
       "        h01_997  h01_998  total  \n",
       " value     70.1    226.2   2392  ,\n",
       " 'building_of_origin': 3821L,\n",
       " 'floor_of_origin': 853L,\n",
       " 'object_of_origin': 1945L,\n",
       " 'room_of_origin': 3987L}"
      ]
     },
     "metadata": {},
     "output_type": "display_data"
    },
    {
     "name": "stdout",
     "output_type": "stream",
     "text": [
      "SCORE: 17.0\n"
     ]
    }
   ],
   "source": [
    "q = \"\"\"SELECT *\n",
    "    FROM crosstab(\n",
    "      'select COALESCE(y.risk_category, ''N/A'') as risk_category, fire_sprd, count(*)\n",
    "        FROM buildingfires a left join (\n",
    "          SELECT state,\n",
    "            fdid,\n",
    "            inc_date,\n",
    "            inc_no,\n",
    "            exp_no,\n",
    "            geom,\n",
    "            x.parcel_id,\n",
    "            x.risk_category\n",
    "          FROM (select * from incidentaddress a\n",
    "             left join parcel_risk_category_local b using (parcel_id)\n",
    "             ) AS x\n",
    "        ) AS y using (state, inc_date, exp_no, fdid, inc_no)\n",
    "    where a.state='%(state)s' and a.fdid='%(fdid)s' and prop_use in (''419'',''429'',''439'',''449'',''459'',''460'',''462'',''464'',''400'')\n",
    "        and fire_sprd is not null and fire_sprd != ''''\n",
    "    group by risk_category, fire_sprd\n",
    "    order by risk_category, fire_sprd ASC')\n",
    "    AS ct(risk_category text, \"object_of_origin\" bigint, \"room_of_origin\" bigint, \"floor_of_origin\" bigint, \"building_of_origin\" bigint, \"beyond\" bigint);\"\"\"\n",
    "\n",
    "with connections['nfirs'].cursor() as c:\n",
    "    c.execute(q, {'state': fd.state, 'fdid': fd.fdid})\n",
    "    results = dictfetchall(c)\n",
    "\n",
    "all_counts = dict(object_of_origin=0,\n",
    "                  room_of_origin=0,\n",
    "                  floor_of_origin=0,\n",
    "                  building_of_origin=0,\n",
    "                  beyond=0)\n",
    "\n",
    "risk_mapping = {'Low': 1, 'Medium': 2, 'High': 4, 'N/A': 5}\n",
    "\n",
    "print 'ALL RESULTS'\n",
    "df = pd.DataFrame(results)\n",
    "display(df)\n",
    "\n",
    "for result in results:\n",
    "    print result.get('risk_category')\n",
    "    dist_model = dist_model_for_hazard_level(result.get('risk_category'))\n",
    "    \n",
    "    counts = dict(object_of_origin=result.get('object_of_origin', 0),\n",
    "                  room_of_origin=result.get('room_of_origin', 0),\n",
    "                  floor_of_origin=result.get('floor_of_origin', 0),\n",
    "                  building_of_origin=result.get('building_of_origin', 0),\n",
    "                  beyond=result.get('beyond', 0))\n",
    "    \n",
    "    display(counts)\n",
    "\n",
    "    # add current risk category to the all risk category\n",
    "    for key, value in counts.items():\n",
    "        all_counts[key] += value\n",
    "        \n",
    "    ahs_building_size = ahs_building_areas(fd.fdid, fd.state)\n",
    "\n",
    "    if ahs_building_size is not None:\n",
    "        counts['building_area_draw'] = ahs_building_size\n",
    "\n",
    "    response_times = response_time_distributions.get('{0}-{1}'.format(fd.fdid, fd.state))\n",
    "\n",
    "    if response_times:\n",
    "        counts['arrival_time_draw'] = LogNormalDraw(*response_times, multiplier=60)\n",
    "        \n",
    "    dist = dist_model(floor_extent=False, **counts)\n",
    "    print 'SCORE: {}'.format(dist.gibbs_sample())\n",
    "\n",
    "    \n",
    "dist_model = dist_model_for_hazard_level('All')\n",
    "\n",
    "if ahs_building_size is not None:\n",
    "    all_counts['building_area_draw'] = ahs_building_size\n",
    "    \n",
    "if response_times:\n",
    "    all_counts['arrival_time_draw'] = LogNormalDraw(*response_times, multiplier=60)\n",
    "    \n",
    "dist = dist_model(floor_extent=False, **all_counts)\n",
    "    \n",
    "display(all_counts)\n",
    "print 'SCORE: {}'.format(dist.gibbs_sample())"
   ]
  },
  {
   "cell_type": "code",
   "execution_count": 2,
   "metadata": {
    "collapsed": false
   },
   "outputs": [
    {
     "name": "stderr",
     "output_type": "stream",
     "text": [
      "/webapps/firecares/local/lib/python2.7/site-packages/numpy/core/numeric.py:294: FutureWarning: in the future, full((10000, 4), -1000) will return an array of dtype('int64')\n",
      "  format(shape, fill_value, array(fill_value).dtype), FutureWarning)\n",
      "\n"
     ]
    },
    {
     "name": "stdout",
     "output_type": "stream",
     "text": [
      "updating fdid: 84578 - High risk level from: 1.0 to 1.0.\n",
      "updating fdid: 84578 - Low risk level from: 19.0 to 19.0.\n",
      "updating fdid: 84578 - Medium risk level from: 8.0 to 8.0.\n",
      "updating fdid: 84578 - Unknown risk level from: 21.0 to 21.0.\n",
      "updating fdid: 84578 - All risk level from: 30.0 to 17.0.\n"
     ]
    },
    {
     "data": {
      "text/plain": [
       "<EagerResult: a3aa8655-4bc6-4382-821c-9330f62318e0>"
      ]
     },
     "execution_count": 2,
     "metadata": {},
     "output_type": "execute_result"
    }
   ],
   "source": [
    "update_performance_score.delay(fd.id)"
   ]
  },
  {
   "cell_type": "code",
   "execution_count": null,
   "metadata": {
    "collapsed": true
   },
   "outputs": [],
   "source": []
  }
 ],
 "metadata": {
  "kernelspec": {
   "display_name": "Python 2",
   "language": "python",
   "name": "python2"
  },
  "language_info": {
   "codemirror_mode": {
    "name": "ipython",
    "version": 2
   },
   "file_extension": ".py",
   "mimetype": "text/x-python",
   "name": "python",
   "nbconvert_exporter": "python",
   "pygments_lexer": "ipython2",
   "version": "2.7.6"
  }
 },
 "nbformat": 4,
 "nbformat_minor": 2
}
