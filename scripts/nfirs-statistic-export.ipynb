{
 "cells": [
  {
   "cell_type": "code",
   "execution_count": null,
   "metadata": {
    "collapsed": false
   },
   "outputs": [],
   "source": [
    "import sys\n",
    "import os\n",
    "import time\n",
    "import pandas as pd\n",
    "sys.path.insert(0, os.path.realpath('..'))\n",
    "import django\n",
    "django.setup()\n",
    "from django.db import connections\n",
    "from firecares.firestation.models import FireDepartment, FireStation, NFIRSStatistic\n",
    "\n",
    "fdid = '20019'\n",
    "state = 'NJ'\n",
    "years = tuple(map(int, pd.read_sql_query('select distinct(extract(year from inc_date)) as year from buildingfires order by year desc;', connections['nfirs'])['year']))\n",
    "\n",
    "params = dict(fdid=fdid, state=state, years=years)"
   ]
  },
  {
   "cell_type": "markdown",
   "metadata": {},
   "source": [
    "###  Firefighter casualty segmented by structure hazard level vs flat NFIRS statistics"
   ]
  },
  {
   "cell_type": "code",
   "execution_count": null,
   "metadata": {
    "collapsed": false
   },
   "outputs": [],
   "source": [
    "%%time\n",
    "\n",
    "q = \"\"\"select count(1), extract(year from inc_date) as year, COALESCE(b.risk_category, 'N/A') as risk_category\n",
    "FROM ffcasualty a left join (SELECT\n",
    "  *\n",
    "FROM (\n",
    "  SELECT state, \n",
    "    fdid,\n",
    "    inc_date,\n",
    "    inc_no,\n",
    "    exp_no,\n",
    "    geom,\n",
    "    b.parcel_id,\n",
    "    b.wkb_geometry,\n",
    "    b.risk_category,\n",
    "    ROW_NUMBER() OVER (PARTITION BY state, fdid, inc_date, inc_no, exp_no, geom ORDER BY st_distance(st_centroid(b.wkb_geometry), a.geom)) AS r\n",
    "  FROM (select * from incidentaddress where state=%(state)s and fdid=%(fdid)s) a\n",
    "     left join parcel_risk_category_local b on a.geom && b.wkb_geometry\n",
    "     ) x\n",
    "WHERE x.r = 1) b using (state, inc_date, exp_no, fdid, inc_no) where state=%(state)s and fdid=%(fdid)s and extract(year from inc_date) in %(years)s\n",
    "GROUP by extract(year from inc_date), COALESCE(b.risk_category, 'N/A')\n",
    "ORDER BY extract(year from inc_date) DESC\"\"\"\n",
    "    \n",
    "print pd.read_sql_query(q, connections['nfirs'], params=params)"
   ]
  },
  {
   "cell_type": "code",
   "execution_count": null,
   "metadata": {
    "collapsed": false
   },
   "outputs": [],
   "source": [
    "%%time\n",
    "q = \"\"\"select extract(year from inc_date) as year, count(*) from ffcasualty where fdid=%(fdid)s and state=%(state)s and extract(year from inc_date) in %(years)s group by year order by year desc;\"\"\"\n",
    "cur = connections['nfirs'].cursor()\n",
    "\n",
    "cur.\n",
    "\n",
    "\n",
    "print pd.read_sql_query(q, connections['nfirs'], params=params)"
   ]
  },
  {
   "cell_type": "markdown",
   "metadata": {},
   "source": [
    "### Building fires segmented by structure hazard level vs existing NFIRS statistics"
   ]
  },
  {
   "cell_type": "code",
   "execution_count": null,
   "metadata": {
    "collapsed": false,
    "scrolled": false
   },
   "outputs": [],
   "source": [
    "%%time\n",
    "\n",
    "q = \"\"\"select count(1), extract(year from alarm) as year, COALESCE(b.risk_category, 'N/A') as risk_category\n",
    "FROM buildingfires a left join (SELECT\n",
    "  *\n",
    "FROM (\n",
    "  SELECT state,\n",
    "    fdid,\n",
    "    inc_date,\n",
    "    inc_no,\n",
    "    exp_no,\n",
    "    geom,\n",
    "    b.parcel_id,\n",
    "    b.wkb_geometry,\n",
    "    b.risk_category,\n",
    "    ROW_NUMBER() OVER (PARTITION BY state, fdid, inc_date, inc_no, exp_no, geom ORDER BY st_distance(st_centroid(b.wkb_geometry), a.geom)) AS r\n",
    "  FROM (select * from incidentaddress where state=%(state)s and fdid=%(fdid)s) a\n",
    "     left join parcel_risk_category_local b on a.geom && b.wkb_geometry\n",
    "     ) x\n",
    "WHERE x.r = 1) b using (state, inc_date, exp_no, fdid, inc_no) where state=%(state)s and fdid=%(fdid)s and extract(year from alarm) in %(years)s\n",
    "GROUP by extract(year from alarm), COALESCE(b.risk_category, 'N/A')\n",
    "ORDER BY extract(year from alarm) DESC\"\"\"\n",
    "\n",
    "print pd.read_sql_query(q, connections['nfirs'], params=params)"
   ]
  },
  {
   "cell_type": "code",
   "execution_count": null,
   "metadata": {
    "collapsed": false
   },
   "outputs": [],
   "source": [
    "%%time\n",
    "\n",
    "q = \"\"\"select extract(year from inc_date) as year, count(*) from buildingfires where fdid=%(fdid)s and state=%(state)s and extract(year from inc_date) in %(years)s group by year order by year desc;\"\"\"\n",
    "    \n",
    "print pd.read_sql_query(q, connections['nfirs'], params=params)"
   ]
  },
  {
   "cell_type": "markdown",
   "metadata": {},
   "source": [
    "### Civilian casualities segmented by structure hazard level vs existing NFIRS statistics"
   ]
  },
  {
   "cell_type": "code",
   "execution_count": null,
   "metadata": {
    "collapsed": false
   },
   "outputs": [],
   "source": [
    "%%time\n",
    "\n",
    "q = \"\"\"select count(1), extract(year from inc_date) as year, COALESCE(b.risk_category, 'N/A') as risk_category\n",
    "FROM civiliancasualty a left join (SELECT\n",
    "  *\n",
    "FROM (\n",
    "  SELECT state, \n",
    "    fdid,\n",
    "    inc_date,\n",
    "    inc_no,\n",
    "    exp_no,\n",
    "    geom,\n",
    "    b.parcel_id,\n",
    "    b.wkb_geometry,\n",
    "    b.risk_category,\n",
    "    ROW_NUMBER() OVER (PARTITION BY state, fdid, inc_date, inc_no, exp_no, geom ORDER BY st_distance(st_centroid(b.wkb_geometry), a.geom)) AS r\n",
    "  FROM (select * from incidentaddress where state=%(state)s and fdid=%(fdid)s) a\n",
    "     left join parcel_risk_category_local b on a.geom && b.wkb_geometry\n",
    "     ) x\n",
    "WHERE x.r = 1) b using (state, inc_date, exp_no, fdid, inc_no) where state=%(state)s and fdid=%(fdid)s and extract(year from inc_date) in %(years)s\n",
    "GROUP by extract(year from inc_date), COALESCE(b.risk_category, 'N/A')\n",
    "ORDER BY extract(year from inc_date) DESC\"\"\"\n",
    "\n",
    "print pd.read_sql_query(q, connections['nfirs'], params=params)"
   ]
  },
  {
   "cell_type": "code",
   "execution_count": null,
   "metadata": {
    "collapsed": false
   },
   "outputs": [],
   "source": [
    "%%time\n",
    "\n",
    "q = \"\"\"select extract(year from inc_date) as year, count(*) from civiliancasualty where fdid=%(fdid)s and state=%(state)s and extract(year from inc_date) in %(years)s group by year order by year desc;\"\"\"\n",
    "\n",
    "print pd.read_sql_query(q, connections['nfirs'], params=params)"
   ]
  }
 ],
 "metadata": {
  "kernelspec": {
   "display_name": "Django Shell-Plus",
   "language": "python",
   "name": "django_extensions"
  },
  "language_info": {
   "codemirror_mode": {
    "name": "ipython",
    "version": 2
   },
   "file_extension": ".py",
   "mimetype": "text/x-python",
   "name": "python",
   "nbconvert_exporter": "python",
   "pygments_lexer": "ipython2",
   "version": "2.7.6"
  }
 },
 "nbformat": 4,
 "nbformat_minor": 2
}
