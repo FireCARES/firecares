{
 "cells": [
  {
   "cell_type": "code",
   "execution_count": 108,
   "metadata": {
    "collapsed": false
   },
   "outputs": [],
   "source": [
    "import sys\n",
    "import os\n",
    "import time\n",
    "import pandas as pd\n",
    "sys.path.insert(0, os.path.realpath('..'))\n",
    "import django\n",
    "django.setup()\n",
    "from django.db import connections\n",
    "from pretty import pprint\n",
    "from firecares.firestation.models import FireDepartment, FireStation, NFIRSStatistic\n",
    "from django.db.models import Avg, Max, Min, Q\n",
    "from IPython.display import display\n",
    "from firecares.utils import lenient_summation\n",
    "pd.set_option(\"display.max_rows\",100)"
   ]
  },
  {
   "cell_type": "markdown",
   "metadata": {},
   "source": [
    "#### Predictions 2015 csv processing"
   ]
  },
  {
   "cell_type": "code",
   "execution_count": 125,
   "metadata": {
    "collapsed": false
   },
   "outputs": [],
   "source": [
    "fd = FireDepartment.objects.get(id=93345)\n",
    "df = pd.read_csv('/firecares/predictions.2015.csv')\n",
    "cols = ['lr_fire', 'mr_fire', 'h.fire', 'lr_inj', 'mr_inj', 'h.inj', 'lr_death', 'mr_death', 'h.death', 'lr_size_2', 'mr_size_2', 'h.size2', 'lr_size_3', 'mr_size_3', 'h.size3']\n",
    "# Find stats for Richmond, VA\n",
    "richmond = df[df['fd_id'] == 93345]"
   ]
  },
  {
   "cell_type": "code",
   "execution_count": 124,
   "metadata": {
    "collapsed": false
   },
   "outputs": [
    {
     "data": {
      "text/html": [
       "<div style=\"max-height:1000px;max-width:1500px;overflow:auto;\">\n",
       "<table border=\"1\" class=\"dataframe\">\n",
       "  <thead>\n",
       "    <tr style=\"text-align: right;\">\n",
       "      <th></th>\n",
       "      <th></th>\n",
       "      <th>lr_fire</th>\n",
       "      <th>mr_fire</th>\n",
       "      <th>h.fire</th>\n",
       "      <th>lr_inj</th>\n",
       "      <th>mr_inj</th>\n",
       "      <th>h.inj</th>\n",
       "      <th>lr_death</th>\n",
       "      <th>mr_death</th>\n",
       "      <th>h.death</th>\n",
       "      <th>lr_size_2</th>\n",
       "      <th>mr_size_2</th>\n",
       "      <th>h.size2</th>\n",
       "      <th>lr_size_3</th>\n",
       "      <th>mr_size_3</th>\n",
       "      <th>h.size3</th>\n",
       "    </tr>\n",
       "    <tr>\n",
       "      <th>fd_id</th>\n",
       "      <th>state</th>\n",
       "      <th></th>\n",
       "      <th></th>\n",
       "      <th></th>\n",
       "      <th></th>\n",
       "      <th></th>\n",
       "      <th></th>\n",
       "      <th></th>\n",
       "      <th></th>\n",
       "      <th></th>\n",
       "      <th></th>\n",
       "      <th></th>\n",
       "      <th></th>\n",
       "      <th></th>\n",
       "      <th></th>\n",
       "      <th></th>\n",
       "    </tr>\n",
       "  </thead>\n",
       "  <tbody>\n",
       "    <tr>\n",
       "      <th>93345</th>\n",
       "      <th>VA</th>\n",
       "      <td>166.284421</td>\n",
       "      <td>NaN</td>\n",
       "      <td>177.324624</td>\n",
       "      <td>45.619757</td>\n",
       "      <td>4.770429</td>\n",
       "      <td>0.905018</td>\n",
       "      <td>1.747018</td>\n",
       "      <td>NaN</td>\n",
       "      <td>1.279571</td>\n",
       "      <td>29.837817</td>\n",
       "      <td>NaN</td>\n",
       "      <td>110.997977</td>\n",
       "      <td>7.132377</td>\n",
       "      <td>NaN</td>\n",
       "      <td>107.042456</td>\n",
       "    </tr>\n",
       "  </tbody>\n",
       "</table>\n",
       "</div>"
      ],
      "text/plain": [
       "                lr_fire  mr_fire      h.fire     lr_inj    mr_inj     h.inj  \\\n",
       "fd_id state                                                                   \n",
       "93345 VA     166.284421      NaN  177.324624  45.619757  4.770429  0.905018   \n",
       "\n",
       "             lr_death  mr_death   h.death  lr_size_2  mr_size_2     h.size2  \\\n",
       "fd_id state                                                                   \n",
       "93345 VA     1.747018       NaN  1.279571  29.837817        NaN  110.997977   \n",
       "\n",
       "             lr_size_3  mr_size_3     h.size3  \n",
       "fd_id state                                    \n",
       "93345 VA      7.132377        NaN  107.042456  "
      ]
     },
     "execution_count": 124,
     "metadata": {},
     "output_type": "execute_result"
    }
   ],
   "source": [
    "# Sum all Richmond rows\n",
    "df2 = richmond.groupby(['fd_id', 'state'])[cols].sum()\n",
    "df2"
   ]
  },
  {
   "cell_type": "code",
   "execution_count": 123,
   "metadata": {
    "collapsed": false
   },
   "outputs": [
    {
     "data": {
      "text/plain": [
       "Unnamed: 0    19.411049\n",
       "fd_id          0.000000\n",
       "lr_fire        1.786107\n",
       "mr_fire             NaN\n",
       "lr_inj         0.467798\n",
       "mr_inj         0.043219\n",
       "lr_death       0.016622\n",
       "mr_death            NaN\n",
       "lr_size_2      0.025631\n",
       "lr_size_3      0.013128\n",
       "mr_size_2           NaN\n",
       "mr_size_3           NaN\n",
       "h.fire        14.085817\n",
       "h.inj          0.046699\n",
       "h.death        0.130074\n",
       "h.size2        6.108413\n",
       "h.size3        6.650259\n",
       "dtype: float64"
      ]
     },
     "execution_count": 123,
     "metadata": {},
     "output_type": "execute_result"
    }
   ],
   "source": [
    "# High standard deviation for high-risk-level fire values\n",
    "richmond.std()"
   ]
  },
  {
   "cell_type": "code",
   "execution_count": 110,
   "metadata": {
    "collapsed": false
   },
   "outputs": [
    {
     "name": "stdout",
     "output_type": "stream",
     "text": [
      "[{'count': 23, 'year': 2014},\n",
      " {'count': None, 'year': 2013},\n",
      " {'count': 15, 'year': 2012},\n",
      " {'count': 22, 'year': 2011},\n",
      " {'count': 20, 'year': 2010}]\n",
      "Actual average over high-risk structure types per year: 20.0\n"
     ]
    }
   ],
   "source": [
    "# Actuals from NFIRS, average of residential structure fires over years (for high structure risk level)\n",
    "\n",
    "pprint(list(fd.nfirsstatistic_set.filter(metric='residential_structure_fires', year__gte=2010, level=4).values('count', 'year')))\n",
    "\n",
    "high_avg = fd.nfirsstatistic_set.filter(metric='residential_structure_fires', year__gte=2010, level=4).aggregate(Avg('count')).get('count__avg')\n",
    "print 'Actual average over high-risk structure types per year: {}'.format(high_avg)"
   ]
  },
  {
   "cell_type": "code",
   "execution_count": 121,
   "metadata": {
    "collapsed": false
   },
   "outputs": [
    {
     "name": "stdout",
     "output_type": "stream",
     "text": [
      "Predicted # fires for high-risk structures: 395.365056951\n"
     ]
    }
   ],
   "source": [
    "# The current predicted # of fires for high risk structures\n",
    "print 'Predicted # fires for high-risk structures: {}'.format(sum([df2['h.fire'][0], df2['h.size2'][0], df2['h.size3'][0]]))"
   ]
  },
  {
   "cell_type": "markdown",
   "metadata": {},
   "source": [
    "#### Displayed value verification on FireCARES"
   ]
  },
  {
   "cell_type": "code",
   "execution_count": 104,
   "metadata": {
    "collapsed": false
   },
   "outputs": [
    {
     "data": {
      "text/plain": [
       "85.0"
      ]
     },
     "metadata": {},
     "output_type": "display_data"
    },
    {
     "data": {
      "text/plain": [
       "{'all': 251.0, 'high': 20.0, 'low': 85.0, 'medium': 62.0, 'unknown': 117.4}"
      ]
     },
     "metadata": {},
     "output_type": "display_data"
    }
   ],
   "source": [
    "# Verify \"Number of fires -> Average since 2010\" displayed values\n",
    "\n",
    "low = fd.nfirsstatistic_set.filter(metric='residential_structure_fires', year__gte=2010, level=1).aggregate(Avg('count')).get('count__avg')\n",
    "metrics = fd.metrics.residential_fires_3_year_avg\n",
    "\n",
    "assert low == metrics.low\n",
    "\n",
    "display(low)\n",
    "display(metrics)"
   ]
  },
  {
   "cell_type": "code",
   "execution_count": 30,
   "metadata": {
    "collapsed": false
   },
   "outputs": [
    {
     "data": {
      "text/plain": [
       "{'all': 54.3217925804363,\n",
       " 'high': 2.184589854142297,\n",
       " 'low': 47.36677412664759,\n",
       " 'medium': 4.77042859964636,\n",
       " 'unknown': None}"
      ]
     },
     "metadata": {},
     "output_type": "display_data"
    }
   ],
   "source": [
    "# Verify predicted deaths and injuries for \"Low\" structure hazard levels displayed values\n",
    "\n",
    "low = df2['lr_death'][0] + df2['lr_inj'][0]\n",
    "assert abs(low - fd.metrics.deaths_and_injuries_sum.low) < 0.0001\n",
    "display(fd.metrics.deaths_and_injuries_sum)"
   ]
  },
  {
   "cell_type": "code",
   "execution_count": 40,
   "metadata": {
    "collapsed": false
   },
   "outputs": [],
   "source": [
    "# Verify sum of death and injuries over all risk levels\n",
    "v = sum(filter(lambda x: x >= 0, [df2['lr_death'][0], df2['lr_inj'][0], df2['mr_death'][0], df2['mr_inj'][0], df2['h.death'][0], df2['h.inj'][0]]))\n",
    "assert abs(v - fd.metrics.deaths_and_injuries_sum.all) < 0.0001"
   ]
  }
 ],
 "metadata": {
  "kernelspec": {
   "display_name": "Python 2",
   "language": "python",
   "name": "python2"
  },
  "language_info": {
   "codemirror_mode": {
    "name": "ipython",
    "version": 2
   },
   "file_extension": ".py",
   "mimetype": "text/x-python",
   "name": "python",
   "nbconvert_exporter": "python",
   "pygments_lexer": "ipython2",
   "version": "2.7.6"
  }
 },
 "nbformat": 4,
 "nbformat_minor": 2
}
