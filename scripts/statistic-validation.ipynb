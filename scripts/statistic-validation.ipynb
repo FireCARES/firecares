{
 "cells": [
  {
   "cell_type": "code",
   "execution_count": 7,
   "metadata": {
    "collapsed": true
   },
   "outputs": [],
   "source": [
    "import sys\n",
    "import os\n",
    "import time\n",
    "import pandas as pd\n",
    "sys.path.insert(0, os.path.realpath('..'))\n",
    "import django\n",
    "django.setup()\n",
    "from django.db import connections\n",
    "from firecares.firestation.models import FireDepartment, FireStation, NFIRSStatistic\n",
    "from django.db.models import Avg, Max, Min, Q\n",
    "from IPython.display import display"
   ]
  },
  {
   "cell_type": "code",
   "execution_count": 3,
   "metadata": {
    "collapsed": false
   },
   "outputs": [
    {
     "data": {
      "text/html": [
       "<div style=\"max-height:1000px;max-width:1500px;overflow:auto;\">\n",
       "<table border=\"1\" class=\"dataframe\">\n",
       "  <thead>\n",
       "    <tr style=\"text-align: right;\">\n",
       "      <th></th>\n",
       "      <th></th>\n",
       "      <th>lr_fire</th>\n",
       "      <th>mr_fire</th>\n",
       "      <th>h.fire</th>\n",
       "      <th>lr_inj</th>\n",
       "      <th>mr_inj</th>\n",
       "      <th>h.inj</th>\n",
       "      <th>lr_death</th>\n",
       "      <th>mr_death</th>\n",
       "      <th>h.death</th>\n",
       "      <th>lr_size_2</th>\n",
       "      <th>mr_size_2</th>\n",
       "      <th>h.size2</th>\n",
       "      <th>lr_size_3</th>\n",
       "      <th>mr_size_3</th>\n",
       "      <th>h.size3</th>\n",
       "    </tr>\n",
       "    <tr>\n",
       "      <th>fd_id</th>\n",
       "      <th>state</th>\n",
       "      <th></th>\n",
       "      <th></th>\n",
       "      <th></th>\n",
       "      <th></th>\n",
       "      <th></th>\n",
       "      <th></th>\n",
       "      <th></th>\n",
       "      <th></th>\n",
       "      <th></th>\n",
       "      <th></th>\n",
       "      <th></th>\n",
       "      <th></th>\n",
       "      <th></th>\n",
       "      <th></th>\n",
       "      <th></th>\n",
       "    </tr>\n",
       "  </thead>\n",
       "  <tbody>\n",
       "    <tr>\n",
       "      <th>93345</th>\n",
       "      <th>VA</th>\n",
       "      <td>166.284421</td>\n",
       "      <td>NaN</td>\n",
       "      <td>177.324624</td>\n",
       "      <td>45.619757</td>\n",
       "      <td>4.770429</td>\n",
       "      <td>0.905018</td>\n",
       "      <td>1.747018</td>\n",
       "      <td>NaN</td>\n",
       "      <td>1.279571</td>\n",
       "      <td>29.837817</td>\n",
       "      <td>NaN</td>\n",
       "      <td>110.997977</td>\n",
       "      <td>7.132377</td>\n",
       "      <td>NaN</td>\n",
       "      <td>107.042456</td>\n",
       "    </tr>\n",
       "  </tbody>\n",
       "</table>\n",
       "</div>"
      ],
      "text/plain": [
       "                lr_fire  mr_fire      h.fire     lr_inj    mr_inj     h.inj  \\\n",
       "fd_id state                                                                   \n",
       "93345 VA     166.284421      NaN  177.324624  45.619757  4.770429  0.905018   \n",
       "\n",
       "             lr_death  mr_death   h.death  lr_size_2  mr_size_2     h.size2  \\\n",
       "fd_id state                                                                   \n",
       "93345 VA     1.747018       NaN  1.279571  29.837817        NaN  110.997977   \n",
       "\n",
       "             lr_size_3  mr_size_3     h.size3  \n",
       "fd_id state                                    \n",
       "93345 VA      7.132377        NaN  107.042456  "
      ]
     },
     "execution_count": 3,
     "metadata": {},
     "output_type": "execute_result"
    }
   ],
   "source": [
    "fd = FireDepartment.objects.get(id=93345)\n",
    "df = pd.read_csv('/firecares/predictions.2015.csv')\n",
    "cols = ['lr_fire', 'mr_fire', 'h.fire', 'lr_inj', 'mr_inj', 'h.inj', 'lr_death', 'mr_death', 'h.death', 'lr_size_2', 'mr_size_2', 'h.size2', 'lr_size_3', 'mr_size_3', 'h.size3']\n",
    "\n",
    "# Find stats for Richmond\n",
    "df[df['fd_id'] == 93345].groupby(['fd_id', 'state'])[cols].sum()"
   ]
  },
  {
   "cell_type": "code",
   "execution_count": 10,
   "metadata": {
    "collapsed": false
   },
   "outputs": [
    {
     "data": {
      "text/plain": [
       "85.0"
      ]
     },
     "metadata": {},
     "output_type": "display_data"
    },
    {
     "data": {
      "text/plain": [
       "{'all': 251.0, 'high': 20.0, 'low': 85.0, 'medium': 62.0, 'unknown': 117.4}"
      ]
     },
     "metadata": {},
     "output_type": "display_data"
    }
   ],
   "source": [
    "# Verify \"Number of fires -> Average since 2010\"\n",
    "\n",
    "low = fd.nfirsstatistic_set.filter(metric='residential_structure_fires', year__gte=2010, level=1).aggregate(Avg('count')).get('count__avg')\n",
    "metrics = fd.metrics.residential_fires_3_year_avg\n",
    "\n",
    "assert low == metrics.low\n",
    "\n",
    "display(low)\n",
    "display(metrics)"
   ]
  }
 ],
 "metadata": {
  "kernelspec": {
   "display_name": "Python 2",
   "language": "python",
   "name": "python2"
  },
  "language_info": {
   "codemirror_mode": {
    "name": "ipython",
    "version": 2
   },
   "file_extension": ".py",
   "mimetype": "text/x-python",
   "name": "python",
   "nbconvert_exporter": "python",
   "pygments_lexer": "ipython2",
   "version": "2.7.6"
  }
 },
 "nbformat": 4,
 "nbformat_minor": 2
}
